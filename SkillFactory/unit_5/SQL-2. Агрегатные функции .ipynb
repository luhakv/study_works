{
 "cells": [
  {
   "cell_type": "markdown",
   "metadata": {},
   "source": [
    "# Агрегатные функции \n",
    "## Юнит 5. РАБОТА С БАЗАМИ ДАННЫХ. SQL\n",
    "### Skillfactory: DSPR-19"
   ]
  },
  {
   "cell_type": "markdown",
   "metadata": {},
   "source": [
    "### 2.1. Основные агрегатные функции\n",
    " \n",
    "Как и большинство других серверов реляционных баз данных, Postgres, которую мы используем в этом тренажере, поддерживает агрегатные функции. Она позволяет вычислить единственное значение, обработав множество строк.\n",
    "\n",
    "Например, есть агрегатные функции, вычисляющие:\n",
    "\n",
    "- count (количество не пустых значений),\n",
    "- sum (сумму),\n",
    "- avg (среднее),\n",
    "- max (максимум) и\n",
    "- min (минимум) для набора строк.\n"
   ]
  },
  {
   "cell_type": "code",
   "execution_count": null,
   "metadata": {},
   "outputs": [],
   "source": [
    "select max(book_average_rating) as max_rating \n",
    "from books;"
   ]
  },
  {
   "cell_type": "markdown",
   "metadata": {},
   "source": [
    "Запрос выдал нам лишь одну строку — максимальное значение колонки book_average_rating из таблицы books. Агрегатные функции используются, когда нужно посчитать параметры, общие для всех строк таблицы. "
   ]
  },
  {
   "cell_type": "code",
   "execution_count": null,
   "metadata": {},
   "outputs": [],
   "source": [
    "select max(book_average_rating) as max_rating\n",
    "     , min(book_average_rating) as min_rating\n",
    "     , avg(book_average_rating) as average_rating\n",
    "     , sum(book_ratings_count) as books_ratings\n",
    "from books;"
   ]
  },
  {
   "cell_type": "markdown",
   "metadata": {},
   "source": [
    "Предположим, нам нужно вычислить максимальный, минимальный и средний рейтинг книг в таблице, а также сумму количества оценок всех книг и количество самих книг, но только для книг, language_code которых равен 'eng':\n",
    "\n"
   ]
  },
  {
   "cell_type": "code",
   "execution_count": null,
   "metadata": {},
   "outputs": [],
   "source": [
    "select max(book_average_rating) as max_rating\n",
    "     , min(book_average_rating) as min_rating\n",
    "     , avg(book_average_rating) as average_rating\n",
    "     , sum(book_ratings_count) as books_ratings\n",
    "     , count(book_id) as books_count\n",
    "from books\n",
    "where language_code = 'eng';"
   ]
  },
  {
   "cell_type": "markdown",
   "metadata": {},
   "source": [
    "Агрегатным функциям можно также передавать не просто столбцы таблиц, но и их арифметические комбинации:"
   ]
  },
  {
   "cell_type": "code",
   "execution_count": null,
   "metadata": {},
   "outputs": [],
   "source": [
    "select avg(book_average_rating*book_average_rating + 5) as strange_rating\n",
    "from books\n",
    "where language_code = 'eng';"
   ]
  },
  {
   "cell_type": "markdown",
   "metadata": {},
   "source": [
    "**Важно: агрегатные функции min, max, count можно использовать и для строковых типов данных, и для даты-времени.** \n",
    "\n",
    "С агрегатами можно работать так же, как и с обычными столбцами. Например, их можно перемножать или делить. Предположим, мы хотим получить среднее арифметическое по столбцу book_average_rating. Для этого мы можем просто использовать агрегатную функцию avg, а можем поделить сумму рейтингов на их количество:"
   ]
  },
  {
   "cell_type": "markdown",
   "metadata": {},
   "source": [
    "Для подсчёта количества непустых строк можно использовать count(*):"
   ]
  },
  {
   "cell_type": "code",
   "execution_count": null,
   "metadata": {},
   "outputs": [],
   "source": [
    "select count(*) not_null_strings_count\n",
    "from books"
   ]
  },
  {
   "cell_type": "markdown",
   "metadata": {},
   "source": [
    "### Задание 2.1.1\n",
    "Напишите запрос, который находит максимальный book_id и размещает его в столбце с именем max_id (... as max_id) среди книг, у которых рейтинг меньше 4."
   ]
  },
  {
   "cell_type": "code",
   "execution_count": null,
   "metadata": {},
   "outputs": [],
   "source": [
    "select max(book_id) as max_id \n",
    "from books\n",
    "where book_average_rating < 4"
   ]
  },
  {
   "cell_type": "markdown",
   "metadata": {},
   "source": [
    "### Задание 2.1.2\n",
    "Определите средний рейтинг (as average_rating) и минимальное количество оценок книги (min_ratings) для книг Стивена Кинга (Stephen King), изданных позднее 1990 года. Укажите запрос ниже:"
   ]
  },
  {
   "cell_type": "code",
   "execution_count": null,
   "metadata": {},
   "outputs": [],
   "source": [
    "select avg(book_average_rating) as average_rating, min(book_ratings_count) as min_rating\n",
    "from books\n",
    "where author = 'Stephen King' and publishing_year > 1990"
   ]
  },
  {
   "cell_type": "markdown",
   "metadata": {},
   "source": [
    "### Задание 2.1.3\n",
    "Подсчитайте количество непустых строк в столбце book_name (не изменяйте название столбца) среди всех книг с рейтингом < 4 и количеством оценок > 100000."
   ]
  },
  {
   "cell_type": "code",
   "execution_count": null,
   "metadata": {},
   "outputs": [],
   "source": [
    "select count(book_name)\n",
    "from books\n",
    "where book_average_rating <4 and book_ratings_count > 100000"
   ]
  },
  {
   "cell_type": "markdown",
   "metadata": {},
   "source": [
    "### Задание 2.1.4\n",
    "Выведите минимальное значение столбца book_name для книг, у которых (language_code = 'eng' или language_code = 'en-US' и больше 10000 оценок), либо у которых (жанр 'fiction' или год публикации 1957). Скобки в условии указывают порядок действий."
   ]
  },
  {
   "cell_type": "code",
   "execution_count": null,
   "metadata": {},
   "outputs": [],
   "source": [
    "select min(book_name)\n",
    "from books\n",
    "where ((language_code = 'eng' or language_code = 'en-US') and book_ratings_count > 10000) or (genre = 'fiction' or publishing_year = 1957 )"
   ]
  },
  {
   "cell_type": "markdown",
   "metadata": {},
   "source": [
    "### 2.2. DISTINCT и GROUP BY"
   ]
  },
  {
   "cell_type": "markdown",
   "metadata": {},
   "source": [
    "Иногда нужны не все данные из таблицы, а только уникальные значения в столбце. Например, мы хотим получить всех авторов книг в таблице books. Для этого может использоваться команда DISTINCT:"
   ]
  },
  {
   "cell_type": "code",
   "execution_count": null,
   "metadata": {},
   "outputs": [],
   "source": [
    "select distinct author\n",
    "from books\n",
    "order by author;"
   ]
  },
  {
   "cell_type": "markdown",
   "metadata": {},
   "source": [
    "DISTINCT можно применять не только к одному столбцу, но и к нескольким сразу, тогда будут получены все уникальные комбинации столбцов в этих строках:"
   ]
  },
  {
   "cell_type": "code",
   "execution_count": null,
   "metadata": {},
   "outputs": [],
   "source": [
    "select distinct author, publishing_year\n",
    "from books\n",
    "order by author, publishing_year;"
   ]
  },
  {
   "cell_type": "markdown",
   "metadata": {},
   "source": [
    "DISTINCT можно применять не только для вывода уникальных значений, но и внутри агрегатных функций для того, чтобы они применялись только к уникальным элементам определённых столбцов. Например, если мы хотим посчитать количество авторов в нашей базе, то можно написать: "
   ]
  },
  {
   "cell_type": "code",
   "execution_count": null,
   "metadata": {},
   "outputs": [],
   "source": [
    "select count(distinct author) authors_count\n",
    "from books;"
   ]
  },
  {
   "cell_type": "markdown",
   "metadata": {},
   "source": [
    "### Задание 2.2.1\n",
    "Сколько уникальных наименований книг содержится в базе?\n",
    "\n",
    "Ответ: 1045"
   ]
  },
  {
   "cell_type": "code",
   "execution_count": null,
   "metadata": {},
   "outputs": [],
   "source": [
    "select count(distinct book_name) book_name_count\n",
    "from books;"
   ]
  },
  {
   "cell_type": "markdown",
   "metadata": {},
   "source": [
    "GROUP BY используется для определения групп выходных строк, к которым могут применяться агрегатные функции (COUNT, MIN, MAX, AVG и SUM).\n",
    "\n",
    "Если GROUP BY отсутствует, и используются агрегатные функции, то все столбцы с именами, упомянутыми в SELECT, должны быть включены в агрегатные функции. Эти функции будут применяться ко всему набору строк, которые удовлетворяют условию запроса. В противном случае все столбцы списка SELECT, не вошедшие в агрегатные функции, должны быть указаны в предложении GROUP BY.\n",
    "\n",
    "В результате все выходные строки запроса разбиваются на группы, характеризуемые одинаковыми комбинациями значений в этих столбцах. После чего к каждой группе будут применены агрегатные функции. Следует иметь в виду, что для GROUP BY все значения NULL трактуются как равные, то есть при группировке по полю, содержащему NULL-значения, все такие строки попадут в одну группу. \n",
    "\n",
    "Давайте рассмотрим это на простом примере:"
   ]
  },
  {
   "cell_type": "code",
   "execution_count": null,
   "metadata": {},
   "outputs": [],
   "source": [
    "select publishing_year, count(book_id)\n",
    "from books\n",
    "where publishing_year >= 2010\n",
    "group by publishing_year \n",
    "order by publishing_year desc;"
   ]
  },
  {
   "cell_type": "markdown",
   "metadata": {},
   "source": [
    "Мы сначала выделили только те книги, у которых год публикации больше или равен 2010, затем сгруппировали оставшиеся строки по publishing_year (отдельная группа для каждого publishing_year), потом посчитали количество книг (book_id) в каждой группе, а затем отсортировали по publishing_year по убыванию. \n",
    "\n",
    "GROUP BY можно использовать и без агрегатных функций. Тогда его действие будет равносильно действию DISTINCT."
   ]
  },
  {
   "cell_type": "markdown",
   "metadata": {},
   "source": [
    "Сравните вывод двух запросов в Metabase:"
   ]
  },
  {
   "cell_type": "code",
   "execution_count": null,
   "metadata": {},
   "outputs": [],
   "source": [
    "select publishing_year\n",
    "from books\n",
    "group by publishing_year\n",
    "order by publishing_year"
   ]
  },
  {
   "cell_type": "code",
   "execution_count": null,
   "metadata": {},
   "outputs": [],
   "source": [
    "select distinct publishing_year\n",
    "from books\n",
    "order by publishing_year"
   ]
  },
  {
   "cell_type": "markdown",
   "metadata": {},
   "source": [
    "GROUP BY можно использовать для любого количества столбцов (комбинаций столбцов) таблицы. Например, если мы хотим получить средние оценки и количество книг, вышедших с 2005 до 2010 года, в разбивке по жанру и году публикации книги, и отсортировать по убыванию по средней оценки книги в группе, мы можем написать так:\n",
    "\n"
   ]
  },
  {
   "cell_type": "code",
   "execution_count": null,
   "metadata": {},
   "outputs": [],
   "source": [
    "select genre, publishing_year\n",
    "     , avg(book_average_rating) books_rating\n",
    "     , count(book_id) books_count\n",
    "from books\n",
    "where publishing_year between 2005 and 2010\n",
    "group by genre, publishing_year\n",
    "order by books_rating desc;"
   ]
  },
  {
   "cell_type": "markdown",
   "metadata": {},
   "source": [
    "Важно: при использовании GROUP BY сортировка по столбцам вне выдачи невозможна. То есть в случае с последним запросом мы могли бы отсортировать данные только по genre, publishing_year, books_rating, books_count, а по колонке author уже не смогли бы. "
   ]
  },
  {
   "cell_type": "markdown",
   "metadata": {},
   "source": [
    "Для указания столбцов, по которым нужно производить группировку, можно использовать номера столбцов из select (по аналогии с order by) и по алиасам столбцов:"
   ]
  },
  {
   "cell_type": "code",
   "execution_count": null,
   "metadata": {},
   "outputs": [],
   "source": [
    "select author, publishing_year > 1950 after_fifties, count(book_id)\n",
    "from books\n",
    "group by 1, after_fifties;"
   ]
  },
  {
   "cell_type": "markdown",
   "metadata": {},
   "source": [
    "Итак, агрегатные функции, включенные в предложение SELECT запроса, не содержащего GROUP BY, исполняются над всеми результирующими строками этого запроса. Если же запрос содержит GROUP BY, то каждый набор строк, который имеет одинаковые значения столбца или группы столбцов, заданных в предложении GROUP BY, составляют группу, и агрегатные функции выполняются для каждой группы отдельно."
   ]
  },
  {
   "cell_type": "markdown",
   "metadata": {},
   "source": [
    "### Задание 2.2.2\n",
    "1. Какой первый publishing_year выдаст запрос выше?\n",
    "\n",
    "Ответ: -560\n",
    "\n",
    "2. Узнайте среднее количество оценок (book_ratings_count), которые получили книги каждого отдельного автора в нашей базе. Вас интересуют данные о книгах, изданных в 2015 году или позже. Упорядочите данные по имени автора. Сколько в среднем оценок получили книги Харпер Ли? Ответ вводите без разделителей и пробелов.\n",
    "\n",
    "Ответ: 138669\n"
   ]
  },
  {
   "cell_type": "markdown",
   "metadata": {},
   "source": [
    "### Задание 2.2.3\n",
    "Напишите запрос, который выводит топ-5 авторов по количеству написанных книг в период с 1985 до 2015 года.\n",
    "\n",
    "Должны получиться столбцы author и books_count, отсортированные по books_count по убыванию и по author по возрастанию."
   ]
  },
  {
   "cell_type": "code",
   "execution_count": null,
   "metadata": {},
   "outputs": [],
   "source": [
    "select distinct author, \n",
    "    count(book_name) books_count\n",
    "from books\n",
    "where publishing_year between 1985 and 2015\n",
    "group by author\n",
    "order by books_count desc, author asc\n",
    "limit 5"
   ]
  },
  {
   "cell_type": "markdown",
   "metadata": {},
   "source": [
    "### Задание 2.2.4\n",
    "Напишите запрос, который выводит топ 10 авторов, пишущих на английском языке (language_code = 'eng'), в максимальном количестве разных жанров?\n",
    "\n",
    "Вывод должен содержать столбцы author, genres_count и быть отсортирован по genres_count по убыванию и по author по возрастанию."
   ]
  },
  {
   "cell_type": "code",
   "execution_count": null,
   "metadata": {},
   "outputs": [],
   "source": [
    "select author, \n",
    "    count(distinct genre) genres_count\n",
    "from books\n",
    "where language_code = 'eng' \n",
    "group by author\n",
    "order by genres_count desc, author \n",
    "limit 10"
   ]
  },
  {
   "cell_type": "markdown",
   "metadata": {},
   "source": [
    "### Задание 2.2.5\n",
    "Напишите запрос, который выводит все уникальные жанры книг в базе данных на экран. (Итоговый столбец называется genre и не отсортирован, используйте DISTINCT, а не группировку.)"
   ]
  },
  {
   "cell_type": "code",
   "execution_count": null,
   "metadata": {},
   "outputs": [],
   "source": [
    "select distinct genre\n",
    "from books"
   ]
  },
  {
   "cell_type": "markdown",
   "metadata": {},
   "source": [
    "### Задание 2.2.6\n",
    "Напишите запрос, который выведет автора и количество книг, написанных автором в период с 1900 по 2000 годы. Отсортируйте сначала по количеству книг по убыванию, а затем по автору в алфавитом порядке. В получившемся списке выберите шестого.\n",
    "\n",
    "Ответ: Author: Janet Evanovich, Book Count: 5 "
   ]
  },
  {
   "cell_type": "markdown",
   "metadata": {},
   "source": [
    "### 2.3. HAVING\n",
    "Если ключевое слово WHERE определяет фильтрацию строк, то ключевое слово HAVING применяется после группировки (GROUP BY) для определения аналогичной фильтрации, но по значениям агрегатных функций в группах.\n",
    "\n",
    "Это необходимо для проверки значений, которые получены с помощью агрегатной функции не из отдельных строк источника записей, определенного в предложении FROM, а из групп таких строк. Поэтому такая проверка не может содержаться в предложении WHERE.\n",
    "\n",
    "Например, если мы хотим получить список самых плодовитых авторов, которые написали больше 10 книг, мы можем написать:"
   ]
  },
  {
   "cell_type": "code",
   "execution_count": null,
   "metadata": {},
   "outputs": [],
   "source": [
    "select author \n",
    "from books \n",
    "group by author \n",
    "having count(book_id) > 10;"
   ]
  },
  {
   "cell_type": "markdown",
   "metadata": {},
   "source": [
    "В самом SELECT не обязательно указывать агрегатную функцию, которая используется в HAVING. Также заметим, что в предложении HAVING нельзя использовать псевдоним (например, books_count), используемый для именования значений агрегатной функции в предложении SELECT, так как обработка названий столбцов для вывода на экран производится позже, чем фильтрация значений агрегатных функций. \n",
    "\n",
    "Условия в HAVING можно комбинировать также, как и в where, то есть с использованием скобок, and и or: "
   ]
  },
  {
   "cell_type": "code",
   "execution_count": null,
   "metadata": {},
   "outputs": [],
   "source": [
    "select author, count(book_id) books_count\n",
    "from books \n",
    "group by author \n",
    "having count(book_id) > 10 and avg(book_average_rating) > 3.8;"
   ]
  },
  {
   "cell_type": "markdown",
   "metadata": {},
   "source": [
    "### Задание 2.3.1\n",
    "Напишите запрос, который выводит издательства, опубликовавшие больше 100 книг.\n",
    "\n",
    "Необходимые столбцы: publisher, сортировка в алфавитном порядке."
   ]
  },
  {
   "cell_type": "code",
   "execution_count": null,
   "metadata": {},
   "outputs": [],
   "source": [
    "select publisher\n",
    "from books\n",
    "group by publisher\n",
    "having count(book_id) > 100\n",
    "order by publisher asc"
   ]
  },
  {
   "cell_type": "markdown",
   "metadata": {},
   "source": [
    "### Задание 2.3.2\n",
    "Напишите запрос, который выводит список авторов, публиковавших книги с 1940 до 1980 годов в жанре fiction, средний рейтинг книг которых больше, чем 3.9.\n",
    "\n",
    "Необходимые столбцы: author, average_rating. Сортировка по author по возрастанию."
   ]
  },
  {
   "cell_type": "code",
   "execution_count": null,
   "metadata": {},
   "outputs": [],
   "source": [
    "#рабочий запрос, не знаю, где ошибка\n",
    "select author, avg(book_average_rating) average_rating \n",
    "from books\n",
    "group by author, publishing_year, genre\n",
    "having (publishing_year between 1940 and 1980) and genre = 'fiction' and avg(book_average_rating) > 3.9\n",
    "order by author asc"
   ]
  },
  {
   "cell_type": "markdown",
   "metadata": {},
   "source": [
    "### Задание 2.3.3\n",
    "Напишите запрос, который выводит года публикации книг, жанр книг и их количество для каждой комбинации года публикации и жанра из таблицы, если средний рейтинг книг в этой группе меньше 4.2, а количество опубликованных книг больше 5.\n",
    "\n",
    "Необходимые столбцы: publishing_year, genre, books_count с сортировкой по всем столбцам(в таком же порядке, как они перечислены в запросе) в порядке возрастания."
   ]
  },
  {
   "cell_type": "code",
   "execution_count": null,
   "metadata": {},
   "outputs": [],
   "source": [
    "select publishing_year, genre, count(book_id) as books_count\n",
    "from books\n",
    "group by publishing_year, genre\n",
    "having avg(book_average_rating) < 4.2 and count(book_id) > 5\n",
    "order by publishing_year, genre, books_count"
   ]
  },
  {
   "cell_type": "markdown",
   "metadata": {},
   "source": [
    "### 2.4. Подводим итоги"
   ]
  },
  {
   "cell_type": "markdown",
   "metadata": {},
   "source": [
    "### Задание 2.4.1\n",
    "Определите среднее количество оценок, поставленных книгам авторов Stephen King или Amy Tan для книг, опубликованных с 1950 года до 1995 года (обязательно используйте BETWEEN!)."
   ]
  },
  {
   "cell_type": "code",
   "execution_count": null,
   "metadata": {},
   "outputs": [],
   "source": [
    "select avg(book_ratings_count)\n",
    "from books\n",
    "where (author = 'Stephen King' or author = 'Amy Tan') and publishing_year between 1950 and 1995\n",
    "group by author"
   ]
  },
  {
   "cell_type": "markdown",
   "metadata": {},
   "source": [
    "### Задание 2.4.2\n",
    "Напишите запрос, который получает средний рейтинг книг автора по различным жанрам. Выведите топ таких авторов с 3-го до 8-го места включительно. Должны получиться столбцы author, genre, average_rating, отсортированные по убыванию по среднему рейтингу и по возрастанию по автору и жанру."
   ]
  },
  {
   "cell_type": "code",
   "execution_count": null,
   "metadata": {},
   "outputs": [],
   "source": [
    "select author, genre, avg(book_average_rating) as average_rating\n",
    "from books\n",
    "group by author, genre\n",
    "order by average_rating desc, author, genre\n",
    "offset 2\n",
    "limit 6\n"
   ]
  },
  {
   "cell_type": "markdown",
   "metadata": {},
   "source": [
    "### Задание 2.4.3\n",
    "Напишите запрос, который для каждого автора книг, опубликованных после 1930 года, подсчитывает количество издательств, в которых публиковались книги, сумму количества всех оценок таких книг, их средний рейтинг, минимальный и максимальный год публикации.\n",
    "\n",
    "Выведите только таких авторов, которые публиковались хотя бы в двух издательствах и опубликовали хотя бы одну книгу после 1950 года."
   ]
  },
  {
   "cell_type": "code",
   "execution_count": null,
   "metadata": {},
   "outputs": [],
   "source": [
    "select author, count(distinct publisher), sum(book_ratings_count), avg(book_average_rating), min(publishing_year), max(publishing_year)\n",
    "from books\n",
    "where publishing_year > 1930\n",
    "group by author\n",
    "having count(distinct publisher) >=2 and max(publishing_year) > 1950"
   ]
  }
 ],
 "metadata": {
  "kernelspec": {
   "display_name": "Python 3",
   "language": "python",
   "name": "python3"
  },
  "language_info": {
   "codemirror_mode": {
    "name": "ipython",
    "version": 3
   },
   "file_extension": ".py",
   "mimetype": "text/x-python",
   "name": "python",
   "nbconvert_exporter": "python",
   "pygments_lexer": "ipython3",
   "version": "3.8.3"
  }
 },
 "nbformat": 4,
 "nbformat_minor": 4
}
