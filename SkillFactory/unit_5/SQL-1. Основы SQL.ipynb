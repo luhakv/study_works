{
 "cells": [
  {
   "cell_type": "markdown",
   "metadata": {},
   "source": [
    "# Основы SQL \n",
    "## Юнит 5. РАБОТА С БАЗАМИ ДАННЫХ. SQL\n",
    "### Skillfactory: DSPR-19"
   ]
  },
  {
   "cell_type": "markdown",
   "metadata": {},
   "source": [
    "_Работа с Metabase_"
   ]
  },
  {
   "cell_type": "markdown",
   "metadata": {},
   "source": [
    "### 1.6. Таблицы\n",
    "\n",
    "### Задание 1.6.2\n",
    "Напишите запрос, который получает столбцы book_id, book_name, book_average_rating (именно в такой последовательности) из таблицы books.\n",
    "_(Не забывайте перед отправкой кода проверять его работоспособность и соответствие условиям в Metabase!)_"
   ]
  },
  {
   "cell_type": "code",
   "execution_count": null,
   "metadata": {},
   "outputs": [],
   "source": []
  }
 ],
 "metadata": {
  "kernelspec": {
   "display_name": "Python 3",
   "language": "python",
   "name": "python3"
  },
  "language_info": {
   "codemirror_mode": {
    "name": "ipython",
    "version": 3
   },
   "file_extension": ".py",
   "mimetype": "text/x-python",
   "name": "python",
   "nbconvert_exporter": "python",
   "pygments_lexer": "ipython3",
   "version": "3.8.3"
  }
 },
 "nbformat": 4,
 "nbformat_minor": 4
}
