{
 "cells": [
  {
   "cell_type": "markdown",
   "metadata": {},
   "source": [
    "# Основы SQL \n",
    "## Юнит 5. РАБОТА С БАЗАМИ ДАННЫХ. SQL\n",
    "### Skillfactory: DSPR-19"
   ]
  },
  {
   "cell_type": "markdown",
   "metadata": {},
   "source": [
    "_Работа с Metabase_"
   ]
  },
  {
   "cell_type": "markdown",
   "metadata": {},
   "source": [
    "### 1.6. Таблицы\n",
    "\n",
    "### Задание 1.6.2\n",
    "Напишите запрос, который получает столбцы book_id, book_name, book_average_rating (именно в такой последовательности) из таблицы books.\n",
    "_(Не забывайте перед отправкой кода проверять его работоспособность и соответствие условиям в Metabase!)_"
   ]
  },
  {
   "cell_type": "markdown",
   "metadata": {},
   "source": [
    "### Как с помощью SQL получить данные из таблицы?  \n",
    "Чтобы получить данные из определённой таблицы, в SQL используется ключевое слово FROM. Например, чтобы получить данные из столбцов author, book_name, book_id из таблицы books, нужно написать:"
   ]
  },
  {
   "cell_type": "code",
   "execution_count": null,
   "metadata": {},
   "outputs": [],
   "source": [
    "select author, book_name, book_id\n",
    "from books"
   ]
  },
  {
   "cell_type": "markdown",
   "metadata": {},
   "source": [
    "SELECT + FROM\n",
    "Синтаксис select + from достаточно прост:\n",
    "\n",
    "select (названия столбцов через запятую) from (название таблицы)\n",
    "\n",
    "Если же мы хотим получить данные сразу из всех столбцов, нет смысла перечислять их все. Вместо названий столбцов мы просто введем знак *:"
   ]
  },
  {
   "cell_type": "code",
   "execution_count": null,
   "metadata": {},
   "outputs": [],
   "source": [
    "select *\n",
    "from books"
   ]
  },
  {
   "cell_type": "markdown",
   "metadata": {},
   "source": [
    "По умолчанию при выводе столбцы называются так же, как в исходной таблице. Для переименования нужно в SELECT после названия столбца из таблицы написать as:"
   ]
  },
  {
   "cell_type": "code",
   "execution_count": null,
   "metadata": {},
   "outputs": [],
   "source": [
    "select author as author_name \n",
    "from books"
   ]
  },
  {
   "cell_type": "markdown",
   "metadata": {},
   "source": [
    "С колонками можно проводить математические операции. Например, если мы хотим к рейтингу каждой книги добавить 3, нужно сделать следующее:"
   ]
  },
  {
   "cell_type": "code",
   "execution_count": null,
   "metadata": {},
   "outputs": [],
   "source": [
    "select book_average_rating, book_average_rating + 3 as rating_plus_three\n",
    "from books"
   ]
  },
  {
   "cell_type": "markdown",
   "metadata": {},
   "source": [
    "С числовыми столбцами мы тоже можем проводить математические операции:"
   ]
  },
  {
   "cell_type": "code",
   "execution_count": null,
   "metadata": {},
   "outputs": [],
   "source": [
    "select book_average_rating*book_ratings_count/(book_id + 20.)\n",
    "from books"
   ]
  },
  {
   "cell_type": "markdown",
   "metadata": {},
   "source": [
    "#### Что делать в ситуации деления на ноль?\n",
    "Чтобы СУБД не возвращала ошибку, а просто на место деления на 0 ставила NULL (отсутствие значения), существует функция NULLIF(expr1, expr2). Эта функция при равенстве expr1 и expr2 возвращает NULL, а иначе — expr1. Пример использования:\n"
   ]
  },
  {
   "cell_type": "code",
   "execution_count": null,
   "metadata": {},
   "outputs": [],
   "source": [
    "select book_id, book_average_rating/NULLIF((book_id - 20.), 0)\n",
    "from books"
   ]
  },
  {
   "cell_type": "markdown",
   "metadata": {},
   "source": [
    "### Задание 1.6.2\n",
    "Напишите запрос, который получает столбцы book_id, book_name, book_average_rating (именно в такой последовательности) из таблицы books.\n",
    "\n",
    "(Не забывайте перед отправкой кода проверять его работоспособность и соответствие условиям в Metabase!)"
   ]
  },
  {
   "cell_type": "code",
   "execution_count": null,
   "metadata": {},
   "outputs": [],
   "source": [
    "select book_id, book_name, book_average_rating\n",
    "from books"
   ]
  },
  {
   "cell_type": "markdown",
   "metadata": {},
   "source": [
    "### Задание 1.6.3\n",
    "Напишите запрос, который получает все столбцы из таблицы books."
   ]
  },
  {
   "cell_type": "code",
   "execution_count": null,
   "metadata": {},
   "outputs": [],
   "source": [
    "select *\n",
    "from books"
   ]
  },
  {
   "cell_type": "markdown",
   "metadata": {},
   "source": [
    "### Задание 1.7.1\n",
    "Какие столбцы таблицы books имеют целочисленный тип?\n",
    "\n",
    "Ответ:  \n",
    "- book_id\n",
    "- publishing_year\n",
    "- book_ratings_count"
   ]
  },
  {
   "cell_type": "markdown",
   "metadata": {},
   "source": [
    "Для обозначения символьных типов данных используют одинарные кавычки, например, так: SELECT 'Hello, world!' . Двойные кавычки же используют, когда используют название колонок, в котором есть пробелы, либо символы из другого языка, либо когда они конфликтуют с ключевыми словами СУБД. Например: "
   ]
  },
  {
   "cell_type": "code",
   "execution_count": null,
   "metadata": {},
   "outputs": [],
   "source": [
    "select 1 as \"SELECT\", 'hi' as \"Название с пробелом\";"
   ]
  },
  {
   "cell_type": "markdown",
   "metadata": {},
   "source": [
    "### Задание 1.7.2\n",
    "Сколько столбцов с символьными типами данных (не являющихся числом) содержится в таблице books?  \n",
    "\n",
    "Ответ: 6"
   ]
  },
  {
   "cell_type": "code",
   "execution_count": null,
   "metadata": {},
   "outputs": [],
   "source": []
  }
 ],
 "metadata": {
  "kernelspec": {
   "display_name": "Python 3",
   "language": "python",
   "name": "python3"
  },
  "language_info": {
   "codemirror_mode": {
    "name": "ipython",
    "version": 3
   },
   "file_extension": ".py",
   "mimetype": "text/x-python",
   "name": "python",
   "nbconvert_exporter": "python",
   "pygments_lexer": "ipython3",
   "version": "3.8.3"
  }
 },
 "nbformat": 4,
 "nbformat_minor": 4
}
