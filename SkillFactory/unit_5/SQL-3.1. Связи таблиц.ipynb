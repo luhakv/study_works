{
 "cells": [
  {
   "cell_type": "markdown",
   "metadata": {},
   "source": [
    "# Связи таблиц\n",
    "## Юнит 5. РАБОТА С БАЗАМИ ДАННЫХ. SQL\n",
    "### Skillfactory: DSPR-19"
   ]
  },
  {
   "cell_type": "markdown",
   "metadata": {},
   "source": [
    "### 3.1.1. Схема данных\n",
    "### Задание 3.1.1\n",
    "Сколько таблиц вы видите на схеме данных?  \n",
    "\n",
    "Ответ: 5"
   ]
  },
  {
   "cell_type": "markdown",
   "metadata": {},
   "source": [
    "### 3.1.2. Советы по написанию запросов\n",
    "Вы уже научились писать простые SQL-запросы. Чем сложнее они будут становиться, тем сложнее их будет читать и ориентироваться в них. Каждый выбирает удобное ему форматирование и стиль написания, но мы приведем основные принципы, которым желательно следовать.\n",
    "\n",
    "**Отступы и переносы строк**  \n",
    "SQL не чувствителен к отступам и переносам строк внутри запроса, но желательно их делать, чтобы код был читабелен. На работе вы будете часто делиться кодом или читать свой старый код. Ниже приведены оба варианта.\n",
    "\n",
    "Вариант без отступов и переносов:\n",
    "\n"
   ]
  },
  {
   "cell_type": "code",
   "execution_count": null,
   "metadata": {},
   "outputs": [],
   "source": [
    "select city_id, city_name, state, population, area from city where city_id=104"
   ]
  },
  {
   "cell_type": "markdown",
   "metadata": {},
   "source": [
    "Вариант с отступами и переносами:"
   ]
  },
  {
   "cell_type": "code",
   "execution_count": null,
   "metadata": {},
   "outputs": [],
   "source": [
    "select \n",
    "     city_id, \n",
    "     city_name, \n",
    "     state, \n",
    "     population, \n",
    "     area \n",
    "from \n",
    "     city\n",
    "where\n",
    "     city_id = 104"
   ]
  },
  {
   "cell_type": "markdown",
   "metadata": {},
   "source": [
    "**Указатели на таблицу**  \n",
    "Несмотря на то, что пока мы работаем с одной таблицей внутри одного запроса, неплохо приучить себя к именованию таблиц и указанию, из какой таблицы берутся поля. Ведь поля с одинаковыми названиями могут содержаться в различных таблицах.\n",
    "\n",
    "Синтаксис для таких действий очень простой: после указания имени таблицы используйте ключевое слово AS, а за ним укажите короткое имя, которое вы будете использовать для указания принадлежности полей. Ниже запрос с указанным коротким именем таблицы. "
   ]
  },
  {
   "cell_type": "code",
   "execution_count": null,
   "metadata": {},
   "outputs": [],
   "source": [
    "select \n",
    "     c.city_id, \n",
    "     c.city_name, \n",
    "     c.state, \n",
    "     c.population, \n",
    "     c.area \n",
    "from \n",
    "     city as c\n",
    "where\n",
    "     c.city_id = 104"
   ]
  },
  {
   "cell_type": "markdown",
   "metadata": {},
   "source": [
    "Ключевое слово AS можно опустить во многих СУБД. Такой запрос тоже будет работать:\n",
    "\n"
   ]
  },
  {
   "cell_type": "code",
   "execution_count": null,
   "metadata": {},
   "outputs": [],
   "source": [
    "select \n",
    "     c.city_id, \n",
    "     c.city_name, \n",
    "     c.state, \n",
    "     c.population, \n",
    "     c.area \n",
    "from \n",
    "     city as c\n",
    "where\n",
    "     c.city_id = 104"
   ]
  },
  {
   "cell_type": "markdown",
   "metadata": {},
   "source": [
    "### 3.1.3 Знакомство с датасетом. Таблица city"
   ]
  },
  {
   "cell_type": "markdown",
   "metadata": {},
   "source": [
    "### Задание 3.3.1\n",
    "Напишите запрос, который выводит справочник (все поля) городов штата Illinois.\n",
    "(Не забывайте перед отправкой кода проверять его работоспособность и соответствие условиям в Metabase!)"
   ]
  },
  {
   "cell_type": "code",
   "execution_count": null,
   "metadata": {},
   "outputs": [],
   "source": [
    "select *\n",
    "from city\n",
    "where state = 'Illinois'\n"
   ]
  },
  {
   "cell_type": "markdown",
   "metadata": {},
   "source": [
    "### Задание 3.3.2\n",
    "Напишите запрос, который выводит количество городов с населением более 1000000.\n",
    "(Не забывайте перед отправкой кода проверять его работоспособность и соответствие условиям в Metabase!)"
   ]
  },
  {
   "cell_type": "code",
   "execution_count": null,
   "metadata": {},
   "outputs": [],
   "source": [
    "select count(city_name)\n",
    "from city\n",
    "where population > 1000000\n"
   ]
  },
  {
   "cell_type": "markdown",
   "metadata": {},
   "source": [
    "### 3.1.4. Знакомство с датасетом. Таблица customer"
   ]
  },
  {
   "cell_type": "markdown",
   "metadata": {},
   "source": [
    "### Задание 3.4.1\n",
    "Напишите запрос, который выводит среднюю выручку по каждой категории клиентов (cust_type).\n",
    "(Не забывайте перед отправкой кода проверять его работоспособность и соответствие условиям в Metabase!)"
   ]
  },
  {
   "cell_type": "code",
   "execution_count": null,
   "metadata": {},
   "outputs": [],
   "source": [
    "select cust_type, avg(annual_revenue)\n",
    "from customer\n",
    "group by cust_type"
   ]
  },
  {
   "cell_type": "markdown",
   "metadata": {},
   "source": [
    "### Задание 3.4.2\n",
    "А теперь модифицируйте запрос, оставив название только тех типов клиентов, у которых среднегодовой доход больше 25 млн.\n",
    "(Не забывайте перед отправкой кода проверять его работоспособность и соответствие условиям в Metabase!)"
   ]
  },
  {
   "cell_type": "code",
   "execution_count": null,
   "metadata": {},
   "outputs": [],
   "source": [
    "select cust_type, avg(annual_revenue) avg_annual_revenue\n",
    "from customer\n",
    "group by cust_type\n",
    "having avg(annual_revenue)  > 25000000"
   ]
  },
  {
   "cell_type": "markdown",
   "metadata": {},
   "source": [
    "### 3.1.5. Знакомство с датасетом. Таблица driver"
   ]
  },
  {
   "cell_type": "markdown",
   "metadata": {},
   "source": [
    "### Задание 3.5.1\n",
    "Напишите запрос, который позволит вывести фамилию водителя, не указавшего телефон.\n",
    "(Не забывайте перед отправкой кода проверять его работоспособность и соответствие условиям в Metabase!)"
   ]
  },
  {
   "cell_type": "code",
   "execution_count": null,
   "metadata": {},
   "outputs": [],
   "source": [
    "select last_name\n",
    "from driver\n",
    "where phone is null"
   ]
  },
  {
   "cell_type": "markdown",
   "metadata": {},
   "source": [
    "### 3.1.6. Знакомство с датасетом. Таблица truck"
   ]
  },
  {
   "cell_type": "markdown",
   "metadata": {},
   "source": [
    "### Задание 3.6.1\n",
    "Напишите запрос, который выведет количество уникальных производителей грузовиков.\n",
    "(Не забывайте перед отправкой кода проверять его работоспособность и соответствие условиям в Metabase!)"
   ]
  },
  {
   "cell_type": "code",
   "execution_count": null,
   "metadata": {},
   "outputs": [],
   "source": [
    "select count(distinct make)\n",
    "from truck\n"
   ]
  },
  {
   "cell_type": "markdown",
   "metadata": {},
   "source": [
    "### 3.1.7. Знакомство с датасетом. Таблица shipment"
   ]
  },
  {
   "cell_type": "markdown",
   "metadata": {},
   "source": [
    "### Задание 3.7.1\n",
    "Напишите запрос, который выведет идентификатор и вес третьей по весу доставки (сортировка по убыванию).\n",
    "(Не забывайте перед отправкой кода проверять его работоспособность и соответствие условиям в Metabase!)"
   ]
  },
  {
   "cell_type": "code",
   "execution_count": null,
   "metadata": {},
   "outputs": [],
   "source": [
    "select ship_id, weight\n",
    "from shipment\n",
    "order by weight desc \n",
    "offset 2\n",
    "limit 1"
   ]
  },
  {
   "cell_type": "markdown",
   "metadata": {},
   "source": [
    "### 3.1.8. Организация данных в БД\n",
    "Для удобства часто разносят таблицы по разным схемам. Схема — это пространство в БД, объединяющее в себе таблицы и другие объекты, относящиеся к одному бизнес-процессу, источнику или пользователю в зависимости от архитектуры системы. Если проводить аналогию с файловой системой, то схема близка к папке, в которой лежат вложенные объекты (при этом внутри нее не может быть других папок).\n",
    "\n",
    "По аналогии с папками схемы позволяют иметь таблицы с одинаковыми именами, но с различным наполнением. \n",
    "\n",
    "Чтобы указать схему, к которой отправить запрос нужно указать ее имя в разделе from перед именем таблицы. \n",
    "\n"
   ]
  },
  {
   "cell_type": "code",
   "execution_count": null,
   "metadata": {},
   "outputs": [],
   "source": [
    "select \n",
    "    c.city_id, \n",
    "    c.city_name, \n",
    "    c.state, \n",
    "    c.population, \n",
    "    c.area \n",
    "from \n",
    "    shipping.city c\n",
    "where\n",
    "    c.city_id = 104"
   ]
  },
  {
   "cell_type": "markdown",
   "metadata": {},
   "source": [
    "### Задание 3.8.1\n",
    "Какие из перечисленных схем вы видите в Metabase?\n",
    "Посмотрите в Metabase!  \n",
    "\n",
    "Ответ:\n",
    "- public\n",
    "- shipping"
   ]
  },
  {
   "cell_type": "markdown",
   "metadata": {},
   "source": [
    "### Задание 3.8.2\n",
    "Напишите запрос к таблице books в схеме public и в схеме other. В какой из таблиц больше строк?\n",
    "Посмотрите в Metabase!  \n",
    "\n",
    "Ответ:\n",
    "- в таблицах одинаковое число записей"
   ]
  },
  {
   "cell_type": "code",
   "execution_count": null,
   "metadata": {},
   "outputs": [],
   "source": [
    "select count(*) \n",
    "from public.books"
   ]
  },
  {
   "cell_type": "code",
   "execution_count": null,
   "metadata": {},
   "outputs": [],
   "source": [
    "select count(*) \n",
    "from other.books"
   ]
  },
  {
   "cell_type": "markdown",
   "metadata": {},
   "source": [
    "### 3.1.9. Организация в Postgres\n",
    "Каждая СУБД имеет специальную схему с таблицами, в которых хранятся данные обо всех объектах (таблицах, столбцах, связях и др.).  \n",
    "В Postgres эта схема называется information_schema"
   ]
  },
  {
   "cell_type": "markdown",
   "metadata": {},
   "source": [
    "### 3.1.10. information_schema.tables\n",
    "`information_schema.tables` — это список всех таблиц.\n",
    "\n",
    "К этой таблице можно обращаться, чтобы посмотреть имеющиеся в базе данных таблицы. Это делается так же, как и с обычной таблицей. \n",
    "С помощью такого запроса мы можем увидеть список всех таблиц, относящихся к нашему датасету.\n",
    "\n"
   ]
  },
  {
   "cell_type": "code",
   "execution_count": null,
   "metadata": {},
   "outputs": [],
   "source": [
    "select \n",
    "    t.table_schema,\n",
    "    t.table_name\n",
    "from \n",
    "    information_schema.tables t\n",
    "where \n",
    "    t.table_schema = 'shipping'"
   ]
  },
  {
   "cell_type": "markdown",
   "metadata": {},
   "source": [
    "### Задание 3.10.1\n",
    "Напишите запрос, который посчитает, сколько таблиц в схеме public.\n",
    "\n",
    "(Не забывайте перед отправкой кода проверять его работоспособность и соответствие условиям в Metabase!)"
   ]
  },
  {
   "cell_type": "code",
   "execution_count": null,
   "metadata": {},
   "outputs": [],
   "source": [
    "select \n",
    "    t.table_schema, count(t.table_name)\n",
    "from \n",
    "    information_schema.tables t\n",
    "where \n",
    "    t.table_schema = 'public'\n",
    "group by \n",
    "    t.table_schema"
   ]
  },
  {
   "cell_type": "code",
   "execution_count": null,
   "metadata": {},
   "outputs": [],
   "source": [
    "# Показывает ответ цифрой, ответ принимается платформой\n",
    "select \n",
    "    count(t.table_name)\n",
    "from \n",
    "    information_schema.tables t\n",
    "where \n",
    "    t.table_schema = 'public'"
   ]
  },
  {
   "cell_type": "markdown",
   "metadata": {},
   "source": [
    "### 3.1.11. information_schema.columns\n",
    "С помощью таблицы information_schema.columns можно посмотреть данные обо всех столбцах в таблицах, их типах и свойствах.  \n",
    "\n",
    "С помощью такого запроса мы можем увидеть список всех полей и их типов в таблице city в схеме shipping.\n",
    "\n"
   ]
  },
  {
   "cell_type": "code",
   "execution_count": null,
   "metadata": {},
   "outputs": [],
   "source": [
    "select \n",
    "    c.table_schema,\n",
    "    c.table_name,\n",
    "    c.column_name,\n",
    "    c.data_type,\n",
    "    c.ordinal_position\n",
    "from \n",
    "    information_schema.columns c\n",
    "where \n",
    "    c.table_schema = 'shipping'\n",
    "    and c.table_name = 'city'"
   ]
  },
  {
   "cell_type": "markdown",
   "metadata": {},
   "source": [
    "### Задание 3.11.1\n",
    "Напишите запрос, который выведет самый частый тип в таблицах схемы public.\n",
    "\n",
    "(Не забывайте перед отправкой кода проверять его работоспособность и соответствие условиям в Metabase!)"
   ]
  },
  {
   "cell_type": "code",
   "execution_count": null,
   "metadata": {},
   "outputs": [],
   "source": [
    "select \n",
    "    c.data_type\n",
    "from \n",
    "    information_schema.columns c\n",
    "where \n",
    "    c.table_schema = 'public'\n",
    "group by \n",
    "    c.data_type\n",
    "order by \n",
    "    count(c.data_type) desc\n",
    "limit 1"
   ]
  },
  {
   "cell_type": "markdown",
   "metadata": {},
   "source": [
    "### Задание 3.11.2\n",
    "Напишите запрос, который выведет количество таблиц в схеме shipping, в которых есть столбцы типа numeric.\n",
    "\n",
    "(Не забывайте перед отправкой кода проверять его работоспособность и соответствие условиям в Metabase!)"
   ]
  },
  {
   "cell_type": "code",
   "execution_count": null,
   "metadata": {},
   "outputs": [],
   "source": [
    "select \n",
    "     count(c.data_type)\n",
    "from \n",
    "     information_schema.columns c\n",
    "where \n",
    "     c.table_schema = 'shipping' and\n",
    "     c.data_type = 'numeric'\n"
   ]
  },
  {
   "cell_type": "markdown",
   "metadata": {},
   "source": [
    "### 3.1.12. information_schema.table_constraints\n",
    "Таблица, в которой хранится информация о первичных и внешних ключах в таблицах.\n",
    "\n",
    "С помощью такого запроса мы можем увидеть все ключи таблицы shipment нашего датасета."
   ]
  },
  {
   "cell_type": "code",
   "execution_count": null,
   "metadata": {},
   "outputs": [],
   "source": [
    "select \n",
    "    c.table_schema,\n",
    "    c.table_name,\n",
    "    c.constraint_name,\n",
    "    c.constraint_type\n",
    "from \n",
    "    information_schema.table_constraints c\n",
    "where \n",
    "    c.table_schema = 'shipping'\n",
    "    and c.table_name = 'shipment'\n",
    "    and c.constraint_type in ('PRIMARY KEY','FOREIGN KEY')"
   ]
  },
  {
   "cell_type": "markdown",
   "metadata": {},
   "source": [
    "### Задание 3.12.1\n",
    "Напишите запрос, который выведет количество таблиц с первичными ключами в схеме public.\n",
    "\n",
    "(Не забывайте перед отправкой кода проверять его работоспособность и соответствие условиям в Metabase!)"
   ]
  },
  {
   "cell_type": "code",
   "execution_count": null,
   "metadata": {},
   "outputs": [],
   "source": [
    "select \n",
    "    count(c.table_name)\n",
    "from \n",
    "    information_schema.table_constraints c\n",
    "where \n",
    "    c.table_schema = 'public'\n",
    "    and c.constraint_type in ('PRIMARY KEY')"
   ]
  }
 ],
 "metadata": {
  "kernelspec": {
   "display_name": "Python 3",
   "language": "python",
   "name": "python3"
  },
  "language_info": {
   "codemirror_mode": {
    "name": "ipython",
    "version": 3
   },
   "file_extension": ".py",
   "mimetype": "text/x-python",
   "name": "python",
   "nbconvert_exporter": "python",
   "pygments_lexer": "ipython3",
   "version": "3.8.3"
  }
 },
 "nbformat": 4,
 "nbformat_minor": 4
}
