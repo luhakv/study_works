{
 "cells": [
  {
   "cell_type": "markdown",
   "metadata": {},
   "source": [
    "## Юнит 5. Основные алгоритмы машинного обучения. Часть I \n",
    "### Skillfactory: DSPR-19\n",
    "### MATH&STAT-6. Оптимизация для Machine Learning "
   ]
  },
  {
   "cell_type": "markdown",
   "metadata": {},
   "source": [
    "### 1. Вступление к модулю\n"
   ]
  },
  {
   "cell_type": "markdown",
   "metadata": {},
   "source": [
    "### Задание 1.1\n",
    "Какие из этих задач являются задачами оптимизации?  \n",
    "Ответ: \n",
    "- Найти кратчайший путь между двумя городами\n",
    "- Найти минимум функции \n",
    "\n"
   ]
  },
  {
   "cell_type": "markdown",
   "metadata": {},
   "source": [
    "### Задание 1.2\n",
    "Какие из этих задач можно переформулировать как задачу оптимизации?  \n",
    "Ответ:\n",
    "- Найти кратчайший путь между двумя городами\n",
    "- Решить уравнение \n",
    "- Найти минимум функции"
   ]
  },
  {
   "cell_type": "markdown",
   "metadata": {},
   "source": [
    "### Задание 1.3\n",
    "Какие из этих задач являются задачами оптимизации с условиями?  \n",
    "Ответ:\n",
    "- Найти положительный х, при котором функция  принимает наибольшее значение"
   ]
  },
  {
   "cell_type": "markdown",
   "metadata": {},
   "source": [
    "### Задание 1.4\n",
    "Выберите все верные утверждения  \n",
    "Ответ: \n",
    "- Любую задачу минимизации функции можно свести к максимизации\n",
    "- Любую задачу максимизации функции можно свести к минимизации\n",
    "- Условная оптимизация является частным случаем задачи оптимизации\n",
    "\n"
   ]
  },
  {
   "cell_type": "markdown",
   "metadata": {},
   "source": [
    "### 2. Метод Лагранжа\n"
   ]
  },
  {
   "cell_type": "code",
   "execution_count": null,
   "metadata": {},
   "outputs": [],
   "source": []
  }
 ],
 "metadata": {
  "kernelspec": {
   "display_name": "Python 3",
   "language": "python",
   "name": "python3"
  },
  "language_info": {
   "codemirror_mode": {
    "name": "ipython",
    "version": 3
   },
   "file_extension": ".py",
   "mimetype": "text/x-python",
   "name": "python",
   "nbconvert_exporter": "python",
   "pygments_lexer": "ipython3",
   "version": "3.8.3"
  }
 },
 "nbformat": 4,
 "nbformat_minor": 4
}
