{
 "cells": [
  {
   "cell_type": "markdown",
   "metadata": {},
   "source": [
    "# Соединения таблиц\n",
    "## Юнит 5. РАБОТА С БАЗАМИ ДАННЫХ. SQL\n",
    "### Skillfactory: DSPR-19"
   ]
  },
  {
   "cell_type": "markdown",
   "metadata": {},
   "source": [
    "### 3.2.1. JOIN. Синтаксис"
   ]
  },
  {
   "cell_type": "markdown",
   "metadata": {},
   "source": [
    "JOIN — оператор для выполнения соединений. Его нужно писать в разделе from между таблицами, которые хотим соединить. Оператор JOIN позволяет добавить к кортежам одной таблицы кортеж другой."
   ]
  },
  {
   "cell_type": "code",
   "execution_count": null,
   "metadata": {},
   "outputs": [],
   "source": [
    "from table1 t1 join table2 t2"
   ]
  },
  {
   "cell_type": "markdown",
   "metadata": {},
   "source": [
    "После такой конструкции в разделе on нужно указать условие, по которому мы будем соединять таблицы. Правила написания здесь такие же, как и в where, только здесь используются столбцы из обеих соединяемых таблиц."
   ]
  },
  {
   "cell_type": "code",
   "execution_count": null,
   "metadata": {},
   "outputs": [],
   "source": [
    "from table1 t1 join table2 t2 on t1.id = t2.fk_id"
   ]
  },
  {
   "cell_type": "markdown",
   "metadata": {},
   "source": [
    "Это значит, что к таблице t1 мы присоединяем таблицу t2, к записям из t1 присоединяем только те из t2,  в которых fk_id соответствует id из t1"
   ]
  },
  {
   "cell_type": "markdown",
   "metadata": {},
   "source": [
    "Чтобы соединить таблицу information_schema.tables с таблицей information_schema.columns, нам нужно написать запрос, в котором мы укажем обе таблицы через JOIN и затем в разделе on укажем правило, по которому их нужно соединять — совпадает ли название таблицы и её схема."
   ]
  },
  {
   "cell_type": "code",
   "execution_count": null,
   "metadata": {},
   "outputs": [],
   "source": [
    "select \n",
    "     * --раздел select остается неизменным\n",
    "from \n",
    "     information_schema.\"tables\" t -- указываем первую таблицу, не забываем дать alias\n",
    "     join information_schema.columns c -- пишем join на вторую таблицу \n",
    "         on t.table_name = c.table_name \n",
    "         and t.table_schema = c.table_schema \n",
    "-- в разделе ON пишем логическое условие любой сложности\n",
    "Ключевое слово INNER писать необязательно. Если просто написать JOIN"
   ]
  },
  {
   "cell_type": "markdown",
   "metadata": {},
   "source": [
    "Результатом такого запроса будет таблица, в которой будут все столбцы из первой и из второй таблицы — сначала из tables, потом из соответствующих ей columns. \n",
    "\n",
    "Ключевое слово INNER писать необязательно. Если просто написать JOIN, то он по умолчанию будет считаться внутренним (INNER)."
   ]
  },
  {
   "cell_type": "code",
   "execution_count": null,
   "metadata": {},
   "outputs": [],
   "source": []
  }
 ],
 "metadata": {
  "kernelspec": {
   "display_name": "Python 3",
   "language": "python",
   "name": "python3"
  },
  "language_info": {
   "codemirror_mode": {
    "name": "ipython",
    "version": 3
   },
   "file_extension": ".py",
   "mimetype": "text/x-python",
   "name": "python",
   "nbconvert_exporter": "python",
   "pygments_lexer": "ipython3",
   "version": "3.8.3"
  }
 },
 "nbformat": 4,
 "nbformat_minor": 4
}
