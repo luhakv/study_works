{
 "cells": [
  {
   "cell_type": "markdown",
   "metadata": {},
   "source": [
    "# Соединения таблиц\n",
    "## Юнит 5. РАБОТА С БАЗАМИ ДАННЫХ. SQL\n",
    "### Skillfactory: DSPR-19"
   ]
  },
  {
   "cell_type": "markdown",
   "metadata": {},
   "source": [
    "### 3.2.1. JOIN. Синтаксис"
   ]
  },
  {
   "cell_type": "markdown",
   "metadata": {},
   "source": [
    "JOIN — оператор для выполнения соединений. Его нужно писать в разделе from между таблицами, которые хотим соединить. Оператор JOIN позволяет добавить к кортежам одной таблицы кортеж другой."
   ]
  },
  {
   "cell_type": "code",
   "execution_count": null,
   "metadata": {},
   "outputs": [],
   "source": [
    "from table1 t1 join table2 t2"
   ]
  },
  {
   "cell_type": "markdown",
   "metadata": {},
   "source": [
    "После такой конструкции в разделе on нужно указать условие, по которому мы будем соединять таблицы. Правила написания здесь такие же, как и в where, только здесь используются столбцы из обеих соединяемых таблиц."
   ]
  },
  {
   "cell_type": "code",
   "execution_count": null,
   "metadata": {},
   "outputs": [],
   "source": [
    "from table1 t1 join table2 t2 on t1.id = t2.fk_id"
   ]
  },
  {
   "cell_type": "markdown",
   "metadata": {},
   "source": [
    "Это значит, что к таблице t1 мы присоединяем таблицу t2, к записям из t1 присоединяем только те из t2,  в которых fk_id соответствует id из t1"
   ]
  },
  {
   "cell_type": "markdown",
   "metadata": {},
   "source": [
    "Чтобы соединить таблицу information_schema.tables с таблицей information_schema.columns, нам нужно написать запрос, в котором мы укажем обе таблицы через JOIN и затем в разделе on укажем правило, по которому их нужно соединять — совпадает ли название таблицы и её схема."
   ]
  },
  {
   "cell_type": "code",
   "execution_count": null,
   "metadata": {},
   "outputs": [],
   "source": [
    "select \n",
    "     * --раздел select остается неизменным\n",
    "from \n",
    "     information_schema.\"tables\" t -- указываем первую таблицу, не забываем дать alias\n",
    "     join information_schema.columns c -- пишем join на вторую таблицу \n",
    "         on t.table_name = c.table_name \n",
    "         and t.table_schema = c.table_schema \n",
    "-- в разделе ON пишем логическое условие любой сложности\n",
    "Ключевое слово INNER писать необязательно. Если просто написать JOIN"
   ]
  },
  {
   "cell_type": "markdown",
   "metadata": {},
   "source": [
    "Результатом такого запроса будет таблица, в которой будут все столбцы из первой и из второй таблицы — сначала из tables, потом из соответствующих ей columns. \n",
    "\n",
    "Ключевое слово INNER писать необязательно. Если просто написать JOIN, то он по умолчанию будет считаться внутренним (INNER)."
   ]
  },
  {
   "cell_type": "markdown",
   "metadata": {},
   "source": [
    "### Задание 3.2.1.1\n",
    "Почему в запросе указано соединение и по table_name, и по table_schema?\n",
    "\n",
    "Ответ: Потому что в разных схемах могут быть таблицы с одинаковыми именами "
   ]
  },
  {
   "cell_type": "markdown",
   "metadata": {},
   "source": [
    "### 3.2.2. Комментирование\n",
    "\n",
    "Чтобы код был читаемым и понятным, хороший аналитик всегда оставляет подсказки и разъяснения прямо в коде. \n",
    "\n",
    "В различных СУБД для комментирования используются разные символы, в Postgres это два дефиса (--). Все символы, которые идут в строке после двух дефисов, будут игнорироваться исполнителем запроса и не будут влиять на результат."
   ]
  },
  {
   "cell_type": "markdown",
   "metadata": {},
   "source": [
    "### Задание 3.2.2.1\n",
    "Напишите запрос в Metabase, который считает среднее население города в таблице shipping.city. Сохраните или скопируйте его результат.\n",
    "\n",
    "После этого в поле ответа напишите запрос, который выводит количество городов с населением выше среднего (подставив результат предыдущего запроса в условие) и оставьте любой комментарий, объясняющий, откуда было взято это число.\n",
    "\n",
    "(Не забывайте перед отправкой кода проверять его работоспособность и соответствие условиям в Metabase!)"
   ]
  },
  {
   "cell_type": "code",
   "execution_count": null,
   "metadata": {},
   "outputs": [],
   "source": [
    "Получена из этого запроса:\n",
    " select avg(population) from shipping.city\n",
    " 165718.755407653910\n",
    "*/\n",
    "SELECT count(c.city_id) -- count(DISTINCT city_name) этот вариант платформа приняла\n",
    "FROM city c\n",
    "WHERE population > 165718.76 -- 165718.755407653910\n",
    "\n",
    "\n",
    "-- |------\n",
    "-- | Второе решение - более точное. Так как отбрасывает повторяющиеся города\n",
    "-- |\n",
    "SELECT \n",
    "    count(DISTINCT city_name)\n",
    "FROM city\n",
    "WHERE population > (select avg(population) from city LIMIT 1)"
   ]
  },
  {
   "cell_type": "markdown",
   "metadata": {},
   "source": [
    "### Многострочное комментирование\n",
    "Можно не просто комментировать строки, но и написать любой объемный комментарий, используя блок из символов */.\n",
    "\n",
    "Например:"
   ]
  },
  {
   "cell_type": "code",
   "execution_count": null,
   "metadata": {},
   "outputs": [],
   "source": [
    "select \n",
    "     * /*мы указали звездочку, чтобы выбрать все поля*/\n",
    "from \n",
    "     information_schema.\"tables\" t \n",
    "      join information_schema.columns c \n",
    "        on t.table_name = c.table_name \n",
    "        and t.table_schema = c.table_schema\n",
    "/*\n",
    "в этом примере мы изучили \n",
    "- синтаксис оператора JOIN\n",
    "- возможности комментирования кода\n",
    "*/ "
   ]
  },
  {
   "cell_type": "markdown",
   "metadata": {},
   "source": [
    "Такой комментарий может располагаться где угодно в коде, содержать переносы строк и любые символы. Все, что лежит между /* и */, не будет влиять на выполнение запроса. \n",
    "\n",
    "Помимо смыслового описания запросов, комментирование используется в процессе написания запроса: если нам нужно убрать какой-то кусок запроса для проверки, мы можем закомментировать блок кода и выполнить оставшуюся часть.\n",
    "\n",
    "Возьмите запрос, который мы разбирали, и скопируйте в Metabase.\n"
   ]
  },
  {
   "cell_type": "code",
   "execution_count": null,
   "metadata": {},
   "outputs": [],
   "source": [
    "select \n",
    "     t.table_name,c.column_name \n",
    "from \n",
    "     information_schema.\"tables\" t \n",
    "      join information_schema.columns c \n",
    "        on t.table_name = c.table_name \n",
    "        and t.table_schema = c.table_schema \n",
    "where t.table_schema = 'shipping'"
   ]
  },
  {
   "cell_type": "markdown",
   "metadata": {},
   "source": [
    "Попробуйте закомментировать:\n",
    "\n",
    "раздел where;\n",
    "одну из колонок;\n",
    "одно из условий в join;\n",
    "весь блок join.\n",
    "Посмотрите, как меняется результат запроса."
   ]
  },
  {
   "cell_type": "markdown",
   "metadata": {},
   "source": [
    "### Задание 3.2.2.2\n",
    "Напишите запрос в Metabase, который считает среднюю площадь города в таблице shipping.city. После этого в поле ответа напишите запрос, который выводит количество городов с площадью выше среднего (подставив результат предыдущего запроса в условие), и оставьте любой комментарий, объясняющий откуда было взято это число, указав код первого запроса, который вы получили в многострочном комментарии.\n",
    "\n",
    "(Не забывайте перед отправкой кода проверять его работоспособность и соответствие условиям в Metabase!)"
   ]
  },
  {
   "cell_type": "code",
   "execution_count": null,
   "metadata": {},
   "outputs": [],
   "source": [
    "SELECT \n",
    "     city_name , area \n",
    "FROM shipping.city c \n",
    "ORDER BY 2 DESC "
   ]
  },
  {
   "cell_type": "code",
   "execution_count": null,
   "metadata": {},
   "outputs": [],
   "source": [
    "/*\n",
    "Средняя площадь города получена из этого запроса:\n",
    "select avg(area) from shipping.city\n",
    "Результат: 56.7266222961730449\n",
    "*/\n",
    "SELECT \n",
    "     count(DISTINCT city_name)\n",
    "FROM shipping.city\n",
    "WHERE area > 56.7266222961730449\n",
    "\n",
    "-- этот вариант платформа не принимает"
   ]
  },
  {
   "cell_type": "code",
   "execution_count": null,
   "metadata": {},
   "outputs": [],
   "source": [
    "-- этот вариант платформа приняла\n",
    "select count(city_name)\n",
    "from shipping.city\n",
    "where area > 56.7266222961730449\n",
    "\n",
    "/*\n",
    "select avg(area) \n",
    "from shipping.city\n",
    "*/"
   ]
  },
  {
   "cell_type": "code",
   "execution_count": null,
   "metadata": {},
   "outputs": [],
   "source": [
    "В примере запроса, который мы разбирали, в списке полей указана *."
   ]
  },
  {
   "cell_type": "code",
   "execution_count": null,
   "metadata": {},
   "outputs": [],
   "source": [
    "select \n",
    "     * --раздел select остается неизменным\n",
    "from \n",
    "     information_schema.\"tables\" t -- указываем первую таблицу, не забываем дать alias\n",
    "       join information_schema.columns c -- пишем join на вторую таблицу \n",
    "         on t.table_name = c.table_name \n",
    "         and t.table_schema = c.table_schema \n",
    "-- в разделе ON пишем логическое условие любой сложности"
   ]
  },
  {
   "cell_type": "markdown",
   "metadata": {},
   "source": [
    "Но при наличии нескольких таблиц в запросе это используется только тогда, когда вы исследуете данные и проверяете работоспособность запроса. \n",
    "\n",
    "Если таблиц несколько, лучше явно указать, из какой таблицы и какие поля вы будете брать.\n",
    "\n",
    "Также возможен следующий синтаксис (применимо не только для join): <table_name>.* . Такая конструкция подразумевает вывод всех столбцов конкретной таблицы. В примере ниже -— вывод всех столбцов таблицы columns.\n",
    "\n"
   ]
  },
  {
   "cell_type": "code",
   "execution_count": null,
   "metadata": {},
   "outputs": [],
   "source": [
    "select \n",
    "     c.* \n",
    "from \n",
    "     information_schema.\"tables\" t\n",
    "       join information_schema.columns c \n",
    "         on t.table_name = c.table_name \n",
    "         and t.table_schema = c.table_schema "
   ]
  },
  {
   "cell_type": "markdown",
   "metadata": {},
   "source": [
    "### 3.2.3. Работа с INNER JOIN\n",
    "\n",
    "Для соединения таблиц чаще всего используются их ключи, например таблица shipping.shipment связана с таблице shipping.driver по полю driver_id, то есть для их соединения нужно указать условие равенства полей driver_id в обеих таблицах."
   ]
  },
  {
   "cell_type": "code",
   "execution_count": null,
   "metadata": {},
   "outputs": [],
   "source": [
    "select *\n",
    "     from\n",
    "         shipping.shipment s\n",
    "             join shipping.driver d on s.driver_id = d.driver_id\n"
   ]
  },
  {
   "cell_type": "markdown",
   "metadata": {},
   "source": [
    "### Задание 3.2.3.1\n",
    "Напишите запрос, который соединяет таблицу доставок с таблицей городов по ключам и выводит все их столбцы.\n",
    "\n",
    "(Не забывайте перед отправкой кода проверять его работоспособность и соответствие условиям в Metabase!)"
   ]
  },
  {
   "cell_type": "code",
   "execution_count": null,
   "metadata": {},
   "outputs": [],
   "source": [
    "select *\n",
    "from shipping.shipment s \n",
    "join shipping.city c on s.city_id = c.city_id"
   ]
  },
  {
   "cell_type": "markdown",
   "metadata": {},
   "source": [
    "Объединив две таблицы, мы можем обращаться ко всем их столбцам в любом порядке.\n",
    "\n"
   ]
  },
  {
   "cell_type": "code",
   "execution_count": null,
   "metadata": {},
   "outputs": [],
   "source": [
    "select \n",
    "     s.ship_id, \n",
    "     d.last_name,\n",
    "     s.truck_id,\n",
    "     d.phone\n",
    "from\n",
    "     shipping.shipment s\n",
    "       join shipping.driver d on s.driver_id = d.driver_id"
   ]
  },
  {
   "cell_type": "markdown",
   "metadata": {},
   "source": [
    "Главное — помнить про указание имени таблицы, из которой берется поле.\n",
    "\n",
    "Без указания имени запрос не выполнится, а вернет ошибку \"SQL Error [42702]: ERROR: column reference \"city_id\" is ambiguous\". Это происходит потому, что столбец с именем city_id есть в обеих таблицах, а обозначает разное.\n",
    "\n",
    "Даже если мы выводим столбец, который совпадает в таблицах по нашему условию объединения, всё равно необходимо указать имя таблицы:\n"
   ]
  },
  {
   "cell_type": "code",
   "execution_count": null,
   "metadata": {},
   "outputs": [],
   "source": [
    "select \n",
    "     s.driver_id,\n",
    "     d.driver_id\n",
    "from\n",
    "     shipping.shipment s\n",
    "        join shipping.driver d on s.driver_id = d.driver_id"
   ]
  },
  {
   "cell_type": "markdown",
   "metadata": {},
   "source": [
    "### Задание 3.2.3.2\n",
    "Выведите все уникальные пары идентификаторов города доставки и города клиента, имеющиеся в таблице с доставками.\n",
    "\n",
    "(Не забывайте перед отправкой кода проверять его работоспособность и соответствие условиям в Metabase!)"
   ]
  },
  {
   "cell_type": "code",
   "execution_count": null,
   "metadata": {},
   "outputs": [],
   "source": [
    "select distinct s.city_id, c.city_id\n",
    "from shipping.shipment s \n",
    "join shipping.customer c \n",
    "on s.cust_id = c.cust_id \n"
   ]
  },
  {
   "cell_type": "markdown",
   "metadata": {},
   "source": [
    "### Группировка и сортировка\n",
    "После объединения таблиц можно использовать все уже изученные функции группировки и сортировки:\n",
    "\n"
   ]
  },
  {
   "cell_type": "code",
   "execution_count": null,
   "metadata": {},
   "outputs": [],
   "source": [
    "select \n",
    "     d.last_name,\n",
    "     count(distinct s.city_id) uniq_cities\n",
    "from\n",
    "     shipping.shipment s\n",
    "        join shipping.driver d on s.driver_id = d.driver_id\n",
    "group by d.last_name\n",
    "order by count(distinct s.city_id) desc\n",
    "limit 5\n",
    "offset 1"
   ]
  },
  {
   "cell_type": "markdown",
   "metadata": {},
   "source": [
    "### Задание 3.2.3.3\n",
    "Выведите название второго города по числу доставок и количество доставок в нем.\n",
    "\n",
    "(Не забывайте перед отправкой кода проверять его работоспособность и соответствие условиям в Metabase!)"
   ]
  },
  {
   "cell_type": "code",
   "execution_count": null,
   "metadata": {},
   "outputs": [],
   "source": [
    "select c.city_name, count(s.ship_id) count_ship\n",
    "from shipping.shipment s \n",
    "join shipping.city c \n",
    "on s.city_id = c.city_id \n",
    "group by c.city_name\n",
    "order by count_ship desc \n",
    "offset 1 \n",
    "limit 1"
   ]
  },
  {
   "cell_type": "markdown",
   "metadata": {},
   "source": [
    "### Другие поля и операторы  \n",
    "Для объединения таблиц не всегда используются ключи и операторы равенства, можно использовать любые другие поля и операторы. Также можно соединять таблицу с самой собой, задав ей новый алиас (alias). \n",
    "\n",
    "Следующий запрос выводит список всех грузовиков, выпущенных не раньше грузовика с идентификатором 8, исключая этот грузовик:"
   ]
  },
  {
   "cell_type": "code",
   "execution_count": null,
   "metadata": {},
   "outputs": [],
   "source": [
    "select t1.*\n",
    "from shipping.truck t \n",
    "join shipping.truck t1 \n",
    "on t.model_year <= t1.model_year and t.truck_id != t1.truck_id\n",
    "where t.truck_id = 8"
   ]
  },
  {
   "cell_type": "markdown",
   "metadata": {},
   "source": [
    "### Задание 3.2.3.4\n",
    "Выведите среднее население, среднюю площадь и плотность населения городов, чья площадь больше города Paramount. Плотность населения в этом задании рассчитывается как сумма населения, деленная на сумму площади.\n",
    "\n",
    "(Не забывайте перед отправкой кода проверять его работоспособность и соответствие условиям в Metabase!)"
   ]
  },
  {
   "cell_type": "code",
   "execution_count": null,
   "metadata": {},
   "outputs": [],
   "source": [
    "-- посмотрели id города, чтобы задать его в дальнейшем\n",
    "select * \n",
    "from shipping.city\n",
    "where city_name = 'Paramount'\n",
    "\n",
    "select \n",
    "avg(c2.population) avg_population, \n",
    "avg(c2.area) avg_area, \n",
    "sum(c2.population)/sum(c2.area) avg_density\n",
    "\n",
    "from shipping.city c1 \n",
    "join shipping.city c2\n",
    "on c1.area < c2.area and c1.city_id != c2.city_id \n",
    "where c1.city_id = 109"
   ]
  },
  {
   "cell_type": "markdown",
   "metadata": {},
   "source": [
    "### Соединение более двух таблиц\n",
    "Если нужно соединить более двух таблиц, требуется лишь написать еще один JOIN после уже имеющегося:"
   ]
  },
  {
   "cell_type": "code",
   "execution_count": null,
   "metadata": {},
   "outputs": [],
   "source": [
    "select \n",
    ".....\n",
    "from \n",
    "table_A \n",
    "join table_B on ...\n",
    "join table_C on ...\n",
    "join table_D on ..."
   ]
  },
  {
   "cell_type": "markdown",
   "metadata": {},
   "source": [
    "В случае INNER JOIN порядок таблиц не имеет значения, но рекомендуется выстраивать их в смысловом порядке. Также необходимо, чтобы в левой части запроса (до join) были все столбцы, на которые накладываются условия. В противном случае запрос выполнится с ошибкой.\n",
    "\n",
    "Следующий запрос выводит количество доставок по дате, году выпуска грузовика и названию города доставки:"
   ]
  },
  {
   "cell_type": "code",
   "execution_count": null,
   "metadata": {},
   "outputs": [],
   "source": [
    "select \n",
    "        s.ship_date,\n",
    "        t.model_year,\n",
    "        c.city_name,\n",
    "        count(*) shipments\n",
    "from \n",
    "        shipping.shipment s\n",
    "            join shipping.truck t on s.truck_id = t.truck_id\n",
    "            join shipping.city c on s.city_id = c.city_id\n",
    "group by\n",
    "        s.ship_date,\n",
    "        t.model_year,\n",
    "        c.city_name"
   ]
  },
  {
   "cell_type": "markdown",
   "metadata": {},
   "source": [
    "### Задание 3.2.3.5\n",
    "Выведите имена и фамилии водителей, которые совершали доставки, а также из какого города они родом. Отдельным столбцом выведите последнюю дату таких доставок. Отсортируйте по фамилии водителя в алфавитном порядке.\n",
    "\n",
    "(Не забывайте перед отправкой кода проверять его работоспособность и соответствие условиям в Metabase!)"
   ]
  },
  {
   "cell_type": "code",
   "execution_count": null,
   "metadata": {},
   "outputs": [],
   "source": [
    "select \n",
    "d.first_name, \n",
    "d.last_name, \n",
    "c.city_name, \n",
    "max(s.ship_date) max_ship_date\n",
    "\n",
    "from \n",
    "shipping.driver d\n",
    "join shipping.city c on c.city_id = d.city_id\n",
    "join shipping.shipment s on d.driver_id = s.driver_id \n",
    "group by \n",
    "d.first_name, \n",
    "d.last_name, \n",
    "c.city_name \n",
    "order by d.last_name"
   ]
  },
  {
   "cell_type": "markdown",
   "metadata": {},
   "source": [
    "### Задание 3.2.3.6\n",
    "Посчитайте количество доставок и среднюю массу груза в разрезе клиентов и города доставки. Выведите таблицу со следующими полями: имя клиента, город доставки, количество доставок и средняя масса груза. Отсортируйте по имени клиента в алфавитном порядке, затем по массе среднего груза по убыванию.\n",
    "\n",
    "Подсказка: количество доставок и средняя масса груза содержатся в таблице shipment, имя клиента содержится в таблице customer, а название городов — в таблице city.\n",
    "\n",
    "(Не забывайте перед отправкой кода проверять его работоспособность и соответствие условиям в Metabase!)"
   ]
  },
  {
   "cell_type": "code",
   "execution_count": null,
   "metadata": {},
   "outputs": [],
   "source": [
    "select\n",
    "cu.cust_name, \n",
    "ci.city_name, \n",
    "count(s.ship_id) count_shipping, \n",
    "avg(s.weight) avg_weight\n",
    "\n",
    "from shipping.shipment s \n",
    "join shipping.customer cu on cu.cust_id = s.cust_id \n",
    "join shipping.city ci on ci.city_id = s.city_id \n",
    "group by cu.cust_name, ci.city_name \n",
    "order by cu.cust_name, avg_weight desc "
   ]
  },
  {
   "cell_type": "code",
   "execution_count": null,
   "metadata": {},
   "outputs": [],
   "source": []
  }
 ],
 "metadata": {
  "kernelspec": {
   "display_name": "Python 3",
   "language": "python",
   "name": "python3"
  },
  "language_info": {
   "codemirror_mode": {
    "name": "ipython",
    "version": 3
   },
   "file_extension": ".py",
   "mimetype": "text/x-python",
   "name": "python",
   "nbconvert_exporter": "python",
   "pygments_lexer": "ipython3",
   "version": "3.8.3"
  }
 },
 "nbformat": 4,
 "nbformat_minor": 4
}
