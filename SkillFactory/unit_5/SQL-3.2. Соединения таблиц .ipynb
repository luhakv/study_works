{
 "cells": [
  {
   "cell_type": "markdown",
   "metadata": {},
   "source": [
    "# Соединения таблиц\n",
    "## Юнит 5. РАБОТА С БАЗАМИ ДАННЫХ. SQL\n",
    "### Skillfactory: DSPR-19"
   ]
  },
  {
   "cell_type": "markdown",
   "metadata": {},
   "source": [
    "### 3.2.1. JOIN. Синтаксис"
   ]
  },
  {
   "cell_type": "markdown",
   "metadata": {},
   "source": [
    "JOIN — оператор для выполнения соединений. Его нужно писать в разделе from между таблицами, которые хотим соединить. Оператор JOIN позволяет добавить к кортежам одной таблицы кортеж другой."
   ]
  },
  {
   "cell_type": "code",
   "execution_count": null,
   "metadata": {},
   "outputs": [],
   "source": [
    "from table1 t1 join table2 t2"
   ]
  },
  {
   "cell_type": "markdown",
   "metadata": {},
   "source": [
    "После такой конструкции в разделе on нужно указать условие, по которому мы будем соединять таблицы. Правила написания здесь такие же, как и в where, только здесь используются столбцы из обеих соединяемых таблиц."
   ]
  },
  {
   "cell_type": "code",
   "execution_count": null,
   "metadata": {},
   "outputs": [],
   "source": [
    "from table1 t1 join table2 t2 on t1.id = t2.fk_id"
   ]
  },
  {
   "cell_type": "markdown",
   "metadata": {},
   "source": [
    "Это значит, что к таблице t1 мы присоединяем таблицу t2, к записям из t1 присоединяем только те из t2,  в которых fk_id соответствует id из t1"
   ]
  },
  {
   "cell_type": "markdown",
   "metadata": {},
   "source": [
    "Чтобы соединить таблицу information_schema.tables с таблицей information_schema.columns, нам нужно написать запрос, в котором мы укажем обе таблицы через JOIN и затем в разделе on укажем правило, по которому их нужно соединять — совпадает ли название таблицы и её схема."
   ]
  },
  {
   "cell_type": "code",
   "execution_count": null,
   "metadata": {},
   "outputs": [],
   "source": [
    "select \n",
    "     * --раздел select остается неизменным\n",
    "from \n",
    "     information_schema.\"tables\" t -- указываем первую таблицу, не забываем дать alias\n",
    "     join information_schema.columns c -- пишем join на вторую таблицу \n",
    "         on t.table_name = c.table_name \n",
    "         and t.table_schema = c.table_schema \n",
    "-- в разделе ON пишем логическое условие любой сложности\n",
    "Ключевое слово INNER писать необязательно. Если просто написать JOIN"
   ]
  },
  {
   "cell_type": "markdown",
   "metadata": {},
   "source": [
    "Результатом такого запроса будет таблица, в которой будут все столбцы из первой и из второй таблицы — сначала из tables, потом из соответствующих ей columns. \n",
    "\n",
    "Ключевое слово INNER писать необязательно. Если просто написать JOIN, то он по умолчанию будет считаться внутренним (INNER)."
   ]
  },
  {
   "cell_type": "markdown",
   "metadata": {},
   "source": [
    "### Задание 3.2.1.1\n",
    "Почему в запросе указано соединение и по table_name, и по table_schema?\n",
    "\n",
    "Ответ: Потому что в разных схемах могут быть таблицы с одинаковыми именами "
   ]
  },
  {
   "cell_type": "markdown",
   "metadata": {},
   "source": [
    "### 3.2.2. Комментирование\n",
    "\n",
    "Чтобы код был читаемым и понятным, хороший аналитик всегда оставляет подсказки и разъяснения прямо в коде. \n",
    "\n",
    "В различных СУБД для комментирования используются разные символы, в Postgres это два дефиса (--). Все символы, которые идут в строке после двух дефисов, будут игнорироваться исполнителем запроса и не будут влиять на результат."
   ]
  },
  {
   "cell_type": "markdown",
   "metadata": {},
   "source": [
    "### Задание 3.2.2.1\n",
    "Напишите запрос в Metabase, который считает среднее население города в таблице shipping.city. Сохраните или скопируйте его результат.\n",
    "\n",
    "После этого в поле ответа напишите запрос, который выводит количество городов с населением выше среднего (подставив результат предыдущего запроса в условие) и оставьте любой комментарий, объясняющий, откуда было взято это число.\n",
    "\n",
    "(Не забывайте перед отправкой кода проверять его работоспособность и соответствие условиям в Metabase!)"
   ]
  },
  {
   "cell_type": "code",
   "execution_count": null,
   "metadata": {},
   "outputs": [],
   "source": [
    "Получена из этого запроса:\n",
    " select avg(population) from shipping.city\n",
    " 165718.755407653910\n",
    "*/\n",
    "SELECT count(c.city_id) -- count(DISTINCT city_name) этот вариант платформа приняла\n",
    "FROM city c\n",
    "WHERE population > 165718.76 -- 165718.755407653910\n",
    "\n",
    "\n",
    "-- |------\n",
    "-- | Второе решение - более точное. Так как отбрасывает повторяющиеся города\n",
    "-- |\n",
    "SELECT \n",
    "    count(DISTINCT city_name)\n",
    "FROM city\n",
    "WHERE population > (select avg(population) from city LIMIT 1)"
   ]
  },
  {
   "cell_type": "markdown",
   "metadata": {},
   "source": [
    "### Многострочное комментирование\n",
    "Можно не просто комментировать строки, но и написать любой объемный комментарий, используя блок из символов */.\n",
    "\n",
    "Например:"
   ]
  },
  {
   "cell_type": "code",
   "execution_count": null,
   "metadata": {},
   "outputs": [],
   "source": [
    "select \n",
    "     * /*мы указали звездочку, чтобы выбрать все поля*/\n",
    "from \n",
    "     information_schema.\"tables\" t \n",
    "      join information_schema.columns c \n",
    "        on t.table_name = c.table_name \n",
    "        and t.table_schema = c.table_schema\n",
    "/*\n",
    "в этом примере мы изучили \n",
    "- синтаксис оператора JOIN\n",
    "- возможности комментирования кода\n",
    "*/ "
   ]
  },
  {
   "cell_type": "markdown",
   "metadata": {},
   "source": [
    "Такой комментарий может располагаться где угодно в коде, содержать переносы строк и любые символы. Все, что лежит между /* и */, не будет влиять на выполнение запроса. \n",
    "\n",
    "Помимо смыслового описания запросов, комментирование используется в процессе написания запроса: если нам нужно убрать какой-то кусок запроса для проверки, мы можем закомментировать блок кода и выполнить оставшуюся часть.\n",
    "\n",
    "Возьмите запрос, который мы разбирали, и скопируйте в Metabase.\n"
   ]
  },
  {
   "cell_type": "code",
   "execution_count": null,
   "metadata": {},
   "outputs": [],
   "source": [
    "select \n",
    "     t.table_name,c.column_name \n",
    "from \n",
    "     information_schema.\"tables\" t \n",
    "      join information_schema.columns c \n",
    "        on t.table_name = c.table_name \n",
    "        and t.table_schema = c.table_schema \n",
    "where t.table_schema = 'shipping'"
   ]
  },
  {
   "cell_type": "markdown",
   "metadata": {},
   "source": [
    "Попробуйте закомментировать:\n",
    "\n",
    "раздел where;\n",
    "одну из колонок;\n",
    "одно из условий в join;\n",
    "весь блок join.\n",
    "Посмотрите, как меняется результат запроса."
   ]
  },
  {
   "cell_type": "markdown",
   "metadata": {},
   "source": [
    "### Задание 3.2.2.2\n",
    "Напишите запрос в Metabase, который считает среднюю площадь города в таблице shipping.city. После этого в поле ответа напишите запрос, который выводит количество городов с площадью выше среднего (подставив результат предыдущего запроса в условие), и оставьте любой комментарий, объясняющий откуда было взято это число, указав код первого запроса, который вы получили в многострочном комментарии.\n",
    "\n",
    "(Не забывайте перед отправкой кода проверять его работоспособность и соответствие условиям в Metabase!)"
   ]
  },
  {
   "cell_type": "code",
   "execution_count": null,
   "metadata": {},
   "outputs": [],
   "source": [
    "SELECT \n",
    "     city_name , area \n",
    "FROM shipping.city c \n",
    "ORDER BY 2 DESC "
   ]
  },
  {
   "cell_type": "code",
   "execution_count": null,
   "metadata": {},
   "outputs": [],
   "source": [
    "/*\n",
    "Средняя площадь города получена из этого запроса:\n",
    "select avg(area) from shipping.city\n",
    "Результат: 56.7266222961730449\n",
    "*/\n",
    "SELECT \n",
    "     count(DISTINCT city_name)\n",
    "FROM shipping.city\n",
    "WHERE area > 56.7266222961730449\n",
    "\n",
    "-- этот вариант платформа не принимает"
   ]
  },
  {
   "cell_type": "code",
   "execution_count": null,
   "metadata": {},
   "outputs": [],
   "source": [
    "-- этот вариант платформа приняла\n",
    "select count(city_name)\n",
    "from shipping.city\n",
    "where area > 56.7266222961730449\n",
    "\n",
    "/*\n",
    "select avg(area) \n",
    "from shipping.city\n",
    "*/"
   ]
  },
  {
   "cell_type": "code",
   "execution_count": null,
   "metadata": {},
   "outputs": [],
   "source": [
    "В примере запроса, который мы разбирали, в списке полей указана *."
   ]
  },
  {
   "cell_type": "code",
   "execution_count": null,
   "metadata": {},
   "outputs": [],
   "source": [
    "select \n",
    "     * --раздел select остается неизменным\n",
    "from \n",
    "     information_schema.\"tables\" t -- указываем первую таблицу, не забываем дать alias\n",
    "       join information_schema.columns c -- пишем join на вторую таблицу \n",
    "         on t.table_name = c.table_name \n",
    "         and t.table_schema = c.table_schema \n",
    "-- в разделе ON пишем логическое условие любой сложности"
   ]
  },
  {
   "cell_type": "markdown",
   "metadata": {},
   "source": [
    "Но при наличии нескольких таблиц в запросе это используется только тогда, когда вы исследуете данные и проверяете работоспособность запроса. \n",
    "\n",
    "Если таблиц несколько, лучше явно указать, из какой таблицы и какие поля вы будете брать.\n",
    "\n",
    "Также возможен следующий синтаксис (применимо не только для join): <table_name>.* . Такая конструкция подразумевает вывод всех столбцов конкретной таблицы. В примере ниже -— вывод всех столбцов таблицы columns.\n",
    "\n"
   ]
  },
  {
   "cell_type": "code",
   "execution_count": null,
   "metadata": {},
   "outputs": [],
   "source": [
    "select \n",
    "     c.* \n",
    "from \n",
    "     information_schema.\"tables\" t\n",
    "       join information_schema.columns c \n",
    "         on t.table_name = c.table_name \n",
    "         and t.table_schema = c.table_schema "
   ]
  },
  {
   "cell_type": "markdown",
   "metadata": {},
   "source": [
    "### 3.2.3. Работа с INNER JOIN\n",
    "\n",
    "Для соединения таблиц чаще всего используются их ключи, например таблица shipping.shipment связана с таблице shipping.driver по полю driver_id, то есть для их соединения нужно указать условие равенства полей driver_id в обеих таблицах."
   ]
  },
  {
   "cell_type": "code",
   "execution_count": null,
   "metadata": {},
   "outputs": [],
   "source": [
    "select *\n",
    "     from\n",
    "         shipping.shipment s\n",
    "             join shipping.driver d on s.driver_id = d.driver_id\n"
   ]
  },
  {
   "cell_type": "markdown",
   "metadata": {},
   "source": [
    "### Задание 3.2.3.1\n",
    "Напишите запрос, который соединяет таблицу доставок с таблицей городов по ключам и выводит все их столбцы.\n",
    "\n",
    "(Не забывайте перед отправкой кода проверять его работоспособность и соответствие условиям в Metabase!)"
   ]
  },
  {
   "cell_type": "code",
   "execution_count": null,
   "metadata": {},
   "outputs": [],
   "source": [
    "select *\n",
    "from shipping.shipment s \n",
    "join shipping.city c on s.city_id = c.city_id"
   ]
  },
  {
   "cell_type": "markdown",
   "metadata": {},
   "source": [
    "Объединив две таблицы, мы можем обращаться ко всем их столбцам в любом порядке.\n",
    "\n"
   ]
  },
  {
   "cell_type": "code",
   "execution_count": null,
   "metadata": {},
   "outputs": [],
   "source": [
    "select \n",
    "     s.ship_id, \n",
    "     d.last_name,\n",
    "     s.truck_id,\n",
    "     d.phone\n",
    "from\n",
    "     shipping.shipment s\n",
    "       join shipping.driver d on s.driver_id = d.driver_id"
   ]
  },
  {
   "cell_type": "markdown",
   "metadata": {},
   "source": [
    "Главное — помнить про указание имени таблицы, из которой берется поле.\n",
    "\n",
    "Без указания имени запрос не выполнится, а вернет ошибку \"SQL Error [42702]: ERROR: column reference \"city_id\" is ambiguous\". Это происходит потому, что столбец с именем city_id есть в обеих таблицах, а обозначает разное.\n",
    "\n",
    "Даже если мы выводим столбец, который совпадает в таблицах по нашему условию объединения, всё равно необходимо указать имя таблицы:\n"
   ]
  },
  {
   "cell_type": "code",
   "execution_count": null,
   "metadata": {},
   "outputs": [],
   "source": [
    "select \n",
    "     s.driver_id,\n",
    "     d.driver_id\n",
    "from\n",
    "     shipping.shipment s\n",
    "        join shipping.driver d on s.driver_id = d.driver_id"
   ]
  },
  {
   "cell_type": "markdown",
   "metadata": {},
   "source": [
    "### Задание 3.2.3.2\n",
    "Выведите все уникальные пары идентификаторов города доставки и города клиента, имеющиеся в таблице с доставками.\n",
    "\n",
    "(Не забывайте перед отправкой кода проверять его работоспособность и соответствие условиям в Metabase!)"
   ]
  },
  {
   "cell_type": "code",
   "execution_count": null,
   "metadata": {},
   "outputs": [],
   "source": [
    "select distinct s.city_id, c.city_id\n",
    "from shipping.shipment s \n",
    "join shipping.customer c \n",
    "on s.cust_id = c.cust_id \n"
   ]
  },
  {
   "cell_type": "markdown",
   "metadata": {},
   "source": [
    "### Группировка и сортировка\n",
    "После объединения таблиц можно использовать все уже изученные функции группировки и сортировки:\n",
    "\n"
   ]
  },
  {
   "cell_type": "code",
   "execution_count": null,
   "metadata": {},
   "outputs": [],
   "source": [
    "select \n",
    "     d.last_name,\n",
    "     count(distinct s.city_id) uniq_cities\n",
    "from\n",
    "     shipping.shipment s\n",
    "        join shipping.driver d on s.driver_id = d.driver_id\n",
    "group by d.last_name\n",
    "order by count(distinct s.city_id) desc\n",
    "limit 5\n",
    "offset 1"
   ]
  },
  {
   "cell_type": "markdown",
   "metadata": {},
   "source": [
    "### Задание 3.2.3.3\n",
    "Выведите название второго города по числу доставок и количество доставок в нем.\n",
    "\n",
    "(Не забывайте перед отправкой кода проверять его работоспособность и соответствие условиям в Metabase!)"
   ]
  },
  {
   "cell_type": "code",
   "execution_count": null,
   "metadata": {},
   "outputs": [],
   "source": [
    "select c.city_name, count(s.ship_id) count_ship\n",
    "from shipping.shipment s \n",
    "join shipping.city c \n",
    "on s.city_id = c.city_id \n",
    "group by c.city_name\n",
    "order by count_ship desc \n",
    "offset 1 \n",
    "limit 1"
   ]
  },
  {
   "cell_type": "markdown",
   "metadata": {},
   "source": [
    "### Другие поля и операторы  \n",
    "Для объединения таблиц не всегда используются ключи и операторы равенства, можно использовать любые другие поля и операторы. Также можно соединять таблицу с самой собой, задав ей новый алиас (alias). \n",
    "\n",
    "Следующий запрос выводит список всех грузовиков, выпущенных не раньше грузовика с идентификатором 8, исключая этот грузовик:"
   ]
  },
  {
   "cell_type": "code",
   "execution_count": null,
   "metadata": {},
   "outputs": [],
   "source": [
    "select t1.*\n",
    "from shipping.truck t \n",
    "join shipping.truck t1 \n",
    "on t.model_year <= t1.model_year and t.truck_id != t1.truck_id\n",
    "where t.truck_id = 8"
   ]
  },
  {
   "cell_type": "markdown",
   "metadata": {},
   "source": [
    "### Задание 3.2.3.4\n",
    "Выведите среднее население, среднюю площадь и плотность населения городов, чья площадь больше города Paramount. Плотность населения в этом задании рассчитывается как сумма населения, деленная на сумму площади.\n",
    "\n",
    "(Не забывайте перед отправкой кода проверять его работоспособность и соответствие условиям в Metabase!)"
   ]
  },
  {
   "cell_type": "code",
   "execution_count": null,
   "metadata": {},
   "outputs": [],
   "source": [
    "-- посмотрели id города, чтобы задать его в дальнейшем\n",
    "select * \n",
    "from shipping.city\n",
    "where city_name = 'Paramount'\n",
    "\n",
    "select \n",
    "avg(c2.population) avg_population, \n",
    "avg(c2.area) avg_area, \n",
    "sum(c2.population)/sum(c2.area) avg_density\n",
    "\n",
    "from shipping.city c1 \n",
    "join shipping.city c2\n",
    "on c1.area < c2.area and c1.city_id != c2.city_id \n",
    "where c1.city_id = 109"
   ]
  },
  {
   "cell_type": "markdown",
   "metadata": {},
   "source": [
    "### Соединение более двух таблиц\n",
    "Если нужно соединить более двух таблиц, требуется лишь написать еще один JOIN после уже имеющегося:"
   ]
  },
  {
   "cell_type": "code",
   "execution_count": null,
   "metadata": {},
   "outputs": [],
   "source": [
    "select \n",
    ".....\n",
    "from \n",
    "table_A \n",
    "join table_B on ...\n",
    "join table_C on ...\n",
    "join table_D on ..."
   ]
  },
  {
   "cell_type": "markdown",
   "metadata": {},
   "source": [
    "В случае INNER JOIN порядок таблиц не имеет значения, но рекомендуется выстраивать их в смысловом порядке. Также необходимо, чтобы в левой части запроса (до join) были все столбцы, на которые накладываются условия. В противном случае запрос выполнится с ошибкой.\n",
    "\n",
    "Следующий запрос выводит количество доставок по дате, году выпуска грузовика и названию города доставки:"
   ]
  },
  {
   "cell_type": "code",
   "execution_count": null,
   "metadata": {},
   "outputs": [],
   "source": [
    "select \n",
    "        s.ship_date,\n",
    "        t.model_year,\n",
    "        c.city_name,\n",
    "        count(*) shipments\n",
    "from \n",
    "        shipping.shipment s\n",
    "            join shipping.truck t on s.truck_id = t.truck_id\n",
    "            join shipping.city c on s.city_id = c.city_id\n",
    "group by\n",
    "        s.ship_date,\n",
    "        t.model_year,\n",
    "        c.city_name"
   ]
  },
  {
   "cell_type": "markdown",
   "metadata": {},
   "source": [
    "### Задание 3.2.3.5\n",
    "Выведите имена и фамилии водителей, которые совершали доставки, а также из какого города они родом. Отдельным столбцом выведите последнюю дату таких доставок. Отсортируйте по фамилии водителя в алфавитном порядке.\n",
    "\n",
    "(Не забывайте перед отправкой кода проверять его работоспособность и соответствие условиям в Metabase!)"
   ]
  },
  {
   "cell_type": "code",
   "execution_count": null,
   "metadata": {},
   "outputs": [],
   "source": [
    "select \n",
    "d.first_name, \n",
    "d.last_name, \n",
    "c.city_name, \n",
    "max(s.ship_date) max_ship_date\n",
    "\n",
    "from \n",
    "shipping.driver d\n",
    "join shipping.city c on c.city_id = d.city_id\n",
    "join shipping.shipment s on d.driver_id = s.driver_id \n",
    "group by \n",
    "d.first_name, \n",
    "d.last_name, \n",
    "c.city_name \n",
    "order by d.last_name"
   ]
  },
  {
   "cell_type": "markdown",
   "metadata": {},
   "source": [
    "### Задание 3.2.3.6\n",
    "Посчитайте количество доставок и среднюю массу груза в разрезе клиентов и города доставки. Выведите таблицу со следующими полями: имя клиента, город доставки, количество доставок и средняя масса груза. Отсортируйте по имени клиента в алфавитном порядке, затем по массе среднего груза по убыванию.\n",
    "\n",
    "Подсказка: количество доставок и средняя масса груза содержатся в таблице shipment, имя клиента содержится в таблице customer, а название городов — в таблице city.\n",
    "\n",
    "(Не забывайте перед отправкой кода проверять его работоспособность и соответствие условиям в Metabase!)"
   ]
  },
  {
   "cell_type": "code",
   "execution_count": null,
   "metadata": {},
   "outputs": [],
   "source": [
    "select\n",
    "cu.cust_name, \n",
    "ci.city_name, \n",
    "count(s.ship_id) count_shipping, \n",
    "avg(s.weight) avg_weight\n",
    "\n",
    "from shipping.shipment s \n",
    "join shipping.customer cu on cu.cust_id = s.cust_id \n",
    "join shipping.city ci on ci.city_id = s.city_id \n",
    "group by cu.cust_name, ci.city_name \n",
    "order by cu.cust_name, avg_weight desc "
   ]
  },
  {
   "cell_type": "markdown",
   "metadata": {},
   "source": [
    "### 3.2.4. OUTER JOIN. Виды"
   ]
  },
  {
   "cell_type": "markdown",
   "metadata": {},
   "source": [
    "Помимо внутреннего соединения существует внешнее соединение — OUTER JOIN.\n",
    "\n",
    "Синтаксически он ничем не отличается от INNER JOIN, поэтому все уже знакомые нам правила написания кода будут работать и здесь.\n",
    "\n",
    "Есть следующие типы внешнего соединения:  \n",
    "\n",
    "- LEFT \n",
    "- RIGHT \n",
    "- FULL  \n",
    "\n",
    "Для понимания того, как устроены соединения в SQL, часто используют диаграммы Венна. Они помогают пространственно представить, как объединяются таблицы. \n",
    "\n"
   ]
  },
  {
   "cell_type": "markdown",
   "metadata": {},
   "source": [
    "### Задание 3.2.4.1\n",
    "Напишите запрос, который выводит все названия штатов и количество клиентов в них, используя LEFT JOIN. Упорядочите список штатов по количеству клиентов по убыванию, а затем по штату в алфавитном порядке.\n",
    "\n",
    "(Не забывайте перед отправкой кода проверять его работоспособность и соответствие условиям в Metabase!)"
   ]
  },
  {
   "cell_type": "code",
   "execution_count": null,
   "metadata": {},
   "outputs": [],
   "source": [
    "select \n",
    "ci.state customer_state, \n",
    "count(cu.cust_id) customer_count \n",
    "from shipping.city ci\n",
    "left join shipping.customer cu on ci.city_id = cu.city_id \n",
    "group by ci.state\n",
    "order by customer_count desc, customer_state"
   ]
  },
  {
   "cell_type": "markdown",
   "metadata": {},
   "source": [
    "### 3.2.5. OUTER JOIN. LEFT JOIN\n",
    "Если говорить про бизнес-применение LEFT JOIN, то их два:\n",
    "\n",
    "Первое и основное — подтянуть данные к основной таблице из другой таблицы, в которой данных может и не быть. \n",
    "Также он применяется  при желании проверить, что не существует записей, «связанных» с левой таблицей. Например, используя LEFT JOIN и проверку IS_NULL, можно найти клиентов, которые никогда не совершали заказ."
   ]
  },
  {
   "cell_type": "code",
   "execution_count": null,
   "metadata": {},
   "outputs": [],
   "source": [
    "select c.cust_id\n",
    "from shipping.customer c \n",
    "left join shipping.shipment s on c.cust_id = s.cust_id\n",
    "where s.ship_id is null"
   ]
  },
  {
   "cell_type": "markdown",
   "metadata": {},
   "source": [
    "Следует помнить: если применить какое-то условие на правую таблицу в разделе  where, то для его выполнения потребуется наличие данных, и join превратится в inner.\n",
    "\n",
    "Разберем на примере.\n",
    "\n",
    "Возьмем два города: в один город доставки есть, а в другой — нет:"
   ]
  },
  {
   "cell_type": "code",
   "execution_count": null,
   "metadata": {},
   "outputs": [],
   "source": [
    "select \n",
    "    c.city_id, \n",
    "    c.city_name,\n",
    "    s.ship_id\n",
    "from shipping.city c\n",
    "    left join shipping.shipment s on s.city_id = c.city_id\n",
    "where c.city_id in (697,698)"
   ]
  },
  {
   "cell_type": "markdown",
   "metadata": {},
   "source": [
    "Теперь попробуем отфильтровать доставки с весом более 1000 кг:"
   ]
  },
  {
   "cell_type": "code",
   "execution_count": null,
   "metadata": {},
   "outputs": [],
   "source": [
    "select \n",
    "    c.city_id, \n",
    "    c.city_name,\n",
    "    s.ship_id\n",
    "from shipping.city c\n",
    "    left join shipping.shipment s on s.city_id = c.city_id\n",
    "where c.city_id in (697,698) and s.weight > 1000"
   ]
  },
  {
   "cell_type": "markdown",
   "metadata": {},
   "source": [
    "Как мы видим из результата запроса, строка с городом 698 исчезла, т. к. в этот город нет доставок. Так получилось потому, что для кортежа (cust_id,city_name,weight) по конкретному городу в столбце weight содержался NULL. Значение NULL не сравнимо ни с чем и при использовании с любыми математическими и логическими операторами, кроме OR (логическое ИЛИ), и возвращает в результате NULL."
   ]
  },
  {
   "cell_type": "markdown",
   "metadata": {},
   "source": [
    "### Задание 3.2.5.1\n",
    "Выполните следующие запросы в Metabase и проверьте, какие из них возвращают значение, отличное от null  \n",
    "\n",
    "select true and null  \n",
    "select true or null  \n",
    "select null is null  \n",
    "select null = null  \n",
    "\n",
    "Ответ:  \n",
    "- select true or null\n",
    "- select null is null"
   ]
  },
  {
   "cell_type": "markdown",
   "metadata": {},
   "source": [
    "### Задание 3.2.5.2\n",
    "Напишите запрос, который выводит названия городов, куда осуществлялись доставки, но их вес меньше 10000. Используйте несколько операторов JOIN на таблицу с доставками. Отсортируйте по названию города.\n",
    "\n",
    "(Не забывайте перед отправкой кода проверять его работоспособность и соответствие условиям в Metabase!)"
   ]
  },
  {
   "cell_type": "code",
   "execution_count": null,
   "metadata": {},
   "outputs": [],
   "source": [
    "select ci.city_name\n",
    "from shipment s\n",
    "join shipment as s2 on s.weight=s2.weight\n",
    "left join city as ci on s2.city_id=ci.city_id\n",
    "where s.weight < 10000\n",
    "group by ci.city_name\n",
    "order by ci.city_name"
   ]
  },
  {
   "cell_type": "markdown",
   "metadata": {},
   "source": [
    "### Задание 3.2.5.3\n",
    "Напишите запрос, который выдает сводную статистику по городам: количество клиентов, заказов и водителей. Оставьте города, в которых хотя бы один из этих показателей ненулевой, и отсортируйте по первому столбцу. Используйте left join для таблицы с городами.\n",
    "\n",
    "(Не забывайте перед отправкой кода проверять его работоспособность и соответствие условиям в Metabase!)"
   ]
  },
  {
   "cell_type": "code",
   "execution_count": null,
   "metadata": {},
   "outputs": [],
   "source": [
    "select \n",
    "ci.city_name,\n",
    "count(distinct cu.cust_id),\n",
    "count(distinct s.ship_id),\n",
    "count(distinct d.driver_id)\n",
    "\n",
    "from city ci\n",
    "left join customer cu on cu.city_id = ci.city_id\n",
    "left join driver d on d.city_id = ci.city_id \n",
    "left join shipment s on s.city_id = ci.city_id \n",
    "group by ci.city_name\n",
    "having (count(cu.cust_id) + count(s.ship_id) + count(d.driver_id) ) > 0\n",
    "order by 1"
   ]
  },
  {
   "cell_type": "markdown",
   "metadata": {},
   "source": [
    "### 3.2.6. FULL OUTER JOIN\n",
    "FULL OUTER JOIN чаще всего встречается в ситуациях, когда схема данных недостаточно нормализованна и нет единых справочников. По сути этот оператор объединяет LEFT и RIGHT JOIN и позволяет сохранить все кортежи из обеих таблиц, связать удовлетворяющие условиям и оставить пустыми кортежи, для которых не нашлось связных.  \n",
    "\n",
    "Для понимания механизма работы давайте разберем следующую задачу: вывести количество клиентов и количество водителей в каждом из почтовых индексов (zip code в нашем датасете). Отсортировать по сумме водителей и клиентов. \n",
    "\n",
    "Разберемся, зачем здесь нужен FULL JOIN. В таблице customer и в таблице driver почтовые коды могут совсем не пересекаться, поэтому INNER JOIN не вернет данные по тем почтовым индексам, где нет ни водителей, ни клиентов.  \n",
    "\n",
    "Проверьте, что по этому запросу в Metabase окажется всего одна строчка результата. \n",
    "\n"
   ]
  },
  {
   "cell_type": "code",
   "execution_count": null,
   "metadata": {},
   "outputs": [],
   "source": [
    "select \n",
    "        c.zip,\n",
    "        count(distinct c.cust_id) customers,\n",
    "        count(distinct d.driver_id) drivers\n",
    "from \n",
    "        shipping.customer c\n",
    "            inner join shipping.driver d on c.zip = d.zip_code\n",
    "group by 1\n",
    "having count(distinct c.cust_id) + count(distinct d.driver_id) >0\n",
    "order by  count(distinct c.cust_id) + count(distinct d.driver_id)  desc"
   ]
  },
  {
   "cell_type": "markdown",
   "metadata": {},
   "source": [
    "При INNER JOIN останутся только те кортежи, в которых удовлетворяется условие соединения.\n",
    "\n",
    "С помощью LEFT JOIN мы можем подтянуть либо ко всем почтовым индексам клиентов соотвествующие индексы водителя, либо ко всем водителям — клиентов.\n",
    "\n",
    "Найдем те почтовые индексы клиентов, которые есть у клиентов, но нет у водителей. Выполните запрос в Metabase и убедитесь, что такие записи есть."
   ]
  },
  {
   "cell_type": "code",
   "execution_count": null,
   "metadata": {},
   "outputs": [],
   "source": [
    "select \n",
    "        count(*)\n",
    "from shipping.customer c\n",
    "        left join  shipping.driver d on c.zip = d.zip_code\n",
    "where d.zip_code is null "
   ]
  },
  {
   "cell_type": "markdown",
   "metadata": {},
   "source": [
    "Проделаем обратную операцию. Убедитесь, что такие записи есть."
   ]
  },
  {
   "cell_type": "code",
   "execution_count": null,
   "metadata": {},
   "outputs": [],
   "source": [
    "select \n",
    "        count(*)\n",
    "from  shipping.driver d\n",
    "        left join  shipping.customer c on c.zip = d.zip_code\n",
    "where c.zip is null"
   ]
  },
  {
   "cell_type": "markdown",
   "metadata": {},
   "source": [
    "На помощь нам придет FULL OUTER JOIN. С его помощью можно решить эту задачу, и результатом будет следующий SQL-запрос:\n",
    "\n"
   ]
  },
  {
   "cell_type": "code",
   "execution_count": null,
   "metadata": {},
   "outputs": [],
   "source": [
    "select \n",
    "        coalesce(c.zip,d.zip_code) zip,\n",
    "        count(distinct c.cust_id) customers,\n",
    "        count(distinct d.driver_id) drivers\n",
    "from \n",
    "        shipping.customer c\n",
    "            full outer join shipping.driver d on c.zip = d.zip_code\n",
    "group by 1\n",
    "having count(distinct c.cust_id) + count(distinct d.driver_id) >0\n",
    "order by  count(distinct c.cust_id) + count(distinct d.driver_id)  desc"
   ]
  },
  {
   "cell_type": "markdown",
   "metadata": {},
   "source": [
    "Синтаксически он мало чем отличается от всех предыдущих JOIN. Интереса заслуживает оператор COALESCE. \n",
    "\n",
    "СOALESCE возвращает первый попавшийся аргумент, отличный от NULL. Если же все аргументы равны NULL, результатом тоже будет NULL. Это часто используется при отображении данных для подстановки некоторого значения по умолчанию вместо значений NULL.\n",
    "\n",
    "В данном примере, если будет заполнен столбец c.zip, то будет взят он, если же значение c.zip пустое (NULL), то будет взято значение d.zip_code, даже если оно пустое:"
   ]
  },
  {
   "cell_type": "code",
   "execution_count": null,
   "metadata": {},
   "outputs": [],
   "source": [
    "coalesce(c.zip,d.zip_code) zip"
   ]
  },
  {
   "cell_type": "markdown",
   "metadata": {},
   "source": [
    "А в этом примере, если значение d.zip_code будет пустым, то будет подставлено значение 123456 — это значение будет значением по умолчанию:"
   ]
  },
  {
   "cell_type": "code",
   "execution_count": null,
   "metadata": {},
   "outputs": [],
   "source": [
    "coalesce(c.zip,d.zip_code,'123456') zip"
   ]
  },
  {
   "cell_type": "markdown",
   "metadata": {},
   "source": [
    "### Задание 3.2.6.1\n",
    "Напишите запрос, который выведет имена всех водителей и их телефоны. В случае, если телефон не заполнен, укажите номер из одних девяток в том же формате. Отсортируйте по имени водителя в алфавитном порядке.\n",
    "\n",
    "(Не забывайте перед отправкой кода проверять его работоспособность и соответствие условиям в Metabase!)"
   ]
  },
  {
   "cell_type": "code",
   "execution_count": null,
   "metadata": {},
   "outputs": [],
   "source": [
    "select \n",
    "d.first_name ,\n",
    "coalesce(d.phone, '(999) 999-9999') phone\n",
    "from driver d \n",
    "order by 1"
   ]
  },
  {
   "cell_type": "markdown",
   "metadata": {},
   "source": [
    "### Задание 3.2.6.2\n",
    "Напишите запрос, который выдает сводную статистику по городам (для идентификации используйте city_id): количество клиентов, заказов и водителей. Не используйте таблицу shipping.city. Оставьте города, в которых хотя бы один из этих показателей ненулевой, отсортируйте по столбцу с id города.\n",
    "\n",
    "(Не забывайте перед отправкой кода проверять его работоспособность и соответствие условиям в Metabase!)"
   ]
  },
  {
   "cell_type": "code",
   "execution_count": null,
   "metadata": {},
   "outputs": [],
   "source": [
    "select \n",
    "coalesce(s.city_id, d.city_id, c.city_id) city_id,\n",
    "count(distinct c.cust_id),\n",
    "count(distinct s.ship_id),\n",
    "count(distinct d.driver_id)\n",
    "\n",
    "from customer c\n",
    "full outer join shipment s on c.city_id = s.city_id\n",
    "full outer join driver d on d.city_id = s.city_id \n",
    "group by 1\n",
    "having (count(c.cust_id) + count(s.ship_id) + count(d.driver_id)) > 0\n",
    "order by 1"
   ]
  },
  {
   "cell_type": "markdown",
   "metadata": {},
   "source": [
    "### 3.2.7. CROSS JOIN\n",
    "Можно осуществлять соединение не только по какому-то условию. Есть возможность соединить каждую запись таблицы с каждой, получив декартово произведение этих таблиц.\n",
    "\n",
    "Для этой операции используется специальный оператор CROSS JOIN. Его синтаксис отличается от синтаксиса предыдущих операторов отсутствием условия.\n",
    "\n",
    "Данным запросом к каждой записи водителя мы присоединим все записи с клиентами."
   ]
  },
  {
   "cell_type": "code",
   "execution_count": null,
   "metadata": {},
   "outputs": [],
   "source": [
    "select *\n",
    "from \n",
    "shipping.driver \n",
    "cross join shipping.customer"
   ]
  },
  {
   "cell_type": "markdown",
   "metadata": {},
   "source": [
    "Альтернативным синтаксисом для CROSS JOIN является просто указание всех таблиц в разделе from через запятую. Это устаревший формат, так как он имеет низкую читабельность. Тем не менее такой синтаксис поддерживается большинством СУБД.\n",
    "\n"
   ]
  },
  {
   "cell_type": "code",
   "execution_count": null,
   "metadata": {},
   "outputs": [],
   "source": [
    "select *\n",
    "from shipping.driver,shipping.customer"
   ]
  },
  {
   "cell_type": "markdown",
   "metadata": {},
   "source": [
    "Также обычный JOIN может перемножить строки, если вместо условия соединения указать логическое true."
   ]
  },
  {
   "cell_type": "code",
   "execution_count": null,
   "metadata": {},
   "outputs": [],
   "source": [
    "select *\n",
    "from shipping.driver join shipping.customer on true"
   ]
  },
  {
   "cell_type": "markdown",
   "metadata": {},
   "source": [
    "Основным применением такого рода JOIN является составление справочников, получение всех возможных комбинаций (для основной таблицы, к которой LEFT JOIN потом будет подтягивать агрегатные метрики), а в дальнейшем создание сводных таблиц в BI-средствах.\n",
    "\n",
    "Хочется отметить, что такой JOIN может сгенерировать очень большое число записей, что сильно скажется на производительности запроса, поэтому его стараются применять реже и на небольших таблицах."
   ]
  },
  {
   "cell_type": "markdown",
   "metadata": {},
   "source": [
    "### Задание 3.2.7.1\n",
    "Напишите запрос, который выводит все возможные уникальные пары даты доставки и имени водителя, упорядоченные по дате и имени по возрастанию.\n",
    "\n",
    "(Не забывайте перед отправкой кода проверять его работоспособность и соответствие условиям в Metabase!)"
   ]
  },
  {
   "cell_type": "code",
   "execution_count": null,
   "metadata": {},
   "outputs": [],
   "source": [
    "select distinct s.ship_date, d.first_name \n",
    "from driver d \n",
    "cross join shipment s\n",
    "order by 1, 2"
   ]
  },
  {
   "cell_type": "markdown",
   "metadata": {},
   "source": [
    "#### Ещё одна возможность использования CROSS JOIN\n",
    "Помимо прямого использования, CROSS JOIN иногда используется вместо INNER JOIN. Для этого нужно поместить условие объединения в where. Наш первый пример из блока INNER JOIN может быть записан вот так (настоятельно рекомендуем не пользоваться такой записью, так как это ухудшает читаемость кода, но стоит быть готовым к такому написанию.):\n",
    "\n"
   ]
  },
  {
   "cell_type": "code",
   "execution_count": null,
   "metadata": {},
   "outputs": [],
   "source": [
    "select \n",
    "        count(*) --раздел select остается неизменным\n",
    "from \n",
    "        information_schema.\"tables\" t -- указываем первую таблицу, не забываем дать alias\n",
    "            cross join information_schema.columns c -- пишем join на вторую таблицу \n",
    "where  t.table_name = c.table_name \n",
    "                and t.table_schema = c.table_schema \n",
    "-- в разделе where пишется логическое условие любой сложности"
   ]
  },
  {
   "cell_type": "markdown",
   "metadata": {},
   "source": [
    "### Задание 3.2.7.2\n",
    "Перепишите следующий запрос, не используя CROSS JOIN:"
   ]
  },
  {
   "cell_type": "code",
   "execution_count": null,
   "metadata": {},
   "outputs": [],
   "source": [
    "select \n",
    "        s.ship_date,\n",
    "        max(c.area) area,\n",
    "        min(t.model_year) model_year\n",
    "from \n",
    "        shipping.shipment s,\n",
    "        shipping.city c,\n",
    "        shipping.truck t\n",
    "where \n",
    "        s.city_id = c.city_id\n",
    "        and s.truck_id = t.truck_id\n",
    "group by 1\n",
    "order by 1\n"
   ]
  },
  {
   "cell_type": "markdown",
   "metadata": {},
   "source": [
    "Результат:"
   ]
  },
  {
   "cell_type": "code",
   "execution_count": null,
   "metadata": {},
   "outputs": [],
   "source": [
    "select \n",
    "        s.ship_date,\n",
    "        max(c.area) area,\n",
    "        min(t.model_year) model_year\n",
    "from \n",
    "        shipping.shipment s\n",
    "        left join shipping.city c on s.city_id = c.city_id \n",
    "        left join shipping.truck t on s.truck_id = t.truck_id \n",
    "group by 1\n",
    "order by 1"
   ]
  }
 ],
 "metadata": {
  "kernelspec": {
   "display_name": "Python 3",
   "language": "python",
   "name": "python3"
  },
  "language_info": {
   "codemirror_mode": {
    "name": "ipython",
    "version": 3
   },
   "file_extension": ".py",
   "mimetype": "text/x-python",
   "name": "python",
   "nbconvert_exporter": "python",
   "pygments_lexer": "ipython3",
   "version": "3.8.3"
  }
 },
 "nbformat": 4,
 "nbformat_minor": 4
}
