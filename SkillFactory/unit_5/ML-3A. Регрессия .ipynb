{
 "cells": [
  {
   "cell_type": "markdown",
   "metadata": {},
   "source": [
    "## Юнит 5. Основные алгоритмы машинного обучения. Часть I \n",
    "### ML-3A. Регрессия "
   ]
  },
  {
   "cell_type": "markdown",
   "metadata": {},
   "source": [
    "План модуля:\n",
    "1. Линейная регрессия.\n",
    "2. Ошибки в линейной регрессии.\n",
    "3. Прямой поиск.\n",
    "4. Логистическая регрессия."
   ]
  },
  {
   "cell_type": "markdown",
   "metadata": {},
   "source": [
    "**Регрессия** — класс задач обучения ***с учителем***, когда по определённому набору признаков объекта нужно предсказать целевую переменную."
   ]
  },
  {
   "cell_type": "markdown",
   "metadata": {},
   "source": [
    "### 3A.2. Линейная регрессия\n",
    "#### Реализация в Python\n",
    "Обучим совсем простую модель, которая будет предсказывать тормозной путь автомобиля в зависимости от скорости."
   ]
  },
  {
   "cell_type": "code",
   "execution_count": 2,
   "metadata": {},
   "outputs": [],
   "source": [
    "import pandas as pd\n",
    "import numpy as np\n",
    "import matplotlib.pyplot as plt"
   ]
  },
  {
   "cell_type": "code",
   "execution_count": 3,
   "metadata": {},
   "outputs": [],
   "source": [
    "myData = pd.read_csv('mycar.csv')"
   ]
  },
  {
   "cell_type": "code",
   "execution_count": 4,
   "metadata": {},
   "outputs": [
    {
     "name": "stdout",
     "output_type": "stream",
     "text": [
      "<class 'pandas.core.frame.DataFrame'>\n",
      "RangeIndex: 49 entries, 0 to 48\n",
      "Data columns (total 2 columns):\n",
      " #   Column         Non-Null Count  Dtype\n",
      "---  ------         --------------  -----\n",
      " 0   Speed          49 non-null     int64\n",
      " 1   Stopping_dist  49 non-null     int64\n",
      "dtypes: int64(2)\n",
      "memory usage: 912.0 bytes\n"
     ]
    }
   ],
   "source": [
    "myData.info()"
   ]
  },
  {
   "cell_type": "code",
   "execution_count": 5,
   "metadata": {},
   "outputs": [
    {
     "data": {
      "text/html": [
       "<div>\n",
       "<style scoped>\n",
       "    .dataframe tbody tr th:only-of-type {\n",
       "        vertical-align: middle;\n",
       "    }\n",
       "\n",
       "    .dataframe tbody tr th {\n",
       "        vertical-align: top;\n",
       "    }\n",
       "\n",
       "    .dataframe thead th {\n",
       "        text-align: right;\n",
       "    }\n",
       "</style>\n",
       "<table border=\"1\" class=\"dataframe\">\n",
       "  <thead>\n",
       "    <tr style=\"text-align: right;\">\n",
       "      <th></th>\n",
       "      <th>Speed</th>\n",
       "      <th>Stopping_dist</th>\n",
       "    </tr>\n",
       "  </thead>\n",
       "  <tbody>\n",
       "    <tr>\n",
       "      <th>0</th>\n",
       "      <td>4</td>\n",
       "      <td>2</td>\n",
       "    </tr>\n",
       "    <tr>\n",
       "      <th>1</th>\n",
       "      <td>4</td>\n",
       "      <td>10</td>\n",
       "    </tr>\n",
       "    <tr>\n",
       "      <th>2</th>\n",
       "      <td>7</td>\n",
       "      <td>4</td>\n",
       "    </tr>\n",
       "    <tr>\n",
       "      <th>3</th>\n",
       "      <td>7</td>\n",
       "      <td>22</td>\n",
       "    </tr>\n",
       "    <tr>\n",
       "      <th>4</th>\n",
       "      <td>8</td>\n",
       "      <td>16</td>\n",
       "    </tr>\n",
       "  </tbody>\n",
       "</table>\n",
       "</div>"
      ],
      "text/plain": [
       "   Speed  Stopping_dist\n",
       "0      4              2\n",
       "1      4             10\n",
       "2      7              4\n",
       "3      7             22\n",
       "4      8             16"
      ]
     },
     "execution_count": 5,
     "metadata": {},
     "output_type": "execute_result"
    }
   ],
   "source": [
    "myData.head(5)"
   ]
  },
  {
   "cell_type": "markdown",
   "metadata": {},
   "source": [
    "У нас здесь всего два признака: один из них будет зависимой переменной, а другой — независимой.  \n",
    "Обозначим их:\n"
   ]
  },
  {
   "cell_type": "code",
   "execution_count": 9,
   "metadata": {},
   "outputs": [],
   "source": [
    "X = myData.iloc[:,:-1].values #Speed\n",
    "Y = myData.iloc[:,1].values  #Stopping_dist"
   ]
  },
  {
   "cell_type": "markdown",
   "metadata": {},
   "source": [
    "Для начала нам необходимо разделить выборку (то есть все наши объекты) на **обучающую** и **тестовую**. Давайте разберемся, зачем это нужно.\n",
    "\n",
    "Дело в том, что нам не столько важно, насколько успешно будет алгоритм давать предсказания на наших данных, сколько важно, чтобы он показывал хорошие результаты на реальных данных, «в бою». Можно привести следующую аналогию: обучающая выборка — это тренировочные примеры для нашего алгоритма, а тестовая — экзаменационные.\n",
    "\n",
    "Обычно выборка делится на обучающую и тестовую не в равных долях: на обучающую  мы берем 70-80 % наблюдений, а на тестовую — 20-30 % наблюдений.\n",
    "\n",
    "Подгрузим нужную функцию для разбиения:"
   ]
  },
  {
   "cell_type": "code",
   "execution_count": 10,
   "metadata": {},
   "outputs": [],
   "source": [
    "from sklearn.model_selection import train_test_split"
   ]
  },
  {
   "cell_type": "markdown",
   "metadata": {},
   "source": [
    "Теперь с помощью этой функции мы получаем независимые и зависимые переменные из обучающей и тестовой выборки. Размер тестовой выборки задаем 0,3."
   ]
  },
  {
   "cell_type": "code",
   "execution_count": 11,
   "metadata": {},
   "outputs": [],
   "source": [
    "X_train, X_test, Y_train, Y_test = train_test_split(X, Y, test_size= 0.3)"
   ]
  },
  {
   "cell_type": "markdown",
   "metadata": {},
   "source": [
    "Теперь обучим модель:"
   ]
  },
  {
   "cell_type": "code",
   "execution_count": 12,
   "metadata": {},
   "outputs": [
    {
     "data": {
      "text/plain": [
       "LinearRegression()"
      ]
     },
     "execution_count": 12,
     "metadata": {},
     "output_type": "execute_result"
    }
   ],
   "source": [
    "from sklearn.linear_model import LinearRegression\n",
    "myModel = LinearRegression() #Обозначаем, что наша модель - линейная регрессия\n",
    "myModel.fit(X_train,Y_train) #обучаем модель на обучающих данных"
   ]
  },
  {
   "cell_type": "markdown",
   "metadata": {},
   "source": [
    "Итак, модель обучена. Что теперь?\n",
    "\n",
    "Теперь можем попробовать предсказать значения зависимой переменной для тестовой выборки:"
   ]
  },
  {
   "cell_type": "code",
   "execution_count": 13,
   "metadata": {},
   "outputs": [
    {
     "data": {
      "text/plain": [
       "array([38.22182297, 42.00279782, 76.03157144, 38.22182297, 45.78377266,\n",
       "       60.90767205, 26.87889843, 57.1266972 , 30.65987328, 19.31694873,\n",
       "       23.09792358, 49.56474751, 45.78377266, 49.56474751, 49.56474751])"
      ]
     },
     "execution_count": 13,
     "metadata": {},
     "output_type": "execute_result"
    }
   ],
   "source": [
    "y_pred = myModel.predict(X_test)\n",
    "y_pred"
   ]
  },
  {
   "cell_type": "markdown",
   "metadata": {},
   "source": [
    "Но как узнать, насколько модель хороша? Для этого мы в будущих уроках научимся сравнивать, насколько предсказанные значения близки к реальным."
   ]
  },
  {
   "cell_type": "markdown",
   "metadata": {},
   "source": [
    "### Задание 3.2.1\n",
    "Какая из этих задач является задачей линейной регрессии?  \n",
    "Ответ:\n",
    "- Предсказание зарплаты на основе опыта работы, образования и т.д"
   ]
  },
  {
   "cell_type": "markdown",
   "metadata": {},
   "source": [
    "### Задание 3.2.2\n",
    "Почему для этих данных не подходит модель линейной регрессии?  \n",
    "Ответ:\n",
    "- Дисперсия шума зависит от x\n",
    "\n",
    "\n"
   ]
  },
  {
   "cell_type": "markdown",
   "metadata": {},
   "source": [
    "### Задание 3.2.3\n",
    "Какой размер будет у матрицы X (матрица признаков) для данных в таблице? Задача — модель предсказания продаж.  \n",
    "Ответ:\n",
    "- (3*2) "
   ]
  },
  {
   "cell_type": "markdown",
   "metadata": {},
   "source": [
    "### 3A.3. Ошибки в линейной регрессии\n"
   ]
  },
  {
   "cell_type": "markdown",
   "metadata": {},
   "source": [
    "Есть несколько способов посчитать ошибку, один из них — средняя квадратичная ошибка (mean squared error, MSE).  \n",
    "  \n",
    "Как правило, при увеличении сложности модели увеличивается **дисперсия** (разброс) оценки, но уменьшается **смещение**. Если модель слабая, то она не в состоянии выучить закономерность, в результате выучивается что-то другое, смещённое относительно правильного решения."
   ]
  },
  {
   "cell_type": "markdown",
   "metadata": {},
   "source": [
    "Построить модель регрессии не так уж и сложно. Но после ее построения возникает логичный вопрос: насколько хорошо она предсказывает нужный нам признак и можно ли улучшить его качество? Для этого надо уметь измерять какие-то показатели, по которым можно судить о качестве модели."
   ]
  },
  {
   "cell_type": "markdown",
   "metadata": {},
   "source": [
    "Для каждого значения переменной Х мы имеет реальное значение и предсказанное. Для того, чтобы оценить качество алгоритма, нам надо научиться определять, насколько предсказанное значения отличается от реального. Есть несколько способов это сделать.\n",
    "\n",
    "**MAE (Mean Absolute Error)**. Чтобы посчитать данную метрику, нужно найти все остатки (разницы между предсказанным значением и реальным), взять от каждого из них модуль, сложить их и поделить на количество. Иными словами, нам нужно найти среднее арифметическое модуля отклонения предсказанного значения от реального.\n",
    "\n",
    "**MSE (Mean Squared Error)**. Логика вычисления данной ошибки очень похожа на предыдущую. Разница лишь в том, что вместо модуля разности между предсказанным значением и реальным мы берем квадрат этого модуля/\n",
    "\n",
    "**RMSE (Root Mean Squared Error)**. Для получения RMSE надо просто извлечь квадратный корень из MSE\n",
    "\n",
    "**MAPE (Mean Absolute Percent Error)** — реже используемая, но все равно важная метрика. Для ее вычисления модуль разницы между предсказанием алгоритма и истинным значением мы делим на истинное значение. Потом складываем все результаты (для каждого объекта), делим на количество и умножаем на 100 %. Итак, эта метрика показывает, на сколько процентов в среднем наше предсказание отклоняется от реального значения."
   ]
  },
  {
   "cell_type": "markdown",
   "metadata": {},
   "source": [
    "Реализация на Python  \n",
    "Подгружаем нужные библиотеки:"
   ]
  },
  {
   "cell_type": "code",
   "execution_count": 15,
   "metadata": {},
   "outputs": [],
   "source": [
    "import pandas as pd               # библиотека для работы с таблицами\n",
    "import numpy as np                # библиотека для работы с матрицами"
   ]
  },
  {
   "cell_type": "markdown",
   "metadata": {},
   "source": [
    "Предположим, что у нас есть показатели уровня счастья для пяти человек:\n",
    "\n"
   ]
  },
  {
   "cell_type": "code",
   "execution_count": 16,
   "metadata": {},
   "outputs": [],
   "source": [
    "y_happy = [4,20,110,15,23]"
   ]
  },
  {
   "cell_type": "markdown",
   "metadata": {},
   "source": [
    "Допустим, у нас есть показатели счастья для этих же пяти человек, но предсказанные некоторым алгоритмом:\n",
    "\n"
   ]
  },
  {
   "cell_type": "code",
   "execution_count": 17,
   "metadata": {},
   "outputs": [],
   "source": [
    "y_happy_pred = [5,15,100,9,21]"
   ]
  },
  {
   "cell_type": "markdown",
   "metadata": {},
   "source": [
    "Давайте вычислим метрики для этих данных!\n",
    "\n"
   ]
  },
  {
   "cell_type": "code",
   "execution_count": 19,
   "metadata": {},
   "outputs": [],
   "source": [
    "from sklearn import metrics  # подгружаем метрики"
   ]
  },
  {
   "cell_type": "code",
   "execution_count": 20,
   "metadata": {},
   "outputs": [
    {
     "name": "stdout",
     "output_type": "stream",
     "text": [
      "4.8\n"
     ]
    }
   ],
   "source": [
    "#Вычисляем MAE:\n",
    "\n",
    "MAE = metrics.mean_absolute_error(y_happy, y_happy_pred)\n",
    "\n",
    "print(MAE)"
   ]
  },
  {
   "cell_type": "code",
   "execution_count": 21,
   "metadata": {},
   "outputs": [
    {
     "name": "stdout",
     "output_type": "stream",
     "text": [
      "33.2\n"
     ]
    }
   ],
   "source": [
    "#Вычисляем MSE:\n",
    "\n",
    "MSE = metrics.mean_squared_error(y_happy, y_happy_pred)\n",
    "print(MSE)"
   ]
  },
  {
   "cell_type": "code",
   "execution_count": 22,
   "metadata": {},
   "outputs": [
    {
     "name": "stdout",
     "output_type": "stream",
     "text": [
      "0.9774247946472284\n"
     ]
    }
   ],
   "source": [
    "#Вычисляем коэффициент детерминации:\n",
    "\n",
    "R_2 = metrics.r2_score(y_happy, y_happy_pred)\n",
    "print(R_2)"
   ]
  },
  {
   "cell_type": "markdown",
   "metadata": {},
   "source": [
    "Теперь мы умеем обучить модель линейной регрессии и рассчитывать все  метрики для оценки ее качества.\n",
    "\n"
   ]
  },
  {
   "cell_type": "markdown",
   "metadata": {},
   "source": [
    "### Задание 3.3.1\n",
    "Чему равна MSE на этих данных F?"
   ]
  },
  {
   "cell_type": "code",
   "execution_count": 23,
   "metadata": {},
   "outputs": [],
   "source": [
    "y_F = [1,3,2,5]"
   ]
  },
  {
   "cell_type": "code",
   "execution_count": 24,
   "metadata": {},
   "outputs": [],
   "source": [
    "y_F_pred = [2,3,-1,4]"
   ]
  },
  {
   "cell_type": "code",
   "execution_count": 25,
   "metadata": {},
   "outputs": [
    {
     "name": "stdout",
     "output_type": "stream",
     "text": [
      "2.75\n"
     ]
    }
   ],
   "source": [
    "#Вычисляем MSE:\n",
    "\n",
    "MSE = metrics.mean_squared_error(y_F, y_F_pred)\n",
    "print(MSE)"
   ]
  },
  {
   "cell_type": "markdown",
   "metadata": {},
   "source": [
    "### Задание 3.3.2\n",
    "Что из этого является причиной использования MSE для задачи линейной регрессии?  \n",
    "Ответ:\n",
    "- Функция потерь непрерывная\n",
    "- MSE сильнее штрафует за большие ошибки\n",
    "- MSE выпуклая"
   ]
  },
  {
   "cell_type": "markdown",
   "metadata": {},
   "source": [
    "### Задание 3.3.3\n",
    "У какой из этих моделей большой bias, а у какой — variance?  \n",
    "Ответ:\n",
    "- У левой большой variance\n",
    "- У правой большой bias\n",
    "\n"
   ]
  },
  {
   "cell_type": "markdown",
   "metadata": {},
   "source": [
    "### 3A.4. Поиск прямой\n"
   ]
  },
  {
   "cell_type": "markdown",
   "metadata": {},
   "source": [
    "#### Коэффициент детерминации\n",
    "$R^2$ — это доля дисперсии зависимой переменной, объясняемая рассматриваемой моделью зависимости. Коэффициент можно рассматривать как универсальную меру зависимости одной случайной величины от множества других."
   ]
  },
  {
   "cell_type": "markdown",
   "metadata": {},
   "source": [
    "**Интерпретация**\n",
    "- Коэффициент детерминации принимает значения от 0 до 1.\n",
    "- Для приемлемых моделей коэффициент должен быть не меньше 50 %.\n",
    "- Модели с коэффициентом детерминации выше 80 % можно признать достаточно хорошими.\n",
    "- Коэффициент может быть отрицательным, это говорит о крайней неадекватности модели: простое среднее приближает лучше.  \n",
    "\n",
    "Стоит отметить, что коэффициент детерминации довольно часто используется в научных исследованиях (особенно в социальных науках), однако в практических бизнес-задачах он часто бывает несостоятелен для оценки качества модели, и об этом необходимо помнить. Он может принимать очень низкие значения при полностью верной модели. И, наоборот, приближаться к единице при неверной модели.  "
   ]
  },
  {
   "cell_type": "markdown",
   "metadata": {},
   "source": [
    "### Задание 3.4.1\n",
    "Для каких данных лучше использовать OLS?  \n",
    "Ответ:\n",
    "- Если в обучающей выборке мало признаков "
   ]
  },
  {
   "cell_type": "markdown",
   "metadata": {},
   "source": [
    "### Задание 3.4.3\n",
    "Для какой модели коэффициент детерминации будет больше? Обе модели построены методом OLS.  \n",
    "Ответ:\n",
    "- Примерно одинаковый  "
   ]
  },
  {
   "cell_type": "markdown",
   "metadata": {},
   "source": [
    "### Задание 3.4.4\n",
    "Для какой модели MSE будет больше? Обе модели построены методом OLS.  \n",
    "Ответ: \n",
    "- Для второй "
   ]
  },
  {
   "cell_type": "markdown",
   "metadata": {},
   "source": [
    "### Задание 3.4.5\n",
    "Чему равен коэффициент детерминации на этих данных? Укажите число с точностью до сотых:"
   ]
  },
  {
   "cell_type": "code",
   "execution_count": 27,
   "metadata": {},
   "outputs": [
    {
     "data": {
      "text/plain": [
       "0.2142857142857143"
      ]
     },
     "execution_count": 27,
     "metadata": {},
     "output_type": "execute_result"
    }
   ],
   "source": [
    "yi_list = [2,3,-1,4]\n",
    "fi_list = [1,3,2,5]\n",
    "y_mean = sum(yi_list)/float(len(yi_list))\n",
    "ss_tot = sum((yi-y_mean)**2 for yi in yi_list)\n",
    "ss_err = sum((yi-fi)**2 for yi,fi in zip(yi_list,fi_list))\n",
    "r2 = 1 - (ss_err/ss_tot)\n",
    "r2"
   ]
  },
  {
   "cell_type": "markdown",
   "metadata": {},
   "source": [
    "### Задание 3.4.6\n",
    "Чему будет равен коэффициент детерминации, если обучить линейную регрессию с помощью OLS на двух точках?  \n",
    "Ответ: 1\n"
   ]
  },
  {
   "cell_type": "markdown",
   "metadata": {},
   "source": [
    "### 3A.5 Линейная регрессия. Предобработка"
   ]
  },
  {
   "cell_type": "markdown",
   "metadata": {},
   "source": [
    "Теперь эти данные готовы для построения регрессионной модели. Попробуем предсказать цену на квартиры с помощью нескольких признаков квартиры.\n",
    "\n",
    "Но для начала освежим в памяти все этапы предобработки.\n",
    "\n",
    "Начнём с подгружения нужных библиотек:"
   ]
  },
  {
   "cell_type": "code",
   "execution_count": 71,
   "metadata": {},
   "outputs": [],
   "source": [
    "import pandas as pd\n",
    "import numpy as np\n",
    "import matplotlib.pyplot as plt\n",
    "%matplotlib inline"
   ]
  },
  {
   "cell_type": "markdown",
   "metadata": {},
   "source": [
    "Теперь подгрузим файл и посмотрим на его первые строки:"
   ]
  },
  {
   "cell_type": "code",
   "execution_count": 57,
   "metadata": {},
   "outputs": [
    {
     "data": {
      "text/html": [
       "<div>\n",
       "<style scoped>\n",
       "    .dataframe tbody tr th:only-of-type {\n",
       "        vertical-align: middle;\n",
       "    }\n",
       "\n",
       "    .dataframe tbody tr th {\n",
       "        vertical-align: top;\n",
       "    }\n",
       "\n",
       "    .dataframe thead th {\n",
       "        text-align: right;\n",
       "    }\n",
       "</style>\n",
       "<table border=\"1\" class=\"dataframe\">\n",
       "  <thead>\n",
       "    <tr style=\"text-align: right;\">\n",
       "      <th></th>\n",
       "      <th>id</th>\n",
       "      <th>full_sq</th>\n",
       "      <th>life_sq</th>\n",
       "      <th>floor</th>\n",
       "      <th>preschool_education_centers_raion</th>\n",
       "      <th>school_education_centers_raion</th>\n",
       "      <th>school_education_centers_top_20_raion</th>\n",
       "      <th>university_top_20_raion</th>\n",
       "      <th>sport_objects_raion</th>\n",
       "      <th>additional_education_raion</th>\n",
       "      <th>...</th>\n",
       "      <th>shopping_centers_raion</th>\n",
       "      <th>metro_km_walk</th>\n",
       "      <th>kindergarten_km</th>\n",
       "      <th>school_km</th>\n",
       "      <th>park_km</th>\n",
       "      <th>green_zone_km</th>\n",
       "      <th>mkad_km</th>\n",
       "      <th>bulvar_ring_km</th>\n",
       "      <th>kremlin_km</th>\n",
       "      <th>price_doc</th>\n",
       "    </tr>\n",
       "  </thead>\n",
       "  <tbody>\n",
       "    <tr>\n",
       "      <th>0</th>\n",
       "      <td>1</td>\n",
       "      <td>43</td>\n",
       "      <td>27.0</td>\n",
       "      <td>4.0</td>\n",
       "      <td>5</td>\n",
       "      <td>5</td>\n",
       "      <td>0</td>\n",
       "      <td>0</td>\n",
       "      <td>7</td>\n",
       "      <td>3</td>\n",
       "      <td>...</td>\n",
       "      <td>16</td>\n",
       "      <td>1.131260</td>\n",
       "      <td>0.145700</td>\n",
       "      <td>0.177975</td>\n",
       "      <td>2.158587</td>\n",
       "      <td>0.600973</td>\n",
       "      <td>1.422391</td>\n",
       "      <td>13.675657</td>\n",
       "      <td>15.156211</td>\n",
       "      <td>5850000</td>\n",
       "    </tr>\n",
       "    <tr>\n",
       "      <th>1</th>\n",
       "      <td>2</td>\n",
       "      <td>34</td>\n",
       "      <td>19.0</td>\n",
       "      <td>3.0</td>\n",
       "      <td>5</td>\n",
       "      <td>8</td>\n",
       "      <td>0</td>\n",
       "      <td>0</td>\n",
       "      <td>6</td>\n",
       "      <td>1</td>\n",
       "      <td>...</td>\n",
       "      <td>3</td>\n",
       "      <td>0.635053</td>\n",
       "      <td>0.147754</td>\n",
       "      <td>0.273345</td>\n",
       "      <td>0.550690</td>\n",
       "      <td>0.065321</td>\n",
       "      <td>9.503405</td>\n",
       "      <td>8.132640</td>\n",
       "      <td>8.698054</td>\n",
       "      <td>6000000</td>\n",
       "    </tr>\n",
       "    <tr>\n",
       "      <th>2</th>\n",
       "      <td>3</td>\n",
       "      <td>43</td>\n",
       "      <td>29.0</td>\n",
       "      <td>2.0</td>\n",
       "      <td>4</td>\n",
       "      <td>7</td>\n",
       "      <td>0</td>\n",
       "      <td>0</td>\n",
       "      <td>5</td>\n",
       "      <td>1</td>\n",
       "      <td>...</td>\n",
       "      <td>0</td>\n",
       "      <td>1.445960</td>\n",
       "      <td>0.049102</td>\n",
       "      <td>0.158072</td>\n",
       "      <td>0.374848</td>\n",
       "      <td>0.453172</td>\n",
       "      <td>5.604800</td>\n",
       "      <td>8.054252</td>\n",
       "      <td>9.067885</td>\n",
       "      <td>5700000</td>\n",
       "    </tr>\n",
       "    <tr>\n",
       "      <th>3</th>\n",
       "      <td>4</td>\n",
       "      <td>89</td>\n",
       "      <td>50.0</td>\n",
       "      <td>9.0</td>\n",
       "      <td>9</td>\n",
       "      <td>10</td>\n",
       "      <td>0</td>\n",
       "      <td>0</td>\n",
       "      <td>17</td>\n",
       "      <td>6</td>\n",
       "      <td>...</td>\n",
       "      <td>11</td>\n",
       "      <td>0.963802</td>\n",
       "      <td>0.179441</td>\n",
       "      <td>0.236455</td>\n",
       "      <td>0.078090</td>\n",
       "      <td>0.106125</td>\n",
       "      <td>2.677824</td>\n",
       "      <td>18.309433</td>\n",
       "      <td>19.487005</td>\n",
       "      <td>13100000</td>\n",
       "    </tr>\n",
       "    <tr>\n",
       "      <th>4</th>\n",
       "      <td>5</td>\n",
       "      <td>77</td>\n",
       "      <td>77.0</td>\n",
       "      <td>4.0</td>\n",
       "      <td>7</td>\n",
       "      <td>9</td>\n",
       "      <td>0</td>\n",
       "      <td>2</td>\n",
       "      <td>25</td>\n",
       "      <td>2</td>\n",
       "      <td>...</td>\n",
       "      <td>10</td>\n",
       "      <td>0.688859</td>\n",
       "      <td>0.247901</td>\n",
       "      <td>0.376838</td>\n",
       "      <td>0.258289</td>\n",
       "      <td>0.236214</td>\n",
       "      <td>11.616653</td>\n",
       "      <td>0.787593</td>\n",
       "      <td>2.578671</td>\n",
       "      <td>16331452</td>\n",
       "    </tr>\n",
       "  </tbody>\n",
       "</table>\n",
       "<p>5 rows × 21 columns</p>\n",
       "</div>"
      ],
      "text/plain": [
       "   id  full_sq  life_sq  floor  preschool_education_centers_raion  \\\n",
       "0   1       43     27.0    4.0                                  5   \n",
       "1   2       34     19.0    3.0                                  5   \n",
       "2   3       43     29.0    2.0                                  4   \n",
       "3   4       89     50.0    9.0                                  9   \n",
       "4   5       77     77.0    4.0                                  7   \n",
       "\n",
       "   school_education_centers_raion  school_education_centers_top_20_raion  \\\n",
       "0                               5                                      0   \n",
       "1                               8                                      0   \n",
       "2                               7                                      0   \n",
       "3                              10                                      0   \n",
       "4                               9                                      0   \n",
       "\n",
       "   university_top_20_raion  sport_objects_raion  additional_education_raion  \\\n",
       "0                        0                    7                           3   \n",
       "1                        0                    6                           1   \n",
       "2                        0                    5                           1   \n",
       "3                        0                   17                           6   \n",
       "4                        2                   25                           2   \n",
       "\n",
       "   ...  shopping_centers_raion  metro_km_walk  kindergarten_km  school_km  \\\n",
       "0  ...                      16       1.131260         0.145700   0.177975   \n",
       "1  ...                       3       0.635053         0.147754   0.273345   \n",
       "2  ...                       0       1.445960         0.049102   0.158072   \n",
       "3  ...                      11       0.963802         0.179441   0.236455   \n",
       "4  ...                      10       0.688859         0.247901   0.376838   \n",
       "\n",
       "    park_km  green_zone_km    mkad_km  bulvar_ring_km  kremlin_km  price_doc  \n",
       "0  2.158587       0.600973   1.422391       13.675657   15.156211    5850000  \n",
       "1  0.550690       0.065321   9.503405        8.132640    8.698054    6000000  \n",
       "2  0.374848       0.453172   5.604800        8.054252    9.067885    5700000  \n",
       "3  0.078090       0.106125   2.677824       18.309433   19.487005   13100000  \n",
       "4  0.258289       0.236214  11.616653        0.787593    2.578671   16331452  \n",
       "\n",
       "[5 rows x 21 columns]"
      ]
     },
     "execution_count": 57,
     "metadata": {},
     "output_type": "execute_result"
    }
   ],
   "source": [
    "data = pd.read_csv('data_flats.csv', sep =';')\n",
    "data.head()"
   ]
  },
  {
   "cell_type": "markdown",
   "metadata": {},
   "source": [
    "Также обязательно запрашиваем список переменных с их типами, заодно сможем посмотреть, сколько у нас пропусков:\n",
    "\n"
   ]
  },
  {
   "cell_type": "code",
   "execution_count": 58,
   "metadata": {
    "scrolled": false
   },
   "outputs": [
    {
     "name": "stdout",
     "output_type": "stream",
     "text": [
      "<class 'pandas.core.frame.DataFrame'>\n",
      "RangeIndex: 30469 entries, 0 to 30468\n",
      "Data columns (total 21 columns):\n",
      " #   Column                                 Non-Null Count  Dtype  \n",
      "---  ------                                 --------------  -----  \n",
      " 0   id                                     30469 non-null  int64  \n",
      " 1   full_sq                                30469 non-null  int64  \n",
      " 2   life_sq                                24086 non-null  float64\n",
      " 3   floor                                  30302 non-null  float64\n",
      " 4   preschool_education_centers_raion      30469 non-null  int64  \n",
      " 5   school_education_centers_raion         30469 non-null  int64  \n",
      " 6   school_education_centers_top_20_raion  30469 non-null  int64  \n",
      " 7   university_top_20_raion                30469 non-null  int64  \n",
      " 8   sport_objects_raion                    30469 non-null  int64  \n",
      " 9   additional_education_raion             30469 non-null  int64  \n",
      " 10  culture_objects_top_25_raion           30469 non-null  int64  \n",
      " 11  shopping_centers_raion                 30469 non-null  int64  \n",
      " 12  metro_km_walk                          30444 non-null  float64\n",
      " 13  kindergarten_km                        30469 non-null  float64\n",
      " 14  school_km                              30469 non-null  float64\n",
      " 15  park_km                                30469 non-null  float64\n",
      " 16  green_zone_km                          30469 non-null  float64\n",
      " 17  mkad_km                                30469 non-null  float64\n",
      " 18  bulvar_ring_km                         30469 non-null  float64\n",
      " 19  kremlin_km                             30469 non-null  float64\n",
      " 20  price_doc                              30469 non-null  int64  \n",
      "dtypes: float64(10), int64(11)\n",
      "memory usage: 4.9 MB\n"
     ]
    }
   ],
   "source": [
    "data.info()"
   ]
  },
  {
   "cell_type": "markdown",
   "metadata": {},
   "source": [
    "Что мы можем увидеть по нему? Что у нас есть 20 признаков. Один из них — id, не несет смысловой нагрузки. А один из признаков — наша независимая переменная, которую мы и будем предсказывать. Это цена квартиры (price_doc).\n",
    "\n",
    "Мы точно можем видеть, что у нас есть пропуски, так как количество наблюдений разное у разных переменных и отличается для некоторых признаков от количества объектов.\n",
    "\n",
    "Также количество пропусков для каждого признака можно посмотреть следующим образом:"
   ]
  },
  {
   "cell_type": "code",
   "execution_count": 59,
   "metadata": {},
   "outputs": [
    {
     "data": {
      "text/plain": [
       "id                                          0\n",
       "full_sq                                     0\n",
       "life_sq                                  6383\n",
       "floor                                     167\n",
       "preschool_education_centers_raion           0\n",
       "school_education_centers_raion              0\n",
       "school_education_centers_top_20_raion       0\n",
       "university_top_20_raion                     0\n",
       "sport_objects_raion                         0\n",
       "additional_education_raion                  0\n",
       "culture_objects_top_25_raion                0\n",
       "shopping_centers_raion                      0\n",
       "metro_km_walk                              25\n",
       "kindergarten_km                             0\n",
       "school_km                                   0\n",
       "park_km                                     0\n",
       "green_zone_km                               0\n",
       "mkad_km                                     0\n",
       "bulvar_ring_km                              0\n",
       "kremlin_km                                  0\n",
       "price_doc                                   0\n",
       "dtype: int64"
      ]
     },
     "execution_count": 59,
     "metadata": {},
     "output_type": "execute_result"
    }
   ],
   "source": [
    "data.isnull().sum()"
   ]
  },
  {
   "cell_type": "markdown",
   "metadata": {},
   "source": [
    "Или можно оценить визульно количество пропусков и их распределение:\n",
    "\n"
   ]
  },
  {
   "cell_type": "markdown",
   "metadata": {},
   "source": [
    "import seaborn as sns\n",
    "fig, ax = plt.subplots(figsize=(20,12))\n",
    "sns_heatmap = sns.heatmap(data.isnull(), yticklabels=False, cbar=False, cmap='viridis')"
   ]
  },
  {
   "cell_type": "markdown",
   "metadata": {},
   "source": [
    "Здесь фиолетовым показаны заполненные ячейки, а желтым — пропущенные значения. Благодаря этому мы можем сразу оценить количество пропусков и посмотреть, в каких переменных они встречаются. Если пропуски встречаются в большом количестве только в нескольких переменных, которые не являются для нас важными, можно их удалить.\n",
    "\n",
    "У нас пропуски по сути есть только в одном признаке — жилой площади. Просто не будем брать её в модель.\n",
    "\n",
    "Далее всегда есть смысл посмотреть на распределение нашей целевой переменной и понять, какие значения мы будем предсказывать:"
   ]
  },
  {
   "cell_type": "code",
   "execution_count": 60,
   "metadata": {},
   "outputs": [
    {
     "data": {
      "image/png": "[encoded data removed]",
      "text/plain": [
       "<Figure size 432x288 with 1 Axes>"
      ]
     },
     "metadata": {
      "needs_background": "light"
     },
     "output_type": "display_data"
    }
   ],
   "source": [
    "data.price_doc.hist(color='red');"
   ]
  },
  {
   "cell_type": "markdown",
   "metadata": {},
   "source": [
    "У нашего распределения есть проблема — слишком сильный перепад. Много квартир в среднем сегменте, но очень мало дорогих квартир. На практике часто в таких случаях логорифмируют переменную, чтобы уменьшить перепады и сгладить хвост."
   ]
  },
  {
   "cell_type": "code",
   "execution_count": 61,
   "metadata": {},
   "outputs": [
    {
     "data": {
      "image/png": "[encoded data removed]",
      "text/plain": [
       "<Figure size 432x288 with 1 Axes>"
      ]
     },
     "metadata": {
      "needs_background": "light"
     },
     "output_type": "display_data"
    }
   ],
   "source": [
    "data['price_doc'] = data['price_doc'].apply(lambda w: np.log(w + 1))\n",
    "data.price_doc.hist(color='red');"
   ]
  },
  {
   "cell_type": "markdown",
   "metadata": {},
   "source": [
    "Отлично, выглядит уже лучше!\n",
    "\n",
    "Теперь займемся отбором признаков.  Для начала нам надо проверить, нет ли мультиколлинеарности — сильной взаимосвязи между независимыми признаками. Для этого построим матрицу корреляций для признаков:"
   ]
  },
  {
   "cell_type": "code",
   "execution_count": 62,
   "metadata": {},
   "outputs": [
    {
     "data": {
      "text/plain": [
       "<matplotlib.axes._subplots.AxesSubplot at 0x7f0cdc129be0>"
      ]
     },
     "execution_count": 62,
     "metadata": {},
     "output_type": "execute_result"
    },
    {
     "data": {
      "image/png": "[encoded data removed]",
      "text/plain": [
       "<Figure size 864x864 with 2 Axes>"
      ]
     },
     "metadata": {},
     "output_type": "display_data"
    }
   ],
   "source": [
    "sns.set(font_scale=1)\n",
    "plt.subplots(figsize=(12, 12))\n",
    "sns.heatmap(data.corr(), square=True,\n",
    "              annot=True, fmt=\".1f\", linewidths=0.1, cmap=\"RdBu\")"
   ]
  },
  {
   "cell_type": "markdown",
   "metadata": {},
   "source": [
    "**Смотрим, у каких пар признаков сильная взаимосвязь:**\n",
    "\n",
    "- Количество школ и количество детских садов. Довольно логично, так как в Москве детские сады обычно присоединены к школам. Оставляем школы, т.к. у этого признака больше взаимосвязь с целевой переменной.\n",
    "- Расстояние до школ и расстояние до детских садов. По сути, это естественным образом вытекает из предыдущего пункта. Оставляем расстояние до школ.\n",
    "- Расстояние до парка и до метро. Рассуждая аналогично предыдущим парам, оставляем расстояние до метро.\n",
    "- Расстояние до Кремля и до бульварного кольца. У них коэффициент корреляции равен 1, и их корреляция с целевой переменной одинаковая. Поэтому можем убрать любой признак. Убираем расстояние до Кремля."
   ]
  },
  {
   "cell_type": "markdown",
   "metadata": {},
   "source": [
    "Итак, нам надо убрать пять признаков (четыре из-за мультиколлинеарности и жилую площадь, так как там много пропусков), остальные оставляем. Теперь наши данные готовы к построению регрессионной модели."
   ]
  },
  {
   "cell_type": "code",
   "execution_count": 63,
   "metadata": {},
   "outputs": [],
   "source": [
    "# Итак, нам надо убрать пять признаков (четыре из-за мультиколлинеарности и жилую площадь, так как там много пропусков), остальные оставляем. Теперь наши данные готовы к построению регрессионной модели.\n",
    "data.drop(['life_sq', 'preschool_education_centers_raion', 'kindergarten_km', 'park_km', 'kremlin_km'], axis=1, inplace=True)"
   ]
  },
  {
   "cell_type": "markdown",
   "metadata": {},
   "source": [
    "### Задание 3.5.1\n",
    "Удалите строки, где есть хотя бы один пропуск. Обучите линейную регрессию, взяв тестовую выборку размера 0.2, random_state=77.Нормализуйте отобранные признаки для тестовой и для обучающей выборки отдельно(!) с помощью функции RobustScaler() (функция, которая подобна известным вам методам нормализации, однако использует медианы и квантили для вычисления, поэтому не чувствительна к выбросам и может приводить к лучшим результатам). Вычислите MSE , ответ запишите с точностью до сотых. Не забудьте, что id не несет никакой содержательной информации, поэтому не надо брать его в качестве предиктора! Также не забудьте, что мы логарифмировали зависимую переменную, а значит при подсчете MSE необходимо найти экспоненциальную функцию от y! Округлите ответ до целых."
   ]
  },
  {
   "cell_type": "code",
   "execution_count": 64,
   "metadata": {},
   "outputs": [],
   "source": [
    "# Не забудьте, что id не несет никакой содержательной информации, поэтому не надо брать его в качестве предиктора!\n",
    "data.drop(['id'], axis=1, inplace=True)"
   ]
  },
  {
   "cell_type": "code",
   "execution_count": 65,
   "metadata": {},
   "outputs": [],
   "source": [
    "# Удалите строки, где есть хотя бы один пропуск\n",
    "data.dropna(axis=0, inplace = True)"
   ]
  },
  {
   "cell_type": "code",
   "execution_count": 66,
   "metadata": {},
   "outputs": [],
   "source": [
    "columns_for_X = data.columns.tolist()\n",
    "columns_for_X.remove('price_doc')"
   ]
  },
  {
   "cell_type": "code",
   "execution_count": 67,
   "metadata": {},
   "outputs": [
    {
     "data": {
      "text/plain": [
       "['full_sq',\n",
       " 'floor',\n",
       " 'school_education_centers_raion',\n",
       " 'school_education_centers_top_20_raion',\n",
       " 'university_top_20_raion',\n",
       " 'sport_objects_raion',\n",
       " 'additional_education_raion',\n",
       " 'culture_objects_top_25_raion',\n",
       " 'shopping_centers_raion',\n",
       " 'metro_km_walk',\n",
       " 'school_km',\n",
       " 'green_zone_km',\n",
       " 'mkad_km',\n",
       " 'bulvar_ring_km']"
      ]
     },
     "execution_count": 67,
     "metadata": {},
     "output_type": "execute_result"
    }
   ],
   "source": [
    "columns_for_X"
   ]
  },
  {
   "cell_type": "code",
   "execution_count": 68,
   "metadata": {},
   "outputs": [],
   "source": [
    "# Обучите линейную регрессию, взяв тестовую выборку размера 0.2, random_state=77\n",
    "\n",
    "X = data[columns_for_X].values\n",
    "Y = data['price_doc'].values\n",
    "X_train, X_test, Y_train, Y_test = train_test_split(X, Y, test_size=0.20, random_state=77)"
   ]
  },
  {
   "cell_type": "code",
   "execution_count": 72,
   "metadata": {},
   "outputs": [],
   "source": [
    "import seaborn as sns\n",
    "from sklearn.preprocessing import RobustScaler\n",
    "from sklearn.linear_model import LogisticRegression"
   ]
  },
  {
   "cell_type": "code",
   "execution_count": 73,
   "metadata": {},
   "outputs": [],
   "source": [
    "# Нормализуйте отобранные признаки для тестовой и для обучающей выборки отдельно(!) с помощью функции RobustScaler() (функция, которая подобна известным вам методам нормализации, однако использует медианы и квантили для вычисления, поэтому не чувствительна к выбросам и может приводить к лучшим результатам)\n",
    "# Стандартизация числовых переменных\n",
    "\n",
    "X_train = RobustScaler().fit_transform(X_train)\n",
    "X_test = RobustScaler().fit_transform(X_test)"
   ]
  },
  {
   "cell_type": "code",
   "execution_count": 74,
   "metadata": {},
   "outputs": [
    {
     "data": {
      "text/plain": [
       "LinearRegression()"
      ]
     },
     "execution_count": 74,
     "metadata": {},
     "output_type": "execute_result"
    }
   ],
   "source": [
    "myModel = LinearRegression() #Обозначаем, что наша модель - линейная регрессия\n",
    "myModel.fit(X_train,Y_train) #обучаем модель на обучающих данных"
   ]
  },
  {
   "cell_type": "code",
   "execution_count": 75,
   "metadata": {},
   "outputs": [
    {
     "data": {
      "text/plain": [
       "array([15.65798381, 15.65589304, 15.66092264, ..., 15.54311292,\n",
       "       15.42951915, 16.39026336])"
      ]
     },
     "execution_count": 75,
     "metadata": {},
     "output_type": "execute_result"
    }
   ],
   "source": [
    "y_pred = myModel.predict(X_test)\n",
    "y_pred"
   ]
  },
  {
   "cell_type": "code",
   "execution_count": 83,
   "metadata": {},
   "outputs": [
    {
     "name": "stdout",
     "output_type": "stream",
     "text": [
      "16647931507747.0\n"
     ]
    }
   ],
   "source": [
    "#Вычисляем MSE, находим экспоненциальную функцию от y:\n",
    "MSE = metrics.mean_squared_error(np.exp(y_pred), np.exp(Y_test))\n",
    "print(f\"{round(MSE,0)}\")"
   ]
  },
  {
   "cell_type": "markdown",
   "metadata": {},
   "source": [
    "### 3A.6. Линейная регрессия. Практика №1\n"
   ]
  },
  {
   "cell_type": "code",
   "execution_count": 84,
   "metadata": {},
   "outputs": [],
   "source": [
    "import numpy as np\n",
    "import pandas as pd\n",
    "from sklearn.datasets import load_boston\n",
    "from sklearn.metrics import mean_squared_error, f1_score, accuracy_score, roc_curve, roc_auc_score\n",
    "from sklearn.model_selection import train_test_split\n",
    "\n",
    "from matplotlib import pyplot as plt"
   ]
  },
  {
   "cell_type": "markdown",
   "metadata": {},
   "source": [
    "### 1. Линейная регрессия. Реализация\n"
   ]
  },
  {
   "cell_type": "code",
   "execution_count": 85,
   "metadata": {},
   "outputs": [
    {
     "data": {
      "text/plain": [
       "(506, 13)"
      ]
     },
     "execution_count": 85,
     "metadata": {},
     "output_type": "execute_result"
    }
   ],
   "source": [
    "data = load_boston()\n",
    "data['data'].shape"
   ]
  },
  {
   "cell_type": "code",
   "execution_count": 86,
   "metadata": {
    "scrolled": true
   },
   "outputs": [
    {
     "name": "stdout",
     "output_type": "stream",
     "text": [
      ".. _boston_dataset:\n",
      "\n",
      "Boston house prices dataset\n",
      "---------------------------\n",
      "\n",
      "**Data Set Characteristics:**  \n",
      "\n",
      "    :Number of Instances: 506 \n",
      "\n",
      "    :Number of Attributes: 13 numeric/categorical predictive. Median Value (attribute 14) is usually the target.\n",
      "\n",
      "    :Attribute Information (in order):\n",
      "        - CRIM     per capita crime rate by town\n",
      "        - ZN       proportion of residential land zoned for lots over 25,000 sq.ft.\n",
      "        - INDUS    proportion of non-retail business acres per town\n",
      "        - CHAS     Charles River dummy variable (= 1 if tract bounds river; 0 otherwise)\n",
      "        - NOX      nitric oxides concentration (parts per 10 million)\n",
      "        - RM       average number of rooms per dwelling\n",
      "        - AGE      proportion of owner-occupied units built prior to 1940\n",
      "        - DIS      weighted distances to five Boston employment centres\n",
      "        - RAD      index of accessibility to radial highways\n",
      "        - TAX      full-value property-tax rate per $10,000\n",
      "        - PTRATIO  pupil-teacher ratio by town\n",
      "        - B        1000(Bk - 0.63)^2 where Bk is the proportion of blacks by town\n",
      "        - LSTAT    % lower status of the population\n",
      "        - MEDV     Median value of owner-occupied homes in $1000's\n",
      "\n",
      "    :Missing Attribute Values: None\n",
      "\n",
      "    :Creator: Harrison, D. and Rubinfeld, D.L.\n",
      "\n",
      "This is a copy of UCI ML housing dataset.\n",
      "https://archive.ics.uci.edu/ml/machine-learning-databases/housing/\n",
      "\n",
      "\n",
      "This dataset was taken from the StatLib library which is maintained at Carnegie Mellon University.\n",
      "\n",
      "The Boston house-price data of Harrison, D. and Rubinfeld, D.L. 'Hedonic\n",
      "prices and the demand for clean air', J. Environ. Economics & Management,\n",
      "vol.5, 81-102, 1978.   Used in Belsley, Kuh & Welsch, 'Regression diagnostics\n",
      "...', Wiley, 1980.   N.B. Various transformations are used in the table on\n",
      "pages 244-261 of the latter.\n",
      "\n",
      "The Boston house-price data has been used in many machine learning papers that address regression\n",
      "problems.   \n",
      "     \n",
      ".. topic:: References\n",
      "\n",
      "   - Belsley, Kuh & Welsch, 'Regression diagnostics: Identifying Influential Data and Sources of Collinearity', Wiley, 1980. 244-261.\n",
      "   - Quinlan,R. (1993). Combining Instance-Based and Model-Based Learning. In Proceedings on the Tenth International Conference of Machine Learning, 236-243, University of Massachusetts, Amherst. Morgan Kaufmann.\n",
      "\n"
     ]
    }
   ],
   "source": [
    "print(data['DESCR'])"
   ]
  },
  {
   "cell_type": "markdown",
   "metadata": {},
   "source": [
    "### 1.1. Реализация линейной регрессии с использованием матричных операций"
   ]
  },
  {
   "cell_type": "markdown",
   "metadata": {},
   "source": [
    "Линейная регрессия выражается следующей зависимостью:\n",
    "$$y=X\\theta+\\epsilon,$$\n",
    "где $X$ — матрица объекты-признаки, $y$ — вектор целевых значений, соответствующих $X$, $\\theta$ — параметр линейной регрессии, $\\epsilon$ — некоторый шум.  \n",
    "\n",
    "Из данного следует выражение для $\\theta$ как:\n",
    "$$X^Ty=X^TX\\theta \\rightarrow \\theta=(X^TX)^{-1}X^Ty$$\n",
    "\n",
    "Реализуем выражение для $\\theta$ с помощью операций линейной алгебры библиотеки Numpy:"
   ]
  },
  {
   "cell_type": "code",
   "execution_count": 87,
   "metadata": {},
   "outputs": [],
   "source": [
    "# ЗАДАЧА Реализовать функцию, осуществляющую матричные операции для получения theta\n",
    "def linreg_linear(d_X, d_y):\n",
    "    theta = np.linalg.lstsq(d_X, d_y)[0]\n",
    "    return theta"
   ]
  },
  {
   "cell_type": "code",
   "execution_count": 88,
   "metadata": {},
   "outputs": [],
   "source": [
    "# Подготовить данные\n",
    "X, y = data['data'], data['target']\n",
    "X = np.hstack([np.ones(X.shape[0])[:, np.newaxis], X])"
   ]
  },
  {
   "cell_type": "code",
   "execution_count": 89,
   "metadata": {},
   "outputs": [
    {
     "name": "stderr",
     "output_type": "stream",
     "text": [
      "<ipython-input-87-ab301f32bc94>:3: FutureWarning: `rcond` parameter will change to the default of machine precision times ``max(M, N)`` where M and N are the input matrix dimensions.\n",
      "To use the future default and silence this warning we advise to pass `rcond=None`, to keep using the old, explicitly pass `rcond=-1`.\n",
      "  theta = np.linalg.lstsq(d_X, d_y)[0]\n"
     ]
    }
   ],
   "source": [
    "# Вычислить параметр theta\n",
    "theta = linreg_linear(X, y)"
   ]
  },
  {
   "cell_type": "code",
   "execution_count": 90,
   "metadata": {},
   "outputs": [
    {
     "data": {
      "text/plain": [
       "(14,)"
      ]
     },
     "execution_count": 90,
     "metadata": {},
     "output_type": "execute_result"
    }
   ],
   "source": [
    "theta.shape"
   ]
  },
  {
   "cell_type": "code",
   "execution_count": 91,
   "metadata": {},
   "outputs": [],
   "source": [
    "# Сделать предсказания для тренировочной выборки\n",
    "y_pred = X.dot(theta)"
   ]
  },
  {
   "cell_type": "code",
   "execution_count": 92,
   "metadata": {},
   "outputs": [],
   "source": [
    "def print_regression_metrics(y_true, y_pred):\n",
    "    mse = mean_squared_error(y_true, y_pred)\n",
    "    rmse = np.sqrt(mse)\n",
    "    print(f'MSE = {mse:.2f}, RMSE = {rmse:.2f}')"
   ]
  },
  {
   "cell_type": "code",
   "execution_count": 93,
   "metadata": {},
   "outputs": [
    {
     "name": "stdout",
     "output_type": "stream",
     "text": [
      "MSE = 21.89, RMSE = 4.68\n"
     ]
    }
   ],
   "source": [
    "# Посчитать значение ошибок MSE и RMSE для тренировочных данных\n",
    "print_regression_metrics(y, y_pred)"
   ]
  },
  {
   "cell_type": "code",
   "execution_count": 94,
   "metadata": {},
   "outputs": [
    {
     "data": {
      "image/png": "[encoded data removed]",
      "text/plain": [
       "<Figure size 432x288 with 1 Axes>"
      ]
     },
     "metadata": {
      "needs_background": "light"
     },
     "output_type": "display_data"
    }
   ],
   "source": [
    "plt.hist(y);"
   ]
  },
  {
   "cell_type": "code",
   "execution_count": 95,
   "metadata": {},
   "outputs": [
    {
     "name": "stderr",
     "output_type": "stream",
     "text": [
      "<ipython-input-87-ab301f32bc94>:3: FutureWarning: `rcond` parameter will change to the default of machine precision times ``max(M, N)`` where M and N are the input matrix dimensions.\n",
      "To use the future default and silence this warning we advise to pass `rcond=None`, to keep using the old, explicitly pass `rcond=-1`.\n",
      "  theta = np.linalg.lstsq(d_X, d_y)[0]\n"
     ]
    }
   ],
   "source": [
    "# Разбить выборку на train/valid, вычислить theta,\n",
    "# сделать предсказания и посчитать ошибки MSE и RMSE\n",
    "\n",
    "X_train, X_valid, y_train, y_valid = train_test_split(X, y, test_size=0.2)\n",
    "theta = linreg_linear(X_train, y_train)\n",
    "y_pred = X_valid.dot(theta)\n",
    "y_train_pred = X_train.dot(theta)"
   ]
  },
  {
   "cell_type": "code",
   "execution_count": 96,
   "metadata": {},
   "outputs": [
    {
     "name": "stdout",
     "output_type": "stream",
     "text": [
      "MSE = 20.61, RMSE = 4.54\n",
      "MSE = 22.39, RMSE = 4.73\n"
     ]
    }
   ],
   "source": [
    "print_regression_metrics(y_valid, y_pred)\n",
    "print_regression_metrics(y_train, y_train_pred)"
   ]
  },
  {
   "cell_type": "code",
   "execution_count": 97,
   "metadata": {},
   "outputs": [
    {
     "name": "stdout",
     "output_type": "stream",
     "text": [
      "MSE = 21.89, RMSE = 4.68\n"
     ]
    }
   ],
   "source": [
    "from sklearn.linear_model import LinearRegression\n",
    "\n",
    "lr = LinearRegression()\n",
    "lr.fit(X,y)\n",
    "y_pred = lr.predict(X)\n",
    "print_regression_metrics(y, y_pred)"
   ]
  },
  {
   "cell_type": "markdown",
   "metadata": {},
   "source": [
    "### 1.2. Реализация линейной регрессии с использованием методов оптимизации\n"
   ]
  },
  {
   "cell_type": "markdown",
   "metadata": {},
   "source": [
    "Для реализации линейной регрессии с помощью методов оптимизации будем использовать функцию ошибки **среднего квадратичного** ([Mean Squared Error](https://en.wikipedia.org/wiki/Mean_squared_error)), которая является выпуклой функцией в n-мерном пространстве $\\mathbb{R}^n$ и в общем виде выглядит следующим образом:\n",
    "$$MSE = \\frac{1}{n} * \\sum_{i=1}^{n}{(y_i - a(x_i))^2}.$$\n",
    "Здесь $x_i$ — вектор-признак $i$-го объекта обучающей выборки, $y_i$ — истинное значение для $i$-го объекта, $a(x)$ — алгоритм, предсказывающий для данного объекта $x$ целевое значение, $n$ — кол-во объектов в выборке.\n",
    "\n",
    "В случае линейной регрессии $MSE$ представляется как:\n",
    "$$MSE(X, y, \\theta) = \\frac{1}{2n} * \\sum_{i=1}^{n}{(y_i - \\theta^Tx_i)^2} = \\frac{1}{2n} \\lVert{y - X\\theta}\\rVert_{2}^{2}=\\frac{1}{2n} (y - X\\theta)^T(y - X\\theta),$$\n",
    "где $\\theta$ — параметр модели линейной регрессии, $X$ — матрица объекты-признаки, $y$ - вектор истинных значений, соответствующих $X$.\n",
    "\n",
    "Возьмем первый вариант представления функции ошибки и посчитаем ее градиент по параметру $\\theta$, предварительно переименовав $MSE$ в $L$:\n",
    "$$L=\\frac{1}{2n} * \\sum_{i=1}^{n}{(y_i - \\theta^Tx_i)^2}$$\n",
    "$$\\nabla L = \\frac{1}{n}\\sum_{i=1}^{n}{(\\theta^Tx_i - y_i) \\cdot x_i} = \\frac{1}{n}X^T(X\\theta - y)$$\n",
    "\n",
    "Исходя из полученного выражения градиента, реализуем алгоритм градиентного спуска:"
   ]
  },
  {
   "cell_type": "code",
   "execution_count": 98,
   "metadata": {},
   "outputs": [],
   "source": [
    "# Реализовать функцию вычисления градиента функции MSE\n",
    "\n",
    "def calc_mse_gradient(X, y, theta):\n",
    "    n = X.shape[0]\n",
    "    grad = 1. / n * X.transpose().dot(X.dot(theta) - y)\n",
    "    \n",
    "    return grad"
   ]
  },
  {
   "cell_type": "code",
   "execution_count": 99,
   "metadata": {},
   "outputs": [],
   "source": [
    "# Реализовать функцию, осуществляющую градиентный шаг\n",
    "# (функция должна содержать параметр величины шага alpha - learning rate)\n",
    "\n",
    "def gradient_step(theta, theta_grad, alpha):\n",
    "    return theta - alpha * theta_grad"
   ]
  },
  {
   "cell_type": "code",
   "execution_count": 100,
   "metadata": {},
   "outputs": [],
   "source": [
    "# Реализовать функцию цикла градиентного спуска с доп. параметрами\n",
    "# начального вектора theta и числа итераций\n",
    "\n",
    "def optimize(X, y, grad_func, start_theta, alpha, n_iters):\n",
    "    theta = start_theta.copy()\n",
    "    \n",
    "    for i in range(n_iters):\n",
    "        theta_grad = grad_func(X, y, theta)\n",
    "        theta = gradient_step(theta, theta_grad, alpha)\n",
    "    \n",
    "    return theta\n"
   ]
  },
  {
   "cell_type": "code",
   "execution_count": 101,
   "metadata": {},
   "outputs": [],
   "source": [
    "# Разбить таблицу данных на матрицы X и y\n",
    "X, y = data['data'], data['target']\n",
    "\n",
    "# Добавить фиктивный столбец единиц (bias линейной модели)\n",
    "X = np.hstack([np.ones(X.shape[0])[:, np.newaxis], X])\n",
    "m = X.shape[1]"
   ]
  },
  {
   "cell_type": "code",
   "execution_count": 102,
   "metadata": {},
   "outputs": [],
   "source": [
    "# Оптимизировать параметр линейной регрессии theta на всех данных\n",
    "theta = optimize(X, y, calc_mse_gradient, np.ones(m), 0.001, 100)"
   ]
  },
  {
   "cell_type": "code",
   "execution_count": 103,
   "metadata": {},
   "outputs": [
    {
     "data": {
      "text/plain": [
       "array([7.41647399e+246, 3.32349992e+247, 7.39564172e+247, 8.96295209e+247,\n",
       "       5.07578059e+245, 4.22030567e+246, 4.63094053e+247, 5.29083888e+248,\n",
       "       2.65643383e+247, 8.19991211e+247, 3.27135991e+249, 1.38363846e+248,\n",
       "       2.64323053e+249, 9.88835598e+247])"
      ]
     },
     "execution_count": 103,
     "metadata": {},
     "output_type": "execute_result"
    }
   ],
   "source": [
    "theta"
   ]
  },
  {
   "cell_type": "code",
   "execution_count": 104,
   "metadata": {},
   "outputs": [
    {
     "data": {
      "text/plain": [
       "array([  1.    ,  88.9762, 100.    ,  27.74  ,   1.    ,   0.871 ,\n",
       "         8.78  , 100.    ,  12.1265,  24.    , 711.    ,  22.    ,\n",
       "       396.9   ,  37.97  ])"
      ]
     },
     "execution_count": 104,
     "metadata": {},
     "output_type": "execute_result"
    }
   ],
   "source": [
    "# Проверить максимальные значения по каждому признаку в данных\n",
    "X.max(axis=0)"
   ]
  },
  {
   "cell_type": "code",
   "execution_count": 105,
   "metadata": {},
   "outputs": [
    {
     "name": "stdout",
     "output_type": "stream",
     "text": [
      "B\n",
      "168.3704950393814\n"
     ]
    }
   ],
   "source": [
    "print(data['feature_names'][np.argmax(X.std(axis=0)) + 1])\n",
    "print(np.max(X.std(axis=0)))"
   ]
  },
  {
   "cell_type": "code",
   "execution_count": 106,
   "metadata": {},
   "outputs": [],
   "source": [
    "# Нормализовать даннные с помощью стандартной нормализации\n",
    "X, y = data['data'], data['target']\n",
    "X = (X - X.mean(axis=0)) / X.std(axis=0)"
   ]
  },
  {
   "cell_type": "code",
   "execution_count": 107,
   "metadata": {},
   "outputs": [
    {
     "data": {
      "text/plain": [
       "array([1.        , 9.9339306 , 3.80423444, 2.42256516, 3.66839786,\n",
       "       2.73234648, 3.55504427, 1.11749449, 3.96051769, 1.66124525,\n",
       "       1.79819419, 1.63882832, 0.44105193, 3.54877081])"
      ]
     },
     "execution_count": 107,
     "metadata": {},
     "output_type": "execute_result"
    }
   ],
   "source": [
    "# Добавить фиктивный столбец единиц (bias линейной модели)\n",
    "X = np.hstack([np.ones(X.shape[0])[:, np.newaxis], X])\n",
    "X.max(axis=0)"
   ]
  },
  {
   "cell_type": "code",
   "execution_count": 108,
   "metadata": {},
   "outputs": [],
   "source": [
    "# Оптимизировать theta на новых данных\n",
    "theta = optimize(X, y, calc_mse_gradient, np.ones(m), 0.01, 5000)"
   ]
  },
  {
   "cell_type": "code",
   "execution_count": 109,
   "metadata": {},
   "outputs": [
    {
     "data": {
      "text/plain": [
       "array([ 2.25328063e+01, -9.21740195e-01,  1.07033639e+00,  1.06388396e-01,\n",
       "        6.86667316e-01, -2.05006416e+00,  2.68062168e+00,  1.40667969e-02,\n",
       "       -3.10608483e+00,  2.57511475e+00, -1.97802851e+00, -2.05725099e+00,\n",
       "        8.48690321e-01, -3.74025884e+00])"
      ]
     },
     "execution_count": 109,
     "metadata": {},
     "output_type": "execute_result"
    }
   ],
   "source": [
    "theta"
   ]
  },
  {
   "cell_type": "code",
   "execution_count": 110,
   "metadata": {},
   "outputs": [],
   "source": [
    "# Сделать предсказания при полученных параметрах\n",
    "y_pred = X.dot(theta)"
   ]
  },
  {
   "cell_type": "code",
   "execution_count": 111,
   "metadata": {},
   "outputs": [
    {
     "name": "stdout",
     "output_type": "stream",
     "text": [
      "MSE = 21.90, RMSE = 4.68\n"
     ]
    }
   ],
   "source": [
    "# Посчитать значение ошибок MSE и RMSE для тренировочных данных\n",
    "print_regression_metrics(y, y_pred)"
   ]
  },
  {
   "cell_type": "code",
   "execution_count": 112,
   "metadata": {},
   "outputs": [
    {
     "name": "stdout",
     "output_type": "stream",
     "text": [
      "MSE = 24.77, RMSE = 4.98\n"
     ]
    }
   ],
   "source": [
    "# Разбить выборку на train/valid, оптимизировать theta,\n",
    "# сделать предсказания и посчитать ошибки MSE и RMSE\n",
    "\n",
    "X_train, X_valid, y_train, y_valid = train_test_split(X, y, test_size=0.2)\n",
    "theta = optimize(X_train, y_train, calc_mse_gradient, np.ones(m), 0.01, 5000)\n",
    "y_pred = X_valid.dot(theta)\n",
    "\n",
    "print_regression_metrics(y_valid, y_pred)"
   ]
  },
  {
   "cell_type": "markdown",
   "metadata": {},
   "source": [
    "### Задание 3.6.1\n",
    "Реализуйте матричную линейную регрессию. Какой получился RMSE?\n",
    "Ответ округлите до сотых."
   ]
  },
  {
   "cell_type": "code",
   "execution_count": 113,
   "metadata": {},
   "outputs": [
    {
     "name": "stdout",
     "output_type": "stream",
     "text": [
      "RMSE: 4.68\n"
     ]
    },
    {
     "name": "stderr",
     "output_type": "stream",
     "text": [
      "<ipython-input-113-bb8580411963>:4: FutureWarning: `rcond` parameter will change to the default of machine precision times ``max(M, N)`` where M and N are the input matrix dimensions.\n",
      "To use the future default and silence this warning we advise to pass `rcond=None`, to keep using the old, explicitly pass `rcond=-1`.\n",
      "  theta = np.linalg.lstsq(X, y)[0]\n"
     ]
    }
   ],
   "source": [
    "data = load_boston()\n",
    "X, y = data['data'], data['target']\n",
    "X = np.hstack([np.ones(X.shape[0])[:, np.newaxis], X])\n",
    "theta = np.linalg.lstsq(X, y)[0]\n",
    "y_pred = X.dot(theta)\n",
    "mse = mean_squared_error(y, y_pred)\n",
    "rmse = np.sqrt(mse)\n",
    "\n",
    "print(f\"RMSE: {round(rmse,2)}\")"
   ]
  },
  {
   "cell_type": "markdown",
   "metadata": {},
   "source": [
    "### Задание 3.6.2\n",
    "Постройте модель при помощи sklearn. Используйте параметры по умолчанию, обучите на всей выборке и посчитайте RMSE.\n",
    "*Ответ округлите до сотых.*"
   ]
  },
  {
   "cell_type": "code",
   "execution_count": 114,
   "metadata": {},
   "outputs": [
    {
     "name": "stdout",
     "output_type": "stream",
     "text": [
      "RMSE: 4.68\n"
     ]
    }
   ],
   "source": [
    "X, y = data['data'], data['target']\n",
    "X = np.hstack([np.ones(X.shape[0])[:, np.newaxis], X])\n",
    "model = LinearRegression() #Обозначаем, что наша модель - линейная регрессия\n",
    "model.fit(X,y)\n",
    "y_pred = model.predict(X)\n",
    "mse = mean_squared_error(y, y_pred)\n",
    "rmse = np.sqrt(mse)\n",
    "\n",
    "print(f\"RMSE: {round(rmse,2)}\")"
   ]
  },
  {
   "cell_type": "markdown",
   "metadata": {},
   "source": [
    "### Задание 3.6.3\n",
    "У какого из признаков наибольшее стандартное отклонение? Чему оно равно?  \n",
    "*Ответ округлите до сотых.*"
   ]
  },
  {
   "cell_type": "code",
   "execution_count": 115,
   "metadata": {},
   "outputs": [
    {
     "name": "stdout",
     "output_type": "stream",
     "text": [
      "наибольшее стандартное отклонение у признака c номером '10'\n",
      "название признака : 'B', оно равно: 168.37\n"
     ]
    }
   ],
   "source": [
    "temp = np.argmax(X.std(axis=0))\n",
    "temp2 = data['feature_names'][np.argmax(X.std(axis=0)) + 1]\n",
    "temp3= np.max(X.std(axis=0))\n",
    "\n",
    "print(f\"наибольшее стандартное отклонение у признака c номером '{temp}'\")\n",
    "print(f\"название признака : '{temp2}', оно равно: {round(temp3,2)}\")"
   ]
  },
  {
   "cell_type": "markdown",
   "metadata": {},
   "source": [
    "### Задание 3.6.4\n",
    "Обучите регрессию без дополнительного столбца единиц. Какой получился RMSE?  \n",
    "*Ответ округлите до сотых.*"
   ]
  },
  {
   "cell_type": "code",
   "execution_count": 117,
   "metadata": {},
   "outputs": [
    {
     "name": "stdout",
     "output_type": "stream",
     "text": [
      "RMSE: 4.68\n"
     ]
    }
   ],
   "source": [
    "X, y = data['data'], data['target']\n",
    "model = LinearRegression() #Обозначаем, что наша модель - линейная регрессия\n",
    "model.fit(X,y)\n",
    "y_pred = model.predict(X)\n",
    "mse = mean_squared_error(y, y_pred)\n",
    "rmse = np.sqrt(mse)\n",
    "\n",
    "print(f\"RMSE: {round(rmse,2)}\")"
   ]
  },
  {
   "cell_type": "markdown",
   "metadata": {},
   "source": [
    "### Задание 3.6.5\n",
    "Очистите данные от строк, где значение признака 'B' меньше 50. Какой получился RMSE?  \n",
    "*Ответ округлите до сотых.*"
   ]
  },
  {
   "cell_type": "code",
   "execution_count": 118,
   "metadata": {},
   "outputs": [],
   "source": [
    "X, y = data['data'], data['target']\n",
    "X = np.hstack([np.ones(X.shape[0])[:, np.newaxis], X])"
   ]
  },
  {
   "cell_type": "code",
   "execution_count": 119,
   "metadata": {},
   "outputs": [
    {
     "data": {
      "text/plain": [
       "(array([], dtype=int64),)"
      ]
     },
     "execution_count": 119,
     "metadata": {},
     "output_type": "execute_result"
    }
   ],
   "source": [
    "# посмотрим где признак 'B' меньше 50\n",
    "np.where(X[:,10]<50)"
   ]
  },
  {
   "cell_type": "markdown",
   "metadata": {},
   "source": [
    "Решение: нет ни одной строки где признак меньше 50, поэтому ответ не изменится  \n",
    "Ответ: 4.68"
   ]
  },
  {
   "cell_type": "markdown",
   "metadata": {},
   "source": [
    "### Задание 3.6.6\n",
    "Нормализуйте признаки и обучите линейную регрессию матричным методом. Какой получился RMSE?  \n",
    "*Ответ округлите до сотых.*"
   ]
  },
  {
   "cell_type": "code",
   "execution_count": 120,
   "metadata": {},
   "outputs": [
    {
     "name": "stdout",
     "output_type": "stream",
     "text": [
      "RMSE: 4.68\n"
     ]
    },
    {
     "name": "stderr",
     "output_type": "stream",
     "text": [
      "<ipython-input-120-6e8a0efd03e6>:6: FutureWarning: `rcond` parameter will change to the default of machine precision times ``max(M, N)`` where M and N are the input matrix dimensions.\n",
      "To use the future default and silence this warning we advise to pass `rcond=None`, to keep using the old, explicitly pass `rcond=-1`.\n",
      "  theta = np.linalg.lstsq(X, y)[0]\n"
     ]
    }
   ],
   "source": [
    "# Нормализовать даннные с помощью стандартной нормализации\n",
    "X, y = data['data'], data['target']\n",
    "X = (X - X.mean(axis=0)) / X.std(axis=0)\n",
    "\n",
    "X = np.hstack([np.ones(X.shape[0])[:, np.newaxis], X])\n",
    "theta = np.linalg.lstsq(X, y)[0]\n",
    "y_pred = X.dot(theta)\n",
    "mse = mean_squared_error(y, y_pred)\n",
    "rmse = np.sqrt(mse)\n",
    "\n",
    "print(f\"RMSE: {round(rmse,2)}\")"
   ]
  },
  {
   "cell_type": "markdown",
   "metadata": {},
   "source": [
    "### 3А.7. Линейная регрессия. Практика №2\n"
   ]
  },
  {
   "cell_type": "code",
   "execution_count": 121,
   "metadata": {},
   "outputs": [],
   "source": [
    "import numpy as np\n",
    "import pandas as pd\n",
    "from sklearn.datasets import load_boston\n",
    "from sklearn.metrics import mean_squared_error, f1_score, accuracy_score, roc_curve, roc_auc_score\n",
    "from sklearn.model_selection import train_test_split\n",
    "\n",
    "from matplotlib import pyplot as plt"
   ]
  },
  {
   "cell_type": "markdown",
   "metadata": {},
   "source": [
    "### 2.1.Когда использовать матричные операции вместо градиентного спуска в линейной регрессии"
   ]
  },
  {
   "cell_type": "code",
   "execution_count": 122,
   "metadata": {},
   "outputs": [],
   "source": [
    "def print_regression_metrics(y_true, y_pred):\n",
    "    mse = mean_squared_error(y_true, y_pred)\n",
    "    rmse = np.sqrt(mse)\n",
    "    print(f'MSE = {mse:.2f}, RMSE = {rmse:.2f}')\n",
    "    \n",
    "def prepare_boston_data():\n",
    "    data = load_boston()\n",
    "    X, y = data['data'], data['target']\n",
    "    # Нормализовать даннные с помощью стандартной нормализации\n",
    "    X = (X - X.mean(axis=0)) / X.std(axis=0)\n",
    "    # Добавить фиктивный столбец единиц (bias линейной модели)\n",
    "    X = np.hstack([np.ones(X.shape[0])[:, np.newaxis], X])\n",
    "    \n",
    "    return X, y"
   ]
  },
  {
   "cell_type": "markdown",
   "metadata": {},
   "source": [
    "Прежде чем начать, обернем написанную нами линейную регрессию методом матричных операций в класс:"
   ]
  },
  {
   "cell_type": "code",
   "execution_count": 123,
   "metadata": {},
   "outputs": [],
   "source": [
    "class LinRegAlgebra():\n",
    "    def __init__(self):\n",
    "        self.theta = None\n",
    "    \n",
    "    def fit(self, X, y):\n",
    "        self.theta = np.linalg.inv(X.transpose().dot(X)).dot(X.transpose()).dot(y)\n",
    "    \n",
    "    def predict(self, X):\n",
    "        return X.dot(self.theta)"
   ]
  },
  {
   "cell_type": "markdown",
   "metadata": {},
   "source": [
    "Проведем замеры скорости работы алгоритмов на матричных операциях и на градиентном спуске. Предварительно найдем параметры для метода, основанного на градиентном спуске, так, чтобы значения метрик максимально совпадало со значениями в случае первого алгоритма."
   ]
  },
  {
   "cell_type": "code",
   "execution_count": 124,
   "metadata": {},
   "outputs": [],
   "source": [
    "X, y = prepare_boston_data()"
   ]
  },
  {
   "cell_type": "code",
   "execution_count": 125,
   "metadata": {},
   "outputs": [
    {
     "name": "stdout",
     "output_type": "stream",
     "text": [
      "MSE = 21.89, RMSE = 4.68\n"
     ]
    }
   ],
   "source": [
    "linreg_alg = LinRegAlgebra()\n",
    "linreg_alg.fit(X, y)\n",
    "y_pred = linreg_alg.predict(X)\n",
    "\n",
    "# Посчитать значение ошибок MSE и RMSE для тренировочных данных\n",
    "print_regression_metrics(y, y_pred)"
   ]
  },
  {
   "cell_type": "code",
   "execution_count": 126,
   "metadata": {},
   "outputs": [],
   "source": [
    "class RegOptimizer():\n",
    "    def __init__(self, alpha, n_iters):\n",
    "        self.theta = None\n",
    "        self._alpha = alpha\n",
    "        self._n_iters = n_iters\n",
    "    \n",
    "    def gradient_step(self, theta, theta_grad):\n",
    "        return theta - self._alpha * theta_grad\n",
    "    \n",
    "    def grad_func(self, X, y, theta):\n",
    "        raise NotImplementedError()\n",
    "\n",
    "    def optimize(self, X, y, start_theta, n_iters):\n",
    "        theta = start_theta.copy()\n",
    "\n",
    "        for i in range(n_iters):\n",
    "            theta_grad = self.grad_func(X, y, theta)\n",
    "            theta = self.gradient_step(theta, theta_grad)\n",
    "\n",
    "        return theta\n",
    "    \n",
    "    def fit(self, X, y):\n",
    "        m = X.shape[1]\n",
    "        start_theta = np.ones(m)\n",
    "        self.theta = self.optimize(X, y, start_theta, self._n_iters)\n",
    "        \n",
    "    def predict(self, X):\n",
    "        raise NotImplementedError()"
   ]
  },
  {
   "cell_type": "code",
   "execution_count": 127,
   "metadata": {},
   "outputs": [],
   "source": [
    "class LinReg(RegOptimizer):\n",
    "    def grad_func(self, X, y, theta):\n",
    "        n = X.shape[0]\n",
    "        grad = 1. / n * X.transpose().dot(X.dot(theta) - y)\n",
    "\n",
    "        return grad\n",
    "    \n",
    "    def predict(self, X):\n",
    "        if self.theta is None:\n",
    "            raise Exception('You should train the model first')\n",
    "        \n",
    "        y_pred = X.dot(self.theta)\n",
    "        \n",
    "        return y_pred"
   ]
  },
  {
   "cell_type": "code",
   "execution_count": 128,
   "metadata": {},
   "outputs": [
    {
     "name": "stdout",
     "output_type": "stream",
     "text": [
      "MSE = 21.89, RMSE = 4.68\n"
     ]
    }
   ],
   "source": [
    "linreg_crit = LinReg(0.2,1000)\n",
    "linreg_crit.fit(X, y)\n",
    "y_pred = linreg_crit.predict(X)\n",
    "\n",
    "# Посчитать значение ошибок MSE и RMSE для тренировочных данных\n",
    "print_regression_metrics(y, y_pred)"
   ]
  },
  {
   "cell_type": "code",
   "execution_count": 129,
   "metadata": {},
   "outputs": [
    {
     "name": "stdout",
     "output_type": "stream",
     "text": [
      "33 µs ± 1.81 µs per loop (mean ± std. dev. of 7 runs, 10000 loops each)\n"
     ]
    }
   ],
   "source": [
    "%timeit linreg_alg.fit(X, y)"
   ]
  },
  {
   "cell_type": "code",
   "execution_count": 130,
   "metadata": {},
   "outputs": [
    {
     "name": "stdout",
     "output_type": "stream",
     "text": [
      "11.7 ms ± 65.4 µs per loop (mean ± std. dev. of 7 runs, 100 loops each)\n"
     ]
    }
   ],
   "source": [
    "%timeit linreg_crit.fit(X, y)"
   ]
  },
  {
   "cell_type": "code",
   "execution_count": 131,
   "metadata": {},
   "outputs": [],
   "source": [
    "linreg_crit.fit(X, y)"
   ]
  },
  {
   "cell_type": "markdown",
   "metadata": {},
   "source": [
    "Как видно из результатов эксперимента, реализация на матричных операциях опережает реализацию на градиентном спуске в 500 раз. Но всегда ли это так и какие подводные камни могут быть? Ниже приведен набор случаев, при которых версия с градентным спуском предпочтительнее:\n",
    "\n",
    "1. Градиентный спуск работает быстрее в случае матриц с большим количеством признаков. Основная по сложности операция — нахождение обратной матрицы $(X^T X)^{-1}$.\n",
    "1. Нахождение обратной матрицы может также потребовать больше оперативной памяти, что иногда является не приемлемым.\n",
    "1. Матричные операции могут также проигрывать и в случае небольших объемов данных, но при плохой параллельной реализации или недостаточных ресурсах.\n",
    "1. Градиентный спуск может быть усовершенствован до так называемого **стохастического градиентного спуска**, при котором данные для оптимизации подгружаются небольшими наборами, что уменьшает требования по памяти.\n",
    "1. В некоторых случаях (например, в случае линейно-зависимых строк) алгебраический способ решения не будет работать совсем в виду невозможности найти обратную матрицу."
   ]
  },
  {
   "cell_type": "markdown",
   "metadata": {},
   "source": [
    "### 2.2. Превращение линейной модели в нелинейную"
   ]
  },
  {
   "cell_type": "markdown",
   "metadata": {},
   "source": [
    "Нелинейные зависимости в данных встречаются намного чаще линейных. На самом деле простейшая линейная регрессия способна обнаруживать нелинейные зависимости. Для этого необходимо рассмотреть дополнительные признаки, полученные из исходных применением различных нелинейных функций. Возьмем уже знакомый датасет с ценами на квартиры в Бостоне и последовательно станем применять различные функции к исходным признакам:"
   ]
  },
  {
   "cell_type": "markdown",
   "metadata": {},
   "source": [
    "Boston Data. Attribute Information (in order):\n",
    "    - CRIM     per capita crime rate by town\n",
    "    - ZN       proportion of residential land zoned for lots over 25,000 sq.ft.\n",
    "    - INDUS    proportion of non-retail business acres per town\n",
    "    - CHAS     Charles River dummy variable (= 1 if tract bounds river; 0 otherwise)\n",
    "    - NOX      nitric oxides concentration (parts per 10 million)\n",
    "    - RM       average number of rooms per dwelling\n",
    "    - AGE      proportion of owner-occupied units built prior to 1940\n",
    "    - DIS      weighted distances to five Boston employment centres\n",
    "    - RAD      index of accessibility to radial highways\n",
    "    - TAX      full-value property-tax rate per `$10000`\n",
    "    - PTRATIO  pupil-teacher ratio by town\n",
    "    - B        1000(Bk - 0.63)^2 where Bk is the proportion of blacks by town\n",
    "    - LSTAT    % lower status of the population\n",
    "    - MEDV     Median value of owner-occupied homes in $1000's"
   ]
  },
  {
   "cell_type": "code",
   "execution_count": 133,
   "metadata": {},
   "outputs": [],
   "source": [
    "def prepare_boston_data_new():\n",
    "    data = load_boston()\n",
    "    X, y = data['data'], data['target']\n",
    "    \n",
    "    X = np.hstack([X, np.sqrt(X[:, 5:6]), X[:, 6:7] ** 3])\n",
    "    \n",
    "    # Нормализовать даннные с помощью стандартной нормализации\n",
    "    X = (X - X.mean(axis=0)) / X.std(axis=0)\n",
    "    # Добавить фиктивный столбец единиц (bias линейной модели)\n",
    "    X = np.hstack([np.ones(X.shape[0])[:, np.newaxis], X])\n",
    "    \n",
    "    return X, y"
   ]
  },
  {
   "cell_type": "markdown",
   "metadata": {},
   "source": [
    "Мы добавили два новых признака:\n",
    "1. Взяли корень из признака RM (среднее число комнат на сожителя)\n",
    "1. Возвели в куб значения признака AGE\n",
    "\n",
    "Это только два примера. Всевозможных комбинаций признаков и примененных к ним функций неограниченное количество."
   ]
  },
  {
   "cell_type": "code",
   "execution_count": 134,
   "metadata": {},
   "outputs": [],
   "source": [
    "def train_validate(X, y):\n",
    "    # Разбить данные на train/valid\n",
    "    X_train, X_valid, y_train, y_valid = train_test_split(X, y, test_size=0.2, shuffle=True, random_state=1)\n",
    "\n",
    "    # Создать и обучить линейную регрессию\n",
    "    linreg_alg = LinRegAlgebra()\n",
    "    linreg_alg.fit(X_train, y_train)\n",
    "\n",
    "    # Сделать предсказания по валидционной выборке\n",
    "    y_pred = linreg_alg.predict(X_valid)\n",
    "\n",
    "    # Посчитать значение ошибок MSE и RMSE для валидационных данных\n",
    "    print_regression_metrics(y_valid, y_pred)"
   ]
  },
  {
   "cell_type": "code",
   "execution_count": 135,
   "metadata": {},
   "outputs": [
    {
     "name": "stdout",
     "output_type": "stream",
     "text": [
      "MSE = 23.38, RMSE = 4.84\n"
     ]
    }
   ],
   "source": [
    "# Подготовить данные без модификации признаков\n",
    "X, y = prepare_boston_data()\n",
    "# Провести эксперимент\n",
    "train_validate(X, y)"
   ]
  },
  {
   "cell_type": "code",
   "execution_count": 136,
   "metadata": {},
   "outputs": [
    {
     "name": "stdout",
     "output_type": "stream",
     "text": [
      "MSE = 14.28, RMSE = 3.78\n"
     ]
    }
   ],
   "source": [
    "# Подготовить данные без модификации признаков\n",
    "X, y = prepare_boston_data_new()\n",
    "# Провести эксперимент\n",
    "train_validate(X, y)"
   ]
  },
  {
   "cell_type": "markdown",
   "metadata": {},
   "source": [
    "Как видно из результатов, мы добились улучшения точности предсказаний на 40%, всего лишь добавив пару нелинейных признаков в имеющимся. Можете поиграть с признаками и еще улучшить результат."
   ]
  },
  {
   "cell_type": "markdown",
   "metadata": {},
   "source": [
    "### Задание 3.7.1\n",
    "Сделайте для градиентного спуска остановку алгоритма, если максимальное из абсолютных значений компонент градиента становится меньше 0.01. Сравните скорость обучения градиентным спуском и матричными операциями.  \n",
    "На какой итерации останавливается градиентный спуск?"
   ]
  },
  {
   "cell_type": "code",
   "execution_count": 137,
   "metadata": {},
   "outputs": [],
   "source": [
    "class RegOptimizer():\n",
    "    def __init__(self, alpha, delta_stop):\n",
    "        self.theta = None\n",
    "        self._alpha = alpha\n",
    "        self._delta_stop = delta_stop\n",
    "    \n",
    "    def gradient_step(self, theta, theta_grad):\n",
    "        return theta - self._alpha * theta_grad\n",
    "    \n",
    "    def grad_func(self, X, y, theta):\n",
    "        raise NotImplementedError()\n",
    "\n",
    "    def optimize(self, X, y, start_theta, delta_stop):\n",
    "        theta = start_theta.copy()\n",
    "        \n",
    "        n_iters=1000\n",
    "        for i in range(1,n_iters):\n",
    "            theta_grad = self.grad_func(X, y, theta)\n",
    "            theta = self.gradient_step(theta, theta_grad)\n",
    "\n",
    "            if abs(theta_grad).max()<delta_stop:\n",
    "                print(i, theta_grad)\n",
    "                print(f'на {i} итерации, максимальное из абсолютных значений компонент градиента меньше {delta_stop}')\n",
    "                break\n",
    "            else:\n",
    "                print(i, theta_grad)\n",
    "\n",
    "        return theta\n",
    "    \n",
    "    def fit(self, X, y):\n",
    "        m = X.shape[1]\n",
    "        start_theta = np.ones(m)\n",
    "        self.theta = self.optimize(X, y, start_theta, self._delta_stop)\n",
    "        \n",
    "    def predict(self, X):\n",
    "        raise NotImplementedError()"
   ]
  },
  {
   "cell_type": "code",
   "execution_count": 138,
   "metadata": {},
   "outputs": [],
   "source": [
    "class LinReg_with_autoStop(RegOptimizer):\n",
    "    def grad_func(self, X, y, theta):\n",
    "        n = X.shape[0]\n",
    "        grad = 1. / n * X.transpose().dot(X.dot(theta) - y)\n",
    "\n",
    "        return grad\n",
    "    \n",
    "    def predict(self, X):\n",
    "        if self.theta is None:\n",
    "            raise Exception('You should train the model first')\n",
    "        \n",
    "        y_pred = X.dot(self.theta)\n",
    "        \n",
    "        return y_pred"
   ]
  },
  {
   "cell_type": "code",
   "execution_count": 139,
   "metadata": {},
   "outputs": [
    {
     "name": "stdout",
     "output_type": "stream",
     "text": [
      "1 [-21.53280632   6.46153158  -4.45417629   7.63485292  -0.64575753\n",
      "   7.02472697  -7.2769985    6.27407833  -4.59765138   7.18996587\n",
      "   8.07955422   6.81028022  -4.24526887   9.49319148]\n",
      "2 [-17.22624506  -0.76777744   2.43435783  -1.98000655  -0.39617731\n",
      "  -2.26434002  -1.2036624   -2.18859218   3.87319887  -1.84442738\n",
      "  -1.50995832   0.52517442   1.43044646   0.37052068]\n",
      "3 [-13.78099605   0.67900499   0.59056382   0.27988893  -0.11251007\n",
      "   0.13001761  -1.81679992   0.02284493   1.43623638   0.13359249\n",
      "   0.55862074   1.4256686    0.12384556   1.98075431]\n",
      "4 [-11.02479684   0.22424817   0.78156843  -0.16463712   0.0369566\n",
      "  -0.19452384  -1.10694872  -0.26317539   1.58634732  -0.34365873\n",
      "   0.03118888   0.84703832   0.3824877    1.26668806]\n",
      "5 [-8.81983747  0.23566652  0.56325779 -0.01956947  0.13081937  0.03160939\n",
      " -0.8342598  -0.05198619  1.24814717 -0.25053006  0.11000251  0.70341326\n",
      "  0.28539535  1.14906881]\n",
      "6 [-7.05586998e+00  1.68372425e-01  4.73913225e-01 -2.14000322e-02\n",
      "  1.79769343e-01  8.87129026e-02 -5.68288836e-01  2.88743522e-04\n",
      "  1.08998049e+00 -2.75260787e-01  6.64208834e-02  5.35418679e-01\n",
      "  2.68715366e-01  9.53047503e-01]\n",
      "7 [-5.64469598e+00  1.37300798e-01  3.83187533e-01  1.09228888e-05\n",
      "  2.01118845e-01  1.51402929e-01 -3.80633534e-01  5.49952905e-02\n",
      "  9.43180311e-01 -2.66920308e-01  5.99346548e-02  4.26309331e-01\n",
      "  2.35964989e-01  8.18120463e-01]\n",
      "8 [-4.51575678  0.11106013  0.31390582  0.00925514  0.20455889  0.18931647\n",
      " -0.2359909   0.08544187  0.83257281 -0.26224074  0.05140219  0.34263565\n",
      "  0.20980542  0.70326228]\n",
      "9 [-3.61260543  0.09289314  0.25613399  0.01638441  0.19718659  0.21580947\n",
      " -0.12782954  0.1045862   0.74289614 -0.25468456  0.04748982  0.28129849\n",
      "  0.1854906   0.61039422]\n",
      "10 [-2.89008434  0.07939086  0.20857477  0.02059378  0.18366358  0.23259291\n",
      " -0.04664724  0.11449174  0.67047893 -0.24681894  0.04524964  0.23529253\n",
      "  0.16411793  0.53346552]\n",
      "11 [-2.31206747  0.06944678  0.16888159  0.02309286  0.16709595  0.24270505\n",
      "  0.01374546  0.11827036  0.61089772 -0.23873448  0.04438155  0.2006188\n",
      "  0.14527878  0.46951337]\n",
      "12 [-1.84965398  0.06199488  0.13559029  0.024332    0.14948356  0.24794543\n",
      "  0.05829193  0.11778629  0.5612556  -0.23080462  0.04431346  0.17414131\n",
      "  0.12880665  0.41585894]\n",
      "13 [-1.47972318  0.05634966  0.10750635  0.02471735  0.13207535  0.24971179\n",
      "  0.09071087  0.11445726  0.51930442 -0.22316327  0.04475275  0.15364571\n",
      "  0.11444017  0.37050534]\n",
      "14 [-1.18377855  0.05201152  0.08371731  0.02451329  0.11560992  0.24899854\n",
      "  0.11385702  0.10927762  0.48337834 -0.21588834  0.04548963  0.13751832\n",
      "  0.1019333   0.33187182]\n",
      "15 [-0.94702284  0.04862862  0.06350055  0.02390941  0.10048549  0.24653256\n",
      "  0.12991469  0.10295959  0.45221668 -0.20900344  0.04639249  0.12459546\n",
      "  0.09104998  0.29872068]\n",
      "16 [-0.75761827  0.04594857  0.04628009  0.02303712  0.08687738  0.24284074\n",
      "  0.14056116  0.09600665  0.42486387 -0.20250526  0.04737606  0.1140356\n",
      "  0.0815754   0.27007308]\n",
      "17 [-0.60609462  0.0437897   0.03159029  0.02198833  0.07481907  0.23830589\n",
      "  0.14708616  0.08877296  0.40058975 -0.19637506  0.04838648  0.105231\n",
      "  0.07331775  0.24515156]\n",
      "18 [-0.48487569  0.04202006  0.01905057  0.02082703  0.0642574   0.23320578\n",
      "  0.15048317  0.08150462  0.37883261 -0.19058707  0.04939009  0.09774261\n",
      "  0.06610861  0.22333481]\n",
      "19 [-0.38790055  0.04054299  0.00834663  0.01959772  0.05508977  0.22774177\n",
      "  0.15151853  0.07436988  0.35915703 -0.18511314  0.0503662   0.0912532\n",
      "  0.05980166  0.2041234 ]\n",
      "20 [-0.31032044  0.03928704 -0.00078348  0.01833133  0.04718882  0.22205963\n",
      "  0.15078403  0.06748091  0.34122273 -0.1799256   0.05130244  0.08553338\n",
      "  0.05427071  0.18711339]\n",
      "21 [-0.24825635  0.03819892 -0.00855978  0.01704935  0.04041832  0.2162646\n",
      "  0.14873701  0.06090958  0.32476161 -0.17499857  0.05219162  0.08041697\n",
      "  0.04940752  0.17197603]\n",
      "22 [-0.19860508  0.03723852 -0.01516836  0.01576671  0.03464318  0.21043242\n",
      "  0.14573097  0.05469888  0.30956058 -0.17030869  0.05302985  0.07578324\n",
      "  0.04511953  0.15844211]\n",
      "23 [-0.15888407  0.03637541 -0.02076753  0.01449378  0.02973537  0.2046173\n",
      "  0.14203909  0.04887123  0.29544878 -0.16583524  0.05381523  0.07154411\n",
      "  0.04132773  0.14628977]\n",
      "24 [-0.12710725  0.03558636 -0.02549258  0.0132378   0.02557715  0.19885778\n",
      "  0.13787226  0.0434345   0.28228796 -0.16156004  0.05454711  0.06763485\n",
      "  0.03796473  0.13533501]\n",
      "25 [-0.1016858   0.03485353 -0.02945965  0.01200382  0.0220625   0.19318095\n",
      "  0.13339297  0.03838643  0.26996523 -0.15746726  0.05522561  0.06400748\n",
      "  0.03497306  0.12542428]\n",
      "26 [-0.08134864  0.03416318 -0.03276875  0.01079539  0.01909747  0.1876056\n",
      "  0.12872606  0.03371776  0.25838756 -0.15354312  0.05585131  0.06062593\n",
      "  0.03230365  0.11642863]\n",
      "27 [-0.06507891  0.03350475 -0.03550625  0.00961499  0.01659977  0.18214442\n",
      "  0.123967    0.02941462  0.24747759 -0.14977559  0.05642509  0.05746265\n",
      "  0.02991461  0.10823913]\n",
      "28 [-0.05206313  0.03287007 -0.03774695  0.00846439  0.01449799  0.17680571\n",
      "  0.11918838  0.02546014  0.23717041 -0.14615418  0.05694803  0.05449617\n",
      "  0.02777005  0.10076319]\n",
      "29 [-0.0416505   0.03225294 -0.03955575  0.00734483  0.01273066  0.17159456\n",
      "  0.11444491  0.02183572  0.22741104 -0.1426696   0.05742134  0.05170934\n",
      "  0.02583922  0.09392167]\n",
      "30 [-0.0333204   0.03164861 -0.04098905  0.00625718  0.01124513  0.16651374\n",
      "  0.10977731  0.01852184  0.21815256 -0.13931365  0.05784633  0.04908809\n",
      "  0.0240957   0.08764654]\n",
      "31 [-0.02665632  0.03105356 -0.04209597  0.00520203  0.00999655  0.16156433\n",
      "  0.10521543  0.01549878  0.20935455 -0.13607899  0.05822438  0.04662057\n",
      "  0.02251676  0.081879  ]\n",
      "32 [-0.02132506  0.03046518 -0.04291932  0.0041798   0.00894689  0.1567462\n",
      "  0.10078059  0.01274695  0.20098191 -0.13295902  0.05855694  0.04429657\n",
      "  0.02108278  0.07656797]\n",
      "33 [-0.01706005  0.02988165 -0.04349649  0.0031907   0.00806398  0.15205838\n",
      "  0.09648751  0.01024727  0.19300396 -0.12994773  0.05884551  0.04210701\n",
      "  0.0197768   0.07166886]\n",
      "34 [-0.01364804  0.0293017  -0.04386015  0.00223486  0.0073207   0.14749926\n",
      "  0.09234574  0.00798137  0.18539362 -0.12703966  0.05909161  0.04004374\n",
      "  0.01858413  0.06714255]\n",
      "35 [-0.01091843  0.02872455 -0.04403888  0.00131225  0.00669424  0.14306682\n",
      "  0.08836086  0.00593166  0.17812689 -0.12422975  0.05929683  0.03809924\n",
      "  0.01749202  0.0629546 ]\n",
      "36 [-0.00873474  0.02814979 -0.04405772  0.00042281  0.00616544  0.13875873\n",
      "  0.08453539  0.0040815   0.17118231 -0.12151334  0.05946275  0.03626657\n",
      "  0.01648936  0.0590745 ]\n",
      "37 [-0.0069878   0.02757726 -0.04393861 -0.00043365  0.00571825  0.13457249\n",
      "  0.08086951  0.00241517  0.16454058 -0.11888607  0.05959096  0.03453921\n",
      "  0.01556647  0.05547518]\n",
      "38 [-0.00559024  0.02700706 -0.0437008  -0.00125737  0.00533924  0.13050545\n",
      "  0.07736161  0.00091793  0.15818425 -0.11634389  0.05968306  0.03291103\n",
      "  0.01471491  0.0521325 ]\n",
      "39 [-0.00447219  0.02643941 -0.04336118 -0.00204866  0.00501719  0.12655488\n",
      "  0.07400879 -0.00042404  0.15209748 -0.11388298  0.05974065  0.03137622\n",
      "  0.01392727  0.04902486]\n",
      "40 [-0.00357775  0.02587468 -0.04293459 -0.00280788  0.0047427   0.12271804\n",
      "  0.07080714 -0.00162359  0.14626577 -0.11149975  0.05976531  0.02992929\n",
      "  0.01319706  0.04613288]\n",
      "41 [-0.0028622   0.02531331 -0.04243407 -0.00353547  0.00450795  0.11899214\n",
      "  0.0677521  -0.00269271  0.14067581 -0.10919083  0.05975861  0.02856503\n",
      "  0.01251858  0.04343911]\n",
      "42 [-0.00228976  0.02475576 -0.04187108 -0.00423188  0.00430641  0.11537445\n",
      "  0.06483861 -0.00364251  0.13531534 -0.106953    0.05972208  0.02727849\n",
      "  0.0118868   0.0409278 ]\n",
      "43 [-0.00183181  0.02420257 -0.0412557  -0.00489763  0.00413264  0.11186221\n",
      "  0.06206133 -0.00448329  0.13017302 -0.10478324  0.05965721  0.026065\n",
      "  0.01129729  0.03858468]\n",
      "44 [-0.00146545  0.02365426 -0.0405968  -0.00553328  0.0039821   0.10845273\n",
      "  0.05941473 -0.00522457  0.1252383  -0.10267868  0.05956549  0.02492011\n",
      "  0.01074615  0.03639682]\n",
      "45 [-0.00117236  0.02311134 -0.03990216 -0.00613941  0.00385101  0.10514333\n",
      "  0.05689323 -0.00587515  0.12050137 -0.1006366   0.05944833  0.02383962\n",
      "  0.01022989  0.03435246]\n",
      "46 [-0.00093789  0.02257433 -0.03917865 -0.00671664  0.00373622  0.10193139\n",
      "  0.05449126 -0.00644313  0.11595305 -0.0986544   0.05930712  0.02281957\n",
      "  0.00974546  0.03244087]\n",
      "47 [-0.00075031  0.0220437  -0.03843228 -0.00726562  0.00363509  0.09881434\n",
      "  0.05220331 -0.006936    0.11158475 -0.09672962  0.05914321  0.02185623\n",
      "  0.0092901   0.03065226]\n",
      "48 [-0.00060025  0.02151991 -0.03766835 -0.00778702  0.00354545  0.09578964\n",
      "  0.050024   -0.00736063  0.10738839 -0.09485994  0.05895789  0.02094605\n",
      "  0.00886141  0.02897768]\n",
      "49 [-0.0004802   0.02100338 -0.03689149 -0.00828153  0.00346546  0.09285482\n",
      "  0.04794809 -0.00772335  0.10335637 -0.09304312  0.0587524   0.02008571\n",
      "  0.00845719  0.02740892]\n",
      "50 [-0.00038416  0.02049448 -0.03610579 -0.00874984  0.00339361  0.09000744\n",
      "  0.04597052 -0.00802996  0.09948152 -0.09127706  0.05852793  0.01927211\n",
      "  0.00807551  0.02593846]\n",
      "51 [-0.00030733  0.01999356 -0.0353148  -0.00919268  0.00332861  0.08724514\n",
      "  0.04408641 -0.00828579  0.09575708 -0.08955974  0.05828565  0.0185023\n",
      "  0.00771464  0.02455937]\n",
      "52 [-0.00024586  0.01950093 -0.03452164 -0.00961076  0.00326941  0.08456557\n",
      "  0.04229107 -0.00849573  0.09217664 -0.08788924  0.05802665  0.01777354\n",
      "  0.007373    0.0232653 ]\n",
      "53 [-0.00019669  0.01901686 -0.03372903 -0.01000482  0.00321512  0.08196647\n",
      "  0.04058003 -0.00866426  0.08873412 -0.08626374  0.05775199  0.01708323\n",
      "  0.0070492   0.02205037]\n",
      "54 [-0.00015735  0.01854156 -0.03293934 -0.01037559  0.00316499  0.0794456\n",
      "  0.03894902 -0.00879549  0.08542376 -0.08468152  0.05746267  0.01642898\n",
      "  0.00674198  0.02090917]\n",
      "55 [-0.00012588  0.01807524 -0.03215462 -0.01072381  0.0031184   0.0770008\n",
      "  0.03739395 -0.00889315  0.0822401  -0.08314091  0.05715965  0.01580852\n",
      "  0.00645018  0.01983672]\n",
      "56 [-0.0001007   0.01761806 -0.03137665 -0.0110502   0.00307484  0.07462992\n",
      "  0.03591095 -0.00896069  0.07917792 -0.08164034  0.05684386  0.01521973\n",
      "  0.00617277  0.01882838]\n",
      "57 [-8.05637931e-05  1.71701307e-02 -3.06069513e-02 -1.13555030e-02\n",
      "  3.03385244e-03  7.23309008e-02  3.44963373e-02 -9.00123006e-03\n",
      "  7.62322775e-02 -8.01783100e-02  5.65161604e-02  1.46606364e-02\n",
      "  5.90881685e-03  1.78799004e-02]\n",
      "58 [-6.44510345e-05  1.67315526e-02 -2.98468362e-02 -1.16404334e-02\n",
      "  2.99507963e-03  7.01017028e-02  3.31466258e-02 -9.01763816e-03\n",
      "  7.33984434e-02 -7.87533965e-02  5.61773862e-02  1.41293994e-02\n",
      "  5.65745611e-03  1.69873121e-02]\n",
      "59 [-5.15608276e-05  1.63023886e-02 -2.90974191e-02 -1.19057104e-02\n",
      "  2.95820841e-03  6.79403454e-02  3.18585004e-02 -9.01252193e-03\n",
      "  7.06719197e-02 -7.73642349e-02  5.58283286e-02  1.36242924e-02\n",
      "  5.41791076e-03  1.61469526e-02]\n",
      "60 [-4.12486621e-05  1.58826755e-02 -2.83596408e-02 -1.21520419e-02\n",
      "  2.92297684e-03  6.58448931e-02  3.06288243e-02 -8.98826027e-03\n",
      "  6.80484120e-02 -7.60095271e-02  5.54697392e-02  1.31437071e-02\n",
      "  5.18946778e-03  1.53554222e-02]\n",
      "61 [-3.29989297e-05  1.54724247e-02 -2.76342888e-02 -1.23801259e-02\n",
      "  2.88916360e-03  6.38134571e-02  2.94546275e-02 -8.94702011e-03\n",
      "  6.55238198e-02 -7.46880353e-02  5.51023323e-02  1.26861427e-02\n",
      "  4.97147388e-03  1.46095654e-02]\n",
      "62 [-2.63991437e-05  1.50716245e-02 -2.69220136e-02 -1.25906489e-02\n",
      "  2.85658147e-03  6.18441945e-02  2.83330997e-02 -8.89077368e-03\n",
      "  6.30942254e-02 -7.33985790e-02  5.47267861e-02  1.22501993e-02\n",
      "  4.76332919e-03  1.39064515e-02]\n",
      "63 [-2.11193150e-05  1.46802424e-02 -2.62233447e-02 -1.27842855e-02\n",
      "  2.82507171e-03  5.99353078e-02  2.72615818e-02 -8.82131462e-03\n",
      "  6.07558843e-02 -7.21400318e-02  5.43437442e-02  1.18345713e-02\n",
      "  4.56448155e-03  1.32433566e-02]\n",
      "64 [-1.68954520e-05  1.42982262e-02 -2.55387038e-02 -1.29616972e-02\n",
      "  2.79449954e-03  5.80850438e-02  2.62375592e-02 -8.74027270e-03\n",
      "  5.85052152e-02 -7.09113189e-02  5.39538174e-02  1.14380413e-02\n",
      "  4.37442161e-03  1.26177479e-02]\n",
      "65 [-1.35163616e-05  1.39255067e-02 -2.48684174e-02 -1.31235316e-02\n",
      "  2.76475031e-03  5.62916935e-02  2.52586538e-02 -8.64912749e-03\n",
      "  5.63387915e-02 -6.97114141e-02  5.35575848e-02  1.10594741e-02\n",
      "  4.19267845e-03  1.20272682e-02]\n",
      "66 [-1.08130893e-05  1.35619991e-02 -2.42127278e-02 -1.32704219e-02\n",
      "  2.73572631e-03  5.45535912e-02  2.43226170e-02 -8.54922094e-03\n",
      "  5.42533332e-02 -6.85393375e-02  5.31555957e-02  1.06978112e-02\n",
      "  4.01881570e-03  1.14697232e-02]\n",
      "67 [-8.65047142e-06  1.32076046e-02 -2.35718023e-02 -1.34029863e-02\n",
      "  2.70734415e-03  5.28691134e-02  2.34273228e-02 -8.44176895e-03\n",
      "  5.22456996e-02 -6.73941532e-02  5.27483704e-02  1.03520658e-02\n",
      "  3.85242817e-03  1.09430686e-02]\n",
      "68 [-6.92037714e-06  1.28622119e-02 -2.29457427e-02 -1.35218276e-02\n",
      "  2.67953249e-03  5.12366789e-02  2.25707607e-02 -8.32787205e-03\n",
      "  5.03128819e-02 -6.62749667e-02  5.23364023e-02  1.00213177e-02\n",
      "  3.69313884e-03  1.04453991e-02]\n",
      "69 [-5.53630171e-06  1.25256992e-02 -2.23345927e-02 -1.36275329e-02\n",
      "  2.65223025e-03  4.96547473e-02  2.17510300e-02 -8.20852521e-03\n",
      "  4.84519972e-02 -6.51809230e-02  5.19201584e-02  9.70470870e-03\n",
      "  3.54059616e-03  9.97493791e-03]\n",
      "70 [-4.42904137e-06  1.21979348e-02 -2.17383450e-02 -1.37206733e-02\n",
      "  2.62538504e-03  4.81218189e-02  2.09663326e-02 -8.08462685e-03\n",
      "  4.66602821e-02 -6.41112046e-02  5.15000815e-02  9.40143838e-03\n",
      "  3.39447174e-03  9.53002744e-03]\n",
      "71 [-3.54323310e-06  1.18787790e-02 -2.11569476e-02 -1.38018039e-02\n",
      "  2.59895183e-03  4.66364333e-02  2.02149683e-02 -7.95698716e-03\n",
      "  4.49350868e-02 -6.30650294e-02  5.10765905e-02  9.11076006e-03\n",
      "  3.25445824e-03  9.10912047e-03]\n",
      "72 [-2.83458647e-06  1.15680850e-02 -2.05903095e-02 -1.38714634e-02\n",
      "  2.57289193e-03  4.51971695e-02  1.94953283e-02 -7.82633574e-03\n",
      "  4.32738703e-02 -6.20416490e-02  5.06500822e-02  8.83197699e-03\n",
      "  3.12026749e-03  8.71077214e-03]\n",
      "73 [-2.26766918e-06  1.12656998e-02 -2.00383057e-02 -1.39301745e-02\n",
      "  2.54717200e-03  4.38026443e-02  1.88058905e-02 -7.69332857e-03\n",
      "  4.16741948e-02 -6.10403470e-02  5.02209320e-02  8.56443884e-03\n",
      "  2.99162885e-03  8.33363260e-03]\n",
      "74 [-1.81413535e-06  1.09714659e-02 -1.95007817e-02 -1.39784435e-02\n",
      "  2.52176334e-03  4.24515124e-02  1.81452143e-02 -7.55855445e-03\n",
      "  4.01337211e-02 -6.00604373e-02  4.97894955e-02  8.30753844e-03\n",
      "  2.86828773e-03  7.97644024e-03]\n",
      "75 [-1.45130828e-06  1.06852214e-02 -1.89775575e-02 -1.40167607e-02\n",
      "  2.49664117e-03  4.11424649e-02  1.75119359e-02 -7.42254094e-03\n",
      "  3.86502042e-02 -5.91012625e-02  4.93561090e-02  8.06070869e-03\n",
      "  2.75000429e-03  7.63801535e-03]\n",
      "76 [-1.16104662e-06  1.04068012e-02 -1.84684315e-02 -1.40456002e-02\n",
      "  2.47178416e-03  3.98742289e-02  1.69047640e-02 -7.28575971e-03\n",
      "  3.72214893e-02 -5.81621928e-02  4.89210905e-02  7.82341970e-03\n",
      "  2.63655222e-03  7.31725442e-03]\n",
      "77 [-9.28837296e-07  1.01360378e-02 -1.79731833e-02 -1.40654204e-02\n",
      "  2.44717390e-03  3.86455669e-02  1.63224755e-02 -7.14863157e-03\n",
      "  3.58455070e-02 -5.72426242e-02  4.84847410e-02  7.59517619e-03\n",
      "  2.52771773e-03  7.01312476e-03]\n",
      "78 [-7.43069835e-07  9.87276220e-03 -1.74915771e-02 -1.40766641e-02\n",
      "  2.42279452e-03  3.74552757e-02  1.57639117e-02 -7.01153101e-03\n",
      "  3.45202705e-02 -5.63419774e-02  4.80473453e-02  7.37551497e-03\n",
      "  2.42329858e-03  6.72465958e-03]\n",
      "79 [-5.94455869e-07  9.61680391e-03 -1.70233640e-02 -1.40797586e-02\n",
      "  2.39863234e-03  3.63021859e-02  1.52279742e-02 -6.87479034e-03\n",
      "  3.32438713e-02 -5.54596965e-02  4.76091723e-02  7.16400268e-03\n",
      "  2.32310319e-03  6.45095344e-03]\n",
      "80 [-4.75564696e-07  9.36799209e-03 -1.65682845e-02 -1.40751159e-02\n",
      "  2.37467561e-03  3.51851611e-02  1.47136220e-02 -6.73870357e-03\n",
      "  3.20144762e-02 -5.45952480e-02  4.71704766e-02  6.96023364e-03\n",
      "  2.22694996e-03  6.19115801e-03]\n",
      "81 [-3.80451760e-07  9.12615584e-03 -1.61260702e-02 -1.40631334e-02\n",
      "  2.35091423e-03  3.41030970e-02  1.42198677e-02 -6.60352987e-03\n",
      "  3.08303236e-02 -5.37481194e-02  4.67314985e-02  6.76382790e-03\n",
      "  2.13466648e-03  5.94447820e-03]\n",
      "82 [-3.04361407e-07  8.89112467e-03 -1.56964463e-02 -1.40441936e-02\n",
      "  2.32733954e-03  3.30549209e-02  1.37457749e-02 -6.46949679e-03\n",
      "  2.96897210e-02 -5.29178188e-02  4.62924653e-02  6.57442939e-03\n",
      "  2.04608897e-03  5.71016850e-03]\n",
      "83 [-2.43489126e-07  8.66272890e-03 -1.52791325e-02 -1.40186649e-02\n",
      "  2.30394414e-03  3.20395909e-02  1.32904548e-02 -6.33680321e-03\n",
      "  2.85910417e-02 -5.21038729e-02  4.58535917e-02  6.39170421e-03\n",
      "  1.96106167e-03  5.48752967e-03]\n",
      "84 [-1.94791302e-07  8.44080008e-03 -1.48738452e-02 -1.39869017e-02\n",
      "  2.28072175e-03  3.10560951e-02  1.28530639e-02 -6.20562201e-03\n",
      "  2.75327223e-02 -5.13058271e-02  4.54150803e-02  6.21533907e-03\n",
      "  1.87943633e-03  5.27590562e-03]\n",
      "85 [-1.55833041e-07  8.22517127e-03 -1.44802983e-02 -1.39492448e-02\n",
      "  2.25766703e-03  3.01034508e-02  1.24328012e-02 -6.07610254e-03\n",
      "  2.65132596e-02 -5.05232439e-02  4.49771225e-02  6.04503984e-03\n",
      "  1.80107175e-03  5.07468050e-03]\n",
      "86 [-1.24666437e-07  8.01567733e-03 -1.40982044e-02 -1.39060217e-02\n",
      "  2.23477548e-03  2.91807039e-02  1.20289061e-02 -5.94837285e-03\n",
      "  2.55312087e-02 -4.97557027e-02  4.45398991e-02  5.88053016e-03\n",
      "  1.72583335e-03  4.88327607e-03]\n",
      "87 [-9.97331490e-08  7.81215515e-03 -1.37272760e-02 -1.38575468e-02\n",
      "  2.21204334e-03  2.82869284e-02  1.16406556e-02 -5.82254175e-03\n",
      "  2.45851800e-02 -4.90027983e-02  4.41035804e-02  5.72155022e-03\n",
      "  1.65359275e-03  4.70114918e-03]\n",
      "88 [-7.97865202e-08  7.61444392e-03 -1.33672264e-02 -1.38041223e-02\n",
      "  2.18946749e-03  2.74212253e-02  1.12673628e-02 -5.69870070e-03\n",
      "  2.36738375e-02 -4.82641408e-02  4.36683272e-02  5.56785557e-03\n",
      "  1.58422742e-03  4.52778951e-03]\n",
      "89 [-6.38292162e-08  7.42238528e-03 -1.30177704e-02 -1.37460378e-02\n",
      "  2.16704538e-03  2.65827220e-02  1.09083746e-02 -5.57692552e-03\n",
      "  2.27958960e-02 -4.75393545e-02  4.32342910e-02  5.41921606e-03\n",
      "  1.51762036e-03  4.36271735e-03]\n",
      "90 [-5.10633734e-08  7.23582347e-03 -1.26786248e-02 -1.36835712e-02\n",
      "  2.14477493e-03  2.57705721e-02  1.05630697e-02 -5.45727792e-03\n",
      "  2.19501195e-02 -4.68280773e-02  4.28016147e-02  5.27541485e-03\n",
      "  1.45365978e-03  4.20548169e-03]\n",
      "91 [-4.08507021e-08  7.05460550e-03 -1.23495093e-02 -1.36169889e-02\n",
      "  2.12265450e-03  2.49839539e-02  1.02308572e-02 -5.33980696e-03\n",
      "  2.11353192e-02 -4.61299605e-02  4.23704328e-02  5.13624747e-03\n",
      "  1.39223881e-03  4.05565830e-03]\n",
      "92 [-3.26805609e-08  6.87858123e-03 -1.20301471e-02 -1.35465461e-02\n",
      "  2.10068281e-03  2.42220706e-02  9.91117474e-03 -5.22455035e-03\n",
      "  2.03503512e-02 -4.54446674e-02  4.19408719e-02  5.00152098e-03\n",
      "  1.33325524e-03  3.91284806e-03]\n",
      "93 [-2.61444480e-08  6.70760349e-03 -1.17202649e-02 -1.34724873e-02\n",
      "  2.07885890e-03  2.34841488e-02  9.60348702e-03 -5.11153562e-03\n",
      "  1.95941152e-02 -4.47718735e-02  4.15130511e-02  4.87105317e-03\n",
      "  1.27661130e-03  3.77667531e-03]\n",
      "94 [-2.09155553e-08  6.54152812e-03 -1.14195936e-02 -1.33950464e-02\n",
      "  2.05718211e-03  2.27694388e-02  9.30728423e-03 -5.00078120e-03\n",
      "  1.88655522e-02 -4.41112656e-02  4.10870824e-02  4.74467183e-03\n",
      "  1.22221340e-03  3.64678639e-03]\n",
      "95 [-1.67324476e-08  6.38021409e-03 -1.11278689e-02 -1.33144473e-02\n",
      "  2.03565200e-03  2.20772131e-02  9.02208082e-03 -4.89229743e-03\n",
      "  1.81636435e-02 -4.34625412e-02  4.06630711e-02  4.62221406e-03\n",
      "  1.16997194e-03  3.52284821e-03]\n",
      "96 [-1.33859571e-08  6.22352347e-03 -1.08448308e-02 -1.32309043e-02\n",
      "  2.01426832e-03  2.14067663e-02  8.74741415e-03 -4.78608741e-03\n",
      "  1.74874085e-02 -4.28254084e-02  4.02411159e-02  4.50352568e-03\n",
      "  1.11980109e-03  3.40454700e-03]\n",
      "97 [-1.07087675e-08  6.07132150e-03 -1.05702245e-02 -1.31446218e-02\n",
      "  1.99303103e-03  2.07574145e-02  8.48284328e-03 -4.68214786e-03\n",
      "  1.68359037e-02 -4.21995851e-02  3.98213094e-02  4.38846061e-03\n",
      "  1.07161866e-03  3.29158705e-03]\n",
      "98 [-8.56701464e-09  5.92347661e-03 -1.03038005e-02 -1.30557957e-02\n",
      "  1.97194021e-03  2.01284944e-02  8.22794784e-03 -4.58046983e-03\n",
      "  1.62082210e-02 -4.15847986e-02  3.94037386e-02  4.27688035e-03\n",
      "  1.02534584e-03  3.18368963e-03]\n",
      "99 [-6.85361017e-09  5.77986041e-03 -1.00453143e-02 -1.29646127e-02\n",
      "  1.95099607e-03  1.95193629e-02  7.98232695e-03 -4.48103936e-03\n",
      "  1.56034860e-02 -4.09807855e-02  3.89884847e-02  4.16865347e-03\n",
      "  9.80907117e-04  3.08059190e-03]\n",
      "100 [-5.48288850e-09  5.64034769e-03 -9.79452716e-03 -1.28712512e-02\n",
      "  1.93019892e-03  1.89293967e-02  7.74559822e-03 -4.38383814e-03\n",
      "  1.50208574e-02 -4.03872910e-02  3.85756237e-02  4.06365517e-03\n",
      "  9.38230093e-04  2.98204596e-03]\n",
      "101 [-4.38631273e-09  5.50481643e-03 -9.55120564e-03 -1.27758814e-02\n",
      "  1.90954915e-03  1.83579916e-02  7.51739678e-03 -4.28884400e-03\n",
      "  1.44595251e-02 -3.98040686e-02  3.81652265e-02  3.96176682e-03\n",
      "  8.97245333e-04  2.88781790e-03]\n",
      "102 [-3.50905038e-09  5.37314774e-03 -9.31512197e-03 -1.26786658e-02\n",
      "  1.88904722e-03  1.78045616e-02  7.29737440e-03 -4.19603147e-03\n",
      "  1.39187094e-02 -3.92308797e-02  3.77573595e-02  3.86287561e-03\n",
      "  8.57886242e-04  2.79768696e-03]\n",
      "103 [-2.80724111e-09  5.24522588e-03 -9.08605396e-03 -1.25797591e-02\n",
      "  1.86869364e-03  1.72685391e-02  7.08519864e-03 -4.10537218e-03\n",
      "  1.33976593e-02 -3.86674935e-02  3.73520843e-02  3.76687412e-03\n",
      "  8.20088934e-04  2.71144475e-03]\n",
      "104 [-2.24578917e-09  5.12093819e-03 -8.86378507e-03 -1.24793091e-02\n",
      "  1.84848894e-03  1.67493739e-02  6.88055203e-03 -4.01683530e-03\n",
      "  1.28956521e-02 -3.81136866e-02  3.69494583e-02  3.67366004e-03\n",
      "  7.83792113e-04  2.62889448e-03]\n",
      "105 [-1.79663183e-09  5.00017509e-03 -8.64810436e-03 -1.23774563e-02\n",
      "  1.82843371e-03  1.62465326e-02  6.68313135e-03 -3.93038789e-03\n",
      "  1.24119917e-02 -3.75692422e-02  3.65495346e-02  3.58313583e-03\n",
      "  7.48936958e-04  2.54985025e-03]\n",
      "106 [-1.43730727e-09  4.88282998e-03 -8.43880649e-03 -1.22743345e-02\n",
      "  1.80852850e-03  1.57594986e-02  6.49264692e-03 -3.84599527e-03\n",
      "  1.19460078e-02 -3.70339508e-02  3.61523626e-02  3.49520840e-03\n",
      "  7.15467013e-04  2.47413643e-03]\n",
      "107 [-1.14984668e-09  4.76879928e-03 -8.23569168e-03 -1.21700714e-02\n",
      "  1.78877393e-03  1.52877712e-02  6.30882187e-03 -3.76362128e-03\n",
      "  1.14970552e-02 -3.65076091e-02  3.57579879e-02  3.40978890e-03\n",
      "  6.83328091e-04  2.40158704e-03]\n",
      "108 [-9.19874552e-10  4.65798230e-03 -8.03856566e-03 -1.20647880e-02\n",
      "  1.76917055e-03  1.48308652e-02  6.13139158e-03 -3.68322855e-03\n",
      "  1.10645122e-02 -3.59900199e-02  3.53664524e-02  3.32679242e-03\n",
      "  6.52468168e-04  2.33204514e-03]\n",
      "109 [-7.35900742e-10  4.55028124e-03 -7.84723962e-03 -1.19585997e-02\n",
      "  1.74971895e-03  1.43883105e-02  5.96010306e-03 -3.60477879e-03\n",
      "  1.06477803e-02 -3.54809923e-02  3.49777948e-02  3.24613775e-03\n",
      "  6.22837298e-04  2.26536236e-03]\n",
      "110 [-5.88720184e-10  4.44560110e-03 -7.66153013e-03 -1.18516162e-02\n",
      "  1.73041968e-03  1.39596517e-02  5.79471434e-03 -3.52823294e-03\n",
      "  1.02462831e-02 -3.49803407e-02  3.45920505e-02  3.16774720e-03\n",
      "  5.94387522e-04  2.20139834e-03]\n",
      "111 [-4.70976063e-10  4.34384967e-03 -7.48125905e-03 -1.17439415e-02\n",
      "  1.71127326e-03  1.35444477e-02  5.63499401e-03 -3.45355144e-03\n",
      "  9.85946538e-03 -3.44878855e-02  3.42092518e-02  3.09154639e-03\n",
      "  5.67072784e-04  2.14002030e-03]\n",
      "112 [-3.76778738e-10  4.24493743e-03 -7.30625348e-03 -1.16356746e-02\n",
      "  1.69228020e-03  1.31422711e-02  5.48072065e-03 -3.38069432e-03\n",
      "  9.48679233e-03 -3.40034519e-02  3.38294281e-02  3.01746401e-03\n",
      "  5.40848853e-04  2.08110258e-03]\n",
      "113 [-3.01422732e-10  4.14877751e-03 -7.13634563e-03 -1.15269092e-02\n",
      "  1.67344098e-03  1.27527078e-02  5.33168238e-03 -3.30962143e-03\n",
      "  9.12774892e-03 -3.35268707e-02  3.34526060e-02  2.94543174e-03\n",
      "  5.15673247e-04  2.02452623e-03]\n",
      "114 [-2.41136186e-10  4.05528563e-03 -6.97137275e-03 -1.14177345e-02\n",
      "  1.65475603e-03  1.23753569e-02  5.18767640e-03 -3.24029253e-03\n",
      "  8.78183900e-03 -3.30579772e-02  3.30788095e-02  2.87538400e-03\n",
      "  4.91505160e-04  1.97017864e-03]\n",
      "115 [-1.92907269e-10  3.96438006e-03 -6.81117702e-03 -1.13082348e-02\n",
      "  1.63622575e-03  1.20098299e-02  5.04850856e-03 -3.17266745e-03\n",
      "  8.44858466e-03 -3.25966117e-02  3.27080600e-02  2.80725783e-03\n",
      "  4.68305391e-04  1.91795314e-03]\n",
      "116 [-1.54325361e-10  3.87598149e-03 -6.65560547e-03 -1.11984900e-02\n",
      "  1.61785050e-03  1.16557507e-02  4.91399297e-03 -3.10670614e-03\n",
      "  8.12752554e-03 -3.21426188e-02  3.23403765e-02  2.74099277e-03\n",
      "  4.46036284e-04  1.86774870e-03]\n",
      "117 [-1.23459216e-10  3.79001307e-03 -6.50450981e-03 -1.10885761e-02\n",
      "  1.59963060e-03  1.13127548e-02  4.78395158e-03 -3.04236883e-03\n",
      "  7.81821814e-03 -3.16958476e-02  3.19757757e-02  2.67653070e-03\n",
      "  4.24661659e-04  1.81946960e-03]\n",
      "118 [-9.87674624e-11  3.70640028e-03 -6.35774641e-03 -1.09785645e-02\n",
      "  1.58156632e-03  1.09804894e-02  4.65821386e-03 -2.97961607e-03\n",
      "  7.52023521e-03 -3.12561515e-02  3.16142723e-02  2.61381574e-03\n",
      "  4.04146754e-04  1.77302511e-03]\n",
      "119 [-7.90139530e-11  3.62507087e-03 -6.21517612e-03 -1.08685233e-02\n",
      "  1.56365790e-03  1.06586128e-02  4.53661640e-03 -2.91840883e-03\n",
      "  7.23316518e-03 -3.08233877e-02  3.12558785e-02  2.55279410e-03\n",
      "  3.84458170e-04  1.72832924e-03]\n",
      "120 [-6.32149370e-11  3.54595484e-03 -6.07666419e-03 -1.07585163e-02\n",
      "  1.54590551e-03  1.03467941e-02  4.41900263e-03 -2.85870854e-03\n",
      "  6.95661148e-03 -3.03974176e-02  3.09006049e-02  2.49341402e-03\n",
      "  3.65563811e-04  1.68530043e-03]\n",
      "121 [-5.05696916e-11  3.46898436e-03 -5.94208015e-03 -1.06486042e-02\n",
      "  1.52830929e-03  1.00447127e-02  4.30522248e-03 -2.80047716e-03\n",
      "  6.69019209e-03 -2.99781063e-02  3.05484602e-02  2.43562564e-03\n",
      "  3.47432838e-04  1.64386137e-03]\n",
      "122 [-4.04535571e-11  3.39409370e-03 -5.81129773e-03 -1.05388442e-02\n",
      "  1.51086934e-03  9.75205828e-03  4.19513210e-03 -2.74367722e-03\n",
      "  6.43353892e-03 -2.95653223e-02  3.01994510e-02  2.37938090e-03\n",
      "  3.30035610e-04  1.60393870e-03]\n",
      "123 [-3.23642948e-11  3.32121918e-03 -5.68419468e-03 -1.04292901e-02\n",
      "  1.49358571e-03  9.46853045e-03  4.08859356e-03 -2.68827185e-03\n",
      "  6.18629732e-03 -2.91589380e-02  2.98535824e-02  2.32463347e-03\n",
      "  3.13343645e-04  1.56546281e-03]\n",
      "124 [-2.58916437e-11  3.25029912e-03 -5.56065274e-03 -1.03199927e-02\n",
      "  1.47645838e-03  9.19383821e-03  3.98547461e-03 -2.63422484e-03\n",
      "  5.94812560e-03 -2.87588289e-02  2.95108580e-02  2.27133870e-03\n",
      "  2.97329568e-04  1.52836767e-03]\n",
      "125 [-2.07136969e-11  3.18127379e-03 -5.44055749e-03 -1.02109998e-02\n",
      "  1.45948731e-03  8.92769986e-03  3.88564838e-03 -2.58150064e-03\n",
      "  5.71869450e-03 -2.83648738e-02  2.91712796e-02  2.21945345e-03\n",
      "  2.81967068e-04  1.49259057e-03]\n",
      "126 [-1.65684243e-11  3.11408532e-03 -5.32379821e-03 -1.01023566e-02\n",
      "  1.44267240e-03  8.66984261e-03  3.78899320e-03 -2.53006440e-03\n",
      "  5.49768679e-03 -2.79769548e-02  2.88348477e-02  2.16893611e-03\n",
      "  2.67230857e-04  1.45807201e-03]\n",
      "127 [-1.32537003e-11  3.04867768e-03 -5.21026786e-03 -9.99410527e-03\n",
      "  1.42601353e-03  8.42000239e-03  3.69539233e-03 -2.47988198e-03\n",
      "  5.28479678e-03 -2.75949569e-02  2.85015614e-02  2.11974650e-03\n",
      "  2.53096628e-04  1.42475545e-03]\n",
      "128 [-1.06051733e-11  2.98499661e-03 -5.09986288e-03 -9.88628555e-03\n",
      "  1.40951050e-03  8.17792350e-03  3.60473374e-03 -2.43091996e-03\n",
      "  5.07972991e-03 -2.72187681e-02  2.81714182e-02  2.07184579e-03\n",
      "  2.39541016e-04  1.39258723e-03]\n",
      "129 [-8.48382410e-12  2.92298959e-03 -4.99248315e-03 -9.77893472e-03\n",
      "  1.39316309e-03  7.94335842e-03  3.51690994e-03 -2.38314566e-03\n",
      "  4.88220234e-03 -2.68482794e-02  2.78444147e-02  2.02519646e-03\n",
      "  2.26541563e-04  1.36151634e-03]\n",
      "130 [-6.78624482e-12  2.86260574e-03 -4.88803187e-03 -9.67208771e-03\n",
      "  1.37697102e-03  7.71606748e-03  3.43181772e-03 -2.33652715e-03\n",
      "  4.69194055e-03 -2.64833842e-02  2.75205462e-02  1.97976224e-03\n",
      "  2.14076680e-04  1.33149434e-03]\n",
      "131 [-5.42745120e-12  2.80379583e-03 -4.78641544e-03 -9.56577720e-03\n",
      "  1.36093399e-03  7.49581868e-03  3.34935804e-03 -2.29103323e-03\n",
      "  4.50868098e-03 -2.61239788e-02  2.71998066e-02  1.93550807e-03\n",
      "  2.02125612e-04  1.30247516e-03]\n",
      "132 [-4.34040507e-12  2.74651218e-03 -4.68754340e-03 -9.46003373e-03\n",
      "  1.34505163e-03  7.28238743e-03  3.26943577e-03 -2.24663344e-03\n",
      "  4.33216962e-03 -2.57699622e-02  2.68821892e-02  1.89240000e-03\n",
      "  1.90668409e-04  1.27441504e-03]\n",
      "133 [-3.47345867e-12  2.69070864e-03 -4.59132830e-03 -9.35488583e-03\n",
      "  1.32932356e-03  7.07555629e-03  3.19195959e-03 -2.20329808e-03\n",
      "  4.16216171e-03 -2.54212356e-02  2.65676858e-02  1.85040522e-03\n",
      "  1.79685889e-04  1.24727237e-03]\n",
      "134 [-2.77850294e-12  2.63634055e-03 -4.49768561e-03 -9.25036007e-03\n",
      "  1.31374935e-03  6.87511480e-03  3.11684178e-03 -2.16099818e-03\n",
      "  3.99842136e-03 -2.50777027e-02  2.62562875e-02  1.80949195e-03\n",
      "  1.69159613e-04  1.22100756e-03]\n",
      "135 [-2.22444812e-12  2.58336465e-03 -4.40653363e-03 -9.14648117e-03\n",
      "  1.29832852e-03  6.68085919e-03  3.04399808e-03 -2.11970552e-03\n",
      "  3.84072126e-03 -2.47392697e-02  2.59479844e-02  1.76962943e-03\n",
      "  1.59071852e-04  1.19558299e-03]\n",
      "136 [-1.78042912e-12  2.53173909e-03 -4.31779344e-03 -9.04327210e-03\n",
      "  1.28306057e-03  6.49259224e-03  2.97334756e-03 -2.07939260e-03\n",
      "  3.68884232e-03 -2.44058448e-02  2.56427657e-02  1.73078787e-03\n",
      "  1.49405563e-04  1.17096284e-03]\n",
      "137 [-1.42296715e-12  2.48142336e-03 -4.23138875e-03 -8.94075415e-03\n",
      "  1.26794496e-03  6.31012303e-03  2.90481244e-03 -2.04003264e-03\n",
      "  3.54257341e-03 -2.40773385e-02  2.53406198e-02  1.69293841e-03\n",
      "  1.40144359e-04  1.14711306e-03]\n",
      "138 [-1.14127767e-12  2.43237825e-03 -4.14724584e-03 -8.83894702e-03\n",
      "  1.25298110e-03  6.13326677e-03  2.83831800e-03 -2.00159956e-03\n",
      "  3.40171106e-03 -2.37536635e-02  2.50415344e-02  1.65605312e-03\n",
      "  1.31272482e-04  1.12400121e-03]\n",
      "139 [-9.13566982e-13  2.38456581e-03 -4.06529348e-03 -8.73786888e-03\n",
      "  1.23816840e-03  5.96184457e-03  2.77379242e-03 -1.96406801e-03\n",
      "  3.26605917e-03 -2.34347344e-02  2.47454963e-02  1.62010489e-03\n",
      "  1.22774784e-04  1.10159646e-03]\n",
      "140 [-7.30763715e-13  2.33794929e-03 -3.98546285e-03 -8.63753648e-03\n",
      "  1.22350621e-03  5.79568328e-03  2.71116667e-03 -1.92741331e-03\n",
      "  3.13542873e-03 -2.31204680e-02  2.44524916e-02  1.58506748e-03\n",
      "  1.14636700e-04  1.07986942e-03]\n",
      "141 [-5.85846698e-13  2.29249315e-03 -3.90768747e-03 -8.53796515e-03\n",
      "  1.20899387e-03  5.63461531e-03  2.65037440e-03 -1.89161145e-03\n",
      "  3.00963760e-03 -2.28107826e-02  2.41625061e-02  1.55091544e-03\n",
      "  1.06844223e-04  1.05879211e-03]\n",
      "142 [-4.69632238e-13  2.24816298e-03 -3.83190308e-03 -8.43916897e-03\n",
      "  1.19463067e-03  5.47847844e-03  2.59135180e-03 -1.85663911e-03\n",
      "  2.88851022e-03 -2.25055990e-02  2.38755244e-02  1.51762410e-03\n",
      "  9.93838869e-05  1.03833791e-03]\n",
      "143 [-3.75211500e-13  2.20492546e-03 -3.75804763e-03 -8.34116075e-03\n",
      "  1.18041588e-03  5.32711567e-03  2.53403754e-03 -1.82247361e-03\n",
      "  2.77187739e-03 -2.22048392e-02  2.35915310e-02  1.48516952e-03\n",
      "  9.22427422e-05  1.01848144e-03]\n",
      "144 [-3.01404926e-13  2.16274837e-03 -3.68606115e-03 -8.24395211e-03\n",
      "  1.16634876e-03  5.18037501e-03  2.47837263e-03 -1.78909291e-03\n",
      "  2.65957602e-03 -2.19084272e-02  2.33105095e-02  1.45352850e-03\n",
      "  8.54083374e-05  9.99198526e-04]\n",
      "145 [-2.43016850e-13  2.12160051e-03 -3.61588570e-03 -8.14755357e-03\n",
      "  1.15242852e-03  5.03810938e-03  2.42430033e-03 -1.75647559e-03\n",
      "  2.55144895e-03 -2.16162889e-02  2.30324433e-02  1.42267854e-03\n",
      "  7.88686991e-05  9.80466137e-04]\n",
      "146 [-1.91032083e-13  2.08145168e-03 -3.54746533e-03 -8.05197458e-03\n",
      "  1.13865436e-03  4.90017641e-03  2.37176607e-03 -1.72460086e-03\n",
      "  2.44734466e-03 -2.13283516e-02  2.27573150e-02  1.39259778e-03\n",
      "  7.26123139e-05  9.62262320e-04]\n",
      "147 [-1.51348411e-13  2.04227266e-03 -3.48074596e-03 -7.95722358e-03\n",
      "  1.12502546e-03  4.76643832e-03  2.32071736e-03 -1.69344850e-03\n",
      "  2.34711716e-03 -2.10445443e-02  2.24851070e-02  1.36326505e-03\n",
      "  6.66281102e-05  9.44566152e-04]\n",
      "148 [-1.19556539e-13  2.00403515e-03 -3.41567535e-03 -7.86330805e-03\n",
      "  1.11154096e-03  4.63676174e-03  2.27110368e-03 -1.66299890e-03\n",
      "  2.25062571e-03 -2.07647974e-02  2.22158012e-02  1.33465977e-03\n",
      "  6.09054412e-05  9.27357683e-04]\n",
      "149 [-9.47015852e-14  1.96671177e-03 -3.35220304e-03 -7.77023458e-03\n",
      "  1.09820000e-03  4.51101760e-03  2.22287645e-03 -1.63323300e-03\n",
      "  2.15773465e-03 -2.04890431e-02  2.19493789e-02  1.30676199e-03\n",
      "  5.54340687e-05  9.10617888e-04]\n",
      "150 [-7.81316162e-14  1.93027603e-03 -3.29028028e-03 -7.67800887e-03\n",
      "  1.08500169e-03  4.38908098e-03  2.17598889e-03 -1.60413230e-03\n",
      "  2.06831324e-03 -2.02172148e-02  2.16858213e-02  1.27955233e-03\n",
      "  5.02041471e-05  8.94328625e-04]\n",
      "151 [-6.30501360e-14  1.89470226e-03 -3.22985995e-03 -7.58663581e-03\n",
      "  1.07194512e-03  4.27083098e-03  2.13039600e-03 -1.57567886e-03\n",
      "  1.98223546e-03 -1.99492475e-02  2.14251092e-02  1.25301200e-03\n",
      "  4.52062083e-05  8.78472587e-04]\n",
      "152 [-4.79686558e-14  1.85996564e-03 -3.17089656e-03 -7.49611955e-03\n",
      "  1.05902936e-03  4.15615058e-03  2.08605444e-03 -1.54785523e-03\n",
      "  1.89937984e-03 -1.96850776e-02  2.11672229e-02  1.22712273e-03\n",
      "  4.04311470e-05  8.63033260e-04]\n",
      "153 [-4.06104662e-14  1.82604211e-03 -3.11334612e-03 -7.40646346e-03\n",
      "  1.04625348e-03  4.04492653e-03  2.04292252e-03 -1.52064450e-03\n",
      "  1.81962930e-03 -1.94246426e-02  2.09121425e-02  1.20186680e-03\n",
      "  3.58702071e-05  8.47994888e-04]\n",
      "154 [-3.21288889e-14  1.79290842e-03 -3.05716617e-03 -7.31767026e-03\n",
      "  1.03361652e-03  3.93704924e-03  2.00096008e-03 -1.49403025e-03\n",
      "  1.74287099e-03 -1.91678816e-02  2.06598480e-02  1.17722700e-03\n",
      "  3.15149678e-05  8.33342428e-04]\n",
      "155 [-2.52481391e-14  1.76054204e-03 -3.00231564e-03 -7.22974198e-03\n",
      "  1.02111750e-03  3.83241262e-03  1.96012845e-03 -1.46799655e-03\n",
      "  1.66899613e-03 -1.89147347e-02  2.04103188e-02  1.15318661e-03\n",
      "  2.73573310e-05  8.19061525e-04]\n",
      "156 [-2.10354351e-14  1.72892114e-03 -2.94875488e-03 -7.14268006e-03\n",
      "  1.00875545e-03  3.73091402e-03  1.92039042e-03 -1.44252793e-03\n",
      "  1.59789987e-03 -1.86651436e-02  2.01635343e-02  1.12972940e-03\n",
      "  2.33895087e-05  8.05138469e-04]\n",
      "157 [-1.78618648e-14  1.69802463e-03 -2.89644556e-03 -7.05648534e-03\n",
      "  9.96529361e-04  3.63245408e-03  1.88171012e-03 -1.41760940e-03\n",
      "  1.52948115e-03 -1.84190509e-02  1.99194737e-02  1.10683961e-03\n",
      "  1.96040111e-05  7.91560168e-04]\n",
      "158 [-1.55589200e-14  1.66783205e-03 -2.84535066e-03 -6.97115810e-03\n",
      "  9.84438230e-04  3.53693666e-03  1.84405302e-03 -1.39322638e-03\n",
      "  1.46364256e-03 -1.81764005e-02  1.96781159e-02  1.08450192e-03\n",
      "  1.59936353e-05  7.78314115e-04]\n",
      "159 [-1.05317599e-14  1.63832360e-03 -2.79543437e-03 -6.88669813e-03\n",
      "  9.72481034e-04  3.44426868e-03  1.80738585e-03 -1.36936474e-03\n",
      "  1.40029019e-03 -1.79371374e-02  1.94394396e-02  1.06270146e-03\n",
      "  1.25514542e-05  7.65388365e-04]\n",
      "160 [-7.35818960e-15  1.60948013e-03 -2.74666212e-03 -6.80310470e-03\n",
      "  9.60656745e-04  3.35436010e-03  1.77167657e-03 -1.34601079e-03\n",
      "  1.33933353e-03 -1.77012076e-02  1.92034235e-02  1.04142378e-03\n",
      "  9.27080577e-06  7.52771501e-04]\n",
      "161 [-7.47052837e-15  1.58128306e-03 -2.69900048e-03 -6.72037661e-03\n",
      "  9.48964324e-04  3.26712374e-03  1.73689431e-03 -1.32315123e-03\n",
      "  1.28068535e-03 -1.74685584e-02  1.89700459e-02  1.02065484e-03\n",
      "  6.14528303e-06  7.40452611e-04]\n",
      "162 [-6.51564880e-15  1.55371443e-03 -2.65241715e-03 -6.63851226e-03\n",
      "  9.37402723e-04  3.18247527e-03  1.70300929e-03 -1.30077313e-03\n",
      "  1.22426154e-03 -1.72391381e-02  1.87392851e-02  1.00038101e-03\n",
      "  3.16872428e-06  7.28421265e-04]\n",
      "163 [-5.92587025e-15  1.52675683e-03 -2.60688089e-03 -6.55750961e-03\n",
      "  9.25970887e-04  3.10033303e-03  1.66999286e-03 -1.27886399e-03\n",
      "  1.16998105e-03 -1.70128958e-02  1.85111195e-02  9.80589030e-04\n",
      "  3.35203630e-07  7.16667492e-04]\n",
      "164 [-7.58286714e-15  1.50039340e-03 -2.56236153e-03 -6.47736625e-03\n",
      "  9.14667755e-04  3.02061804e-03  1.63781737e-03 -1.25741164e-03\n",
      "  1.11776574e-03 -1.67897820e-02  1.82855270e-02  9.61266037e-04\n",
      " -2.36097797e-06  7.05181752e-04]\n",
      "165 [-7.77945999e-15  1.47460782e-03 -2.51882989e-03 -6.39807939e-03\n",
      "  9.03492258e-04  2.94325382e-03  1.60645619e-03 -1.23640431e-03\n",
      "  1.06754030e-03 -1.65697477e-02  1.80624857e-02  9.42399517e-04\n",
      " -4.92530146e-06  6.93954925e-04]\n",
      "166 [-8.34115385e-15  1.44938427e-03 -2.47625776e-03 -6.31964591e-03\n",
      "  8.92443324e-04  2.86816638e-03  1.57588364e-03 -1.21583054e-03\n",
      "  1.01923212e-03 -1.63527452e-02  1.78419735e-02  9.23977318e-04\n",
      " -7.36303798e-06  6.82978281e-04]\n",
      "167 [-6.31905595e-15  1.42470743e-03 -2.43461788e-03 -6.24206238e-03\n",
      "  8.81519874e-04  2.79528411e-03  1.54607496e-03 -1.19567924e-03\n",
      "  9.72771224e-04 -1.61387275e-02  1.76239683e-02  9.05987626e-04\n",
      " -9.67925689e-06  6.72243469e-04]\n",
      "168 [-7.44244367e-15  1.40056246e-03 -2.39388388e-03 -6.16532505e-03\n",
      "  8.70720827e-04  2.72453769e-03  1.51700628e-03 -1.17593963e-03\n",
      "  9.28090160e-04 -1.59276488e-02  1.74084480e-02  8.88418964e-04\n",
      " -1.18788335e-05  6.61742496e-04]\n",
      "169 [-7.16159674e-15  1.37693499e-03 -2.35403027e-03 -6.08942991e-03\n",
      "  8.60045096e-04  2.65586005e-03  1.48865458e-03 -1.15660127e-03\n",
      "  8.85123905e-04 -1.57194638e-02  1.71953903e-02  8.71260179e-04\n",
      " -1.39664566e-05  6.51467707e-04]\n",
      "170 [-6.88074981e-15  1.35381109e-03 -2.31503240e-03 -6.01437269e-03\n",
      "  8.49491593e-04  2.58918628e-03  1.46099766e-03 -1.13765399e-03\n",
      "  8.43809784e-04 -1.55141283e-02  1.69847729e-02  8.54500429e-04\n",
      " -1.59466351e-05  6.41411776e-04]\n",
      "171 [-7.66712122e-15  1.33117726e-03 -2.27686642e-03 -5.94014885e-03\n",
      "  8.39059227e-04  2.52445354e-03  1.43401411e-03 -1.11908795e-03\n",
      "  8.04087382e-04 -1.53115988e-02  1.67765737e-02  8.38129179e-04\n",
      " -1.78237057e-05  6.31567682e-04]\n",
      "172 [-7.94796815e-15  1.30902043e-03 -2.23950928e-03 -5.86675364e-03\n",
      "  8.28746906e-04  2.46160105e-03  1.40768328e-03 -1.10089360e-03\n",
      "  7.65898464e-04 -1.51118328e-02  1.65707704e-02  8.22136190e-04\n",
      " -1.96018387e-05  6.21928703e-04]\n",
      "173 [-7.69520591e-15  1.28732793e-03 -2.20293868e-03 -5.79418212e-03\n",
      "  8.18553535e-04  2.40056994e-03  1.38198523e-03 -1.08306166e-03\n",
      "  7.29186897e-04 -1.49147884e-02  1.63673407e-02  8.06511509e-04\n",
      " -2.12850448e-05  6.12488396e-04]\n",
      "174 [-6.71224165e-15  1.26608747e-03 -2.16713305e-03 -5.72242910e-03\n",
      "  8.08478020e-04  2.34130328e-03  1.35690074e-03 -1.06558313e-03\n",
      "  6.93898573e-04 -1.47204244e-02  1.61662624e-02  7.91245463e-04\n",
      " -2.28771809e-05  6.03240585e-04]\n",
      "175 [-7.49861306e-15  1.24528716e-03 -2.13207152e-03 -5.65148927e-03\n",
      "  7.98519266e-04  2.28374594e-03  1.33241125e-03 -1.04844925e-03\n",
      "  6.59981334e-04 -1.45287007e-02  1.59675133e-02  7.76328650e-04\n",
      " -2.43819562e-05  5.94179350e-04]\n",
      "176 [-7.63903653e-15  1.22491546e-03 -2.09773391e-03 -5.58135710e-03\n",
      "  7.88676178e-04  2.22784458e-03  1.30849888e-03 -1.03165155e-03\n",
      "  6.27384908e-04 -1.43395777e-02  1.57710711e-02  7.61751930e-04\n",
      " -2.58029378e-05  5.85299015e-04]\n",
      "177 [-5.78544678e-15  1.20496120e-03 -2.06410066e-03 -5.51202693e-03\n",
      "  7.78947663e-04  2.17354757e-03  1.28514633e-03 -1.01518177e-03\n",
      "  5.96060833e-04 -1.41530164e-02  1.55769139e-02  7.47506421e-04\n",
      " -2.71435557e-05  5.76594137e-04]\n",
      "178 [-5.08332945e-15  1.18541352e-03 -2.03115290e-03 -5.44349295e-03\n",
      "  7.69332626e-04  2.12080494e-03  1.26233692e-03 -9.99031936e-04\n",
      "  5.65962399e-04 -1.39689788e-02  1.53850194e-02  7.33583486e-04\n",
      " -2.84071086e-05  5.68059490e-04]\n",
      "179 [-7.55478245e-15  1.16626193e-03 -1.99887231e-03 -5.37574922e-03\n",
      "  7.59829978e-04  2.06956834e-03  1.24005456e-03 -9.83194260e-04\n",
      "  5.37044581e-04 -1.37874274e-02  1.51953655e-02  7.19974731e-04\n",
      " -2.95967687e-05  5.59690064e-04]\n",
      "180 [-7.24585082e-15  1.14749623e-03 -1.96724121e-03 -5.30878969e-03\n",
      "  7.50438628e-04  2.01979095e-03  1.21828371e-03 -9.67661202e-04\n",
      "  5.09263977e-04 -1.36083253e-02  1.50079304e-02  7.06671996e-04\n",
      " -3.07155862e-05  5.51481047e-04]\n",
      "181 [-8.53774671e-15  1.12910656e-03 -1.93624245e-03 -5.24260816e-03\n",
      "  7.41157489e-04  1.97142747e-03  1.19700934e-03 -9.52425435e-04\n",
      "  4.82578755e-04 -1.34316365e-02  1.48226921e-02  6.93667348e-04\n",
      " -3.17664943e-05  5.43427820e-04]\n",
      "182 [-7.10542736e-15  1.11108332e-03 -1.90585944e-03 -5.17719839e-03\n",
      "  7.31985476e-04  1.92443407e-03  1.17621696e-03 -9.37479841e-04\n",
      "  4.56948590e-04 -1.32573254e-02  1.46396288e-02  6.80953073e-04\n",
      " -3.27523136e-05  5.35525947e-04]\n",
      "183 [-6.48756411e-15  1.09341723e-03 -1.87607613e-03 -5.11255399e-03\n",
      "  7.22921507e-04  1.87876829e-03  1.15589259e-03 -9.22817507e-04\n",
      "  4.32334616e-04 -1.30853571e-02  1.44587186e-02  6.68521676e-04\n",
      " -3.36757561e-05  5.27771168e-04]\n",
      "184 [-6.71224165e-15  1.07609927e-03 -1.84687696e-03 -5.04866852e-03\n",
      "  7.13964505e-04  1.83438908e-03  1.13602268e-03 -9.08431718e-04\n",
      "  4.08699367e-04 -1.29156975e-02  1.42799399e-02  6.56365866e-04\n",
      " -3.45394296e-05  5.20159388e-04]\n",
      "185 [-5.56076924e-15  1.05912072e-03 -1.81824689e-03 -4.98553548e-03\n",
      "  7.05113394e-04  1.79125666e-03  1.11659419e-03 -8.94315949e-04\n",
      "  3.86006732e-04 -1.27483127e-02  1.41032711e-02  6.44478557e-04\n",
      " -3.53458418e-05  5.12686672e-04]\n",
      "186 [-6.12246310e-15  1.04247309e-03 -1.79017132e-03 -4.92314826e-03\n",
      "  6.96367103e-04  1.74933257e-03  1.09759449e-03 -8.80463859e-04\n",
      "  3.64221906e-04 -1.25831697e-02  1.39286908e-02  6.32852858e-04\n",
      " -3.60974034e-05  5.05349236e-04]\n",
      "187 [-7.41435898e-15  1.02614815e-03 -1.76263614e-03 -4.86150023e-03\n",
      "  6.87724566e-04  1.70857956e-03  1.07901139e-03 -8.66869289e-04\n",
      "  3.43311337e-04 -1.24202360e-02  1.37561774e-02  6.21482071e-04\n",
      " -3.67964327e-05  4.98143443e-04]\n",
      "188 [-6.54373350e-15  1.01013794e-03 -1.73562767e-03 -4.80058469e-03\n",
      "  6.79184720e-04  1.66896157e-03  1.06083310e-03 -8.53526253e-04\n",
      "  3.23242688e-04 -1.22594795e-02  1.35857097e-02  6.10359682e-04\n",
      " -3.74451585e-05  4.91065793e-04]\n",
      "189 [-6.57181819e-15  9.94434696e-04 -1.70913265e-03 -4.74039491e-03\n",
      "  6.70746507e-04  1.63044373e-03  1.04304824e-03 -8.40428930e-04\n",
      "  3.03984791e-04 -1.21008690e-02  1.34172665e-02  5.99479359e-04\n",
      " -3.80457235e-05  4.84112919e-04]\n",
      "190 [-7.58286714e-15  9.79030917e-04 -1.68313824e-03 -4.68092412e-03\n",
      "  6.62408875e-04  1.59299223e-03  1.02564580e-03 -8.27571667e-04\n",
      "  2.85507602e-04 -1.19443735e-02  1.32508268e-02  5.88834942e-04\n",
      " -3.86001878e-05  4.77281580e-04]\n",
      "191 [-7.35818960e-15  9.63919309e-04 -1.65763201e-03 -4.62216551e-03\n",
      "  6.54170776e-04  1.55657441e-03  1.00861513e-03 -8.14948965e-04\n",
      "  2.67782166e-04 -1.17899625e-02  1.30863695e-02  5.78420446e-04\n",
      " -3.91105321e-05  4.70568655e-04]\n",
      "192 [-6.79649573e-15  9.49092795e-04 -1.63260189e-03 -4.56411224e-03\n",
      "  6.46031168e-04  1.52115860e-03  9.91945959e-04 -8.02555478e-04\n",
      "  2.50780571e-04 -1.16376063e-02  1.29238738e-02  5.68230046e-04\n",
      " -3.95786603e-05  4.63971140e-04]\n",
      "193 [-8.53774671e-15  9.34544504e-04 -1.60803619e-03 -4.50675748e-03\n",
      "  6.37989014e-04  1.48671418e-03  9.75628330e-04 -7.90386010e-04\n",
      "  2.34475920e-04 -1.14872755e-02  1.27633190e-02  5.58258083e-04\n",
      " -4.00064027e-05  4.57486140e-04]\n",
      "194 [-6.57181819e-15  9.20267768e-04 -1.58392360e-03 -4.45009434e-03\n",
      "  6.30043283e-04  1.45321148e-03  9.59652626e-04 -7.78435508e-04\n",
      "  2.18842283e-04 -1.13389413e-02  1.26046845e-02  5.48499050e-04\n",
      " -4.03955189e-05  4.51110865e-04]\n",
      "195 [-5.25183761e-15  9.06256112e-04 -1.56025313e-03 -4.39411597e-03\n",
      "  6.22192951e-04  1.42062182e-03  9.44009544e-04 -7.66699056e-04\n",
      "  2.03854671e-04 -1.11925751e-02  1.24479498e-02  5.38947593e-04\n",
      " -4.07477003e-05  4.44842627e-04]\n",
      "196 [-7.97605284e-15  8.92503249e-04 -1.53701412e-03 -4.33881548e-03\n",
      "  6.14436997e-04  1.38891739e-03  9.28690084e-04 -7.55171874e-04\n",
      "  1.89489000e-04 -1.10481491e-02  1.22930947e-02  5.29598507e-04\n",
      " -4.10645723e-05  4.38678832e-04]\n",
      "197 [-6.51564880e-15  8.79003074e-04 -1.51419626e-03 -4.28418599e-03\n",
      "  6.06774410e-04  1.35807129e-03  9.13685543e-04 -7.43849313e-04\n",
      "  1.75722057e-04 -1.09056359e-02  1.21400988e-02  5.20446728e-04\n",
      " -4.13476978e-05  4.32616981e-04]\n",
      "198 [-5.81353147e-15  8.65749658e-04 -1.49178952e-03 -4.23022062e-03\n",
      "  5.99204184e-04  1.32805750e-03  8.98987497e-04 -7.32726848e-04\n",
      "  1.62531467e-04 -1.07650083e-02  1.19889421e-02  5.11487331e-04\n",
      " -4.15985785e-05  4.26654661e-04]\n",
      "199 [-7.07734266e-15  8.52737243e-04 -1.46978420e-03 -4.17691250e-03\n",
      "  5.91725318e-04  1.29885079e-03  8.84587797e-04 -7.21800080e-04\n",
      "  1.49895671e-04 -1.06262399e-02  1.18396047e-02  5.02715528e-04\n",
      " -4.18186578e-05  4.20789543e-04]\n",
      "200 [-5.67310801e-15  8.39960234e-04 -1.44817088e-03 -4.12425479e-03\n",
      "  5.84336820e-04  1.27042676e-03  8.70478556e-04 -7.11064725e-04\n",
      "  1.37793885e-04 -1.04893044e-02  1.16920669e-02  4.94126661e-04\n",
      " -4.20093231e-05  4.15019379e-04]\n",
      "201 [-8.17264570e-15  8.27413197e-04 -1.42694040e-03 -4.07224062e-03\n",
      "  5.77037704e-04  1.24276179e-03  8.56652141e-04 -7.00516616e-04\n",
      "  1.26206081e-04 -1.03541762e-02  1.15463088e-02  4.85716200e-04\n",
      " -4.21719072e-05  4.09341998e-04]\n",
      "202 [-6.45947942e-15  8.15090852e-04 -1.40608390e-03 -4.02086317e-03\n",
      "  5.69826989e-04  1.21583300e-03  8.43101164e-04 -6.90151698e-04\n",
      "  1.15112958e-04 -1.02208298e-02  1.14023111e-02  4.77479740e-04\n",
      " -4.23076914e-05  4.03755304e-04]\n",
      "203 [-7.80754469e-15  8.02988068e-04 -1.38559277e-03 -3.97011565e-03\n",
      "  5.62703705e-04  1.18961823e-03  8.29818469e-04 -6.79966021e-04\n",
      "  1.04495912e-04 -1.00892405e-02  1.12600544e-02  4.69412993e-04\n",
      " -4.24179066e-05  3.98257269e-04]\n",
      "204 [-8.59391609e-15  7.91099860e-04 -1.36545864e-03 -3.91999126e-03\n",
      "  5.55666885e-04  1.16409606e-03  8.16797133e-04 -6.69955743e-04\n",
      "  9.43370170e-05 -9.95938360e-03  1.11195195e-02  4.61511793e-04\n",
      " -4.25037356e-05  3.92845934e-04]\n",
      "205 [-7.91988346e-15  7.79421382e-04 -1.34567342e-03 -3.87048325e-03\n",
      "  5.48715572e-04  1.13924572e-03  8.04030446e-04 -6.60117121e-04\n",
      "  8.46189950e-05 -9.83123508e-03  1.09806873e-02  4.53772083e-04\n",
      " -4.25663147e-05  3.87519405e-04]\n",
      "206 [-6.71224165e-15  7.67947923e-04 -1.32622922e-03 -3.82158489e-03\n",
      "  5.41848815e-04  1.11504711e-03  7.91511914e-04 -6.50446513e-04\n",
      "  7.53251962e-05 -9.70477116e-03  1.08435389e-02  4.46189921e-04\n",
      " -4.26067358e-05  3.82275850e-04]\n",
      "207 [-6.96500389e-15  7.56674904e-04 -1.30711839e-03 -3.77328948e-03\n",
      "  5.35065671e-04  1.09148077e-03  7.79235245e-04 -6.40940370e-04\n",
      "  6.64395752e-05 -9.57996847e-03  1.07080556e-02  4.38761467e-04\n",
      " -4.26260478e-05  3.77113495e-04]\n",
      "208 [-6.90883451e-15  7.45597874e-04 -1.28833351e-03 -3.72559037e-03\n",
      "  5.28365203e-04  1.06852785e-03  7.67194343e-04 -6.31595236e-04\n",
      "  5.79466695e-05 -9.45680400e-03  1.05742187e-02  4.31482991e-04\n",
      " -4.26252582e-05  3.72030623e-04]\n",
      "209 [-5.75736209e-15  7.34712504e-04 -1.26986736e-03 -3.67848091e-03\n",
      "  5.21746484e-04  1.04617011e-03  7.55383303e-04 -6.22407745e-04\n",
      "  4.98315786e-05 -9.33525510e-03  1.04420097e-02  4.24350861e-04\n",
      " -4.26053349e-05  3.67025574e-04]\n",
      "210 [-7.61095183e-15  7.24014584e-04 -1.25171293e-03 -3.63195452e-03\n",
      "  5.15208593e-04  1.02438988e-03  7.43796403e-04 -6.13374619e-04\n",
      "  4.20799436e-05 -9.21529947e-03  1.03114105e-02  4.17361544e-04\n",
      " -4.25672074e-05  3.62096736e-04]\n",
      "211 [-5.58885393e-15  7.13500020e-04 -1.23386341e-03 -3.58600465e-03\n",
      "  5.08750616e-04  1.00317004e-03  7.32428096e-04 -6.04492662e-04\n",
      "  3.46779279e-05 -9.09691516e-03  1.01824028e-02  4.10511602e-04\n",
      " -4.25117686e-05  3.57242552e-04]\n",
      "212 [-5.84161617e-15  7.03164829e-04 -1.21631218e-03 -3.54062478e-03\n",
      "  5.02371648e-04  9.82494041e-04  7.21273008e-04 -5.95758763e-04\n",
      "  2.76121983e-05 -8.98008056e-03  1.00549686e-02  4.03797692e-04\n",
      " -4.24398758e-05  3.52461508e-04]\n",
      "213 [-6.88074981e-15  6.93005138e-04 -1.19905282e-03 -3.49580845e-03\n",
      "  4.96070791e-04  9.62345828e-04  7.10325927e-04 -5.87169886e-04\n",
      "  2.08699073e-05 -8.86477439e-03  9.92909007e-03  3.97216559e-04\n",
      " -4.23523524e-05  3.47752140e-04]\n",
      "на 213 итерации, максимальное из абсолютных значений компонент градиента меньше 0.01\n"
     ]
    }
   ],
   "source": [
    "X, y = prepare_boston_data()\n",
    "\n",
    "linreg_crit = LinReg_with_autoStop(0.2,0.01)\n",
    "linreg_crit.fit(X, y)\n",
    "y_pred = linreg_crit.predict(X)"
   ]
  },
  {
   "cell_type": "markdown",
   "metadata": {},
   "source": [
    "### Задание 3.7.2\n",
    "Добавьте к признакам нелинейной модели квадрат признака DIS и переобучите модель. Какой получился RMSE? Подсказка: используйте написанную нами линейную регрессию методом матричных операций.  \n",
    "*Ответ округлите до сотых.*"
   ]
  },
  {
   "cell_type": "code",
   "execution_count": 141,
   "metadata": {},
   "outputs": [],
   "source": [
    "def prepare_boston_data_new2():\n",
    "    data = load_boston()\n",
    "    X, y = data['data'], data['target']\n",
    "    \n",
    "    X = np.hstack([X, np.sqrt(X[:, 5:6]), X[:, 6:7] ** 3, X[:, 7:8] ** 2])\n",
    "    \n",
    "    # Нормализовать даннные с помощью стандартной нормализации\n",
    "    X = (X - X.mean(axis=0)) / X.std(axis=0)\n",
    "    # Добавить фиктивный столбец единиц (bias линейной модели)\n",
    "    X = np.hstack([np.ones(X.shape[0])[:, np.newaxis], X])\n",
    "    \n",
    "    return X, y"
   ]
  },
  {
   "cell_type": "code",
   "execution_count": 142,
   "metadata": {},
   "outputs": [
    {
     "name": "stdout",
     "output_type": "stream",
     "text": [
      "MSE = 13.59, RMSE = 3.69\n"
     ]
    }
   ],
   "source": [
    "# Подготовить данные без модификации признаков\n",
    "X, y = prepare_boston_data_new2()\n",
    "\n",
    "# Провести эксперимент\n",
    "train_validate(X, y)"
   ]
  },
  {
   "cell_type": "markdown",
   "metadata": {},
   "source": [
    "### Задание 3.7.3\n",
    "Уберите нормализацию и оставьте добавленные признаки на основе RM и AGE. Какой получился RMSE?  \n",
    "*Ответ округлите до сотых*"
   ]
  },
  {
   "cell_type": "code",
   "execution_count": 143,
   "metadata": {},
   "outputs": [],
   "source": [
    "def prepare_boston_data_new3():\n",
    "    data = load_boston()\n",
    "    X, y = data['data'], data['target']\n",
    "    \n",
    "    X = np.hstack([X, np.sqrt(X[:, 5:6]), X[:, 6:7] ** 3])\n",
    "    \n",
    "    # # Нормализовать даннные с помощью стандартной нормализации\n",
    "    # X = (X - X.mean(axis=0)) / X.std(axis=0)\n",
    "    # Добавить фиктивный столбец единиц (bias линейной модели)\n",
    "    X = np.hstack([np.ones(X.shape[0])[:, np.newaxis], X])\n",
    "    \n",
    "    return X, y"
   ]
  },
  {
   "cell_type": "code",
   "execution_count": 144,
   "metadata": {},
   "outputs": [
    {
     "name": "stdout",
     "output_type": "stream",
     "text": [
      "MSE = 14.28, RMSE = 3.78\n"
     ]
    }
   ],
   "source": [
    "# Подготовить данные без модификации признаков\n",
    "X, y = prepare_boston_data_new3()\n",
    "\n",
    "# Провести эксперимент\n",
    "train_validate(X, y)"
   ]
  },
  {
   "cell_type": "code",
   "execution_count": null,
   "metadata": {},
   "outputs": [],
   "source": []
  }
 ],
 "metadata": {
  "kernelspec": {
   "display_name": "Python 3",
   "language": "python",
   "name": "python3"
  },
  "language_info": {
   "codemirror_mode": {
    "name": "ipython",
    "version": 3
   },
   "file_extension": ".py",
   "mimetype": "text/x-python",
   "name": "python",
   "nbconvert_exporter": "python",
   "pygments_lexer": "ipython3",
   "version": "3.8.3"
  }
 },
 "nbformat": 4,
 "nbformat_minor": 4
}
