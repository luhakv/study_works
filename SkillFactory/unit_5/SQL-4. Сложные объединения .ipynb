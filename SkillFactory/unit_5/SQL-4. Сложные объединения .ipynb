{
 "cells": [
  {
   "cell_type": "markdown",
   "metadata": {},
   "source": [
    "# Сложные объединения \n",
    "## Юнит 5. РАБОТА С БАЗАМИ ДАННЫХ. SQL\n",
    "### Skillfactory: DSPR-19"
   ]
  },
  {
   "cell_type": "markdown",
   "metadata": {},
   "source": [
    "### 4.1. UNION"
   ]
  },
  {
   "cell_type": "markdown",
   "metadata": {},
   "source": [
    "**UNION**   \n",
    "Мы умеем присоединять кортежи друг к другу путем добавления столбцов одного к другому с помощью JOIN.\n",
    "\n",
    "К любому результату запроса можно присоединить другой запрос «снизу», если у него такая же структура (одинаковое количество столбцов, данные того же типа). Для этого существует операция UNION.\n",
    "\n",
    "Существует две версии этого оператора: UNION выводит уникальные записи, UNION ALL не делает ограничений уникальности и присоединяет все кортежи последующих таблиц к предыдущим. UNION ALL работает быстрее и более предпочтителен, если вы уверены в уникальности объединяемых выборок или если вам нужны неуникальные данные.\n",
    "\n",
    "Синтаксис выглядит следующим образом."
   ]
  },
  {
   "cell_type": "code",
   "execution_count": null,
   "metadata": {},
   "outputs": [],
   "source": [
    "query 1\n",
    "union all\n",
    "query 2\n",
    "union all\n",
    "\n",
    "...\n",
    "\n",
    "query n"
   ]
  },
  {
   "cell_type": "markdown",
   "metadata": {},
   "source": [
    "Результатом выполнения такого запроса будут все кортежи результата выполнения query_1 и все кортежи query_2 , выведенные в единой выдаче.\n",
    "\n",
    "Давайте посмотрим на примере. Решим следующую задачу: соберем все знакомые нам объекты из БД в одном запросе с типом и именем и упорядочим их по алфавиту."
   ]
  },
  {
   "cell_type": "code",
   "execution_count": null,
   "metadata": {},
   "outputs": [],
   "source": [
    "SELECT \n",
    " t.table_name object_name,\n",
    " 'таблица' object_type\n",
    "FROM \n",
    " information_schema.\"tables\" t\n",
    "union all\n",
    "SELECT \n",
    " c.column_name object_name,\n",
    " 'столбец' object_type\n",
    "FROM \n",
    " information_schema.columns c\n",
    "union  all\n",
    "select \n",
    " s.schema_name,\n",
    " 'схема' \n",
    "from \n",
    " information_schema.schemata s\n",
    "order by 1"
   ]
  },
  {
   "cell_type": "markdown",
   "metadata": {},
   "source": [
    "Каждый из объединяемых запросов имеет два столбца: имя и тип. Оба поля текстовые, названия для столбцов берутся из самого первого запроса."
   ]
  },
  {
   "cell_type": "markdown",
   "metadata": {},
   "source": [
    "### Задание 4.1.1\n",
    "Напишите запрос, который создает уникальный алфавитный справочник всех городов, штатов, имен водителей и производителей грузовиков. Результатом запроса должны быть два столбца (название объекта и тип объекта — city, state, driver, truck). Отсортируйте список по названию объекта, а затем по типу.\n",
    "\n",
    "(Не забывайте перед отправкой кода проверять его работоспособность и соответствие условиям в Metabase!)"
   ]
  },
  {
   "cell_type": "code",
   "execution_count": null,
   "metadata": {},
   "outputs": [],
   "source": [
    "SELECT \n",
    "        c.city_name object_name,\n",
    "        'city' object_type\n",
    "from city c \n",
    "union\n",
    "SELECT \n",
    "        c2.state object_name,\n",
    "        'state' object_type\n",
    "from city AS c2 \n",
    "union\n",
    "SELECT \n",
    "        d.first_name object_name,\n",
    "        'driver' object_type\n",
    "from driver d\n",
    "union\n",
    "SELECT \n",
    "        t.make object_name,\n",
    "        'truck' object_type\n",
    "from truck t\n",
    "order by 1, 2"
   ]
  },
  {
   "cell_type": "markdown",
   "metadata": {},
   "source": [
    "### 4.2. UNION и ограничения типов данных\n",
    "Как мы уже знаем, UNION может быть использован только в случае полного соответствия столбцов и их типов в объединяемых запросах.\n",
    "\n",
    "Предположим, мы хотим вывести список всех id городов и их названий в одном столбце. Попробуйте выполнить запрос ниже."
   ]
  },
  {
   "cell_type": "code",
   "execution_count": null,
   "metadata": {},
   "outputs": [],
   "source": [
    "select \n",
    " c.city_id\n",
    "from \n",
    " shipping.city c\n",
    "union all\n",
    "select \n",
    " cc.city_name\n",
    "from \n",
    " shipping.city cc"
   ]
  },
  {
   "cell_type": "markdown",
   "metadata": {},
   "source": [
    "Вы получите ошибку \"org.postgresql.util.PSQLException: ERROR: UNION types integer and text cannot be matched\". Она произошла, потому что мы попытались объединить численный и строковый тип в одной колонке, что невозможно. \n",
    "\n",
    "Если мы всё же хотим выполнить поставленную задачу, придется привести оба столбца к одному типу данных. Не каждый текст может быть приведен к числу, но каждое число может быть представлено в текстовом формате.\n",
    "\n",
    "Забежим немного вперед и поговорим о типизации столбцов. Для типизации в Postgres используется следующий синтаксис: column_name :: column_type. Таким образом, чтобы перевести city_id в текст, нам потребуется написать city_id::text. Любой тип данных может быть приведен к текстовому: пользуйтесь этим для соединения разнородных сущностей, но помните, что сортировка текста отличается от сортировки чисел и дат.\n",
    "\n",
    "Немного подправив запрос, получим финальный результат."
   ]
  },
  {
   "cell_type": "code",
   "execution_count": null,
   "metadata": {},
   "outputs": [],
   "source": [
    "select \n",
    " c.city_id::text\n",
    "from \n",
    " shipping.city c\n",
    "union all\n",
    "select \n",
    " cc.city_name\n",
    "from \n",
    " shipping.city cc"
   ]
  },
  {
   "cell_type": "markdown",
   "metadata": {},
   "source": [
    "### Задание 4.2.1\n",
    "Напишите запрос, который объединит в себе все почтовые индексы водителей и их телефоны в единый столбец-справочник. Также добавьте столбец с именем водителя и столбец с типом контакта ('phone' или 'zip' в зависимости от типа). Упорядочите список по столбцу с контактными данными по возрастанию, а затем по имени водителя.\n",
    "\n",
    "(Не забывайте перед отправкой кода проверять его работоспособность и соответствие условиям в Metabase!)"
   ]
  },
  {
   "cell_type": "code",
   "execution_count": null,
   "metadata": {},
   "outputs": [],
   "source": [
    "select \n",
    "         d.zip_code::TEXT \n",
    "        ,d.first_name \n",
    "        ,'zip' AS type\n",
    "from driver d \n",
    "union\n",
    "select \n",
    "         d.phone \n",
    "        ,d.first_name\n",
    "        , 'phone' AS type\n",
    "from driver d \n",
    "order by 1, 2"
   ]
  },
  {
   "cell_type": "markdown",
   "metadata": {},
   "source": [
    "### Задание 4.2.2\n",
    "Выберите наибольшее из значений:  \n",
    "\n",
    "Ответ: 1000000 "
   ]
  },
  {
   "cell_type": "markdown",
   "metadata": {},
   "source": [
    "### Задание 4.2.3\n",
    "(Не забывайте перед решением задачи проверять код в Metabase!)\n",
    "\n",
    "А теперь с помощью Metabase сравните эти значения, приведенные к текстовому типу данных, и выберите наибольшее."
   ]
  },
  {
   "cell_type": "code",
   "execution_count": null,
   "metadata": {},
   "outputs": [],
   "source": [
    "SELECT '541' > '-500' AS result\n",
    "-- true"
   ]
  },
  {
   "cell_type": "markdown",
   "metadata": {},
   "source": [
    "### 4.3. UNION ALL и промежуточные итоги\n",
    "Помимо соединения разнородных сущностей в единый справочник, UNION ALL часто используется для подведения промежуточных итогов и выведения общих агрегатов.\n",
    "\n",
    "Следующий запрос выводит общее население по всем городам и его детализацию до конкретного города. В запросах, объединяемых через UNION, могут использоваться все агрегатные функции, функции группировки и выборки.  "
   ]
  },
  {
   "cell_type": "code",
   "execution_count": null,
   "metadata": {},
   "outputs": [],
   "source": [
    "select  \n",
    " c.city_name,\n",
    " c.population\n",
    "from \n",
    " shipping.city c\n",
    "union all\n",
    "select \n",
    " 'total' total_name,\n",
    " sum(c.population) total_population\n",
    "from \n",
    " shipping.city c\n",
    "order by 2 desc"
   ]
  },
  {
   "cell_type": "markdown",
   "metadata": {},
   "source": [
    "### Задание 4.3.1\n",
    "Напишите запрос, который выводит общее число доставок ('total_shippings'), а также количество доставок в каждый день. Необходимые столбцы: date_period,cnt_shipping. Не забывайте о единой типизации. Упорядочите по убыванию столбца date_period.\n",
    "\n",
    "(Не забывайте перед отправкой кода проверять его работоспособность и соответствие условиям в Metabase!)"
   ]
  },
  {
   "cell_type": "code",
   "execution_count": null,
   "metadata": {},
   "outputs": [],
   "source": [
    "SELECT \n",
    "s.ship_date::text AS date_period,\n",
    "count(s.ship_id) as cnt_shipping\n",
    "FROM shipment s\n",
    "GROUP BY s.ship_date\n",
    "UNION \n",
    "SELECT \n",
    "'total_shippings',\n",
    "count(s.ship_id) \n",
    "FROM shipment s \n",
    "ORDER BY 1 desc"
   ]
  },
  {
   "cell_type": "markdown",
   "metadata": {},
   "source": [
    "### 4.4. Другие способы применения UNION\n",
    "**UNION как аналог LEFT JOIN**  \n",
    "UNION также может быть использован для разделения существующей выборки по выполнению того или иного условия.\n",
    "\n",
    "Например, с помощью UNION можно разметить заполненность телефонного номера у водителей."
   ]
  },
  {
   "cell_type": "code",
   "execution_count": null,
   "metadata": {},
   "outputs": [],
   "source": [
    "select \n",
    " d.first_name,\n",
    " d.last_name,\n",
    " 'телефон заполнен' phone_info\n",
    "from \n",
    " shipping.driver d\n",
    "where phone is not null\n",
    "union all \n",
    "select \n",
    " d.first_name,\n",
    " d.last_name,\n",
    " 'телефон не заполнен' phone_info\n",
    "from \n",
    " shipping.driver d\n",
    "where phone is  null"
   ]
  },
  {
   "cell_type": "markdown",
   "metadata": {},
   "source": [
    "### Задание 4.4.1\n",
    "Напишите запрос, который выводит два столбца: city_name и shippings_fake. В первом столбце название города, а второй формируется так:\n",
    "\n",
    "Если в городе было более 10 доставок, вывести количество доставок в этот город как есть.\n",
    "Иначе вывести количество доставок, увеличенное на 5.\n",
    "Отсортируйте по убыванию получившегося «нечестного» количества доставок, а затем по имени в алфавитном порядке.\n",
    "\n",
    "В выводе не должно быть городов, в которые нет доставок.\n",
    "\n",
    "(Не забывайте перед отправкой кода проверять его работоспособность и соответствие условиям в Metabase!)"
   ]
  },
  {
   "cell_type": "code",
   "execution_count": null,
   "metadata": {},
   "outputs": [],
   "source": [
    "select \n",
    "c.city_name city_name,\n",
    "count(s.ship_id) shippings_fake\n",
    "from city c \n",
    "join shipment s on s.city_id = c.city_id \n",
    "group by c.city_name \n",
    "having count(s.ship_id) > 10\n",
    "union\n",
    "select \n",
    "c.city_name city_name,\n",
    "count(s.ship_id) + 5  shippings_fake\n",
    "from city c \n",
    "join shipment s on s.city_id = c.city_id \n",
    "group by c.city_name \n",
    "having count(s.ship_id) <= 10\n",
    "order by 2 desc, 1"
   ]
  },
  {
   "cell_type": "markdown",
   "metadata": {},
   "source": [
    "### Ручная генерация\n",
    "UNION можно использовать для создания справочников прямо в коде запроса. Например, если мы хотим руками ввести какие-то значения и произвести с ними какие-то манипуляции, или дополнить существующую выдачу своими значениями.\n",
    "\n",
    "Попробуйте в Metabase! Следующий запрос позволяет нам вывести первые три буквы алфавита и их порядковые номера."
   ]
  },
  {
   "cell_type": "code",
   "execution_count": null,
   "metadata": {},
   "outputs": [],
   "source": [
    "select 'a'::text letter,'1' ordinal_position\n",
    "union \n",
    "select 'b','2' ordinal_position\n",
    "union \n",
    "select 'c','3' ordinal_position"
   ]
  },
  {
   "cell_type": "markdown",
   "metadata": {},
   "source": [
    "### 4.5. EXCEPT и INTERSECT\n",
    "\n",
    "**EXCEPT**  \n",
    "Синтаксические правила для оператора EXCEPT точно такие же, как и для UNION: количество и тип столбцов должны быть одинаковым.\n",
    "\n"
   ]
  },
  {
   "cell_type": "code",
   "execution_count": null,
   "metadata": {},
   "outputs": [],
   "source": [
    "query 1 \n",
    "except \n",
    "query 2 "
   ]
  },
  {
   "cell_type": "markdown",
   "metadata": {},
   "source": [
    "Оператор EXCEPT убирает из результата query_1 все кортежи, совпавшие с результатом выполнения query_2.\n",
    "\n",
    "Мы уже рассматривали, как решить такую задачу с использованием LEFT JOIN, но EXCEPT будет полезен, если у вас много столбцов и вам не хочется прописывать их равенство в условии JOIN.\n",
    "\n",
    "Также зачастую EXCEPT используется, когда есть два готовых запроса на выборку: один отражает реальные данные, а другой — мошеннические или ошибочные данные. EXCEPT позволить исключить из выборки ненужные кортежи."
   ]
  },
  {
   "cell_type": "markdown",
   "metadata": {},
   "source": [
    "### Задание 4.5.1\n",
    "Выведите список столбцов, которые есть в таблице shipping.shipment, но нет в других таблицах схемы shipping. Отсортируйте столбцы по возрастанию.\n",
    "\n",
    "(Не забывайте перед отправкой кода проверять его работоспособность и соответствие условиям в Metabase!)"
   ]
  },
  {
   "cell_type": "code",
   "execution_count": null,
   "metadata": {},
   "outputs": [],
   "source": [
    "select\n",
    "    c.column_name \n",
    "from\n",
    "    information_schema.columns c\n",
    "where \n",
    "    c.table_name = 'shipment' and c.table_schema = 'shipping'\n",
    "except\n",
    "select\n",
    "    c.column_name \n",
    "from\n",
    "    information_schema.columns c\n",
    "where \n",
    "    c.table_name = 'customer' and c.table_schema = 'shipping'\n",
    "except\n",
    "select\n",
    "    c.column_name \n",
    "from\n",
    "    information_schema.columns c\n",
    "where \n",
    "    c.table_name = 'driver' and c.table_schema = 'shipping'\n",
    "except\n",
    "select\n",
    "    c.column_name \n",
    "from\n",
    "    information_schema.columns c\n",
    "where \n",
    "    c.table_name = 'city' and c.table_schema = 'shipping'\n",
    "except\n",
    "select\n",
    "    c.column_name \n",
    "from\n",
    "    information_schema.columns c\n",
    "where \n",
    "    c.table_name = 'truck' and c.table_schema = 'shipping'\n",
    "ORDER BY 1"
   ]
  },
  {
   "cell_type": "markdown",
   "metadata": {},
   "source": [
    "**INTERSECT**  \n",
    "\n",
    "Синтаксические правила для оператора INTERSECT точно такие же, как для UNION и для EXCEPT: тип и количество столбцов должны быть одинаковыми.\n",
    "\n"
   ]
  },
  {
   "cell_type": "code",
   "execution_count": null,
   "metadata": {},
   "outputs": [],
   "source": [
    "query 1 \n",
    "INTERSECT\n",
    "query 2 "
   ]
  },
  {
   "cell_type": "markdown",
   "metadata": {},
   "source": [
    "Оператор INTERSECT оставляет из результатов query_1 все кортежи, совпавшие с результатом выполнения query_2.\n",
    "\n",
    "Оператор INNER JOIN может быть использован вместо INTERSECT, но INSTERSECT будет полезен, если у вас много столбцов и вам не хочется прописывать их равенство в условии JOIN.\n",
    "\n",
    "INTERSECT удобен простотой внесения правок в код и возможностью разграничить два запроса переносами строк."
   ]
  },
  {
   "cell_type": "markdown",
   "metadata": {},
   "source": [
    "### Задание 4.5.2\n",
    "Выведите список id городов, в которых есть и клиенты, и доставки, и водители.\n",
    "\n",
    "(Не забывайте перед отправкой кода проверять его работоспособность и соответствие условиям в Metabase!)"
   ]
  },
  {
   "cell_type": "code",
   "execution_count": null,
   "metadata": {},
   "outputs": [],
   "source": [
    "select \n",
    "c.city_id \n",
    "from city c \n",
    "intersect\n",
    "select\n",
    "c2.city_id \n",
    "from customer c2 \n",
    "intersect\n",
    "select\n",
    "s.city_id \n",
    "from shipment s \n",
    "intersect\n",
    "select \n",
    "d.city_id \n",
    "from driver d "
   ]
  },
  {
   "cell_type": "code",
   "execution_count": null,
   "metadata": {},
   "outputs": [],
   "source": []
  }
 ],
 "metadata": {
  "kernelspec": {
   "display_name": "Python 3",
   "language": "python",
   "name": "python3"
  },
  "language_info": {
   "codemirror_mode": {
    "name": "ipython",
    "version": 3
   },
   "file_extension": ".py",
   "mimetype": "text/x-python",
   "name": "python",
   "nbconvert_exporter": "python",
   "pygments_lexer": "ipython3",
   "version": "3.8.3"
  }
 },
 "nbformat": 4,
 "nbformat_minor": 4
}
