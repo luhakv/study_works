{
 "cells": [
  {
   "cell_type": "markdown",
   "metadata": {},
   "source": [
    "# Сложные объединения \n",
    "## Юнит 5. РАБОТА С БАЗАМИ ДАННЫХ. SQL\n",
    "### Skillfactory: DSPR-19"
   ]
  },
  {
   "cell_type": "markdown",
   "metadata": {},
   "source": [
    "### 4.1. UNION"
   ]
  },
  {
   "cell_type": "markdown",
   "metadata": {},
   "source": [
    "**UNION**   \n",
    "Мы умеем присоединять кортежи друг к другу путем добавления столбцов одного к другому с помощью JOIN.\n",
    "\n",
    "К любому результату запроса можно присоединить другой запрос «снизу», если у него такая же структура (одинаковое количество столбцов, данные того же типа). Для этого существует операция UNION.\n",
    "\n",
    "Существует две версии этого оператора: UNION выводит уникальные записи, UNION ALL не делает ограничений уникальности и присоединяет все кортежи последующих таблиц к предыдущим. UNION ALL работает быстрее и более предпочтителен, если вы уверены в уникальности объединяемых выборок или если вам нужны неуникальные данные.\n",
    "\n",
    "Синтаксис выглядит следующим образом."
   ]
  },
  {
   "cell_type": "code",
   "execution_count": null,
   "metadata": {},
   "outputs": [],
   "source": [
    "query 1\n",
    "union all\n",
    "query 2\n",
    "union all\n",
    "\n",
    "...\n",
    "\n",
    "query n"
   ]
  },
  {
   "cell_type": "markdown",
   "metadata": {},
   "source": [
    "Результатом выполнения такого запроса будут все кортежи результата выполнения query_1 и все кортежи query_2 , выведенные в единой выдаче.\n",
    "\n",
    "Давайте посмотрим на примере. Решим следующую задачу: соберем все знакомые нам объекты из БД в одном запросе с типом и именем и упорядочим их по алфавиту."
   ]
  },
  {
   "cell_type": "code",
   "execution_count": null,
   "metadata": {},
   "outputs": [],
   "source": [
    "SELECT \n",
    " t.table_name object_name,\n",
    " 'таблица' object_type\n",
    "FROM \n",
    " information_schema.\"tables\" t\n",
    "union all\n",
    "SELECT \n",
    " c.column_name object_name,\n",
    " 'столбец' object_type\n",
    "FROM \n",
    " information_schema.columns c\n",
    "union  all\n",
    "select \n",
    " s.schema_name,\n",
    " 'схема' \n",
    "from \n",
    " information_schema.schemata s\n",
    "order by 1"
   ]
  },
  {
   "cell_type": "markdown",
   "metadata": {},
   "source": [
    "Каждый из объединяемых запросов имеет два столбца: имя и тип. Оба поля текстовые, названия для столбцов берутся из самого первого запроса."
   ]
  },
  {
   "cell_type": "markdown",
   "metadata": {},
   "source": [
    "### Задание 4.1.1\n",
    "Напишите запрос, который создает уникальный алфавитный справочник всех городов, штатов, имен водителей и производителей грузовиков. Результатом запроса должны быть два столбца (название объекта и тип объекта — city, state, driver, truck). Отсортируйте список по названию объекта, а затем по типу.\n",
    "\n",
    "(Не забывайте перед отправкой кода проверять его работоспособность и соответствие условиям в Metabase!)"
   ]
  },
  {
   "cell_type": "code",
   "execution_count": null,
   "metadata": {},
   "outputs": [],
   "source": [
    "SELECT \n",
    "        c.city_name object_name,\n",
    "        'city' object_type\n",
    "from city c \n",
    "union\n",
    "SELECT \n",
    "        c2.state object_name,\n",
    "        'state' object_type\n",
    "from city AS c2 \n",
    "union\n",
    "SELECT \n",
    "        d.first_name object_name,\n",
    "        'driver' object_type\n",
    "from driver d\n",
    "union\n",
    "SELECT \n",
    "        t.make object_name,\n",
    "        'truck' object_type\n",
    "from truck t\n",
    "order by 1, 2"
   ]
  },
  {
   "cell_type": "code",
   "execution_count": null,
   "metadata": {},
   "outputs": [],
   "source": []
  }
 ],
 "metadata": {
  "kernelspec": {
   "display_name": "Python 3",
   "language": "python",
   "name": "python3"
  },
  "language_info": {
   "codemirror_mode": {
    "name": "ipython",
    "version": 3
   },
   "file_extension": ".py",
   "mimetype": "text/x-python",
   "name": "python",
   "nbconvert_exporter": "python",
   "pygments_lexer": "ipython3",
   "version": "3.8.3"
  }
 },
 "nbformat": 4,
 "nbformat_minor": 4
}
