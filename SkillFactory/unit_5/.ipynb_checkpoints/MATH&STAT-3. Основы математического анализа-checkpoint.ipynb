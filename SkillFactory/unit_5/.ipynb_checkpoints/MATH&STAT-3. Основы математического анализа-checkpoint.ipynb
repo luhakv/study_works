{
 "cells": [
  {
   "cell_type": "markdown",
   "metadata": {},
   "source": [
    "## Юнит 5. Основные алгоритмы машинного обучения. Часть I \n",
    "### Skillfactory: DSPR-19\n",
    "###  MATH&STAT-3. Основы математического анализа"
   ]
  },
  {
   "cell_type": "markdown",
   "metadata": {},
   "source": [
    "### 3.2. Что такое функция?\n"
   ]
  },
  {
   "cell_type": "markdown",
   "metadata": {},
   "source": [
    "### Задание 3.2.1\n",
    "Пусть f(x)=-2x+8. Как изменится значение функции f(x), если аргумент увеличится на 3?  \n",
    "\n",
    "Ответ: уменьшится на 6 "
   ]
  },
  {
   "cell_type": "markdown",
   "metadata": {},
   "source": [
    "### Задание 3.2.2\n",
    "Пусть g(x)=3x+2. Как изменится значение функции f(x), если аргумент увеличится в 2 раза?  \n",
    "\n",
    "Ответ: ничего из перечисленного "
   ]
  },
  {
   "cell_type": "markdown",
   "metadata": {},
   "source": [
    "### Задание 3.2.3\n",
    "Найдите композицию функций (f o g)(x) из задач 3.2.1 и 3.2.2.\n",
    "\n",
    "Ответ: (-6x+4) \n",
    "\n",
    "### 3.3. Функция одной переменной\n",
    "### Задание 3.3.1\n",
    "Выберите верное(-ые) утверждение(-я):  \n",
    "Ответ:   \n",
    "- Областью значений числовой функции одной переменной может быть любое подмножество R\n",
    "\n"
   ]
  },
  {
   "cell_type": "markdown",
   "metadata": {},
   "source": [
    "### Функции одной переменной в python\n",
    "Давайте рассмотрим на примере параболы, как можно построить график функции одной переменной в python. Как мы знаем, график параболы имеет вид y = x2 . Давайте построим её на промежутке [-10,10] с шагом изменения аргумента 0.01. \n",
    "\n",
    "За визуализацию данных здесь отвечает библиотека matplotlib.pyplot, она реализует удобный интерфейс построения графиков в python. Сам модуль pyplot в основном предназначен для интерактивных графиков и простых случаев программной генерации графиков.\n",
    "\n",
    "Для создания последовательностей чисел в numpy имеется функция numpy.arange(), аналогичная встроенной в python range(), только вместо списков она возвращает массивы и принимает не только целые значения.\n",
    "\n"
   ]
  },
  {
   "cell_type": "code",
   "execution_count": 1,
   "metadata": {},
   "outputs": [
    {
     "data": {
      "image/png": "[encoded data removed]",
      "text/plain": [
       "<Figure size 432x288 with 1 Axes>"
      ]
     },
     "metadata": {
      "needs_background": "light"
     },
     "output_type": "display_data"
    }
   ],
   "source": [
    "#  импортируем необходимые библиотеки для работы с массивами чисел и для визуализации\n",
    "import numpy as np\n",
    "import matplotlib.pyplot as plt\n",
    "\n",
    "# х - аргумент в нашей функции. \n",
    "# передадим начало и конец числового отрезка нашей функции и шаг аргумента:\n",
    "x = np.arange(-10, 10.01, 0.01) # массив значений аргумента\n",
    "\n",
    "# построение графика параболы\n",
    "plt.plot(x, x**2) \n",
    "\n",
    "# включим сетку на графике \n",
    "plt.grid(True)\n",
    "\n",
    "# показать график\n",
    "plt.show() "
   ]
  },
  {
   "cell_type": "markdown",
   "metadata": {},
   "source": [
    "### 3.4. Элементарные функции\n"
   ]
  },
  {
   "cell_type": "code",
   "execution_count": null,
   "metadata": {},
   "outputs": [],
   "source": []
  }
 ],
 "metadata": {
  "kernelspec": {
   "display_name": "Python 3",
   "language": "python",
   "name": "python3"
  },
  "language_info": {
   "codemirror_mode": {
    "name": "ipython",
    "version": 3
   },
   "file_extension": ".py",
   "mimetype": "text/x-python",
   "name": "python",
   "nbconvert_exporter": "python",
   "pygments_lexer": "ipython3",
   "version": "3.8.3"
  }
 },
 "nbformat": 4,
 "nbformat_minor": 4
}
