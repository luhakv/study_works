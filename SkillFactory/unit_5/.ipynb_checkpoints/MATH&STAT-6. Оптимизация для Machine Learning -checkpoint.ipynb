{
 "cells": [
  {
   "cell_type": "markdown",
   "metadata": {},
   "source": [
    "## Юнит 5. Основные алгоритмы машинного обучения. Часть I \n",
    "### Skillfactory: DSPR-19\n",
    "### MATH&STAT-6. Оптимизация для Machine Learning "
   ]
  },
  {
   "cell_type": "markdown",
   "metadata": {},
   "source": [
    "### 1. Вступление к модулю\n"
   ]
  },
  {
   "cell_type": "markdown",
   "metadata": {},
   "source": [
    "### Задание 1.1\n",
    "Какие из этих задач являются задачами оптимизации?  \n",
    "Ответ: \n",
    "- Найти кратчайший путь между двумя городами\n",
    "- Найти минимум функции \n",
    "\n"
   ]
  },
  {
   "cell_type": "markdown",
   "metadata": {},
   "source": [
    "### Задание 1.2\n",
    "Какие из этих задач можно переформулировать как задачу оптимизации?  \n",
    "Ответ:\n",
    "- Найти кратчайший путь между двумя городами\n",
    "- Решить уравнение \n",
    "- Найти минимум функции"
   ]
  },
  {
   "cell_type": "markdown",
   "metadata": {},
   "source": [
    "### Задание 1.3\n",
    "Какие из этих задач являются задачами оптимизации с условиями?  \n",
    "Ответ:\n",
    "- Найти положительный х, при котором функция  принимает наибольшее значение"
   ]
  },
  {
   "cell_type": "markdown",
   "metadata": {},
   "source": [
    "### Задание 1.4\n",
    "Выберите все верные утверждения  \n",
    "Ответ: \n",
    "- Любую задачу минимизации функции можно свести к максимизации\n",
    "- Любую задачу максимизации функции можно свести к минимизации\n",
    "- Условная оптимизация является частным случаем задачи оптимизации\n",
    "\n"
   ]
  },
  {
   "cell_type": "markdown",
   "metadata": {},
   "source": [
    "### 2. Метод Лагранжа\n"
   ]
  },
  {
   "cell_type": "markdown",
   "metadata": {},
   "source": [
    "### Задание 2.1\n",
    "Для каких из этих задач оптимизации можно применять метод Лагранжа? (целевая функция дифференцируема)  \n",
    "Ответ: \n",
    "- Для задач, где функции ограничений дифференцируемы\n",
    "- Для задач, где ограничения заданы в виде a <= x <= b"
   ]
  },
  {
   "cell_type": "markdown",
   "metadata": {},
   "source": [
    "### Задание 2.2\n",
    "Найдите квадрат расстояния от точки (2;1) до прямой x+y=1 с помощью метода Лагранжа.  \n",
    "Подсказка:\n",
    "Чтобы найти расстояние от точки x0 до прямой, нужно найти на прямой такую точку x, чтобы её расстояние от x0 до x было минимально  \n",
    "Ответ: 2"
   ]
  },
  {
   "cell_type": "markdown",
   "metadata": {},
   "source": [
    "### Задание 2.3\n",
    "Прямоугольный параллелепипед имеет объем 1 м куб. Какова минимальная площадь его поверхности?  \n",
    "Ответ: 6"
   ]
  },
  {
   "cell_type": "markdown",
   "metadata": {},
   "source": [
    "### 3. Метод Лагранжа. Ограничения ─ неравенства\n"
   ]
  },
  {
   "cell_type": "markdown",
   "metadata": {},
   "source": [
    "### 4. Линейное программирование\n"
   ]
  },
  {
   "cell_type": "markdown",
   "metadata": {},
   "source": [
    "### Задание 4.1\n",
    "Какие из этих функций могут быть целевыми в задаче линейного программирования?  \n",
    "Ответ:  \n",
    "- 2x1 + x2 + 2"
   ]
  },
  {
   "cell_type": "markdown",
   "metadata": {},
   "source": [
    "### Задание 4.2\n",
    "Можно ли использовать метод Лагранжа для задач линейного программирования?  \n",
    "Ответ:  \n",
    "- всегда можно\n",
    "\n",
    "\n"
   ]
  },
  {
   "cell_type": "markdown",
   "metadata": {},
   "source": [
    "### Задание 4.3\n",
    "Какие числа должны быть целыми в задаче ЦЛП?  \n",
    "Ответ:  переменные\n"
   ]
  },
  {
   "cell_type": "markdown",
   "metadata": {},
   "source": [
    "### Задание 4.4\n",
    "Сколько будет ограничений в задаче о назначениях на 4 работы и 4 исполнителя, не считая ограничение 0<=xij<=1?  \n",
    "Ответ: 8"
   ]
  },
  {
   "cell_type": "markdown",
   "metadata": {},
   "source": [
    "### 5. --> Практика. Линейное программирование\n"
   ]
  },
  {
   "cell_type": "markdown",
   "metadata": {},
   "source": [
    "Допустим, у нас есть n товаров с заданными стоимостями Vi и массой Wi. В сумку убирается C кг. Сколько какого товара взять, чтобы сумма всех стоимостей товаров была наибольшей?"
   ]
  },
  {
   "cell_type": "code",
   "execution_count": 2,
   "metadata": {},
   "outputs": [],
   "source": [
    "values = [4, 2, 1, 7, 3, 6]\n",
    "weights = [5, 9, 8, 2, 6, 5]\n",
    "C = 15\n",
    "n = 6"
   ]
  },
  {
   "cell_type": "markdown",
   "metadata": {},
   "source": [
    "Сформулируем задачу:\n",
    "$$\\max\\sum v_i x_i$$\n",
    "$$\\sum w_i x_i \\leq C $$"
   ]
  },
  {
   "cell_type": "markdown",
   "metadata": {},
   "source": [
    "Как должна выглядеть задача:\n",
    "$$\\min c^T x$$\n",
    "$$A x \\leq b $$"
   ]
  },
  {
   "cell_type": "markdown",
   "metadata": {},
   "source": [
    "Получается, что $c=-v$, $A=w^T$, $b=(C)$"
   ]
  },
  {
   "cell_type": "code",
   "execution_count": 6,
   "metadata": {},
   "outputs": [],
   "source": [
    "import numpy as np"
   ]
  },
  {
   "cell_type": "code",
   "execution_count": 5,
   "metadata": {},
   "outputs": [],
   "source": [
    "c = - np.array(values)\n",
    "A = np.array(weights)         #shape = (6,)\n",
    "A = np.expand_dims(A, 0)      #shape = (1,6)\n",
    "b = np.array([C])"
   ]
  },
  {
   "cell_type": "code",
   "execution_count": 7,
   "metadata": {},
   "outputs": [],
   "source": [
    "from scipy.optimize import linprog"
   ]
  },
  {
   "cell_type": "code",
   "execution_count": 8,
   "metadata": {},
   "outputs": [
    {
     "data": {
      "text/plain": [
       "     con: array([], dtype=float64)\n",
       "     fun: -52.50000000003077\n",
       " message: 'Optimization terminated successfully.'\n",
       "     nit: 5\n",
       "   slack: array([-2.2495783e-11])\n",
       "  status: 0\n",
       " success: True\n",
       "       x: array([6.18738532e-14, 1.05853306e-12, 1.21475943e-13, 7.50000000e+00,\n",
       "       4.00246692e-13, 4.71394162e-13])"
      ]
     },
     "execution_count": 8,
     "metadata": {},
     "output_type": "execute_result"
    }
   ],
   "source": [
    "linprog(c=c, A_ub=A, b_ub=b)"
   ]
  },
  {
   "cell_type": "code",
   "execution_count": 16,
   "metadata": {},
   "outputs": [
    {
     "name": "stdout",
     "output_type": "stream",
     "text": [
      "Collecting cvxpy\n",
      "  Using cached cvxpy-1.1.10.tar.gz (1.0 MB)\n",
      "  Installing build dependencies ... \u001b[?25ldone\n",
      "\u001b[?25h  Getting requirements to build wheel ... \u001b[?25ldone\n",
      "\u001b[?25h    Preparing wheel metadata ... \u001b[?25ldone\n",
      "\u001b[?25hCollecting osqp>=0.4.1\n",
      "  Using cached osqp-0.6.2.post0-cp38-cp38-manylinux2014_x86_64.whl (215 kB)\n",
      "Processing /home/dell/.cache/pip/wheels/c3/c1/ce/b551b0b3a40c990e1da2ec9aecff62f7c2d43cab8766368e82/ecos-2.0.7.post1-cp38-cp38-linux_x86_64.whl\n",
      "Requirement already satisfied: scipy>=1.1.0 in /home/dell/anaconda3/lib/python3.8/site-packages (from cvxpy) (1.5.0)\n",
      "Processing /home/dell/.cache/pip/wheels/64/b7/4b/a5c555c1d94b8a25ac3f9da1bdd19ba9896f558d124de7d7ef/scs-2.1.2-cp38-cp38-linux_x86_64.whl\n",
      "Requirement already satisfied: numpy>=1.15 in /home/dell/anaconda3/lib/python3.8/site-packages (from cvxpy) (1.18.5)\n",
      "Collecting qdldl\n",
      "  Using cached qdldl-0.1.5.post0-cp38-cp38-manylinux2014_x86_64.whl (921 kB)\n",
      "Building wheels for collected packages: cvxpy\n",
      "  Building wheel for cvxpy (PEP 517) ... \u001b[?25lerror\n",
      "\u001b[31m  ERROR: Command errored out with exit status 1:\n",
      "   command: /home/dell/anaconda3/bin/python /home/dell/anaconda3/lib/python3.8/site-packages/pip/_vendor/pep517/_in_process.py build_wheel /tmp/tmpl4wptfn5\n",
      "       cwd: /tmp/pip-install-snyyhwb7/cvxpy\n",
      "  Complete output (422 lines):\n",
      "  running bdist_wheel\n",
      "  running build\n",
      "  running build_py\n",
      "  creating build\n",
      "  creating build/lib.linux-x86_64-3.8\n",
      "  creating build/lib.linux-x86_64-3.8/examples\n",
      "  copying examples/ex_5_33.py -> build/lib.linux-x86_64-3.8/examples\n",
      "  copying examples/admm_svm_pool.py -> build/lib.linux-x86_64-3.8/examples\n",
      "  copying examples/fmmc.py -> build/lib.linux-x86_64-3.8/examples\n",
      "  copying examples/sdp.py -> build/lib.linux-x86_64-3.8/examples\n",
      "  copying examples/tsp_mip.py -> build/lib.linux-x86_64-3.8/examples\n",
      "  copying examples/mpi_consensus_admm.py -> build/lib.linux-x86_64-3.8/examples\n",
      "  copying examples/__init__.py -> build/lib.linux-x86_64-3.8/examples\n",
      "  copying examples/fig6_9.py -> build/lib.linux-x86_64-3.8/examples\n",
      "  copying examples/norm_approx.py -> build/lib.linux-x86_64-3.8/examples\n",
      "  copying examples/ex_5_1.py -> build/lib.linux-x86_64-3.8/examples\n",
      "  copying examples/qcqp.py -> build/lib.linux-x86_64-3.8/examples\n",
      "  copying examples/lasso.py -> build/lib.linux-x86_64-3.8/examples\n",
      "  copying examples/admm_svm_procs.py -> build/lib.linux-x86_64-3.8/examples\n",
      "  copying examples/penalty_comp_cvx.py -> build/lib.linux-x86_64-3.8/examples\n",
      "  copying examples/matrix_games_LP.py -> build/lib.linux-x86_64-3.8/examples\n",
      "  copying examples/relax_and_round.py -> build/lib.linux-x86_64-3.8/examples\n",
      "  copying examples/consensus_admm.py -> build/lib.linux-x86_64-3.8/examples\n",
      "  copying examples/ex_4_3.py -> build/lib.linux-x86_64-3.8/examples\n",
      "  copying examples/admm_lasso.py -> build/lib.linux-x86_64-3.8/examples\n",
      "  copying examples/deadzone.py -> build/lib.linux-x86_64-3.8/examples\n",
      "  copying examples/branch_and_bound.py -> build/lib.linux-x86_64-3.8/examples\n",
      "  copying examples/chebyshev.py -> build/lib.linux-x86_64-3.8/examples\n",
      "  copying examples/admm_example.py -> build/lib.linux-x86_64-3.8/examples\n",
      "  copying examples/floor_packing.py -> build/lib.linux-x86_64-3.8/examples\n",
      "  creating build/lib.linux-x86_64-3.8/cvxpy\n",
      "  copying cvxpy/error.py -> build/lib.linux-x86_64-3.8/cvxpy\n",
      "  copying cvxpy/__init__.py -> build/lib.linux-x86_64-3.8/cvxpy\n",
      "  copying cvxpy/settings.py -> build/lib.linux-x86_64-3.8/cvxpy\n",
      "  creating build/lib.linux-x86_64-3.8/examples/advanced\n",
      "  copying examples/advanced/acent.py -> build/lib.linux-x86_64-3.8/examples/advanced\n",
      "  copying examples/advanced/optimal_control.py -> build/lib.linux-x86_64-3.8/examples/advanced\n",
      "  copying examples/advanced/circuits.py -> build/lib.linux-x86_64-3.8/examples/advanced\n",
      "  copying examples/advanced/__init__.py -> build/lib.linux-x86_64-3.8/examples/advanced\n",
      "  copying examples/advanced/test.py -> build/lib.linux-x86_64-3.8/examples/advanced\n",
      "  copying examples/advanced/stock_tradeoff.py -> build/lib.linux-x86_64-3.8/examples/advanced\n",
      "  copying examples/advanced/cheshire_tomography.py -> build/lib.linux-x86_64-3.8/examples/advanced\n",
      "  copying examples/advanced/numpy_test.py -> build/lib.linux-x86_64-3.8/examples/advanced\n",
      "  copying examples/advanced/xpress_example.py -> build/lib.linux-x86_64-3.8/examples/advanced\n",
      "  copying examples/advanced/image_processing.py -> build/lib.linux-x86_64-3.8/examples/advanced\n",
      "  creating build/lib.linux-x86_64-3.8/examples/flows\n",
      "  copying examples/flows/__init__.py -> build/lib.linux-x86_64-3.8/examples/flows\n",
      "  copying examples/flows/commodity_flow.py -> build/lib.linux-x86_64-3.8/examples/flows\n",
      "  copying examples/flows/max_flow.py -> build/lib.linux-x86_64-3.8/examples/flows\n",
      "  copying examples/flows/incidence_matrix.py -> build/lib.linux-x86_64-3.8/examples/flows\n",
      "  copying examples/flows/create_graph.py -> build/lib.linux-x86_64-3.8/examples/flows\n",
      "  copying examples/flows/leaky_edges.py -> build/lib.linux-x86_64-3.8/examples/flows\n",
      "  creating build/lib.linux-x86_64-3.8/cvxpy/problems\n",
      "  copying cvxpy/problems/xpress_problem.py -> build/lib.linux-x86_64-3.8/cvxpy/problems\n",
      "  copying cvxpy/problems/objective.py -> build/lib.linux-x86_64-3.8/cvxpy/problems\n",
      "  copying cvxpy/problems/param_prob.py -> build/lib.linux-x86_64-3.8/cvxpy/problems\n",
      "  copying cvxpy/problems/__init__.py -> build/lib.linux-x86_64-3.8/cvxpy/problems\n",
      "  copying cvxpy/problems/iterative.py -> build/lib.linux-x86_64-3.8/cvxpy/problems\n",
      "  copying cvxpy/problems/problem.py -> build/lib.linux-x86_64-3.8/cvxpy/problems\n",
      "  creating build/lib.linux-x86_64-3.8/cvxpy/cvxcore\n",
      "  copying cvxpy/cvxcore/__init__.py -> build/lib.linux-x86_64-3.8/cvxpy/cvxcore\n",
      "  creating build/lib.linux-x86_64-3.8/cvxpy/lin_ops\n",
      "  copying cvxpy/lin_ops/lin_constraints.py -> build/lib.linux-x86_64-3.8/cvxpy/lin_ops\n",
      "  copying cvxpy/lin_ops/tree_mat.py -> build/lib.linux-x86_64-3.8/cvxpy/lin_ops\n",
      "  copying cvxpy/lin_ops/__init__.py -> build/lib.linux-x86_64-3.8/cvxpy/lin_ops\n",
      "  copying cvxpy/lin_ops/lin_utils.py -> build/lib.linux-x86_64-3.8/cvxpy/lin_ops\n",
      "  copying cvxpy/lin_ops/lin_op.py -> build/lib.linux-x86_64-3.8/cvxpy/lin_ops\n",
      "  creating build/lib.linux-x86_64-3.8/cvxpy/constraints\n",
      "  copying cvxpy/constraints/nonpos.py -> build/lib.linux-x86_64-3.8/cvxpy/constraints\n",
      "  copying cvxpy/constraints/exponential.py -> build/lib.linux-x86_64-3.8/cvxpy/constraints\n",
      "  copying cvxpy/constraints/__init__.py -> build/lib.linux-x86_64-3.8/cvxpy/constraints\n",
      "  copying cvxpy/constraints/constraint.py -> build/lib.linux-x86_64-3.8/cvxpy/constraints\n",
      "  copying cvxpy/constraints/utilities.py -> build/lib.linux-x86_64-3.8/cvxpy/constraints\n",
      "  copying cvxpy/constraints/second_order.py -> build/lib.linux-x86_64-3.8/cvxpy/constraints\n",
      "  copying cvxpy/constraints/zero.py -> build/lib.linux-x86_64-3.8/cvxpy/constraints\n",
      "  copying cvxpy/constraints/psd.py -> build/lib.linux-x86_64-3.8/cvxpy/constraints\n",
      "  copying cvxpy/constraints/power.py -> build/lib.linux-x86_64-3.8/cvxpy/constraints\n",
      "  creating build/lib.linux-x86_64-3.8/cvxpy/transforms\n",
      "  copying cvxpy/transforms/suppfunc.py -> build/lib.linux-x86_64-3.8/cvxpy/transforms\n",
      "  copying cvxpy/transforms/indicator.py -> build/lib.linux-x86_64-3.8/cvxpy/transforms\n",
      "  copying cvxpy/transforms/linearize.py -> build/lib.linux-x86_64-3.8/cvxpy/transforms\n",
      "  copying cvxpy/transforms/__init__.py -> build/lib.linux-x86_64-3.8/cvxpy/transforms\n",
      "  copying cvxpy/transforms/partial_optimize.py -> build/lib.linux-x86_64-3.8/cvxpy/transforms\n",
      "  copying cvxpy/transforms/scalarize.py -> build/lib.linux-x86_64-3.8/cvxpy/transforms\n",
      "  creating build/lib.linux-x86_64-3.8/cvxpy/reductions\n",
      "  copying cvxpy/reductions/eval_params.py -> build/lib.linux-x86_64-3.8/cvxpy/reductions\n",
      "  copying cvxpy/reductions/chain.py -> build/lib.linux-x86_64-3.8/cvxpy/reductions\n",
      "  copying cvxpy/reductions/__init__.py -> build/lib.linux-x86_64-3.8/cvxpy/reductions\n",
      "  copying cvxpy/reductions/flip_objective.py -> build/lib.linux-x86_64-3.8/cvxpy/reductions\n",
      "  copying cvxpy/reductions/cvx_attr2constr.py -> build/lib.linux-x86_64-3.8/cvxpy/reductions\n",
      "  copying cvxpy/reductions/inverse_data.py -> build/lib.linux-x86_64-3.8/cvxpy/reductions\n",
      "  copying cvxpy/reductions/solution.py -> build/lib.linux-x86_64-3.8/cvxpy/reductions\n",
      "  copying cvxpy/reductions/utilities.py -> build/lib.linux-x86_64-3.8/cvxpy/reductions\n",
      "  copying cvxpy/reductions/reduction.py -> build/lib.linux-x86_64-3.8/cvxpy/reductions\n",
      "  copying cvxpy/reductions/canonicalization.py -> build/lib.linux-x86_64-3.8/cvxpy/reductions\n",
      "  copying cvxpy/reductions/matrix_stuffing.py -> build/lib.linux-x86_64-3.8/cvxpy/reductions\n",
      "  creating build/lib.linux-x86_64-3.8/cvxpy/expressions\n",
      "  copying cvxpy/expressions/expression.py -> build/lib.linux-x86_64-3.8/cvxpy/expressions\n",
      "  copying cvxpy/expressions/__init__.py -> build/lib.linux-x86_64-3.8/cvxpy/expressions\n",
      "  copying cvxpy/expressions/leaf.py -> build/lib.linux-x86_64-3.8/cvxpy/expressions\n",
      "  copying cvxpy/expressions/cvxtypes.py -> build/lib.linux-x86_64-3.8/cvxpy/expressions\n",
      "  copying cvxpy/expressions/variable.py -> build/lib.linux-x86_64-3.8/cvxpy/expressions\n",
      "  creating build/lib.linux-x86_64-3.8/cvxpy/tests\n",
      "  copying cvxpy/tests/test_qp_solvers.py -> build/lib.linux-x86_64-3.8/cvxpy/tests\n",
      "  copying cvxpy/tests/test_constraints.py -> build/lib.linux-x86_64-3.8/cvxpy/tests\n",
      "  copying cvxpy/tests/test_sign.py -> build/lib.linux-x86_64-3.8/cvxpy/tests\n",
      "  copying cvxpy/tests/test_cone2cone.py -> build/lib.linux-x86_64-3.8/cvxpy/tests\n",
      "  copying cvxpy/tests/test_curvature.py -> build/lib.linux-x86_64-3.8/cvxpy/tests\n",
      "  copying cvxpy/tests/test_linear_cone.py -> build/lib.linux-x86_64-3.8/cvxpy/tests\n",
      "  copying cvxpy/tests/test_grad.py -> build/lib.linux-x86_64-3.8/cvxpy/tests\n",
      "  copying cvxpy/tests/test_semidefinite_vars.py -> build/lib.linux-x86_64-3.8/cvxpy/tests\n",
      "  copying cvxpy/tests/test_param_cone_prog.py -> build/lib.linux-x86_64-3.8/cvxpy/tests\n",
      "  copying cvxpy/tests/test_dgp2dcp.py -> build/lib.linux-x86_64-3.8/cvxpy/tests\n",
      "  copying cvxpy/tests/test_constant_atoms.py -> build/lib.linux-x86_64-3.8/cvxpy/tests\n",
      "  copying cvxpy/tests/test_param_quad_prog.py -> build/lib.linux-x86_64-3.8/cvxpy/tests\n",
      "  copying cvxpy/tests/test_dqcp.py -> build/lib.linux-x86_64-3.8/cvxpy/tests\n",
      "  copying cvxpy/tests/test_problem.py -> build/lib.linux-x86_64-3.8/cvxpy/tests\n",
      "  copying cvxpy/tests/test_conic_solvers.py -> build/lib.linux-x86_64-3.8/cvxpy/tests\n",
      "  copying cvxpy/tests/test_mip_vars.py -> build/lib.linux-x86_64-3.8/cvxpy/tests\n",
      "  copying cvxpy/tests/test_convolution.py -> build/lib.linux-x86_64-3.8/cvxpy/tests\n",
      "  copying cvxpy/tests/test_interfaces.py -> build/lib.linux-x86_64-3.8/cvxpy/tests\n",
      "  copying cvxpy/tests/test_atoms.py -> build/lib.linux-x86_64-3.8/cvxpy/tests\n",
      "  copying cvxpy/tests/ram_limited.py -> build/lib.linux-x86_64-3.8/cvxpy/tests\n",
      "  copying cvxpy/tests/solver_test_helpers.py -> build/lib.linux-x86_64-3.8/cvxpy/tests\n",
      "  copying cvxpy/tests/__init__.py -> build/lib.linux-x86_64-3.8/cvxpy/tests\n",
      "  copying cvxpy/tests/test_dgp.py -> build/lib.linux-x86_64-3.8/cvxpy/tests\n",
      "  copying cvxpy/tests/test_matrices.py -> build/lib.linux-x86_64-3.8/cvxpy/tests\n",
      "  copying cvxpy/tests/test_quad_form.py -> build/lib.linux-x86_64-3.8/cvxpy/tests\n",
      "  copying cvxpy/tests/test_benchmarks.py -> build/lib.linux-x86_64-3.8/cvxpy/tests\n",
      "  copying cvxpy/tests/test_quadratic.py -> build/lib.linux-x86_64-3.8/cvxpy/tests\n",
      "  copying cvxpy/tests/test_objectives.py -> build/lib.linux-x86_64-3.8/cvxpy/tests\n",
      "  copying cvxpy/tests/test_lin_ops.py -> build/lib.linux-x86_64-3.8/cvxpy/tests\n",
      "  copying cvxpy/tests/test_examples.py -> build/lib.linux-x86_64-3.8/cvxpy/tests\n",
      "  copying cvxpy/tests/test_derivative.py -> build/lib.linux-x86_64-3.8/cvxpy/tests\n",
      "  copying cvxpy/tests/test_nonlinear_atoms.py -> build/lib.linux-x86_64-3.8/cvxpy/tests\n",
      "  copying cvxpy/tests/test_dpp.py -> build/lib.linux-x86_64-3.8/cvxpy/tests\n",
      "  copying cvxpy/tests/base_test.py -> build/lib.linux-x86_64-3.8/cvxpy/tests\n",
      "  copying cvxpy/tests/test_domain.py -> build/lib.linux-x86_64-3.8/cvxpy/tests\n",
      "  copying cvxpy/tests/test_suppfunc.py -> build/lib.linux-x86_64-3.8/cvxpy/tests\n",
      "  copying cvxpy/tests/test_expressions.py -> build/lib.linux-x86_64-3.8/cvxpy/tests\n",
      "  copying cvxpy/tests/test_complex.py -> build/lib.linux-x86_64-3.8/cvxpy/tests\n",
      "  copying cvxpy/tests/test_monotonicity.py -> build/lib.linux-x86_64-3.8/cvxpy/tests\n",
      "  copying cvxpy/tests/test_shape.py -> build/lib.linux-x86_64-3.8/cvxpy/tests\n",
      "  copying cvxpy/tests/test_custom_solver.py -> build/lib.linux-x86_64-3.8/cvxpy/tests\n",
      "  creating build/lib.linux-x86_64-3.8/cvxpy/atoms\n",
      "  copying cvxpy/atoms/length.py -> build/lib.linux-x86_64-3.8/cvxpy/atoms\n",
      "  copying cvxpy/atoms/suppfunc.py -> build/lib.linux-x86_64-3.8/cvxpy/atoms\n",
      "  copying cvxpy/atoms/sum_smallest.py -> build/lib.linux-x86_64-3.8/cvxpy/atoms\n",
      "  copying cvxpy/atoms/atom.py -> build/lib.linux-x86_64-3.8/cvxpy/atoms\n",
      "  copying cvxpy/atoms/dist_ratio.py -> build/lib.linux-x86_64-3.8/cvxpy/atoms\n",
      "  copying cvxpy/atoms/norm_inf.py -> build/lib.linux-x86_64-3.8/cvxpy/atoms\n",
      "  copying cvxpy/atoms/prod.py -> build/lib.linux-x86_64-3.8/cvxpy/atoms\n",
      "  copying cvxpy/atoms/max.py -> build/lib.linux-x86_64-3.8/cvxpy/atoms\n",
      "  copying cvxpy/atoms/pnorm.py -> build/lib.linux-x86_64-3.8/cvxpy/atoms\n",
      "  copying cvxpy/atoms/sum_largest.py -> build/lib.linux-x86_64-3.8/cvxpy/atoms\n",
      "  copying cvxpy/atoms/gmatmul.py -> build/lib.linux-x86_64-3.8/cvxpy/atoms\n",
      "  copying cvxpy/atoms/lambda_sum_smallest.py -> build/lib.linux-x86_64-3.8/cvxpy/atoms\n",
      "  copying cvxpy/atoms/min.py -> build/lib.linux-x86_64-3.8/cvxpy/atoms\n",
      "  copying cvxpy/atoms/__init__.py -> build/lib.linux-x86_64-3.8/cvxpy/atoms\n",
      "  copying cvxpy/atoms/lambda_max.py -> build/lib.linux-x86_64-3.8/cvxpy/atoms\n",
      "  copying cvxpy/atoms/mixed_norm.py -> build/lib.linux-x86_64-3.8/cvxpy/atoms\n",
      "  copying cvxpy/atoms/total_variation.py -> build/lib.linux-x86_64-3.8/cvxpy/atoms\n",
      "  copying cvxpy/atoms/harmonic_mean.py -> build/lib.linux-x86_64-3.8/cvxpy/atoms\n",
      "  copying cvxpy/atoms/sum_squares.py -> build/lib.linux-x86_64-3.8/cvxpy/atoms\n",
      "  copying cvxpy/atoms/sigma_max.py -> build/lib.linux-x86_64-3.8/cvxpy/atoms\n",
      "  copying cvxpy/atoms/log_det.py -> build/lib.linux-x86_64-3.8/cvxpy/atoms\n",
      "  copying cvxpy/atoms/pf_eigenvalue.py -> build/lib.linux-x86_64-3.8/cvxpy/atoms\n",
      "  copying cvxpy/atoms/gen_lambda_max.py -> build/lib.linux-x86_64-3.8/cvxpy/atoms\n",
      "  copying cvxpy/atoms/sign.py -> build/lib.linux-x86_64-3.8/cvxpy/atoms\n",
      "  copying cvxpy/atoms/quad_over_lin.py -> build/lib.linux-x86_64-3.8/cvxpy/atoms\n",
      "  copying cvxpy/atoms/norm.py -> build/lib.linux-x86_64-3.8/cvxpy/atoms\n",
      "  copying cvxpy/atoms/cummax.py -> build/lib.linux-x86_64-3.8/cvxpy/atoms\n",
      "  copying cvxpy/atoms/norm1.py -> build/lib.linux-x86_64-3.8/cvxpy/atoms\n",
      "  copying cvxpy/atoms/eye_minus_inv.py -> build/lib.linux-x86_64-3.8/cvxpy/atoms\n",
      "  copying cvxpy/atoms/lambda_sum_largest.py -> build/lib.linux-x86_64-3.8/cvxpy/atoms\n",
      "  copying cvxpy/atoms/axis_atom.py -> build/lib.linux-x86_64-3.8/cvxpy/atoms\n",
      "  copying cvxpy/atoms/quad_form.py -> build/lib.linux-x86_64-3.8/cvxpy/atoms\n",
      "  copying cvxpy/atoms/matrix_frac.py -> build/lib.linux-x86_64-3.8/cvxpy/atoms\n",
      "  copying cvxpy/atoms/one_minus_pos.py -> build/lib.linux-x86_64-3.8/cvxpy/atoms\n",
      "  copying cvxpy/atoms/lambda_min.py -> build/lib.linux-x86_64-3.8/cvxpy/atoms\n",
      "  copying cvxpy/atoms/norm_nuc.py -> build/lib.linux-x86_64-3.8/cvxpy/atoms\n",
      "  copying cvxpy/atoms/inv_prod.py -> build/lib.linux-x86_64-3.8/cvxpy/atoms\n",
      "  copying cvxpy/atoms/log_sum_exp.py -> build/lib.linux-x86_64-3.8/cvxpy/atoms\n",
      "  copying cvxpy/atoms/geo_mean.py -> build/lib.linux-x86_64-3.8/cvxpy/atoms\n",
      "  creating build/lib.linux-x86_64-3.8/cvxpy/utilities\n",
      "  copying cvxpy/utilities/power_tools.py -> build/lib.linux-x86_64-3.8/cvxpy/utilities\n",
      "  copying cvxpy/utilities/shape.py -> build/lib.linux-x86_64-3.8/cvxpy/utilities\n",
      "  copying cvxpy/utilities/debug_tools.py -> build/lib.linux-x86_64-3.8/cvxpy/utilities\n",
      "  copying cvxpy/utilities/key_utils.py -> build/lib.linux-x86_64-3.8/cvxpy/utilities\n",
      "  copying cvxpy/utilities/deterministic.py -> build/lib.linux-x86_64-3.8/cvxpy/utilities\n",
      "  copying cvxpy/utilities/scopes.py -> build/lib.linux-x86_64-3.8/cvxpy/utilities\n",
      "  copying cvxpy/utilities/grad.py -> build/lib.linux-x86_64-3.8/cvxpy/utilities\n",
      "  copying cvxpy/utilities/__init__.py -> build/lib.linux-x86_64-3.8/cvxpy/utilities\n",
      "  copying cvxpy/utilities/cvxpy_upgrade.py -> build/lib.linux-x86_64-3.8/cvxpy/utilities\n",
      "  copying cvxpy/utilities/canonical.py -> build/lib.linux-x86_64-3.8/cvxpy/utilities\n",
      "  copying cvxpy/utilities/sign.py -> build/lib.linux-x86_64-3.8/cvxpy/utilities\n",
      "  copying cvxpy/utilities/coeff_extractor.py -> build/lib.linux-x86_64-3.8/cvxpy/utilities\n",
      "  copying cvxpy/utilities/performance_utils.py -> build/lib.linux-x86_64-3.8/cvxpy/utilities\n",
      "  copying cvxpy/utilities/replace_quad_forms.py -> build/lib.linux-x86_64-3.8/cvxpy/utilities\n",
      "  creating build/lib.linux-x86_64-3.8/cvxpy/interface\n",
      "  copying cvxpy/interface/__init__.py -> build/lib.linux-x86_64-3.8/cvxpy/interface\n",
      "  copying cvxpy/interface/base_matrix_interface.py -> build/lib.linux-x86_64-3.8/cvxpy/interface\n",
      "  copying cvxpy/interface/matrix_utilities.py -> build/lib.linux-x86_64-3.8/cvxpy/interface\n",
      "  copying cvxpy/interface/scipy_wrapper.py -> build/lib.linux-x86_64-3.8/cvxpy/interface\n",
      "  creating build/lib.linux-x86_64-3.8/cvxpy/cvxcore/python\n",
      "  copying cvxpy/cvxcore/python/cvxcore.py -> build/lib.linux-x86_64-3.8/cvxpy/cvxcore/python\n",
      "  copying cvxpy/cvxcore/python/__init__.py -> build/lib.linux-x86_64-3.8/cvxpy/cvxcore/python\n",
      "  copying cvxpy/cvxcore/python/canonInterface.py -> build/lib.linux-x86_64-3.8/cvxpy/cvxcore/python\n",
      "  creating build/lib.linux-x86_64-3.8/cvxpy/reductions/dgp2dcp\n",
      "  copying cvxpy/reductions/dgp2dcp/__init__.py -> build/lib.linux-x86_64-3.8/cvxpy/reductions/dgp2dcp\n",
      "  copying cvxpy/reductions/dgp2dcp/util.py -> build/lib.linux-x86_64-3.8/cvxpy/reductions/dgp2dcp\n",
      "  copying cvxpy/reductions/dgp2dcp/dgp2dcp.py -> build/lib.linux-x86_64-3.8/cvxpy/reductions/dgp2dcp\n",
      "  creating build/lib.linux-x86_64-3.8/cvxpy/reductions/dcp2cone\n",
      "  copying cvxpy/reductions/dcp2cone/dcp2cone.py -> build/lib.linux-x86_64-3.8/cvxpy/reductions/dcp2cone\n",
      "  copying cvxpy/reductions/dcp2cone/__init__.py -> build/lib.linux-x86_64-3.8/cvxpy/reductions/dcp2cone\n",
      "  copying cvxpy/reductions/dcp2cone/cone_matrix_stuffing.py -> build/lib.linux-x86_64-3.8/cvxpy/reductions/dcp2cone\n",
      "  creating build/lib.linux-x86_64-3.8/cvxpy/reductions/eliminate_pwl\n",
      "  copying cvxpy/reductions/eliminate_pwl/eliminate_pwl.py -> build/lib.linux-x86_64-3.8/cvxpy/reductions/eliminate_pwl\n",
      "  copying cvxpy/reductions/eliminate_pwl/__init__.py -> build/lib.linux-x86_64-3.8/cvxpy/reductions/eliminate_pwl\n",
      "  creating build/lib.linux-x86_64-3.8/cvxpy/reductions/complex2real\n",
      "  copying cvxpy/reductions/complex2real/__init__.py -> build/lib.linux-x86_64-3.8/cvxpy/reductions/complex2real\n",
      "  copying cvxpy/reductions/complex2real/complex2real.py -> build/lib.linux-x86_64-3.8/cvxpy/reductions/complex2real\n",
      "  creating build/lib.linux-x86_64-3.8/cvxpy/reductions/qp2quad_form\n",
      "  copying cvxpy/reductions/qp2quad_form/__init__.py -> build/lib.linux-x86_64-3.8/cvxpy/reductions/qp2quad_form\n",
      "  copying cvxpy/reductions/qp2quad_form/qp_matrix_stuffing.py -> build/lib.linux-x86_64-3.8/cvxpy/reductions/qp2quad_form\n",
      "  copying cvxpy/reductions/qp2quad_form/qp2symbolic_qp.py -> build/lib.linux-x86_64-3.8/cvxpy/reductions/qp2quad_form\n",
      "  creating build/lib.linux-x86_64-3.8/cvxpy/reductions/dqcp2dcp\n",
      "  copying cvxpy/reductions/dqcp2dcp/dqcp2dcp.py -> build/lib.linux-x86_64-3.8/cvxpy/reductions/dqcp2dcp\n",
      "  copying cvxpy/reductions/dqcp2dcp/__init__.py -> build/lib.linux-x86_64-3.8/cvxpy/reductions/dqcp2dcp\n",
      "  copying cvxpy/reductions/dqcp2dcp/tighten.py -> build/lib.linux-x86_64-3.8/cvxpy/reductions/dqcp2dcp\n",
      "  copying cvxpy/reductions/dqcp2dcp/sets.py -> build/lib.linux-x86_64-3.8/cvxpy/reductions/dqcp2dcp\n",
      "  copying cvxpy/reductions/dqcp2dcp/inverse.py -> build/lib.linux-x86_64-3.8/cvxpy/reductions/dqcp2dcp\n",
      "  creating build/lib.linux-x86_64-3.8/cvxpy/reductions/cone2cone\n",
      "  copying cvxpy/reductions/cone2cone/affine2direct.py -> build/lib.linux-x86_64-3.8/cvxpy/reductions/cone2cone\n",
      "  copying cvxpy/reductions/cone2cone/__init__.py -> build/lib.linux-x86_64-3.8/cvxpy/reductions/cone2cone\n",
      "  copying cvxpy/reductions/cone2cone/exotic2common.py -> build/lib.linux-x86_64-3.8/cvxpy/reductions/cone2cone\n",
      "  creating build/lib.linux-x86_64-3.8/cvxpy/reductions/solvers\n",
      "  copying cvxpy/reductions/solvers/defines.py -> build/lib.linux-x86_64-3.8/cvxpy/reductions/solvers\n",
      "  copying cvxpy/reductions/solvers/intermediate_chain.py -> build/lib.linux-x86_64-3.8/cvxpy/reductions/solvers\n",
      "  copying cvxpy/reductions/solvers/solving_chain.py -> build/lib.linux-x86_64-3.8/cvxpy/reductions/solvers\n",
      "  copying cvxpy/reductions/solvers/solver.py -> build/lib.linux-x86_64-3.8/cvxpy/reductions/solvers\n",
      "  copying cvxpy/reductions/solvers/kktsolver.py -> build/lib.linux-x86_64-3.8/cvxpy/reductions/solvers\n",
      "  copying cvxpy/reductions/solvers/__init__.py -> build/lib.linux-x86_64-3.8/cvxpy/reductions/solvers\n",
      "  copying cvxpy/reductions/solvers/constant_solver.py -> build/lib.linux-x86_64-3.8/cvxpy/reductions/solvers\n",
      "  copying cvxpy/reductions/solvers/utilities.py -> build/lib.linux-x86_64-3.8/cvxpy/reductions/solvers\n",
      "  copying cvxpy/reductions/solvers/compr_matrix.py -> build/lib.linux-x86_64-3.8/cvxpy/reductions/solvers\n",
      "  copying cvxpy/reductions/solvers/bisection.py -> build/lib.linux-x86_64-3.8/cvxpy/reductions/solvers\n",
      "  creating build/lib.linux-x86_64-3.8/cvxpy/reductions/dgp2dcp/atom_canonicalizers\n",
      "  copying cvxpy/reductions/dgp2dcp/atom_canonicalizers/gmatmul_canon.py -> build/lib.linux-x86_64-3.8/cvxpy/reductions/dgp2dcp/atom_canonicalizers\n",
      "  copying cvxpy/reductions/dgp2dcp/atom_canonicalizers/constant_canon.py -> build/lib.linux-x86_64-3.8/cvxpy/reductions/dgp2dcp/atom_canonicalizers\n",
      "  copying cvxpy/reductions/dgp2dcp/atom_canonicalizers/pnorm_canon.py -> build/lib.linux-x86_64-3.8/cvxpy/reductions/dgp2dcp/atom_canonicalizers\n",
      "  copying cvxpy/reductions/dgp2dcp/atom_canonicalizers/zero_constr_canon.py -> build/lib.linux-x86_64-3.8/cvxpy/reductions/dgp2dcp/atom_canonicalizers\n",
      "  copying cvxpy/reductions/dgp2dcp/atom_canonicalizers/exp_canon.py -> build/lib.linux-x86_64-3.8/cvxpy/reductions/dgp2dcp/atom_canonicalizers\n",
      "  copying cvxpy/reductions/dgp2dcp/atom_canonicalizers/div_canon.py -> build/lib.linux-x86_64-3.8/cvxpy/reductions/dgp2dcp/atom_canonicalizers\n",
      "  copying cvxpy/reductions/dgp2dcp/atom_canonicalizers/mulexpression_canon.py -> build/lib.linux-x86_64-3.8/cvxpy/reductions/dgp2dcp/atom_canonicalizers\n",
      "  copying cvxpy/reductions/dgp2dcp/atom_canonicalizers/norm1_canon.py -> build/lib.linux-x86_64-3.8/cvxpy/reductions/dgp2dcp/atom_canonicalizers\n",
      "  copying cvxpy/reductions/dgp2dcp/atom_canonicalizers/__init__.py -> build/lib.linux-x86_64-3.8/cvxpy/reductions/dgp2dcp/atom_canonicalizers\n",
      "  copying cvxpy/reductions/dgp2dcp/atom_canonicalizers/quad_form_canon.py -> build/lib.linux-x86_64-3.8/cvxpy/reductions/dgp2dcp/atom_canonicalizers\n",
      "  copying cvxpy/reductions/dgp2dcp/atom_canonicalizers/trace_canon.py -> build/lib.linux-x86_64-3.8/cvxpy/reductions/dgp2dcp/atom_canonicalizers\n",
      "  copying cvxpy/reductions/dgp2dcp/atom_canonicalizers/mul_canon.py -> build/lib.linux-x86_64-3.8/cvxpy/reductions/dgp2dcp/atom_canonicalizers\n",
      "  copying cvxpy/reductions/dgp2dcp/atom_canonicalizers/one_minus_pos_canon.py -> build/lib.linux-x86_64-3.8/cvxpy/reductions/dgp2dcp/atom_canonicalizers\n",
      "  copying cvxpy/reductions/dgp2dcp/atom_canonicalizers/norm_inf_canon.py -> build/lib.linux-x86_64-3.8/cvxpy/reductions/dgp2dcp/atom_canonicalizers\n",
      "  copying cvxpy/reductions/dgp2dcp/atom_canonicalizers/log_canon.py -> build/lib.linux-x86_64-3.8/cvxpy/reductions/dgp2dcp/atom_canonicalizers\n",
      "  copying cvxpy/reductions/dgp2dcp/atom_canonicalizers/parameter_canon.py -> build/lib.linux-x86_64-3.8/cvxpy/reductions/dgp2dcp/atom_canonicalizers\n",
      "  copying cvxpy/reductions/dgp2dcp/atom_canonicalizers/quad_over_lin_canon.py -> build/lib.linux-x86_64-3.8/cvxpy/reductions/dgp2dcp/atom_canonicalizers\n",
      "  copying cvxpy/reductions/dgp2dcp/atom_canonicalizers/pf_eigenvalue_canon.py -> build/lib.linux-x86_64-3.8/cvxpy/reductions/dgp2dcp/atom_canonicalizers\n",
      "  copying cvxpy/reductions/dgp2dcp/atom_canonicalizers/prod_canon.py -> build/lib.linux-x86_64-3.8/cvxpy/reductions/dgp2dcp/atom_canonicalizers\n",
      "  copying cvxpy/reductions/dgp2dcp/atom_canonicalizers/power_canon.py -> build/lib.linux-x86_64-3.8/cvxpy/reductions/dgp2dcp/atom_canonicalizers\n",
      "  copying cvxpy/reductions/dgp2dcp/atom_canonicalizers/add_canon.py -> build/lib.linux-x86_64-3.8/cvxpy/reductions/dgp2dcp/atom_canonicalizers\n",
      "  copying cvxpy/reductions/dgp2dcp/atom_canonicalizers/nonpos_constr_canon.py -> build/lib.linux-x86_64-3.8/cvxpy/reductions/dgp2dcp/atom_canonicalizers\n",
      "  copying cvxpy/reductions/dgp2dcp/atom_canonicalizers/eye_minus_inv_canon.py -> build/lib.linux-x86_64-3.8/cvxpy/reductions/dgp2dcp/atom_canonicalizers\n",
      "  copying cvxpy/reductions/dgp2dcp/atom_canonicalizers/sum_canon.py -> build/lib.linux-x86_64-3.8/cvxpy/reductions/dgp2dcp/atom_canonicalizers\n",
      "  copying cvxpy/reductions/dgp2dcp/atom_canonicalizers/geo_mean_canon.py -> build/lib.linux-x86_64-3.8/cvxpy/reductions/dgp2dcp/atom_canonicalizers\n",
      "  creating build/lib.linux-x86_64-3.8/cvxpy/reductions/dcp2cone/atom_canonicalizers\n",
      "  copying cvxpy/reductions/dcp2cone/atom_canonicalizers/lambda_max_canon.py -> build/lib.linux-x86_64-3.8/cvxpy/reductions/dcp2cone/atom_canonicalizers\n",
      "  copying cvxpy/reductions/dcp2cone/atom_canonicalizers/sigma_max_canon.py -> build/lib.linux-x86_64-3.8/cvxpy/reductions/dcp2cone/atom_canonicalizers\n",
      "  copying cvxpy/reductions/dcp2cone/atom_canonicalizers/pnorm_canon.py -> build/lib.linux-x86_64-3.8/cvxpy/reductions/dcp2cone/atom_canonicalizers\n",
      "  copying cvxpy/reductions/dcp2cone/atom_canonicalizers/normNuc_canon.py -> build/lib.linux-x86_64-3.8/cvxpy/reductions/dcp2cone/atom_canonicalizers\n",
      "  copying cvxpy/reductions/dcp2cone/atom_canonicalizers/exp_canon.py -> build/lib.linux-x86_64-3.8/cvxpy/reductions/dcp2cone/atom_canonicalizers\n",
      "  copying cvxpy/reductions/dcp2cone/atom_canonicalizers/__init__.py -> build/lib.linux-x86_64-3.8/cvxpy/reductions/dcp2cone/atom_canonicalizers\n",
      "  copying cvxpy/reductions/dcp2cone/atom_canonicalizers/quad_form_canon.py -> build/lib.linux-x86_64-3.8/cvxpy/reductions/dcp2cone/atom_canonicalizers\n",
      "  copying cvxpy/reductions/dcp2cone/atom_canonicalizers/suppfunc_canon.py -> build/lib.linux-x86_64-3.8/cvxpy/reductions/dcp2cone/atom_canonicalizers\n",
      "  copying cvxpy/reductions/dcp2cone/atom_canonicalizers/log_sum_exp_canon.py -> build/lib.linux-x86_64-3.8/cvxpy/reductions/dcp2cone/atom_canonicalizers\n",
      "  copying cvxpy/reductions/dcp2cone/atom_canonicalizers/mul_canon.py -> build/lib.linux-x86_64-3.8/cvxpy/reductions/dcp2cone/atom_canonicalizers\n",
      "  copying cvxpy/reductions/dcp2cone/atom_canonicalizers/log_det_canon.py -> build/lib.linux-x86_64-3.8/cvxpy/reductions/dcp2cone/atom_canonicalizers\n",
      "  copying cvxpy/reductions/dcp2cone/atom_canonicalizers/log_canon.py -> build/lib.linux-x86_64-3.8/cvxpy/reductions/dcp2cone/atom_canonicalizers\n",
      "  copying cvxpy/reductions/dcp2cone/atom_canonicalizers/matrix_frac_canon.py -> build/lib.linux-x86_64-3.8/cvxpy/reductions/dcp2cone/atom_canonicalizers\n",
      "  copying cvxpy/reductions/dcp2cone/atom_canonicalizers/lambda_sum_largest_canon.py -> build/lib.linux-x86_64-3.8/cvxpy/reductions/dcp2cone/atom_canonicalizers\n",
      "  copying cvxpy/reductions/dcp2cone/atom_canonicalizers/huber_canon.py -> build/lib.linux-x86_64-3.8/cvxpy/reductions/dcp2cone/atom_canonicalizers\n",
      "  copying cvxpy/reductions/dcp2cone/atom_canonicalizers/quad_over_lin_canon.py -> build/lib.linux-x86_64-3.8/cvxpy/reductions/dcp2cone/atom_canonicalizers\n",
      "  copying cvxpy/reductions/dcp2cone/atom_canonicalizers/entr_canon.py -> build/lib.linux-x86_64-3.8/cvxpy/reductions/dcp2cone/atom_canonicalizers\n",
      "  copying cvxpy/reductions/dcp2cone/atom_canonicalizers/logistic_canon.py -> build/lib.linux-x86_64-3.8/cvxpy/reductions/dcp2cone/atom_canonicalizers\n",
      "  copying cvxpy/reductions/dcp2cone/atom_canonicalizers/power_canon.py -> build/lib.linux-x86_64-3.8/cvxpy/reductions/dcp2cone/atom_canonicalizers\n",
      "  copying cvxpy/reductions/dcp2cone/atom_canonicalizers/log1p_canon.py -> build/lib.linux-x86_64-3.8/cvxpy/reductions/dcp2cone/atom_canonicalizers\n",
      "  copying cvxpy/reductions/dcp2cone/atom_canonicalizers/kl_div_canon.py -> build/lib.linux-x86_64-3.8/cvxpy/reductions/dcp2cone/atom_canonicalizers\n",
      "  copying cvxpy/reductions/dcp2cone/atom_canonicalizers/indicator_canon.py -> build/lib.linux-x86_64-3.8/cvxpy/reductions/dcp2cone/atom_canonicalizers\n",
      "  copying cvxpy/reductions/dcp2cone/atom_canonicalizers/geo_mean_canon.py -> build/lib.linux-x86_64-3.8/cvxpy/reductions/dcp2cone/atom_canonicalizers\n",
      "  creating build/lib.linux-x86_64-3.8/cvxpy/reductions/eliminate_pwl/atom_canonicalizers\n",
      "  copying cvxpy/reductions/eliminate_pwl/atom_canonicalizers/abs_canon.py -> build/lib.linux-x86_64-3.8/cvxpy/reductions/eliminate_pwl/atom_canonicalizers\n",
      "  copying cvxpy/reductions/eliminate_pwl/atom_canonicalizers/maximum_canon.py -> build/lib.linux-x86_64-3.8/cvxpy/reductions/eliminate_pwl/atom_canonicalizers\n",
      "  copying cvxpy/reductions/eliminate_pwl/atom_canonicalizers/norm1_canon.py -> build/lib.linux-x86_64-3.8/cvxpy/reductions/eliminate_pwl/atom_canonicalizers\n",
      "  copying cvxpy/reductions/eliminate_pwl/atom_canonicalizers/__init__.py -> build/lib.linux-x86_64-3.8/cvxpy/reductions/eliminate_pwl/atom_canonicalizers\n",
      "  copying cvxpy/reductions/eliminate_pwl/atom_canonicalizers/cummax_canon.py -> build/lib.linux-x86_64-3.8/cvxpy/reductions/eliminate_pwl/atom_canonicalizers\n",
      "  copying cvxpy/reductions/eliminate_pwl/atom_canonicalizers/minimum_canon.py -> build/lib.linux-x86_64-3.8/cvxpy/reductions/eliminate_pwl/atom_canonicalizers\n",
      "  copying cvxpy/reductions/eliminate_pwl/atom_canonicalizers/sum_largest_canon.py -> build/lib.linux-x86_64-3.8/cvxpy/reductions/eliminate_pwl/atom_canonicalizers\n",
      "  copying cvxpy/reductions/eliminate_pwl/atom_canonicalizers/norm_inf_canon.py -> build/lib.linux-x86_64-3.8/cvxpy/reductions/eliminate_pwl/atom_canonicalizers\n",
      "  copying cvxpy/reductions/eliminate_pwl/atom_canonicalizers/cumsum_canon.py -> build/lib.linux-x86_64-3.8/cvxpy/reductions/eliminate_pwl/atom_canonicalizers\n",
      "  copying cvxpy/reductions/eliminate_pwl/atom_canonicalizers/max_canon.py -> build/lib.linux-x86_64-3.8/cvxpy/reductions/eliminate_pwl/atom_canonicalizers\n",
      "  copying cvxpy/reductions/eliminate_pwl/atom_canonicalizers/min_canon.py -> build/lib.linux-x86_64-3.8/cvxpy/reductions/eliminate_pwl/atom_canonicalizers\n",
      "  creating build/lib.linux-x86_64-3.8/cvxpy/reductions/complex2real/atom_canonicalizers\n",
      "  copying cvxpy/reductions/complex2real/atom_canonicalizers/constant_canon.py -> build/lib.linux-x86_64-3.8/cvxpy/reductions/complex2real/atom_canonicalizers\n",
      "  copying cvxpy/reductions/complex2real/atom_canonicalizers/abs_canon.py -> build/lib.linux-x86_64-3.8/cvxpy/reductions/complex2real/atom_canonicalizers\n",
      "  copying cvxpy/reductions/complex2real/atom_canonicalizers/param_canon.py -> build/lib.linux-x86_64-3.8/cvxpy/reductions/complex2real/atom_canonicalizers\n",
      "  copying cvxpy/reductions/complex2real/atom_canonicalizers/pnorm_canon.py -> build/lib.linux-x86_64-3.8/cvxpy/reductions/complex2real/atom_canonicalizers\n",
      "  copying cvxpy/reductions/complex2real/atom_canonicalizers/__init__.py -> build/lib.linux-x86_64-3.8/cvxpy/reductions/complex2real/atom_canonicalizers\n",
      "  copying cvxpy/reductions/complex2real/atom_canonicalizers/matrix_canon.py -> build/lib.linux-x86_64-3.8/cvxpy/reductions/complex2real/atom_canonicalizers\n",
      "  copying cvxpy/reductions/complex2real/atom_canonicalizers/variable_canon.py -> build/lib.linux-x86_64-3.8/cvxpy/reductions/complex2real/atom_canonicalizers\n",
      "  copying cvxpy/reductions/complex2real/atom_canonicalizers/psd_canon.py -> build/lib.linux-x86_64-3.8/cvxpy/reductions/complex2real/atom_canonicalizers\n",
      "  copying cvxpy/reductions/complex2real/atom_canonicalizers/equality_canon.py -> build/lib.linux-x86_64-3.8/cvxpy/reductions/complex2real/atom_canonicalizers\n",
      "  copying cvxpy/reductions/complex2real/atom_canonicalizers/inequality_canon.py -> build/lib.linux-x86_64-3.8/cvxpy/reductions/complex2real/atom_canonicalizers\n",
      "  copying cvxpy/reductions/complex2real/atom_canonicalizers/aff_canon.py -> build/lib.linux-x86_64-3.8/cvxpy/reductions/complex2real/atom_canonicalizers\n",
      "  copying cvxpy/reductions/complex2real/atom_canonicalizers/soc_canon.py -> build/lib.linux-x86_64-3.8/cvxpy/reductions/complex2real/atom_canonicalizers\n",
      "  creating build/lib.linux-x86_64-3.8/cvxpy/reductions/qp2quad_form/atom_canonicalizers\n",
      "  copying cvxpy/reductions/qp2quad_form/atom_canonicalizers/__init__.py -> build/lib.linux-x86_64-3.8/cvxpy/reductions/qp2quad_form/atom_canonicalizers\n",
      "  copying cvxpy/reductions/qp2quad_form/atom_canonicalizers/quad_form_canon.py -> build/lib.linux-x86_64-3.8/cvxpy/reductions/qp2quad_form/atom_canonicalizers\n",
      "  copying cvxpy/reductions/qp2quad_form/atom_canonicalizers/huber_canon.py -> build/lib.linux-x86_64-3.8/cvxpy/reductions/qp2quad_form/atom_canonicalizers\n",
      "  copying cvxpy/reductions/qp2quad_form/atom_canonicalizers/quad_over_lin_canon.py -> build/lib.linux-x86_64-3.8/cvxpy/reductions/qp2quad_form/atom_canonicalizers\n",
      "  copying cvxpy/reductions/qp2quad_form/atom_canonicalizers/power_canon.py -> build/lib.linux-x86_64-3.8/cvxpy/reductions/qp2quad_form/atom_canonicalizers\n",
      "  creating build/lib.linux-x86_64-3.8/cvxpy/reductions/solvers/lp_solvers\n",
      "  copying cvxpy/reductions/solvers/lp_solvers/__init__.py -> build/lib.linux-x86_64-3.8/cvxpy/reductions/solvers/lp_solvers\n",
      "  creating build/lib.linux-x86_64-3.8/cvxpy/reductions/solvers/qp_solvers\n",
      "  copying cvxpy/reductions/solvers/qp_solvers/cplex_qpif.py -> build/lib.linux-x86_64-3.8/cvxpy/reductions/solvers/qp_solvers\n",
      "  copying cvxpy/reductions/solvers/qp_solvers/__init__.py -> build/lib.linux-x86_64-3.8/cvxpy/reductions/solvers/qp_solvers\n",
      "  copying cvxpy/reductions/solvers/qp_solvers/qp_solver.py -> build/lib.linux-x86_64-3.8/cvxpy/reductions/solvers/qp_solvers\n",
      "  copying cvxpy/reductions/solvers/qp_solvers/osqp_qpif.py -> build/lib.linux-x86_64-3.8/cvxpy/reductions/solvers/qp_solvers\n",
      "  copying cvxpy/reductions/solvers/qp_solvers/xpress_qpif.py -> build/lib.linux-x86_64-3.8/cvxpy/reductions/solvers/qp_solvers\n",
      "  copying cvxpy/reductions/solvers/qp_solvers/gurobi_qpif.py -> build/lib.linux-x86_64-3.8/cvxpy/reductions/solvers/qp_solvers\n",
      "  creating build/lib.linux-x86_64-3.8/cvxpy/reductions/solvers/conic_solvers\n",
      "  copying cvxpy/reductions/solvers/conic_solvers/glpk_conif.py -> build/lib.linux-x86_64-3.8/cvxpy/reductions/solvers/conic_solvers\n",
      "  copying cvxpy/reductions/solvers/conic_solvers/mosek_conif.py -> build/lib.linux-x86_64-3.8/cvxpy/reductions/solvers/conic_solvers\n",
      "  copying cvxpy/reductions/solvers/conic_solvers/ecos_bb_conif.py -> build/lib.linux-x86_64-3.8/cvxpy/reductions/solvers/conic_solvers\n",
      "  copying cvxpy/reductions/solvers/conic_solvers/scip_conif.py -> build/lib.linux-x86_64-3.8/cvxpy/reductions/solvers/conic_solvers\n",
      "  copying cvxpy/reductions/solvers/conic_solvers/cbc_conif.py -> build/lib.linux-x86_64-3.8/cvxpy/reductions/solvers/conic_solvers\n",
      "  copying cvxpy/reductions/solvers/conic_solvers/__init__.py -> build/lib.linux-x86_64-3.8/cvxpy/reductions/solvers/conic_solvers\n",
      "  copying cvxpy/reductions/solvers/conic_solvers/xpress_conif.py -> build/lib.linux-x86_64-3.8/cvxpy/reductions/solvers/conic_solvers\n",
      "  copying cvxpy/reductions/solvers/conic_solvers/nag_conif.py -> build/lib.linux-x86_64-3.8/cvxpy/reductions/solvers/conic_solvers\n",
      "  copying cvxpy/reductions/solvers/conic_solvers/glpk_mi_conif.py -> build/lib.linux-x86_64-3.8/cvxpy/reductions/solvers/conic_solvers\n",
      "  copying cvxpy/reductions/solvers/conic_solvers/cvxopt_conif.py -> build/lib.linux-x86_64-3.8/cvxpy/reductions/solvers/conic_solvers\n",
      "  copying cvxpy/reductions/solvers/conic_solvers/ecos_conif.py -> build/lib.linux-x86_64-3.8/cvxpy/reductions/solvers/conic_solvers\n",
      "  copying cvxpy/reductions/solvers/conic_solvers/diffcp_conif.py -> build/lib.linux-x86_64-3.8/cvxpy/reductions/solvers/conic_solvers\n",
      "  copying cvxpy/reductions/solvers/conic_solvers/cplex_conif.py -> build/lib.linux-x86_64-3.8/cvxpy/reductions/solvers/conic_solvers\n",
      "  copying cvxpy/reductions/solvers/conic_solvers/gurobi_conif.py -> build/lib.linux-x86_64-3.8/cvxpy/reductions/solvers/conic_solvers\n",
      "  copying cvxpy/reductions/solvers/conic_solvers/scs_conif.py -> build/lib.linux-x86_64-3.8/cvxpy/reductions/solvers/conic_solvers\n",
      "  copying cvxpy/reductions/solvers/conic_solvers/conic_solver.py -> build/lib.linux-x86_64-3.8/cvxpy/reductions/solvers/conic_solvers\n",
      "  creating build/lib.linux-x86_64-3.8/cvxpy/expressions/constants\n",
      "  copying cvxpy/expressions/constants/parameter.py -> build/lib.linux-x86_64-3.8/cvxpy/expressions/constants\n",
      "  copying cvxpy/expressions/constants/__init__.py -> build/lib.linux-x86_64-3.8/cvxpy/expressions/constants\n",
      "  copying cvxpy/expressions/constants/constant.py -> build/lib.linux-x86_64-3.8/cvxpy/expressions/constants\n",
      "  copying cvxpy/expressions/constants/callback_param.py -> build/lib.linux-x86_64-3.8/cvxpy/expressions/constants\n",
      "  creating build/lib.linux-x86_64-3.8/cvxpy/atoms/affine\n",
      "  copying cvxpy/atoms/affine/real.py -> build/lib.linux-x86_64-3.8/cvxpy/atoms/affine\n",
      "  copying cvxpy/atoms/affine/vstack.py -> build/lib.linux-x86_64-3.8/cvxpy/atoms/affine\n",
      "  copying cvxpy/atoms/affine/binary_operators.py -> build/lib.linux-x86_64-3.8/cvxpy/atoms/affine\n",
      "  copying cvxpy/atoms/affine/hstack.py -> build/lib.linux-x86_64-3.8/cvxpy/atoms/affine\n",
      "  copying cvxpy/atoms/affine/conj.py -> build/lib.linux-x86_64-3.8/cvxpy/atoms/affine\n",
      "  copying cvxpy/atoms/affine/diag.py -> build/lib.linux-x86_64-3.8/cvxpy/atoms/affine\n",
      "  copying cvxpy/atoms/affine/__init__.py -> build/lib.linux-x86_64-3.8/cvxpy/atoms/affine\n",
      "  copying cvxpy/atoms/affine/cumsum.py -> build/lib.linux-x86_64-3.8/cvxpy/atoms/affine\n",
      "  copying cvxpy/atoms/affine/imag.py -> build/lib.linux-x86_64-3.8/cvxpy/atoms/affine\n",
      "  copying cvxpy/atoms/affine/diff.py -> build/lib.linux-x86_64-3.8/cvxpy/atoms/affine\n",
      "  copying cvxpy/atoms/affine/transpose.py -> build/lib.linux-x86_64-3.8/cvxpy/atoms/affine\n",
      "  copying cvxpy/atoms/affine/unary_operators.py -> build/lib.linux-x86_64-3.8/cvxpy/atoms/affine\n",
      "  copying cvxpy/atoms/affine/wraps.py -> build/lib.linux-x86_64-3.8/cvxpy/atoms/affine\n",
      "  copying cvxpy/atoms/affine/conv.py -> build/lib.linux-x86_64-3.8/cvxpy/atoms/affine\n",
      "  copying cvxpy/atoms/affine/kron.py -> build/lib.linux-x86_64-3.8/cvxpy/atoms/affine\n",
      "  copying cvxpy/atoms/affine/vec.py -> build/lib.linux-x86_64-3.8/cvxpy/atoms/affine\n",
      "  copying cvxpy/atoms/affine/affine_atom.py -> build/lib.linux-x86_64-3.8/cvxpy/atoms/affine\n",
      "  copying cvxpy/atoms/affine/promote.py -> build/lib.linux-x86_64-3.8/cvxpy/atoms/affine\n",
      "  copying cvxpy/atoms/affine/bmat.py -> build/lib.linux-x86_64-3.8/cvxpy/atoms/affine\n",
      "  copying cvxpy/atoms/affine/add_expr.py -> build/lib.linux-x86_64-3.8/cvxpy/atoms/affine\n",
      "  copying cvxpy/atoms/affine/reshape.py -> build/lib.linux-x86_64-3.8/cvxpy/atoms/affine\n",
      "  copying cvxpy/atoms/affine/sum.py -> build/lib.linux-x86_64-3.8/cvxpy/atoms/affine\n",
      "  copying cvxpy/atoms/affine/trace.py -> build/lib.linux-x86_64-3.8/cvxpy/atoms/affine\n",
      "  copying cvxpy/atoms/affine/index.py -> build/lib.linux-x86_64-3.8/cvxpy/atoms/affine\n",
      "  copying cvxpy/atoms/affine/upper_tri.py -> build/lib.linux-x86_64-3.8/cvxpy/atoms/affine\n",
      "  creating build/lib.linux-x86_64-3.8/cvxpy/atoms/elementwise\n",
      "  copying cvxpy/atoms/elementwise/log_normcdf.py -> build/lib.linux-x86_64-3.8/cvxpy/atoms/elementwise\n",
      "  copying cvxpy/atoms/elementwise/scalene.py -> build/lib.linux-x86_64-3.8/cvxpy/atoms/elementwise\n",
      "  copying cvxpy/atoms/elementwise/kl_div.py -> build/lib.linux-x86_64-3.8/cvxpy/atoms/elementwise\n",
      "  copying cvxpy/atoms/elementwise/ceil.py -> build/lib.linux-x86_64-3.8/cvxpy/atoms/elementwise\n",
      "  copying cvxpy/atoms/elementwise/sqrt.py -> build/lib.linux-x86_64-3.8/cvxpy/atoms/elementwise\n",
      "  copying cvxpy/atoms/elementwise/__init__.py -> build/lib.linux-x86_64-3.8/cvxpy/atoms/elementwise\n",
      "  copying cvxpy/atoms/elementwise/exp.py -> build/lib.linux-x86_64-3.8/cvxpy/atoms/elementwise\n",
      "  copying cvxpy/atoms/elementwise/maximum.py -> build/lib.linux-x86_64-3.8/cvxpy/atoms/elementwise\n",
      "  copying cvxpy/atoms/elementwise/huber.py -> build/lib.linux-x86_64-3.8/cvxpy/atoms/elementwise\n",
      "  copying cvxpy/atoms/elementwise/entr.py -> build/lib.linux-x86_64-3.8/cvxpy/atoms/elementwise\n",
      "  copying cvxpy/atoms/elementwise/elementwise.py -> build/lib.linux-x86_64-3.8/cvxpy/atoms/elementwise\n",
      "  copying cvxpy/atoms/elementwise/neg.py -> build/lib.linux-x86_64-3.8/cvxpy/atoms/elementwise\n",
      "  copying cvxpy/atoms/elementwise/square.py -> build/lib.linux-x86_64-3.8/cvxpy/atoms/elementwise\n",
      "  copying cvxpy/atoms/elementwise/abs.py -> build/lib.linux-x86_64-3.8/cvxpy/atoms/elementwise\n",
      "  copying cvxpy/atoms/elementwise/logistic.py -> build/lib.linux-x86_64-3.8/cvxpy/atoms/elementwise\n",
      "  copying cvxpy/atoms/elementwise/pos.py -> build/lib.linux-x86_64-3.8/cvxpy/atoms/elementwise\n",
      "  copying cvxpy/atoms/elementwise/minimum.py -> build/lib.linux-x86_64-3.8/cvxpy/atoms/elementwise\n",
      "  copying cvxpy/atoms/elementwise/power.py -> build/lib.linux-x86_64-3.8/cvxpy/atoms/elementwise\n",
      "  copying cvxpy/atoms/elementwise/inv_pos.py -> build/lib.linux-x86_64-3.8/cvxpy/atoms/elementwise\n",
      "  copying cvxpy/atoms/elementwise/log.py -> build/lib.linux-x86_64-3.8/cvxpy/atoms/elementwise\n",
      "  copying cvxpy/atoms/elementwise/log1p.py -> build/lib.linux-x86_64-3.8/cvxpy/atoms/elementwise\n",
      "  creating build/lib.linux-x86_64-3.8/cvxpy/interface/numpy_interface\n",
      "  copying cvxpy/interface/numpy_interface/sparse_matrix_interface.py -> build/lib.linux-x86_64-3.8/cvxpy/interface/numpy_interface\n",
      "  copying cvxpy/interface/numpy_interface/matrix_interface.py -> build/lib.linux-x86_64-3.8/cvxpy/interface/numpy_interface\n",
      "  copying cvxpy/interface/numpy_interface/__init__.py -> build/lib.linux-x86_64-3.8/cvxpy/interface/numpy_interface\n",
      "  copying cvxpy/interface/numpy_interface/ndarray_interface.py -> build/lib.linux-x86_64-3.8/cvxpy/interface/numpy_interface\n",
      "  running build_ext\n",
      "  building '_cvxcore' extension\n",
      "  creating build/temp.linux-x86_64-3.8\n",
      "  creating build/temp.linux-x86_64-3.8/cvxpy\n",
      "  creating build/temp.linux-x86_64-3.8/cvxpy/cvxcore\n",
      "  creating build/temp.linux-x86_64-3.8/cvxpy/cvxcore/src\n",
      "  creating build/temp.linux-x86_64-3.8/cvxpy/cvxcore/python\n",
      "  gcc -pthread -B /home/dell/anaconda3/compiler_compat -Wl,--sysroot=/ -Wsign-compare -DNDEBUG -g -fwrapv -O3 -Wall -Wstrict-prototypes -fPIC -Icvxpy/cvxcore/src/ -Icvxpy/cvxcore/python/ -Icvxpy/cvxcore/include/ -I/home/dell/anaconda3/include/python3.8 -I/tmp/pip-build-env-p5x23isc/overlay/lib/python3.8/site-packages/numpy/core/include -c cvxpy/cvxcore/src/cvxcore.cpp -o build/temp.linux-x86_64-3.8/cvxpy/cvxcore/src/cvxcore.o -O3\n",
      "  gcc: error trying to exec 'cc1plus': execvp: Нет такого файла или каталога\n",
      "  error: command 'gcc' failed with exit status 1\n",
      "  ----------------------------------------\u001b[0m\n",
      "\u001b[31m  ERROR: Failed building wheel for cvxpy\u001b[0m\n",
      "\u001b[?25hFailed to build cvxpy\n",
      "\u001b[31mERROR: Could not build wheels for cvxpy which use PEP 517 and cannot be installed directly\u001b[0m\n"
     ]
    }
   ],
   "source": [
    "!pip install cvxpy"
   ]
  },
  {
   "cell_type": "code",
   "execution_count": null,
   "metadata": {},
   "outputs": [],
   "source": [
    "import cvxpy"
   ]
  },
  {
   "cell_type": "code",
   "execution_count": null,
   "metadata": {},
   "outputs": [],
   "source": [
    "x = cvxpy.Variable(shape=n, integer = True)"
   ]
  },
  {
   "cell_type": "code",
   "execution_count": null,
   "metadata": {},
   "outputs": [],
   "source": [
    "constraint = (A @ x <= b)\n",
    "total_value = c * x"
   ]
  },
  {
   "cell_type": "code",
   "execution_count": null,
   "metadata": {},
   "outputs": [],
   "source": [
    "problem = cvxpy.Problem(cvxpy.Minimize(total_value), constraints=[constraint])"
   ]
  },
  {
   "cell_type": "code",
   "execution_count": null,
   "metadata": {},
   "outputs": [],
   "source": [
    "problem.solve()"
   ]
  },
  {
   "cell_type": "code",
   "execution_count": null,
   "metadata": {},
   "outputs": [],
   "source": [
    "x.value"
   ]
  },
  {
   "cell_type": "markdown",
   "metadata": {},
   "source": [
    "Теперь положительные $x$"
   ]
  },
  {
   "cell_type": "code",
   "execution_count": null,
   "metadata": {},
   "outputs": [],
   "source": [
    "x = cvxpy.Variable(shape=n, integer=True)\n",
    "constraint = (A @ x <= b)\n",
    "x_positive = (x >= 0)\n",
    "total_value = c * x\n",
    "problem = cvxpy.Problem(cvxpy.Minimize(total_value), constraints=[constraint, x_positive])\n",
    "problem.solve()"
   ]
  },
  {
   "cell_type": "code",
   "execution_count": null,
   "metadata": {},
   "outputs": [],
   "source": [
    "x.value"
   ]
  },
  {
   "cell_type": "markdown",
   "metadata": {},
   "source": [
    "Теперь $x = 0$ или $1$"
   ]
  },
  {
   "cell_type": "code",
   "execution_count": null,
   "metadata": {},
   "outputs": [],
   "source": [
    "x = cvxpy.Variable(shape=n, boolean=True)\n",
    "constraint = A @ x <= b\n",
    "x_positive = x >= 0\n",
    "total_value = c * x\n",
    "problem = cvxpy.Problem(cvxpy.Minimize(total_value), constraints=[constraint, x_positive])\n",
    "problem.solve()"
   ]
  },
  {
   "cell_type": "code",
   "execution_count": null,
   "metadata": {},
   "outputs": [],
   "source": [
    "x.value"
   ]
  },
  {
   "cell_type": "markdown",
   "metadata": {},
   "source": [
    "### 6. Градиентный спуск\n"
   ]
  },
  {
   "cell_type": "markdown",
   "metadata": {},
   "source": [
    "### Задание 6.1\n",
    "Что происходит при уменьшении темпа обучения градиентного спуска?  \n",
    "Ответ:\n",
    "- Скорость сходимости снижается\n",
    "\n",
    "\n"
   ]
  },
  {
   "cell_type": "markdown",
   "metadata": {},
   "source": [
    "### Задание 6.2\n",
    "Сможет ли градиентный спуск найти минимум функции y = |x|?  \n",
    "Ответ:  \n",
    "- Не сможет\n",
    "\n",
    "\n"
   ]
  },
  {
   "cell_type": "markdown",
   "metadata": {},
   "source": [
    "### Задание 6.3\n",
    "Зачем начинать градиентный спуск с нескольких точек?  \n",
    "Ответ:  \n",
    "- Больше шанс сойтись в глобальный минимум \n",
    "\n",
    "\n"
   ]
  },
  {
   "cell_type": "markdown",
   "metadata": {},
   "source": [
    "### Задание 6.4\n",
    "Что из этого нужно уметь вычислять для программной реализации градиентного спуска?  \n",
    "Ответ:\n",
    "- Градиент функции в точке"
   ]
  },
  {
   "cell_type": "markdown",
   "metadata": {},
   "source": [
    "### Задание 6.5\n",
    "Напишите следующую точку градиентного спуска для функции  \n",
    "Ответ:\n",
    "- -1,-2,5"
   ]
  },
  {
   "cell_type": "code",
   "execution_count": null,
   "metadata": {},
   "outputs": [],
   "source": []
  }
 ],
 "metadata": {
  "kernelspec": {
   "display_name": "Python 3",
   "language": "python",
   "name": "python3"
  },
  "language_info": {
   "codemirror_mode": {
    "name": "ipython",
    "version": 3
   },
   "file_extension": ".py",
   "mimetype": "text/x-python",
   "name": "python",
   "nbconvert_exporter": "python",
   "pygments_lexer": "ipython3",
   "version": "3.8.3"
  }
 },
 "nbformat": 4,
 "nbformat_minor": 4
}
