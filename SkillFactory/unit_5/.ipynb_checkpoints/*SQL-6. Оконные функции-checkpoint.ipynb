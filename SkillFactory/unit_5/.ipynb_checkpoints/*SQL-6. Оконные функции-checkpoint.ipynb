{
 "cells": [
  {
   "cell_type": "markdown",
   "metadata": {},
   "source": [
    "# Оконные функции\n",
    "## Юнит 5. РАБОТА С БАЗАМИ ДАННЫХ. SQL\n",
    "### Skillfactory: DSPR-19"
   ]
  },
  {
   "cell_type": "markdown",
   "metadata": {},
   "source": [
    "### 6.1. Что такое оконные функции?"
   ]
  },
  {
   "cell_type": "markdown",
   "metadata": {},
   "source": [
    "Оконная функция выполняет вычисления для набора строк, некоторым образом связанных с текущей строкой. Можно сравнить её с агрегатной функцией, но у них есть различия: при использовании оконной функции несколько строк не группируются в одну, а продолжают существовать раздельно. А внутри оконная функция, как и агрегатная, может обращаться не только к текущей строке результата запроса.\n",
    "\n",
    "Пример  \n",
    "Давайте на простом примере посмотрим, как это работает. Следующий запрос вам уже знаком: он считает общую массу грузов доставленных по городам. Для вычисления используется агрегатная функция sum."
   ]
  },
  {
   "cell_type": "code",
   "execution_count": null,
   "metadata": {},
   "outputs": [],
   "source": [
    "select \n",
    "        c.city_name,\n",
    "        sum(s.weight) city_weight\n",
    "from \n",
    "        shipping.shipment s\n",
    "        join shipping.city c on s.city_id = c.city_id\n",
    "group by 1\n",
    "order by 2 desc"
   ]
  },
  {
   "cell_type": "markdown",
   "metadata": {},
   "source": [
    "Предположим, нам захотелось посчитать, каков вклад каждой доставки в общую массу доставок в город, то есть отношение массы конкретной доставки к массе всех доставок в городе.\n",
    "\n",
    "Решим эту задачу с использованием уже знакомых нам функций."
   ]
  },
  {
   "cell_type": "code",
   "execution_count": null,
   "metadata": {},
   "outputs": [],
   "source": [
    "with city_weight as \n",
    "(\n",
    "        select \n",
    "            c.city_id,\n",
    "            sum(s.weight) city_weight\n",
    "        from shipping.shipment s\n",
    "        join shipping.city c on s.city_id = c.city_id\n",
    "        group by 1\n",
    ")\n",
    "select s.ship_id,s.weight/w.city_weight ratio\n",
    "from shipping.shipment  s\n",
    "join city_weight  w on s.city_id = w.city_id\n",
    "order by 2 desc"
   ]
  },
  {
   "cell_type": "markdown",
   "metadata": {},
   "source": []
  }
 ],
 "metadata": {
  "kernelspec": {
   "display_name": "Python 3",
   "language": "python",
   "name": "python3"
  },
  "language_info": {
   "codemirror_mode": {
    "name": "ipython",
    "version": 3
   },
   "file_extension": ".py",
   "mimetype": "text/x-python",
   "name": "python",
   "nbconvert_exporter": "python",
   "pygments_lexer": "ipython3",
   "version": "3.8.3"
  }
 },
 "nbformat": 4,
 "nbformat_minor": 4
}
