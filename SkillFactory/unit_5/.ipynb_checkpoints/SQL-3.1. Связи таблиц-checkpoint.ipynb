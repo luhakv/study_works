{
 "cells": [
  {
   "cell_type": "markdown",
   "metadata": {},
   "source": [
    "# Связи таблиц\n",
    "## Юнит 5. РАБОТА С БАЗАМИ ДАННЫХ. SQL\n",
    "### Skillfactory: DSPR-19"
   ]
  },
  {
   "cell_type": "markdown",
   "metadata": {},
   "source": [
    "### 3.1.1. Схема данных\n",
    "### Задание 3.1.1\n",
    "Сколько таблиц вы видите на схеме данных?  \n",
    "\n",
    "Ответ: 5"
   ]
  },
  {
   "cell_type": "markdown",
   "metadata": {},
   "source": [
    "### 3.1.2. Советы по написанию запросов\n",
    "Вы уже научились писать простые SQL-запросы. Чем сложнее они будут становиться, тем сложнее их будет читать и ориентироваться в них. Каждый выбирает удобное ему форматирование и стиль написания, но мы приведем основные принципы, которым желательно следовать.\n",
    "\n",
    "**Отступы и переносы строк**  \n",
    "SQL не чувствителен к отступам и переносам строк внутри запроса, но желательно их делать, чтобы код был читабелен. На работе вы будете часто делиться кодом или читать свой старый код. Ниже приведены оба варианта.\n",
    "\n",
    "Вариант без отступов и переносов:\n",
    "\n"
   ]
  },
  {
   "cell_type": "code",
   "execution_count": null,
   "metadata": {},
   "outputs": [],
   "source": [
    "select city_id, city_name, state, population, area from city where city_id=104"
   ]
  },
  {
   "cell_type": "markdown",
   "metadata": {},
   "source": [
    "Вариант с отступами и переносами:"
   ]
  },
  {
   "cell_type": "code",
   "execution_count": null,
   "metadata": {},
   "outputs": [],
   "source": [
    "select \n",
    "     city_id, \n",
    "     city_name, \n",
    "     state, \n",
    "     population, \n",
    "     area \n",
    "from \n",
    "     city\n",
    "where\n",
    "     city_id = 104"
   ]
  },
  {
   "cell_type": "markdown",
   "metadata": {},
   "source": [
    "**Указатели на таблицу**  \n",
    "Несмотря на то, что пока мы работаем с одной таблицей внутри одного запроса, неплохо приучить себя к именованию таблиц и указанию, из какой таблицы берутся поля. Ведь поля с одинаковыми названиями могут содержаться в различных таблицах.\n",
    "\n",
    "Синтаксис для таких действий очень простой: после указания имени таблицы используйте ключевое слово AS, а за ним укажите короткое имя, которое вы будете использовать для указания принадлежности полей. Ниже запрос с указанным коротким именем таблицы. "
   ]
  },
  {
   "cell_type": "code",
   "execution_count": null,
   "metadata": {},
   "outputs": [],
   "source": [
    "select \n",
    "     c.city_id, \n",
    "     c.city_name, \n",
    "     c.state, \n",
    "     c.population, \n",
    "     c.area \n",
    "from \n",
    "     city as c\n",
    "where\n",
    "     c.city_id = 104"
   ]
  },
  {
   "cell_type": "markdown",
   "metadata": {},
   "source": [
    "Ключевое слово AS можно опустить во многих СУБД. Такой запрос тоже будет работать:\n",
    "\n"
   ]
  },
  {
   "cell_type": "code",
   "execution_count": null,
   "metadata": {},
   "outputs": [],
   "source": [
    "select \n",
    "     c.city_id, \n",
    "     c.city_name, \n",
    "     c.state, \n",
    "     c.population, \n",
    "     c.area \n",
    "from \n",
    "     city as c\n",
    "where\n",
    "     c.city_id = 104"
   ]
  },
  {
   "cell_type": "code",
   "execution_count": null,
   "metadata": {},
   "outputs": [],
   "source": []
  }
 ],
 "metadata": {
  "kernelspec": {
   "display_name": "Python 3",
   "language": "python",
   "name": "python3"
  },
  "language_info": {
   "codemirror_mode": {
    "name": "ipython",
    "version": 3
   },
   "file_extension": ".py",
   "mimetype": "text/x-python",
   "name": "python",
   "nbconvert_exporter": "python",
   "pygments_lexer": "ipython3",
   "version": "3.8.3"
  }
 },
 "nbformat": 4,
 "nbformat_minor": 4
}
