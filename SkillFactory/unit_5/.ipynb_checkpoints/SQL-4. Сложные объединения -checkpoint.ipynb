{
 "cells": [
  {
   "cell_type": "markdown",
   "metadata": {},
   "source": [
    "# Сложные объединения \n",
    "## Юнит 5. РАБОТА С БАЗАМИ ДАННЫХ. SQL\n",
    "### Skillfactory: DSPR-19"
   ]
  },
  {
   "cell_type": "markdown",
   "metadata": {},
   "source": [
    "### 4.1. UNION"
   ]
  },
  {
   "cell_type": "markdown",
   "metadata": {},
   "source": [
    "**UNION**   \n",
    "Мы умеем присоединять кортежи друг к другу путем добавления столбцов одного к другому с помощью JOIN.\n",
    "\n",
    "К любому результату запроса можно присоединить другой запрос «снизу», если у него такая же структура (одинаковое количество столбцов, данные того же типа). Для этого существует операция UNION.\n",
    "\n",
    "Существует две версии этого оператора: UNION выводит уникальные записи, UNION ALL не делает ограничений уникальности и присоединяет все кортежи последующих таблиц к предыдущим. UNION ALL работает быстрее и более предпочтителен, если вы уверены в уникальности объединяемых выборок или если вам нужны неуникальные данные.\n",
    "\n",
    "Синтаксис выглядит следующим образом."
   ]
  },
  {
   "cell_type": "code",
   "execution_count": null,
   "metadata": {},
   "outputs": [],
   "source": []
  }
 ],
 "metadata": {
  "kernelspec": {
   "display_name": "Python 3",
   "language": "python",
   "name": "python3"
  },
  "language_info": {
   "codemirror_mode": {
    "name": "ipython",
    "version": 3
   },
   "file_extension": ".py",
   "mimetype": "text/x-python",
   "name": "python",
   "nbconvert_exporter": "python",
   "pygments_lexer": "ipython3",
   "version": "3.8.3"
  }
 },
 "nbformat": 4,
 "nbformat_minor": 4
}
