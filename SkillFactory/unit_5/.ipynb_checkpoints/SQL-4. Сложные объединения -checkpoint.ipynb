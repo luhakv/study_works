{
 "cells": [
  {
   "cell_type": "markdown",
   "metadata": {},
   "source": [
    "# Сложные объединения \n",
    "## Юнит 5. РАБОТА С БАЗАМИ ДАННЫХ. SQL\n",
    "### Skillfactory: DSPR-19"
   ]
  },
  {
   "cell_type": "markdown",
   "metadata": {},
   "source": [
    "### 4.1. UNION"
   ]
  },
  {
   "cell_type": "markdown",
   "metadata": {},
   "source": [
    "**UNION**   \n",
    "Мы умеем присоединять кортежи друг к другу путем добавления столбцов одного к другому с помощью JOIN.\n",
    "\n",
    "К любому результату запроса можно присоединить другой запрос «снизу», если у него такая же структура (одинаковое количество столбцов, данные того же типа). Для этого существует операция UNION.\n",
    "\n",
    "Существует две версии этого оператора: UNION выводит уникальные записи, UNION ALL не делает ограничений уникальности и присоединяет все кортежи последующих таблиц к предыдущим. UNION ALL работает быстрее и более предпочтителен, если вы уверены в уникальности объединяемых выборок или если вам нужны неуникальные данные.\n",
    "\n",
    "Синтаксис выглядит следующим образом."
   ]
  },
  {
   "cell_type": "code",
   "execution_count": null,
   "metadata": {},
   "outputs": [],
   "source": [
    "query 1\n",
    "union all\n",
    "query 2\n",
    "union all\n",
    "\n",
    "...\n",
    "\n",
    "query n"
   ]
  },
  {
   "cell_type": "markdown",
   "metadata": {},
   "source": [
    "Результатом выполнения такого запроса будут все кортежи результата выполнения query_1 и все кортежи query_2 , выведенные в единой выдаче.\n",
    "\n",
    "Давайте посмотрим на примере. Решим следующую задачу: соберем все знакомые нам объекты из БД в одном запросе с типом и именем и упорядочим их по алфавиту."
   ]
  },
  {
   "cell_type": "code",
   "execution_count": null,
   "metadata": {},
   "outputs": [],
   "source": [
    "SELECT \n",
    " t.table_name object_name,\n",
    " 'таблица' object_type\n",
    "FROM \n",
    " information_schema.\"tables\" t\n",
    "union all\n",
    "SELECT \n",
    " c.column_name object_name,\n",
    " 'столбец' object_type\n",
    "FROM \n",
    " information_schema.columns c\n",
    "union  all\n",
    "select \n",
    " s.schema_name,\n",
    " 'схема' \n",
    "from \n",
    " information_schema.schemata s\n",
    "order by 1"
   ]
  },
  {
   "cell_type": "markdown",
   "metadata": {},
   "source": [
    "Каждый из объединяемых запросов имеет два столбца: имя и тип. Оба поля текстовые, названия для столбцов берутся из самого первого запроса."
   ]
  },
  {
   "cell_type": "markdown",
   "metadata": {},
   "source": [
    "### Задание 4.1.1\n",
    "Напишите запрос, который создает уникальный алфавитный справочник всех городов, штатов, имен водителей и производителей грузовиков. Результатом запроса должны быть два столбца (название объекта и тип объекта — city, state, driver, truck). Отсортируйте список по названию объекта, а затем по типу.\n",
    "\n",
    "(Не забывайте перед отправкой кода проверять его работоспособность и соответствие условиям в Metabase!)"
   ]
  },
  {
   "cell_type": "code",
   "execution_count": null,
   "metadata": {},
   "outputs": [],
   "source": [
    "SELECT \n",
    "        c.city_name object_name,\n",
    "        'city' object_type\n",
    "from city c \n",
    "union\n",
    "SELECT \n",
    "        c2.state object_name,\n",
    "        'state' object_type\n",
    "from city AS c2 \n",
    "union\n",
    "SELECT \n",
    "        d.first_name object_name,\n",
    "        'driver' object_type\n",
    "from driver d\n",
    "union\n",
    "SELECT \n",
    "        t.make object_name,\n",
    "        'truck' object_type\n",
    "from truck t\n",
    "order by 1, 2"
   ]
  },
  {
   "cell_type": "markdown",
   "metadata": {},
   "source": [
    "### 4.2. UNION и ограничения типов данных\n",
    "Как мы уже знаем, UNION может быть использован только в случае полного соответствия столбцов и их типов в объединяемых запросах.\n",
    "\n",
    "Предположим, мы хотим вывести список всех id городов и их названий в одном столбце. Попробуйте выполнить запрос ниже."
   ]
  },
  {
   "cell_type": "code",
   "execution_count": null,
   "metadata": {},
   "outputs": [],
   "source": [
    "select \n",
    " c.city_id\n",
    "from \n",
    " shipping.city c\n",
    "union all\n",
    "select \n",
    " cc.city_name\n",
    "from \n",
    " shipping.city cc"
   ]
  },
  {
   "cell_type": "markdown",
   "metadata": {},
   "source": [
    "Вы получите ошибку \"org.postgresql.util.PSQLException: ERROR: UNION types integer and text cannot be matched\". Она произошла, потому что мы попытались объединить численный и строковый тип в одной колонке, что невозможно. \n",
    "\n",
    "Если мы всё же хотим выполнить поставленную задачу, придется привести оба столбца к одному типу данных. Не каждый текст может быть приведен к числу, но каждое число может быть представлено в текстовом формате.\n",
    "\n",
    "Забежим немного вперед и поговорим о типизации столбцов. Для типизации в Postgres используется следующий синтаксис: column_name :: column_type. Таким образом, чтобы перевести city_id в текст, нам потребуется написать city_id::text. Любой тип данных может быть приведен к текстовому: пользуйтесь этим для соединения разнородных сущностей, но помните, что сортировка текста отличается от сортировки чисел и дат.\n",
    "\n",
    "Немного подправив запрос, получим финальный результат."
   ]
  },
  {
   "cell_type": "code",
   "execution_count": null,
   "metadata": {},
   "outputs": [],
   "source": [
    "select \n",
    " c.city_id::text\n",
    "from \n",
    " shipping.city c\n",
    "union all\n",
    "select \n",
    " cc.city_name\n",
    "from \n",
    " shipping.city cc"
   ]
  },
  {
   "cell_type": "markdown",
   "metadata": {},
   "source": [
    "### Задание 4.2.1\n",
    "Напишите запрос, который объединит в себе все почтовые индексы водителей и их телефоны в единый столбец-справочник. Также добавьте столбец с именем водителя и столбец с типом контакта ('phone' или 'zip' в зависимости от типа). Упорядочите список по столбцу с контактными данными по возрастанию, а затем по имени водителя.\n",
    "\n",
    "(Не забывайте перед отправкой кода проверять его работоспособность и соответствие условиям в Metabase!)"
   ]
  },
  {
   "cell_type": "code",
   "execution_count": null,
   "metadata": {},
   "outputs": [],
   "source": [
    "select \n",
    "         d.zip_code::TEXT \n",
    "        ,d.first_name \n",
    "        ,'zip' AS type\n",
    "from driver d \n",
    "union\n",
    "select \n",
    "         d.phone \n",
    "        ,d.first_name\n",
    "        , 'phone' AS type\n",
    "from driver d \n",
    "order by 1, 2"
   ]
  },
  {
   "cell_type": "markdown",
   "metadata": {},
   "source": [
    "### Задание 4.2.2\n",
    "Выберите наибольшее из значений:  \n",
    "\n",
    "Ответ: 1000000 "
   ]
  },
  {
   "cell_type": "markdown",
   "metadata": {},
   "source": [
    "### Задание 4.2.3\n",
    "(Не забывайте перед решением задачи проверять код в Metabase!)\n",
    "\n",
    "А теперь с помощью Metabase сравните эти значения, приведенные к текстовому типу данных, и выберите наибольшее."
   ]
  },
  {
   "cell_type": "code",
   "execution_count": null,
   "metadata": {},
   "outputs": [],
   "source": [
    "SELECT '541' > '-500' AS result\n",
    "-- true"
   ]
  },
  {
   "cell_type": "code",
   "execution_count": null,
   "metadata": {},
   "outputs": [],
   "source": []
  }
 ],
 "metadata": {
  "kernelspec": {
   "display_name": "Python 3",
   "language": "python",
   "name": "python3"
  },
  "language_info": {
   "codemirror_mode": {
    "name": "ipython",
    "version": 3
   },
   "file_extension": ".py",
   "mimetype": "text/x-python",
   "name": "python",
   "nbconvert_exporter": "python",
   "pygments_lexer": "ipython3",
   "version": "3.8.3"
  }
 },
 "nbformat": 4,
 "nbformat_minor": 4
}
