{
 "cells": [
  {
   "cell_type": "markdown",
   "metadata": {},
   "source": [
    "# Подзапросы \n",
    "## Юнит 5. РАБОТА С БАЗАМИ ДАННЫХ. SQL\n",
    "### Skillfactory: DSPR-19"
   ]
  },
  {
   "cell_type": "markdown",
   "metadata": {},
   "source": [
    "### 5.1. EXISTS"
   ]
  },
  {
   "cell_type": "markdown",
   "metadata": {},
   "source": [
    "Вы уже научились фильтровать одну таблицу по данным другой, используя оператор JOIN. Однако синтаксис SQL позволяет непосредственно в разделе where обращаться к полям другой таблицы. Для этого существует несколько основных способов.\n",
    "\n",
    "Первый из них — ключевое слово EXISTS. EXISTS возвращает true, если результатом запроса является хотя бы одна строка, и false, если не существует ни одной.\n",
    "\n",
    "Давайте разберем на примере. Предположим, нам нужно найти все штаты, в которых была совершена хотя бы одна доставка. Для начала выполните это задание, используя JOIN.  \n",
    "\n",
    "### Задание 5.1.1\n",
    "Напишите запрос, который в алфавитном порядке выводит названия штатов, где были совершены доставки.\n",
    "\n",
    "(Не забывайте перед отправкой кода проверять его работоспособность и соответствие условиям в Metabase!)"
   ]
  },
  {
   "cell_type": "code",
   "execution_count": null,
   "metadata": {},
   "outputs": [],
   "source": [
    "select distinct c.state \n",
    "from shipment s \n",
    "left join city c on c.city_id = s.city_id \n",
    "order by 1\n",
    "\n",
    "/* select distinct state\n",
    "from shipping.city c\n",
    "where exists (\n",
    "select *\n",
    "from shipping.shipment s\n",
    "where s.city_id = c.city_id )\n",
    "order by 1 */"
   ]
  },
  {
   "cell_type": "markdown",
   "metadata": {},
   "source": [
    "**Как работает EXISTS?**  \n",
    "Чтобы превратить наш запрос в противоположный, то есть вывести штаты, в которых есть города без доставок, нужно написать перед словом EXISTS слово NOT, которое позволит отфильтровать города без доставок: "
   ]
  },
  {
   "cell_type": "code",
   "execution_count": null,
   "metadata": {},
   "outputs": [],
   "source": [
    "SELECT \n",
    "        distinct state\n",
    "from \n",
    "        shipping.city c\n",
    "where \n",
    "        exists \n",
    "                (\n",
    "                    select \n",
    "                        *\n",
    "                    from \n",
    "                        shipping.shipment s \n",
    "                    where \n",
    "                        s.city_id = c.city_id\n",
    "                    )\n",
    "order by 1\n"
   ]
  },
  {
   "cell_type": "markdown",
   "metadata": {},
   "source": [
    "Давайте разберем этот код по частям.\n",
    "\n",
    "Все части первого SELECT выглядят как обычно, кроме того, что в разделе WHERE после EXISTS идет другой запрос. Внутри этого запроса неважен список полей: в нем будет считаться только количество строк в результате, с учетом условия s.city_id = c.city_id, т. е. в таблице доставок будет проверяться наличие доставок в конкретный город.\n",
    "\n",
    "Условие, как обычно, необязательно должно быть равенством, главное — чтобы результат его имел логический тип. Функция проверки условия выполняется для каждой строки и, как и в случае с INNER JOIN, остаются только те города, в которых были доставки. Из них мы и выбираем уникальные названия штатов.\n",
    "\n",
    "При этом выносить условие поиска из подзапроса нельзя, т. к. таблица shipment не видна в рамках основного select. Следующий запрос не будет работать и вернет ошибку \"SQL Error [42P01]: ERROR: missing FROM-clause entry for table \"s\"\"."
   ]
  },
  {
   "cell_type": "markdown",
   "metadata": {},
   "source": [
    "### Задание 5.1.2\n",
    "Напишите запрос, который выводит все схемы и названия таблиц в базе, в которых нет первичных ключей. Отсортируйте оба столбца в алфавитном порядке (по возрастанию).\n",
    "\n",
    "(Не забывайте перед отправкой кода проверять его работоспособность и соответствие условиям в Metabase!)"
   ]
  },
  {
   "cell_type": "code",
   "execution_count": null,
   "metadata": {},
   "outputs": [],
   "source": [
    "select\n",
    "    t.table_schema,\n",
    "    t.table_name\n",
    "from information_schema.tables t\n",
    "where\n",
    "    not exists(\n",
    "select *\n",
    "from information_schema.table_constraints c\n",
    "where c.table_schema = t.table_schema\n",
    "    and c.table_name = t.table_name\n",
    "    and c.constraint_type IN ('PRIMARY KEY')\n",
    "    )\n",
    "order by 1, 2"
   ]
  },
  {
   "cell_type": "markdown",
   "metadata": {},
   "source": [
    "**Преимущества EXISTS**  \n",
    "Помимо использования EXISTS в WHERE, его результат также можно вывести в самом результате запроса. Это позволит нам использовать результат позже.\n",
    "\n",
    "Попробуйте в Metabase! Например, мы можем разметить все города по наличию в них заказов следующим образом:"
   ]
  },
  {
   "cell_type": "code",
   "execution_count": null,
   "metadata": {},
   "outputs": [],
   "source": [
    "SELECT \n",
    "        city_name,\n",
    "        exists \n",
    "            (\n",
    "                select \n",
    "                    *\n",
    "                from \n",
    "                    shipping.shipment s \n",
    "                where \n",
    "                    s.city_id = c.city_id\n",
    "                ) has_shipments\n",
    "from \n",
    "        shipping.city c\n",
    "order by 1"
   ]
  },
  {
   "cell_type": "markdown",
   "metadata": {},
   "source": [
    "Столбец has_shipments содержит логическое поле с результатом проверки наличия в конкретном городе доставок. Столбцы, содержащие подобные логические значения, старайтесь именовать понятно и согласно правилам английского языка: либо has_<свойство>, либо is_<свойство>.\n",
    "\n",
    "EXISTS синтаксически более понятен в случае фильтрации. Помимо этого он часто работает быстрее JOIN, т. к. не требуется проверять все записи вложенного запроса на соответствие условию: при встрече хотя бы одной удовлетворяющей строки он возвращает true  и далее не сканирует таблицы.\n",
    "\n",
    "Это очень удобно в случае поиска каких-то свойств для маленького справочника на основе большой таблицы с событиями. Например, EXISTS будет удобен для таблицы с партнерами, содержащей немного записей. Проверить наличие заходов на вебсайт конкретным партнером будет быстрее через EXISTS, чем через LEFT JOIN."
   ]
  },
  {
   "cell_type": "markdown",
   "metadata": {},
   "source": [
    "### Задание 5.1.3\n",
    "Напишите запрос, который выводит названия всех городов и булевы поля, показывающие наличие клиентов, наличие водителей и наличие доставок в этом городе. Добавьте сортировку по названию городов.\n",
    "\n",
    "(Не забывайте перед отправкой кода проверять его работоспособность и соответствие условиям в Metabase!)"
   ]
  },
  {
   "cell_type": "code",
   "execution_count": null,
   "metadata": {},
   "outputs": [],
   "source": [
    "select \n",
    "c.city_name\n",
    ", exists(\n",
    "select * \n",
    "from customer c2 \n",
    "where c2.city_id  = c.city_id \n",
    ") has_customer\n",
    ", exists(\n",
    "select * \n",
    "from driver d2 \n",
    "where d2.city_id  = c.city_id \n",
    ") has_driver\n",
    ", exists(\n",
    "select * \n",
    "from shipment s2 \n",
    "where s2.city_id  = c.city_id \n",
    ") has_customer\n",
    "from city c \n",
    "order by 1\n"
   ]
  },
  {
   "cell_type": "markdown",
   "metadata": {},
   "source": [
    "### 5.2. IN"
   ]
  },
  {
   "cell_type": "markdown",
   "metadata": {},
   "source": [
    "Используя подзапросы, можно также фильтровать значения в конкретном столбце, используя предикат IN.\n",
    "\n",
    "Следующий запрос выведет все штаты, в которых есть водители с указанным номером телефона."
   ]
  },
  {
   "cell_type": "code",
   "execution_count": null,
   "metadata": {},
   "outputs": [],
   "source": [
    "SELECT \n",
    "        distinct state\n",
    "from \n",
    "        shipping.city c\n",
    "where \n",
    "        c.city_id in  \n",
    "            (\n",
    "                select \n",
    "                    d.city_id\n",
    "                from \n",
    "                    shipping.driver d\n",
    "                where d.phone is not null\n",
    "                )\n",
    "order by 1"
   ]
  },
  {
   "cell_type": "markdown",
   "metadata": {},
   "source": [
    "После указания названия поля пишется предикат IN. За ним — запрос, возвращающий любое количество строк, но обязательно только один столбец того же типа, что и фильтруемый. В нашем случае city_id может быть отфильтрован только другим целочисленным подзапросом. Если бы в SELECT после IN был текст или логический тип, вернулась бы ошибка несоответствия типов.\n",
    "\n",
    "Попробуйте в Metabase! Замените d.city_id на \"*\" и увидите в результате ошибку о том, что в подзапросе слишком много колонок. Для отрицания IN перед ним добавляется NOT. \n",
    "\n",
    "В остальном синтаксис схож с EXISTS. Оператор IN удобно использовать, когда есть несколько мест, из которых вы собрали перечень нужных значений и хотите отфильтровать целевую таблицу.\n",
    "\n",
    "Попробуйте в Metabase! В следующем примере мы подзапросом собрали таблицы с внешними ключами и numeric столбцами и вытащили информацию об этих таблицах. Также в подзапросах можно использовать все изученные ранее конструкции — агрегаты, JOIN и другие типы соединений."
   ]
  },
  {
   "cell_type": "code",
   "execution_count": null,
   "metadata": {},
   "outputs": [],
   "source": [
    "select \n",
    "        *\n",
    "from \n",
    "        information_schema.\"tables\" t\n",
    "where t.table_name in (\n",
    "                            select \n",
    "                                c.table_name\n",
    "                            from \n",
    "                                information_schema.columns c\n",
    "                            where \n",
    "                                c.data_type = 'numeric'\n",
    "                                and c.table_schema = 'shipping'\n",
    "                            union  \n",
    "                            select \n",
    "                                cc.table_name\n",
    "                            from \n",
    "                                information_schema.table_constraints cc\n",
    "                            where \n",
    "                                cc.constraint_type = 'FOREIGN KEY'\n",
    "                                and cc.constraint_schema = 'shipping'\n",
    "                            )"
   ]
  },
  {
   "cell_type": "markdown",
   "metadata": {},
   "source": [
    "### Задание 5.2.1\n",
    "Напишите запрос, который выводит все поля из таблицы доставок по водителям, совершившим более 90 доставок. Отсортируйте запрос по первому и второму столбцу.\n",
    "\n",
    "(Не забывайте перед отправкой кода проверять его работоспособность и соответствие условиям в Metabase!)"
   ]
  },
  {
   "cell_type": "code",
   "execution_count": null,
   "metadata": {},
   "outputs": [],
   "source": [
    "select \n",
    "        s.*\n",
    "from shipment s\n",
    "where \n",
    "        driver_id in (\n",
    "            select driver_id\n",
    "                --, count(ship_id) \n",
    "            from shipment \n",
    "            group by driver_id \n",
    "            having count(ship_id) > 90 \n",
    "            )\n",
    "order by 1, 2"
   ]
  },
  {
   "cell_type": "markdown",
   "metadata": {},
   "source": [
    "### 5.3. SELECT FROM SELECT\n",
    "**SELECT FROM SELECT**  \n",
    "\n",
    "Помимо разделов WHERE и SELECT, подзапросы часто используют в разделе FROM для многоступенчатых вычислений.\n",
    "\n",
    "Попробуйте в Metabase! Следующий запрос выводит среднее по средним массам груза доставки на каждого водителя.\n",
    "\n"
   ]
  },
  {
   "cell_type": "code",
   "execution_count": null,
   "metadata": {},
   "outputs": [],
   "source": [
    "select \n",
    "        avg(a.avg_weight) avg_avg_weight\n",
    "from \n",
    "        (\n",
    "        select \n",
    "            s.driver_id,\n",
    "            avg(s.weight)avg_weight\n",
    "        from \n",
    "            shipping.shipment s\n",
    "        group by 1\n",
    "        ) a\n"
   ]
  },
  {
   "cell_type": "markdown",
   "metadata": {},
   "source": [
    "В разделе FROM в скобках может быть записан любой запрос (в нашем случае запрос, считающий среднюю массу доставки на водителя). У этого запроса должно быть название (в нашем случае «а»), после чего в разделе SELECT можно обращаться ко всем его полям, как будто «а» — это таблица, существующая в базе.\n",
    "\n",
    "К таким подзапросам можно присоединять другие таблицы и использовать все уже изученные синтаксические операторы, например JOIN.\n",
    "\n",
    "Следующий запрос выводит идентификатор доставки, ее дату, массу груза, среднюю массу доставленных в этот день грузов и признак того, что масса груза больше средней в этот день на сто кг."
   ]
  },
  {
   "cell_type": "code",
   "execution_count": null,
   "metadata": {},
   "outputs": [],
   "source": [
    "select \n",
    "        s.ship_id,\n",
    "        s.ship_date,\n",
    "        s.weight,\n",
    "        a.avg_weight avg_weight_this_day,\n",
    "        s.weight>a.avg_weight + 100 is_heavyweighted\n",
    "from \n",
    "        (\n",
    "        select \n",
    "            s.ship_date,\n",
    "            avg(s.weight)avg_weight\n",
    "        from \n",
    "            shipping.shipment s\n",
    "        group by 1\n",
    "        ) a \n",
    "        join  shipping.shipment s \n",
    "            on a.ship_date = s.ship_date"
   ]
  },
  {
   "cell_type": "markdown",
   "metadata": {},
   "source": [
    "### Задание 5.3.1\n",
    "Напишите запрос, который найдет водителя, совершившего наибольшее количество доставок одному клиенту. В выводе должна быть одна строка, которая содержит имя водителя (first_name), имя клиента и количество доставок водителя этому клиенту.\n",
    "\n",
    "(Не забывайте перед отправкой кода проверять его работоспособность и соответствие условиям в Metabase!)"
   ]
  },
  {
   "cell_type": "code",
   "execution_count": null,
   "metadata": {},
   "outputs": [],
   "source": [
    "select \n",
    "    -- d.driver_id,\n",
    "        d2.first_name\n",
    "        , c.cust_name \n",
    "        , d.count_customer_shipment\n",
    "from \n",
    "        (select \n",
    "            driver_id \n",
    "            , cust_id \n",
    "            , count(ship_id) count_customer_shipment\n",
    "        from shipment\n",
    "        group by driver_id , cust_id \n",
    "        order by count(ship_id) desc \n",
    "        limit 1\n",
    "                ) d\n",
    "join driver d2 on d2.driver_id = d.driver_id\n",
    "join customer c on c.cust_id = d.cust_id\n",
    "\n",
    "\n",
    "\n",
    "-- проверочный вывод данных\n",
    "select * \n",
    "from shipment s \n",
    "where driver_id  = 27 and cust_id = 1775"
   ]
  },
  {
   "cell_type": "markdown",
   "metadata": {},
   "source": [
    "### Задание 5.3.2\n",
    "Используя конструкцию select from select, преобразуйте предыдущий запрос таким образом, чтобы он вывел:\n",
    "\n",
    "- имя водителя (first_name)  \n",
    "- имя клиента  \n",
    "- количество доставок этому клиенту  \n",
    "- общее количество доставок водителя  \n",
    "\n",
    "Подсказка: нам понадобятся данные из таблицы shipping.shipment. Объедините ее с таблицей из предыдущего запроса по полю driver_id.\n",
    "(Не забывайте перед отправкой кода проверять его работоспособность и соответствие условиям в Metabase!)"
   ]
  },
  {
   "cell_type": "code",
   "execution_count": null,
   "metadata": {},
   "outputs": [],
   "source": [
    "select\n",
    "    d.first_name driver,\n",
    "    c.cust_name customer,\n",
    "    a.cnt,\n",
    "    a.cnt_all\n",
    "from\n",
    "    (\n",
    "    select\n",
    "        s.driver_id,\n",
    "        s.cust_id,\n",
    "        count(s.*) cnt,\n",
    "        gr.cnt_all\n",
    "    from\n",
    "        (select\n",
    "            ss.driver_id,\n",
    "            count(*) cnt_all\n",
    "        from\n",
    "            shipping.shipment ss\n",
    "        group by\n",
    "            ss.driver_id) gr \n",
    "        join shipping.shipment s on s.driver_id = gr.driver_id\n",
    "    group by 1,2,4\n",
    "    order by 1,2) a \n",
    "    join shipping.driver d on a.driver_id = d.driver_id\n",
    "    join shipping.customer c on a.cust_id = c.cust_id\n",
    "order by a.cnt desc\n",
    "limit 1"
   ]
  },
  {
   "cell_type": "markdown",
   "metadata": {},
   "source": [
    "### Задание 5.3.3\n",
    "Преобразовав запрос из предыдущего задания, напишите такой запрос, который найдет водителя, совершившего наибольшее число доставок одному клиенту. По этому водителю выведите следующие поля:\n",
    "\n",
    "- имя водителя  \n",
    "- имя самого частого для него клиента  \n",
    "- дату последней доставки этому клиенту  \n",
    "- общее число доставок этого водителя  \n",
    "- количество различных грузовиков (грузовиков с различными truck_id), на которых он совершал доставку грузов  \n",
    "\n",
    "(Не забывайте перед отправкой кода проверять его работоспособность и соответствие условиям в Metabase!)"
   ]
  },
  {
   "cell_type": "code",
   "execution_count": null,
   "metadata": {},
   "outputs": [],
   "source": [
    "# ответ не принят платформой\n",
    "select\n",
    "    d.first_name driver,\n",
    "    c.cust_name customer,\n",
    "    a.last_date_ship,\n",
    "    a.cnt_all,\n",
    "    a.cnt_truck\n",
    "from\n",
    "    (\n",
    "    select\n",
    "        s.driver_id,\n",
    "        count(s.cust_id),\n",
    "        max(s.ship_date) last_date_ship,\n",
    "        count(s.*) cnt,\n",
    "        gr.cnt_all,\n",
    "        count(distinct s.truck_id) cnt_truck\n",
    "    from\n",
    "        (select\n",
    "            ss.driver_id,\n",
    "            count(*) cnt_all\n",
    "        from\n",
    "            shipping.shipment ss\n",
    "        group by\n",
    "            ss.driver_id) gr \n",
    "        join \n",
    "            shipping.shipment s on s.driver_id = gr.driver_id\n",
    "        group by 1,2,5\n",
    "        order by 1,2) a \n",
    "    join shipping.driver d on a.driver_id = d.driver_id\n",
    "    join shipping.customer c on a.cust_id = c.cust_id\n",
    "order by a.cnt desc\n",
    "limit 1"
   ]
  },
  {
   "cell_type": "markdown",
   "metadata": {},
   "source": [
    "### Задание 5.3.4\n",
    "Напишите запрос, который найдет водителей, совершивших наибольшее число доставок и наименьшее число доставок. Выведите их имена (сначала больший, потом меньший) и разницу между их числом доставок (наибольший — наименьший). В выводе должна быть одна строка.\n",
    "\n",
    "(Не забывайте перед отправкой кода проверять его работоспособность и соответствие условиям в Metabase!)"
   ]
  },
  {
   "cell_type": "code",
   "execution_count": null,
   "metadata": {},
   "outputs": [],
   "source": [
    "# не решила"
   ]
  },
  {
   "cell_type": "markdown",
   "metadata": {},
   "source": [
    "### 5.4. Common Table Expressions (CTE)\n",
    "\n",
    "Вместо больших ступенчатых запросов в большинстве СУБД часто используются CTE — Common Table Expressions. Это такой вид подзапросов, который позволяет переиспользовать запросы несколько раз, делает вычисления более понятными, а код — более читаемым.\n",
    "\n",
    "Давайте разберем синтаксис этих выражений. Вернемся к задаче поиска среднего по среднему для массы доставок на водителя."
   ]
  },
  {
   "cell_type": "code",
   "execution_count": null,
   "metadata": {},
   "outputs": [],
   "source": [
    "with a as \n",
    "(\n",
    "select \n",
    "s.driver_id,\n",
    "avg(s.weight)avg_weight\n",
    "from \n",
    "shipping.shipment s\n",
    "group by 1\n",
    ") \n",
    "select \n",
    "avg(a.avg_weight) avg_avg_weight\n",
    "from a "
   ]
  },
  {
   "cell_type": "markdown",
   "metadata": {},
   "source": [
    "В начале запроса появляется раздел WITH, после которого идет имя CTE (подзапроса) «а», далее сам подзапрос в скобках. После блока с подзапросом идет обычный SELECT с использованием уже описанного CTE «а».\n",
    "\n",
    "Количество подзапросов и их вложенность неограниченны: после объявления CTE можно использовать его в других CTE и SELECT любое число раз, но рекомендуется придерживаться одного стиля в рамках запроса. Если делаете вложенность, то сохраняйте ее, не пишите WITH-блок. И наоборот, использование WITH-блока делает неудобным использование вложенных запросов. Это связано с тем, что WITH мы читаем сверху вниз,  а вложенность — справа налево. При наличии обоих стилей понять, что происходит, становится проблематичным.\n",
    "\n",
    "Попробуйте в Metabase! Следующий запрос выводит идентификатор доставки, ее дату, массу груза, среднюю массу доставленных в этот день грузов и признак того, что масса груза больше средней в этот день на сто кг. Все как в предыдущем блоке, но с использованием CTE."
   ]
  },
  {
   "cell_type": "code",
   "execution_count": null,
   "metadata": {},
   "outputs": [],
   "source": [
    "with a as \n",
    "( \n",
    "select \n",
    "       s.ship_date, \n",
    "       avg(s.weight)avg_weight \n",
    "   from shipping.shipment s group by 1 \n",
    ")\n",
    "select \n",
    " s.ship_id,\n",
    " s.ship_date,\n",
    " s.weight,\n",
    " a.avg_weight avg_weight_this_day,\n",
    " s.weight>a.avg_weight + 100 is_heavyweighted\n",
    "from \n",
    " a \n",
    " join  shipping.shipment s \n",
    "   on a.ship_date = s.ship_date"
   ]
  },
  {
   "cell_type": "markdown",
   "metadata": {},
   "source": [
    "Следующий запрос выводит первый день, в котором число тяжеловесных заказов больше двух, и последний день, но в разных строках и с указанием типа дня."
   ]
  },
  {
   "cell_type": "code",
   "execution_count": null,
   "metadata": {},
   "outputs": [],
   "source": [
    "with a as \n",
    "(\n",
    "        select \n",
    "            s.ship_date,\n",
    "            avg(s.weight)avg_weight\n",
    "        from \n",
    "            shipping.shipment s\n",
    "        group by 1\n",
    "),\n",
    "d as\n",
    "(\n",
    "select \n",
    "        s.ship_date,\n",
    "        s.weight>a.avg_weight + 100  is_heavyweighted, \n",
    "        count(*) qty\n",
    "    from \n",
    "        a join  shipping.shipment s \n",
    "            on a.ship_date = s.ship_date\n",
    "    group by 1,2\n",
    ")\n",
    "select \n",
    "    'first_heavy_date' date_type,\n",
    "    min(d.ship_date) date\n",
    "from \n",
    "d\n",
    "where \n",
    "    d.is_heavyweighted \n",
    "    and d.qty>2\n",
    "union \n",
    "select \n",
    "    'last_heavy_date' date_type,\n",
    "    max(d.ship_date) date\n",
    "from \n",
    "d\n",
    "where \n",
    "    d.is_heavyweighted \n",
    "    and d.qty>2"
   ]
  },
  {
   "cell_type": "markdown",
   "metadata": {},
   "source": [
    "Здесь мы видим, что несколько CTE разделяются запятыми, а каждый следующий CTE указывается с названием и запросом и повторяется необходимое количество раз.\n",
    "\n",
    "Также видно, что в CTE «d» мы использовали результат CTE «a», а результат «d» использовали дважды. В случае вложенных запросов нам пришлось бы повторять два раза этот кусок кода и в случае изменений запроса поддерживать их оба.\n",
    "\n",
    "### CTE + UNION\n",
    "CTE, как и вложенные запросы, часто используются с UNION, чтобы в них описать какую-то логику, отсутствующую в базе, и применить ее к существующим там данным. Операция UNION объединяет два набора строк, возвращаемых SQL-запросами (при этом оба запроса должны возвращать одинаковое число столбцов, а в столбцах с одинаковыми порядковыми номерами должны быть совместимые типы данных).\n",
    "\n",
    "Предположим, нам надо решить задачу сравнения производительности мужчин и женщин-водителей. Для этого мы можем разметить их имена следующим образом."
   ]
  },
  {
   "cell_type": "code",
   "execution_count": null,
   "metadata": {},
   "outputs": [],
   "source": [
    "select \n",
    "\t\t\t'Maria' name_orig,\n",
    "\t\t\t'F' gender\n",
    "\t\t union\n",
    "select \n",
    "\t\t\t'Kristie' name_orig,\n",
    "\t\t\t'F' gender\n",
    "\t\t union\n",
    "select \n",
    "\t\t\t'Gale' name_orig,\n",
    "\t\t\t'M' gender\n",
    "\t\t union\n",
    "select \n",
    "\t\t\t'Holger' name_orig,\n",
    "\t\t\t'M' gender\n",
    "\t\t union\n",
    "select \n",
    "\t\t\t'Leszek' name_orig,\n",
    "\t\t\t'M' gender\n",
    "\t\t union\n",
    "select \n",
    "\t\t\t'Adel' name_orig,\n",
    "\t\t\t'M' gender\n",
    "\t\t union\n",
    "select \n",
    "\t\t\t'Zachery' name_orig,\n",
    "\t\t\t'M' gender\n",
    "\t\t union\n",
    "select \n",
    "\t\t\t'Roger' name_orig,\n",
    "\t\t\t'M' gender\n",
    "\t\t union\n",
    "select \n",
    "\t\t\t'Andrea' name_orig,\n",
    "\t\t\t'F' gender\n",
    "\t\t union\n",
    "select \n",
    "\t\t\t'Sue' name_orig,\n",
    "\t\t\t'F' gender\n",
    "\t\t union\n",
    "select \n",
    "\t\t\t'Alina' name_orig,\n",
    "\t\t\t'F' gender"
   ]
  },
  {
   "cell_type": "markdown",
   "metadata": {},
   "source": [
    "Далее, используя CTE, можно посчитать число водителей разного пола, число их заказов и среднее число заказов на человека.\n",
    "\n"
   ]
  },
  {
   "cell_type": "code",
   "execution_count": null,
   "metadata": {},
   "outputs": [],
   "source": [
    "with gender as \n",
    "(\n",
    "select \n",
    "\t\t\t'Maria' name_orig,\n",
    "\t\t\t'F' gender\n",
    "\t\t union\n",
    "select \n",
    "\t\t\t'Kristie' name_orig,\n",
    "\t\t\t'F' gender\n",
    "\t\t union\n",
    "select \n",
    "\t\t\t'Gale' name_orig,\n",
    "\t\t\t'M' gender\n",
    "\t\t union\n",
    "select \n",
    "\t\t\t'Holger' name_orig,\n",
    "\t\t\t'M' gender\n",
    "\t\t union\n",
    "select \n",
    "\t\t\t'Leszek' name_orig,\n",
    "\t\t\t'M' gender\n",
    "\t\t union\n",
    "select \n",
    "\t\t\t'Adel' name_orig,\n",
    "\t\t\t'M' gender\n",
    "\t\t union\n",
    "select \n",
    "\t\t\t'Zachery' name_orig,\n",
    "\t\t\t'M' gender\n",
    "\t\t union\n",
    "select \n",
    "\t\t\t'Roger' name_orig,\n",
    "\t\t\t'M' gender\n",
    "\t\t union\n",
    "select \n",
    "\t\t\t'Andrea' name_orig,\n",
    "\t\t\t'F' gender\n",
    "\t\t union\n",
    "select \n",
    "\t\t\t'Sue' name_orig,\n",
    "\t\t\t'F' gender\n",
    "\t\t union\n",
    "select \n",
    "\t\t\t'Alina' name_orig,\n",
    "\t\t\t'F' gender\n",
    ")\n",
    "select \n",
    "\tg.gender,\n",
    "\tcount(*) ship_qty,\n",
    "\tcount(distinct s.driver_id) drivers,\n",
    "\tcount(*)/count(distinct s.driver_id) avg_ship_per_person\n",
    "from \n",
    "\tgender g \n",
    "\tjoin shipping.driver d on g.name_orig = d.first_name\n",
    "\tjoin shipping.shipment s on d.driver_id = s.driver_id\n",
    "group by 1"
   ]
  },
  {
   "cell_type": "markdown",
   "metadata": {},
   "source": [
    "Обратите внимание на поле avg_ship_per_person, оно имеет целый тип, несмотря на то, что это результат деления. По умолчанию Postgres делит одно целое число на другое целочисленным делением, отбрасывая остаток от него. Чтобы получить вещественное значение, достаточно делимое умножить на 1.0 или принудительно перевести его в numeric (::numeric). \n",
    "\n",
    "Попробуйте оба варианта и сравните результаты."
   ]
  },
  {
   "cell_type": "markdown",
   "metadata": {},
   "source": [
    "### Задание 5.4.1\n",
    "Представим, что в компании было два директора: Paolo Lorenzo и его сын Nicco Lorenzo. Первый руководил компанией с начала и до 2017-02-01 невключительно, второй — с 2017-02-01 включительно и до конца периода. Напишите запрос, который даст следующий отчет: имя и фамилия директора в одном поле, далее поля со сводной статистикой по доставкам (кол-во доставок, кол-во совершивших доставки водителей, кол-во клиентов, которым была оказана услуга доставки, и общая масса перевезенных грузов). Отсортируйте по имени директора.\n",
    "\n",
    "(Не забывайте перед отправкой кода проверять его работоспособность и соответствие условиям в Metabase!)"
   ]
  },
  {
   "cell_type": "code",
   "execution_count": null,
   "metadata": {},
   "outputs": [],
   "source": [
    "with paolo as (\n",
    " \n",
    "    select\n",
    "        s.*\n",
    "    from\n",
    "        shipping.shipment s\n",
    "    where\n",
    "       s.ship_date::date < '2017-02-01'::date\n",
    "),\n",
    "nicco as (\n",
    "\n",
    "    select\n",
    "        s.*\n",
    "    from\n",
    "       shipping.shipment s\n",
    "    where\n",
    "        s.ship_date::date >= '2017-02-01'::date\n",
    ")\n",
    "\n",
    "select\n",
    "   'Paolo Lorenzo',\n",
    "    count(distinct p.ship_id) count_ship,\n",
    "    count(distinct p.driver_id) count_driver,\n",
    "    count(distinct p.cust_id) count_cust,\n",
    "    sum(p.weight) sum_all_weight\n",
    "from\n",
    "    paolo p \n",
    "union\n",
    "select\n",
    "    'Nicco Lorenzo',\n",
    "    count(distinct n.ship_id) count_ship,\n",
    "    count(distinct n.driver_id) count_driver,\n",
    "    count(distinct n.cust_id) count_cust,\n",
    "    sum(n.weight) sum_all_weight\n",
    "from\n",
    "    nicco n"
   ]
  }
 ],
 "metadata": {
  "kernelspec": {
   "display_name": "Python 3",
   "language": "python",
   "name": "python3"
  },
  "language_info": {
   "codemirror_mode": {
    "name": "ipython",
    "version": 3
   },
   "file_extension": ".py",
   "mimetype": "text/x-python",
   "name": "python",
   "nbconvert_exporter": "python",
   "pygments_lexer": "ipython3",
   "version": "3.8.3"
  }
 },
 "nbformat": 4,
 "nbformat_minor": 4
}
