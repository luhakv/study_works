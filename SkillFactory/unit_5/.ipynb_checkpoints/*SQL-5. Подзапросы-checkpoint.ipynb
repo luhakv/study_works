{
 "cells": [
  {
   "cell_type": "markdown",
   "metadata": {},
   "source": [
    "# Подзапросы \n",
    "## Юнит 5. РАБОТА С БАЗАМИ ДАННЫХ. SQL\n",
    "### Skillfactory: DSPR-19"
   ]
  },
  {
   "cell_type": "markdown",
   "metadata": {},
   "source": [
    "### 5.1. EXISTS"
   ]
  },
  {
   "cell_type": "markdown",
   "metadata": {},
   "source": [
    "Вы уже научились фильтровать одну таблицу по данным другой, используя оператор JOIN. Однако синтаксис SQL позволяет непосредственно в разделе where обращаться к полям другой таблицы. Для этого существует несколько основных способов.\n",
    "\n",
    "Первый из них — ключевое слово EXISTS. EXISTS возвращает true, если результатом запроса является хотя бы одна строка, и false, если не существует ни одной.\n",
    "\n",
    "Давайте разберем на примере. Предположим, нам нужно найти все штаты, в которых была совершена хотя бы одна доставка. Для начала выполните это задание, используя JOIN.  \n",
    "\n",
    "### Задание 5.1.1\n",
    "Напишите запрос, который в алфавитном порядке выводит названия штатов, где были совершены доставки.\n",
    "\n",
    "(Не забывайте перед отправкой кода проверять его работоспособность и соответствие условиям в Metabase!)"
   ]
  },
  {
   "cell_type": "code",
   "execution_count": null,
   "metadata": {},
   "outputs": [],
   "source": [
    "select distinct c.state \n",
    "from shipment s \n",
    "left join city c on c.city_id = s.city_id \n",
    "order by 1\n",
    "\n",
    "/* select distinct state\n",
    "from shipping.city c\n",
    "where exists (\n",
    "select *\n",
    "from shipping.shipment s\n",
    "where s.city_id = c.city_id )\n",
    "order by 1 */"
   ]
  },
  {
   "cell_type": "markdown",
   "metadata": {},
   "source": [
    "**Как работает EXISTS?**  \n",
    "Чтобы превратить наш запрос в противоположный, то есть вывести штаты, в которых есть города без доставок, нужно написать перед словом EXISTS слово NOT, которое позволит отфильтровать города без доставок: "
   ]
  },
  {
   "cell_type": "code",
   "execution_count": null,
   "metadata": {},
   "outputs": [],
   "source": [
    "SELECT \n",
    "        distinct state\n",
    "from \n",
    "        shipping.city c\n",
    "where \n",
    "        exists \n",
    "                (\n",
    "                    select \n",
    "                        *\n",
    "                    from \n",
    "                        shipping.shipment s \n",
    "                    where \n",
    "                        s.city_id = c.city_id\n",
    "                    )\n",
    "order by 1\n"
   ]
  },
  {
   "cell_type": "markdown",
   "metadata": {},
   "source": [
    "Давайте разберем этот код по частям.\n",
    "\n",
    "Все части первого SELECT выглядят как обычно, кроме того, что в разделе WHERE после EXISTS идет другой запрос. Внутри этого запроса неважен список полей: в нем будет считаться только количество строк в результате, с учетом условия s.city_id = c.city_id, т. е. в таблице доставок будет проверяться наличие доставок в конкретный город.\n",
    "\n",
    "Условие, как обычно, необязательно должно быть равенством, главное — чтобы результат его имел логический тип. Функция проверки условия выполняется для каждой строки и, как и в случае с INNER JOIN, остаются только те города, в которых были доставки. Из них мы и выбираем уникальные названия штатов.\n",
    "\n",
    "При этом выносить условие поиска из подзапроса нельзя, т. к. таблица shipment не видна в рамках основного select. Следующий запрос не будет работать и вернет ошибку \"SQL Error [42P01]: ERROR: missing FROM-clause entry for table \"s\"\"."
   ]
  },
  {
   "cell_type": "markdown",
   "metadata": {},
   "source": [
    "### Задание 5.1.2\n",
    "Напишите запрос, который выводит все схемы и названия таблиц в базе, в которых нет первичных ключей. Отсортируйте оба столбца в алфавитном порядке (по возрастанию).\n",
    "\n",
    "(Не забывайте перед отправкой кода проверять его работоспособность и соответствие условиям в Metabase!)"
   ]
  },
  {
   "cell_type": "code",
   "execution_count": null,
   "metadata": {},
   "outputs": [],
   "source": [
    "select\n",
    "    t.table_schema,\n",
    "    t.table_name\n",
    "from information_schema.tables t\n",
    "where\n",
    "    not exists(\n",
    "select *\n",
    "from information_schema.table_constraints c\n",
    "where c.table_schema = t.table_schema\n",
    "    and c.table_name = t.table_name\n",
    "    and c.constraint_type IN ('PRIMARY KEY')\n",
    "    )\n",
    "order by 1, 2"
   ]
  },
  {
   "cell_type": "markdown",
   "metadata": {},
   "source": [
    "**Преимущества EXISTS**  \n",
    "Помимо использования EXISTS в WHERE, его результат также можно вывести в самом результате запроса. Это позволит нам использовать результат позже.\n",
    "\n",
    "Попробуйте в Metabase! Например, мы можем разметить все города по наличию в них заказов следующим образом:"
   ]
  },
  {
   "cell_type": "code",
   "execution_count": null,
   "metadata": {},
   "outputs": [],
   "source": [
    "SELECT \n",
    "        city_name,\n",
    "        exists \n",
    "            (\n",
    "                select \n",
    "                    *\n",
    "                from \n",
    "                    shipping.shipment s \n",
    "                where \n",
    "                    s.city_id = c.city_id\n",
    "                ) has_shipments\n",
    "from \n",
    "        shipping.city c\n",
    "order by 1"
   ]
  },
  {
   "cell_type": "markdown",
   "metadata": {},
   "source": [
    "Столбец has_shipments содержит логическое поле с результатом проверки наличия в конкретном городе доставок. Столбцы, содержащие подобные логические значения, старайтесь именовать понятно и согласно правилам английского языка: либо has_<свойство>, либо is_<свойство>.\n",
    "\n",
    "EXISTS синтаксически более понятен в случае фильтрации. Помимо этого он часто работает быстрее JOIN, т. к. не требуется проверять все записи вложенного запроса на соответствие условию: при встрече хотя бы одной удовлетворяющей строки он возвращает true  и далее не сканирует таблицы.\n",
    "\n",
    "Это очень удобно в случае поиска каких-то свойств для маленького справочника на основе большой таблицы с событиями. Например, EXISTS будет удобен для таблицы с партнерами, содержащей немного записей. Проверить наличие заходов на вебсайт конкретным партнером будет быстрее через EXISTS, чем через LEFT JOIN."
   ]
  },
  {
   "cell_type": "markdown",
   "metadata": {},
   "source": [
    "### Задание 5.1.3\n",
    "Напишите запрос, который выводит названия всех городов и булевы поля, показывающие наличие клиентов, наличие водителей и наличие доставок в этом городе. Добавьте сортировку по названию городов.\n",
    "\n",
    "(Не забывайте перед отправкой кода проверять его работоспособность и соответствие условиям в Metabase!)"
   ]
  },
  {
   "cell_type": "code",
   "execution_count": null,
   "metadata": {},
   "outputs": [],
   "source": [
    "select \n",
    "c.city_name\n",
    ", exists(\n",
    "select * \n",
    "from customer c2 \n",
    "where c2.city_id  = c.city_id \n",
    ") has_customer\n",
    ", exists(\n",
    "select * \n",
    "from driver d2 \n",
    "where d2.city_id  = c.city_id \n",
    ") has_driver\n",
    ", exists(\n",
    "select * \n",
    "from shipment s2 \n",
    "where s2.city_id  = c.city_id \n",
    ") has_customer\n",
    "from city c \n",
    "order by 1\n"
   ]
  },
  {
   "cell_type": "markdown",
   "metadata": {},
   "source": [
    "### 5.2. IN"
   ]
  },
  {
   "cell_type": "markdown",
   "metadata": {},
   "source": [
    "Используя подзапросы, можно также фильтровать значения в конкретном столбце, используя предикат IN.\n",
    "\n",
    "Следующий запрос выведет все штаты, в которых есть водители с указанным номером телефона."
   ]
  },
  {
   "cell_type": "code",
   "execution_count": null,
   "metadata": {},
   "outputs": [],
   "source": [
    "SELECT \n",
    "        distinct state\n",
    "from \n",
    "        shipping.city c\n",
    "where \n",
    "        c.city_id in  \n",
    "            (\n",
    "                select \n",
    "                    d.city_id\n",
    "                from \n",
    "                    shipping.driver d\n",
    "                where d.phone is not null\n",
    "                )\n",
    "order by 1"
   ]
  },
  {
   "cell_type": "markdown",
   "metadata": {},
   "source": [
    "После указания названия поля пишется предикат IN. За ним — запрос, возвращающий любое количество строк, но обязательно только один столбец того же типа, что и фильтруемый. В нашем случае city_id может быть отфильтрован только другим целочисленным подзапросом. Если бы в SELECT после IN был текст или логический тип, вернулась бы ошибка несоответствия типов.\n",
    "\n",
    "Попробуйте в Metabase! Замените d.city_id на \"*\" и увидите в результате ошибку о том, что в подзапросе слишком много колонок. Для отрицания IN перед ним добавляется NOT. \n",
    "\n",
    "В остальном синтаксис схож с EXISTS. Оператор IN удобно использовать, когда есть несколько мест, из которых вы собрали перечень нужных значений и хотите отфильтровать целевую таблицу.\n",
    "\n",
    "Попробуйте в Metabase! В следующем примере мы подзапросом собрали таблицы с внешними ключами и numeric столбцами и вытащили информацию об этих таблицах. Также в подзапросах можно использовать все изученные ранее конструкции — агрегаты, JOIN и другие типы соединений."
   ]
  },
  {
   "cell_type": "code",
   "execution_count": null,
   "metadata": {},
   "outputs": [],
   "source": [
    "select \n",
    "        *\n",
    "from \n",
    "        information_schema.\"tables\" t\n",
    "where t.table_name in (\n",
    "                            select \n",
    "                                c.table_name\n",
    "                            from \n",
    "                                information_schema.columns c\n",
    "                            where \n",
    "                                c.data_type = 'numeric'\n",
    "                                and c.table_schema = 'shipping'\n",
    "                            union  \n",
    "                            select \n",
    "                                cc.table_name\n",
    "                            from \n",
    "                                information_schema.table_constraints cc\n",
    "                            where \n",
    "                                cc.constraint_type = 'FOREIGN KEY'\n",
    "                                and cc.constraint_schema = 'shipping'\n",
    "                            )"
   ]
  },
  {
   "cell_type": "markdown",
   "metadata": {},
   "source": [
    "### Задание 5.2.1\n",
    "Напишите запрос, который выводит все поля из таблицы доставок по водителям, совершившим более 90 доставок. Отсортируйте запрос по первому и второму столбцу.\n",
    "\n",
    "(Не забывайте перед отправкой кода проверять его работоспособность и соответствие условиям в Metabase!)"
   ]
  },
  {
   "cell_type": "code",
   "execution_count": null,
   "metadata": {},
   "outputs": [],
   "source": [
    "select \n",
    "        s.*\n",
    "from shipment s\n",
    "where \n",
    "        driver_id in (\n",
    "            select driver_id\n",
    "                --, count(ship_id) \n",
    "            from shipment \n",
    "            group by driver_id \n",
    "            having count(ship_id) > 90 \n",
    "            )\n",
    "order by 1, 2"
   ]
  }
 ],
 "metadata": {
  "kernelspec": {
   "display_name": "Python 3",
   "language": "python",
   "name": "python3"
  },
  "language_info": {
   "codemirror_mode": {
    "name": "ipython",
    "version": 3
   },
   "file_extension": ".py",
   "mimetype": "text/x-python",
   "name": "python",
   "nbconvert_exporter": "python",
   "pygments_lexer": "ipython3",
   "version": "3.8.3"
  }
 },
 "nbformat": 4,
 "nbformat_minor": 4
}
