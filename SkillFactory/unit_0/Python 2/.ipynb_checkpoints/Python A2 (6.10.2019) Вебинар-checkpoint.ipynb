{
 "cells": [
  {
   "cell_type": "markdown",
   "metadata": {},
   "source": [
    "# Списки"
   ]
  },
  {
   "cell_type": "code",
   "execution_count": 3,
   "metadata": {},
   "outputs": [],
   "source": [
    "animals = ['кошка', 'собака', 'хомяк', 'корова', 'лошадь', 'лиса', 'волк', 'заяц']"
   ]
  },
  {
   "cell_type": "markdown",
   "metadata": {},
   "source": [
    "Выполняем задания по выводу на экран элементов списка с помощью срезов"
   ]
  },
  {
   "cell_type": "code",
   "execution_count": 4,
   "metadata": {},
   "outputs": [
    {
     "data": {
      "text/plain": [
       "'собака'"
      ]
     },
     "execution_count": 4,
     "metadata": {},
     "output_type": "execute_result"
    }
   ],
   "source": [
    "# Вывести на экран название своего любимого животного\n",
    "animals[1]"
   ]
  },
  {
   "cell_type": "code",
   "execution_count": 6,
   "metadata": {},
   "outputs": [
    {
     "data": {
      "text/plain": [
       "['кошка', 'собака', 'хомяк']"
      ]
     },
     "execution_count": 6,
     "metadata": {},
     "output_type": "execute_result"
    }
   ],
   "source": [
    "# Вывести на экран список домашних животных, которых можно содержать в городской квартире\n",
    "animals[:3]"
   ]
  },
  {
   "cell_type": "code",
   "execution_count": 8,
   "metadata": {},
   "outputs": [
    {
     "data": {
      "text/plain": [
       "['корова', 'лошадь']"
      ]
     },
     "execution_count": 8,
     "metadata": {},
     "output_type": "execute_result"
    }
   ],
   "source": [
    "#Вывести на экран список домашних животных, которых нельзя содержать в городской квартире\n",
    "animals[3:5]"
   ]
  },
  {
   "cell_type": "code",
   "execution_count": 13,
   "metadata": {},
   "outputs": [
    {
     "data": {
      "text/plain": [
       "['лиса', 'волк', 'заяц']"
      ]
     },
     "execution_count": 13,
     "metadata": {},
     "output_type": "execute_result"
    }
   ],
   "source": [
    "# Вывести на экран список диких животных\n",
    "animals[-3:8]"
   ]
  },
  {
   "cell_type": "code",
   "execution_count": 14,
   "metadata": {},
   "outputs": [
    {
     "data": {
      "text/plain": [
       "['кошка', 'хомяк', 'лошадь', 'волк']"
      ]
     },
     "execution_count": 14,
     "metadata": {},
     "output_type": "execute_result"
    }
   ],
   "source": [
    "# Вывести на экран список: кошка, хомяк, лошадь, волк\n",
    "animals[::2]"
   ]
  },
  {
   "cell_type": "code",
   "execution_count": 15,
   "metadata": {},
   "outputs": [
    {
     "data": {
      "text/plain": [
       "['заяц', 'волк', 'лиса', 'лошадь', 'корова', 'хомяк', 'собака', 'кошка']"
      ]
     },
     "execution_count": 15,
     "metadata": {},
     "output_type": "execute_result"
    }
   ],
   "source": [
    "# Вывести на экран список животных задом наперёд (заяц, волк, ..., кошка) \n",
    "animals[::-1]"
   ]
  },
  {
   "cell_type": "code",
   "execution_count": 17,
   "metadata": {},
   "outputs": [
    {
     "data": {
      "text/plain": [
       "['лиса', 'лошадь', 'корова', 'хомяк']"
      ]
     },
     "execution_count": 17,
     "metadata": {},
     "output_type": "execute_result"
    }
   ],
   "source": [
    "animals[-3:1:-1]"
   ]
  },
  {
   "cell_type": "markdown",
   "metadata": {},
   "source": [
    "#### Задание:\n",
    "Вывести на экран сообщение:  \n",
    "1-й элемент списка - \"кошка\"  \n",
    "2-й элемент списка - \"собака\"  \n",
    "и т.д."
   ]
  },
  {
   "cell_type": "code",
   "execution_count": 22,
   "metadata": {},
   "outputs": [
    {
     "name": "stdout",
     "output_type": "stream",
     "text": [
      "1-й элемент списка -\"кошка\"\n",
      "2-й элемент списка -\"собака\"\n",
      "3-й элемент списка -\"хомяк\"\n",
      "4-й элемент списка -\"корова\"\n",
      "5-й элемент списка -\"лошадь\"\n",
      "6-й элемент списка -\"лиса\"\n",
      "7-й элемент списка -\"волк\"\n",
      "8-й элемент списка -\"заяц\"\n"
     ]
    }
   ],
   "source": [
    "# Используйте в качестве параметра цикла элемента списка\n",
    "number = 0\n",
    "for animal in animals:\n",
    "    number += 1\n",
    "    print('{}-й элемент списка -\"{}\"'.format(number,animal))"
   ]
  },
  {
   "cell_type": "code",
   "execution_count": 19,
   "metadata": {},
   "outputs": [
    {
     "name": "stdout",
     "output_type": "stream",
     "text": [
      "1-й элемент списка -\"кошка\"\n",
      "2-й элемент списка -\"собака\"\n",
      "3-й элемент списка -\"хомяк\"\n",
      "4-й элемент списка -\"корова\"\n",
      "5-й элемент списка -\"лошадь\"\n",
      "6-й элемент списка -\"лиса\"\n",
      "7-й элемент списка -\"волк\"\n",
      "8-й элемент списка -\"заяц\"\n"
     ]
    }
   ],
   "source": [
    "# Используйте в качестве параметра цикла индексы элементов списка\n",
    "for i in range(len(animals)):\n",
    "    print('{}-й элемент списка -\"{}\"'.format(i+1,animals[i]))"
   ]
  },
  {
   "cell_type": "code",
   "execution_count": 26,
   "metadata": {},
   "outputs": [
    {
     "name": "stdout",
     "output_type": "stream",
     "text": [
      "1-й элемент списка - \"кошка\"\n",
      "2-й элемент списка - \"собака\"\n",
      "3-й элемент списка - \"хомяк\"\n",
      "4-й элемент списка - \"корова\"\n",
      "5-й элемент списка - \"лошадь\"\n",
      "6-й элемент списка - \"лиса\"\n",
      "7-й элемент списка - \"волк\"\n",
      "8-й элемент списка - \"заяц\"\n"
     ]
    }
   ],
   "source": [
    "# Используйте enumerate, т.е. организуйте цикл с двумя параметрами\n",
    "for counter, animal in enumerate(animals, 1):\n",
    "    print('{}-й элемент списка - \"{}\"'.format(counter, animal))"
   ]
  },
  {
   "cell_type": "markdown",
   "metadata": {},
   "source": [
    "### Генератор списка"
   ]
  },
  {
   "cell_type": "markdown",
   "metadata": {},
   "source": [
    "Задание: создать список, содержащий квадраты двузначных чётных чисел, не превышающих 25, сначала традиционным способом, а потом с помощью генератора списка."
   ]
  },
  {
   "cell_type": "code",
   "execution_count": 27,
   "metadata": {},
   "outputs": [
    {
     "data": {
      "text/plain": [
       "[100, 144, 196, 256, 324, 400, 484, 576]"
      ]
     },
     "execution_count": 27,
     "metadata": {},
     "output_type": "execute_result"
    }
   ],
   "source": [
    "# Традиционный подход\n",
    "my_list = []\n",
    "for i in range(10,26,2):\n",
    "    number = i**2\n",
    "    my_list.append(number)\n",
    "my_list"
   ]
  },
  {
   "cell_type": "code",
   "execution_count": 31,
   "metadata": {},
   "outputs": [],
   "source": [
    "# Использование генератора списка\n",
    "my_list = [x**2 for x in range(10, 26, 2)]"
   ]
  },
  {
   "cell_type": "code",
   "execution_count": 32,
   "metadata": {},
   "outputs": [
    {
     "data": {
      "text/plain": [
       "[100, 144, 196, 256, 324, 400, 484, 576]"
      ]
     },
     "execution_count": 32,
     "metadata": {},
     "output_type": "execute_result"
    }
   ],
   "source": [
    "my_list"
   ]
  },
  {
   "cell_type": "code",
   "execution_count": 30,
   "metadata": {},
   "outputs": [
    {
     "data": {
      "text/plain": [
       "[100, 144, 196, 256, 324, 400, 484, 576]"
      ]
     },
     "execution_count": 30,
     "metadata": {},
     "output_type": "execute_result"
    }
   ],
   "source": [
    "[i**2 for i in range(10, 26) if i%2==0]"
   ]
  },
  {
   "cell_type": "markdown",
   "metadata": {},
   "source": [
    "## Вложенные списки"
   ]
  },
  {
   "cell_type": "code",
   "execution_count": 33,
   "metadata": {},
   "outputs": [],
   "source": [
    "my_list = [[1,2,3], [4,5,6], [7,8,9]]"
   ]
  },
  {
   "cell_type": "code",
   "execution_count": 34,
   "metadata": {},
   "outputs": [
    {
     "data": {
      "text/plain": [
       "3"
      ]
     },
     "execution_count": 34,
     "metadata": {},
     "output_type": "execute_result"
    }
   ],
   "source": [
    "len(my_list)"
   ]
  },
  {
   "cell_type": "code",
   "execution_count": 35,
   "metadata": {},
   "outputs": [
    {
     "name": "stdout",
     "output_type": "stream",
     "text": [
      "[1, 2, 3]\n",
      "[4, 5, 6]\n",
      "[7, 8, 9]\n"
     ]
    }
   ],
   "source": [
    "for x in my_list:\n",
    "    print(x)"
   ]
  },
  {
   "cell_type": "markdown",
   "metadata": {},
   "source": [
    "Пробуем извлекать элементы списка по индексам"
   ]
  },
  {
   "cell_type": "code",
   "execution_count": 38,
   "metadata": {},
   "outputs": [
    {
     "data": {
      "text/plain": [
       "8"
      ]
     },
     "execution_count": 38,
     "metadata": {},
     "output_type": "execute_result"
    }
   ],
   "source": [
    "# Задание: извлечь из списка число 8\n",
    "my_list[2][1]"
   ]
  },
  {
   "cell_type": "code",
   "execution_count": 39,
   "metadata": {},
   "outputs": [
    {
     "data": {
      "text/plain": [
       "[1, 4, 7]"
      ]
     },
     "execution_count": 39,
     "metadata": {},
     "output_type": "execute_result"
    }
   ],
   "source": [
    "# *Получить из списка my_list список, содержащий первые элементы каждого вложенного списка\n",
    "# Подсказка: можно использовать генератор списка\n",
    "[i[0] for i in (my_list)]"
   ]
  },
  {
   "cell_type": "markdown",
   "metadata": {},
   "source": [
    "Задание: Вывести на экран список в виде таблицы:\n",
    "\n",
    "1 2 3  \n",
    "4 5 6  \n",
    "7 8 9"
   ]
  },
  {
   "cell_type": "code",
   "execution_count": 44,
   "metadata": {},
   "outputs": [
    {
     "name": "stdout",
     "output_type": "stream",
     "text": [
      "1 2 3\n",
      "4 5 6\n",
      "7 8 9\n"
     ]
    }
   ],
   "source": [
    "for small_list in my_list:\n",
    "    for number in small_list:\n",
    "        print(number, end=' ')\n",
    "    print()"
   ]
  },
  {
   "cell_type": "markdown",
   "metadata": {},
   "source": [
    "# Работа со словарями"
   ]
  },
  {
   "cell_type": "markdown",
   "metadata": {},
   "source": [
    "## Создание словарей, работа с ключами и значениями  "
   ]
  },
  {
   "cell_type": "code",
   "execution_count": 46,
   "metadata": {},
   "outputs": [],
   "source": [
    "my_school = {'математика': 'Иванова М.И.', \n",
    "             'русский язык': 'Пушкина А.С.', \n",
    "             'английский язык': 'Петров Д.Ю.', \n",
    "             'физика': 'Эйнштейн А.Э.', \n",
    "             'химия': 'Менделеева Д.И.', \n",
    "             'биология': 'Мендель Г.И.', \n",
    "             'физкультура': 'Тарасова Т.А.'}"
   ]
  },
  {
   "cell_type": "markdown",
   "metadata": {},
   "source": [
    "Попробуем найти фамилии учителей, преподающих разные предметы, разными способами"
   ]
  },
  {
   "cell_type": "code",
   "execution_count": 47,
   "metadata": {},
   "outputs": [
    {
     "data": {
      "text/plain": [
       "'Эйнштейн А.Э.'"
      ]
     },
     "execution_count": 47,
     "metadata": {},
     "output_type": "execute_result"
    }
   ],
   "source": [
    "# Вывести на экран фамилию учителя физики\n",
    "my_school['физика']"
   ]
  },
  {
   "cell_type": "code",
   "execution_count": 52,
   "metadata": {},
   "outputs": [
    {
     "name": "stdout",
     "output_type": "stream",
     "text": [
      "Какой предмет Вас интересует? математика\n",
      "Предмет \"математика\" преподаёт учитель Иванова М.И.\n"
     ]
    }
   ],
   "source": [
    "# Вывести на экран фамилию учителя, преподающего предмет, введённый с клавиатуры\n",
    "subject = input('Какой предмет Вас интересует? ').lower()\n",
    "if subject in my_school:\n",
    "    print('Предмет \"{}\" преподаёт учитель {}'.format(subject, my_school[subject]))\n",
    "else:\n",
    "    print('К сожалению, в нашей школе не преподается предмет \"{}\".'.format(subject))"
   ]
  },
  {
   "cell_type": "markdown",
   "metadata": {},
   "source": [
    "Перебор элементов словаря (ключей, значений пар \"ключ-значение\" с помощью цикла с параметром)"
   ]
  },
  {
   "cell_type": "code",
   "execution_count": 53,
   "metadata": {},
   "outputs": [
    {
     "name": "stdout",
     "output_type": "stream",
     "text": [
      "математика\n",
      "русский язык\n",
      "английский язык\n",
      "физика\n",
      "химия\n",
      "биология\n",
      "физкультура\n"
     ]
    }
   ],
   "source": [
    "for something in my_school:\n",
    "    print(something)"
   ]
  },
  {
   "cell_type": "code",
   "execution_count": 54,
   "metadata": {},
   "outputs": [
    {
     "name": "stdout",
     "output_type": "stream",
     "text": [
      "математика\n",
      "русский язык\n",
      "английский язык\n",
      "физика\n",
      "химия\n",
      "биология\n",
      "физкультура\n"
     ]
    }
   ],
   "source": [
    "# Перебор ключей словаря\n",
    "for subject in my_school.keys():\n",
    "    print(subject)"
   ]
  },
  {
   "cell_type": "code",
   "execution_count": 55,
   "metadata": {},
   "outputs": [
    {
     "name": "stdout",
     "output_type": "stream",
     "text": [
      "Иванова М.И.\n",
      "Пушкина А.С.\n",
      "Петров Д.Ю.\n",
      "Эйнштейн А.Э.\n",
      "Менделеева Д.И.\n",
      "Мендель Г.И.\n",
      "Тарасова Т.А.\n"
     ]
    }
   ],
   "source": [
    "# Перебор значений словаря\n",
    "for teacher in my_school.values():\n",
    "    print(teacher)"
   ]
  },
  {
   "cell_type": "code",
   "execution_count": 58,
   "metadata": {},
   "outputs": [
    {
     "name": "stdout",
     "output_type": "stream",
     "text": [
      "Предмет \"математика\" преподает Иванова М.И.\n",
      "Предмет \"русский язык\" преподает Пушкина А.С.\n",
      "Предмет \"английский язык\" преподает Петров Д.Ю.\n",
      "Предмет \"физика\" преподает Эйнштейн А.Э.\n",
      "Предмет \"химия\" преподает Менделеева Д.И.\n",
      "Предмет \"биология\" преподает Мендель Г.И.\n",
      "Предмет \"физкультура\" преподает Тарасова Т.А.\n",
      "Предмет \"информатика\" преподает Н. Винер\n"
     ]
    }
   ],
   "source": [
    "# Перебор пар ключ-значение в словаре\n",
    "for subject, teacher in my_school.items():\n",
    "    print('Предмет \"{}\" преподает {}'.format(subject, teacher))"
   ]
  },
  {
   "cell_type": "code",
   "execution_count": 57,
   "metadata": {},
   "outputs": [],
   "source": [
    "my_school['информатика'] = 'Н. Винер'"
   ]
  },
  {
   "cell_type": "markdown",
   "metadata": {},
   "source": [
    "## Вложенные конструкции"
   ]
  },
  {
   "cell_type": "markdown",
   "metadata": {},
   "source": [
    "Для начала создадим списки преподавателей"
   ]
  },
  {
   "cell_type": "code",
   "execution_count": 59,
   "metadata": {},
   "outputs": [],
   "source": [
    "math = ['Иванова М.И.', 'Колмогоров А.Н.', 'Перельман Г.Я.']\n",
    "russian = ['Пушкина А.С.', 'Лермонтов М.Ю.', 'Толстой Л.Н.']\n",
    "english = ['Петров Д.Ю.', 'Шекспир У.Б.']\n",
    "physics = ['Эйнштейн А.Э.', 'Коллайдер Б.А.']\n",
    "chemistry = ['Менделеева Д.И.', 'Кислота Л.И.']\n",
    "biology = ['Мендель Г.И.', 'Дарвин Ч.Р.']\n",
    "sports = ['Тарасова Т.А.', 'Черчесов С.С.']"
   ]
  },
  {
   "cell_type": "code",
   "execution_count": 60,
   "metadata": {},
   "outputs": [],
   "source": [
    "my_big_school = {'математика': math,\n",
    "                 'русский язык': russian,\n",
    "                 'английский язык': english,\n",
    "                 'физика': physics,\n",
    "                 'химия': chemistry, \n",
    "                 'биология': biology,\n",
    "                 'физкультура': sports}"
   ]
  },
  {
   "cell_type": "markdown",
   "metadata": {},
   "source": [
    "Пробуем разные обращения к элементам словаря:"
   ]
  },
  {
   "cell_type": "code",
   "execution_count": 61,
   "metadata": {},
   "outputs": [
    {
     "name": "stdout",
     "output_type": "stream",
     "text": [
      "математика ['Иванова М.И.', 'Колмогоров А.Н.', 'Перельман Г.Я.']\n",
      "русский язык ['Пушкина А.С.', 'Лермонтов М.Ю.', 'Толстой Л.Н.']\n",
      "английский язык ['Петров Д.Ю.', 'Шекспир У.Б.']\n",
      "физика ['Эйнштейн А.Э.', 'Коллайдер Б.А.']\n",
      "химия ['Менделеева Д.И.', 'Кислота Л.И.']\n",
      "биология ['Мендель Г.И.', 'Дарвин Ч.Р.']\n",
      "физкультура ['Тарасова Т.А.', 'Черчесов С.С.']\n"
     ]
    }
   ],
   "source": [
    "for subject, teachers in my_big_school.items():\n",
    "    print(subject, teachers)"
   ]
  },
  {
   "cell_type": "code",
   "execution_count": 63,
   "metadata": {},
   "outputs": [
    {
     "data": {
      "text/plain": [
       "'Лермонтов М.Ю.'"
      ]
     },
     "execution_count": 63,
     "metadata": {},
     "output_type": "execute_result"
    }
   ],
   "source": [
    "# Задание: вывести на экран фамилию Лермонтова\n",
    "my_big_school['русский язык'][1]"
   ]
  },
  {
   "cell_type": "code",
   "execution_count": 65,
   "metadata": {},
   "outputs": [
    {
     "name": "stdout",
     "output_type": "stream",
     "text": [
      "Иванова М.И.\n",
      "Колмогоров А.Н.\n",
      "Перельман Г.Я.\n"
     ]
    }
   ],
   "source": [
    "# Вывести на экран фамилии всех учителей математики\n",
    "for teacher in my_big_school['математика']: \n",
    "    print(teacher)"
   ]
  },
  {
   "cell_type": "code",
   "execution_count": 66,
   "metadata": {},
   "outputs": [
    {
     "name": "stdout",
     "output_type": "stream",
     "text": [
      "Предмет \"математика\" преподают учителя:\n",
      "Иванова М.И.\n",
      "Колмогоров А.Н.\n",
      "Перельман Г.Я.\n",
      "\n",
      "Предмет \"русский язык\" преподают учителя:\n",
      "Пушкина А.С.\n",
      "Лермонтов М.Ю.\n",
      "Толстой Л.Н.\n",
      "\n",
      "Предмет \"английский язык\" преподают учителя:\n",
      "Петров Д.Ю.\n",
      "Шекспир У.Б.\n",
      "\n",
      "Предмет \"физика\" преподают учителя:\n",
      "Эйнштейн А.Э.\n",
      "Коллайдер Б.А.\n",
      "\n",
      "Предмет \"химия\" преподают учителя:\n",
      "Менделеева Д.И.\n",
      "Кислота Л.И.\n",
      "\n",
      "Предмет \"биология\" преподают учителя:\n",
      "Мендель Г.И.\n",
      "Дарвин Ч.Р.\n",
      "\n",
      "Предмет \"физкультура\" преподают учителя:\n",
      "Тарасова Т.А.\n",
      "Черчесов С.С.\n",
      "\n"
     ]
    }
   ],
   "source": [
    "for subject in my_big_school.keys():\n",
    "    print('Предмет \"{}\" преподают учителя:'.format(subject))\n",
    "    for teacher in my_big_school[subject]:\n",
    "        print(teacher)\n",
    "    print()"
   ]
  },
  {
   "cell_type": "markdown",
   "metadata": {},
   "source": [
    "Вкладываем словарь в словарь:"
   ]
  },
  {
   "cell_type": "code",
   "execution_count": 67,
   "metadata": {},
   "outputs": [],
   "source": [
    "math = {'Иванова М.И.': {'кабинет': 1, \n",
    "                         'классы': [5, 6]}, \n",
    "        'Колмогоров А.Н.': {'кабинет': 2, \n",
    "                            'классы': [7, 8, 9]}, \n",
    "        'Перельман Г.Я.': {'кабинет': 3, \n",
    "                           'классы': [10, 11]}}"
   ]
  },
  {
   "cell_type": "markdown",
   "metadata": {},
   "source": [
    "Потренируем работу с ключами и значениями"
   ]
  },
  {
   "cell_type": "code",
   "execution_count": 68,
   "metadata": {},
   "outputs": [
    {
     "data": {
      "text/plain": [
       "2"
      ]
     },
     "execution_count": 68,
     "metadata": {},
     "output_type": "execute_result"
    }
   ],
   "source": [
    "# В каком кабинете работает Колмогоров А.Н.?\n",
    "math['Колмогоров А.Н.']['кабинет']"
   ]
  },
  {
   "cell_type": "code",
   "execution_count": 69,
   "metadata": {},
   "outputs": [
    {
     "data": {
      "text/plain": [
       "[5, 6]"
      ]
     },
     "execution_count": 69,
     "metadata": {},
     "output_type": "execute_result"
    }
   ],
   "source": [
    "# В каких классах преподает Иванова М.И.?\n",
    "math['Иванова М.И.']['классы']"
   ]
  },
  {
   "cell_type": "code",
   "execution_count": 70,
   "metadata": {},
   "outputs": [
    {
     "data": {
      "text/plain": [
       "10"
      ]
     },
     "execution_count": 70,
     "metadata": {},
     "output_type": "execute_result"
    }
   ],
   "source": [
    "# Какой класс из тех, где учителем является Перельман Г.Я., стоит первый в списке?\n",
    "math['Перельман Г.Я.']['классы'][0]"
   ]
  },
  {
   "cell_type": "code",
   "execution_count": 71,
   "metadata": {},
   "outputs": [
    {
     "data": {
      "text/plain": [
       "9"
      ]
     },
     "execution_count": 71,
     "metadata": {},
     "output_type": "execute_result"
    }
   ],
   "source": [
    "# Самый старший класс, в котором преподает Колмогоров А.Н.\n",
    "max(math['Колмогоров А.Н.']['классы'])"
   ]
  },
  {
   "cell_type": "markdown",
   "metadata": {},
   "source": [
    "Введем дополнительную информацию для остальных предметов"
   ]
  },
  {
   "cell_type": "code",
   "execution_count": 72,
   "metadata": {},
   "outputs": [],
   "source": [
    "russian = {'Пушкина А.С.': {'кабинет': 4, 'классы': [5, 6, 7]}, \n",
    "           'Лермонтов М.Ю.': {'кабинет': 5, 'классы': [8, 9]}, \n",
    "           'Толстой Л.Н.': {'кабинет': 6, 'классы': [10, 11]}}\n",
    "english = {'Петров Д.Ю.': {'кабинет': 7, 'классы': [5, 6, 7, 8]}, \n",
    "           'Шекспир У.Б.': {'кабинет': 8, 'классы': [9, 10, 11]}}\n",
    "physics = {'Эйнштейн А.Э.': {'кабинет': 9, 'классы': [7, 8, 9]}, \n",
    "           'Коллайдер Б.А.': {'кабинет': 10, 'классы': [10, 11]}}\n",
    "chemistry = {'Менделеева Д.И.': {'кабинет': 11, 'классы': [8, 9]}, \n",
    "             'Кислота Л.И.': {'кабинет': 12, 'классы': [10, 11]}}\n",
    "biology = {'Мендель Г.И.': {'кабинет': 13, 'классы': [6, 7, 9]}, \n",
    "           'Дарвин Ч.Р.': {'кабинет': 14, 'классы': [8, 10, 11]}}\n",
    "sports = {'Тарасова Т.А.': {'кабинет': 'спортзал', 'классы': [5, 6, 7, 8]}, \n",
    "          'Черчесов С.С.': {'кабинет': 'спортзал', 'классы': [9, 10, 11]}}"
   ]
  },
  {
   "cell_type": "code",
   "execution_count": 73,
   "metadata": {},
   "outputs": [],
   "source": [
    "my_new_school = {'математика': math,\n",
    "                 'русский язык': russian,\n",
    "                 'английский язык': english,\n",
    "                 'физика': physics,\n",
    "                 'химия': chemistry, \n",
    "                 'биология': biology,\n",
    "                 'физкультура': sports}"
   ]
  },
  {
   "cell_type": "markdown",
   "metadata": {},
   "source": [
    "Пишем полезную программу :)"
   ]
  },
  {
   "cell_type": "code",
   "execution_count": 76,
   "metadata": {},
   "outputs": [
    {
     "name": "stdout",
     "output_type": "stream",
     "text": [
      "Какой предмет Вас интересует? математика\n",
      "В каком классе учится Ваш ребенок? 7\n",
      "Иванова М.И. {'кабинет': 1, 'классы': [5, 6]}\n",
      "Колмогоров А.Н. {'кабинет': 2, 'классы': [7, 8, 9]}\n",
      "Перельман Г.Я. {'кабинет': 3, 'классы': [10, 11]}\n"
     ]
    }
   ],
   "source": [
    "asked_subject = input('Какой предмет Вас интересует? ').lower()\n",
    "asked_class = int(input('В каком классе учится Ваш ребенок? '))\n",
    "\n",
    "for teacher, info in my_new_school[asked_subject].items():\n",
    "    print(teacher, info)"
   ]
  },
  {
   "cell_type": "code",
   "execution_count": 77,
   "metadata": {},
   "outputs": [
    {
     "name": "stdout",
     "output_type": "stream",
     "text": [
      "Какой предмет Вас интересует? математика\n",
      "В каком классе учится Ваш ребенок? 7\n",
      " \n",
      "Предмет \"математика\" у Вашего ребенка ведет учитель Колмогоров А.Н.\n",
      "Занятия проходят в кабинете № 2.\n"
     ]
    }
   ],
   "source": [
    "asked_subject = input('Какой предмет Вас интересует? ').lower()\n",
    "asked_class = int(input('В каком классе учится Ваш ребенок? '))\n",
    "\n",
    "for teacher, info in my_new_school[asked_subject].items():\n",
    "    if asked_class in info['классы']:\n",
    "        print(' ')\n",
    "        print('Предмет \"{}\" у Вашего ребенка ведет учитель {}'.format(asked_subject, teacher))\n",
    "        print('Занятия проходят в кабинете № {}.'.format(info['кабинет']))     \n",
    "        break"
   ]
  },
  {
   "cell_type": "code",
   "execution_count": null,
   "metadata": {},
   "outputs": [],
   "source": []
  }
 ],
 "metadata": {
  "kernelspec": {
   "display_name": "Python 3",
   "language": "python",
   "name": "python3"
  },
  "language_info": {
   "codemirror_mode": {
    "name": "ipython",
    "version": 3
   },
   "file_extension": ".py",
   "mimetype": "text/x-python",
   "name": "python",
   "nbconvert_exporter": "python",
   "pygments_lexer": "ipython3",
   "version": "3.7.1"
  }
 },
 "nbformat": 4,
 "nbformat_minor": 2
}
