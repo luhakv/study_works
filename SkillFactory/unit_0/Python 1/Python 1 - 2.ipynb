{
 "cells": [
  {
   "cell_type": "code",
   "execution_count": 1,
   "metadata": {},
   "outputs": [
    {
     "name": "stdout",
     "output_type": "stream",
     "text": [
      "Введите целое число: 2\n",
      "Вы ввели число, которое при умножении на 3 даёт 6\n"
     ]
    }
   ],
   "source": [
    "a = int(input('Введите целое число: '))\n",
    "n = a * 3\n",
    "print('Вы ввели число, которое при умножении на 3 даёт', n)"
   ]
  },
  {
   "cell_type": "code",
   "execution_count": 2,
   "metadata": {},
   "outputs": [
    {
     "name": "stdout",
     "output_type": "stream",
     "text": [
      "Вы ввели число, которое при умножении на 3 даёт 69\n"
     ]
    }
   ],
   "source": [
    "a = 23\n",
    "n = a * 3\n",
    "print('Вы ввели число, которое при умножении на 3 даёт', n)"
   ]
  },
  {
   "cell_type": "code",
   "execution_count": 7,
   "metadata": {},
   "outputs": [
    {
     "name": "stdout",
     "output_type": "stream",
     "text": [
      "Введите ваш вес: 50\n",
      "Введите ваш рост в метрах: 1.5\n",
      "22.22222222222222\n"
     ]
    }
   ],
   "source": [
    "weight = float(input('Введите ваш вес: '))\n",
    "hight = float(input('Введите ваш рост в метрах: '))\n",
    "print(weight / (hight)**2)"
   ]
  },
  {
   "cell_type": "code",
   "execution_count": 5,
   "metadata": {},
   "outputs": [
    {
     "name": "stdout",
     "output_type": "stream",
     "text": [
      "24.691358024691358\n"
     ]
    }
   ],
   "source": [
    "weight = float(80)\n",
    "hight = float(1.8)\n",
    "print(weight / (hight ** 2))"
   ]
  },
  {
   "cell_type": "code",
   "execution_count": 9,
   "metadata": {},
   "outputs": [
    {
     "name": "stdout",
     "output_type": "stream",
     "text": [
      "Введите ваш вес: 50\n",
      "Введите ваш рост в метрах: 1.55\n",
      "20.811654526534856\n"
     ]
    }
   ],
   "source": [
    "weight = float(input('Введите ваш вес: '))\n",
    "hight = float(input('Введите ваш рост в метрах: '))\n",
    "print(weight / (hight)**2)"
   ]
  },
  {
   "cell_type": "code",
   "execution_count": 11,
   "metadata": {},
   "outputs": [
    {
     "name": "stdout",
     "output_type": "stream",
     "text": [
      "24.691358024691358\n"
     ]
    }
   ],
   "source": [
    "weight = 80\n",
    "height = 1.8\n",
    "print(weight / (height)**2)"
   ]
  },
  {
   "cell_type": "code",
   "execution_count": 19,
   "metadata": {},
   "outputs": [
    {
     "name": "stdout",
     "output_type": "stream",
     "text": [
      "Hello, world!\n",
      "Python <3 \n",
      "qwerty\n",
      "7.763936076656306\n"
     ]
    }
   ],
   "source": [
    "string_1 = input()\n",
    "string_2 = input()\n",
    "string_3 = input()\n",
    "word_1 = len(string_1)\n",
    "word_2 = len(string_3)\n",
    "word_3 = len(string_3)\n",
    "a = word_1\n",
    "b = word_2\n",
    "c = word_3\n",
    "print((a*b*c)**(1/3))"
   ]
  },
  {
   "cell_type": "code",
   "execution_count": 14,
   "metadata": {},
   "outputs": [
    {
     "name": "stdout",
     "output_type": "stream",
     "text": [
      "7.763936076656306\n"
     ]
    }
   ],
   "source": [
    "string_1 = 'Hello, world!'\n",
    "string_2 = 'Python'\n",
    "string_3 = 'qwerty'\n",
    "word_1 = len(string_1)\n",
    "word_2 = len(string_3)\n",
    "word_3 = len(string_3)\n",
    "a = word_1\n",
    "b = word_2\n",
    "c = word_3\n",
    "print((a*b*c)**(1/3))"
   ]
  },
  {
   "cell_type": "code",
   "execution_count": 18,
   "metadata": {},
   "outputs": [
    {
     "name": "stdout",
     "output_type": "stream",
     "text": [
      "12.999999999999998\n"
     ]
    }
   ],
   "source": [
    "word_1 = 'Hello, world!'\n",
    "word_2 = 'Python <3'\n",
    "word_3 = 'qwerty'\n",
    "string_1 = len(word_1)\n",
    "string_2 = len(word_2)\n",
    "string_3 = len(word_3)\n",
    "print((string_1*string_1*string_1)**(1/3))"
   ]
  },
  {
   "cell_type": "code",
   "execution_count": 21,
   "metadata": {},
   "outputs": [
    {
     "name": "stdout",
     "output_type": "stream",
     "text": [
      "8.88748820522211\n"
     ]
    }
   ],
   "source": [
    "string_1 = 'Hello, world!'\n",
    "string_2 = 'Python <3'\n",
    "string_3 = 'qwerty'\n",
    "print((len(string_1)*len(string_2)*len(string_3))**(1/3))\n"
   ]
  },
  {
   "cell_type": "code",
   "execution_count": 22,
   "metadata": {},
   "outputs": [
    {
     "name": "stdout",
     "output_type": "stream",
     "text": [
      "Введите слово: \n",
      "анна\n",
      "Введите слово: \n",
      "александр\n",
      "Введите слово: \n",
      "дети\n",
      "5.241482788417793\n"
     ]
    }
   ],
   "source": [
    "string_1 = input('Введите слово: \\n')\n",
    "string_2 = input('Введите слово: \\n')\n",
    "string_3 = input('Введите слово: \\n')\n",
    "print((len(string_1)*len(string_2)*len(string_3))**(1/3))"
   ]
  },
  {
   "cell_type": "code",
   "execution_count": 2,
   "metadata": {},
   "outputs": [
    {
     "name": "stdout",
     "output_type": "stream",
     "text": [
      "Введи любое словоПривет!\n",
      "Введи любое число5\n",
      "Привет! 7 16807\n"
     ]
    }
   ],
   "source": [
    "string = input('Введи любое слово')\n",
    "power = int(input('Введи любое число'))\n",
    "print(string, len(string), len(string)**power)"
   ]
  },
  {
   "cell_type": "code",
   "execution_count": 3,
   "metadata": {},
   "outputs": [
    {
     "name": "stdout",
     "output_type": "stream",
     "text": [
      "Привет! 7 16807\n"
     ]
    }
   ],
   "source": [
    "string = 'Привет!'\n",
    "power = 5\n",
    "print(string, len(string), len(string)**power)"
   ]
  },
  {
   "cell_type": "code",
   "execution_count": null,
   "metadata": {},
   "outputs": [],
   "source": []
  }
 ],
 "metadata": {
  "kernelspec": {
   "display_name": "Python 3",
   "language": "python",
   "name": "python3"
  },
  "language_info": {
   "codemirror_mode": {
    "name": "ipython",
    "version": 3
   },
   "file_extension": ".py",
   "mimetype": "text/x-python",
   "name": "python",
   "nbconvert_exporter": "python",
   "pygments_lexer": "ipython3",
   "version": "3.8.3"
  }
 },
 "nbformat": 4,
 "nbformat_minor": 4
}
