{
 "cells": [
  {
   "cell_type": "code",
   "execution_count": 1,
   "metadata": {},
   "outputs": [
    {
     "name": "stdout",
     "output_type": "stream",
     "text": [
      "Число чётное.\n"
     ]
    }
   ],
   "source": [
    "a = 4\n",
    "if a % 2 == 0:\n",
    "    print('Число чётное.')\n",
    "    "
   ]
  },
  {
   "cell_type": "code",
   "execution_count": 2,
   "metadata": {},
   "outputs": [
    {
     "name": "stdout",
     "output_type": "stream",
     "text": [
      "Число нечётное.\n"
     ]
    }
   ],
   "source": [
    "a = 3\n",
    "if a % 2 == 0:\n",
    "    print('Число чётное.')\n",
    "else:\n",
    "    print('Число нечётное.')"
   ]
  },
  {
   "cell_type": "code",
   "execution_count": 3,
   "metadata": {},
   "outputs": [
    {
     "name": "stdout",
     "output_type": "stream",
     "text": [
      "Четное число\n"
     ]
    }
   ],
   "source": [
    "a = 4\n",
    "if a % 2 == 0:\n",
    "    print('Четное число')"
   ]
  },
  {
   "cell_type": "code",
   "execution_count": 5,
   "metadata": {},
   "outputs": [
    {
     "name": "stdout",
     "output_type": "stream",
     "text": [
      "Нечетное число\n"
     ]
    }
   ],
   "source": [
    "a = 5\n",
    "if a % 2 ==0:\n",
    "    print ('Четное число')\n",
    "else:\n",
    "        print('Нечетное число')"
   ]
  },
  {
   "cell_type": "code",
   "execution_count": 6,
   "metadata": {},
   "outputs": [],
   "source": [
    "a = 5\n",
    "if a % 2 == 0:\n",
    "    print('Четное число')"
   ]
  },
  {
   "cell_type": "code",
   "execution_count": 7,
   "metadata": {},
   "outputs": [
    {
     "name": "stdout",
     "output_type": "stream",
     "text": [
      "Четное число\n"
     ]
    }
   ],
   "source": [
    "a = 4\n",
    "if a % 2 == 0:\n",
    "    print('Четное число')"
   ]
  },
  {
   "cell_type": "code",
   "execution_count": 9,
   "metadata": {},
   "outputs": [
    {
     "name": "stdout",
     "output_type": "stream",
     "text": [
      "2\n",
      "3\n",
      "Введены разные числа\n"
     ]
    }
   ],
   "source": [
    "a = int(input())\n",
    "b = int(input())\n",
    "\n",
    "if a == b:\n",
    " print('Введены одинаковые числа')\n",
    "else:\n",
    " print('Введены разные числа')"
   ]
  },
  {
   "cell_type": "code",
   "execution_count": 11,
   "metadata": {},
   "outputs": [
    {
     "name": "stdout",
     "output_type": "stream",
     "text": [
      "Введи слово: Александр\n",
      "Это слово длинное\"\n"
     ]
    }
   ],
   "source": [
    "word = input('Введи слово: ')\n",
    "if len(word) > 7:\n",
    "    print('Это слово длинное\"')\n",
    "else:\n",
    "    print('Это слово короткое\"')"
   ]
  },
  {
   "cell_type": "code",
   "execution_count": 16,
   "metadata": {
    "scrolled": true
   },
   "outputs": [
    {
     "name": "stdout",
     "output_type": "stream",
     "text": [
      "Это слово длинное.\n"
     ]
    }
   ],
   "source": [
    "word = 'ОченьДлинноеСлово'\n",
    "if len(word) > 7:\n",
    "    print('Это слово длинное.')\n",
    "else:\n",
    "    print('Это слово короткое.')"
   ]
  },
  {
   "cell_type": "code",
   "execution_count": 22,
   "metadata": {},
   "outputs": [
    {
     "name": "stdout",
     "output_type": "stream",
     "text": [
      "Введи слово: асфальт\n",
      "Ого! Вы ввели редкое слово!\n"
     ]
    }
   ],
   "source": [
    "word = input('Введи слово: ')\n",
    "if ('ф' in word) == True:\n",
    "    print('Ого! Вы ввели редкое слово!')\n",
    "else:\n",
    "    print('Эх, это не очень редкое слово...')"
   ]
  },
  {
   "cell_type": "code",
   "execution_count": 23,
   "metadata": {},
   "outputs": [
    {
     "name": "stdout",
     "output_type": "stream",
     "text": [
      "Эх, это не очень редкое слово...\n"
     ]
    }
   ],
   "source": [
    "word = 'ОченьДлинноеСлово'\n",
    "if ('ф' in word) == True:\n",
    "    print('Ого! Вы ввели редкое слово!')\n",
    "else:\n",
    "    print('Эх, это не очень редкое слово...')"
   ]
  },
  {
   "cell_type": "code",
   "execution_count": 27,
   "metadata": {},
   "outputs": [
    {
     "name": "stdout",
     "output_type": "stream",
     "text": [
      "Введи слово: Виктория\n",
      "Введи букву: к\n",
      "Выбранная буква есть в введённом слове\n"
     ]
    }
   ],
   "source": [
    "word =  input('Введи слово: ')\n",
    "letter = input('Введи букву: ')\n",
    "if (letter in word) == True:\n",
    "    print('Выбранная буква есть в введённом слове')\n",
    "else:\n",
    "    print('Выбранной буквы нет в введённом слове')"
   ]
  },
  {
   "cell_type": "code",
   "execution_count": 28,
   "metadata": {},
   "outputs": [
    {
     "name": "stdout",
     "output_type": "stream",
     "text": [
      "Выбранная буква есть в введённом слове\n"
     ]
    }
   ],
   "source": [
    "word = 'ОченьДлинноеСлово'\n",
    "letter = 'и'\n",
    "if (letter in word) == True:\n",
    "    print('Выбранная буква есть в введённом слове')\n",
    "else:\n",
    "    print('Выбранной буквы нет в введённом слове')"
   ]
  },
  {
   "cell_type": "code",
   "execution_count": 29,
   "metadata": {},
   "outputs": [
    {
     "name": "stdout",
     "output_type": "stream",
     "text": [
      "13\n"
     ]
    }
   ],
   "source": [
    "number = 169\n",
    "if number**(1/2)%1 == 0.0:\n",
    "    print(int(number**(1/2)))\n",
    "else:\n",
    "    print('Квадратный корень из', number, '- не целое число')"
   ]
  },
  {
   "cell_type": "code",
   "execution_count": 32,
   "metadata": {},
   "outputs": [
    {
     "name": "stdout",
     "output_type": "stream",
     "text": [
      "Введите число от 1 до 7: 1\n",
      "понедельник\n"
     ]
    }
   ],
   "source": [
    "number = (int(input('Введите число от 1 до 7: ')))\n",
    "if number == 1:\n",
    "    print('понедельник')\n",
    "elif number == 2:\n",
    "    print('вторник')\n",
    "elif number == 3:\n",
    "    print('среда')\n",
    "elif number == 4:\n",
    "    print('четверг')\n",
    "elif number == 5:\n",
    "    print('пятница')\n",
    "elif number == 6:\n",
    "    print('суббота')\n",
    "elif number == 7:\n",
    "    print('воскресенье')\n",
    "else: \n",
    "    print('Проверьте число')"
   ]
  },
  {
   "cell_type": "code",
   "execution_count": 33,
   "metadata": {},
   "outputs": [
    {
     "name": "stdout",
     "output_type": "stream",
     "text": [
      "пятница\n"
     ]
    }
   ],
   "source": [
    "number = 5\n",
    "if number == 1:\n",
    "    print('понедельник')\n",
    "elif number == 2:\n",
    "    print('вторник')\n",
    "elif number == 3:\n",
    "    print('среда')\n",
    "elif number == 4:\n",
    "    print('четверг')\n",
    "elif number == 5:\n",
    "    print('пятница')\n",
    "elif number == 6:\n",
    "    print('суббота')\n",
    "elif number == 7:\n",
    "    print('воскресенье')\n",
    "else: \n",
    "    print('Проверьте число')"
   ]
  },
  {
   "cell_type": "code",
   "execution_count": 36,
   "metadata": {},
   "outputs": [
    {
     "name": "stdout",
     "output_type": "stream",
     "text": [
      "Введите ваш вес: 50\n",
      "Введите ваш рост в метрах: 1.58\n",
      "20.028841531805796\n"
     ]
    }
   ],
   "source": [
    "weight = float(input('Введите ваш вес: '))\n",
    "height = float(input('Введите ваш рост в метрах: '))\n",
    "print(weight / (height)**2)"
   ]
  },
  {
   "cell_type": "code",
   "execution_count": 37,
   "metadata": {},
   "outputs": [
    {
     "name": "stdout",
     "output_type": "stream",
     "text": [
      "Введите ваш вес: 50\n",
      "Введите ваш рост в метрах: 1.58\n",
      "Норма\n"
     ]
    }
   ],
   "source": [
    "weight = float(input('Введите ваш вес: '))\n",
    "height = float(input('Введите ваш рост в метрах: '))\n",
    "imt = (weight / (height)**2)\n",
    "if imt < 18.5:\n",
    "    print('Недостаточная масса тела')\n",
    "elif imt <=24.99:\n",
    "    print('Норма')\n",
    "else:\n",
    "    print('Избыточная масса тела')"
   ]
  },
  {
   "cell_type": "code",
   "execution_count": 38,
   "metadata": {},
   "outputs": [
    {
     "name": "stdout",
     "output_type": "stream",
     "text": [
      "Норма\n"
     ]
    }
   ],
   "source": [
    "weight = 80\n",
    "height = 1.8\n",
    "imt = (weight / (height)**2)\n",
    "if imt < 18.5:\n",
    "    print('Недостаточная масса тела')\n",
    "elif imt <=24.99:\n",
    "    print('Норма')\n",
    "else:\n",
    "    print('Избыточная масса тела')"
   ]
  },
  {
   "cell_type": "code",
   "execution_count": null,
   "metadata": {},
   "outputs": [],
   "source": [
    "mark = (int(input('Введите число от 1 до 10: ')))\n",
    "if 1<mark<=4:\n",
    "    print('неудовлетворительно')\n",
    "elif 4<mark<=5:\n",
    "    print('удовлетворительно')\n",
    "elif 5<mark<=7:\n",
    "    print('хорошо')\n",
    "elif 8<mark<=10:\n",
    "    print('отлично')\n",
    "else:\n",
    "    print('Введите число от 1 до 10')"
   ]
  },
  {
   "cell_type": "code",
   "execution_count": 55,
   "metadata": {},
   "outputs": [
    {
     "name": "stdout",
     "output_type": "stream",
     "text": [
      "Введите число от 1 до 10: 6\n",
      "хорошо\n"
     ]
    }
   ],
   "source": [
    "mark=(int(input('Введите число от 1 до 10: ')))\n",
    "if 1<=mark<=4:\n",
    "    print('неудовлетворительно')\n",
    "elif 4<mark<=5:\n",
    "    print('удовлетворительно')\n",
    "elif 5<mark<=7:\n",
    "    print('хорошо')\n",
    "elif 8<=mark<=10:\n",
    "    print('отлично')\n",
    "else:\n",
    "    print('Введите число от 1 до 10')"
   ]
  },
  {
   "cell_type": "code",
   "execution_count": 61,
   "metadata": {},
   "outputs": [
    {
     "name": "stdout",
     "output_type": "stream",
     "text": [
      "Введите число от 1 до 10: 8\n",
      "отлично\n"
     ]
    }
   ],
   "source": [
    "mark = (int(input('Введите число от 1 до 10: ')))\n",
    "if 1<mark<=4:\n",
    "    print('неудовлетворительно')\n",
    "elif 4<mark<=5:\n",
    "    print('удовлетворительно')\n",
    "elif 5<mark<=7:\n",
    "    print('хорошо')\n",
    "elif 8<=mark<=10:\n",
    "    print('отлично')\n",
    "else:\n",
    "    print('Введите число от 1 до 10')"
   ]
  },
  {
   "cell_type": "code",
   "execution_count": 67,
   "metadata": {},
   "outputs": [
    {
     "name": "stdout",
     "output_type": "stream",
     "text": [
      "Введите число от 1 до 10: 6\n",
      "хорошо\n"
     ]
    }
   ],
   "source": [
    "mark = (int(input('Введите число от 1 до 10: ')))\n",
    "if 1<mark<=4:\n",
    "    print('неудовлетворительно')\n",
    "elif 4<mark<=5:\n",
    "    print('удовлетворительно')\n",
    "elif 5<mark<=7:\n",
    "    print('хорошо')\n",
    "elif 8<=mark<=10:\n",
    "    print('отлично')\n",
    "else:\n",
    "    print('Введите число от 1 до 10')"
   ]
  },
  {
   "cell_type": "code",
   "execution_count": 72,
   "metadata": {},
   "outputs": [
    {
     "name": "stdout",
     "output_type": "stream",
     "text": [
      "Сколько у тебя денег: 3000\n",
      "Эх, только фастфуд.\n"
     ]
    }
   ],
   "source": [
    "balance = float(input('Сколько у тебя денег: '))\n",
    "if balance <2500:\n",
    "    print('Придётся потерпеть!')\n",
    "elif balance <=5000:\n",
    "    print('Эх, только фастфуд.')\n",
    "else:\n",
    "    print('Сегодня твой выбор - ресторан!')"
   ]
  },
  {
   "cell_type": "code",
   "execution_count": 73,
   "metadata": {},
   "outputs": [
    {
     "name": "stdout",
     "output_type": "stream",
     "text": [
      "Придётся потерпеть!\n"
     ]
    }
   ],
   "source": [
    "balance = float(455)\n",
    "if balance <2500:\n",
    "    print('Придётся потерпеть!')\n",
    "elif balance <=5000:\n",
    "    print('Эх, только фастфуд.')\n",
    "else:\n",
    "    print('Сегодня твой выбор - ресторан!')"
   ]
  },
  {
   "cell_type": "code",
   "execution_count": 79,
   "metadata": {},
   "outputs": [
    {
     "name": "stdout",
     "output_type": "stream",
     "text": [
      "Введи любое число: 452\n",
      "Число делится на 2 без остатка.\n"
     ]
    }
   ],
   "source": [
    "number = int(input('Введи любое число: '))\n",
    "if number%2==0.0:\n",
    "    print('Число делится на 2 без остатка.')\n",
    "elif number%3==0.0:\n",
    "    print('Число делится на 3 без остатка.')\n",
    "elif number%5==0.0:\n",
    "    print('Число делится на 5 без остатка.')\n",
    "else:\n",
    "    print('Число не делится ни на 2, ни на 3, ни на 5 без остатка!')\n"
   ]
  },
  {
   "cell_type": "code",
   "execution_count": 77,
   "metadata": {},
   "outputs": [
    {
     "name": "stdout",
     "output_type": "stream",
     "text": [
      "Число делится на 2 без остатка.\n"
     ]
    }
   ],
   "source": [
    "number=452\n",
    "if number%2==0.0:\n",
    "    print('Число делится на 2 без остатка.')\n",
    "elif number%3==0.0:\n",
    "    print('Число делится на 3 без остатка.')\n",
    "elif number%5==0.0:\n",
    "    print('Число делится на 5 без остатка.')\n",
    "else:\n",
    "    print('Число не делится ни на 2, ни на 3, ни на 5 без остатка!')"
   ]
  },
  {
   "cell_type": "code",
   "execution_count": 80,
   "metadata": {},
   "outputs": [
    {
     "name": "stdout",
     "output_type": "stream",
     "text": [
      "Число делится на 2 без остатка.\n"
     ]
    }
   ],
   "source": [
    "number = 452\n",
    "if number%2==0.0:\n",
    "    print('Число делится на 2 без остатка.')\n",
    "elif number%3==0.0:\n",
    "    print('Число делится на 3 без остатка.')\n",
    "elif number%5==0.0:\n",
    "    print('Число делится на 5 без остатка.')\n",
    "else:\n",
    "    print('Число не делится ни на 2, ни на 3, ни на 5 без остатка!')"
   ]
  },
  {
   "cell_type": "code",
   "execution_count": 85,
   "metadata": {},
   "outputs": [
    {
     "name": "stdout",
     "output_type": "stream",
     "text": [
      "Напишите цвет: белый\n",
      "Напишите цветок: роза\n",
      "Ане понравятся эти цветы\n"
     ]
    }
   ],
   "source": [
    "color = input('Напишите цвет: ')\n",
    "flower = input('Напишите цветок: ')\n",
    "if (color == 'синий' or color == 'белый') and flower == 'роза':\n",
    "    print('Ане понравятся эти цветы')\n",
    "else:\n",
    "    print('Аня не любит такие цветы')"
   ]
  },
  {
   "cell_type": "code",
   "execution_count": 86,
   "metadata": {},
   "outputs": [
    {
     "name": "stdout",
     "output_type": "stream",
     "text": [
      "Аня не любит такие цветы\n"
     ]
    }
   ],
   "source": [
    "color = 'фиолетовый'\n",
    "flower = 'роза'\n",
    "if (color == 'синий' or color == 'белый') and flower == 'роза':\n",
    "    print('Ане понравятся эти цветы')\n",
    "else:\n",
    "    print('Аня не любит такие цветы')"
   ]
  },
  {
   "cell_type": "code",
   "execution_count": 89,
   "metadata": {},
   "outputs": [
    {
     "name": "stdout",
     "output_type": "stream",
     "text": [
      "Введите рост: 190\n",
      "Введите вес: 80\n",
      "Введите любимый цвет: красный\n",
      "Попробуем поискать ещё...\n"
     ]
    }
   ],
   "source": [
    "height = int(input('Введите рост: '))\n",
    "weight = int(input('Введите вес: '))\n",
    "color = str(input('Введите любимый цвет: '))\n",
    "if height >170 and weight <80 and color =='красный':\n",
    "    print('Ваша половинка нашлась!')\n",
    "else:\n",
    "    print('Попробуем поискать ещё...')"
   ]
  },
  {
   "cell_type": "code",
   "execution_count": 90,
   "metadata": {},
   "outputs": [
    {
     "name": "stdout",
     "output_type": "stream",
     "text": [
      "Попробуем поискать ещё...\n"
     ]
    }
   ],
   "source": [
    "height = 180\n",
    "weight = 92\n",
    "color = 'синий'\n",
    "if height >170 and weight <80 and color =='красный':\n",
    "    print('Ваша половинка нашлась!')\n",
    "else:\n",
    "    print('Попробуем поискать ещё...')"
   ]
  },
  {
   "cell_type": "code",
   "execution_count": 94,
   "metadata": {},
   "outputs": [
    {
     "name": "stdout",
     "output_type": "stream",
     "text": [
      "Введи целое число: 4325\n",
      "Вова, это нужное число\n"
     ]
    }
   ],
   "source": [
    "number = int(input('Введи целое число: '))\n",
    "if (number%2 ==0.0) or (number%5 == 0.0) or (number% 173 ==0.0) or (number%821 ==0.0):\n",
    "    print('Вова, это нужное число')\n",
    "else:\n",
    "    print('Вова, в этот раз ты не попал')"
   ]
  },
  {
   "cell_type": "code",
   "execution_count": 95,
   "metadata": {},
   "outputs": [
    {
     "name": "stdout",
     "output_type": "stream",
     "text": [
      "Вова, это нужное число\n"
     ]
    }
   ],
   "source": [
    "number = 346\n",
    "if (number%2 ==0.0) or (number%5 == 0.0) or (number% 173 ==0.0) or (number%821 ==0.0):\n",
    "    print('Вова, это нужное число')\n",
    "else:\n",
    "    print('Вова, в этот раз ты не попал')"
   ]
  },
  {
   "cell_type": "code",
   "execution_count": 98,
   "metadata": {},
   "outputs": [
    {
     "name": "stdout",
     "output_type": "stream",
     "text": [
      "Введите слово: плюс\n",
      "C++\n"
     ]
    }
   ],
   "source": [
    "fav_word = str(input('Введите слово: '))\n",
    "if fav_word =='рептилия' or fav_word =='питон' or fav_word =='змея':\n",
    "    print('Python')\n",
    "elif fav_word =='плюс' or fav_word =='плюсы':\n",
    "    print('C++')\n",
    "elif fav_word =='рубин' or fav_word =='кристалл':\n",
    "    print('Ruby')\n",
    "else:\n",
    "    print('Python')"
   ]
  },
  {
   "cell_type": "code",
   "execution_count": 99,
   "metadata": {},
   "outputs": [
    {
     "name": "stdout",
     "output_type": "stream",
     "text": [
      "Python\n"
     ]
    }
   ],
   "source": [
    "fav_word = 'Аппликация'\n",
    "if fav_word =='рептилия' or fav_word =='питон' or fav_word =='змея':\n",
    "    print('Python')\n",
    "elif fav_word =='плюс' or fav_word =='плюсы':\n",
    "    print('C++')\n",
    "elif fav_word =='рубин' or fav_word =='кристалл':\n",
    "    print('Ruby')\n",
    "else:\n",
    "    print('Python')"
   ]
  },
  {
   "cell_type": "code",
   "execution_count": 102,
   "metadata": {},
   "outputs": [
    {
     "name": "stdout",
     "output_type": "stream",
     "text": [
      "Введите слово: кактус\n",
      "Python\n"
     ]
    }
   ],
   "source": [
    "fav_word = str(input('Введите слово: '))\n",
    "if fav_word =='плюс' or fav_word =='плюсы':\n",
    "    print('C++')\n",
    "elif fav_word =='рубин' or fav_word =='кристалл':\n",
    "    print('Ruby')\n",
    "else:\n",
    "    print('Python')"
   ]
  },
  {
   "cell_type": "code",
   "execution_count": 104,
   "metadata": {},
   "outputs": [
    {
     "name": "stdout",
     "output_type": "stream",
     "text": [
      "Введите время (часы): 15\n",
      "Введите время (минуты): 20\n",
      "Преподаватель свободен.\n"
     ]
    }
   ],
   "source": [
    "hour = int(input('Введите время (часы): '))\n",
    "minute = int(input('Введите время (минуты): '))\n",
    "if (hour >10 and minute<30) or (hour>12 and (hour <13 and minute <40)) or (hour >15 and hour <18) or ((hour >19 and minute <30) and hour <20):\n",
    "    print('Преподаватель свободен.')\n",
    "else:\n",
    "    print('Преподаватель занят.')"
   ]
  },
  {
   "cell_type": "code",
   "execution_count": 105,
   "metadata": {},
   "outputs": [
    {
     "name": "stdout",
     "output_type": "stream",
     "text": [
      "Преподаватель занят.\n"
     ]
    }
   ],
   "source": [
    "hour = 18\n",
    "minute = 47\n",
    "if (hour >10 and minute<30) or (hour>12 and (hour <13 and minute <40)) or (hour >15 and hour <18) or ((hour >19 and minute <30) and hour <20):\n",
    "    print('Преподаватель свободен.')\n",
    "else:\n",
    "    print('Преподаватель занят.')"
   ]
  },
  {
   "cell_type": "code",
   "execution_count": 107,
   "metadata": {},
   "outputs": [
    {
     "name": "stdout",
     "output_type": "stream",
     "text": [
      "Вас сегодня зовут Алексей\n"
     ]
    }
   ],
   "source": [
    "name='Алексей'\n",
    "print('Вас сегодня зовут', name)"
   ]
  },
  {
   "cell_type": "code",
   "execution_count": 108,
   "metadata": {},
   "outputs": [
    {
     "name": "stdout",
     "output_type": "stream",
     "text": [
      "0 П\n",
      "1 р\n",
      "2 и\n",
      "3 в\n",
      "4 е\n",
      "5 т\n",
      "6 !\n"
     ]
    }
   ],
   "source": [
    "for i, letter in enumerate('Привет!'):\n",
    "    #Здесь i - номер итерации, а letter - символ номер i из строки 'Привет!'\n",
    "    print(i, letter)"
   ]
  },
  {
   "cell_type": "code",
   "execution_count": 111,
   "metadata": {},
   "outputs": [
    {
     "name": "stdout",
     "output_type": "stream",
     "text": [
      "Ваш возраст: 4\n",
      "Рекомендовано: \"Заяц в лабиринте\"\n"
     ]
    }
   ],
   "source": [
    "old = int(input('Ваш возраст: '))\n",
    " \n",
    "print('Рекомендовано:', end=' ')\n",
    " \n",
    "if 3 <= old < 6:\n",
    "    print('\"Заяц в лабиринте\"')\n",
    " \n",
    "if 6 <= old < 12:\n",
    "    print('\"Марсианин\"')\n",
    " \n",
    "if 12 <= old < 16:\n",
    "    print('\"Загадочный остров\"')\n",
    " \n",
    "if 16 <= old:\n",
    "    print('\"Поток сознания\"')"
   ]
  },
  {
   "cell_type": "code",
   "execution_count": 112,
   "metadata": {},
   "outputs": [
    {
     "name": "stdout",
     "output_type": "stream",
     "text": [
      "Ваш возраст: 35\n",
      "Рекомендовано: \"Поток сознания\"\n"
     ]
    }
   ],
   "source": [
    "old = int(input('Ваш возраст: '))\n",
    " \n",
    "print('Рекомендовано:', end=' ')\n",
    " \n",
    "if 3 <= old < 6:\n",
    "    print('\"Заяц в лабиринте\"')   \n",
    "elif 6 <= old < 12:\n",
    "    print('\"Марсианин\"')\n",
    "elif 12 <= old < 16:\n",
    "    print('\"Загадочный остров\"')\n",
    "elif 16 <= old:\n",
    "    print('\"Поток сознания\"')"
   ]
  },
  {
   "cell_type": "code",
   "execution_count": null,
   "metadata": {},
   "outputs": [],
   "source": []
  }
 ],
 "metadata": {
  "kernelspec": {
   "display_name": "Python 3",
   "language": "python",
   "name": "python3"
  },
  "language_info": {
   "codemirror_mode": {
    "name": "ipython",
    "version": 3
   },
   "file_extension": ".py",
   "mimetype": "text/x-python",
   "name": "python",
   "nbconvert_exporter": "python",
   "pygments_lexer": "ipython3",
   "version": "3.8.3"
  }
 },
 "nbformat": 4,
 "nbformat_minor": 4
}
