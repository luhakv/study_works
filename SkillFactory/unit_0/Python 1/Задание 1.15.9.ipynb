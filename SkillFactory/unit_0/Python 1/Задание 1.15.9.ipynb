{
 "cells": [
  {
   "cell_type": "code",
   "execution_count": 1,
   "metadata": {},
   "outputs": [
    {
     "name": "stdout",
     "output_type": "stream",
     "text": [
      "Введите слово: \n",
      "анна\n",
      "Введите слово: \n",
      "александр\n",
      "Введите слово: \n",
      "семья\n",
      "5.64621617328617\n"
     ]
    }
   ],
   "source": [
    "string_1 = input('Введите слово: \\n')\n",
    "string_2 = input('Введите слово: \\n')\n",
    "string_3 = input('Введите слово: \\n')\n",
    "print((len(string_1)*len(string_2)*len(string_3))**(1/3))"
   ]
  }
 ],
 "metadata": {
  "kernelspec": {
   "display_name": "Python 3",
   "language": "python",
   "name": "python3"
  },
  "language_info": {
   "codemirror_mode": {
    "name": "ipython",
    "version": 3
   },
   "file_extension": ".py",
   "mimetype": "text/x-python",
   "name": "python",
   "nbconvert_exporter": "python",
   "pygments_lexer": "ipython3",
   "version": "3.8.3"
  }
 },
 "nbformat": 4,
 "nbformat_minor": 4
}
