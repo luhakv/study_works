{
 "cells": [
  {
   "cell_type": "markdown",
   "metadata": {},
   "source": [
    "# Python. Начало"
   ]
  },
  {
   "cell_type": "markdown",
   "metadata": {},
   "source": [
    "## 1. Переменные. Вывод данных"
   ]
  },
  {
   "cell_type": "markdown",
   "metadata": {},
   "source": [
    "### 1.1. Простые математические действия. Вывод данных"
   ]
  },
  {
   "cell_type": "markdown",
   "metadata": {},
   "source": [
    "Простые арифметические действия с числами (на примере сложения):"
   ]
  },
  {
   "cell_type": "code",
   "execution_count": 2,
   "metadata": {},
   "outputs": [
    {
     "data": {
      "text/plain": [
       "11"
      ]
     },
     "execution_count": 2,
     "metadata": {},
     "output_type": "execute_result"
    }
   ],
   "source": [
    "6 + 5"
   ]
  },
  {
   "cell_type": "markdown",
   "metadata": {},
   "source": [
    "Простые арифметические действия и вывод результатов вычислений в понятном формате:"
   ]
  },
  {
   "cell_type": "code",
   "execution_count": 3,
   "metadata": {},
   "outputs": [
    {
     "name": "stdout",
     "output_type": "stream",
     "text": [
      "6 + 5 = 11\n"
     ]
    }
   ],
   "source": [
    "print('6 + 5 =', 6+5)"
   ]
  },
  {
   "cell_type": "code",
   "execution_count": 4,
   "metadata": {},
   "outputs": [
    {
     "name": "stdout",
     "output_type": "stream",
     "text": [
      "6 + 5 =11\n"
     ]
    }
   ],
   "source": [
    "print('6 + 5 =' + '11')"
   ]
  },
  {
   "cell_type": "code",
   "execution_count": 5,
   "metadata": {},
   "outputs": [
    {
     "name": "stdout",
     "output_type": "stream",
     "text": [
      "6 + 5 = 11\n"
     ]
    }
   ],
   "source": [
    "print('6 + 5 = {}'.format(6+5))"
   ]
  },
  {
   "cell_type": "markdown",
   "metadata": {},
   "source": [
    "Арифметические действия с использованием переменных:"
   ]
  },
  {
   "cell_type": "code",
   "execution_count": 6,
   "metadata": {},
   "outputs": [],
   "source": [
    "# Задаем значения переменных а и b:\n",
    "a = 24\n",
    "b = 50"
   ]
  },
  {
   "cell_type": "code",
   "execution_count": 7,
   "metadata": {},
   "outputs": [
    {
     "name": "stdout",
     "output_type": "stream",
     "text": [
      "24 + 50 = 74\n"
     ]
    }
   ],
   "source": [
    "# Выводим на экран результаты вычислений\n",
    "print('{} + {} = {}'.format(a, b, a+b))"
   ]
  },
  {
   "cell_type": "markdown",
   "metadata": {},
   "source": [
    "### 1.2. Типы переменных"
   ]
  },
  {
   "cell_type": "code",
   "execution_count": 8,
   "metadata": {},
   "outputs": [],
   "source": [
    "number1 = 25\n",
    "number2 = 3.14\n",
    "word = 'Hello!'\n",
    "letter = 'a'"
   ]
  },
  {
   "cell_type": "code",
   "execution_count": 9,
   "metadata": {},
   "outputs": [
    {
     "name": "stdout",
     "output_type": "stream",
     "text": [
      "Тип переменной number1 (25): <class 'int'>\n"
     ]
    }
   ],
   "source": [
    "# Сообщаем тип переменной number1\n",
    "print('Тип переменной number1 ({}): {}'.format(number1, type(number1)))"
   ]
  },
  {
   "cell_type": "code",
   "execution_count": 11,
   "metadata": {},
   "outputs": [
    {
     "name": "stdout",
     "output_type": "stream",
     "text": [
      "Тип переменной number2 (3.14): <class 'float'>\n"
     ]
    }
   ],
   "source": [
    "# Сообщаем тип переменной number2\n",
    "print('Тип переменной number2 ({}): {}'.format(number2, type(number2)))"
   ]
  },
  {
   "cell_type": "code",
   "execution_count": 12,
   "metadata": {},
   "outputs": [
    {
     "name": "stdout",
     "output_type": "stream",
     "text": [
      "Тип переменной word (Hello!): <class 'str'>\n"
     ]
    }
   ],
   "source": [
    "# Сообщаем тип переменной word\n",
    "print('Тип переменной word ({}): {}'.format(word, type(word)))"
   ]
  },
  {
   "cell_type": "code",
   "execution_count": 13,
   "metadata": {},
   "outputs": [
    {
     "name": "stdout",
     "output_type": "stream",
     "text": [
      "Тип переменной letter (a): <class 'str'>\n"
     ]
    }
   ],
   "source": [
    "# Сообщаем тип переменной letter\n",
    "print('Тип переменной letter ({}): {}'.format(letter, type(letter)))"
   ]
  },
  {
   "cell_type": "markdown",
   "metadata": {},
   "source": [
    "Экспериментируем с именами переменных:"
   ]
  },
  {
   "cell_type": "code",
   "execution_count": 14,
   "metadata": {},
   "outputs": [],
   "source": [
    "word = 25\n",
    "Word = 'Python'"
   ]
  },
  {
   "cell_type": "code",
   "execution_count": 16,
   "metadata": {},
   "outputs": [
    {
     "data": {
      "text/plain": [
       "str"
      ]
     },
     "execution_count": 16,
     "metadata": {},
     "output_type": "execute_result"
    }
   ],
   "source": [
    "type(Word)"
   ]
  },
  {
   "cell_type": "code",
   "execution_count": 25,
   "metadata": {},
   "outputs": [],
   "source": [
    "a = '2.8'"
   ]
  },
  {
   "cell_type": "code",
   "execution_count": 26,
   "metadata": {},
   "outputs": [],
   "source": [
    "a = float(a)"
   ]
  },
  {
   "cell_type": "code",
   "execution_count": 27,
   "metadata": {},
   "outputs": [],
   "source": [
    "a = int(a)"
   ]
  },
  {
   "cell_type": "code",
   "execution_count": 22,
   "metadata": {},
   "outputs": [
    {
     "data": {
      "text/plain": [
       "int"
      ]
     },
     "execution_count": 22,
     "metadata": {},
     "output_type": "execute_result"
    }
   ],
   "source": [
    "type(a)"
   ]
  },
  {
   "cell_type": "code",
   "execution_count": 28,
   "metadata": {},
   "outputs": [
    {
     "data": {
      "text/plain": [
       "2"
      ]
     },
     "execution_count": 28,
     "metadata": {},
     "output_type": "execute_result"
    }
   ],
   "source": [
    "a"
   ]
  },
  {
   "cell_type": "markdown",
   "metadata": {},
   "source": [
    "Переход от переменной одного типа к другому:"
   ]
  },
  {
   "cell_type": "code",
   "execution_count": 29,
   "metadata": {},
   "outputs": [
    {
     "name": "stdout",
     "output_type": "stream",
     "text": [
      "a = 17\n",
      "b = 58\n",
      "17 + 58 = 1758\n"
     ]
    }
   ],
   "source": [
    "# Неожиданный результат сложения:\n",
    "a = input('a = ')\n",
    "b = input('b = ')\n",
    "print('{} + {} = {}'.format(a, b, a+b))"
   ]
  },
  {
   "cell_type": "code",
   "execution_count": 30,
   "metadata": {},
   "outputs": [
    {
     "data": {
      "text/plain": [
       "str"
      ]
     },
     "execution_count": 30,
     "metadata": {},
     "output_type": "execute_result"
    }
   ],
   "source": [
    "type(a)"
   ]
  },
  {
   "cell_type": "code",
   "execution_count": 33,
   "metadata": {},
   "outputs": [
    {
     "name": "stdout",
     "output_type": "stream",
     "text": [
      "a = 17\n",
      "b = 58\n",
      "17 + 58 = 75\n"
     ]
    }
   ],
   "source": [
    "a = int(input('a = '))\n",
    "b = int(input('b = '))\n",
    "print('{} + {} = {}'.format(a, b, a+b))"
   ]
  },
  {
   "cell_type": "markdown",
   "metadata": {},
   "source": [
    "## 2. Условия"
   ]
  },
  {
   "cell_type": "markdown",
   "metadata": {},
   "source": [
    "### 2.1. Простые условия"
   ]
  },
  {
   "cell_type": "markdown",
   "metadata": {},
   "source": [
    "Поэкспериментируем с числами. Задача - определить, какое из двух чисел больше."
   ]
  },
  {
   "cell_type": "code",
   "execution_count": 40,
   "metadata": {},
   "outputs": [
    {
     "name": "stdout",
     "output_type": "stream",
     "text": [
      "a = 5\n",
      "b = 5\n",
      "5 = 5\n",
      "Проверка закончена! Ура!\n"
     ]
    }
   ],
   "source": [
    "a = int(input('a = '))\n",
    "b = int(input('b = '))\n",
    "if a > b:\n",
    "    print('{} > {}'.format(a,b))\n",
    "elif a < b:\n",
    "    print('{} < {}'.format(a,b))\n",
    "else:\n",
    "    print('{} = {}'.format(a,b))\n",
    "print('Проверка закончена! Ура!')"
   ]
  },
  {
   "cell_type": "markdown",
   "metadata": {},
   "source": [
    "А как сравнить строковые данные?"
   ]
  },
  {
   "cell_type": "code",
   "execution_count": 42,
   "metadata": {},
   "outputs": [
    {
     "data": {
      "text/plain": [
       "True"
      ]
     },
     "execution_count": 42,
     "metadata": {},
     "output_type": "execute_result"
    }
   ],
   "source": [
    "'кот' > 'кит'"
   ]
  },
  {
   "cell_type": "code",
   "execution_count": 46,
   "metadata": {},
   "outputs": [
    {
     "name": "stdout",
     "output_type": "stream",
     "text": [
      "Введите первое слово: Кот\n",
      "Введите второе слово: кот\n",
      "Сначала найдите в словаре слово \"Кот\", а потом - \"кот\"\n"
     ]
    }
   ],
   "source": [
    "word1 = input('Введите первое слово: ')\n",
    "word2 = input('Введите второе слово: ')\n",
    "\n",
    "if word1 < word2:\n",
    "    print('Сначала найдите в словаре слово \"{}\", а потом - \"{}\"'.format(word1, word2))\n",
    "elif word1 > word2:\n",
    "    print('Сначала найдите в словаре слово \"{}\", а потом - \"{}\"'.format(word2, word1))\n",
    "else:\n",
    "    print('Зачем вы ввели два одинаковых слова?')"
   ]
  },
  {
   "cell_type": "markdown",
   "metadata": {},
   "source": [
    "### 2.2. Вложенные условия. Составные условия. Логические операции"
   ]
  },
  {
   "cell_type": "markdown",
   "metadata": {},
   "source": [
    "Задание: сравнить два числа и:  \n",
    "1. Если первое число больше и при этом чётное - вывести кодовое слово \"синхрофазотрон\".  \n",
    "2. Если первое число больше и при этом нечётное - \"какаду\".  \n",
    "3. Если второе число больше и при этом чётное - \"прокрастинация\".  \n",
    "4. Если второе число больше и при этом нечётное - \"папоротник\".  \n",
    "5. Если числа одинаковые - \"безмятежность\".  \n",
    ":)  \n",
    "\n",
    "ВНИМАНИЕ! Задачу нужно решить двумя способами!"
   ]
  },
  {
   "cell_type": "code",
   "execution_count": 51,
   "metadata": {},
   "outputs": [
    {
     "name": "stdout",
     "output_type": "stream",
     "text": [
      "a = 5\n",
      "b = 5\n",
      "безмятежность\n"
     ]
    }
   ],
   "source": [
    "# Способ 1: с помощью вложенных условий\n",
    "a = int(input('a = '))\n",
    "b = int(input('b = '))\n",
    "if a > b:\n",
    "    if a%2 == 0:\n",
    "        print('синхрофазотрон')\n",
    "    else:\n",
    "        print('какаду')\n",
    "elif a < b:\n",
    "    if b%2 == 0:\n",
    "        print('прокрастинация')\n",
    "    else:\n",
    "        print('папоротник')\n",
    "else:\n",
    "    print('безмятежность')"
   ]
  },
  {
   "cell_type": "code",
   "execution_count": 56,
   "metadata": {},
   "outputs": [
    {
     "name": "stdout",
     "output_type": "stream",
     "text": [
      "a = 22\n",
      "b = 22\n",
      "безмятежность\n"
     ]
    }
   ],
   "source": [
    "# Способ 2: с помощью логических операторов\n",
    "a = int(input('a = '))\n",
    "b = int(input('b = '))\n",
    "\n",
    "if a>b and a%2==0:\n",
    "    print('синхрофазотрон')\n",
    "elif a>b and a%2!=0:\n",
    "    print('какаду')\n",
    "elif b>a and b%2==0:\n",
    "    print('прокрастинация')\n",
    "elif b>a and b%2!=0:\n",
    "    print('папоротник')\n",
    "else:\n",
    "    print('безмятежность')"
   ]
  },
  {
   "cell_type": "code",
   "execution_count": null,
   "metadata": {},
   "outputs": [],
   "source": []
  }
 ],
 "metadata": {
  "kernelspec": {
   "display_name": "Python 3",
   "language": "python",
   "name": "python3"
  },
  "language_info": {
   "codemirror_mode": {
    "name": "ipython",
    "version": 3
   },
   "file_extension": ".py",
   "mimetype": "text/x-python",
   "name": "python",
   "nbconvert_exporter": "python",
   "pygments_lexer": "ipython3",
   "version": "3.7.1"
  }
 },
 "nbformat": 4,
 "nbformat_minor": 2
}
