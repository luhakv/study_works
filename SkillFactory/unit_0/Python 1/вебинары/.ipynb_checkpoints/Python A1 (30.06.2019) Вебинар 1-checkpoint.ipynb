{
 "cells": [
  {
   "cell_type": "markdown",
   "metadata": {},
   "source": [
    "# Python. Начало"
   ]
  },
  {
   "cell_type": "markdown",
   "metadata": {},
   "source": [
    "## 1. Переменные. Вывод данных"
   ]
  },
  {
   "cell_type": "markdown",
   "metadata": {},
   "source": [
    "### 1.1. Простые математические действия. Вывод данных"
   ]
  },
  {
   "cell_type": "markdown",
   "metadata": {},
   "source": [
    "Простые арифметические действия с числами (на примере сложения):"
   ]
  },
  {
   "cell_type": "code",
   "execution_count": 1,
   "metadata": {},
   "outputs": [
    {
     "data": {
      "text/plain": [
       "30"
      ]
     },
     "execution_count": 1,
     "metadata": {},
     "output_type": "execute_result"
    }
   ],
   "source": [
    "12+18"
   ]
  },
  {
   "cell_type": "markdown",
   "metadata": {},
   "source": [
    "Простые арифметические действия и вывод результатов вычислений в понятном формате:"
   ]
  },
  {
   "cell_type": "code",
   "execution_count": 3,
   "metadata": {},
   "outputs": [
    {
     "name": "stdout",
     "output_type": "stream",
     "text": [
      "12 + 18 = 30\n"
     ]
    }
   ],
   "source": [
    "print('12 + 18 =', 12+18)"
   ]
  },
  {
   "cell_type": "code",
   "execution_count": 4,
   "metadata": {},
   "outputs": [
    {
     "name": "stdout",
     "output_type": "stream",
     "text": [
      "12 + 18 = 30\n"
     ]
    }
   ],
   "source": [
    "print('12 + 18 = {}'.format(12+18))"
   ]
  },
  {
   "cell_type": "markdown",
   "metadata": {},
   "source": [
    "Арифметические действия с использованием переменных:"
   ]
  },
  {
   "cell_type": "code",
   "execution_count": 9,
   "metadata": {},
   "outputs": [],
   "source": [
    "# Задаем значения переменных а и b:\n",
    "a = 30\n",
    "b = 97"
   ]
  },
  {
   "cell_type": "code",
   "execution_count": 11,
   "metadata": {},
   "outputs": [],
   "source": [
    "a = 111"
   ]
  },
  {
   "cell_type": "code",
   "execution_count": 13,
   "metadata": {},
   "outputs": [
    {
     "name": "stdout",
     "output_type": "stream",
     "text": [
      "{} + {} = {}\n"
     ]
    }
   ],
   "source": [
    "# Выводим на экран результаты вычислений\n",
    "print('{} + {} = {}'.format(a, b, a+b)) "
   ]
  },
  {
   "cell_type": "markdown",
   "metadata": {},
   "source": [
    "### 1.2. Типы переменных"
   ]
  },
  {
   "cell_type": "code",
   "execution_count": 14,
   "metadata": {},
   "outputs": [],
   "source": [
    "number1 = 25\n",
    "number2 = 3.14\n",
    "word = 'Hello!'\n",
    "letter = 'a'"
   ]
  },
  {
   "cell_type": "code",
   "execution_count": 15,
   "metadata": {},
   "outputs": [
    {
     "name": "stdout",
     "output_type": "stream",
     "text": [
      "Тип переменной number1 (25): <class 'int'>\n"
     ]
    }
   ],
   "source": [
    "# Сообщаем тип переменной number1\n",
    "print('Тип переменной number1 ({}): {}'.format(number1, type(number1)))"
   ]
  },
  {
   "cell_type": "code",
   "execution_count": 16,
   "metadata": {},
   "outputs": [
    {
     "name": "stdout",
     "output_type": "stream",
     "text": [
      "Тип переменной number2 (3.14): <class 'float'>\n"
     ]
    }
   ],
   "source": [
    "# Сообщаем тип переменной number2\n",
    "print('Тип переменной number2 ({}): {}'.format(number2, type(number2)))"
   ]
  },
  {
   "cell_type": "code",
   "execution_count": 17,
   "metadata": {},
   "outputs": [
    {
     "name": "stdout",
     "output_type": "stream",
     "text": [
      "Тип переменной word (Hello!): <class 'str'>\n"
     ]
    }
   ],
   "source": [
    "# Сообщаем тип переменной word\n",
    "print('Тип переменной word ({}): {}'.format(word, type(word)))"
   ]
  },
  {
   "cell_type": "code",
   "execution_count": 18,
   "metadata": {},
   "outputs": [
    {
     "name": "stdout",
     "output_type": "stream",
     "text": [
      "Тип переменной letter (a): <class 'str'>\n"
     ]
    }
   ],
   "source": [
    "# Сообщаем тип переменной letter\n",
    "print('Тип переменной letter ({}): {}'.format(letter, type(letter)))"
   ]
  },
  {
   "cell_type": "markdown",
   "metadata": {},
   "source": [
    "Экспериментируем с именами переменных:"
   ]
  },
  {
   "cell_type": "code",
   "execution_count": 19,
   "metadata": {},
   "outputs": [],
   "source": [
    "word = 25\n",
    "Word = 'Maria'"
   ]
  },
  {
   "cell_type": "code",
   "execution_count": 22,
   "metadata": {},
   "outputs": [
    {
     "data": {
      "text/plain": [
       "'Maria'"
      ]
     },
     "execution_count": 22,
     "metadata": {},
     "output_type": "execute_result"
    }
   ],
   "source": [
    "Word"
   ]
  },
  {
   "cell_type": "code",
   "execution_count": 21,
   "metadata": {},
   "outputs": [
    {
     "data": {
      "text/plain": [
       "int"
      ]
     },
     "execution_count": 21,
     "metadata": {},
     "output_type": "execute_result"
    }
   ],
   "source": [
    "type(word)"
   ]
  },
  {
   "cell_type": "markdown",
   "metadata": {},
   "source": [
    "Переход от переменной одного типа к другому:"
   ]
  },
  {
   "cell_type": "code",
   "execution_count": 23,
   "metadata": {},
   "outputs": [
    {
     "name": "stdout",
     "output_type": "stream",
     "text": [
      "a = 90\n",
      "b = 67\n",
      "90 + 67 = 9067\n"
     ]
    }
   ],
   "source": [
    "# Неожиданный результат сложения:\n",
    "a = input('a = ')\n",
    "b = input('b = ')\n",
    "print('{} + {} = {}'.format(a, b, a+b))"
   ]
  },
  {
   "cell_type": "code",
   "execution_count": 24,
   "metadata": {},
   "outputs": [
    {
     "data": {
      "text/plain": [
       "str"
      ]
     },
     "execution_count": 24,
     "metadata": {},
     "output_type": "execute_result"
    }
   ],
   "source": [
    "type(a)"
   ]
  },
  {
   "cell_type": "code",
   "execution_count": 25,
   "metadata": {},
   "outputs": [
    {
     "name": "stdout",
     "output_type": "stream",
     "text": [
      "a = 90\n",
      "b = 67\n",
      "90 + 67 = 157\n"
     ]
    }
   ],
   "source": [
    "a = int(input('a = '))\n",
    "b = int(input('b = '))\n",
    "print('{} + {} = {}'.format(a, b, a+b))"
   ]
  },
  {
   "cell_type": "markdown",
   "metadata": {},
   "source": [
    "## 2. Условия"
   ]
  },
  {
   "cell_type": "markdown",
   "metadata": {},
   "source": [
    "### 2.1. Простые условия"
   ]
  },
  {
   "cell_type": "markdown",
   "metadata": {},
   "source": [
    "Поэкспериментируем с числами. Задача - определить, какое из двух чисел больше."
   ]
  },
  {
   "cell_type": "code",
   "execution_count": 36,
   "metadata": {},
   "outputs": [
    {
     "name": "stdout",
     "output_type": "stream",
     "text": [
      "Wall time: 0 ns\n",
      "a = 4\n",
      "b = 4\n",
      "4 = 4\n",
      "Проверка закончена!\n"
     ]
    }
   ],
   "source": [
    "%time\n",
    "a = int(input('a = '))\n",
    "b = int(input('b = '))\n",
    "\n",
    "if a > b:\n",
    "    print('{} > {}'.format(a, b))\n",
    "elif a < b:\n",
    "    print('{} < {}'.format(a, b))\n",
    "else:\n",
    "    print('{} = {}'.format(a, b))\n",
    "print('Проверка закончена!')"
   ]
  },
  {
   "cell_type": "markdown",
   "metadata": {},
   "source": [
    "А как сравнить строковые данные?"
   ]
  },
  {
   "cell_type": "code",
   "execution_count": 43,
   "metadata": {},
   "outputs": [
    {
     "data": {
      "text/plain": [
       "False"
      ]
     },
     "execution_count": 43,
     "metadata": {},
     "output_type": "execute_result"
    }
   ],
   "source": [
    "'F' > 'f'"
   ]
  },
  {
   "cell_type": "code",
   "execution_count": 46,
   "metadata": {},
   "outputs": [
    {
     "name": "stdout",
     "output_type": "stream",
     "text": [
      "Введите первое слово: год\n",
      "Введите второе слово: год\n",
      "Зачем вы вводите одинавовые слова?\n"
     ]
    }
   ],
   "source": [
    "word1 = input('Введите первое слово: ')\n",
    "word2 = input('Введите второе слово: ')\n",
    "\n",
    "if word1 > word2:\n",
    "    print('Слово \"{}\" расположено в словаре перед словом \"{}\"'.format(word2, word1))\n",
    "elif word2 > word1:\n",
    "    print('Слово \"{}\" расположено в словаре перед словом \"{}\"'.format(word1, word2))\n",
    "else:\n",
    "    print('Зачем вы вводите одинаковые слова?')"
   ]
  },
  {
   "cell_type": "markdown",
   "metadata": {},
   "source": [
    "### 2.2. Вложенные условия"
   ]
  },
  {
   "cell_type": "markdown",
   "metadata": {},
   "source": [
    "Задание: сравнить два числа и:  \n",
    "1. Если первое число больше и при этом чётное - вывести кодовое слово \"синхрофазотрон\".  \n",
    "2. Если первое число больше и при этом нечётное - \"какаду\".  \n",
    "3. Если второе число больше и при этом чётное - \"прокрастинация\".  \n",
    "4. Если второе число больше и при этом нечётное - \"папоротник\".  \n",
    "5. Если числа одинаковые - \"безмятежность\".  \n",
    ":)"
   ]
  },
  {
   "cell_type": "code",
   "execution_count": 51,
   "metadata": {},
   "outputs": [
    {
     "name": "stdout",
     "output_type": "stream",
     "text": [
      "a = 22\n",
      "b = 73\n",
      "папоротник\n"
     ]
    }
   ],
   "source": [
    "a = int(input('a = '))\n",
    "b = int(input('b = '))\n",
    "if a > b:\n",
    "    if a%2 == 0:\n",
    "        print('синхрофазотрон')\n",
    "    else:\n",
    "        print('какаду')\n",
    "elif a < b:\n",
    "    if b%2 == 0:\n",
    "        print('прокрастинация')\n",
    "    else:\n",
    "        print('папоротник')\n",
    "else:\n",
    "    print('безмятежность')"
   ]
  },
  {
   "cell_type": "markdown",
   "metadata": {},
   "source": [
    "### 2.3. Составные условия. Логические операции"
   ]
  },
  {
   "cell_type": "code",
   "execution_count": 54,
   "metadata": {},
   "outputs": [
    {
     "name": "stdout",
     "output_type": "stream",
     "text": [
      "a=22\n",
      "b=73\n",
      "папоротник\n"
     ]
    }
   ],
   "source": [
    "a = int(input('a='))\n",
    "b = int(input('b='))\n",
    "if a > b and a%2 == 0:\n",
    "    print('синхрофазотрон')\n",
    "elif a > b and a%2 != 0:\n",
    "    print('какаду')\n",
    "elif a < b and b%2 == 0:\n",
    "    print('прокрастинация')\n",
    "elif a < b and b%2 != 0:\n",
    "    print('папоротник')\n",
    "else:\n",
    "    print('безмятежность')"
   ]
  },
  {
   "cell_type": "markdown",
   "metadata": {},
   "source": [
    "## 3. Циклы "
   ]
  },
  {
   "cell_type": "markdown",
   "metadata": {},
   "source": [
    "### 3.1. Синтаксис цикла с параметром"
   ]
  },
  {
   "cell_type": "markdown",
   "metadata": {},
   "source": [
    "Организация цикла "
   ]
  },
  {
   "cell_type": "code",
   "execution_count": 57,
   "metadata": {
    "scrolled": true
   },
   "outputs": [
    {
     "name": "stdout",
     "output_type": "stream",
     "text": [
      "1\n",
      "3\n",
      "5\n",
      "7\n",
      "9\n"
     ]
    }
   ],
   "source": [
    "for i in range(1,10,2):\n",
    "    print(i)"
   ]
  },
  {
   "cell_type": "markdown",
   "metadata": {},
   "source": [
    "Перебор чисел в заданном диапазоне (считаем сумму N натуральных чисел)"
   ]
  },
  {
   "cell_type": "code",
   "execution_count": 59,
   "metadata": {},
   "outputs": [
    {
     "name": "stdout",
     "output_type": "stream",
     "text": [
      "n = 10\n",
      "i = 1, summa = 1\n",
      "i = 2, summa = 3\n",
      "i = 3, summa = 6\n",
      "i = 4, summa = 10\n",
      "i = 5, summa = 15\n",
      "i = 6, summa = 21\n",
      "i = 7, summa = 28\n",
      "i = 8, summa = 36\n",
      "i = 9, summa = 45\n",
      "i = 10, summa = 55\n"
     ]
    },
    {
     "data": {
      "text/plain": [
       "55"
      ]
     },
     "execution_count": 59,
     "metadata": {},
     "output_type": "execute_result"
    }
   ],
   "source": [
    "n = int(input('n = '))\n",
    "summa = 0\n",
    "\n",
    "for i in range(1,n+1):\n",
    "    summa += i\n",
    "    print('i = {}, summa = {}'.format(i, summa))\n",
    "\n",
    "summa"
   ]
  },
  {
   "cell_type": "markdown",
   "metadata": {},
   "source": [
    "Перебор букв в строке"
   ]
  },
  {
   "cell_type": "code",
   "execution_count": 60,
   "metadata": {},
   "outputs": [
    {
     "name": "stdout",
     "output_type": "stream",
     "text": [
      "Как Вас зовут? Михаил\n",
      "М\n",
      "и\n",
      "х\n",
      "а\n",
      "и\n",
      "л\n"
     ]
    }
   ],
   "source": [
    "name = input('Как Вас зовут? ')\n",
    "for letter in name:\n",
    "    print(letter)"
   ]
  },
  {
   "cell_type": "markdown",
   "metadata": {},
   "source": [
    "### 3.2. Вложенные циклы"
   ]
  },
  {
   "cell_type": "code",
   "execution_count": 64,
   "metadata": {},
   "outputs": [
    {
     "name": "stdout",
     "output_type": "stream",
     "text": [
      "Это внешний цикл, number = 1\n",
      "      Ха-ха-ха!\n",
      "      Ха-ха-ха!\n",
      "      Ха-ха-ха!\n",
      "\n",
      "Это внешний цикл, number = 2\n",
      "      Ха-ха-ха!\n",
      "      Ха-ха-ха!\n",
      "      Ха-ха-ха!\n",
      "\n",
      "Это внешний цикл, number = 3\n",
      "      Ха-ха-ха!\n",
      "      Ха-ха-ха!\n",
      "      Ха-ха-ха!\n",
      "\n",
      "Это внешний цикл, number = 4\n",
      "      Ха-ха-ха!\n",
      "      Ха-ха-ха!\n",
      "      Ха-ха-ха!\n",
      "\n",
      "Это внешний цикл, number = 5\n",
      "      Ха-ха-ха!\n",
      "      Ха-ха-ха!\n",
      "      Ха-ха-ха!\n",
      "\n"
     ]
    }
   ],
   "source": [
    "for number in range(1, 6):\n",
    "    print('Это внешний цикл, number = {}'.format(number))\n",
    "    for i in range(3):\n",
    "        print('      Ха-ха-ха!')\n",
    "    print('')"
   ]
  },
  {
   "cell_type": "markdown",
   "metadata": {},
   "source": [
    "Задание: напишите программу, которая выводит на экран таблицу Пифагора (таблицу умножения)"
   ]
  },
  {
   "cell_type": "code",
   "execution_count": 67,
   "metadata": {},
   "outputs": [
    {
     "name": "stdout",
     "output_type": "stream",
     "text": [
      "Таблица Пифагора\n",
      "1\t2\t3\t4\t5\t6\t7\t8\t9\t\n",
      "2\t4\t6\t8\t10\t12\t14\t16\t18\t\n",
      "3\t6\t9\t12\t15\t18\t21\t24\t27\t\n",
      "4\t8\t12\t16\t20\t24\t28\t32\t36\t\n",
      "5\t10\t15\t20\t25\t30\t35\t40\t45\t\n",
      "6\t12\t18\t24\t30\t36\t42\t48\t54\t\n",
      "7\t14\t21\t28\t35\t42\t49\t56\t63\t\n",
      "8\t16\t24\t32\t40\t48\t56\t64\t72\t\n",
      "9\t18\t27\t36\t45\t54\t63\t72\t81\t\n"
     ]
    }
   ],
   "source": [
    "print('Таблица Пифагора')\n",
    "\n",
    "for i in range(1,10):\n",
    "    for j in range(1,10):\n",
    "        print(i*j, end = '\\t')\n",
    "    print()"
   ]
  },
  {
   "cell_type": "markdown",
   "metadata": {},
   "source": [
    "### Цикл While (цикл с предусловием)"
   ]
  },
  {
   "cell_type": "markdown",
   "metadata": {},
   "source": [
    "Напишите программу, которая спрашивает у пользователя: \"Как дела?\", - и на любой вариант ответа отвечает: \"Отлично, я рад!\". В случае, если пользователь введёт слово: \"Отстань!\", - программа должна попрощаться и завершить цикл."
   ]
  },
  {
   "cell_type": "code",
   "execution_count": 68,
   "metadata": {},
   "outputs": [
    {
     "name": "stdout",
     "output_type": "stream",
     "text": [
      "Как дела?прекрасно!\n",
      "Отлично! Я рад!\n",
      "Как дела?Хорошо\n",
      "Отлично! Я рад!\n",
      "Как дела?Плохо!\n",
      "Отлично! Я рад!\n",
      "Как дела?Отстань!\n",
      "Извините за беспокойство! Всего добррого!\n"
     ]
    }
   ],
   "source": [
    "while True:\n",
    "    answer = input('Как дела? ')\n",
    "    if answer == 'Отстань!':\n",
    "        print('Извините за беспокойство! Всего добррого!')\n",
    "        break\n",
    "    else:\n",
    "        print('Отлично! Я рад!')"
   ]
  },
  {
   "cell_type": "markdown",
   "metadata": {},
   "source": [
    "Предположим, что в некоторой стране доход предпринимателя, работающего по упрощённой системе налогообложения, не должен превышать 1,000,000 монет в год.\n",
    "Напишите программу, которая будет спрашивать предпринимателя, сколько монет он заработал в прошедшем месяце, и сообщать, сколько осталось заработать до достижения 1,000,000."
   ]
  },
  {
   "cell_type": "code",
   "execution_count": null,
   "metadata": {},
   "outputs": [],
   "source": []
  }
 ],
 "metadata": {
  "kernelspec": {
   "display_name": "Python 3",
   "language": "python",
   "name": "python3"
  },
  "language_info": {
   "codemirror_mode": {
    "name": "ipython",
    "version": 3
   },
   "file_extension": ".py",
   "mimetype": "text/x-python",
   "name": "python",
   "nbconvert_exporter": "python",
   "pygments_lexer": "ipython3",
   "version": "3.7.1"
  }
 },
 "nbformat": 4,
 "nbformat_minor": 2
}
