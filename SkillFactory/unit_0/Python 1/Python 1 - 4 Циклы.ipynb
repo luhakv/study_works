{
 "cells": [
  {
   "cell_type": "code",
   "execution_count": 5,
   "metadata": {},
   "outputs": [
    {
     "name": "stdout",
     "output_type": "stream",
     "text": [
      "п\n",
      "д\n",
      "и\n",
      "н\n",
      "к\n"
     ]
    }
   ],
   "source": [
    "word='подшипник'\n",
    "for i in range(len(word)):\n",
    "    if(i % 2 == 0):\n",
    "        print(word[i])"
   ]
  },
  {
   "cell_type": "code",
   "execution_count": 7,
   "metadata": {},
   "outputs": [
    {
     "name": "stdout",
     "output_type": "stream",
     "text": [
      "Введите любое слово: анечка\n",
      "а\n",
      "е\n",
      "к\n"
     ]
    }
   ],
   "source": [
    "word=input('Введите любое слово: ')\n",
    "for i in range(len(word)):\n",
    "    if(i % 2 == 0):\n",
    "        print(word[i])"
   ]
  },
  {
   "cell_type": "code",
   "execution_count": 16,
   "metadata": {},
   "outputs": [
    {
     "name": "stdout",
     "output_type": "stream",
     "text": [
      "Введите год: 2012\n",
      "Введите год: 2018\n",
      "2012 год високосный\n",
      "2013 год невисокосный\n",
      "2014 год невисокосный\n",
      "2015 год невисокосный\n",
      "2016 год високосный\n",
      "2017 год невисокосный\n",
      "2018 год невисокосный\n"
     ]
    }
   ],
   "source": [
    "year_1 = int(input('Введите год: '))\n",
    "year_2 = int(input('Введите год: '))\n",
    "for i in range(year_1, year_2+1):\n",
    "    if i%4 ==0:\n",
    "        print(i, 'год високосный')\n",
    "    else:\n",
    "        print(\n",
    "        i, 'год невисокосный')\n",
    "    "
   ]
  },
  {
   "cell_type": "code",
   "execution_count": 17,
   "metadata": {},
   "outputs": [
    {
     "name": "stdout",
     "output_type": "stream",
     "text": [
      "2013 год невисокосный\n",
      "2014 год невисокосный\n",
      "2015 год невисокосный\n",
      "2016 год високосный\n",
      "2017 год невисокосный\n",
      "2018 год невисокосный\n",
      "2019 год невисокосный\n",
      "2020 год високосный\n"
     ]
    }
   ],
   "source": [
    "year_1 = 2013\n",
    "year_2 = 2020\n",
    "for i in range(year_1, year_2+1):\n",
    "    if i%4 ==0:\n",
    "        print(i, 'год високосный')\n",
    "    else:\n",
    "        print(\n",
    "        i, 'год невисокосный')"
   ]
  },
  {
   "cell_type": "code",
   "execution_count": 21,
   "metadata": {},
   "outputs": [
    {
     "name": "stdout",
     "output_type": "stream",
     "text": [
      "Введите слово: Зимушка-зима\n",
      "и\n",
      "у\n",
      "а\n",
      "и\n",
      "а\n"
     ]
    }
   ],
   "source": [
    "word = input('Введите слово: ')\n",
    "for i, letter in enumerate(word):\n",
    "    if letter =='а' or letter =='е' or letter =='и' or letter =='ё' or letter =='о' or letter =='у' or letter =='ы' or letter =='э' or letter =='я' or letter =='ю':\n",
    "        print(letter)"
   ]
  },
  {
   "cell_type": "code",
   "execution_count": 22,
   "metadata": {},
   "outputs": [
    {
     "name": "stdout",
     "output_type": "stream",
     "text": [
      "и\n",
      "у\n",
      "а\n",
      "и\n",
      "а\n"
     ]
    }
   ],
   "source": [
    "word = 'Зимушка-зима'\n",
    "for i, letter in enumerate(word):\n",
    "    if letter =='а' or letter =='е' or letter =='и' or letter =='ё' or letter =='о' or letter =='у' or letter =='ы' or letter =='э' or letter =='я' or letter =='ю':\n",
    "        print(letter)"
   ]
  },
  {
   "cell_type": "code",
   "execution_count": 23,
   "metadata": {},
   "outputs": [
    {
     "name": "stdout",
     "output_type": "stream",
     "text": [
      "Введите имя: Анна\n",
      "Буква 1 в этом имени А\n",
      "Буква 2 в этом имени н\n",
      "Буква 3 в этом имени н\n",
      "Буква 4 в этом имени а\n"
     ]
    }
   ],
   "source": [
    "name = input('Введите имя: ')\n",
    "for i, letter in enumerate(name):\n",
    "    print('Буква',i+1,'в этом имени',letter)"
   ]
  },
  {
   "cell_type": "code",
   "execution_count": 24,
   "metadata": {},
   "outputs": [
    {
     "name": "stdout",
     "output_type": "stream",
     "text": [
      "Буква 1 в этом имени С\n",
      "Буква 2 в этом имени е\n",
      "Буква 3 в этом имени р\n",
      "Буква 4 в этом имени г\n",
      "Буква 5 в этом имени е\n",
      "Буква 6 в этом имени й\n"
     ]
    }
   ],
   "source": [
    "name = 'Сергей'\n",
    "for i, letter in enumerate(name):\n",
    "    print('Буква',i+1,'в этом имени',letter)"
   ]
  },
  {
   "cell_type": "code",
   "execution_count": 32,
   "metadata": {},
   "outputs": [
    {
     "name": "stdout",
     "output_type": "stream",
     "text": [
      "Введите число:15\n",
      "Введите число:83\n",
      "15\n",
      "21\n",
      "25\n",
      "27\n",
      "33\n",
      "35\n",
      "39\n",
      "45\n",
      "51\n",
      "55\n",
      "57\n",
      "63\n",
      "65\n",
      "69\n",
      "75\n",
      "81\n"
     ]
    }
   ],
   "source": [
    "num_1 = int(input('Введите число:'))\n",
    "num_2 = int(input('Введите число:'))\n",
    "for i in range(num_1, num_2+1):\n",
    "    if i%2==1 and (i%3 ==0 or i%5==0):\n",
    "        print(i)\n",
    "    else:\n",
    "        if num_2<num_1 or num_1<0:\n",
    "            print('Введён неверный диапазон чисел')"
   ]
  },
  {
   "cell_type": "code",
   "execution_count": 33,
   "metadata": {},
   "outputs": [
    {
     "name": "stdout",
     "output_type": "stream",
     "text": [
      "49.41177778422102\n"
     ]
    }
   ],
   "source": [
    "sum_squares = 0\n",
    "for i in range(20, 30):\n",
    "    sum_squares += i**(1/2)\n",
    "print(sum_squares)\n"
   ]
  },
  {
   "cell_type": "code",
   "execution_count": 34,
   "metadata": {},
   "outputs": [
    {
     "name": "stdout",
     "output_type": "stream",
     "text": [
      "2480 34020\n"
     ]
    }
   ],
   "source": [
    "sum_2 = 0\n",
    "sum_3 = 0\n",
    "for i in range(10, 26):\n",
    "    if i%2 == 0:\n",
    "        sum_2 += i**2\n",
    "    if i%3 == 0:\n",
    "        sum_3 += i**3\n",
    "else:\n",
    "    print(sum_2, sum_3)"
   ]
  },
  {
   "cell_type": "code",
   "execution_count": 35,
   "metadata": {},
   "outputs": [
    {
     "name": "stdout",
     "output_type": "stream",
     "text": [
      "5\n",
      "Факториал числа 5 равен 120\n"
     ]
    }
   ],
   "source": [
    "number = int(input())\n",
    "\n",
    "factorial = 1\n",
    "for i in range(1, number + 1):\n",
    "    factorial = factorial*i \n",
    "else:\n",
    "    print('Факториал числа', number, 'равен', factorial)"
   ]
  },
  {
   "cell_type": "code",
   "execution_count": 39,
   "metadata": {},
   "outputs": [
    {
     "name": "stdout",
     "output_type": "stream",
     "text": [
      "1 1 1\n",
      "2 4 8\n",
      "3 9 27\n",
      "4 16 64\n",
      "5 25 125\n",
      "6 36 216\n",
      "7 49 343\n",
      "8 64 512\n",
      "9 81 729\n",
      "10 100 1000\n"
     ]
    }
   ],
   "source": [
    "for i in range(1, 11):\n",
    "    print(i, i**2,i**3)"
   ]
  },
  {
   "cell_type": "code",
   "execution_count": 40,
   "metadata": {},
   "outputs": [
    {
     "name": "stdout",
     "output_type": "stream",
     "text": [
      "1 1 1\n",
      "2 4 8\n",
      "3 9 27\n",
      "4 16 64\n",
      "5 25 125\n",
      "6 36 216\n",
      "7 49 343\n",
      "8 64 512\n",
      "9 81 729\n",
      "10 100 1000\n"
     ]
    }
   ],
   "source": [
    "for i in range(1,11):\n",
    "    print(i, i**2, i**3)"
   ]
  },
  {
   "cell_type": "code",
   "execution_count": 46,
   "metadata": {},
   "outputs": [
    {
     "name": "stdout",
     "output_type": "stream",
     "text": [
      "Введите число: 52\n",
      "1\n",
      "2\n",
      "4\n",
      "13\n",
      "26\n",
      "52\n"
     ]
    }
   ],
   "source": [
    "number = int(input('Введите число: '))\n",
    "for i in range(1, number+1):\n",
    "    if number%i ==0:\n",
    "        print (i)"
   ]
  },
  {
   "cell_type": "code",
   "execution_count": 45,
   "metadata": {},
   "outputs": [
    {
     "name": "stdout",
     "output_type": "stream",
     "text": [
      "1\n"
     ]
    }
   ],
   "source": [
    "number = 84\n",
    "for i in range(1, number+1):\n",
    "    if number%i ==0:\n",
    "        print (i)"
   ]
  },
  {
   "cell_type": "code",
   "execution_count": 47,
   "metadata": {},
   "outputs": [
    {
     "name": "stdout",
     "output_type": "stream",
     "text": [
      "1\n",
      "2\n",
      "3\n",
      "4\n",
      "6\n",
      "7\n",
      "12\n",
      "14\n",
      "21\n",
      "28\n",
      "42\n",
      "84\n"
     ]
    }
   ],
   "source": [
    "number = 84\n",
    "for i in range (1,number+1):\n",
    "    if number%i==0:\n",
    "        print(i)"
   ]
  },
  {
   "cell_type": "code",
   "execution_count": 51,
   "metadata": {},
   "outputs": [
    {
     "name": "stdout",
     "output_type": "stream",
     "text": [
      "Введите число: 3\n",
      "Введите число: 69\n",
      "3\n"
     ]
    }
   ],
   "source": [
    "num_1 = int(input('Введите число: '))\n",
    "num_2 = int(input('Введите число: '))\n",
    "t = num_2+1\n",
    "if num_1<num_2:\n",
    "    t=num_1+1\n",
    "for i in range(2,t):\n",
    "    if num_2%i==0 and num_1%i==0:\n",
    "        print(i)"
   ]
  },
  {
   "cell_type": "code",
   "execution_count": 52,
   "metadata": {},
   "outputs": [
    {
     "name": "stdout",
     "output_type": "stream",
     "text": [
      "2\n"
     ]
    }
   ],
   "source": [
    "num_1 = 12\n",
    "num_2 = 38\n",
    "t = num_2+1\n",
    "if num_1<num_2:\n",
    "    t=num_1+1\n",
    "for i in range(2,t):\n",
    "    if num_2%i==0 and num_1%i==0:\n",
    "        print(i)"
   ]
  },
  {
   "cell_type": "code",
   "execution_count": 54,
   "metadata": {},
   "outputs": [
    {
     "name": "stdout",
     "output_type": "stream",
     "text": [
      "Введите число: 10\n",
      "55\n"
     ]
    }
   ],
   "source": [
    "#сумма Фибоначчи\n",
    "n = int(input('Введите число: '))\n",
    "fib_1=1\n",
    "fib_2=1\n",
    "for i in range (1,n+1):\n",
    "    if i==1 or i==2:\n",
    "        sum_fib=fib_1\n",
    "    else:\n",
    "        sum_fib=fib_1+fib_2\n",
    "        fib_1=fib_2\n",
    "        fib_2=sum_fib\n",
    "print(sum_fib)"
   ]
  },
  {
   "cell_type": "code",
   "execution_count": 55,
   "metadata": {},
   "outputs": [
    {
     "name": "stdout",
     "output_type": "stream",
     "text": [
      "55\n"
     ]
    }
   ],
   "source": [
    "n = 10\n",
    "fib_1=1\n",
    "fib_2=1\n",
    "for i in range (1,n+1):\n",
    "    if i==1 or i==2:\n",
    "        sum_fib=fib_1\n",
    "    else:\n",
    "        sum_fib=fib_1+fib_2\n",
    "        fib_1=fib_2\n",
    "        fib_2=sum_fib\n",
    "print(sum_fib)"
   ]
  },
  {
   "cell_type": "code",
   "execution_count": 57,
   "metadata": {},
   "outputs": [
    {
     "name": "stdout",
     "output_type": "stream",
     "text": [
      "Введите число: 6\n",
      "6 x 1 = 6\n",
      "6 x 2 = 12\n",
      "6 x 3 = 18\n",
      "6 x 4 = 24\n",
      "6 x 5 = 30\n",
      "6 x 6 = 36\n",
      "6 x 7 = 42\n",
      "6 x 8 = 48\n",
      "6 x 9 = 54\n",
      "6 x 10 = 60\n"
     ]
    }
   ],
   "source": [
    "number = int(input('Введите число: '))\n",
    "for i in range(1,11):\n",
    "    print(number, 'x', i, '=', number*i)"
   ]
  },
  {
   "cell_type": "code",
   "execution_count": 58,
   "metadata": {},
   "outputs": [
    {
     "name": "stdout",
     "output_type": "stream",
     "text": [
      "15 x 1 = 15\n",
      "15 x 2 = 30\n",
      "15 x 3 = 45\n",
      "15 x 4 = 60\n",
      "15 x 5 = 75\n",
      "15 x 6 = 90\n",
      "15 x 7 = 105\n",
      "15 x 8 = 120\n",
      "15 x 9 = 135\n",
      "15 x 10 = 150\n"
     ]
    }
   ],
   "source": [
    "number = 15\n",
    "for i in range(1,11):\n",
    "    print(number, 'x', i, '=', number*i)"
   ]
  },
  {
   "cell_type": "code",
   "execution_count": 59,
   "metadata": {},
   "outputs": [
    {
     "name": "stdout",
     "output_type": "stream",
     "text": [
      "4\n"
     ]
    }
   ],
   "source": [
    "#num_1 = int(input())\n",
    "#num_2 = int(input())\n",
    "num_1=1812\n",
    "num_2=2500\n",
    "# Определим минимальное из чисел, т.к. наибольший общий делитель необходимо искать начиная с минимального числа\n",
    "k=num_2\n",
    "if num_1<num_2:\n",
    "    k=num_1\n",
    "for i in range(k,0,-1):\n",
    "    if num_1%i==0.0 and num_2%i==0.0:\n",
    "        break\n",
    "if i!=1:\n",
    "    print(i)\n",
    "else:\n",
    "    print('Общих делителей не найдено')"
   ]
  },
  {
   "cell_type": "code",
   "execution_count": 63,
   "metadata": {},
   "outputs": [
    {
     "name": "stdout",
     "output_type": "stream",
     "text": [
      "с\n",
      "т\n",
      "р\n",
      "к\n",
      "ц\n",
      "и\n",
      "я\n"
     ]
    }
   ],
   "source": [
    "string = 'абстракция'\n",
    "for i, letter in enumerate(string):\n",
    "    if letter in'абв':\n",
    "        continue\n",
    "    print(letter)"
   ]
  },
  {
   "cell_type": "code",
   "execution_count": 65,
   "metadata": {},
   "outputs": [
    {
     "name": "stdout",
     "output_type": "stream",
     "text": [
      "Увы, это неправильный ответ\n",
      "Увы, это неправильный ответ\n",
      "Увы, это неправильный ответ\n",
      "Увы, это неправильный ответ\n",
      "Увы, это неправильный ответ\n",
      "Это безнадёжно!\n"
     ]
    }
   ],
   "source": [
    "string = 'Нет'\n",
    "count = 5\n",
    "for i in range(count):\n",
    "    i=i+1\n",
    "    if string =='Да':\n",
    "        print('Это отлично!')\n",
    "        break\n",
    "    elif i<count:\n",
    "        print('Увы, это неправильный ответ')\n",
    "        continue\n",
    "    else:\n",
    "        print('Увы, это неправильный ответ')\n",
    "        print('Это безнадёжно!')"
   ]
  },
  {
   "cell_type": "code",
   "execution_count": 5,
   "metadata": {},
   "outputs": [
    {
     "name": "stdout",
     "output_type": "stream",
     "text": [
      "Введите число: 665\n",
      "Не является простым\n"
     ]
    }
   ],
   "source": [
    "number=int(input('Введите число: '))\n",
    "for i in range(2, number+1):\n",
    "    if i==number:\n",
    "        print('Простое') \n",
    "    elif number%i==0 and i<number:\n",
    "        print('Не является простым')\n",
    "        break\n",
    "    else:\n",
    "        continue"
   ]
  },
  {
   "cell_type": "code",
   "execution_count": 11,
   "metadata": {},
   "outputs": [
    {
     "name": "stdout",
     "output_type": "stream",
     "text": [
      "Простое\n"
     ]
    }
   ],
   "source": [
    "number=173\n",
    "for i in range(2, number+1):\n",
    "    if i==number:\n",
    "        print('Простое') \n",
    "    elif number%i==0 and i<number:\n",
    "        print('Не является простым')\n",
    "        break\n",
    "    else:\n",
    "        continue"
   ]
  },
  {
   "cell_type": "code",
   "execution_count": 19,
   "metadata": {},
   "outputs": [
    {
     "name": "stdout",
     "output_type": "stream",
     "text": [
      "Какая хорошая строка!\n"
     ]
    }
   ],
   "source": [
    "string='прелестная строка'\n",
    "string='пока!'\n",
    "count=len(string)\n",
    "for i, letter in enumerate(string):\n",
    "    if i%2==0:\n",
    "        if letter in 'аоиеёэыуюя':\n",
    "            print('Строка мне не нравится!')\n",
    "            break\n",
    "else:\n",
    "    print('Какая хорошая строка!')"
   ]
  },
  {
   "cell_type": "code",
   "execution_count": 23,
   "metadata": {},
   "outputs": [
    {
     "name": "stdout",
     "output_type": "stream",
     "text": [
      "Деньги удвоятся через 7 лет\n"
     ]
    }
   ],
   "source": [
    "money = 1\n",
    "year = 0\n",
    "yearly_multiplier = 1.06 #это 6%\n",
    "\n",
    "while money < 2:\n",
    "    money = money*yearly_multiplier\n",
    "    year += 1\n",
    "else:\n",
    "    print('Деньги удвоятся через', year, 'лет')"
   ]
  },
  {
   "cell_type": "code",
   "execution_count": 24,
   "metadata": {},
   "outputs": [
    {
     "name": "stdout",
     "output_type": "stream",
     "text": [
      "Деньги удвоятся через 5 лет\n"
     ]
    }
   ],
   "source": [
    "money = 1\n",
    "year = 0\n",
    "yearly_multiplier = 1.15 #это 15%\n",
    "\n",
    "while money < 2:\n",
    "    money = money*yearly_multiplier\n",
    "    year += 1\n",
    "else:\n",
    "    print('Деньги удвоятся через', year, 'лет')"
   ]
  },
  {
   "cell_type": "code",
   "execution_count": 28,
   "metadata": {},
   "outputs": [
    {
     "name": "stdout",
     "output_type": "stream",
     "text": [
      "Введите имеющуюся сумму: 2000\n",
      "Введите желаему сумму: 4000\n",
      "8\n"
     ]
    }
   ],
   "source": [
    "y = int(input('Введите имеющуюся сумму: '))\n",
    "z = int(input('Введите желаему сумму: '))\n",
    "year = 0\n",
    "while y<z:\n",
    "    y = y*1.1 #сумма должна умножаться на %\n",
    "    year+= 1\n",
    "else:\n",
    "    print(year)"
   ]
  },
  {
   "cell_type": "code",
   "execution_count": 45,
   "metadata": {},
   "outputs": [
    {
     "name": "stdout",
     "output_type": "stream",
     "text": [
      "19\n"
     ]
    }
   ],
   "source": [
    "y = 170000\n",
    "z = 1000000\n",
    "year = 0\n",
    "while y<z:\n",
    "    y = y*1.1 \n",
    "    year+= 1\n",
    "else:\n",
    "    print(year)"
   ]
  },
  {
   "cell_type": "code",
   "execution_count": 32,
   "metadata": {},
   "outputs": [
    {
     "name": "stdout",
     "output_type": "stream",
     "text": [
      "Введите вес: 402\n",
      "Перевес 2 кг\n"
     ]
    }
   ],
   "source": [
    "weight = int(input('Введите вес: '))\n",
    "weight_sum = 0\n",
    "while weight_sum<400:\n",
    "    weight_sum = weight_sum + weight\n",
    "else:\n",
    "        print('Перевес', weight_sum-400, 'кг')"
   ]
  },
  {
   "cell_type": "code",
   "execution_count": 37,
   "metadata": {},
   "outputs": [
    {
     "name": "stdout",
     "output_type": "stream",
     "text": [
      "Введите вес: 77\n",
      "Перевес 62 кг\n"
     ]
    }
   ],
   "source": [
    "weight = int(input('Введите вес: '))\n",
    "weight_sum = 0\n",
    "while weight_sum<400:\n",
    "    weight_sum = weight_sum + weight\n",
    "else:\n",
    "        print('Перевес', weight_sum-400, 'кг')"
   ]
  },
  {
   "cell_type": "code",
   "execution_count": 44,
   "metadata": {},
   "outputs": [
    {
     "name": "stdout",
     "output_type": "stream",
     "text": [
      "Перевес 62 кг\n"
     ]
    }
   ],
   "source": [
    "weight = 77\n",
    "sum_weight = 0\n",
    "while sum_weight <400:\n",
    "    sum_weight = sum_weight + weight\n",
    "else:\n",
    "    print('Перевес', sum_weight-400, 'кг')\n"
   ]
  },
  {
   "cell_type": "code",
   "execution_count": 49,
   "metadata": {},
   "outputs": [
    {
     "name": "stdout",
     "output_type": "stream",
     "text": [
      "7\n"
     ]
    }
   ],
   "source": [
    "current_health = 500\n",
    "attack = 80\n",
    "sec = 0\n",
    "while current_health>0:\n",
    "    current_health = current_health - attack\n",
    "    sec+=1\n",
    "else:\n",
    "    print(sec)"
   ]
  },
  {
   "cell_type": "code",
   "execution_count": 53,
   "metadata": {},
   "outputs": [
    {
     "name": "stdout",
     "output_type": "stream",
     "text": [
      "10000\n",
      "7200\n",
      "4400\n",
      "1600\n",
      "Слишком большие расходы\n"
     ]
    }
   ],
   "source": [
    "balance = int(input('Введите баланс'))\n",
    "spent = int(input('Введите расход'))\n",
    "while balance>0:\n",
    "        print(balance)\n",
    "        balance = balance-spent\n",
    "else:\n",
    "    print('Слишком большие расходы')"
   ]
  },
  {
   "cell_type": "code",
   "execution_count": 54,
   "metadata": {},
   "outputs": [
    {
     "name": "stdout",
     "output_type": "stream",
     "text": [
      "10000\n",
      "7200\n",
      "4400\n",
      "1600\n",
      "Слишком большие расходы\n"
     ]
    }
   ],
   "source": [
    "balance = 10000\n",
    "spent = 2800\n",
    "while balance>0:\n",
    "        print(balance)\n",
    "        balance = balance-spent\n",
    "else:\n",
    "    print('Слишком большие расходы')"
   ]
  },
  {
   "cell_type": "code",
   "execution_count": 59,
   "metadata": {},
   "outputs": [
    {
     "name": "stdout",
     "output_type": "stream",
     "text": [
      "20\n"
     ]
    }
   ],
   "source": [
    "volume = 1000\n",
    "t = 0  #t - количество раз\n",
    "step = 0\n",
    "while volume > 0:\n",
    "    t+=1\n",
    "    step+=5\n",
    "    volume = volume - step\n",
    "else:\n",
    "    print(t)"
   ]
  },
  {
   "cell_type": "code",
   "execution_count": 60,
   "metadata": {},
   "outputs": [
    {
     "name": "stdout",
     "output_type": "stream",
     "text": [
      "6765\n"
     ]
    }
   ],
   "source": [
    "n = 20\n",
    "\n",
    "fib1 = 1\n",
    "fib2 = 1\n",
    "if n == 0:\n",
    "    print(0)\n",
    "elif n <= 2:\n",
    "    print(1)\n",
    "else:\n",
    "    for n in range(2, n):\n",
    "        fib_sum = fib1 + fib2\n",
    "        fib1 = fib2\n",
    "        fib2 = fib_sum\n",
    "    else:\n",
    "        print(fib2)\n",
    "  "
   ]
  },
  {
   "cell_type": "code",
   "execution_count": 62,
   "metadata": {},
   "outputs": [
    {
     "name": "stdout",
     "output_type": "stream",
     "text": [
      "9\n"
     ]
    }
   ],
   "source": [
    "last = 10\n",
    "first = 7\n",
    "\n",
    "if last < first or first < 0:\n",
    "    print(\"Введён неверный диапазон чисел\")\n",
    "else:\n",
    "    for i in range(first, last + 1):\n",
    "        if i%2 == 1 and (i%3 == 0 or i%5 == 0):\n",
    "            print(i)"
   ]
  },
  {
   "cell_type": "code",
   "execution_count": 65,
   "metadata": {},
   "outputs": [
    {
     "name": "stdout",
     "output_type": "stream",
     "text": [
      "3\n"
     ]
    }
   ],
   "source": [
    "for i in range(10):\n",
    "    if i>=3:\n",
    "        break\n",
    "print(i)"
   ]
  },
  {
   "cell_type": "code",
   "execution_count": 66,
   "metadata": {},
   "outputs": [
    {
     "name": "stdout",
     "output_type": "stream",
     "text": [
      "12\n"
     ]
    }
   ],
   "source": [
    "count = 1\n",
    "while count<27:\n",
    "    if count%2==0:\n",
    "        to_print = 12\n",
    "    else:\n",
    "        to_print = 10\n",
    "    count+=1\n",
    "print(to_print)\n",
    "    "
   ]
  },
  {
   "cell_type": "code",
   "execution_count": null,
   "metadata": {},
   "outputs": [],
   "source": []
  }
 ],
 "metadata": {
  "kernelspec": {
   "display_name": "Python 3",
   "language": "python",
   "name": "python3"
  },
  "language_info": {
   "codemirror_mode": {
    "name": "ipython",
    "version": 3
   },
   "file_extension": ".py",
   "mimetype": "text/x-python",
   "name": "python",
   "nbconvert_exporter": "python",
   "pygments_lexer": "ipython3",
   "version": "3.8.3"
  }
 },
 "nbformat": 4,
 "nbformat_minor": 4
}
