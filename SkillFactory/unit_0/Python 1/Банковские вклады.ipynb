{
 "cells": [
  {
   "cell_type": "code",
   "execution_count": 1,
   "metadata": {},
   "outputs": [
    {
     "name": "stdout",
     "output_type": "stream",
     "text": [
      "Деньги удвоятся через 12 лет\n"
     ]
    }
   ],
   "source": [
    "money = 1\n",
    "year = 0\n",
    "yearly_multiplier = 1.06 #это 6%\n",
    "\n",
    "while money < 2:\n",
    "    money = money*yearly_multiplier\n",
    "    year += 1\n",
    "else:\n",
    "    print('Деньги удвоятся через', year, 'лет')"
   ]
  },
  {
   "cell_type": "code",
   "execution_count": null,
   "metadata": {},
   "outputs": [],
   "source": [
    "#через сколько лет деньги дорастут до желаемой суммы при 10% годовых\n",
    "y = int(input('Введите имеющуюся сумму: '))\n",
    "z = int(input('Введите желаему сумму: '))\n",
    "year = 0\n",
    "while y<z:\n",
    "    y = y*1.1 #10% годовых\n",
    "    year+= 1\n",
    "else:\n",
    "    print(year)"
   ]
  }
 ],
 "metadata": {
  "kernelspec": {
   "display_name": "Python 3",
   "language": "python",
   "name": "python3"
  },
  "language_info": {
   "codemirror_mode": {
    "name": "ipython",
    "version": 3
   },
   "file_extension": ".py",
   "mimetype": "text/x-python",
   "name": "python",
   "nbconvert_exporter": "python",
   "pygments_lexer": "ipython3",
   "version": "3.8.3"
  }
 },
 "nbformat": 4,
 "nbformat_minor": 4
}
