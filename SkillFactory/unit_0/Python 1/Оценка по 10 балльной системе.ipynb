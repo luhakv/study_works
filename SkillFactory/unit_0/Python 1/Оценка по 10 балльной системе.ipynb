{
 "cells": [
  {
   "cell_type": "code",
   "execution_count": 1,
   "metadata": {},
   "outputs": [
    {
     "name": "stdout",
     "output_type": "stream",
     "text": [
      "Введите число от 1 до 10: 5\n",
      "удовлетворительно\n"
     ]
    }
   ],
   "source": [
    "mark = (int(input('Введите число от 1 до 10: ')))\n",
    "if 1<mark<=4:\n",
    "    print('неудовлетворительно')\n",
    "elif 4<mark<=5:\n",
    "    print('удовлетворительно')\n",
    "elif 5<mark<=7:\n",
    "    print('хорошо')\n",
    "elif 8<=mark<=10:\n",
    "    print('отлично')\n",
    "else:\n",
    "    print('Введите число от 1 до 10')"
   ]
  },
  {
   "cell_type": "code",
   "execution_count": null,
   "metadata": {},
   "outputs": [],
   "source": []
  }
 ],
 "metadata": {
  "kernelspec": {
   "display_name": "Python 3",
   "language": "python",
   "name": "python3"
  },
  "language_info": {
   "codemirror_mode": {
    "name": "ipython",
    "version": 3
   },
   "file_extension": ".py",
   "mimetype": "text/x-python",
   "name": "python",
   "nbconvert_exporter": "python",
   "pygments_lexer": "ipython3",
   "version": "3.8.3"
  }
 },
 "nbformat": 4,
 "nbformat_minor": 4
}
