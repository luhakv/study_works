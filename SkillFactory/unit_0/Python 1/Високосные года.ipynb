{
 "cells": [
  {
   "cell_type": "code",
   "execution_count": 1,
   "metadata": {},
   "outputs": [
    {
     "name": "stdout",
     "output_type": "stream",
     "text": [
      "Введите год: 1985\n",
      "Введите год: 1990\n",
      "1985 год невисокосный\n",
      "1986 год невисокосный\n",
      "1987 год невисокосный\n",
      "1988 год високосный\n",
      "1989 год невисокосный\n",
      "1990 год невисокосный\n"
     ]
    }
   ],
   "source": [
    "year_1 = int(input('Введите год: '))\n",
    "year_2 = int(input('Введите год: '))\n",
    "for i in range(year_1, year_2+1):\n",
    "    if i%4 ==0:\n",
    "        print(i, 'год високосный')\n",
    "    else:\n",
    "        print(\n",
    "        i, 'год невисокосный')"
   ]
  },
  {
   "cell_type": "code",
   "execution_count": null,
   "metadata": {},
   "outputs": [],
   "source": []
  }
 ],
 "metadata": {
  "kernelspec": {
   "display_name": "Python 3",
   "language": "python",
   "name": "python3"
  },
  "language_info": {
   "codemirror_mode": {
    "name": "ipython",
    "version": 3
   },
   "file_extension": ".py",
   "mimetype": "text/x-python",
   "name": "python",
   "nbconvert_exporter": "python",
   "pygments_lexer": "ipython3",
   "version": "3.8.3"
  }
 },
 "nbformat": 4,
 "nbformat_minor": 4
}
