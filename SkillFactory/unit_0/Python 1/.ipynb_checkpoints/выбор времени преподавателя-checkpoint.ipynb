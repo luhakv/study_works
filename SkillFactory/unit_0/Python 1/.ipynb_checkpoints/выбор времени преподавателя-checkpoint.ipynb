{
 "cells": [
  {
   "cell_type": "code",
   "execution_count": 2,
   "metadata": {},
   "outputs": [
    {
     "name": "stdout",
     "output_type": "stream",
     "text": [
      "Введите время (часы): 18\n",
      "Введите время (минуты): 20\n",
      "Преподаватель свободен.\n"
     ]
    }
   ],
   "source": [
    "hour = int(input('Введите время (часы): '))\n",
    "minute = int(input('Введите время (минуты): '))\n",
    "if (hour >10 and minute<30) or (hour>12 and (hour <13 and minute <40)) or (hour >15 and hour <18) or ((hour >19 and minute <30) and hour <20):\n",
    "    print('Преподаватель свободен.')\n",
    "else:\n",
    "    print('Преподаватель занят.')"
   ]
  },
  {
   "cell_type": "code",
   "execution_count": null,
   "metadata": {},
   "outputs": [],
   "source": []
  }
 ],
 "metadata": {
  "kernelspec": {
   "display_name": "Python 3",
   "language": "python",
   "name": "python3"
  },
  "language_info": {
   "codemirror_mode": {
    "name": "ipython",
    "version": 3
   },
   "file_extension": ".py",
   "mimetype": "text/x-python",
   "name": "python",
   "nbconvert_exporter": "python",
   "pygments_lexer": "ipython3",
   "version": "3.8.3"
  }
 },
 "nbformat": 4,
 "nbformat_minor": 4
}
