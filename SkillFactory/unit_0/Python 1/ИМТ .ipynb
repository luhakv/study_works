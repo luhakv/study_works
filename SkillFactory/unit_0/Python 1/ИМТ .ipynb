{
 "cells": [
  {
   "cell_type": "code",
   "execution_count": 2,
   "metadata": {},
   "outputs": [
    {
     "name": "stdout",
     "output_type": "stream",
     "text": [
      "Введите ваш вес: 50\n",
      "Введите ваш рост в метрах: 1.58\n",
      "20.028841531805796\n"
     ]
    }
   ],
   "source": [
    "weight = float(input('Введите ваш вес: '))\n",
    "height = float(input('Введите ваш рост в метрах: '))\n",
    "print(weight / (height)**2)"
   ]
  },
  {
   "cell_type": "code",
   "execution_count": 3,
   "metadata": {},
   "outputs": [
    {
     "name": "stdout",
     "output_type": "stream",
     "text": [
      "Введите ваш вес: 50\n",
      "Введите ваш рост в метрах: 1.58\n",
      "Норма\n"
     ]
    }
   ],
   "source": [
    "weight = float(input('Введите ваш вес: '))\n",
    "height = float(input('Введите ваш рост в метрах: '))\n",
    "imt = (weight / (height)**2)\n",
    "if imt < 18.5:\n",
    "    print('Недостаточная масса тела')\n",
    "elif imt <=24.99:\n",
    "    print('Норма')\n",
    "else:\n",
    "    print('Избыточная масса тела')"
   ]
  },
  {
   "cell_type": "code",
   "execution_count": null,
   "metadata": {},
   "outputs": [],
   "source": []
  }
 ],
 "metadata": {
  "kernelspec": {
   "display_name": "Python 3",
   "language": "python",
   "name": "python3"
  },
  "language_info": {
   "codemirror_mode": {
    "name": "ipython",
    "version": 3
   },
   "file_extension": ".py",
   "mimetype": "text/x-python",
   "name": "python",
   "nbconvert_exporter": "python",
   "pygments_lexer": "ipython3",
   "version": "3.8.3"
  }
 },
 "nbformat": 4,
 "nbformat_minor": 4
}
