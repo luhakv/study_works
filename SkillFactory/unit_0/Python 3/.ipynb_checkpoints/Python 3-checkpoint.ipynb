{
 "cells": [
  {
   "cell_type": "code",
   "execution_count": 1,
   "metadata": {},
   "outputs": [
    {
     "data": {
      "text/plain": [
       "str"
      ]
     },
     "execution_count": 1,
     "metadata": {},
     "output_type": "execute_result"
    }
   ],
   "source": [
    "my_string = ''\n",
    "type(my_string)"
   ]
  },
  {
   "cell_type": "code",
   "execution_count": 2,
   "metadata": {},
   "outputs": [
    {
     "name": "stdout",
     "output_type": "stream",
     "text": [
      "каждый\n",
      "охотник\n",
      "желает\n",
      "знать\n",
      "где\n",
      "сидит\n",
      "фазан\n"
     ]
    }
   ],
   "source": [
    "rainbow_list = 'каждый охотник желает знать где сидит фазан'.split()\n",
    "for word in rainbow_list:\n",
    "    print(word)"
   ]
  },
  {
   "cell_type": "code",
   "execution_count": 4,
   "metadata": {},
   "outputs": [
    {
     "name": "stdout",
     "output_type": "stream",
     "text": [
      "каждый\n",
      "охотник\n",
      "желает\n",
      "знать\n",
      "где\n",
      "сидит\n",
      "фазан\n",
      "красный\n",
      "оранжевый\n",
      "жёлтый\n",
      "зелёный\n",
      "голубой\n",
      "синий\n",
      "фиолетовый\n",
      "каждый красный\n",
      "охотник оранжевый\n",
      "желает жёлтый\n",
      "знать зелёный\n",
      "где голубой\n",
      "сидит синий\n",
      "фазан фиолетовый\n"
     ]
    }
   ],
   "source": [
    "rainbow_dict = {'каждый': 'красный', \n",
    "                'охотник': 'оранжевый', \n",
    "                'желает': 'жёлтый', \n",
    "                'знать': 'зелёный', \n",
    "                'где': 'голубой', \n",
    "                'сидит': 'синий', \n",
    "                'фазан': 'фиолетовый'}\n",
    "\n",
    "# Перебираем ключи\n",
    "for word in rainbow_dict.keys():\n",
    "    print(word)\n",
    "\n",
    "# Перебираем значения\n",
    "for color in rainbow_dict.values():\n",
    "    print(color)\n",
    "\n",
    "# Перебираем пары ключ-значение\n",
    "for word, color in rainbow_dict.items():\n",
    "    print(word, color)"
   ]
  },
  {
   "cell_type": "code",
   "execution_count": 8,
   "metadata": {},
   "outputs": [
    {
     "name": "stdout",
     "output_type": "stream",
     "text": [
      "Вы - самый крутой студент в SkillFactory"
     ]
    }
   ],
   "source": [
    "string = 'Вы - самый крутой студент в SkillFactory'\n",
    "for letter in string:\n",
    "    print(letter, end = '')"
   ]
  },
  {
   "cell_type": "code",
   "execution_count": 10,
   "metadata": {},
   "outputs": [
    {
     "data": {
      "text/plain": [
       "'Программист'"
      ]
     },
     "execution_count": 10,
     "metadata": {},
     "output_type": "execute_result"
    }
   ],
   "source": [
    "proverb = 'Программисты - это устройства, преобразующие кофеин в код.'\n",
    "proverb[:11]"
   ]
  },
  {
   "cell_type": "code",
   "execution_count": 13,
   "metadata": {},
   "outputs": [
    {
     "data": {
      "text/plain": [
       "'кофе'"
      ]
     },
     "execution_count": 13,
     "metadata": {},
     "output_type": "execute_result"
    }
   ],
   "source": [
    "proverb[-13:-9]"
   ]
  },
  {
   "cell_type": "code",
   "execution_count": 14,
   "metadata": {},
   "outputs": [
    {
     "data": {
      "text/plain": [
       "'устройства'"
      ]
     },
     "execution_count": 14,
     "metadata": {},
     "output_type": "execute_result"
    }
   ],
   "source": [
    "proverb[19:29]"
   ]
  },
  {
   "cell_type": "code",
   "execution_count": 15,
   "metadata": {},
   "outputs": [],
   "source": [
    "result = proverb[19:28],'о'"
   ]
  },
  {
   "cell_type": "code",
   "execution_count": 21,
   "metadata": {},
   "outputs": [
    {
     "data": {
      "text/plain": [
       "'устройство'"
      ]
     },
     "execution_count": 21,
     "metadata": {},
     "output_type": "execute_result"
    }
   ],
   "source": [
    "proverb = 'Программисты - это устройства, преобразующие кофеин в код.'\n",
    "\n",
    "proverb.split()[3][:-2]+'о'"
   ]
  },
  {
   "cell_type": "code",
   "execution_count": 23,
   "metadata": {},
   "outputs": [
    {
     "data": {
      "text/plain": [
       "'устройство'"
      ]
     },
     "execution_count": 23,
     "metadata": {},
     "output_type": "execute_result"
    }
   ],
   "source": [
    "proverb = 'Программисты - это устройства, преобразующие кофеин в код.'\n",
    "proverb[19:28]+'о'"
   ]
  },
  {
   "cell_type": "code",
   "execution_count": 30,
   "metadata": {},
   "outputs": [
    {
     "name": "stdout",
     "output_type": "stream",
     "text": [
      "рПгоарммсиыт- э оту тсорсйвт,ап ербоарузщюеик фоие н вок.д\n"
     ]
    }
   ],
   "source": [
    "proverb = 'Программисты - это устройства, преобразующие кофеин в код.'\n",
    "\n",
    "new_proverb = ''\n",
    "index_new = 0\n",
    "\n",
    "for i in range(0, len(proverb)):\n",
    "    if i % 2 == 0:\n",
    "        index_new = i + 1\n",
    "    else:\n",
    "        index_new = i - 1\n",
    "    new_proverb += proverb[index_new]\n",
    "print(new_proverb)"
   ]
  },
  {
   "cell_type": "code",
   "execution_count": 35,
   "metadata": {},
   "outputs": [
    {
     "name": "stdout",
     "output_type": "stream",
     "text": [
      "маам\n",
      "Слово \"маам\" является палиндромом\n"
     ]
    }
   ],
   "source": [
    "basic_word = input()\n",
    "inverted_word = basic_word[::-1]\n",
    "\n",
    "if inverted_word == basic_word:\n",
    "    print('Слово \"{}\" является палиндромом'.format(basic_word))\n",
    "else:\n",
    "    print('Слово \"{}\" - это не палиндром'. format(basic_word))\n",
    "    "
   ]
  },
  {
   "cell_type": "code",
   "execution_count": 36,
   "metadata": {},
   "outputs": [
    {
     "name": "stdout",
     "output_type": "stream",
     "text": [
      "Слово \"программирование\" - это не палиндром\n"
     ]
    }
   ],
   "source": [
    "basic_word = 'программирование'\n",
    "inverted_word = basic_word[::-1]\n",
    "\n",
    "if inverted_word == basic_word:\n",
    "    print('Слово \"{}\" является палиндромом'.format(basic_word))\n",
    "else:\n",
    "    print('Слово \"{}\" - это не палиндром'. format(basic_word))"
   ]
  },
  {
   "cell_type": "code",
   "execution_count": 37,
   "metadata": {},
   "outputs": [
    {
     "name": "stdout",
     "output_type": "stream",
     "text": [
      "Число городов со сложными названиями - 3\n"
     ]
    }
   ],
   "source": [
    "city_list = ['Москва', 'Санкт-Петербург', 'Новосибирск', \n",
    "             'Екатеринбург', 'Нижний Новгород', 'Казань', \n",
    "             'Челябинск', 'Омск', 'Самара', 'Ростов-на-Дону']\n",
    "counter = 0\n",
    "for city in city_list:\n",
    "    if ' ' in city or '-' in city:\n",
    "        counter += 1\n",
    "print('Число городов со сложными названиями - {}'.format(counter))"
   ]
  },
  {
   "cell_type": "code",
   "execution_count": 38,
   "metadata": {},
   "outputs": [
    {
     "data": {
      "text/plain": [
       "'skillfactory.ru'"
      ]
     },
     "execution_count": 38,
     "metadata": {},
     "output_type": "execute_result"
    }
   ],
   "source": [
    "email = 'VeryBigBoss@skillfactory.ru'\n",
    "pos = email.find('@')\n",
    "domain = email[pos+1:]\n",
    "domain"
   ]
  },
  {
   "cell_type": "code",
   "execution_count": 39,
   "metadata": {},
   "outputs": [
    {
     "data": {
      "text/plain": [
       "'gmail.com'"
      ]
     },
     "execution_count": 39,
     "metadata": {},
     "output_type": "execute_result"
    }
   ],
   "source": [
    "email = 'h.lubneuskaya@gmail.com'\n",
    "znak = email.find('@')\n",
    "domain = email[znak+1:]\n",
    "domain"
   ]
  },
  {
   "cell_type": "code",
   "execution_count": 40,
   "metadata": {},
   "outputs": [
    {
     "name": "stdout",
     "output_type": "stream",
     "text": [
      "4\n"
     ]
    }
   ],
   "source": [
    "tongue_twister = 'Ехал Грека через реку, видит Грека - в реке рак. Сунул Грека руку в реку, рак за руку Греку - цап!'\n",
    "counter = tongue_twister.count('Грек')\n",
    "print(counter)"
   ]
  },
  {
   "cell_type": "code",
   "execution_count": 41,
   "metadata": {},
   "outputs": [],
   "source": [
    "proverbs = ['Без труда не вытянешь и рыбку из пруда', \n",
    "            'Терпение и труд всё перетрут', \n",
    "            'Работа не волк - в лес не убежит', \n",
    "            'Чем труднее дело, тем выше честь', \n",
    "            'Учиться, учиться и учиться!']\n",
    "\n",
    "counter = 0\n",
    "for proverb in proverbs:\n",
    "    if 'труд' in proverb:\n",
    "        counter += 1"
   ]
  },
  {
   "cell_type": "code",
   "execution_count": 42,
   "metadata": {},
   "outputs": [
    {
     "data": {
      "text/plain": [
       "3"
      ]
     },
     "execution_count": 42,
     "metadata": {},
     "output_type": "execute_result"
    }
   ],
   "source": [
    "counter"
   ]
  },
  {
   "cell_type": "code",
   "execution_count": 43,
   "metadata": {},
   "outputs": [
    {
     "data": {
      "text/plain": [
       "'это'"
      ]
     },
     "execution_count": 43,
     "metadata": {},
     "output_type": "execute_result"
    }
   ],
   "source": [
    "proverb = 'Хорошо написанная программа - это программа, написанная 2 раза'\n",
    "\n",
    "while True:\n",
    "    index = proverb.find('программа')\n",
    "    if index == -1:\n",
    "        break\n",
    "    secret = proverb[:index].split()[-1]\n",
    "    proverb = proverb[index+9:] \n",
    "secret"
   ]
  },
  {
   "cell_type": "code",
   "execution_count": 44,
   "metadata": {},
   "outputs": [
    {
     "data": {
      "text/plain": [
       "'gmail.com'"
      ]
     },
     "execution_count": 44,
     "metadata": {},
     "output_type": "execute_result"
    }
   ],
   "source": [
    "email[email.find('@')+1:]"
   ]
  },
  {
   "cell_type": "code",
   "execution_count": 46,
   "metadata": {},
   "outputs": [
    {
     "data": {
      "text/plain": [
       "'gmail.com'"
      ]
     },
     "execution_count": 46,
     "metadata": {},
     "output_type": "execute_result"
    }
   ],
   "source": [
    "email[email.find('@')+1:]"
   ]
  },
  {
   "cell_type": "code",
   "execution_count": 47,
   "metadata": {},
   "outputs": [],
   "source": [
    "number = 56.257"
   ]
  },
  {
   "cell_type": "code",
   "execution_count": 50,
   "metadata": {},
   "outputs": [
    {
     "name": "stdout",
     "output_type": "stream",
     "text": [
      "14\n"
     ]
    }
   ],
   "source": [
    "number = 56.257\n",
    "i = str(number)[str(number).find('.') + 1:] # Отделяем дробную часть числа\n",
    "cont = 0\n",
    "for n in i:\n",
    "    cont += int(n)\n",
    "print(cont)"
   ]
  },
  {
   "cell_type": "markdown",
   "metadata": {},
   "source": [
    "number = 56.257\n",
    "i = str(number)[str(number).find('.') + 1:] # Отделяем дробную часть числа\n",
    "cont = 0\n",
    "for n in i:\n",
    "    cont += int(n)\n",
    "print(cont)"
   ]
  },
  {
   "cell_type": "raw",
   "metadata": {},
   "source": [
    "number = "
   ]
  },
  {
   "cell_type": "raw",
   "metadata": {},
   "source": [
    "number = 56.257\n",
    "i = str(number)[str(number).find('.') + 1:] # Отделяем дробную часть числа\n",
    "cont = 0\n",
    "for n in i:\n",
    "    cont += int(n)\n",
    "print(cont)"
   ]
  },
  {
   "cell_type": "code",
   "execution_count": 51,
   "metadata": {},
   "outputs": [
    {
     "name": "stdout",
     "output_type": "stream",
     "text": [
      "14\n"
     ]
    }
   ],
   "source": [
    "number = 56.257\n",
    "cifra = str(number)[str(number).find('.')+1:]\n",
    "counter = 0\n",
    "for i in cifra:\n",
    "    counter+=int(i)\n",
    "print(counter)"
   ]
  },
  {
   "cell_type": "code",
   "execution_count": 54,
   "metadata": {},
   "outputs": [
    {
     "name": "stdout",
     "output_type": "stream",
     "text": [
      "{'mail.ru': 3, 'yandex.ru': 5, 'gmail.com': 2}\n"
     ]
    }
   ],
   "source": [
    "emails_list = ['vasya@mail.ru', \n",
    "          'akakiy@yandex.ru', \n",
    "          'spyderman@yandex.ru', \n",
    "          'XFiles@gmail.com', \n",
    "          'hello@mail.ru', \n",
    "          'noname@gmail.com', \n",
    "          'DonaldTrump@mail.ru', \n",
    "          'a768#af@yandex.ru', \n",
    "          'Ivan_Ivanovich@yandex.ru', \n",
    "          'thebestmail@yandex.ru']\n",
    "      \n",
    "emails_dict = {}\n",
    "domain_list = []\n",
    "\n",
    "for i in emails_list:\n",
    "    domain_list.append(i[i.find('@')+1:])\n",
    "    \n",
    "import collections\n",
    "c = collections.Counter()\n",
    "for j in domain_list:\n",
    "    c[j] += 1\n",
    "emails_dict = dict(c)\n",
    "print(emails_dict)"
   ]
  },
  {
   "cell_type": "code",
   "execution_count": 53,
   "metadata": {},
   "outputs": [],
   "source": [
    "emails_list = ['vasya@mail.ru', \n",
    "          'akakiy@yandex.ru', \n",
    "          'spyderman@yandex.ru', \n",
    "          'XFiles@gmail.com', \n",
    "          'hello@mail.ru', \n",
    "          'noname@gmail.com', \n",
    "          'DonaldTrump@mail.ru', \n",
    "          'a768#af@yandex.ru', \n",
    "          'Ivan_Ivanovich@yandex.ru', \n",
    "          'thebestmail@yandex.ru']\n",
    "\n",
    "emails_dict = {}\n",
    "domain_list = []\n",
    "\n",
    "for i in emails_list:\n",
    "    domain_list.append(i[i.find('@')+1:])\n",
    "\n",
    "import collections\n",
    "c = collections.Counter()\n",
    "for n in domain_list:\n",
    "    c[n] += 1\n",
    "emails_dict = dict(c)"
   ]
  },
  {
   "cell_type": "code",
   "execution_count": 55,
   "metadata": {},
   "outputs": [
    {
     "name": "stdout",
     "output_type": "stream",
     "text": [
      "{'mail.ru': 3, 'yandex.ru': 5, 'gmail.com': 2}\n"
     ]
    }
   ],
   "source": [
    "print(emails_dict)"
   ]
  },
  {
   "cell_type": "code",
   "execution_count": 59,
   "metadata": {},
   "outputs": [
    {
     "name": "stdout",
     "output_type": "stream",
     "text": [
      "Введите ДА или НЕТ: да\n",
      "Вы ответили \"ДА\"! Я счастлив!\n"
     ]
    }
   ],
   "source": [
    "answer = input('Введите ДА или НЕТ: ')\n",
    "if answer == 'ДА' or answer == 'да' or answer == 'Да' or answer == 'дА':\n",
    "    print('Вы ответили \"ДА\"! Я счастлив!')"
   ]
  },
  {
   "cell_type": "code",
   "execution_count": 60,
   "metadata": {},
   "outputs": [
    {
     "name": "stdout",
     "output_type": "stream",
     "text": [
      "Введите ДА или НЕТ: да\n",
      "Вы ответили \"ДА\"! Я счастлив!\n"
     ]
    }
   ],
   "source": [
    "answer = input('Введите ДА или НЕТ: ')\n",
    "if answer.lower() == 'да':\n",
    "    print('Вы ответили \"ДА\"! Я счастлив!')"
   ]
  },
  {
   "cell_type": "code",
   "execution_count": 61,
   "metadata": {},
   "outputs": [
    {
     "name": "stdout",
     "output_type": "stream",
     "text": [
      "да\n"
     ]
    }
   ],
   "source": [
    "print(answer)"
   ]
  },
  {
   "cell_type": "code",
   "execution_count": 62,
   "metadata": {},
   "outputs": [
    {
     "name": "stdout",
     "output_type": "stream",
     "text": [
      "[3.14, 2.71, 6.02, 11.22, 123.987]\n"
     ]
    }
   ],
   "source": [
    "new_numbers = []\n",
    "for number in '3,14 2,71 6,02 11,22 123,987'.split():\n",
    "    new_numbers.append(float(number.replace(',', '.')))\n",
    "print(new_numbers)"
   ]
  },
  {
   "cell_type": "code",
   "execution_count": 63,
   "metadata": {},
   "outputs": [
    {
     "data": {
      "text/plain": [
       "'лучшее'"
      ]
     },
     "execution_count": 63,
     "metadata": {},
     "output_type": "execute_result"
    }
   ],
   "source": [
    "string = 'Интернет-открытки - это лучшее средство для мужчины сказать женщине о своих чувствах прямо в глаза.'\n",
    "secret = string[24:30]\n",
    "new_string = string.replace(secret.lower(), secret.upper()) \n",
    "secret"
   ]
  },
  {
   "cell_type": "code",
   "execution_count": 68,
   "metadata": {},
   "outputs": [
    {
     "name": "stdout",
     "output_type": "stream",
     "text": [
      "Тяжёлая интернет:)зависимость :) это когда ты выходишь из интернета:) а он из тебя нет:)\n"
     ]
    }
   ],
   "source": [
    "string = 'Тяжёлая интернет-зависимость - это когда ты выходишь из интернета, а он из тебя нет.'\n",
    "symbol = '.,:-?!'\n",
    "znak = ':)'\n",
    "\n",
    "for letter in string:\n",
    "    if letter in symbol:\n",
    "        string=string.replace(letter,znak)\n",
    "print(string)"
   ]
  },
  {
   "cell_type": "code",
   "execution_count": 76,
   "metadata": {},
   "outputs": [
    {
     "name": "stdout",
     "output_type": "stream",
     "text": [
      "С - согласная буква\n",
      "е - гласная буква\n",
      "в - согласная буква\n",
      "а - гласная буква\n",
      "с - согласная буква\n",
      "т - согласная буква\n",
      "и - гласная буква\n",
      "а - гласная буква\n",
      "н - согласная буква\n"
     ]
    }
   ],
   "source": [
    "name = 'Севастиан'\n",
    "glas=['а','о','и','е','ё','э','ы','у','ю','я']\n",
    "soglas=['б','в','г','д','ж','з','й','к','л','м','н','п','р','с','т','ф','х','ц','ч','ш','щ']\n",
    "for letter in name:\n",
    "    if letter.lower() in glas:\n",
    "        print('{} - гласная буква'.format(letter))\n",
    "    elif letter.lower()  in soglas:\n",
    "        print('{} - согласная буква'.format(letter))"
   ]
  },
  {
   "cell_type": "code",
   "execution_count": 73,
   "metadata": {},
   "outputs": [
    {
     "name": "stdout",
     "output_type": "stream",
     "text": [
      "Анна\n",
      "А - гласная буква\n",
      "н - согласная буква\n",
      "н - согласная буква\n",
      "а - гласная буква\n"
     ]
    }
   ],
   "source": [
    "name = input()\n",
    "glas=['а','о','и','е','ё','э','ы','у','ю','я']\n",
    "soglas=['б','в','г','д','ж','з','й','к','л','м','н','п','р','с','т','ф','х','ц','ч','ш','щ']\n",
    "for letter in name:\n",
    "    if letter.lower() in glas:\n",
    "        print('{} - гласная буква'.format(letter))\n",
    "    elif letter.lower()  in soglas:\n",
    "        print('{} - согласная буква'.format(letter))"
   ]
  },
  {
   "cell_type": "code",
   "execution_count": 77,
   "metadata": {},
   "outputs": [
    {
     "name": "stdout",
     "output_type": "stream",
     "text": [
      "С - согласная буква\n",
      "е - гласная буква\n",
      "в - согласная буква\n",
      "а - гласная буква\n",
      "с - согласная буква\n",
      "т - согласная буква\n",
      "и - гласная буква\n",
      "а - гласная буква\n",
      "н - согласная буква\n"
     ]
    }
   ],
   "source": [
    "name = 'Севастиан'\n",
    "glas = 'а, е, ё, и, о, у, ы, э, ю, я'.split(', ')\n",
    "for i in name:\n",
    "    if i.lower() in glas:\n",
    "        print('{} - гласная буква'.format(i))\n",
    "    else:\n",
    "        print('{} - согласная буква'.format(i))"
   ]
  },
  {
   "cell_type": "code",
   "execution_count": 79,
   "metadata": {},
   "outputs": [
    {
     "name": "stdout",
     "output_type": "stream",
     "text": [
      "Виктория\n",
      "В - согласная буква\n",
      "и - гласная буква\n",
      "к - согласная буква\n",
      "т - согласная буква\n",
      "о - гласная буква\n",
      "р - согласная буква\n",
      "и - гласная буква\n",
      "я - гласная буква\n"
     ]
    }
   ],
   "source": [
    "name = input()\n",
    "glas = 'а, е, ё, и, о, у, ы, э, ю, я'.split(', ')\n",
    "for i in name:\n",
    "    if i.lower() in glas:\n",
    "        print('{} - гласная буква'.format(i))\n",
    "    else:\n",
    "        print('{} - согласная буква'.format(i))"
   ]
  },
  {
   "cell_type": "code",
   "execution_count": 80,
   "metadata": {},
   "outputs": [],
   "source": [
    "import re "
   ]
  },
  {
   "cell_type": "code",
   "execution_count": 81,
   "metadata": {},
   "outputs": [],
   "source": [
    "pattern = re.compile('[А-Я][а-я]*\\W')"
   ]
  },
  {
   "cell_type": "code",
   "execution_count": 93,
   "metadata": {},
   "outputs": [],
   "source": [
    "string = '!!! Йо! Учиться, учиться и учиться! Вперёд! Только вперёд!' \n"
   ]
  },
  {
   "cell_type": "code",
   "execution_count": 94,
   "metadata": {},
   "outputs": [],
   "source": [
    "pattern.match(string)"
   ]
  },
  {
   "cell_type": "code",
   "execution_count": 95,
   "metadata": {},
   "outputs": [
    {
     "data": {
      "text/plain": [
       "<re.Match object; span=(4, 7), match='Йо!'>"
      ]
     },
     "execution_count": 95,
     "metadata": {},
     "output_type": "execute_result"
    }
   ],
   "source": [
    "pattern.search(string)"
   ]
  },
  {
   "cell_type": "code",
   "execution_count": 96,
   "metadata": {},
   "outputs": [
    {
     "data": {
      "text/plain": [
       "['Йо!', 'Учиться,', 'Только ']"
      ]
     },
     "execution_count": 96,
     "metadata": {},
     "output_type": "execute_result"
    }
   ],
   "source": []
  },
  {
   "cell_type": "code",
   "execution_count": 106,
   "metadata": {},
   "outputs": [],
   "source": [
    "import re \n",
    "text = re.compile('\\d+')\n",
    "text = 'Разработка языка Python была начата в конце 1980-х годов сотрудником голландского института CWI Гвидо ван Россумом. Для распределённой ОС Amoeba требовался расширяемый скриптовый язык, и Гвидо начал писать Python на досуге, позаимствовав некоторые наработки для языка ABC (Гвидо участвовал в разработке этого языка, ориентированного на обучение программированию). В феврале 1991 года Гвидо опубликовал исходный текст в группе новостей alt.sources. Название языка произошло вовсе не от вида пресмыкающихся. Автор назвал язык в честь популярного британского комедийного телешоу 1970-х \"Летающий цирк Монти Пайтона\".'"
   ]
  },
  {
   "cell_type": "code",
   "execution_count": 110,
   "metadata": {},
   "outputs": [],
   "source": [
    "pattern.match(text)"
   ]
  },
  {
   "cell_type": "code",
   "execution_count": 111,
   "metadata": {},
   "outputs": [
    {
     "data": {
      "text/plain": [
       "<re.Match object; span=(44, 48), match='1980'>"
      ]
     },
     "execution_count": 111,
     "metadata": {},
     "output_type": "execute_result"
    }
   ],
   "source": [
    "pattern.search(text)"
   ]
  },
  {
   "cell_type": "code",
   "execution_count": 112,
   "metadata": {},
   "outputs": [
    {
     "data": {
      "text/plain": [
       "['1980', '1991', '1970']"
      ]
     },
     "execution_count": 112,
     "metadata": {},
     "output_type": "execute_result"
    }
   ],
   "source": [
    "pattern.findall(text)"
   ]
  },
  {
   "cell_type": "code",
   "execution_count": 124,
   "metadata": {},
   "outputs": [],
   "source": [
    "import re \n",
    "text_2 = re.compile('[а-и]')\n",
    "text_2 = 'Разработка языка Python была начата в конце 1980-х годов сотрудником голландского института CWI Гвидо ван Россумом. Для распределённой ОС Amoeba требовался расширяемый скриптовый язык, и Гвидо начал писать Python на досуге, позаимствовав некоторые наработки для языка ABC (Гвидо участвовал в разработке этого языка, ориентированного на обучение программированию). В феврале 1991 года Гвидо опубликовал исходный текст в группе новостей alt.sources. Название языка произошло вовсе не от вида пресмыкающихся. Автор назвал язык в честь популярного британского комедийного телешоу 1970-х \"Летающий цирк Монти Пайтона\".'"
   ]
  },
  {
   "cell_type": "code",
   "execution_count": 125,
   "metadata": {},
   "outputs": [
    {
     "data": {
      "text/plain": [
       "['1980', '1991', '1970']"
      ]
     },
     "execution_count": 125,
     "metadata": {},
     "output_type": "execute_result"
    }
   ],
   "source": [
    "pattern.findall(text_2)"
   ]
  },
  {
   "cell_type": "code",
   "execution_count": 1,
   "metadata": {},
   "outputs": [],
   "source": [
    "import re"
   ]
  },
  {
   "cell_type": "code",
   "execution_count": 4,
   "metadata": {},
   "outputs": [
    {
     "name": "stdout",
     "output_type": "stream",
     "text": [
      "4\n"
     ]
    }
   ],
   "source": [
    "text = 'Разработка языка Python была начата в конце 1980-х годов сотрудником голландского института CWI Гвидо ван Россумом. Для распределённой ОС Amoeba требовался расширяемый скриптовый язык, и Гвидо начал писать Python на досуге, позаимствовав некоторые наработки для языка ABC (Гвидо участвовал в разработке этого языка, ориентированного на обучение программированию). В феврале 1991 года Гвидо опубликовал исходный текст в группе новостей alt.sources. Название языка произошло вовсе не от вида пресмыкающихся. Автор назвал язык в честь популярного британского комедийного телешоу 1970-х \"Летающий цирк Монти Пайтона\".'\n",
    "\n",
    "pattern = re.compile('\\w*[Аа]\\w\\w[Ии]\\w*')\n",
    "print(len(pattern.findall(text)))"
   ]
  },
  {
   "cell_type": "code",
   "execution_count": 5,
   "metadata": {},
   "outputs": [
    {
     "name": "stdout",
     "output_type": "stream",
     "text": [
      "22\n"
     ]
    }
   ],
   "source": [
    "pattern = re.compile('[аиоуеёюэыя]\\s[бвгджзйклмнпрстфхцчшщьъ]')\n",
    "print(len(pattern.findall(text.lower())))"
   ]
  },
  {
   "cell_type": "code",
   "execution_count": 1,
   "metadata": {},
   "outputs": [
    {
     "ename": "FileNotFoundError",
     "evalue": "[Errno 2] No such file or directory: 'StudentsPerformance.csv'",
     "output_type": "error",
     "traceback": [
      "\u001b[1;31m---------------------------------------------------------------------------\u001b[0m",
      "\u001b[1;31mFileNotFoundError\u001b[0m                         Traceback (most recent call last)",
      "\u001b[1;32m<ipython-input-1-b56ca8ff7d0b>\u001b[0m in \u001b[0;36m<module>\u001b[1;34m\u001b[0m\n\u001b[1;32m----> 1\u001b[1;33m \u001b[0mf\u001b[0m \u001b[1;33m=\u001b[0m \u001b[0mopen\u001b[0m\u001b[1;33m(\u001b[0m\u001b[1;34m'StudentsPerformance.csv'\u001b[0m\u001b[1;33m)\u001b[0m\u001b[1;33m\u001b[0m\u001b[1;33m\u001b[0m\u001b[0m\n\u001b[0m",
      "\u001b[1;31mFileNotFoundError\u001b[0m: [Errno 2] No such file or directory: 'StudentsPerformance.csv'"
     ]
    }
   ],
   "source": [
    "f = open('StudentsPerformance.csv') "
   ]
  },
  {
   "cell_type": "code",
   "execution_count": 2,
   "metadata": {},
   "outputs": [
    {
     "ename": "NameError",
     "evalue": "name 'f' is not defined",
     "output_type": "error",
     "traceback": [
      "\u001b[1;31m---------------------------------------------------------------------------\u001b[0m",
      "\u001b[1;31mNameError\u001b[0m                                 Traceback (most recent call last)",
      "\u001b[1;32m<ipython-input-2-b0acce43b56b>\u001b[0m in \u001b[0;36m<module>\u001b[1;34m\u001b[0m\n\u001b[1;32m----> 1\u001b[1;33m \u001b[1;32mfor\u001b[0m \u001b[0mline\u001b[0m \u001b[1;32min\u001b[0m \u001b[0mf\u001b[0m\u001b[1;33m:\u001b[0m\u001b[1;33m\u001b[0m\u001b[1;33m\u001b[0m\u001b[0m\n\u001b[0m\u001b[0;32m      2\u001b[0m          \u001b[0mprint\u001b[0m\u001b[1;33m(\u001b[0m\u001b[0mline\u001b[0m\u001b[1;33m)\u001b[0m\u001b[1;33m\u001b[0m\u001b[1;33m\u001b[0m\u001b[0m\n\u001b[0;32m      3\u001b[0m \u001b[0mf\u001b[0m\u001b[1;33m.\u001b[0m\u001b[0mclose\u001b[0m\u001b[1;33m(\u001b[0m\u001b[1;33m)\u001b[0m\u001b[1;33m\u001b[0m\u001b[1;33m\u001b[0m\u001b[0m\n",
      "\u001b[1;31mNameError\u001b[0m: name 'f' is not defined"
     ]
    }
   ],
   "source": [
    "for line in f:\n",
    "         print(line)\n",
    "f.close()"
   ]
  },
  {
   "cell_type": "code",
   "execution_count": 4,
   "metadata": {},
   "outputs": [],
   "source": [
    "f = open('StudentsPerformance.csv') "
   ]
  },
  {
   "cell_type": "code",
   "execution_count": 5,
   "metadata": {},
   "outputs": [
    {
     "name": "stdout",
     "output_type": "stream",
     "text": [
      "\"gender\",\"race/ethnicity\",\"parental level of education\",\"lunch\",\"test preparation course\",\"math score\",\"reading score\",\"writing score\"\n",
      "\n",
      "\"female\",\"group B\",\"bachelor's degree\",\"standard\",\"none\",\"72\",\"72\",\"74\"\n",
      "\n",
      "\"female\",\"group C\",\"some college\",\"standard\",\"completed\",\"69\",\"90\",\"88\"\n",
      "\n",
      "\"female\",\"group B\",\"master's degree\",\"standard\",\"none\",\"90\",\"95\",\"93\"\n",
      "\n",
      "\"male\",\"group A\",\"associate's degree\",\"free/reduced\",\"none\",\"47\",\"57\",\"44\"\n",
      "\n",
      "\"male\",\"group C\",\"some college\",\"standard\",\"none\",\"76\",\"78\",\"75\"\n",
      "\n",
      "\"female\",\"group B\",\"associate's degree\",\"standard\",\"none\",\"71\",\"83\",\"78\"\n",
      "\n",
      "\"female\",\"group B\",\"some college\",\"standard\",\"completed\",\"88\",\"95\",\"92\"\n",
      "\n",
      "\"male\",\"group B\",\"some college\",\"free/reduced\",\"none\",\"40\",\"43\",\"39\"\n",
      "\n",
      "\"male\",\"group D\",\"high school\",\"free/reduced\",\"completed\",\"64\",\"64\",\"67\"\n",
      "\n",
      "\"female\",\"group B\",\"high school\",\"free/reduced\",\"none\",\"38\",\"60\",\"50\"\n",
      "\n",
      "\"male\",\"group C\",\"associate's degree\",\"standard\",\"none\",\"58\",\"54\",\"52\"\n",
      "\n",
      "\"male\",\"group D\",\"associate's degree\",\"standard\",\"none\",\"40\",\"52\",\"43\"\n",
      "\n",
      "\"female\",\"group B\",\"high school\",\"standard\",\"none\",\"65\",\"81\",\"73\"\n",
      "\n",
      "\"male\",\"group A\",\"some college\",\"standard\",\"completed\",\"78\",\"72\",\"70\"\n",
      "\n",
      "\"female\",\"group A\",\"master's degree\",\"standard\",\"none\",\"50\",\"53\",\"58\"\n",
      "\n",
      "\"female\",\"group C\",\"some high school\",\"standard\",\"none\",\"69\",\"75\",\"78\"\n",
      "\n",
      "\"male\",\"group C\",\"high school\",\"standard\",\"none\",\"88\",\"89\",\"86\"\n",
      "\n",
      "\"female\",\"group B\",\"some high school\",\"free/reduced\",\"none\",\"18\",\"32\",\"28\"\n",
      "\n",
      "\"male\",\"group C\",\"master's degree\",\"free/reduced\",\"completed\",\"46\",\"42\",\"46\"\n",
      "\n",
      "\"female\",\"group C\",\"associate's degree\",\"free/reduced\",\"none\",\"54\",\"58\",\"61\"\n",
      "\n",
      "\"male\",\"group D\",\"high school\",\"standard\",\"none\",\"66\",\"69\",\"63\"\n",
      "\n",
      "\"female\",\"group B\",\"some college\",\"free/reduced\",\"completed\",\"65\",\"75\",\"70\"\n",
      "\n",
      "\"male\",\"group D\",\"some college\",\"standard\",\"none\",\"44\",\"54\",\"53\"\n",
      "\n",
      "\"female\",\"group C\",\"some high school\",\"standard\",\"none\",\"69\",\"73\",\"73\"\n",
      "\n",
      "\"male\",\"group D\",\"bachelor's degree\",\"free/reduced\",\"completed\",\"74\",\"71\",\"80\"\n",
      "\n",
      "\"male\",\"group A\",\"master's degree\",\"free/reduced\",\"none\",\"73\",\"74\",\"72\"\n",
      "\n",
      "\"male\",\"group B\",\"some college\",\"standard\",\"none\",\"69\",\"54\",\"55\"\n",
      "\n",
      "\"female\",\"group C\",\"bachelor's degree\",\"standard\",\"none\",\"67\",\"69\",\"75\"\n",
      "\n",
      "\"male\",\"group C\",\"high school\",\"standard\",\"none\",\"70\",\"70\",\"65\"\n",
      "\n",
      "\"female\",\"group D\",\"master's degree\",\"standard\",\"none\",\"62\",\"70\",\"75\"\n",
      "\n",
      "\"female\",\"group D\",\"some college\",\"standard\",\"none\",\"69\",\"74\",\"74\"\n",
      "\n",
      "\"female\",\"group B\",\"some college\",\"standard\",\"none\",\"63\",\"65\",\"61\"\n",
      "\n",
      "\"female\",\"group E\",\"master's degree\",\"free/reduced\",\"none\",\"56\",\"72\",\"65\"\n",
      "\n",
      "\"male\",\"group D\",\"some college\",\"standard\",\"none\",\"40\",\"42\",\"38\"\n",
      "\n",
      "\"male\",\"group E\",\"some college\",\"standard\",\"none\",\"97\",\"87\",\"82\"\n",
      "\n",
      "\"male\",\"group E\",\"associate's degree\",\"standard\",\"completed\",\"81\",\"81\",\"79\"\n",
      "\n",
      "\"female\",\"group D\",\"associate's degree\",\"standard\",\"none\",\"74\",\"81\",\"83\"\n",
      "\n",
      "\"female\",\"group D\",\"some high school\",\"free/reduced\",\"none\",\"50\",\"64\",\"59\"\n",
      "\n",
      "\"female\",\"group D\",\"associate's degree\",\"free/reduced\",\"completed\",\"75\",\"90\",\"88\"\n",
      "\n",
      "\"male\",\"group B\",\"associate's degree\",\"free/reduced\",\"none\",\"57\",\"56\",\"57\"\n",
      "\n",
      "\"male\",\"group C\",\"associate's degree\",\"free/reduced\",\"none\",\"55\",\"61\",\"54\"\n",
      "\n",
      "\"female\",\"group C\",\"associate's degree\",\"standard\",\"none\",\"58\",\"73\",\"68\"\n",
      "\n",
      "\"female\",\"group B\",\"associate's degree\",\"standard\",\"none\",\"53\",\"58\",\"65\"\n",
      "\n",
      "\"male\",\"group B\",\"some college\",\"free/reduced\",\"completed\",\"59\",\"65\",\"66\"\n",
      "\n",
      "\"female\",\"group E\",\"associate's degree\",\"free/reduced\",\"none\",\"50\",\"56\",\"54\"\n",
      "\n",
      "\"male\",\"group B\",\"associate's degree\",\"standard\",\"none\",\"65\",\"54\",\"57\"\n",
      "\n",
      "\"female\",\"group A\",\"associate's degree\",\"standard\",\"completed\",\"55\",\"65\",\"62\"\n",
      "\n",
      "\"female\",\"group C\",\"high school\",\"standard\",\"none\",\"66\",\"71\",\"76\"\n",
      "\n",
      "\"female\",\"group D\",\"associate's degree\",\"free/reduced\",\"completed\",\"57\",\"74\",\"76\"\n",
      "\n",
      "\"male\",\"group C\",\"high school\",\"standard\",\"completed\",\"82\",\"84\",\"82\"\n",
      "\n",
      "\"male\",\"group E\",\"some college\",\"standard\",\"none\",\"53\",\"55\",\"48\"\n",
      "\n",
      "\"male\",\"group E\",\"associate's degree\",\"free/reduced\",\"completed\",\"77\",\"69\",\"68\"\n",
      "\n",
      "\"male\",\"group C\",\"some college\",\"standard\",\"none\",\"53\",\"44\",\"42\"\n",
      "\n",
      "\"male\",\"group D\",\"high school\",\"standard\",\"none\",\"88\",\"78\",\"75\"\n",
      "\n",
      "\"female\",\"group C\",\"some high school\",\"free/reduced\",\"completed\",\"71\",\"84\",\"87\"\n",
      "\n",
      "\"female\",\"group C\",\"high school\",\"free/reduced\",\"none\",\"33\",\"41\",\"43\"\n",
      "\n",
      "\"female\",\"group E\",\"associate's degree\",\"standard\",\"completed\",\"82\",\"85\",\"86\"\n",
      "\n",
      "\"male\",\"group D\",\"associate's degree\",\"standard\",\"none\",\"52\",\"55\",\"49\"\n",
      "\n",
      "\"male\",\"group D\",\"some college\",\"standard\",\"completed\",\"58\",\"59\",\"58\"\n",
      "\n",
      "\"female\",\"group C\",\"some high school\",\"free/reduced\",\"none\",\"0\",\"17\",\"10\"\n",
      "\n",
      "\"male\",\"group E\",\"bachelor's degree\",\"free/reduced\",\"completed\",\"79\",\"74\",\"72\"\n",
      "\n",
      "\"male\",\"group A\",\"some high school\",\"free/reduced\",\"none\",\"39\",\"39\",\"34\"\n",
      "\n",
      "\"male\",\"group A\",\"associate's degree\",\"free/reduced\",\"none\",\"62\",\"61\",\"55\"\n",
      "\n",
      "\"female\",\"group C\",\"associate's degree\",\"standard\",\"none\",\"69\",\"80\",\"71\"\n",
      "\n",
      "\"female\",\"group D\",\"some high school\",\"standard\",\"none\",\"59\",\"58\",\"59\"\n",
      "\n",
      "\"male\",\"group B\",\"some high school\",\"standard\",\"none\",\"67\",\"64\",\"61\"\n",
      "\n",
      "\"male\",\"group D\",\"some high school\",\"free/reduced\",\"none\",\"45\",\"37\",\"37\"\n",
      "\n",
      "\"female\",\"group C\",\"some college\",\"standard\",\"none\",\"60\",\"72\",\"74\"\n",
      "\n",
      "\"male\",\"group B\",\"associate's degree\",\"free/reduced\",\"none\",\"61\",\"58\",\"56\"\n",
      "\n",
      "\"female\",\"group C\",\"associate's degree\",\"standard\",\"none\",\"39\",\"64\",\"57\"\n",
      "\n",
      "\"female\",\"group D\",\"some college\",\"free/reduced\",\"completed\",\"58\",\"63\",\"73\"\n",
      "\n",
      "\"male\",\"group D\",\"some college\",\"standard\",\"completed\",\"63\",\"55\",\"63\"\n",
      "\n",
      "\"female\",\"group A\",\"associate's degree\",\"free/reduced\",\"none\",\"41\",\"51\",\"48\"\n",
      "\n",
      "\"male\",\"group C\",\"some high school\",\"free/reduced\",\"none\",\"61\",\"57\",\"56\"\n",
      "\n",
      "\"male\",\"group C\",\"some high school\",\"standard\",\"none\",\"49\",\"49\",\"41\"\n",
      "\n",
      "\"male\",\"group B\",\"associate's degree\",\"free/reduced\",\"none\",\"44\",\"41\",\"38\"\n",
      "\n",
      "\"male\",\"group E\",\"some high school\",\"standard\",\"none\",\"30\",\"26\",\"22\"\n",
      "\n",
      "\"male\",\"group A\",\"bachelor's degree\",\"standard\",\"completed\",\"80\",\"78\",\"81\"\n",
      "\n",
      "\"female\",\"group D\",\"some high school\",\"standard\",\"completed\",\"61\",\"74\",\"72\"\n",
      "\n",
      "\"female\",\"group E\",\"master's degree\",\"standard\",\"none\",\"62\",\"68\",\"68\"\n",
      "\n",
      "\"female\",\"group B\",\"associate's degree\",\"standard\",\"none\",\"47\",\"49\",\"50\"\n",
      "\n",
      "\"male\",\"group B\",\"high school\",\"free/reduced\",\"none\",\"49\",\"45\",\"45\"\n",
      "\n",
      "\"male\",\"group A\",\"some college\",\"free/reduced\",\"completed\",\"50\",\"47\",\"54\"\n",
      "\n",
      "\"male\",\"group E\",\"associate's degree\",\"standard\",\"none\",\"72\",\"64\",\"63\"\n",
      "\n",
      "\"male\",\"group D\",\"high school\",\"free/reduced\",\"none\",\"42\",\"39\",\"34\"\n",
      "\n",
      "\"female\",\"group C\",\"some college\",\"standard\",\"none\",\"73\",\"80\",\"82\"\n",
      "\n",
      "\"female\",\"group C\",\"some college\",\"free/reduced\",\"none\",\"76\",\"83\",\"88\"\n",
      "\n",
      "\"female\",\"group D\",\"associate's degree\",\"standard\",\"none\",\"71\",\"71\",\"74\"\n",
      "\n",
      "\"female\",\"group A\",\"some college\",\"standard\",\"none\",\"58\",\"70\",\"67\"\n",
      "\n",
      "\"female\",\"group D\",\"some high school\",\"standard\",\"none\",\"73\",\"86\",\"82\"\n",
      "\n",
      "\"female\",\"group C\",\"bachelor's degree\",\"standard\",\"none\",\"65\",\"72\",\"74\"\n",
      "\n",
      "\"male\",\"group C\",\"high school\",\"free/reduced\",\"none\",\"27\",\"34\",\"36\"\n",
      "\n",
      "\"male\",\"group C\",\"high school\",\"standard\",\"none\",\"71\",\"79\",\"71\"\n",
      "\n",
      "\"male\",\"group C\",\"associate's degree\",\"free/reduced\",\"completed\",\"43\",\"45\",\"50\"\n",
      "\n",
      "\"female\",\"group B\",\"some college\",\"standard\",\"none\",\"79\",\"86\",\"92\"\n",
      "\n",
      "\"male\",\"group C\",\"associate's degree\",\"free/reduced\",\"completed\",\"78\",\"81\",\"82\"\n",
      "\n",
      "\"male\",\"group B\",\"some high school\",\"standard\",\"completed\",\"65\",\"66\",\"62\"\n",
      "\n",
      "\"female\",\"group E\",\"some college\",\"standard\",\"completed\",\"63\",\"72\",\"70\"\n",
      "\n",
      "\"female\",\"group D\",\"some college\",\"free/reduced\",\"none\",\"58\",\"67\",\"62\"\n",
      "\n",
      "\"female\",\"group D\",\"bachelor's degree\",\"standard\",\"none\",\"65\",\"67\",\"62\"\n",
      "\n",
      "\"male\",\"group B\",\"some college\",\"standard\",\"none\",\"79\",\"67\",\"67\"\n",
      "\n",
      "\"male\",\"group D\",\"bachelor's degree\",\"standard\",\"completed\",\"68\",\"74\",\"74\"\n",
      "\n",
      "\"female\",\"group D\",\"associate's degree\",\"standard\",\"none\",\"85\",\"91\",\"89\"\n",
      "\n",
      "\"male\",\"group B\",\"high school\",\"standard\",\"completed\",\"60\",\"44\",\"47\"\n",
      "\n",
      "\"male\",\"group C\",\"some college\",\"standard\",\"completed\",\"98\",\"86\",\"90\"\n",
      "\n",
      "\"female\",\"group C\",\"some college\",\"standard\",\"none\",\"58\",\"67\",\"72\"\n",
      "\n",
      "\"female\",\"group D\",\"master's degree\",\"standard\",\"none\",\"87\",\"100\",\"100\"\n",
      "\n",
      "\"male\",\"group E\",\"associate's degree\",\"standard\",\"completed\",\"66\",\"63\",\"64\"\n",
      "\n",
      "\"female\",\"group B\",\"associate's degree\",\"free/reduced\",\"none\",\"52\",\"76\",\"70\"\n",
      "\n",
      "\"female\",\"group B\",\"some high school\",\"standard\",\"none\",\"70\",\"64\",\"72\"\n",
      "\n",
      "\"female\",\"group D\",\"associate's degree\",\"free/reduced\",\"completed\",\"77\",\"89\",\"98\"\n",
      "\n",
      "\"male\",\"group C\",\"high school\",\"standard\",\"none\",\"62\",\"55\",\"49\"\n",
      "\n",
      "\"male\",\"group A\",\"associate's degree\",\"standard\",\"none\",\"54\",\"53\",\"47\"\n",
      "\n",
      "\"female\",\"group D\",\"some college\",\"standard\",\"none\",\"51\",\"58\",\"54\"\n",
      "\n",
      "\"female\",\"group E\",\"bachelor's degree\",\"standard\",\"completed\",\"99\",\"100\",\"100\"\n",
      "\n",
      "\"male\",\"group C\",\"high school\",\"standard\",\"none\",\"84\",\"77\",\"74\"\n",
      "\n",
      "\"female\",\"group B\",\"bachelor's degree\",\"free/reduced\",\"none\",\"75\",\"85\",\"82\"\n",
      "\n",
      "\"female\",\"group D\",\"bachelor's degree\",\"standard\",\"none\",\"78\",\"82\",\"79\"\n",
      "\n",
      "\"female\",\"group D\",\"some high school\",\"standard\",\"none\",\"51\",\"63\",\"61\"\n",
      "\n",
      "\"female\",\"group C\",\"some college\",\"standard\",\"none\",\"55\",\"69\",\"65\"\n",
      "\n",
      "\"female\",\"group C\",\"bachelor's degree\",\"standard\",\"completed\",\"79\",\"92\",\"89\"\n",
      "\n",
      "\"male\",\"group B\",\"associate's degree\",\"standard\",\"completed\",\"91\",\"89\",\"92\"\n",
      "\n",
      "\"female\",\"group C\",\"some college\",\"standard\",\"completed\",\"88\",\"93\",\"93\"\n",
      "\n",
      "\"male\",\"group D\",\"high school\",\"free/reduced\",\"none\",\"63\",\"57\",\"56\"\n",
      "\n",
      "\"male\",\"group E\",\"some college\",\"standard\",\"none\",\"83\",\"80\",\"73\"\n",
      "\n",
      "\"female\",\"group B\",\"high school\",\"standard\",\"none\",\"87\",\"95\",\"86\"\n",
      "\n",
      "\"male\",\"group B\",\"some high school\",\"standard\",\"none\",\"72\",\"68\",\"67\"\n",
      "\n",
      "\"male\",\"group D\",\"some college\",\"standard\",\"completed\",\"65\",\"77\",\"74\"\n",
      "\n",
      "\"male\",\"group D\",\"master's degree\",\"standard\",\"none\",\"82\",\"82\",\"74\"\n",
      "\n",
      "\"female\",\"group A\",\"bachelor's degree\",\"standard\",\"none\",\"51\",\"49\",\"51\"\n",
      "\n",
      "\"male\",\"group D\",\"master's degree\",\"standard\",\"none\",\"89\",\"84\",\"82\"\n",
      "\n",
      "\"male\",\"group C\",\"some high school\",\"free/reduced\",\"completed\",\"53\",\"37\",\"40\"\n",
      "\n",
      "\"male\",\"group E\",\"some college\",\"free/reduced\",\"completed\",\"87\",\"74\",\"70\"\n",
      "\n",
      "\"female\",\"group C\",\"some college\",\"standard\",\"completed\",\"75\",\"81\",\"84\"\n",
      "\n",
      "\"male\",\"group D\",\"bachelor's degree\",\"free/reduced\",\"completed\",\"74\",\"79\",\"75\"\n",
      "\n",
      "\"male\",\"group C\",\"bachelor's degree\",\"standard\",\"none\",\"58\",\"55\",\"48\"\n",
      "\n",
      "\"male\",\"group B\",\"some high school\",\"standard\",\"completed\",\"51\",\"54\",\"41\"\n",
      "\n",
      "\"male\",\"group E\",\"high school\",\"standard\",\"none\",\"70\",\"55\",\"56\"\n",
      "\n",
      "\"female\",\"group C\",\"associate's degree\",\"standard\",\"none\",\"59\",\"66\",\"67\"\n",
      "\n",
      "\"male\",\"group D\",\"some college\",\"standard\",\"completed\",\"71\",\"61\",\"69\"\n",
      "\n",
      "\"female\",\"group D\",\"some high school\",\"standard\",\"none\",\"76\",\"72\",\"71\"\n",
      "\n",
      "\"female\",\"group C\",\"some college\",\"free/reduced\",\"none\",\"59\",\"62\",\"64\"\n",
      "\n",
      "\"female\",\"group E\",\"some college\",\"free/reduced\",\"completed\",\"42\",\"55\",\"54\"\n",
      "\n",
      "\"male\",\"group A\",\"high school\",\"standard\",\"none\",\"57\",\"43\",\"47\"\n",
      "\n",
      "\"male\",\"group D\",\"some college\",\"standard\",\"none\",\"88\",\"73\",\"78\"\n",
      "\n",
      "\"female\",\"group C\",\"some college\",\"free/reduced\",\"none\",\"22\",\"39\",\"33\"\n",
      "\n",
      "\"male\",\"group B\",\"some high school\",\"standard\",\"none\",\"88\",\"84\",\"75\"\n",
      "\n",
      "\"male\",\"group C\",\"associate's degree\",\"free/reduced\",\"none\",\"73\",\"68\",\"66\"\n",
      "\n",
      "\"female\",\"group D\",\"bachelor's degree\",\"standard\",\"completed\",\"68\",\"75\",\"81\"\n",
      "\n",
      "\"male\",\"group E\",\"associate's degree\",\"free/reduced\",\"completed\",\"100\",\"100\",\"93\"\n",
      "\n",
      "\"male\",\"group A\",\"some high school\",\"standard\",\"completed\",\"62\",\"67\",\"69\"\n",
      "\n",
      "\"male\",\"group A\",\"bachelor's degree\",\"standard\",\"none\",\"77\",\"67\",\"68\"\n",
      "\n",
      "\"female\",\"group B\",\"associate's degree\",\"standard\",\"completed\",\"59\",\"70\",\"66\"\n",
      "\n",
      "\"male\",\"group D\",\"bachelor's degree\",\"standard\",\"none\",\"54\",\"49\",\"47\"\n",
      "\n",
      "\"male\",\"group D\",\"some high school\",\"standard\",\"none\",\"62\",\"67\",\"61\"\n",
      "\n",
      "\"female\",\"group C\",\"some college\",\"standard\",\"completed\",\"70\",\"89\",\"88\"\n",
      "\n",
      "\"female\",\"group E\",\"high school\",\"free/reduced\",\"completed\",\"66\",\"74\",\"78\"\n",
      "\n",
      "\"male\",\"group B\",\"some college\",\"free/reduced\",\"none\",\"60\",\"60\",\"60\"\n",
      "\n",
      "\"female\",\"group B\",\"associate's degree\",\"standard\",\"completed\",\"61\",\"86\",\"87\"\n",
      "\n",
      "\"male\",\"group D\",\"associate's degree\",\"free/reduced\",\"none\",\"66\",\"62\",\"64\"\n",
      "\n",
      "\"male\",\"group B\",\"associate's degree\",\"free/reduced\",\"completed\",\"82\",\"78\",\"74\"\n",
      "\n",
      "\"female\",\"group E\",\"some college\",\"free/reduced\",\"completed\",\"75\",\"88\",\"85\"\n",
      "\n",
      "\"male\",\"group B\",\"master's degree\",\"free/reduced\",\"none\",\"49\",\"53\",\"52\"\n",
      "\n",
      "\"male\",\"group C\",\"high school\",\"standard\",\"none\",\"52\",\"53\",\"49\"\n",
      "\n",
      "\"female\",\"group E\",\"master's degree\",\"standard\",\"none\",\"81\",\"92\",\"91\"\n",
      "\n",
      "\"female\",\"group C\",\"bachelor's degree\",\"standard\",\"completed\",\"96\",\"100\",\"100\"\n",
      "\n",
      "\"male\",\"group C\",\"high school\",\"free/reduced\",\"completed\",\"53\",\"51\",\"51\"\n",
      "\n",
      "\"female\",\"group B\",\"master's degree\",\"free/reduced\",\"completed\",\"58\",\"76\",\"78\"\n",
      "\n",
      "\"female\",\"group B\",\"high school\",\"standard\",\"completed\",\"68\",\"83\",\"78\"\n",
      "\n",
      "\"female\",\"group C\",\"some college\",\"free/reduced\",\"completed\",\"67\",\"75\",\"70\"\n",
      "\n",
      "\"male\",\"group A\",\"high school\",\"standard\",\"completed\",\"72\",\"73\",\"74\"\n",
      "\n",
      "\"male\",\"group E\",\"some high school\",\"standard\",\"none\",\"94\",\"88\",\"78\"\n",
      "\n",
      "\"female\",\"group D\",\"some college\",\"standard\",\"none\",\"79\",\"86\",\"81\"\n",
      "\n",
      "\"female\",\"group C\",\"associate's degree\",\"standard\",\"none\",\"63\",\"67\",\"70\"\n",
      "\n",
      "\"female\",\"group C\",\"bachelor's degree\",\"free/reduced\",\"completed\",\"43\",\"51\",\"54\"\n",
      "\n",
      "\"female\",\"group C\",\"master's degree\",\"standard\",\"completed\",\"81\",\"91\",\"87\"\n",
      "\n",
      "\"female\",\"group B\",\"high school\",\"free/reduced\",\"completed\",\"46\",\"54\",\"58\"\n",
      "\n",
      "\"female\",\"group C\",\"associate's degree\",\"standard\",\"completed\",\"71\",\"77\",\"77\"\n",
      "\n",
      "\"female\",\"group B\",\"master's degree\",\"free/reduced\",\"completed\",\"52\",\"70\",\"62\"\n",
      "\n",
      "\"female\",\"group D\",\"some high school\",\"standard\",\"completed\",\"97\",\"100\",\"100\"\n",
      "\n",
      "\"male\",\"group C\",\"master's degree\",\"free/reduced\",\"completed\",\"62\",\"68\",\"75\"\n",
      "\n",
      "\"female\",\"group C\",\"some college\",\"free/reduced\",\"none\",\"46\",\"64\",\"66\"\n",
      "\n",
      "\"female\",\"group E\",\"high school\",\"standard\",\"none\",\"50\",\"50\",\"47\"\n",
      "\n",
      "\"female\",\"group D\",\"associate's degree\",\"standard\",\"none\",\"65\",\"69\",\"70\"\n",
      "\n",
      "\"male\",\"group C\",\"some high school\",\"free/reduced\",\"completed\",\"45\",\"52\",\"49\"\n",
      "\n",
      "\"male\",\"group C\",\"associate's degree\",\"free/reduced\",\"completed\",\"65\",\"67\",\"65\"\n",
      "\n",
      "\"male\",\"group E\",\"high school\",\"standard\",\"none\",\"80\",\"76\",\"65\"\n",
      "\n",
      "\"male\",\"group D\",\"some high school\",\"standard\",\"completed\",\"62\",\"66\",\"68\"\n",
      "\n",
      "\"male\",\"group B\",\"some high school\",\"free/reduced\",\"none\",\"48\",\"52\",\"45\"\n",
      "\n",
      "\"female\",\"group C\",\"bachelor's degree\",\"standard\",\"none\",\"77\",\"88\",\"87\"\n",
      "\n",
      "\"female\",\"group E\",\"associate's degree\",\"standard\",\"none\",\"66\",\"65\",\"69\"\n",
      "\n",
      "\"male\",\"group D\",\"some college\",\"standard\",\"completed\",\"76\",\"83\",\"79\"\n",
      "\n",
      "\"female\",\"group B\",\"some high school\",\"standard\",\"none\",\"62\",\"64\",\"66\"\n",
      "\n",
      "\"male\",\"group D\",\"some college\",\"standard\",\"completed\",\"77\",\"62\",\"62\"\n",
      "\n",
      "\"female\",\"group C\",\"master's degree\",\"standard\",\"completed\",\"69\",\"84\",\"85\"\n",
      "\n",
      "\"male\",\"group D\",\"associate's degree\",\"standard\",\"none\",\"61\",\"55\",\"52\"\n",
      "\n",
      "\"male\",\"group C\",\"some high school\",\"free/reduced\",\"completed\",\"59\",\"69\",\"65\"\n",
      "\n",
      "\"male\",\"group E\",\"high school\",\"free/reduced\",\"none\",\"55\",\"56\",\"51\"\n",
      "\n",
      "\"female\",\"group B\",\"some college\",\"free/reduced\",\"none\",\"45\",\"53\",\"55\"\n",
      "\n",
      "\"female\",\"group B\",\"bachelor's degree\",\"free/reduced\",\"none\",\"78\",\"79\",\"76\"\n",
      "\n",
      "\"female\",\"group C\",\"associate's degree\",\"standard\",\"completed\",\"67\",\"84\",\"86\"\n",
      "\n",
      "\"female\",\"group D\",\"some college\",\"free/reduced\",\"none\",\"65\",\"81\",\"77\"\n",
      "\n",
      "\"male\",\"group C\",\"associate's degree\",\"standard\",\"none\",\"69\",\"77\",\"69\"\n",
      "\n",
      "\"female\",\"group B\",\"associate's degree\",\"standard\",\"none\",\"57\",\"69\",\"68\"\n",
      "\n",
      "\"male\",\"group C\",\"some college\",\"standard\",\"none\",\"59\",\"41\",\"42\"\n",
      "\n",
      "\"male\",\"group D\",\"some high school\",\"standard\",\"completed\",\"74\",\"71\",\"78\"\n",
      "\n",
      "\"male\",\"group E\",\"bachelor's degree\",\"standard\",\"none\",\"82\",\"62\",\"62\"\n",
      "\n",
      "\"male\",\"group E\",\"high school\",\"standard\",\"completed\",\"81\",\"80\",\"76\"\n",
      "\n",
      "\"female\",\"group B\",\"some college\",\"free/reduced\",\"none\",\"74\",\"81\",\"76\"\n",
      "\n",
      "\"female\",\"group B\",\"some college\",\"free/reduced\",\"none\",\"58\",\"61\",\"66\"\n",
      "\n",
      "\"male\",\"group D\",\"some high school\",\"free/reduced\",\"completed\",\"80\",\"79\",\"79\"\n",
      "\n",
      "\"male\",\"group C\",\"some college\",\"free/reduced\",\"none\",\"35\",\"28\",\"27\"\n",
      "\n",
      "\"female\",\"group C\",\"high school\",\"free/reduced\",\"none\",\"42\",\"62\",\"60\"\n",
      "\n",
      "\"male\",\"group C\",\"associate's degree\",\"free/reduced\",\"completed\",\"60\",\"51\",\"56\"\n",
      "\n",
      "\"male\",\"group E\",\"high school\",\"standard\",\"completed\",\"87\",\"91\",\"81\"\n",
      "\n",
      "\"male\",\"group B\",\"some high school\",\"standard\",\"completed\",\"84\",\"83\",\"75\"\n",
      "\n",
      "\"female\",\"group E\",\"associate's degree\",\"free/reduced\",\"completed\",\"83\",\"86\",\"88\"\n",
      "\n",
      "\"female\",\"group C\",\"high school\",\"free/reduced\",\"none\",\"34\",\"42\",\"39\"\n",
      "\n",
      "\"male\",\"group B\",\"high school\",\"free/reduced\",\"none\",\"66\",\"77\",\"70\"\n",
      "\n",
      "\"male\",\"group B\",\"some high school\",\"standard\",\"completed\",\"61\",\"56\",\"56\"\n",
      "\n",
      "\"female\",\"group D\",\"high school\",\"standard\",\"completed\",\"56\",\"68\",\"74\"\n",
      "\n",
      "\"male\",\"group B\",\"associate's degree\",\"standard\",\"none\",\"87\",\"85\",\"73\"\n",
      "\n",
      "\"female\",\"group C\",\"some high school\",\"free/reduced\",\"none\",\"55\",\"65\",\"62\"\n",
      "\n",
      "\"male\",\"group D\",\"some high school\",\"standard\",\"none\",\"86\",\"80\",\"75\"\n",
      "\n",
      "\"female\",\"group B\",\"associate's degree\",\"standard\",\"completed\",\"52\",\"66\",\"73\"\n",
      "\n",
      "\"female\",\"group E\",\"master's degree\",\"free/reduced\",\"none\",\"45\",\"56\",\"54\"\n",
      "\n",
      "\"female\",\"group C\",\"some college\",\"standard\",\"none\",\"72\",\"72\",\"71\"\n",
      "\n",
      "\"male\",\"group D\",\"high school\",\"standard\",\"none\",\"57\",\"50\",\"54\"\n",
      "\n",
      "\"male\",\"group A\",\"some high school\",\"free/reduced\",\"none\",\"68\",\"72\",\"64\"\n",
      "\n",
      "\"female\",\"group C\",\"some college\",\"standard\",\"completed\",\"88\",\"95\",\"94\"\n",
      "\n",
      "\"male\",\"group D\",\"some college\",\"standard\",\"none\",\"76\",\"64\",\"66\"\n",
      "\n",
      "\"male\",\"group C\",\"associate's degree\",\"standard\",\"none\",\"46\",\"43\",\"42\"\n",
      "\n",
      "\"female\",\"group B\",\"bachelor's degree\",\"standard\",\"none\",\"67\",\"86\",\"83\"\n",
      "\n",
      "\"male\",\"group E\",\"some high school\",\"standard\",\"none\",\"92\",\"87\",\"78\"\n",
      "\n",
      "\"male\",\"group C\",\"bachelor's degree\",\"standard\",\"completed\",\"83\",\"82\",\"84\"\n",
      "\n",
      "\"male\",\"group D\",\"associate's degree\",\"standard\",\"none\",\"80\",\"75\",\"77\"\n",
      "\n",
      "\"male\",\"group D\",\"bachelor's degree\",\"free/reduced\",\"none\",\"63\",\"66\",\"67\"\n",
      "\n",
      "\"female\",\"group D\",\"some high school\",\"standard\",\"completed\",\"64\",\"60\",\"74\"\n",
      "\n",
      "\"male\",\"group B\",\"some college\",\"standard\",\"none\",\"54\",\"52\",\"51\"\n",
      "\n",
      "\"male\",\"group C\",\"associate's degree\",\"standard\",\"none\",\"84\",\"80\",\"80\"\n",
      "\n",
      "\"male\",\"group D\",\"high school\",\"free/reduced\",\"completed\",\"73\",\"68\",\"66\"\n",
      "\n",
      "\"female\",\"group E\",\"bachelor's degree\",\"standard\",\"none\",\"80\",\"83\",\"83\"\n",
      "\n",
      "\"female\",\"group D\",\"high school\",\"standard\",\"none\",\"56\",\"52\",\"55\"\n",
      "\n",
      "\"male\",\"group E\",\"some college\",\"standard\",\"none\",\"59\",\"51\",\"43\"\n",
      "\n",
      "\"male\",\"group D\",\"some high school\",\"standard\",\"none\",\"75\",\"74\",\"69\"\n",
      "\n",
      "\"male\",\"group C\",\"associate's degree\",\"standard\",\"none\",\"85\",\"76\",\"71\"\n",
      "\n",
      "\"male\",\"group E\",\"associate's degree\",\"standard\",\"none\",\"89\",\"76\",\"74\"\n",
      "\n",
      "\"female\",\"group B\",\"high school\",\"standard\",\"completed\",\"58\",\"70\",\"68\"\n",
      "\n",
      "\"female\",\"group B\",\"high school\",\"standard\",\"none\",\"65\",\"64\",\"62\"\n",
      "\n",
      "\"male\",\"group C\",\"high school\",\"standard\",\"none\",\"68\",\"60\",\"53\"\n",
      "\n",
      "\"male\",\"group A\",\"some high school\",\"standard\",\"completed\",\"47\",\"49\",\"49\"\n",
      "\n",
      "\"female\",\"group D\",\"some college\",\"free/reduced\",\"none\",\"71\",\"83\",\"83\"\n",
      "\n",
      "\"female\",\"group B\",\"some high school\",\"standard\",\"completed\",\"60\",\"70\",\"70\"\n",
      "\n",
      "\"male\",\"group D\",\"master's degree\",\"standard\",\"none\",\"80\",\"80\",\"72\"\n",
      "\n",
      "\"male\",\"group D\",\"high school\",\"standard\",\"none\",\"54\",\"52\",\"52\"\n",
      "\n",
      "\"female\",\"group E\",\"some college\",\"standard\",\"none\",\"62\",\"73\",\"70\"\n",
      "\n",
      "\"female\",\"group C\",\"associate's degree\",\"free/reduced\",\"none\",\"64\",\"73\",\"68\"\n",
      "\n",
      "\"male\",\"group C\",\"associate's degree\",\"standard\",\"completed\",\"78\",\"77\",\"77\"\n",
      "\n",
      "\"female\",\"group B\",\"some college\",\"standard\",\"none\",\"70\",\"75\",\"78\"\n",
      "\n",
      "\"female\",\"group C\",\"master's degree\",\"free/reduced\",\"completed\",\"65\",\"81\",\"81\"\n",
      "\n",
      "\"female\",\"group C\",\"some high school\",\"free/reduced\",\"completed\",\"64\",\"79\",\"77\"\n",
      "\n",
      "\"male\",\"group C\",\"some college\",\"standard\",\"completed\",\"79\",\"79\",\"78\"\n",
      "\n",
      "\"female\",\"group C\",\"some high school\",\"free/reduced\",\"none\",\"44\",\"50\",\"51\"\n",
      "\n",
      "\"female\",\"group E\",\"high school\",\"standard\",\"none\",\"99\",\"93\",\"90\"\n",
      "\n",
      "\"male\",\"group D\",\"high school\",\"standard\",\"none\",\"76\",\"73\",\"68\"\n",
      "\n",
      "\"male\",\"group D\",\"some high school\",\"free/reduced\",\"none\",\"59\",\"42\",\"41\"\n",
      "\n",
      "\"female\",\"group C\",\"bachelor's degree\",\"standard\",\"none\",\"63\",\"75\",\"81\"\n",
      "\n",
      "\"female\",\"group D\",\"high school\",\"standard\",\"none\",\"69\",\"72\",\"77\"\n",
      "\n",
      "\"female\",\"group D\",\"associate's degree\",\"standard\",\"completed\",\"88\",\"92\",\"95\"\n",
      "\n",
      "\"female\",\"group E\",\"some college\",\"free/reduced\",\"none\",\"71\",\"76\",\"70\"\n",
      "\n",
      "\"male\",\"group C\",\"bachelor's degree\",\"standard\",\"none\",\"69\",\"63\",\"61\"\n",
      "\n",
      "\"male\",\"group C\",\"some college\",\"standard\",\"none\",\"58\",\"49\",\"42\"\n",
      "\n",
      "\"female\",\"group D\",\"associate's degree\",\"free/reduced\",\"none\",\"47\",\"53\",\"58\"\n",
      "\n",
      "\"female\",\"group D\",\"some college\",\"standard\",\"none\",\"65\",\"70\",\"71\"\n",
      "\n",
      "\"male\",\"group B\",\"some college\",\"standard\",\"completed\",\"88\",\"85\",\"76\"\n",
      "\n",
      "\"male\",\"group C\",\"bachelor's degree\",\"standard\",\"none\",\"83\",\"78\",\"73\"\n",
      "\n",
      "\"female\",\"group C\",\"some high school\",\"standard\",\"completed\",\"85\",\"92\",\"93\"\n",
      "\n",
      "\"female\",\"group E\",\"high school\",\"standard\",\"completed\",\"59\",\"63\",\"75\"\n",
      "\n",
      "\"female\",\"group C\",\"some high school\",\"free/reduced\",\"none\",\"65\",\"86\",\"80\"\n",
      "\n",
      "\"male\",\"group B\",\"bachelor's degree\",\"free/reduced\",\"none\",\"73\",\"56\",\"57\"\n",
      "\n",
      "\"male\",\"group D\",\"high school\",\"standard\",\"none\",\"53\",\"52\",\"42\"\n",
      "\n",
      "\"male\",\"group D\",\"high school\",\"standard\",\"none\",\"45\",\"48\",\"46\"\n",
      "\n",
      "\"female\",\"group D\",\"bachelor's degree\",\"free/reduced\",\"none\",\"73\",\"79\",\"84\"\n",
      "\n",
      "\"female\",\"group D\",\"some college\",\"free/reduced\",\"completed\",\"70\",\"78\",\"78\"\n",
      "\n",
      "\"female\",\"group B\",\"some high school\",\"standard\",\"none\",\"37\",\"46\",\"46\"\n",
      "\n",
      "\"male\",\"group B\",\"associate's degree\",\"standard\",\"completed\",\"81\",\"82\",\"82\"\n",
      "\n",
      "\"male\",\"group E\",\"associate's degree\",\"standard\",\"completed\",\"97\",\"82\",\"88\"\n",
      "\n",
      "\"female\",\"group B\",\"some high school\",\"standard\",\"none\",\"67\",\"89\",\"82\"\n",
      "\n",
      "\"male\",\"group B\",\"bachelor's degree\",\"free/reduced\",\"none\",\"88\",\"75\",\"76\"\n",
      "\n",
      "\"male\",\"group E\",\"some high school\",\"standard\",\"completed\",\"77\",\"76\",\"77\"\n",
      "\n",
      "\"male\",\"group C\",\"associate's degree\",\"standard\",\"none\",\"76\",\"70\",\"68\"\n",
      "\n",
      "\"male\",\"group D\",\"some high school\",\"standard\",\"none\",\"86\",\"73\",\"70\"\n",
      "\n",
      "\"male\",\"group C\",\"some high school\",\"standard\",\"completed\",\"63\",\"60\",\"57\"\n",
      "\n",
      "\"female\",\"group E\",\"bachelor's degree\",\"standard\",\"none\",\"65\",\"73\",\"75\"\n",
      "\n",
      "\"male\",\"group D\",\"high school\",\"free/reduced\",\"completed\",\"78\",\"77\",\"80\"\n",
      "\n",
      "\"male\",\"group B\",\"associate's degree\",\"free/reduced\",\"none\",\"67\",\"62\",\"60\"\n",
      "\n",
      "\"male\",\"group A\",\"some high school\",\"standard\",\"completed\",\"46\",\"41\",\"43\"\n",
      "\n",
      "\"male\",\"group E\",\"associate's degree\",\"standard\",\"completed\",\"71\",\"74\",\"68\"\n",
      "\n",
      "\"male\",\"group C\",\"high school\",\"free/reduced\",\"completed\",\"40\",\"46\",\"50\"\n",
      "\n",
      "\"male\",\"group D\",\"associate's degree\",\"free/reduced\",\"none\",\"90\",\"87\",\"75\"\n",
      "\n",
      "\"male\",\"group A\",\"some college\",\"free/reduced\",\"completed\",\"81\",\"78\",\"81\"\n",
      "\n",
      "\"male\",\"group D\",\"some high school\",\"free/reduced\",\"none\",\"56\",\"54\",\"52\"\n",
      "\n",
      "\"female\",\"group C\",\"associate's degree\",\"standard\",\"completed\",\"67\",\"84\",\"81\"\n",
      "\n",
      "\"male\",\"group B\",\"associate's degree\",\"standard\",\"none\",\"80\",\"76\",\"64\"\n",
      "\n",
      "\"female\",\"group C\",\"associate's degree\",\"standard\",\"completed\",\"74\",\"75\",\"83\"\n",
      "\n",
      "\"male\",\"group A\",\"some college\",\"standard\",\"none\",\"69\",\"67\",\"69\"\n",
      "\n",
      "\"male\",\"group E\",\"some college\",\"standard\",\"completed\",\"99\",\"87\",\"81\"\n",
      "\n",
      "\"male\",\"group C\",\"some high school\",\"standard\",\"none\",\"51\",\"52\",\"44\"\n",
      "\n",
      "\"female\",\"group B\",\"associate's degree\",\"free/reduced\",\"none\",\"53\",\"71\",\"67\"\n",
      "\n",
      "\"female\",\"group D\",\"high school\",\"free/reduced\",\"none\",\"49\",\"57\",\"52\"\n",
      "\n",
      "\"female\",\"group B\",\"associate's degree\",\"standard\",\"none\",\"73\",\"76\",\"80\"\n",
      "\n",
      "\"male\",\"group B\",\"bachelor's degree\",\"standard\",\"none\",\"66\",\"60\",\"57\"\n",
      "\n",
      "\"male\",\"group D\",\"bachelor's degree\",\"standard\",\"completed\",\"67\",\"61\",\"68\"\n",
      "\n",
      "\"female\",\"group C\",\"associate's degree\",\"free/reduced\",\"completed\",\"68\",\"67\",\"69\"\n",
      "\n",
      "\"female\",\"group C\",\"bachelor's degree\",\"standard\",\"completed\",\"59\",\"64\",\"75\"\n",
      "\n",
      "\"male\",\"group C\",\"high school\",\"standard\",\"none\",\"71\",\"66\",\"65\"\n",
      "\n",
      "\"female\",\"group D\",\"master's degree\",\"standard\",\"completed\",\"77\",\"82\",\"91\"\n",
      "\n",
      "\"male\",\"group C\",\"associate's degree\",\"standard\",\"none\",\"83\",\"72\",\"78\"\n",
      "\n",
      "\"male\",\"group B\",\"bachelor's degree\",\"standard\",\"none\",\"63\",\"71\",\"69\"\n",
      "\n",
      "\"female\",\"group D\",\"associate's degree\",\"free/reduced\",\"none\",\"56\",\"65\",\"63\"\n",
      "\n",
      "\"female\",\"group C\",\"high school\",\"free/reduced\",\"completed\",\"67\",\"79\",\"84\"\n",
      "\n",
      "\"female\",\"group E\",\"high school\",\"standard\",\"none\",\"75\",\"86\",\"79\"\n",
      "\n",
      "\"female\",\"group C\",\"some college\",\"standard\",\"none\",\"71\",\"81\",\"80\"\n",
      "\n",
      "\"female\",\"group C\",\"some high school\",\"free/reduced\",\"none\",\"43\",\"53\",\"53\"\n",
      "\n",
      "\"female\",\"group C\",\"high school\",\"free/reduced\",\"none\",\"41\",\"46\",\"43\"\n",
      "\n",
      "\"female\",\"group C\",\"some college\",\"standard\",\"none\",\"82\",\"90\",\"94\"\n",
      "\n",
      "\"male\",\"group C\",\"some college\",\"standard\",\"none\",\"61\",\"61\",\"62\"\n",
      "\n",
      "\"male\",\"group A\",\"some college\",\"free/reduced\",\"none\",\"28\",\"23\",\"19\"\n",
      "\n",
      "\"male\",\"group C\",\"associate's degree\",\"standard\",\"completed\",\"82\",\"75\",\"77\"\n",
      "\n",
      "\"female\",\"group B\",\"some high school\",\"standard\",\"none\",\"41\",\"55\",\"51\"\n",
      "\n",
      "\"male\",\"group C\",\"high school\",\"standard\",\"none\",\"71\",\"60\",\"61\"\n",
      "\n",
      "\"male\",\"group C\",\"associate's degree\",\"standard\",\"none\",\"47\",\"37\",\"35\"\n",
      "\n",
      "\"male\",\"group E\",\"associate's degree\",\"standard\",\"completed\",\"62\",\"56\",\"53\"\n",
      "\n",
      "\"male\",\"group B\",\"associate's degree\",\"standard\",\"none\",\"90\",\"78\",\"81\"\n",
      "\n",
      "\"female\",\"group C\",\"bachelor's degree\",\"standard\",\"none\",\"83\",\"93\",\"95\"\n",
      "\n",
      "\"female\",\"group B\",\"some college\",\"free/reduced\",\"none\",\"61\",\"68\",\"66\"\n",
      "\n",
      "\"male\",\"group D\",\"some high school\",\"standard\",\"completed\",\"76\",\"70\",\"69\"\n",
      "\n",
      "\"male\",\"group C\",\"associate's degree\",\"standard\",\"none\",\"49\",\"51\",\"43\"\n",
      "\n",
      "\"female\",\"group B\",\"some high school\",\"free/reduced\",\"none\",\"24\",\"38\",\"27\"\n",
      "\n",
      "\"female\",\"group D\",\"some high school\",\"free/reduced\",\"completed\",\"35\",\"55\",\"60\"\n",
      "\n",
      "\"male\",\"group C\",\"high school\",\"free/reduced\",\"none\",\"58\",\"61\",\"52\"\n",
      "\n",
      "\"female\",\"group C\",\"high school\",\"standard\",\"none\",\"61\",\"73\",\"63\"\n",
      "\n",
      "\"female\",\"group B\",\"high school\",\"standard\",\"completed\",\"69\",\"76\",\"74\"\n",
      "\n",
      "\"male\",\"group D\",\"associate's degree\",\"standard\",\"completed\",\"67\",\"72\",\"67\"\n",
      "\n",
      "\"male\",\"group D\",\"some college\",\"standard\",\"none\",\"79\",\"73\",\"67\"\n",
      "\n",
      "\"female\",\"group C\",\"high school\",\"standard\",\"none\",\"72\",\"80\",\"75\"\n",
      "\n",
      "\"male\",\"group B\",\"some college\",\"standard\",\"none\",\"62\",\"61\",\"57\"\n",
      "\n",
      "\"female\",\"group C\",\"bachelor's degree\",\"standard\",\"completed\",\"77\",\"94\",\"95\"\n",
      "\n",
      "\"male\",\"group D\",\"high school\",\"free/reduced\",\"none\",\"75\",\"74\",\"66\"\n",
      "\n",
      "\"male\",\"group E\",\"associate's degree\",\"standard\",\"none\",\"87\",\"74\",\"76\"\n",
      "\n",
      "\"female\",\"group B\",\"bachelor's degree\",\"standard\",\"none\",\"52\",\"65\",\"69\"\n",
      "\n",
      "\"male\",\"group E\",\"some college\",\"standard\",\"none\",\"66\",\"57\",\"52\"\n",
      "\n",
      "\"female\",\"group C\",\"some college\",\"standard\",\"completed\",\"63\",\"78\",\"80\"\n",
      "\n",
      "\"female\",\"group C\",\"associate's degree\",\"standard\",\"none\",\"46\",\"58\",\"57\"\n",
      "\n",
      "\"female\",\"group C\",\"some college\",\"standard\",\"none\",\"59\",\"71\",\"70\"\n",
      "\n",
      "\"female\",\"group B\",\"bachelor's degree\",\"standard\",\"none\",\"61\",\"72\",\"70\"\n",
      "\n",
      "\"male\",\"group A\",\"associate's degree\",\"standard\",\"none\",\"63\",\"61\",\"61\"\n",
      "\n",
      "\"female\",\"group C\",\"some college\",\"free/reduced\",\"completed\",\"42\",\"66\",\"69\"\n",
      "\n",
      "\"male\",\"group D\",\"some college\",\"free/reduced\",\"none\",\"59\",\"62\",\"61\"\n",
      "\n",
      "\"female\",\"group D\",\"some college\",\"standard\",\"none\",\"80\",\"90\",\"89\"\n",
      "\n",
      "\"female\",\"group B\",\"high school\",\"standard\",\"none\",\"58\",\"62\",\"59\"\n",
      "\n",
      "\"male\",\"group B\",\"some high school\",\"standard\",\"completed\",\"85\",\"84\",\"78\"\n",
      "\n",
      "\"female\",\"group C\",\"some college\",\"standard\",\"none\",\"52\",\"58\",\"58\"\n",
      "\n",
      "\"female\",\"group D\",\"some high school\",\"free/reduced\",\"none\",\"27\",\"34\",\"32\"\n",
      "\n",
      "\"male\",\"group C\",\"some college\",\"standard\",\"none\",\"59\",\"60\",\"58\"\n",
      "\n",
      "\"male\",\"group A\",\"bachelor's degree\",\"free/reduced\",\"completed\",\"49\",\"58\",\"60\"\n",
      "\n",
      "\"male\",\"group C\",\"high school\",\"standard\",\"completed\",\"69\",\"58\",\"53\"\n",
      "\n",
      "\"male\",\"group C\",\"bachelor's degree\",\"free/reduced\",\"none\",\"61\",\"66\",\"61\"\n",
      "\n",
      "\"female\",\"group A\",\"some high school\",\"free/reduced\",\"none\",\"44\",\"64\",\"58\"\n",
      "\n",
      "\"female\",\"group D\",\"some high school\",\"standard\",\"none\",\"73\",\"84\",\"85\"\n",
      "\n",
      "\"male\",\"group E\",\"some college\",\"standard\",\"none\",\"84\",\"77\",\"71\"\n",
      "\n",
      "\"female\",\"group C\",\"some college\",\"free/reduced\",\"completed\",\"45\",\"73\",\"70\"\n",
      "\n",
      "\"male\",\"group D\",\"some high school\",\"standard\",\"none\",\"74\",\"74\",\"72\"\n",
      "\n",
      "\"female\",\"group D\",\"some college\",\"standard\",\"completed\",\"82\",\"97\",\"96\"\n",
      "\n",
      "\"female\",\"group D\",\"bachelor's degree\",\"standard\",\"none\",\"59\",\"70\",\"73\"\n",
      "\n",
      "\"male\",\"group E\",\"associate's degree\",\"free/reduced\",\"none\",\"46\",\"43\",\"41\"\n",
      "\n",
      "\"female\",\"group D\",\"some high school\",\"standard\",\"none\",\"80\",\"90\",\"82\"\n",
      "\n",
      "\"female\",\"group D\",\"master's degree\",\"free/reduced\",\"completed\",\"85\",\"95\",\"100\"\n",
      "\n",
      "\"female\",\"group A\",\"some high school\",\"standard\",\"none\",\"71\",\"83\",\"77\"\n",
      "\n",
      "\"male\",\"group A\",\"bachelor's degree\",\"standard\",\"none\",\"66\",\"64\",\"62\"\n",
      "\n",
      "\"female\",\"group B\",\"associate's degree\",\"standard\",\"none\",\"80\",\"86\",\"83\"\n",
      "\n",
      "\"male\",\"group C\",\"associate's degree\",\"standard\",\"completed\",\"87\",\"100\",\"95\"\n",
      "\n",
      "\"male\",\"group C\",\"master's degree\",\"free/reduced\",\"none\",\"79\",\"81\",\"71\"\n",
      "\n",
      "\"female\",\"group E\",\"some high school\",\"free/reduced\",\"none\",\"38\",\"49\",\"45\"\n",
      "\n",
      "\"female\",\"group A\",\"some high school\",\"free/reduced\",\"none\",\"38\",\"43\",\"43\"\n",
      "\n",
      "\"female\",\"group E\",\"some college\",\"standard\",\"none\",\"67\",\"76\",\"75\"\n",
      "\n",
      "\"female\",\"group E\",\"bachelor's degree\",\"standard\",\"none\",\"64\",\"73\",\"70\"\n",
      "\n",
      "\"female\",\"group C\",\"associate's degree\",\"free/reduced\",\"none\",\"57\",\"78\",\"67\"\n",
      "\n",
      "\"female\",\"group D\",\"high school\",\"standard\",\"none\",\"62\",\"64\",\"64\"\n",
      "\n",
      "\"male\",\"group D\",\"master's degree\",\"standard\",\"none\",\"73\",\"70\",\"75\"\n",
      "\n",
      "\"male\",\"group E\",\"some high school\",\"free/reduced\",\"completed\",\"73\",\"67\",\"59\"\n",
      "\n",
      "\"female\",\"group D\",\"some college\",\"standard\",\"none\",\"77\",\"68\",\"77\"\n",
      "\n",
      "\"male\",\"group E\",\"some college\",\"standard\",\"none\",\"76\",\"67\",\"67\"\n",
      "\n",
      "\"male\",\"group C\",\"associate's degree\",\"standard\",\"completed\",\"57\",\"54\",\"56\"\n",
      "\n",
      "\"female\",\"group C\",\"some high school\",\"standard\",\"completed\",\"65\",\"74\",\"77\"\n",
      "\n",
      "\"male\",\"group A\",\"high school\",\"free/reduced\",\"none\",\"48\",\"45\",\"41\"\n",
      "\n",
      "\"female\",\"group B\",\"high school\",\"free/reduced\",\"none\",\"50\",\"67\",\"63\"\n",
      "\n",
      "\"female\",\"group C\",\"associate's degree\",\"standard\",\"none\",\"85\",\"89\",\"95\"\n",
      "\n",
      "\"male\",\"group B\",\"some high school\",\"standard\",\"none\",\"74\",\"63\",\"57\"\n",
      "\n",
      "\"male\",\"group D\",\"some high school\",\"standard\",\"none\",\"60\",\"59\",\"54\"\n",
      "\n",
      "\"female\",\"group C\",\"some high school\",\"standard\",\"completed\",\"59\",\"54\",\"67\"\n",
      "\n",
      "\"male\",\"group A\",\"some college\",\"standard\",\"none\",\"53\",\"43\",\"43\"\n",
      "\n",
      "\"female\",\"group A\",\"some college\",\"free/reduced\",\"none\",\"49\",\"65\",\"55\"\n",
      "\n",
      "\"female\",\"group D\",\"high school\",\"standard\",\"completed\",\"88\",\"99\",\"100\"\n",
      "\n",
      "\"female\",\"group C\",\"high school\",\"standard\",\"none\",\"54\",\"59\",\"62\"\n",
      "\n",
      "\"female\",\"group C\",\"some high school\",\"standard\",\"none\",\"63\",\"73\",\"68\"\n",
      "\n",
      "\"male\",\"group B\",\"associate's degree\",\"standard\",\"completed\",\"65\",\"65\",\"63\"\n",
      "\n",
      "\"female\",\"group B\",\"associate's degree\",\"standard\",\"none\",\"82\",\"80\",\"77\"\n",
      "\n",
      "\"female\",\"group D\",\"high school\",\"free/reduced\",\"completed\",\"52\",\"57\",\"56\"\n",
      "\n",
      "\"male\",\"group D\",\"associate's degree\",\"standard\",\"completed\",\"87\",\"84\",\"85\"\n",
      "\n",
      "\"female\",\"group D\",\"master's degree\",\"standard\",\"completed\",\"70\",\"71\",\"74\"\n",
      "\n",
      "\"male\",\"group E\",\"some college\",\"standard\",\"completed\",\"84\",\"83\",\"78\"\n",
      "\n",
      "\"male\",\"group D\",\"associate's degree\",\"standard\",\"none\",\"71\",\"66\",\"60\"\n",
      "\n",
      "\"male\",\"group B\",\"some high school\",\"standard\",\"completed\",\"63\",\"67\",\"67\"\n",
      "\n",
      "\"female\",\"group C\",\"bachelor's degree\",\"free/reduced\",\"completed\",\"51\",\"72\",\"79\"\n",
      "\n",
      "\"male\",\"group E\",\"high school\",\"standard\",\"none\",\"84\",\"73\",\"69\"\n",
      "\n",
      "\"male\",\"group C\",\"bachelor's degree\",\"standard\",\"completed\",\"71\",\"74\",\"68\"\n",
      "\n",
      "\"male\",\"group C\",\"associate's degree\",\"standard\",\"none\",\"74\",\"73\",\"67\"\n",
      "\n",
      "\"male\",\"group D\",\"some college\",\"standard\",\"none\",\"68\",\"59\",\"62\"\n",
      "\n",
      "\"male\",\"group E\",\"high school\",\"free/reduced\",\"completed\",\"57\",\"56\",\"54\"\n",
      "\n",
      "\"female\",\"group C\",\"associate's degree\",\"free/reduced\",\"completed\",\"82\",\"93\",\"93\"\n",
      "\n",
      "\"female\",\"group D\",\"high school\",\"standard\",\"completed\",\"57\",\"58\",\"64\"\n",
      "\n",
      "\"female\",\"group D\",\"master's degree\",\"free/reduced\",\"completed\",\"47\",\"58\",\"67\"\n",
      "\n",
      "\"female\",\"group A\",\"some high school\",\"standard\",\"completed\",\"59\",\"85\",\"80\"\n",
      "\n",
      "\"male\",\"group B\",\"some college\",\"free/reduced\",\"none\",\"41\",\"39\",\"34\"\n",
      "\n",
      "\"female\",\"group C\",\"some college\",\"free/reduced\",\"none\",\"62\",\"67\",\"62\"\n",
      "\n",
      "\"male\",\"group C\",\"bachelor's degree\",\"standard\",\"none\",\"86\",\"83\",\"86\"\n",
      "\n",
      "\"male\",\"group C\",\"some high school\",\"free/reduced\",\"none\",\"69\",\"71\",\"65\"\n",
      "\n",
      "\"male\",\"group A\",\"some high school\",\"free/reduced\",\"none\",\"65\",\"59\",\"53\"\n",
      "\n",
      "\"male\",\"group C\",\"some high school\",\"free/reduced\",\"none\",\"68\",\"63\",\"54\"\n",
      "\n",
      "\"male\",\"group C\",\"associate's degree\",\"free/reduced\",\"none\",\"64\",\"66\",\"59\"\n",
      "\n",
      "\"female\",\"group C\",\"high school\",\"standard\",\"none\",\"61\",\"72\",\"70\"\n",
      "\n",
      "\"male\",\"group C\",\"high school\",\"standard\",\"none\",\"61\",\"56\",\"55\"\n",
      "\n",
      "\"female\",\"group A\",\"some high school\",\"free/reduced\",\"none\",\"47\",\"59\",\"50\"\n",
      "\n",
      "\"male\",\"group C\",\"some high school\",\"standard\",\"none\",\"73\",\"66\",\"66\"\n",
      "\n",
      "\"male\",\"group C\",\"some college\",\"free/reduced\",\"completed\",\"50\",\"48\",\"53\"\n",
      "\n",
      "\"male\",\"group D\",\"associate's degree\",\"standard\",\"none\",\"75\",\"68\",\"64\"\n",
      "\n",
      "\"male\",\"group D\",\"associate's degree\",\"free/reduced\",\"none\",\"75\",\"66\",\"73\"\n",
      "\n",
      "\"male\",\"group C\",\"high school\",\"standard\",\"none\",\"70\",\"56\",\"51\"\n",
      "\n",
      "\"male\",\"group D\",\"some high school\",\"standard\",\"completed\",\"89\",\"88\",\"82\"\n",
      "\n",
      "\"female\",\"group C\",\"some college\",\"standard\",\"completed\",\"67\",\"81\",\"79\"\n",
      "\n",
      "\"female\",\"group D\",\"high school\",\"standard\",\"none\",\"78\",\"81\",\"80\"\n",
      "\n",
      "\"female\",\"group A\",\"some high school\",\"free/reduced\",\"none\",\"59\",\"73\",\"69\"\n",
      "\n",
      "\"female\",\"group B\",\"associate's degree\",\"standard\",\"none\",\"73\",\"83\",\"76\"\n",
      "\n",
      "\"male\",\"group A\",\"some high school\",\"free/reduced\",\"none\",\"79\",\"82\",\"73\"\n",
      "\n",
      "\"female\",\"group C\",\"some high school\",\"standard\",\"completed\",\"67\",\"74\",\"77\"\n",
      "\n",
      "\"male\",\"group D\",\"some college\",\"free/reduced\",\"none\",\"69\",\"66\",\"60\"\n",
      "\n",
      "\"male\",\"group C\",\"high school\",\"standard\",\"completed\",\"86\",\"81\",\"80\"\n",
      "\n",
      "\"male\",\"group B\",\"high school\",\"standard\",\"none\",\"47\",\"46\",\"42\"\n",
      "\n",
      "\"male\",\"group B\",\"associate's degree\",\"standard\",\"none\",\"81\",\"73\",\"72\"\n",
      "\n",
      "\"female\",\"group C\",\"some college\",\"free/reduced\",\"completed\",\"64\",\"85\",\"85\"\n",
      "\n",
      "\"female\",\"group E\",\"some college\",\"standard\",\"none\",\"100\",\"92\",\"97\"\n",
      "\n",
      "\"female\",\"group C\",\"associate's degree\",\"free/reduced\",\"none\",\"65\",\"77\",\"74\"\n",
      "\n",
      "\"male\",\"group C\",\"some college\",\"free/reduced\",\"none\",\"65\",\"58\",\"49\"\n",
      "\n",
      "\"female\",\"group C\",\"associate's degree\",\"free/reduced\",\"none\",\"53\",\"61\",\"62\"\n",
      "\n",
      "\"male\",\"group C\",\"bachelor's degree\",\"free/reduced\",\"none\",\"37\",\"56\",\"47\"\n",
      "\n",
      "\"female\",\"group D\",\"bachelor's degree\",\"standard\",\"none\",\"79\",\"89\",\"89\"\n",
      "\n",
      "\"male\",\"group D\",\"associate's degree\",\"free/reduced\",\"none\",\"53\",\"54\",\"48\"\n",
      "\n",
      "\"female\",\"group E\",\"bachelor's degree\",\"standard\",\"none\",\"100\",\"100\",\"100\"\n",
      "\n",
      "\"male\",\"group B\",\"high school\",\"standard\",\"completed\",\"72\",\"65\",\"68\"\n",
      "\n",
      "\"male\",\"group C\",\"bachelor's degree\",\"free/reduced\",\"none\",\"53\",\"58\",\"55\"\n",
      "\n",
      "\"male\",\"group B\",\"some college\",\"free/reduced\",\"none\",\"54\",\"54\",\"45\"\n",
      "\n",
      "\"female\",\"group E\",\"some college\",\"standard\",\"none\",\"71\",\"70\",\"76\"\n",
      "\n",
      "\"female\",\"group C\",\"some college\",\"free/reduced\",\"none\",\"77\",\"90\",\"91\"\n",
      "\n",
      "\"male\",\"group A\",\"bachelor's degree\",\"standard\",\"completed\",\"75\",\"58\",\"62\"\n",
      "\n",
      "\"female\",\"group C\",\"some college\",\"standard\",\"none\",\"84\",\"87\",\"91\"\n",
      "\n",
      "\"female\",\"group D\",\"associate's degree\",\"free/reduced\",\"none\",\"26\",\"31\",\"38\"\n",
      "\n",
      "\"male\",\"group A\",\"high school\",\"free/reduced\",\"completed\",\"72\",\"67\",\"65\"\n",
      "\n",
      "\"female\",\"group A\",\"high school\",\"free/reduced\",\"completed\",\"77\",\"88\",\"85\"\n",
      "\n",
      "\"male\",\"group C\",\"some college\",\"standard\",\"none\",\"91\",\"74\",\"76\"\n",
      "\n",
      "\"female\",\"group C\",\"associate's degree\",\"standard\",\"completed\",\"83\",\"85\",\"90\"\n",
      "\n",
      "\"female\",\"group C\",\"high school\",\"standard\",\"none\",\"63\",\"69\",\"74\"\n",
      "\n",
      "\"female\",\"group C\",\"associate's degree\",\"standard\",\"completed\",\"68\",\"86\",\"84\"\n",
      "\n",
      "\"female\",\"group D\",\"some high school\",\"standard\",\"none\",\"59\",\"67\",\"61\"\n",
      "\n",
      "\"female\",\"group B\",\"associate's degree\",\"standard\",\"completed\",\"90\",\"90\",\"91\"\n",
      "\n",
      "\"female\",\"group D\",\"bachelor's degree\",\"standard\",\"completed\",\"71\",\"76\",\"83\"\n",
      "\n",
      "\"male\",\"group E\",\"bachelor's degree\",\"standard\",\"completed\",\"76\",\"62\",\"66\"\n",
      "\n",
      "\"male\",\"group D\",\"associate's degree\",\"standard\",\"none\",\"80\",\"68\",\"72\"\n",
      "\n",
      "\"female\",\"group D\",\"master's degree\",\"standard\",\"none\",\"55\",\"64\",\"70\"\n",
      "\n",
      "\"male\",\"group E\",\"associate's degree\",\"standard\",\"none\",\"76\",\"71\",\"67\"\n",
      "\n",
      "\"male\",\"group B\",\"high school\",\"standard\",\"completed\",\"73\",\"71\",\"68\"\n",
      "\n",
      "\"female\",\"group D\",\"associate's degree\",\"free/reduced\",\"none\",\"52\",\"59\",\"56\"\n",
      "\n",
      "\"male\",\"group C\",\"some college\",\"free/reduced\",\"none\",\"68\",\"68\",\"61\"\n",
      "\n",
      "\"male\",\"group A\",\"high school\",\"standard\",\"none\",\"59\",\"52\",\"46\"\n",
      "\n",
      "\"female\",\"group B\",\"associate's degree\",\"standard\",\"none\",\"49\",\"52\",\"54\"\n",
      "\n",
      "\"male\",\"group C\",\"high school\",\"standard\",\"none\",\"70\",\"74\",\"71\"\n",
      "\n",
      "\"male\",\"group D\",\"some college\",\"free/reduced\",\"none\",\"61\",\"47\",\"56\"\n",
      "\n",
      "\"female\",\"group C\",\"associate's degree\",\"free/reduced\",\"none\",\"60\",\"75\",\"74\"\n",
      "\n",
      "\"male\",\"group B\",\"some high school\",\"standard\",\"completed\",\"64\",\"53\",\"57\"\n",
      "\n",
      "\"male\",\"group A\",\"associate's degree\",\"free/reduced\",\"completed\",\"79\",\"82\",\"82\"\n",
      "\n",
      "\"female\",\"group A\",\"associate's degree\",\"free/reduced\",\"none\",\"65\",\"85\",\"76\"\n",
      "\n",
      "\"female\",\"group C\",\"associate's degree\",\"standard\",\"none\",\"64\",\"64\",\"70\"\n",
      "\n",
      "\"female\",\"group C\",\"some college\",\"standard\",\"none\",\"83\",\"83\",\"90\"\n",
      "\n",
      "\"female\",\"group C\",\"bachelor's degree\",\"standard\",\"none\",\"81\",\"88\",\"90\"\n",
      "\n",
      "\"female\",\"group B\",\"high school\",\"standard\",\"none\",\"54\",\"64\",\"68\"\n",
      "\n",
      "\"male\",\"group D\",\"high school\",\"standard\",\"completed\",\"68\",\"64\",\"66\"\n",
      "\n",
      "\"female\",\"group C\",\"some college\",\"standard\",\"none\",\"54\",\"48\",\"52\"\n",
      "\n",
      "\"female\",\"group D\",\"some college\",\"free/reduced\",\"completed\",\"59\",\"78\",\"76\"\n",
      "\n",
      "\"female\",\"group B\",\"some high school\",\"standard\",\"none\",\"66\",\"69\",\"68\"\n",
      "\n",
      "\"male\",\"group E\",\"some college\",\"standard\",\"none\",\"76\",\"71\",\"72\"\n",
      "\n",
      "\"female\",\"group D\",\"master's degree\",\"standard\",\"none\",\"74\",\"79\",\"82\"\n",
      "\n",
      "\"female\",\"group B\",\"associate's degree\",\"standard\",\"completed\",\"94\",\"87\",\"92\"\n",
      "\n",
      "\"male\",\"group C\",\"some college\",\"free/reduced\",\"none\",\"63\",\"61\",\"54\"\n",
      "\n",
      "\"female\",\"group E\",\"associate's degree\",\"standard\",\"completed\",\"95\",\"89\",\"92\"\n",
      "\n",
      "\"female\",\"group D\",\"master's degree\",\"free/reduced\",\"none\",\"40\",\"59\",\"54\"\n",
      "\n",
      "\"female\",\"group B\",\"some high school\",\"standard\",\"none\",\"82\",\"82\",\"80\"\n",
      "\n",
      "\"male\",\"group A\",\"high school\",\"standard\",\"none\",\"68\",\"70\",\"66\"\n",
      "\n",
      "\"male\",\"group B\",\"bachelor's degree\",\"free/reduced\",\"none\",\"55\",\"59\",\"54\"\n",
      "\n",
      "\"male\",\"group C\",\"master's degree\",\"standard\",\"none\",\"79\",\"78\",\"77\"\n",
      "\n",
      "\"female\",\"group C\",\"bachelor's degree\",\"standard\",\"none\",\"86\",\"92\",\"87\"\n",
      "\n",
      "\"male\",\"group D\",\"some college\",\"standard\",\"none\",\"76\",\"71\",\"73\"\n",
      "\n",
      "\"male\",\"group A\",\"some high school\",\"standard\",\"none\",\"64\",\"50\",\"43\"\n",
      "\n",
      "\"male\",\"group D\",\"some high school\",\"free/reduced\",\"none\",\"62\",\"49\",\"52\"\n",
      "\n",
      "\"female\",\"group B\",\"some high school\",\"standard\",\"completed\",\"54\",\"61\",\"62\"\n",
      "\n",
      "\"female\",\"group B\",\"master's degree\",\"free/reduced\",\"completed\",\"77\",\"97\",\"94\"\n",
      "\n",
      "\"female\",\"group C\",\"some high school\",\"standard\",\"completed\",\"76\",\"87\",\"85\"\n",
      "\n",
      "\"female\",\"group D\",\"some college\",\"standard\",\"none\",\"74\",\"89\",\"84\"\n",
      "\n",
      "\"female\",\"group E\",\"some college\",\"standard\",\"completed\",\"66\",\"74\",\"73\"\n",
      "\n",
      "\"female\",\"group D\",\"some high school\",\"standard\",\"completed\",\"66\",\"78\",\"78\"\n",
      "\n",
      "\"female\",\"group B\",\"high school\",\"free/reduced\",\"completed\",\"67\",\"78\",\"79\"\n",
      "\n",
      "\"male\",\"group D\",\"some college\",\"standard\",\"none\",\"71\",\"49\",\"52\"\n",
      "\n",
      "\"female\",\"group C\",\"associate's degree\",\"standard\",\"none\",\"91\",\"86\",\"84\"\n",
      "\n",
      "\"male\",\"group D\",\"bachelor's degree\",\"standard\",\"none\",\"69\",\"58\",\"57\"\n",
      "\n",
      "\"male\",\"group C\",\"master's degree\",\"free/reduced\",\"none\",\"54\",\"59\",\"50\"\n",
      "\n",
      "\"male\",\"group C\",\"high school\",\"standard\",\"completed\",\"53\",\"52\",\"49\"\n",
      "\n",
      "\"male\",\"group E\",\"some college\",\"standard\",\"none\",\"68\",\"60\",\"59\"\n",
      "\n",
      "\"male\",\"group C\",\"some high school\",\"free/reduced\",\"completed\",\"56\",\"61\",\"60\"\n",
      "\n",
      "\"female\",\"group C\",\"high school\",\"free/reduced\",\"none\",\"36\",\"53\",\"43\"\n",
      "\n",
      "\"female\",\"group D\",\"bachelor's degree\",\"free/reduced\",\"none\",\"29\",\"41\",\"47\"\n",
      "\n",
      "\"female\",\"group C\",\"associate's degree\",\"standard\",\"none\",\"62\",\"74\",\"70\"\n",
      "\n",
      "\"female\",\"group C\",\"associate's degree\",\"standard\",\"completed\",\"68\",\"67\",\"73\"\n",
      "\n",
      "\"female\",\"group C\",\"some high school\",\"standard\",\"none\",\"47\",\"54\",\"53\"\n",
      "\n",
      "\"male\",\"group E\",\"associate's degree\",\"standard\",\"completed\",\"62\",\"61\",\"58\"\n",
      "\n",
      "\"female\",\"group E\",\"associate's degree\",\"standard\",\"completed\",\"79\",\"88\",\"94\"\n",
      "\n",
      "\"male\",\"group B\",\"high school\",\"standard\",\"completed\",\"73\",\"69\",\"68\"\n",
      "\n",
      "\"female\",\"group C\",\"bachelor's degree\",\"free/reduced\",\"completed\",\"66\",\"83\",\"83\"\n",
      "\n",
      "\"male\",\"group C\",\"associate's degree\",\"standard\",\"completed\",\"51\",\"60\",\"58\"\n",
      "\n",
      "\"female\",\"group D\",\"high school\",\"standard\",\"none\",\"51\",\"66\",\"62\"\n",
      "\n",
      "\"male\",\"group E\",\"bachelor's degree\",\"standard\",\"completed\",\"85\",\"66\",\"71\"\n",
      "\n",
      "\"male\",\"group A\",\"associate's degree\",\"standard\",\"completed\",\"97\",\"92\",\"86\"\n",
      "\n",
      "\"male\",\"group C\",\"high school\",\"standard\",\"completed\",\"75\",\"69\",\"68\"\n",
      "\n",
      "\"male\",\"group D\",\"associate's degree\",\"free/reduced\",\"completed\",\"79\",\"82\",\"80\"\n",
      "\n",
      "\"female\",\"group C\",\"associate's degree\",\"standard\",\"none\",\"81\",\"77\",\"79\"\n",
      "\n",
      "\"female\",\"group D\",\"associate's degree\",\"standard\",\"none\",\"82\",\"95\",\"89\"\n",
      "\n",
      "\"female\",\"group D\",\"master's degree\",\"standard\",\"none\",\"64\",\"63\",\"66\"\n",
      "\n",
      "\"male\",\"group E\",\"some high school\",\"free/reduced\",\"completed\",\"78\",\"83\",\"80\"\n",
      "\n",
      "\"female\",\"group A\",\"some high school\",\"standard\",\"completed\",\"92\",\"100\",\"97\"\n",
      "\n",
      "\"male\",\"group C\",\"high school\",\"standard\",\"completed\",\"72\",\"67\",\"64\"\n",
      "\n",
      "\"female\",\"group C\",\"high school\",\"free/reduced\",\"none\",\"62\",\"67\",\"64\"\n",
      "\n",
      "\"male\",\"group C\",\"master's degree\",\"standard\",\"none\",\"79\",\"72\",\"69\"\n",
      "\n",
      "\"male\",\"group C\",\"some high school\",\"free/reduced\",\"none\",\"79\",\"76\",\"65\"\n",
      "\n",
      "\"male\",\"group B\",\"bachelor's degree\",\"free/reduced\",\"completed\",\"87\",\"90\",\"88\"\n",
      "\n",
      "\"female\",\"group B\",\"associate's degree\",\"standard\",\"none\",\"40\",\"48\",\"50\"\n",
      "\n",
      "\"male\",\"group D\",\"some college\",\"free/reduced\",\"none\",\"77\",\"62\",\"64\"\n",
      "\n",
      "\"male\",\"group E\",\"associate's degree\",\"standard\",\"none\",\"53\",\"45\",\"40\"\n",
      "\n",
      "\"female\",\"group C\",\"some college\",\"free/reduced\",\"none\",\"32\",\"39\",\"33\"\n",
      "\n",
      "\"female\",\"group C\",\"associate's degree\",\"standard\",\"completed\",\"55\",\"72\",\"79\"\n",
      "\n",
      "\"male\",\"group C\",\"master's degree\",\"free/reduced\",\"none\",\"61\",\"67\",\"66\"\n",
      "\n",
      "\"female\",\"group B\",\"associate's degree\",\"free/reduced\",\"none\",\"53\",\"70\",\"70\"\n",
      "\n",
      "\"male\",\"group D\",\"some high school\",\"standard\",\"none\",\"73\",\"66\",\"62\"\n",
      "\n",
      "\"female\",\"group D\",\"some college\",\"standard\",\"completed\",\"74\",\"75\",\"79\"\n",
      "\n",
      "\"female\",\"group C\",\"some college\",\"standard\",\"none\",\"63\",\"74\",\"74\"\n",
      "\n",
      "\"male\",\"group C\",\"bachelor's degree\",\"standard\",\"completed\",\"96\",\"90\",\"92\"\n",
      "\n",
      "\"female\",\"group D\",\"some college\",\"free/reduced\",\"completed\",\"63\",\"80\",\"80\"\n",
      "\n",
      "\"male\",\"group B\",\"bachelor's degree\",\"free/reduced\",\"none\",\"48\",\"51\",\"46\"\n",
      "\n",
      "\"male\",\"group B\",\"associate's degree\",\"standard\",\"none\",\"48\",\"43\",\"45\"\n",
      "\n",
      "\"female\",\"group E\",\"bachelor's degree\",\"free/reduced\",\"completed\",\"92\",\"100\",\"100\"\n",
      "\n",
      "\"female\",\"group D\",\"master's degree\",\"free/reduced\",\"completed\",\"61\",\"71\",\"78\"\n",
      "\n",
      "\"male\",\"group B\",\"high school\",\"free/reduced\",\"none\",\"63\",\"48\",\"47\"\n",
      "\n",
      "\"male\",\"group D\",\"bachelor's degree\",\"free/reduced\",\"none\",\"68\",\"68\",\"67\"\n",
      "\n",
      "\"male\",\"group B\",\"some college\",\"standard\",\"completed\",\"71\",\"75\",\"70\"\n",
      "\n",
      "\"male\",\"group A\",\"bachelor's degree\",\"standard\",\"none\",\"91\",\"96\",\"92\"\n",
      "\n",
      "\"female\",\"group C\",\"some college\",\"standard\",\"none\",\"53\",\"62\",\"56\"\n",
      "\n",
      "\"female\",\"group C\",\"high school\",\"free/reduced\",\"completed\",\"50\",\"66\",\"64\"\n",
      "\n",
      "\"female\",\"group E\",\"high school\",\"standard\",\"none\",\"74\",\"81\",\"71\"\n",
      "\n",
      "\"male\",\"group A\",\"associate's degree\",\"free/reduced\",\"completed\",\"40\",\"55\",\"53\"\n",
      "\n",
      "\"male\",\"group A\",\"some college\",\"standard\",\"completed\",\"61\",\"51\",\"52\"\n",
      "\n",
      "\"female\",\"group B\",\"high school\",\"standard\",\"none\",\"81\",\"91\",\"89\"\n",
      "\n",
      "\"female\",\"group B\",\"some college\",\"free/reduced\",\"completed\",\"48\",\"56\",\"58\"\n",
      "\n",
      "\"female\",\"group D\",\"master's degree\",\"standard\",\"none\",\"53\",\"61\",\"68\"\n",
      "\n",
      "\"female\",\"group D\",\"some high school\",\"standard\",\"none\",\"81\",\"97\",\"96\"\n",
      "\n",
      "\"female\",\"group E\",\"some high school\",\"standard\",\"none\",\"77\",\"79\",\"80\"\n",
      "\n",
      "\"female\",\"group D\",\"bachelor's degree\",\"free/reduced\",\"none\",\"63\",\"73\",\"78\"\n",
      "\n",
      "\"female\",\"group D\",\"associate's degree\",\"standard\",\"completed\",\"73\",\"75\",\"80\"\n",
      "\n",
      "\"female\",\"group D\",\"some college\",\"standard\",\"none\",\"69\",\"77\",\"77\"\n",
      "\n",
      "\"female\",\"group C\",\"associate's degree\",\"standard\",\"none\",\"65\",\"76\",\"76\"\n",
      "\n",
      "\"female\",\"group A\",\"high school\",\"standard\",\"none\",\"55\",\"73\",\"73\"\n",
      "\n",
      "\"female\",\"group C\",\"bachelor's degree\",\"free/reduced\",\"none\",\"44\",\"63\",\"62\"\n",
      "\n",
      "\"female\",\"group C\",\"some college\",\"standard\",\"none\",\"54\",\"64\",\"65\"\n",
      "\n",
      "\"female\",\"group A\",\"some high school\",\"standard\",\"none\",\"48\",\"66\",\"65\"\n",
      "\n",
      "\"male\",\"group C\",\"some college\",\"free/reduced\",\"none\",\"58\",\"57\",\"54\"\n",
      "\n",
      "\"male\",\"group A\",\"some high school\",\"standard\",\"none\",\"71\",\"62\",\"50\"\n",
      "\n",
      "\"male\",\"group E\",\"bachelor's degree\",\"standard\",\"none\",\"68\",\"68\",\"64\"\n",
      "\n",
      "\"female\",\"group E\",\"high school\",\"standard\",\"none\",\"74\",\"76\",\"73\"\n",
      "\n",
      "\"female\",\"group C\",\"bachelor's degree\",\"standard\",\"completed\",\"92\",\"100\",\"99\"\n",
      "\n",
      "\"female\",\"group C\",\"bachelor's degree\",\"standard\",\"completed\",\"56\",\"79\",\"72\"\n",
      "\n",
      "\"male\",\"group B\",\"high school\",\"free/reduced\",\"none\",\"30\",\"24\",\"15\"\n",
      "\n",
      "\"male\",\"group A\",\"some high school\",\"standard\",\"none\",\"53\",\"54\",\"48\"\n",
      "\n",
      "\"female\",\"group D\",\"high school\",\"standard\",\"none\",\"69\",\"77\",\"73\"\n",
      "\n",
      "\"female\",\"group D\",\"some high school\",\"standard\",\"none\",\"65\",\"82\",\"81\"\n",
      "\n",
      "\"female\",\"group D\",\"master's degree\",\"standard\",\"none\",\"54\",\"60\",\"63\"\n",
      "\n",
      "\"female\",\"group C\",\"high school\",\"standard\",\"none\",\"29\",\"29\",\"30\"\n",
      "\n",
      "\"female\",\"group E\",\"some college\",\"standard\",\"none\",\"76\",\"78\",\"80\"\n",
      "\n",
      "\"male\",\"group D\",\"high school\",\"free/reduced\",\"none\",\"60\",\"57\",\"51\"\n",
      "\n",
      "\"male\",\"group D\",\"master's degree\",\"free/reduced\",\"completed\",\"84\",\"89\",\"90\"\n",
      "\n",
      "\"male\",\"group C\",\"some high school\",\"standard\",\"none\",\"75\",\"72\",\"62\"\n",
      "\n",
      "\"female\",\"group C\",\"associate's degree\",\"standard\",\"none\",\"85\",\"84\",\"82\"\n",
      "\n",
      "\"female\",\"group C\",\"master's degree\",\"free/reduced\",\"none\",\"40\",\"58\",\"54\"\n",
      "\n",
      "\"female\",\"group E\",\"some college\",\"standard\",\"none\",\"61\",\"64\",\"62\"\n",
      "\n",
      "\"female\",\"group B\",\"associate's degree\",\"standard\",\"none\",\"58\",\"63\",\"65\"\n",
      "\n",
      "\"male\",\"group D\",\"some college\",\"free/reduced\",\"completed\",\"69\",\"60\",\"63\"\n",
      "\n",
      "\"female\",\"group C\",\"some college\",\"standard\",\"none\",\"58\",\"59\",\"66\"\n",
      "\n",
      "\"male\",\"group C\",\"bachelor's degree\",\"standard\",\"completed\",\"94\",\"90\",\"91\"\n",
      "\n",
      "\"female\",\"group C\",\"associate's degree\",\"standard\",\"none\",\"65\",\"77\",\"74\"\n",
      "\n",
      "\"female\",\"group A\",\"associate's degree\",\"standard\",\"none\",\"82\",\"93\",\"93\"\n",
      "\n",
      "\"female\",\"group C\",\"high school\",\"standard\",\"none\",\"60\",\"68\",\"72\"\n",
      "\n",
      "\"female\",\"group E\",\"bachelor's degree\",\"standard\",\"none\",\"37\",\"45\",\"38\"\n",
      "\n",
      "\"male\",\"group D\",\"bachelor's degree\",\"standard\",\"none\",\"88\",\"78\",\"83\"\n",
      "\n",
      "\"male\",\"group D\",\"master's degree\",\"standard\",\"none\",\"95\",\"81\",\"84\"\n",
      "\n",
      "\"male\",\"group C\",\"associate's degree\",\"free/reduced\",\"completed\",\"65\",\"73\",\"68\"\n",
      "\n",
      "\"female\",\"group C\",\"high school\",\"free/reduced\",\"none\",\"35\",\"61\",\"54\"\n",
      "\n",
      "\"male\",\"group B\",\"bachelor's degree\",\"free/reduced\",\"none\",\"62\",\"63\",\"56\"\n",
      "\n",
      "\"male\",\"group C\",\"high school\",\"free/reduced\",\"completed\",\"58\",\"51\",\"52\"\n",
      "\n",
      "\"male\",\"group A\",\"some college\",\"standard\",\"completed\",\"100\",\"96\",\"86\"\n",
      "\n",
      "\"female\",\"group E\",\"bachelor's degree\",\"free/reduced\",\"none\",\"61\",\"58\",\"62\"\n",
      "\n",
      "\"male\",\"group D\",\"some college\",\"standard\",\"completed\",\"100\",\"97\",\"99\"\n",
      "\n",
      "\"male\",\"group B\",\"associate's degree\",\"free/reduced\",\"completed\",\"69\",\"70\",\"63\"\n",
      "\n",
      "\"male\",\"group D\",\"associate's degree\",\"standard\",\"none\",\"61\",\"48\",\"46\"\n",
      "\n",
      "\"male\",\"group D\",\"some college\",\"free/reduced\",\"none\",\"49\",\"57\",\"46\"\n",
      "\n",
      "\"female\",\"group C\",\"some high school\",\"standard\",\"completed\",\"44\",\"51\",\"55\"\n",
      "\n",
      "\"male\",\"group D\",\"some college\",\"standard\",\"none\",\"67\",\"64\",\"70\"\n",
      "\n",
      "\"male\",\"group B\",\"high school\",\"standard\",\"none\",\"79\",\"60\",\"65\"\n",
      "\n",
      "\"female\",\"group B\",\"bachelor's degree\",\"standard\",\"completed\",\"66\",\"74\",\"81\"\n",
      "\n",
      "\"female\",\"group C\",\"high school\",\"standard\",\"none\",\"75\",\"88\",\"85\"\n",
      "\n",
      "\"male\",\"group D\",\"some high school\",\"standard\",\"none\",\"84\",\"84\",\"80\"\n",
      "\n",
      "\"male\",\"group A\",\"high school\",\"standard\",\"none\",\"71\",\"74\",\"64\"\n",
      "\n",
      "\"female\",\"group B\",\"high school\",\"free/reduced\",\"completed\",\"67\",\"80\",\"81\"\n",
      "\n",
      "\"female\",\"group D\",\"some high school\",\"standard\",\"completed\",\"80\",\"92\",\"88\"\n",
      "\n",
      "\"male\",\"group E\",\"some college\",\"standard\",\"none\",\"86\",\"76\",\"74\"\n",
      "\n",
      "\"female\",\"group D\",\"associate's degree\",\"standard\",\"none\",\"76\",\"74\",\"73\"\n",
      "\n",
      "\"male\",\"group D\",\"high school\",\"standard\",\"none\",\"41\",\"52\",\"51\"\n",
      "\n",
      "\"female\",\"group D\",\"associate's degree\",\"free/reduced\",\"completed\",\"74\",\"88\",\"90\"\n",
      "\n",
      "\"female\",\"group B\",\"some high school\",\"free/reduced\",\"none\",\"72\",\"81\",\"79\"\n",
      "\n",
      "\"female\",\"group E\",\"high school\",\"standard\",\"completed\",\"74\",\"79\",\"80\"\n",
      "\n",
      "\"male\",\"group B\",\"high school\",\"standard\",\"none\",\"70\",\"65\",\"60\"\n",
      "\n",
      "\"female\",\"group B\",\"bachelor's degree\",\"standard\",\"completed\",\"65\",\"81\",\"81\"\n",
      "\n",
      "\"female\",\"group D\",\"associate's degree\",\"standard\",\"none\",\"59\",\"70\",\"65\"\n",
      "\n",
      "\"female\",\"group E\",\"high school\",\"free/reduced\",\"none\",\"64\",\"62\",\"68\"\n",
      "\n",
      "\"female\",\"group B\",\"high school\",\"standard\",\"none\",\"50\",\"53\",\"55\"\n",
      "\n",
      "\"female\",\"group D\",\"some college\",\"standard\",\"completed\",\"69\",\"79\",\"81\"\n",
      "\n",
      "\"male\",\"group C\",\"some high school\",\"free/reduced\",\"completed\",\"51\",\"56\",\"53\"\n",
      "\n",
      "\"female\",\"group A\",\"high school\",\"standard\",\"completed\",\"68\",\"80\",\"76\"\n",
      "\n",
      "\"female\",\"group D\",\"some college\",\"standard\",\"completed\",\"85\",\"86\",\"98\"\n",
      "\n",
      "\"female\",\"group A\",\"associate's degree\",\"standard\",\"completed\",\"65\",\"70\",\"74\"\n",
      "\n",
      "\"female\",\"group B\",\"some high school\",\"standard\",\"none\",\"73\",\"79\",\"79\"\n",
      "\n",
      "\"female\",\"group B\",\"some college\",\"standard\",\"none\",\"62\",\"67\",\"67\"\n",
      "\n",
      "\"male\",\"group C\",\"associate's degree\",\"free/reduced\",\"none\",\"77\",\"67\",\"64\"\n",
      "\n",
      "\"male\",\"group D\",\"some high school\",\"standard\",\"none\",\"69\",\"66\",\"61\"\n",
      "\n",
      "\"female\",\"group D\",\"associate's degree\",\"free/reduced\",\"none\",\"43\",\"60\",\"58\"\n",
      "\n",
      "\"male\",\"group D\",\"associate's degree\",\"standard\",\"none\",\"90\",\"87\",\"85\"\n",
      "\n",
      "\"male\",\"group C\",\"some college\",\"free/reduced\",\"none\",\"74\",\"77\",\"73\"\n",
      "\n",
      "\"male\",\"group C\",\"some high school\",\"standard\",\"none\",\"73\",\"66\",\"63\"\n",
      "\n",
      "\"female\",\"group D\",\"some college\",\"free/reduced\",\"none\",\"55\",\"71\",\"69\"\n",
      "\n",
      "\"female\",\"group C\",\"high school\",\"standard\",\"none\",\"65\",\"69\",\"67\"\n",
      "\n",
      "\"male\",\"group D\",\"associate's degree\",\"standard\",\"none\",\"80\",\"63\",\"63\"\n",
      "\n",
      "\"female\",\"group C\",\"some high school\",\"free/reduced\",\"completed\",\"50\",\"60\",\"60\"\n",
      "\n",
      "\"female\",\"group C\",\"some college\",\"free/reduced\",\"completed\",\"63\",\"73\",\"71\"\n",
      "\n",
      "\"female\",\"group B\",\"bachelor's degree\",\"free/reduced\",\"none\",\"77\",\"85\",\"87\"\n",
      "\n",
      "\"male\",\"group C\",\"some college\",\"standard\",\"none\",\"73\",\"74\",\"61\"\n",
      "\n",
      "\"male\",\"group D\",\"associate's degree\",\"standard\",\"completed\",\"81\",\"72\",\"77\"\n",
      "\n",
      "\"female\",\"group C\",\"high school\",\"free/reduced\",\"none\",\"66\",\"76\",\"68\"\n",
      "\n",
      "\"male\",\"group D\",\"associate's degree\",\"free/reduced\",\"none\",\"52\",\"57\",\"50\"\n",
      "\n",
      "\"female\",\"group C\",\"some college\",\"standard\",\"none\",\"69\",\"78\",\"76\"\n",
      "\n",
      "\"female\",\"group C\",\"associate's degree\",\"standard\",\"completed\",\"65\",\"84\",\"84\"\n",
      "\n",
      "\"female\",\"group D\",\"high school\",\"standard\",\"completed\",\"69\",\"77\",\"78\"\n",
      "\n",
      "\"female\",\"group B\",\"some college\",\"standard\",\"completed\",\"50\",\"64\",\"66\"\n",
      "\n",
      "\"female\",\"group E\",\"some college\",\"standard\",\"completed\",\"73\",\"78\",\"76\"\n",
      "\n",
      "\"female\",\"group C\",\"some high school\",\"standard\",\"completed\",\"70\",\"82\",\"76\"\n",
      "\n",
      "\"male\",\"group D\",\"associate's degree\",\"free/reduced\",\"none\",\"81\",\"75\",\"78\"\n",
      "\n",
      "\"male\",\"group D\",\"some college\",\"free/reduced\",\"none\",\"63\",\"61\",\"60\"\n",
      "\n",
      "\"female\",\"group D\",\"high school\",\"standard\",\"none\",\"67\",\"72\",\"74\"\n",
      "\n",
      "\"male\",\"group B\",\"high school\",\"standard\",\"none\",\"60\",\"68\",\"60\"\n",
      "\n",
      "\"male\",\"group B\",\"high school\",\"standard\",\"none\",\"62\",\"55\",\"54\"\n",
      "\n",
      "\"female\",\"group C\",\"some high school\",\"free/reduced\",\"completed\",\"29\",\"40\",\"44\"\n",
      "\n",
      "\"male\",\"group B\",\"some college\",\"standard\",\"completed\",\"62\",\"66\",\"68\"\n",
      "\n",
      "\"female\",\"group E\",\"master's degree\",\"standard\",\"completed\",\"94\",\"99\",\"100\"\n",
      "\n",
      "\"male\",\"group E\",\"some college\",\"standard\",\"completed\",\"85\",\"75\",\"68\"\n",
      "\n",
      "\"male\",\"group D\",\"associate's degree\",\"free/reduced\",\"none\",\"77\",\"78\",\"73\"\n",
      "\n",
      "\"male\",\"group A\",\"high school\",\"free/reduced\",\"none\",\"53\",\"58\",\"44\"\n",
      "\n",
      "\"male\",\"group E\",\"some college\",\"free/reduced\",\"none\",\"93\",\"90\",\"83\"\n",
      "\n",
      "\"female\",\"group C\",\"associate's degree\",\"standard\",\"none\",\"49\",\"53\",\"53\"\n",
      "\n",
      "\"female\",\"group E\",\"associate's degree\",\"free/reduced\",\"none\",\"73\",\"76\",\"78\"\n",
      "\n",
      "\"female\",\"group C\",\"bachelor's degree\",\"free/reduced\",\"completed\",\"66\",\"74\",\"81\"\n",
      "\n",
      "\"female\",\"group D\",\"associate's degree\",\"standard\",\"none\",\"77\",\"77\",\"73\"\n",
      "\n",
      "\"female\",\"group C\",\"some high school\",\"standard\",\"none\",\"49\",\"63\",\"56\"\n",
      "\n",
      "\"female\",\"group D\",\"some college\",\"free/reduced\",\"none\",\"79\",\"89\",\"86\"\n",
      "\n",
      "\"female\",\"group C\",\"associate's degree\",\"standard\",\"completed\",\"75\",\"82\",\"90\"\n",
      "\n",
      "\"female\",\"group A\",\"bachelor's degree\",\"standard\",\"none\",\"59\",\"72\",\"70\"\n",
      "\n",
      "\"female\",\"group D\",\"associate's degree\",\"standard\",\"completed\",\"57\",\"78\",\"79\"\n",
      "\n",
      "\"male\",\"group C\",\"high school\",\"free/reduced\",\"none\",\"66\",\"66\",\"59\"\n",
      "\n",
      "\"female\",\"group E\",\"bachelor's degree\",\"standard\",\"completed\",\"79\",\"81\",\"82\"\n",
      "\n",
      "\"female\",\"group B\",\"some high school\",\"standard\",\"none\",\"57\",\"67\",\"72\"\n",
      "\n",
      "\"male\",\"group A\",\"bachelor's degree\",\"standard\",\"completed\",\"87\",\"84\",\"87\"\n",
      "\n",
      "\"female\",\"group D\",\"some college\",\"standard\",\"none\",\"63\",\"64\",\"67\"\n",
      "\n",
      "\"female\",\"group B\",\"some high school\",\"free/reduced\",\"completed\",\"59\",\"63\",\"64\"\n",
      "\n",
      "\"male\",\"group A\",\"bachelor's degree\",\"free/reduced\",\"none\",\"62\",\"72\",\"65\"\n",
      "\n",
      "\"male\",\"group D\",\"high school\",\"standard\",\"none\",\"46\",\"34\",\"36\"\n",
      "\n",
      "\"male\",\"group C\",\"some college\",\"standard\",\"none\",\"66\",\"59\",\"52\"\n",
      "\n",
      "\"male\",\"group D\",\"high school\",\"standard\",\"none\",\"89\",\"87\",\"79\"\n",
      "\n",
      "\"female\",\"group D\",\"associate's degree\",\"free/reduced\",\"completed\",\"42\",\"61\",\"58\"\n",
      "\n",
      "\"male\",\"group C\",\"some college\",\"standard\",\"completed\",\"93\",\"84\",\"90\"\n",
      "\n",
      "\"female\",\"group E\",\"some high school\",\"standard\",\"completed\",\"80\",\"85\",\"85\"\n",
      "\n",
      "\"female\",\"group D\",\"some college\",\"standard\",\"none\",\"98\",\"100\",\"99\"\n",
      "\n",
      "\"male\",\"group D\",\"master's degree\",\"standard\",\"none\",\"81\",\"81\",\"84\"\n",
      "\n",
      "\"female\",\"group B\",\"some high school\",\"standard\",\"completed\",\"60\",\"70\",\"74\"\n",
      "\n",
      "\"female\",\"group B\",\"associate's degree\",\"free/reduced\",\"completed\",\"76\",\"94\",\"87\"\n",
      "\n",
      "\"male\",\"group C\",\"associate's degree\",\"standard\",\"completed\",\"73\",\"78\",\"72\"\n",
      "\n",
      "\"female\",\"group C\",\"associate's degree\",\"standard\",\"completed\",\"96\",\"96\",\"99\"\n",
      "\n",
      "\"female\",\"group C\",\"high school\",\"standard\",\"none\",\"76\",\"76\",\"74\"\n",
      "\n",
      "\"male\",\"group E\",\"associate's degree\",\"free/reduced\",\"completed\",\"91\",\"73\",\"80\"\n",
      "\n",
      "\"female\",\"group C\",\"some college\",\"free/reduced\",\"none\",\"62\",\"72\",\"70\"\n",
      "\n",
      "\"male\",\"group D\",\"some high school\",\"free/reduced\",\"completed\",\"55\",\"59\",\"59\"\n",
      "\n",
      "\"female\",\"group B\",\"some high school\",\"free/reduced\",\"completed\",\"74\",\"90\",\"88\"\n",
      "\n",
      "\"male\",\"group C\",\"high school\",\"standard\",\"none\",\"50\",\"48\",\"42\"\n",
      "\n",
      "\"male\",\"group B\",\"some college\",\"standard\",\"none\",\"47\",\"43\",\"41\"\n",
      "\n",
      "\"male\",\"group E\",\"some college\",\"standard\",\"completed\",\"81\",\"74\",\"71\"\n",
      "\n",
      "\"female\",\"group E\",\"associate's degree\",\"standard\",\"completed\",\"65\",\"75\",\"77\"\n",
      "\n",
      "\"male\",\"group E\",\"some high school\",\"standard\",\"completed\",\"68\",\"51\",\"57\"\n",
      "\n",
      "\"female\",\"group D\",\"high school\",\"free/reduced\",\"none\",\"73\",\"92\",\"84\"\n",
      "\n",
      "\"male\",\"group C\",\"some college\",\"standard\",\"none\",\"53\",\"39\",\"37\"\n",
      "\n",
      "\"female\",\"group B\",\"associate's degree\",\"free/reduced\",\"completed\",\"68\",\"77\",\"80\"\n",
      "\n",
      "\"male\",\"group A\",\"some high school\",\"free/reduced\",\"none\",\"55\",\"46\",\"43\"\n",
      "\n",
      "\"female\",\"group C\",\"some college\",\"standard\",\"completed\",\"87\",\"89\",\"94\"\n",
      "\n",
      "\"male\",\"group D\",\"some high school\",\"standard\",\"none\",\"55\",\"47\",\"44\"\n",
      "\n",
      "\"female\",\"group E\",\"some college\",\"free/reduced\",\"none\",\"53\",\"58\",\"57\"\n",
      "\n",
      "\"male\",\"group C\",\"master's degree\",\"standard\",\"none\",\"67\",\"57\",\"59\"\n",
      "\n",
      "\"male\",\"group C\",\"associate's degree\",\"standard\",\"none\",\"92\",\"79\",\"84\"\n",
      "\n",
      "\"female\",\"group B\",\"some college\",\"free/reduced\",\"completed\",\"53\",\"66\",\"73\"\n",
      "\n",
      "\"male\",\"group D\",\"associate's degree\",\"standard\",\"none\",\"81\",\"71\",\"73\"\n",
      "\n",
      "\"male\",\"group C\",\"high school\",\"free/reduced\",\"none\",\"61\",\"60\",\"55\"\n",
      "\n",
      "\"male\",\"group D\",\"bachelor's degree\",\"standard\",\"none\",\"80\",\"73\",\"72\"\n",
      "\n",
      "\"female\",\"group A\",\"associate's degree\",\"free/reduced\",\"none\",\"37\",\"57\",\"56\"\n",
      "\n",
      "\"female\",\"group C\",\"high school\",\"standard\",\"none\",\"81\",\"84\",\"82\"\n",
      "\n",
      "\"female\",\"group C\",\"associate's degree\",\"standard\",\"completed\",\"59\",\"73\",\"72\"\n",
      "\n",
      "\"male\",\"group B\",\"some college\",\"free/reduced\",\"none\",\"55\",\"55\",\"47\"\n",
      "\n",
      "\"male\",\"group D\",\"associate's degree\",\"standard\",\"none\",\"72\",\"79\",\"74\"\n",
      "\n",
      "\"male\",\"group D\",\"high school\",\"standard\",\"none\",\"69\",\"75\",\"71\"\n",
      "\n",
      "\"male\",\"group C\",\"some college\",\"standard\",\"none\",\"69\",\"64\",\"68\"\n",
      "\n",
      "\"female\",\"group C\",\"bachelor's degree\",\"free/reduced\",\"none\",\"50\",\"60\",\"59\"\n",
      "\n",
      "\"male\",\"group B\",\"some college\",\"standard\",\"completed\",\"87\",\"84\",\"86\"\n",
      "\n",
      "\"male\",\"group D\",\"some high school\",\"standard\",\"completed\",\"71\",\"69\",\"68\"\n",
      "\n",
      "\"male\",\"group E\",\"some college\",\"standard\",\"none\",\"68\",\"72\",\"65\"\n",
      "\n",
      "\"male\",\"group C\",\"master's degree\",\"free/reduced\",\"completed\",\"79\",\"77\",\"75\"\n",
      "\n",
      "\"female\",\"group C\",\"some high school\",\"standard\",\"completed\",\"77\",\"90\",\"85\"\n",
      "\n",
      "\"male\",\"group C\",\"associate's degree\",\"free/reduced\",\"none\",\"58\",\"55\",\"53\"\n",
      "\n",
      "\"female\",\"group E\",\"associate's degree\",\"standard\",\"none\",\"84\",\"95\",\"92\"\n",
      "\n",
      "\"male\",\"group D\",\"some college\",\"standard\",\"none\",\"55\",\"58\",\"52\"\n",
      "\n",
      "\"male\",\"group E\",\"bachelor's degree\",\"free/reduced\",\"completed\",\"70\",\"68\",\"72\"\n",
      "\n",
      "\"female\",\"group D\",\"some college\",\"free/reduced\",\"completed\",\"52\",\"59\",\"65\"\n",
      "\n",
      "\"male\",\"group B\",\"some college\",\"standard\",\"completed\",\"69\",\"77\",\"77\"\n",
      "\n",
      "\"female\",\"group C\",\"high school\",\"free/reduced\",\"none\",\"53\",\"72\",\"64\"\n",
      "\n",
      "\"female\",\"group D\",\"some high school\",\"standard\",\"none\",\"48\",\"58\",\"54\"\n",
      "\n",
      "\"male\",\"group D\",\"some high school\",\"standard\",\"completed\",\"78\",\"81\",\"86\"\n",
      "\n",
      "\"female\",\"group B\",\"high school\",\"standard\",\"none\",\"62\",\"62\",\"63\"\n",
      "\n",
      "\"male\",\"group D\",\"some college\",\"standard\",\"none\",\"60\",\"63\",\"59\"\n",
      "\n",
      "\"female\",\"group B\",\"high school\",\"standard\",\"none\",\"74\",\"72\",\"72\"\n",
      "\n",
      "\"female\",\"group C\",\"high school\",\"standard\",\"completed\",\"58\",\"75\",\"77\"\n",
      "\n",
      "\"male\",\"group B\",\"high school\",\"standard\",\"completed\",\"76\",\"62\",\"60\"\n",
      "\n",
      "\"female\",\"group D\",\"some high school\",\"standard\",\"none\",\"68\",\"71\",\"75\"\n",
      "\n",
      "\"male\",\"group A\",\"some college\",\"free/reduced\",\"none\",\"58\",\"60\",\"57\"\n",
      "\n",
      "\"male\",\"group B\",\"high school\",\"standard\",\"none\",\"52\",\"48\",\"49\"\n",
      "\n",
      "\"male\",\"group D\",\"bachelor's degree\",\"standard\",\"none\",\"75\",\"73\",\"74\"\n",
      "\n",
      "\"female\",\"group B\",\"some high school\",\"free/reduced\",\"completed\",\"52\",\"67\",\"72\"\n",
      "\n",
      "\"female\",\"group C\",\"bachelor's degree\",\"free/reduced\",\"none\",\"62\",\"78\",\"79\"\n",
      "\n",
      "\"male\",\"group B\",\"some college\",\"standard\",\"none\",\"66\",\"65\",\"60\"\n",
      "\n",
      "\"female\",\"group B\",\"some high school\",\"free/reduced\",\"none\",\"49\",\"58\",\"55\"\n",
      "\n",
      "\"female\",\"group B\",\"high school\",\"standard\",\"none\",\"66\",\"72\",\"70\"\n",
      "\n",
      "\"female\",\"group C\",\"some college\",\"free/reduced\",\"none\",\"35\",\"44\",\"43\"\n",
      "\n",
      "\"female\",\"group A\",\"some college\",\"standard\",\"completed\",\"72\",\"79\",\"82\"\n",
      "\n",
      "\"male\",\"group E\",\"associate's degree\",\"standard\",\"completed\",\"94\",\"85\",\"82\"\n",
      "\n",
      "\"female\",\"group D\",\"associate's degree\",\"free/reduced\",\"none\",\"46\",\"56\",\"57\"\n",
      "\n",
      "\"female\",\"group B\",\"master's degree\",\"standard\",\"none\",\"77\",\"90\",\"84\"\n",
      "\n",
      "\"female\",\"group B\",\"high school\",\"free/reduced\",\"completed\",\"76\",\"85\",\"82\"\n",
      "\n",
      "\"female\",\"group C\",\"associate's degree\",\"standard\",\"completed\",\"52\",\"59\",\"62\"\n",
      "\n",
      "\"male\",\"group C\",\"bachelor's degree\",\"standard\",\"completed\",\"91\",\"81\",\"79\"\n",
      "\n",
      "\"female\",\"group B\",\"some high school\",\"standard\",\"completed\",\"32\",\"51\",\"44\"\n",
      "\n",
      "\"female\",\"group E\",\"some high school\",\"free/reduced\",\"none\",\"72\",\"79\",\"77\"\n",
      "\n",
      "\"female\",\"group B\",\"some college\",\"standard\",\"none\",\"19\",\"38\",\"32\"\n",
      "\n",
      "\"male\",\"group C\",\"associate's degree\",\"free/reduced\",\"none\",\"68\",\"65\",\"61\"\n",
      "\n",
      "\"female\",\"group C\",\"master's degree\",\"free/reduced\",\"none\",\"52\",\"65\",\"61\"\n",
      "\n",
      "\"female\",\"group B\",\"high school\",\"standard\",\"none\",\"48\",\"62\",\"60\"\n",
      "\n",
      "\"female\",\"group D\",\"some college\",\"free/reduced\",\"none\",\"60\",\"66\",\"70\"\n",
      "\n",
      "\"male\",\"group D\",\"high school\",\"free/reduced\",\"none\",\"66\",\"74\",\"69\"\n",
      "\n",
      "\"male\",\"group E\",\"some high school\",\"standard\",\"completed\",\"89\",\"84\",\"77\"\n",
      "\n",
      "\"female\",\"group B\",\"high school\",\"standard\",\"none\",\"42\",\"52\",\"51\"\n",
      "\n",
      "\"female\",\"group E\",\"associate's degree\",\"free/reduced\",\"completed\",\"57\",\"68\",\"73\"\n",
      "\n",
      "\"male\",\"group D\",\"high school\",\"standard\",\"none\",\"70\",\"70\",\"70\"\n",
      "\n",
      "\"female\",\"group E\",\"associate's degree\",\"free/reduced\",\"none\",\"70\",\"84\",\"81\"\n",
      "\n",
      "\"male\",\"group E\",\"some college\",\"standard\",\"none\",\"69\",\"60\",\"54\"\n",
      "\n",
      "\"female\",\"group C\",\"associate's degree\",\"standard\",\"none\",\"52\",\"55\",\"57\"\n",
      "\n",
      "\"male\",\"group C\",\"some high school\",\"standard\",\"completed\",\"67\",\"73\",\"68\"\n",
      "\n",
      "\"male\",\"group C\",\"some high school\",\"standard\",\"completed\",\"76\",\"80\",\"73\"\n",
      "\n",
      "\"female\",\"group E\",\"associate's degree\",\"standard\",\"none\",\"87\",\"94\",\"95\"\n",
      "\n",
      "\"female\",\"group B\",\"some college\",\"standard\",\"none\",\"82\",\"85\",\"87\"\n",
      "\n",
      "\"female\",\"group C\",\"some college\",\"standard\",\"none\",\"73\",\"76\",\"78\"\n",
      "\n",
      "\"male\",\"group A\",\"some college\",\"free/reduced\",\"none\",\"75\",\"81\",\"74\"\n",
      "\n",
      "\"female\",\"group D\",\"some college\",\"free/reduced\",\"none\",\"64\",\"74\",\"75\"\n",
      "\n",
      "\"female\",\"group E\",\"high school\",\"free/reduced\",\"none\",\"41\",\"45\",\"40\"\n",
      "\n",
      "\"male\",\"group C\",\"high school\",\"standard\",\"none\",\"90\",\"75\",\"69\"\n",
      "\n",
      "\"male\",\"group B\",\"bachelor's degree\",\"standard\",\"none\",\"59\",\"54\",\"51\"\n",
      "\n",
      "\"male\",\"group A\",\"some high school\",\"standard\",\"none\",\"51\",\"31\",\"36\"\n",
      "\n",
      "\"male\",\"group A\",\"high school\",\"free/reduced\",\"none\",\"45\",\"47\",\"49\"\n",
      "\n",
      "\"female\",\"group C\",\"master's degree\",\"standard\",\"completed\",\"54\",\"64\",\"67\"\n",
      "\n",
      "\"male\",\"group E\",\"some high school\",\"standard\",\"completed\",\"87\",\"84\",\"76\"\n",
      "\n",
      "\"female\",\"group C\",\"high school\",\"standard\",\"none\",\"72\",\"80\",\"83\"\n",
      "\n",
      "\"male\",\"group B\",\"some high school\",\"standard\",\"completed\",\"94\",\"86\",\"87\"\n",
      "\n",
      "\"female\",\"group A\",\"bachelor's degree\",\"standard\",\"none\",\"45\",\"59\",\"64\"\n",
      "\n",
      "\"male\",\"group D\",\"bachelor's degree\",\"free/reduced\",\"completed\",\"61\",\"70\",\"76\"\n",
      "\n",
      "\"female\",\"group B\",\"high school\",\"free/reduced\",\"none\",\"60\",\"72\",\"68\"\n",
      "\n",
      "\"female\",\"group C\",\"some high school\",\"standard\",\"none\",\"77\",\"91\",\"88\"\n",
      "\n",
      "\"female\",\"group A\",\"some high school\",\"standard\",\"completed\",\"85\",\"90\",\"92\"\n",
      "\n",
      "\"female\",\"group D\",\"bachelor's degree\",\"free/reduced\",\"none\",\"78\",\"90\",\"93\"\n",
      "\n",
      "\"male\",\"group E\",\"some college\",\"free/reduced\",\"completed\",\"49\",\"52\",\"51\"\n",
      "\n",
      "\"female\",\"group B\",\"high school\",\"free/reduced\",\"none\",\"71\",\"87\",\"82\"\n",
      "\n",
      "\"female\",\"group C\",\"some high school\",\"free/reduced\",\"none\",\"48\",\"58\",\"52\"\n",
      "\n",
      "\"male\",\"group C\",\"high school\",\"standard\",\"none\",\"62\",\"67\",\"58\"\n",
      "\n",
      "\"female\",\"group C\",\"associate's degree\",\"free/reduced\",\"completed\",\"56\",\"68\",\"70\"\n",
      "\n",
      "\"female\",\"group C\",\"some high school\",\"standard\",\"none\",\"65\",\"69\",\"76\"\n",
      "\n",
      "\"female\",\"group D\",\"some high school\",\"free/reduced\",\"completed\",\"69\",\"86\",\"81\"\n",
      "\n",
      "\"male\",\"group B\",\"some high school\",\"standard\",\"none\",\"68\",\"54\",\"53\"\n",
      "\n",
      "\"female\",\"group A\",\"some college\",\"free/reduced\",\"none\",\"61\",\"60\",\"57\"\n",
      "\n",
      "\"female\",\"group C\",\"bachelor's degree\",\"free/reduced\",\"completed\",\"74\",\"86\",\"89\"\n",
      "\n",
      "\"male\",\"group A\",\"bachelor's degree\",\"standard\",\"none\",\"64\",\"60\",\"58\"\n",
      "\n",
      "\"female\",\"group B\",\"high school\",\"standard\",\"completed\",\"77\",\"82\",\"89\"\n",
      "\n",
      "\"male\",\"group B\",\"some college\",\"standard\",\"none\",\"58\",\"50\",\"45\"\n",
      "\n",
      "\"female\",\"group C\",\"high school\",\"standard\",\"completed\",\"60\",\"64\",\"74\"\n",
      "\n",
      "\"male\",\"group E\",\"high school\",\"standard\",\"none\",\"73\",\"64\",\"57\"\n",
      "\n",
      "\"female\",\"group A\",\"high school\",\"standard\",\"completed\",\"75\",\"82\",\"79\"\n",
      "\n",
      "\"male\",\"group B\",\"associate's degree\",\"free/reduced\",\"completed\",\"58\",\"57\",\"53\"\n",
      "\n",
      "\"female\",\"group C\",\"associate's degree\",\"standard\",\"none\",\"66\",\"77\",\"73\"\n",
      "\n",
      "\"female\",\"group D\",\"high school\",\"free/reduced\",\"none\",\"39\",\"52\",\"46\"\n",
      "\n",
      "\"male\",\"group C\",\"some high school\",\"standard\",\"none\",\"64\",\"58\",\"51\"\n",
      "\n",
      "\"female\",\"group B\",\"high school\",\"free/reduced\",\"completed\",\"23\",\"44\",\"36\"\n",
      "\n",
      "\"male\",\"group B\",\"some college\",\"free/reduced\",\"completed\",\"74\",\"77\",\"76\"\n",
      "\n",
      "\"female\",\"group D\",\"some high school\",\"free/reduced\",\"completed\",\"40\",\"65\",\"64\"\n",
      "\n",
      "\"male\",\"group E\",\"master's degree\",\"standard\",\"none\",\"90\",\"85\",\"84\"\n",
      "\n",
      "\"male\",\"group C\",\"master's degree\",\"standard\",\"completed\",\"91\",\"85\",\"85\"\n",
      "\n",
      "\"male\",\"group D\",\"high school\",\"standard\",\"none\",\"64\",\"54\",\"50\"\n",
      "\n",
      "\"female\",\"group C\",\"high school\",\"standard\",\"none\",\"59\",\"72\",\"68\"\n",
      "\n",
      "\"male\",\"group D\",\"associate's degree\",\"standard\",\"none\",\"80\",\"75\",\"69\"\n",
      "\n",
      "\"male\",\"group C\",\"master's degree\",\"standard\",\"none\",\"71\",\"67\",\"67\"\n",
      "\n",
      "\"female\",\"group A\",\"high school\",\"standard\",\"none\",\"61\",\"68\",\"63\"\n",
      "\n",
      "\"female\",\"group E\",\"some college\",\"standard\",\"none\",\"87\",\"85\",\"93\"\n",
      "\n",
      "\"male\",\"group E\",\"some high school\",\"standard\",\"none\",\"82\",\"67\",\"61\"\n",
      "\n",
      "\"male\",\"group C\",\"some high school\",\"standard\",\"none\",\"62\",\"64\",\"55\"\n",
      "\n",
      "\"female\",\"group B\",\"bachelor's degree\",\"standard\",\"none\",\"97\",\"97\",\"96\"\n",
      "\n",
      "\"male\",\"group B\",\"some college\",\"free/reduced\",\"none\",\"75\",\"68\",\"65\"\n",
      "\n",
      "\"female\",\"group C\",\"bachelor's degree\",\"standard\",\"none\",\"65\",\"79\",\"81\"\n",
      "\n",
      "\"male\",\"group B\",\"high school\",\"standard\",\"completed\",\"52\",\"49\",\"46\"\n",
      "\n",
      "\"male\",\"group C\",\"associate's degree\",\"free/reduced\",\"none\",\"87\",\"73\",\"72\"\n",
      "\n",
      "\"female\",\"group C\",\"associate's degree\",\"standard\",\"none\",\"53\",\"62\",\"53\"\n",
      "\n",
      "\"female\",\"group E\",\"master's degree\",\"free/reduced\",\"none\",\"81\",\"86\",\"87\"\n",
      "\n",
      "\"male\",\"group D\",\"bachelor's degree\",\"free/reduced\",\"completed\",\"39\",\"42\",\"38\"\n",
      "\n",
      "\"female\",\"group C\",\"some college\",\"standard\",\"completed\",\"71\",\"71\",\"80\"\n",
      "\n",
      "\"male\",\"group C\",\"associate's degree\",\"standard\",\"none\",\"97\",\"93\",\"91\"\n",
      "\n",
      "\"male\",\"group D\",\"some college\",\"standard\",\"completed\",\"82\",\"82\",\"88\"\n",
      "\n",
      "\"male\",\"group C\",\"high school\",\"free/reduced\",\"none\",\"59\",\"53\",\"52\"\n",
      "\n",
      "\"male\",\"group B\",\"associate's degree\",\"standard\",\"none\",\"61\",\"42\",\"41\"\n",
      "\n",
      "\"male\",\"group E\",\"associate's degree\",\"free/reduced\",\"completed\",\"78\",\"74\",\"72\"\n",
      "\n",
      "\"male\",\"group C\",\"associate's degree\",\"free/reduced\",\"none\",\"49\",\"51\",\"51\"\n",
      "\n",
      "\"male\",\"group B\",\"high school\",\"standard\",\"none\",\"59\",\"58\",\"47\"\n",
      "\n",
      "\"female\",\"group C\",\"some college\",\"standard\",\"completed\",\"70\",\"72\",\"76\"\n",
      "\n",
      "\"male\",\"group B\",\"associate's degree\",\"standard\",\"completed\",\"82\",\"84\",\"78\"\n",
      "\n",
      "\"male\",\"group E\",\"associate's degree\",\"free/reduced\",\"none\",\"90\",\"90\",\"82\"\n",
      "\n",
      "\"female\",\"group C\",\"bachelor's degree\",\"free/reduced\",\"none\",\"43\",\"62\",\"61\"\n",
      "\n",
      "\"male\",\"group C\",\"some college\",\"free/reduced\",\"none\",\"80\",\"64\",\"66\"\n",
      "\n",
      "\"male\",\"group D\",\"some college\",\"standard\",\"none\",\"81\",\"82\",\"84\"\n",
      "\n",
      "\"male\",\"group C\",\"some high school\",\"standard\",\"none\",\"57\",\"61\",\"54\"\n",
      "\n",
      "\"female\",\"group D\",\"some high school\",\"standard\",\"none\",\"59\",\"72\",\"80\"\n",
      "\n",
      "\"female\",\"group D\",\"associate's degree\",\"standard\",\"none\",\"64\",\"76\",\"74\"\n",
      "\n",
      "\"male\",\"group C\",\"bachelor's degree\",\"standard\",\"completed\",\"63\",\"64\",\"66\"\n",
      "\n",
      "\"female\",\"group E\",\"bachelor's degree\",\"standard\",\"completed\",\"71\",\"70\",\"70\"\n",
      "\n",
      "\"female\",\"group B\",\"high school\",\"free/reduced\",\"none\",\"64\",\"73\",\"71\"\n",
      "\n",
      "\"male\",\"group D\",\"bachelor's degree\",\"free/reduced\",\"none\",\"55\",\"46\",\"44\"\n",
      "\n",
      "\"female\",\"group E\",\"associate's degree\",\"standard\",\"none\",\"51\",\"51\",\"54\"\n",
      "\n",
      "\"female\",\"group C\",\"associate's degree\",\"standard\",\"completed\",\"62\",\"76\",\"80\"\n",
      "\n",
      "\"female\",\"group E\",\"associate's degree\",\"standard\",\"completed\",\"93\",\"100\",\"95\"\n",
      "\n",
      "\"male\",\"group C\",\"high school\",\"free/reduced\",\"none\",\"54\",\"72\",\"59\"\n",
      "\n",
      "\"female\",\"group D\",\"some college\",\"free/reduced\",\"none\",\"69\",\"65\",\"74\"\n",
      "\n",
      "\"male\",\"group D\",\"high school\",\"free/reduced\",\"none\",\"44\",\"51\",\"48\"\n",
      "\n",
      "\"female\",\"group E\",\"some college\",\"standard\",\"completed\",\"86\",\"85\",\"91\"\n",
      "\n",
      "\"female\",\"group E\",\"associate's degree\",\"standard\",\"none\",\"85\",\"92\",\"85\"\n",
      "\n",
      "\"female\",\"group A\",\"master's degree\",\"free/reduced\",\"none\",\"50\",\"67\",\"73\"\n",
      "\n",
      "\"male\",\"group D\",\"some high school\",\"standard\",\"completed\",\"88\",\"74\",\"75\"\n",
      "\n",
      "\"female\",\"group E\",\"associate's degree\",\"standard\",\"none\",\"59\",\"62\",\"69\"\n",
      "\n",
      "\"female\",\"group E\",\"some high school\",\"free/reduced\",\"none\",\"32\",\"34\",\"38\"\n",
      "\n",
      "\"male\",\"group B\",\"high school\",\"free/reduced\",\"none\",\"36\",\"29\",\"27\"\n",
      "\n",
      "\"female\",\"group B\",\"some high school\",\"free/reduced\",\"completed\",\"63\",\"78\",\"79\"\n",
      "\n",
      "\"male\",\"group D\",\"associate's degree\",\"standard\",\"completed\",\"67\",\"54\",\"63\"\n",
      "\n",
      "\"female\",\"group D\",\"some high school\",\"standard\",\"completed\",\"65\",\"78\",\"82\"\n",
      "\n",
      "\"male\",\"group D\",\"master's degree\",\"standard\",\"none\",\"85\",\"84\",\"89\"\n",
      "\n",
      "\"female\",\"group C\",\"master's degree\",\"standard\",\"none\",\"73\",\"78\",\"74\"\n",
      "\n",
      "\"female\",\"group A\",\"high school\",\"free/reduced\",\"completed\",\"34\",\"48\",\"41\"\n",
      "\n",
      "\"female\",\"group D\",\"bachelor's degree\",\"free/reduced\",\"completed\",\"93\",\"100\",\"100\"\n",
      "\n",
      "\"female\",\"group D\",\"some high school\",\"free/reduced\",\"none\",\"67\",\"84\",\"84\"\n",
      "\n",
      "\"male\",\"group D\",\"some college\",\"standard\",\"none\",\"88\",\"77\",\"77\"\n",
      "\n",
      "\"male\",\"group B\",\"high school\",\"standard\",\"none\",\"57\",\"48\",\"51\"\n",
      "\n",
      "\"female\",\"group D\",\"some college\",\"standard\",\"completed\",\"79\",\"84\",\"91\"\n",
      "\n",
      "\"female\",\"group C\",\"bachelor's degree\",\"free/reduced\",\"none\",\"67\",\"75\",\"72\"\n",
      "\n",
      "\"male\",\"group E\",\"bachelor's degree\",\"standard\",\"completed\",\"70\",\"64\",\"70\"\n",
      "\n",
      "\"male\",\"group D\",\"bachelor's degree\",\"free/reduced\",\"none\",\"50\",\"42\",\"48\"\n",
      "\n",
      "\"female\",\"group A\",\"some college\",\"standard\",\"none\",\"69\",\"84\",\"82\"\n",
      "\n",
      "\"female\",\"group C\",\"bachelor's degree\",\"standard\",\"completed\",\"52\",\"61\",\"66\"\n",
      "\n",
      "\"female\",\"group C\",\"bachelor's degree\",\"free/reduced\",\"completed\",\"47\",\"62\",\"66\"\n",
      "\n",
      "\"female\",\"group B\",\"associate's degree\",\"free/reduced\",\"none\",\"46\",\"61\",\"55\"\n",
      "\n",
      "\"female\",\"group E\",\"some college\",\"standard\",\"none\",\"68\",\"70\",\"66\"\n",
      "\n",
      "\"male\",\"group E\",\"bachelor's degree\",\"standard\",\"completed\",\"100\",\"100\",\"100\"\n",
      "\n",
      "\"female\",\"group C\",\"high school\",\"standard\",\"none\",\"44\",\"61\",\"52\"\n",
      "\n",
      "\"female\",\"group C\",\"associate's degree\",\"standard\",\"completed\",\"57\",\"77\",\"80\"\n",
      "\n",
      "\"male\",\"group B\",\"some college\",\"standard\",\"completed\",\"91\",\"96\",\"91\"\n",
      "\n",
      "\"male\",\"group D\",\"high school\",\"free/reduced\",\"none\",\"69\",\"70\",\"67\"\n",
      "\n",
      "\"female\",\"group C\",\"high school\",\"free/reduced\",\"none\",\"35\",\"53\",\"46\"\n",
      "\n",
      "\"male\",\"group D\",\"high school\",\"standard\",\"none\",\"72\",\"66\",\"66\"\n",
      "\n",
      "\"female\",\"group B\",\"associate's degree\",\"free/reduced\",\"none\",\"54\",\"65\",\"65\"\n",
      "\n",
      "\"male\",\"group D\",\"high school\",\"free/reduced\",\"none\",\"74\",\"70\",\"69\"\n",
      "\n",
      "\"male\",\"group E\",\"some high school\",\"standard\",\"completed\",\"74\",\"64\",\"60\"\n",
      "\n",
      "\"male\",\"group E\",\"associate's degree\",\"free/reduced\",\"none\",\"64\",\"56\",\"52\"\n",
      "\n",
      "\"female\",\"group D\",\"high school\",\"free/reduced\",\"completed\",\"65\",\"61\",\"71\"\n",
      "\n",
      "\"male\",\"group E\",\"associate's degree\",\"free/reduced\",\"completed\",\"46\",\"43\",\"44\"\n",
      "\n",
      "\"female\",\"group C\",\"some high school\",\"free/reduced\",\"none\",\"48\",\"56\",\"51\"\n",
      "\n",
      "\"male\",\"group C\",\"some college\",\"free/reduced\",\"completed\",\"67\",\"74\",\"70\"\n",
      "\n",
      "\"male\",\"group D\",\"some college\",\"free/reduced\",\"none\",\"62\",\"57\",\"62\"\n",
      "\n",
      "\"male\",\"group D\",\"associate's degree\",\"free/reduced\",\"completed\",\"61\",\"71\",\"73\"\n",
      "\n",
      "\"male\",\"group C\",\"bachelor's degree\",\"free/reduced\",\"completed\",\"70\",\"75\",\"74\"\n",
      "\n",
      "\"male\",\"group C\",\"associate's degree\",\"standard\",\"completed\",\"98\",\"87\",\"90\"\n",
      "\n",
      "\"male\",\"group D\",\"some college\",\"free/reduced\",\"none\",\"70\",\"63\",\"58\"\n",
      "\n",
      "\"male\",\"group A\",\"associate's degree\",\"standard\",\"none\",\"67\",\"57\",\"53\"\n",
      "\n",
      "\"female\",\"group E\",\"high school\",\"free/reduced\",\"none\",\"57\",\"58\",\"57\"\n",
      "\n",
      "\"male\",\"group D\",\"some college\",\"standard\",\"completed\",\"85\",\"81\",\"85\"\n",
      "\n",
      "\"male\",\"group D\",\"some high school\",\"standard\",\"completed\",\"77\",\"68\",\"69\"\n",
      "\n",
      "\"male\",\"group C\",\"master's degree\",\"free/reduced\",\"completed\",\"72\",\"66\",\"72\"\n",
      "\n",
      "\"female\",\"group D\",\"master's degree\",\"standard\",\"none\",\"78\",\"91\",\"96\"\n",
      "\n",
      "\"male\",\"group C\",\"high school\",\"standard\",\"none\",\"81\",\"66\",\"64\"\n",
      "\n",
      "\"male\",\"group A\",\"some high school\",\"free/reduced\",\"completed\",\"61\",\"62\",\"61\"\n",
      "\n",
      "\"female\",\"group B\",\"high school\",\"standard\",\"none\",\"58\",\"68\",\"61\"\n",
      "\n",
      "\"female\",\"group C\",\"associate's degree\",\"standard\",\"none\",\"54\",\"61\",\"58\"\n",
      "\n",
      "\"male\",\"group B\",\"high school\",\"standard\",\"none\",\"82\",\"82\",\"80\"\n",
      "\n",
      "\"female\",\"group D\",\"some college\",\"free/reduced\",\"none\",\"49\",\"58\",\"60\"\n",
      "\n",
      "\"male\",\"group B\",\"some high school\",\"free/reduced\",\"completed\",\"49\",\"50\",\"52\"\n",
      "\n",
      "\"female\",\"group E\",\"high school\",\"free/reduced\",\"completed\",\"57\",\"75\",\"73\"\n",
      "\n",
      "\"male\",\"group E\",\"high school\",\"standard\",\"none\",\"94\",\"73\",\"71\"\n",
      "\n",
      "\"female\",\"group D\",\"some college\",\"standard\",\"completed\",\"75\",\"77\",\"83\"\n",
      "\n",
      "\"female\",\"group E\",\"some high school\",\"free/reduced\",\"none\",\"74\",\"74\",\"72\"\n",
      "\n",
      "\"male\",\"group C\",\"high school\",\"standard\",\"completed\",\"58\",\"52\",\"54\"\n",
      "\n",
      "\"female\",\"group C\",\"some college\",\"standard\",\"none\",\"62\",\"69\",\"69\"\n",
      "\n",
      "\"male\",\"group E\",\"associate's degree\",\"standard\",\"none\",\"72\",\"57\",\"62\"\n",
      "\n",
      "\"male\",\"group C\",\"some college\",\"standard\",\"none\",\"84\",\"87\",\"81\"\n",
      "\n",
      "\"female\",\"group D\",\"master's degree\",\"standard\",\"none\",\"92\",\"100\",\"100\"\n",
      "\n",
      "\"female\",\"group D\",\"high school\",\"standard\",\"none\",\"45\",\"63\",\"59\"\n",
      "\n",
      "\"male\",\"group C\",\"high school\",\"standard\",\"none\",\"75\",\"81\",\"71\"\n",
      "\n",
      "\"female\",\"group A\",\"some college\",\"standard\",\"none\",\"56\",\"58\",\"64\"\n",
      "\n",
      "\"female\",\"group D\",\"some high school\",\"free/reduced\",\"none\",\"48\",\"54\",\"53\"\n",
      "\n",
      "\"female\",\"group E\",\"associate's degree\",\"standard\",\"none\",\"100\",\"100\",\"100\"\n",
      "\n",
      "\"female\",\"group C\",\"some high school\",\"free/reduced\",\"completed\",\"65\",\"76\",\"75\"\n",
      "\n",
      "\"male\",\"group D\",\"some college\",\"standard\",\"none\",\"72\",\"57\",\"58\"\n",
      "\n",
      "\"female\",\"group D\",\"some college\",\"standard\",\"none\",\"62\",\"70\",\"72\"\n",
      "\n",
      "\"male\",\"group A\",\"some high school\",\"standard\",\"completed\",\"66\",\"68\",\"64\"\n",
      "\n",
      "\"male\",\"group C\",\"some college\",\"standard\",\"none\",\"63\",\"63\",\"60\"\n",
      "\n",
      "\"female\",\"group E\",\"associate's degree\",\"standard\",\"none\",\"68\",\"76\",\"67\"\n",
      "\n",
      "\"female\",\"group B\",\"bachelor's degree\",\"standard\",\"none\",\"75\",\"84\",\"80\"\n",
      "\n",
      "\"female\",\"group D\",\"bachelor's degree\",\"standard\",\"none\",\"89\",\"100\",\"100\"\n",
      "\n",
      "\"male\",\"group C\",\"some high school\",\"standard\",\"completed\",\"78\",\"72\",\"69\"\n",
      "\n",
      "\"female\",\"group A\",\"high school\",\"free/reduced\",\"completed\",\"53\",\"50\",\"60\"\n",
      "\n",
      "\"female\",\"group D\",\"some college\",\"free/reduced\",\"none\",\"49\",\"65\",\"61\"\n",
      "\n",
      "\"female\",\"group A\",\"some college\",\"standard\",\"none\",\"54\",\"63\",\"67\"\n",
      "\n",
      "\"female\",\"group C\",\"some college\",\"standard\",\"completed\",\"64\",\"82\",\"77\"\n",
      "\n",
      "\"male\",\"group B\",\"some college\",\"free/reduced\",\"completed\",\"60\",\"62\",\"60\"\n",
      "\n",
      "\"male\",\"group C\",\"associate's degree\",\"standard\",\"none\",\"62\",\"65\",\"58\"\n",
      "\n",
      "\"male\",\"group D\",\"high school\",\"standard\",\"completed\",\"55\",\"41\",\"48\"\n",
      "\n",
      "\"female\",\"group C\",\"associate's degree\",\"standard\",\"none\",\"91\",\"95\",\"94\"\n",
      "\n",
      "\"female\",\"group B\",\"high school\",\"free/reduced\",\"none\",\"8\",\"24\",\"23\"\n",
      "\n",
      "\"male\",\"group D\",\"some high school\",\"standard\",\"none\",\"81\",\"78\",\"78\"\n",
      "\n",
      "\"male\",\"group B\",\"some high school\",\"standard\",\"completed\",\"79\",\"85\",\"86\"\n",
      "\n",
      "\"female\",\"group A\",\"some college\",\"standard\",\"completed\",\"78\",\"87\",\"91\"\n",
      "\n",
      "\"female\",\"group C\",\"some high school\",\"standard\",\"none\",\"74\",\"75\",\"82\"\n",
      "\n",
      "\"male\",\"group A\",\"high school\",\"standard\",\"none\",\"57\",\"51\",\"54\"\n",
      "\n",
      "\"female\",\"group C\",\"associate's degree\",\"standard\",\"none\",\"40\",\"59\",\"51\"\n",
      "\n",
      "\"male\",\"group E\",\"some high school\",\"standard\",\"completed\",\"81\",\"75\",\"76\"\n",
      "\n",
      "\"female\",\"group A\",\"some high school\",\"free/reduced\",\"none\",\"44\",\"45\",\"45\"\n",
      "\n",
      "\"female\",\"group D\",\"some college\",\"free/reduced\",\"completed\",\"67\",\"86\",\"83\"\n",
      "\n",
      "\"male\",\"group E\",\"high school\",\"free/reduced\",\"completed\",\"86\",\"81\",\"75\"\n",
      "\n",
      "\"female\",\"group B\",\"some high school\",\"standard\",\"completed\",\"65\",\"82\",\"78\"\n",
      "\n",
      "\"female\",\"group D\",\"associate's degree\",\"free/reduced\",\"none\",\"55\",\"76\",\"76\"\n",
      "\n",
      "\"female\",\"group D\",\"bachelor's degree\",\"free/reduced\",\"none\",\"62\",\"72\",\"74\"\n",
      "\n",
      "\"male\",\"group A\",\"high school\",\"standard\",\"none\",\"63\",\"63\",\"62\"\n",
      "\n",
      "\"female\",\"group E\",\"master's degree\",\"standard\",\"completed\",\"88\",\"99\",\"95\"\n",
      "\n",
      "\"male\",\"group C\",\"high school\",\"free/reduced\",\"none\",\"62\",\"55\",\"55\"\n",
      "\n",
      "\"female\",\"group C\",\"high school\",\"free/reduced\",\"completed\",\"59\",\"71\",\"65\"\n",
      "\n",
      "\"female\",\"group D\",\"some college\",\"standard\",\"completed\",\"68\",\"78\",\"77\"\n",
      "\n",
      "\"female\",\"group D\",\"some college\",\"free/reduced\",\"none\",\"77\",\"86\",\"86\"\n",
      "\n"
     ]
    }
   ],
   "source": [
    "for line in f:\n",
    "         print(line)\n",
    "f.close()"
   ]
  },
  {
   "cell_type": "code",
   "execution_count": 6,
   "metadata": {},
   "outputs": [
    {
     "name": "stdout",
     "output_type": "stream",
     "text": [
      "Мальчиков: 482, девочек: 518\n"
     ]
    }
   ],
   "source": [
    "f = open('StudentsPerformance.csv')\n",
    "males = 0\n",
    "females = 0\n",
    "for line in f:\n",
    "    info = line.split(',')\n",
    "    gender = info[0][1:-1]\n",
    "    if gender == 'female':\n",
    "        females += 1\n",
    "    elif gender == 'male':\n",
    "        males +=1\n",
    "print('Мальчиков: {}, девочек: {}'.format(males, females))"
   ]
  },
  {
   "cell_type": "code",
   "execution_count": 13,
   "metadata": {},
   "outputs": [
    {
     "name": "stdout",
     "output_type": "stream",
     "text": [
      "118\n"
     ]
    }
   ],
   "source": [
    "f = open('StudentsPerformance.csv')\n",
    "parents = 0\n",
    "for line in f:\n",
    "    info = line.split(',')\n",
    "    level = info[2][1:-1]\n",
    "    if level == \"bachelor's degree\":\n",
    "        parents += 1\n",
    "print(parents)"
   ]
  },
  {
   "cell_type": "code",
   "execution_count": 14,
   "metadata": {},
   "outputs": [
    {
     "name": "stdout",
     "output_type": "stream",
     "text": [
      "6\n"
     ]
    }
   ],
   "source": [
    "f = open('StudentsPerformance.csv')\n",
    "f.readline() # Пропускаем строку с заголовками\n",
    "edu_level = []\n",
    "for line in f:\n",
    "    info = line.split(',')\n",
    "    level = info[2][1:-1]\n",
    "    if level not in edu_level:\n",
    "        edu_level.append(level)\n",
    "print(len(edu_level))"
   ]
  },
  {
   "cell_type": "code",
   "execution_count": 23,
   "metadata": {},
   "outputs": [
    {
     "name": "stdout",
     "output_type": "stream",
     "text": [
      "64.5\n"
     ]
    }
   ],
   "source": [
    "f = open('StudentsPerformance.csv')\n",
    "f.readline() # Пропускаем строку с заголовками\n",
    "\n",
    "count = 0\n",
    "students = 0\n",
    "for line in f:\n",
    "    info = line.split(',')\n",
    "    food = info[3][1:-1]\n",
    "    if food == 'standard':\n",
    "        count+=1\n",
    "    students+=1\n",
    "print(count/students*100)"
   ]
  },
  {
   "cell_type": "code",
   "execution_count": 22,
   "metadata": {},
   "outputs": [
    {
     "name": "stdout",
     "output_type": "stream",
     "text": [
      "64.5\n"
     ]
    }
   ],
   "source": [
    "f = open('StudentsPerformance.csv')\n",
    "f.readline() # Пропускаем строку с заголовками\n",
    "count = 0\n",
    "students = 0\n",
    "for line in f:\n",
    "    info = line.split(',')\n",
    "    lunch = info[3][1:-1]\n",
    "    if lunch == 'standard':\n",
    "        count += 1 # считаем кол-во студентов с нужным свойством\n",
    "    students += 1 # считаем количество студентов\n",
    "         \n",
    "print(count / students * 100)"
   ]
  },
  {
   "cell_type": "code",
   "execution_count": 25,
   "metadata": {},
   "outputs": [
    {
     "name": "stdout",
     "output_type": "stream",
     "text": [
      "319\n"
     ]
    }
   ],
   "source": [
    "f = open('StudentsPerformance.csv')\n",
    "f.readline() # Пропускаем строку с заголовками\n",
    "count = 0\n",
    "for line in f:\n",
    "    info = line.split(',')\n",
    "    etnic_group = info[1][1:-1]\n",
    "    if etnic_group == 'group C':\n",
    "        count += 1 \n",
    "            \n",
    "print(count)"
   ]
  },
  {
   "cell_type": "code",
   "execution_count": 34,
   "metadata": {},
   "outputs": [
    {
     "name": "stdout",
     "output_type": "stream",
     "text": [
      "5\n"
     ]
    }
   ],
   "source": [
    "f = open('StudentsPerformance.csv')\n",
    "f.readline()\n",
    "etnic_group = []\n",
    "for line in f:\n",
    "    info = line.split(',')\n",
    "    group_type = info[1][1:-1]\n",
    "    if group_type not in etnic_group:\n",
    "        etnic_group.append(group_type)\n",
    "        \n",
    "print(len(etnic_group))"
   ]
  },
  {
   "cell_type": "code",
   "execution_count": 35,
   "metadata": {},
   "outputs": [],
   "source": [
    "math = []\n",
    "\n",
    "f = open('StudentsPerformance.csv')\n",
    "\n",
    "for line in f:\n",
    "    info = line.split(',')\n",
    "    if info[0] == '\"gender\"':\n",
    "        continue\n",
    "    else:\n",
    "        mark = int(info[5][1:-1])\n",
    "        math.append(mark) "
   ]
  },
  {
   "cell_type": "code",
   "execution_count": 36,
   "metadata": {
    "scrolled": true
   },
   "outputs": [
    {
     "name": "stdout",
     "output_type": "stream",
     "text": [
      "[72, 69, 90, 47, 76, 71, 88, 40, 64, 38, 58, 40, 65, 78, 50, 69, 88, 18, 46, 54, 66, 65, 44, 69, 74, 73, 69, 67, 70, 62, 69, 63, 56, 40, 97, 81, 74, 50, 75, 57, 55, 58, 53, 59, 50, 65, 55, 66, 57, 82, 53, 77, 53, 88, 71, 33, 82, 52, 58, 0, 79, 39, 62, 69, 59, 67, 45, 60, 61, 39, 58, 63, 41, 61, 49, 44, 30, 80, 61, 62, 47, 49, 50, 72, 42, 73, 76, 71, 58, 73, 65, 27, 71, 43, 79, 78, 65, 63, 58, 65, 79, 68, 85, 60, 98, 58, 87, 66, 52, 70, 77, 62, 54, 51, 99, 84, 75, 78, 51, 55, 79, 91, 88, 63, 83, 87, 72, 65, 82, 51, 89, 53, 87, 75, 74, 58, 51, 70, 59, 71, 76, 59, 42, 57, 88, 22, 88, 73, 68, 100, 62, 77, 59, 54, 62, 70, 66, 60, 61, 66, 82, 75, 49, 52, 81, 96, 53, 58, 68, 67, 72, 94, 79, 63, 43, 81, 46, 71, 52, 97, 62, 46, 50, 65, 45, 65, 80, 62, 48, 77, 66, 76, 62, 77, 69, 61, 59, 55, 45, 78, 67, 65, 69, 57, 59, 74, 82, 81, 74, 58, 80, 35, 42, 60, 87, 84, 83, 34, 66, 61, 56, 87, 55, 86, 52, 45, 72, 57, 68, 88, 76, 46, 67, 92, 83, 80, 63, 64, 54, 84, 73, 80, 56, 59, 75, 85, 89, 58, 65, 68, 47, 71, 60, 80, 54, 62, 64, 78, 70, 65, 64, 79, 44, 99, 76, 59, 63, 69, 88, 71, 69, 58, 47, 65, 88, 83, 85, 59, 65, 73, 53, 45, 73, 70, 37, 81, 97, 67, 88, 77, 76, 86, 63, 65, 78, 67, 46, 71, 40, 90, 81, 56, 67, 80, 74, 69, 99, 51, 53, 49, 73, 66, 67, 68, 59, 71, 77, 83, 63, 56, 67, 75, 71, 43, 41, 82, 61, 28, 82, 41, 71, 47, 62, 90, 83, 61, 76, 49, 24, 35, 58, 61, 69, 67, 79, 72, 62, 77, 75, 87, 52, 66, 63, 46, 59, 61, 63, 42, 59, 80, 58, 85, 52, 27, 59, 49, 69, 61, 44, 73, 84, 45, 74, 82, 59, 46, 80, 85, 71, 66, 80, 87, 79, 38, 38, 67, 64, 57, 62, 73, 73, 77, 76, 57, 65, 48, 50, 85, 74, 60, 59, 53, 49, 88, 54, 63, 65, 82, 52, 87, 70, 84, 71, 63, 51, 84, 71, 74, 68, 57, 82, 57, 47, 59, 41, 62, 86, 69, 65, 68, 64, 61, 61, 47, 73, 50, 75, 75, 70, 89, 67, 78, 59, 73, 79, 67, 69, 86, 47, 81, 64, 100, 65, 65, 53, 37, 79, 53, 100, 72, 53, 54, 71, 77, 75, 84, 26, 72, 77, 91, 83, 63, 68, 59, 90, 71, 76, 80, 55, 76, 73, 52, 68, 59, 49, 70, 61, 60, 64, 79, 65, 64, 83, 81, 54, 68, 54, 59, 66, 76, 74, 94, 63, 95, 40, 82, 68, 55, 79, 86, 76, 64, 62, 54, 77, 76, 74, 66, 66, 67, 71, 91, 69, 54, 53, 68, 56, 36, 29, 62, 68, 47, 62, 79, 73, 66, 51, 51, 85, 97, 75, 79, 81, 82, 64, 78, 92, 72, 62, 79, 79, 87, 40, 77, 53, 32, 55, 61, 53, 73, 74, 63, 96, 63, 48, 48, 92, 61, 63, 68, 71, 91, 53, 50, 74, 40, 61, 81, 48, 53, 81, 77, 63, 73, 69, 65, 55, 44, 54, 48, 58, 71, 68, 74, 92, 56, 30, 53, 69, 65, 54, 29, 76, 60, 84, 75, 85, 40, 61, 58, 69, 58, 94, 65, 82, 60, 37, 88, 95, 65, 35, 62, 58, 100, 61, 100, 69, 61, 49, 44, 67, 79, 66, 75, 84, 71, 67, 80, 86, 76, 41, 74, 72, 74, 70, 65, 59, 64, 50, 69, 51, 68, 85, 65, 73, 62, 77, 69, 43, 90, 74, 73, 55, 65, 80, 50, 63, 77, 73, 81, 66, 52, 69, 65, 69, 50, 73, 70, 81, 63, 67, 60, 62, 29, 62, 94, 85, 77, 53, 93, 49, 73, 66, 77, 49, 79, 75, 59, 57, 66, 79, 57, 87, 63, 59, 62, 46, 66, 89, 42, 93, 80, 98, 81, 60, 76, 73, 96, 76, 91, 62, 55, 74, 50, 47, 81, 65, 68, 73, 53, 68, 55, 87, 55, 53, 67, 92, 53, 81, 61, 80, 37, 81, 59, 55, 72, 69, 69, 50, 87, 71, 68, 79, 77, 58, 84, 55, 70, 52, 69, 53, 48, 78, 62, 60, 74, 58, 76, 68, 58, 52, 75, 52, 62, 66, 49, 66, 35, 72, 94, 46, 77, 76, 52, 91, 32, 72, 19, 68, 52, 48, 60, 66, 89, 42, 57, 70, 70, 69, 52, 67, 76, 87, 82, 73, 75, 64, 41, 90, 59, 51, 45, 54, 87, 72, 94, 45, 61, 60, 77, 85, 78, 49, 71, 48, 62, 56, 65, 69, 68, 61, 74, 64, 77, 58, 60, 73, 75, 58, 66, 39, 64, 23, 74, 40, 90, 91, 64, 59, 80, 71, 61, 87, 82, 62, 97, 75, 65, 52, 87, 53, 81, 39, 71, 97, 82, 59, 61, 78, 49, 59, 70, 82, 90, 43, 80, 81, 57, 59, 64, 63, 71, 64, 55, 51, 62, 93, 54, 69, 44, 86, 85, 50, 88, 59, 32, 36, 63, 67, 65, 85, 73, 34, 93, 67, 88, 57, 79, 67, 70, 50, 69, 52, 47, 46, 68, 100, 44, 57, 91, 69, 35, 72, 54, 74, 74, 64, 65, 46, 48, 67, 62, 61, 70, 98, 70, 67, 57, 85, 77, 72, 78, 81, 61, 58, 54, 82, 49, 49, 57, 94, 75, 74, 58, 62, 72, 84, 92, 45, 75, 56, 48, 100, 65, 72, 62, 66, 63, 68, 75, 89, 78, 53, 49, 54, 64, 60, 62, 55, 91, 8, 81, 79, 78, 74, 57, 40, 81, 44, 67, 86, 65, 55, 62, 63, 88, 62, 59, 68, 77]\n"
     ]
    }
   ],
   "source": [
    "print(math)"
   ]
  },
  {
   "cell_type": "code",
   "execution_count": 38,
   "metadata": {},
   "outputs": [],
   "source": [
    "math = []\n",
    "\n",
    "f = open('StudentsPerformance.csv')\n",
    "\n",
    "for line in f:\n",
    "    info = line.split(',')\n",
    "    if info[0] == '\"gender\"':\n",
    "        continue\n",
    "    else:\n",
    "        mark = int(info[5][1:-1])\n",
    "        math.append(mark) "
   ]
  },
  {
   "cell_type": "code",
   "execution_count": 39,
   "metadata": {},
   "outputs": [],
   "source": [
    "math_avg = sum(math)/len(math)"
   ]
  },
  {
   "cell_type": "code",
   "execution_count": 40,
   "metadata": {},
   "outputs": [
    {
     "name": "stdout",
     "output_type": "stream",
     "text": [
      "0.493\n"
     ]
    }
   ],
   "source": [
    "above_avg = 0\n",
    "for mark in math:\n",
    "    if mark > math_avg:\n",
    "        above_avg += 1\n",
    "print(above_avg / 1000)"
   ]
  },
  {
   "cell_type": "code",
   "execution_count": 41,
   "metadata": {},
   "outputs": [],
   "source": [
    "import re\n",
    "pattern = re.compile('\\d+')\n",
    "\n",
    "exams = []\n",
    "\n",
    "f = open('StudentsPerformance.csv')\n",
    "\n",
    "for line in f:\n",
    "    info = line.split(',')\n",
    "    if info[0] == '\"gender\"':\n",
    "        continue\n",
    "    else:\n",
    "        new_line = []\n",
    "        for item in info:\n",
    "            if pattern.search(item) != None:\n",
    "                new_line.append(int(pattern.search(item)[0]))\n",
    "            else:\n",
    "                new_line.append(item[1:-1])\n",
    "        exams.append(new_line)"
   ]
  },
  {
   "cell_type": "code",
   "execution_count": 42,
   "metadata": {},
   "outputs": [
    {
     "name": "stdout",
     "output_type": "stream",
     "text": [
      "69.169\n"
     ]
    }
   ],
   "source": [
    "f = open('StudentsPerformance.csv')\n",
    "scores = []\n",
    "\n",
    "for line in f:\n",
    "    info = line.split(',')\n",
    "    if info[0] == '\"gender\"':\n",
    "        continue\n",
    "    else:\n",
    "        score = info[6][1:-1]\n",
    "        scores.append(int(score))\n",
    "        \n",
    "score_avg = sum(scores) / len(scores)\n",
    "print(score_avg)   "
   ]
  },
  {
   "cell_type": "code",
   "execution_count": 47,
   "metadata": {},
   "outputs": [
    {
     "name": "stdout",
     "output_type": "stream",
     "text": [
      "487\n"
     ]
    }
   ],
   "source": [
    "f = open('StudentsPerformance.csv')\n",
    "\n",
    "count = 0\n",
    "\n",
    "for line in f:\n",
    "    info = line.split(',')\n",
    "    if info[0] == '\"gender\"':\n",
    "        continue\n",
    "    else:\n",
    "        if int(info[6][1:-1]) < score_avg:\n",
    "            count+=1\n",
    "    \n",
    "print(count) "
   ]
  },
  {
   "cell_type": "code",
   "execution_count": 54,
   "metadata": {},
   "outputs": [
    {
     "name": "stdout",
     "output_type": "stream",
     "text": [
      "72.60810810810811\n"
     ]
    }
   ],
   "source": [
    "f = open('StudentsPerformance.csv')\n",
    "scores = []\n",
    "\n",
    "for line in f:\n",
    "    info = line.split(',')\n",
    "    if info[0] == '\"gender\"':\n",
    "        continue\n",
    "    else:\n",
    "        if info[0][1:-1] == 'female':\n",
    "            score = info[6][1:-1]\n",
    "            scores.append(int(score))\n",
    "        \n",
    "score_avg = sum(scores) / len(scores)\n",
    "print(score_avg) "
   ]
  },
  {
   "cell_type": "code",
   "execution_count": 56,
   "metadata": {},
   "outputs": [
    {
     "name": "stdout",
     "output_type": "stream",
     "text": [
      "72.608\n"
     ]
    }
   ],
   "source": [
    "f = open('StudentsPerformance.csv')\n",
    "scores = []\n",
    "\n",
    "for line in f:\n",
    "    info = line.split(',')\n",
    "    if info[0] == '\"gender\"':\n",
    "        continue\n",
    "    else:\n",
    "        if info[0] == '\"female\"':\n",
    "            score = info[6][1:-1]\n",
    "            scores.append(int(score))\n",
    "        \n",
    "score_avg = sum(scores) / len(scores)\n",
    "print(\"%.3f\" % score_avg) "
   ]
  },
  {
   "cell_type": "code",
   "execution_count": 62,
   "metadata": {},
   "outputs": [
    {
     "name": "stdout",
     "output_type": "stream",
     "text": [
      "68\n"
     ]
    }
   ],
   "source": [
    "f = open('StudentsPerformance.csv')\n",
    "\n",
    "count = 0\n",
    "\n",
    "for line in f:\n",
    "    info = line.split(',')\n",
    "    if info[0] == '\"gender\"':\n",
    "        continue\n",
    "    else:\n",
    "        if int(info[-1][1:-2]) > 90:\n",
    "            count+=1\n",
    "    \n",
    "print(count) "
   ]
  },
  {
   "cell_type": "code",
   "execution_count": 61,
   "metadata": {},
   "outputs": [
    {
     "name": "stdout",
     "output_type": "stream",
     "text": [
      "68\n"
     ]
    }
   ],
   "source": [
    "\n",
    "f = open('StudentsPerformance.csv')\n",
    "count = 0\n",
    "\n",
    "for line in f:\n",
    "    info = line.split(',')\n",
    "    if info[0] == '\"gender\"':\n",
    "        continue\n",
    "    else:\n",
    "        score = int(info[-1][1:-2])\n",
    "        lunch = info[3][1:-1]\n",
    "        if score > 90:\n",
    "            count += 1\n",
    "        \n",
    "print(count)"
   ]
  },
  {
   "cell_type": "code",
   "execution_count": 77,
   "metadata": {},
   "outputs": [
    {
     "name": "stdout",
     "output_type": "stream",
     "text": [
      "86.8\n"
     ]
    }
   ],
   "source": [
    "f = open('StudentsPerformance.csv')\n",
    "count = 0\n",
    "students = 0\n",
    "for line in f:\n",
    "    info = line.split(',')\n",
    "    if info[0] == '\"gender\"':\n",
    "        continue\n",
    "    else:\n",
    "        score = int(info[-1][1:-2])\n",
    "        food = info[3][1:-1]\n",
    "        if score >90:\n",
    "            if food == 'standard':\n",
    "                count+=1\n",
    "            students+=1\n",
    "\n",
    "results = count / students*100\n",
    "    \n",
    "print(\"%0.1f\" % results) "
   ]
  },
  {
   "cell_type": "code",
   "execution_count": 78,
   "metadata": {},
   "outputs": [],
   "source": [
    "students = {}\n",
    "\n",
    "f = open('StudentsPerformance.csv')\n",
    "\n",
    "for line in f:\n",
    "    info = line.split(',')\n",
    "    if info[0] == '\"gender\"':\n",
    "        continue\n",
    "    else:\n",
    "        ethnicity = info[1][1:-1]\n",
    "        if ethnicity in students:\n",
    "            students[ethnicity] += 1             \n",
    "        else:\n",
    "            students[ethnicity] = 1"
   ]
  },
  {
   "cell_type": "code",
   "execution_count": 81,
   "metadata": {},
   "outputs": [
    {
     "data": {
      "text/plain": [
       "89"
      ]
     },
     "execution_count": 81,
     "metadata": {},
     "output_type": "execute_result"
    }
   ],
   "source": [
    "students['group A']"
   ]
  },
  {
   "cell_type": "code",
   "execution_count": 82,
   "metadata": {},
   "outputs": [
    {
     "name": "stdout",
     "output_type": "stream",
     "text": [
      "group B 190\n",
      "group C 319\n",
      "group A 89\n",
      "group D 262\n",
      "group E 140\n"
     ]
    }
   ],
   "source": [
    "for group, number in students.items():\n",
    "    print(group, number)"
   ]
  },
  {
   "cell_type": "code",
   "execution_count": 83,
   "metadata": {},
   "outputs": [],
   "source": [
    "students = {}\n",
    "\n",
    "f = open('StudentsPerformance.csv')\n",
    "\n",
    "for line in f:\n",
    "    info = line.split(',')\n",
    "    if info[0] == '\"gender\"':\n",
    "        continue\n",
    "    else:\n",
    "        ethnicity = info[1][1:-1]\n",
    "        parents = info[2][1:-1] \n",
    "        if ethnicity in students:\n",
    "            if parents in students[ethnicity]:\n",
    "                students[ethnicity][parents] += 1\n",
    "            else:\n",
    "                students[ethnicity][parents] = 1\n",
    "        else:\n",
    "            students[ethnicity] = {}\n",
    "            students[ethnicity][parents] = 1"
   ]
  },
  {
   "cell_type": "code",
   "execution_count": 84,
   "metadata": {},
   "outputs": [],
   "source": [
    "students = {}\n",
    "\n",
    "f = open('StudentsPerformance.csv')\n",
    "\n",
    "for line in f:\n",
    "    info = line.split(',')\n",
    "    if info[0] == '\"gender\"':\n",
    "        continue\n",
    "    else:\n",
    "        gender = info[0][1:-1]\n",
    "        lunch = info[3][1:-1] completed\n",
    "        if gender in students:\n",
    "            if lunch in students[gender]:\n",
    "                students[gender][lunch] += 1\n",
    "            else:\n",
    "                students[gender][lunch] = 1\n",
    "        else:\n",
    "            students[gender] = {}\n",
    "            students[gender][lunch] = 1"
   ]
  },
  {
   "cell_type": "code",
   "execution_count": 85,
   "metadata": {},
   "outputs": [
    {
     "name": "stdout",
     "output_type": "stream",
     "text": [
      "316\n"
     ]
    }
   ],
   "source": [
    "print(students['male']['standard'])"
   ]
  },
  {
   "cell_type": "code",
   "execution_count": 90,
   "metadata": {},
   "outputs": [
    {
     "name": "stdout",
     "output_type": "stream",
     "text": [
      "36\n"
     ]
    }
   ],
   "source": [
    "students = {}\n",
    "\n",
    "f = open('StudentsPerformance.csv')\n",
    "\n",
    "for line in f:\n",
    "    info = line.split(',')\n",
    "    if info[0] == '\"gender\"':\n",
    "        continue\n",
    "    else:\n",
    "        gender = info[0][1:-1]\n",
    "        level = info[2][1:-1] \n",
    "        if gender in students:\n",
    "            if level in students[gender]:\n",
    "                students[gender][level] += 1\n",
    "            else:\n",
    "                students[gender][level] = 1\n",
    "        else:\n",
    "            students[gender] = {}\n",
    "            students[gender][level] = 1\n",
    "print(students['female'][\"master's degree\"])"
   ]
  },
  {
   "cell_type": "code",
   "execution_count": 91,
   "metadata": {},
   "outputs": [
    {
     "name": "stdout",
     "output_type": "stream",
     "text": [
      "117\n"
     ]
    }
   ],
   "source": [
    "students = {}\n",
    "\n",
    "f = open('StudentsPerformance.csv')\n",
    "\n",
    "for line in f:\n",
    "    info = line.split(',')\n",
    "    if info[0] == '\"gender\"':\n",
    "        continue\n",
    "    else:\n",
    "        race = info[1][1:-1]\n",
    "        test = info[4][1:-1]\n",
    "        if race in students:\n",
    "            if test in students[race]:\n",
    "                students[race][test] += 1\n",
    "            else:\n",
    "                students[race][test] = 1\n",
    "        else:\n",
    "            students[race] = {}\n",
    "            students[race][test] = 1\n",
    "            \n",
    "print(students['group C']['completed'])"
   ]
  },
  {
   "cell_type": "code",
   "execution_count": 92,
   "metadata": {},
   "outputs": [
    {
     "name": "stdout",
     "output_type": "stream",
     "text": [
      "2\n"
     ]
    }
   ],
   "source": [
    "# Solution\n",
    "students = {}\n",
    "\n",
    "f = open('StudentsPerformance.csv')\n",
    "\n",
    "for line in f:\n",
    "    info = line.split(',')\n",
    "    if info[0] == '\"gender\"':\n",
    "        continue\n",
    "    else:\n",
    "        gender = info[0][1:-1]\n",
    "        parent = info[2][1:-1]\n",
    "        score = int(info[5][1:-1])\n",
    "        if gender in students:\n",
    "            if score > 90:\n",
    "                if parent in students[gender]:\n",
    "                        students[gender][parent] += 1\n",
    "                else:\n",
    "                    students[gender][parent] = 1\n",
    "        else:\n",
    "            students[gender] = {}\n",
    "            students[gender][parent] = 1\n",
    "            \n",
    "print(students['female'][\"master's degree\"])"
   ]
  },
  {
   "cell_type": "code",
   "execution_count": 1,
   "metadata": {},
   "outputs": [
    {
     "name": "stdout",
     "output_type": "stream",
     "text": [
      "[]\n"
     ]
    }
   ],
   "source": [
    "import re\n",
    "pattern = re.compile('\\d\\d\\d')\n",
    "secret = pattern.findall('2 x 2 = 4') \n",
    "print(secret)"
   ]
  },
  {
   "cell_type": "code",
   "execution_count": 7,
   "metadata": {},
   "outputs": [
    {
     "name": "stdout",
     "output_type": "stream",
     "text": [
      "65.473\n"
     ]
    }
   ],
   "source": [
    "f = open('StudentsPerformance.csv')\n",
    "scores = []\n",
    "\n",
    "for line in f:\n",
    "    info = line.split(',')\n",
    "    if info[0] == '\"gender\"':\n",
    "        continue\n",
    "    else:\n",
    "        score = int(info[-2][1:-1])\n",
    "        gender = info[0][1:-1]\n",
    "        if gender == 'male':\n",
    "            scores.append(score)\n",
    "        \n",
    "result = sum(scores) / len(scores)\n",
    "print(\"%.3f\" % result)"
   ]
  },
  {
   "cell_type": "code",
   "execution_count": 8,
   "metadata": {},
   "outputs": [
    {
     "name": "stdout",
     "output_type": "stream",
     "text": [
      "97.857\n"
     ]
    }
   ],
   "source": [
    "f = open('StudentsPerformance.csv')\n",
    "read_score = []\n",
    "\n",
    "for line in f:\n",
    "    info = line.split(',')\n",
    "    if info[0] == '\"gender\"':\n",
    "        continue\n",
    "    else:\n",
    "        reading = int(info[6][1:-1])\n",
    "        math = int(info[5][1:-1])\n",
    "        \n",
    "        if math == 100:\n",
    "            read_score.append(reading)\n",
    "            \n",
    "avg_read = sum(read_score) / len(read_score)\n",
    "print(\"%0.3f\" % avg_read)"
   ]
  },
  {
   "cell_type": "code",
   "execution_count": 12,
   "metadata": {},
   "outputs": [
    {
     "name": "stdout",
     "output_type": "stream",
     "text": [
      "63.02\n"
     ]
    }
   ],
   "source": [
    "f = open('StudentsPerformance.csv')\n",
    "scores = []\n",
    "\n",
    "for line in f:\n",
    "    info = line.split(',')\n",
    "    if info[0] == '\"gender\"':\n",
    "        continue\n",
    "    else:\n",
    "        score = int(info[-1][1:-2])\n",
    "        lunch = info[3][1:-1]\n",
    "        \n",
    "        if lunch == 'free/reduced':\n",
    "            scores.append(score)\n",
    "            \n",
    "last = sum(scores) / len(scores)\n",
    "print(\"%0.2f\" % last)"
   ]
  },
  {
   "cell_type": "code",
   "execution_count": null,
   "metadata": {},
   "outputs": [],
   "source": []
  }
 ],
 "metadata": {
  "kernelspec": {
   "display_name": "Python 3",
   "language": "python",
   "name": "python3"
  },
  "language_info": {
   "codemirror_mode": {
    "name": "ipython",
    "version": 3
   },
   "file_extension": ".py",
   "mimetype": "text/x-python",
   "name": "python",
   "nbconvert_exporter": "python",
   "pygments_lexer": "ipython3",
   "version": "3.8.3"
  }
 },
 "nbformat": 4,
 "nbformat_minor": 4
}
