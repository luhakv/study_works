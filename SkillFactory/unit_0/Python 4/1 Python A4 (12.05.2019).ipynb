{
 "cells": [
  {
   "cell_type": "markdown",
   "metadata": {},
   "source": [
    "# Дата и время"
   ]
  },
  {
   "cell_type": "code",
   "execution_count": 1,
   "metadata": {},
   "outputs": [],
   "source": [
    "from datetime import datetime, date, timedelta"
   ]
  },
  {
   "cell_type": "markdown",
   "metadata": {},
   "source": [
    "Форматы даты и времени:  \n",
    "https://all-python.ru/osnovy/modul-datetime.html  \n",
    "https://docs.python.org/3/library/datetime.html"
   ]
  },
  {
   "cell_type": "code",
   "execution_count": 2,
   "metadata": {},
   "outputs": [
    {
     "data": {
      "text/plain": [
       "datetime.datetime(2019, 5, 12, 0, 0)"
      ]
     },
     "execution_count": 2,
     "metadata": {},
     "output_type": "execute_result"
    }
   ],
   "source": [
    "# Перевод строки в дату:\n",
    "date_str = '12/05/2019'\n",
    "date = datetime.strptime(date_str, '%d/%m/%Y')\n",
    "date"
   ]
  },
  {
   "cell_type": "code",
   "execution_count": 3,
   "metadata": {},
   "outputs": [
    {
     "name": "stdout",
     "output_type": "stream",
     "text": [
      "Месяц: 5\n",
      "День недели: 6\n"
     ]
    }
   ],
   "source": [
    "# Получаем дополнительную информацию о дне с указанной датой:\n",
    "print('Месяц: {}'.format(date.month))\n",
    "print('День недели: {}'.format(date.weekday()))"
   ]
  },
  {
   "cell_type": "code",
   "execution_count": 4,
   "metadata": {},
   "outputs": [
    {
     "data": {
      "text/plain": [
       "'воскресенье'"
      ]
     },
     "execution_count": 4,
     "metadata": {},
     "output_type": "execute_result"
    }
   ],
   "source": [
    "# Расшифровываем день недели: \n",
    "weekdays = 'понедельник вторник среда четверг пятница суббота воскресенье'.split()\n",
    "weekdays[date.weekday()]"
   ]
  },
  {
   "cell_type": "markdown",
   "metadata": {},
   "source": [
    "## Тренировка"
   ]
  },
  {
   "cell_type": "markdown",
   "metadata": {},
   "source": [
    "%a название дня недели в сокращенном виде  \n",
    "%A название дня недели в полном виде  \n",
    "%w номер дня недели в виде целого числа  \n",
    "%d номер дня месяца в виде целого числа  \n",
    "%b название месяца в сокращенном виде  \n",
    "%B название месяца в полном виде  \n",
    "%m номер месяца в числовом представлении  \n",
    "%y номер года без столетия  \n",
    "%Y номер года в полном представлении  \n",
    "%H количество часов в 24-часовом формате  \n",
    "%I количество часов в 12-часовом формате  \n",
    "%p до полудня или после полудня в 12-часовом формате  \n",
    "%M количество минут в виде целого числа  \n",
    "%S количество секунд в виде целого числа  \n",
    "%f количество микросекунд в виде целого числа  \n",
    "%z часовой пояс в формате UTC  \n",
    "%Z название часового пояса  "
   ]
  },
  {
   "cell_type": "code",
   "execution_count": 5,
   "metadata": {},
   "outputs": [
    {
     "data": {
      "text/plain": [
       "datetime.datetime(2019, 5, 12, 13, 0)"
      ]
     },
     "execution_count": 5,
     "metadata": {},
     "output_type": "execute_result"
    }
   ],
   "source": [
    "date_str = '12 May 2019, 13-00'\n",
    "date = datetime.strptime(date_str, '%d %B %Y, %H-%M')\n",
    "date"
   ]
  },
  {
   "cell_type": "code",
   "execution_count": 6,
   "metadata": {},
   "outputs": [
    {
     "data": {
      "text/plain": [
       "datetime.datetime(2019, 5, 12, 13, 0)"
      ]
     },
     "execution_count": 6,
     "metadata": {},
     "output_type": "execute_result"
    }
   ],
   "source": [
    "date_str = '12 May 2019, 01-00 PM'\n",
    "date = datetime.strptime(date_str, '%d %B %Y, %I-%M %p')\n",
    "date"
   ]
  },
  {
   "cell_type": "code",
   "execution_count": 8,
   "metadata": {},
   "outputs": [
    {
     "data": {
      "text/plain": [
       "datetime.datetime(2019, 5, 12, 13, 0)"
      ]
     },
     "execution_count": 8,
     "metadata": {},
     "output_type": "execute_result"
    }
   ],
   "source": [
    "date_str = '12.05.19, 13:00'\n",
    "date = datetime.strptime(date_str, '%d.%m.%y, %H:%M')\n",
    "date"
   ]
  },
  {
   "cell_type": "markdown",
   "metadata": {},
   "source": [
    "## Работа с датой"
   ]
  },
  {
   "cell_type": "code",
   "execution_count": 9,
   "metadata": {},
   "outputs": [
    {
     "name": "stdout",
     "output_type": "stream",
     "text": [
      "﻿Иванов Иван Иванович\t21.03.25\tветеран\n",
      "Петрова Мария Ивановна\t5.04.31\tтруженик тыла\n",
      "Сидоров Фёдор Петрович\t02.12.24\tтруженик тыла\n",
      "Кузнецова Дарья Степановна\t22.02.43\tребёнок войны"
     ]
    }
   ],
   "source": [
    "with open('persons.csv', encoding = 'utf-8') as f:\n",
    "    for line in f:\n",
    "        print(line, end = '')"
   ]
  },
  {
   "cell_type": "code",
   "execution_count": 11,
   "metadata": {},
   "outputs": [
    {
     "name": "stdout",
     "output_type": "stream",
     "text": [
      "1925-03-21 00:00:00\n",
      "1931-04-05 00:00:00\n",
      "1924-12-02 00:00:00\n",
      "1943-02-22 00:00:00\n"
     ]
    }
   ],
   "source": [
    "with open('persons.csv', encoding = 'utf-8') as f:\n",
    "    for line in f:\n",
    "        info = line.split('\\t')\n",
    "        name = info[0]\n",
    "        birthday = datetime.strptime(info[1], '%d.%m.%y')\n",
    "        birthday = birthday.replace(year=birthday.year-100)\n",
    "        print(birthday)"
   ]
  },
  {
   "cell_type": "code",
   "execution_count": 18,
   "metadata": {
    "scrolled": true
   },
   "outputs": [
    {
     "name": "stdout",
     "output_type": "stream",
     "text": [
      "﻿Иванов Иван Иванович, 94 года\n",
      "Петрова Мария Ивановна, 88 лет\n",
      "Сидоров Фёдор Петрович, 94 года\n",
      "Кузнецова Дарья Степановна, 76 лет\n"
     ]
    }
   ],
   "source": [
    "with open('persons.csv', encoding = 'utf-8') as f:\n",
    "    for line in f:\n",
    "        info = line.split('\\t')\n",
    "        name = info[0]\n",
    "        date = datetime.strptime(info[1], '%d.%m.%y')\n",
    "        birthday = date.replace(year=date.year - 100)\n",
    "        \n",
    "        today = date.today()\n",
    "        age = date.today().year - birthday.year\n",
    "        if today.month < birthday.month:\n",
    "            age -= 1\n",
    "        elif today.month == birthday.month and today.day < birthday.day:\n",
    "            age -= 1\n",
    "        \n",
    "        if str(age)[-1] in '234':\n",
    "            label = 'года'\n",
    "        elif str(age)[-1] in '1':\n",
    "            label = 'год'\n",
    "        else:\n",
    "            label = 'лет'\n",
    "        \n",
    "        print('{}, {} {}'.format(name, age, label))"
   ]
  },
  {
   "cell_type": "code",
   "execution_count": 14,
   "metadata": {},
   "outputs": [
    {
     "data": {
      "text/plain": [
       "datetime.timedelta(days=27838, seconds=59798, microseconds=340381)"
      ]
     },
     "execution_count": 14,
     "metadata": {},
     "output_type": "execute_result"
    }
   ],
   "source": [
    "date.today() - birthday"
   ]
  },
  {
   "cell_type": "markdown",
   "metadata": {},
   "source": [
    "## Работа с timedelta"
   ]
  },
  {
   "cell_type": "code",
   "execution_count": 19,
   "metadata": {},
   "outputs": [],
   "source": [
    "today = date.today()"
   ]
  },
  {
   "cell_type": "code",
   "execution_count": 20,
   "metadata": {},
   "outputs": [
    {
     "name": "stdout",
     "output_type": "stream",
     "text": [
      "2:49\n"
     ]
    }
   ],
   "source": [
    "# Йогурт приготовится через 10 часов. Когда нужно будет выключить мультиварку?\n",
    "answer = today + timedelta(hours = 10)\n",
    "print('{}:{}'.format(answer.hour, answer.minute))"
   ]
  },
  {
   "cell_type": "code",
   "execution_count": 23,
   "metadata": {},
   "outputs": [
    {
     "name": "stdout",
     "output_type": "stream",
     "text": [
      "За посылкой нужно подойти в среду, 22.5.\n"
     ]
    }
   ],
   "source": [
    "# Посылка придёт через 10 дней. Когда нужно пойти на почту?\n",
    "answer = today + timedelta(days=10)\n",
    "weekdays = 'понедельник вторник среду четверг пятницу субботу воскресенье'.split()\n",
    "day = weekdays[answer.weekday()]\n",
    "\n",
    "if day != 'вторник':\n",
    "    day = 'в ' + day\n",
    "else:\n",
    "    day = 'во' + day\n",
    "print('За посылкой нужно подойти {}, {}.{}.'.format(day, answer.day, answer.month))"
   ]
  },
  {
   "cell_type": "code",
   "execution_count": 24,
   "metadata": {},
   "outputs": [
    {
     "name": "stdout",
     "output_type": "stream",
     "text": [
      "На почту:\n",
      "В Wednesday, 22.05.2019\n",
      "К 16:49\n"
     ]
    }
   ],
   "source": [
    "answer = today + timedelta(days=10)\n",
    "print('На почту:')\n",
    "print('В {}, {}'.format(answer.strftime('%A'), answer.strftime('%d.%m.%Y')))\n",
    "print('К {}'.format(answer.strftime('%H:%M')))"
   ]
  },
  {
   "cell_type": "code",
   "execution_count": 27,
   "metadata": {},
   "outputs": [
    {
     "name": "stdout",
     "output_type": "stream",
     "text": [
      "среда, 16:49\n"
     ]
    }
   ],
   "source": [
    "answer = today + timedelta(days = 10)\n",
    "weekday = ['понедельник','вторник','среда','четверг','пятница','суббота','воскресенье']\n",
    "print('{}, {}:{}'.format(weekday[answer.weekday()], answer.hour, answer.minute))"
   ]
  },
  {
   "cell_type": "code",
   "execution_count": 29,
   "metadata": {},
   "outputs": [
    {
     "name": "stdout",
     "output_type": "stream",
     "text": [
      "на 16.6.2019\n"
     ]
    }
   ],
   "source": [
    "# Отпуск начинается через 5 недель. На какой день заказывать билеты? \n",
    "answer = today + timedelta(weeks = 5)\n",
    "print('на {}.{}.{}'.format(answer.day,answer.month,answer.year))"
   ]
  },
  {
   "cell_type": "code",
   "execution_count": null,
   "metadata": {},
   "outputs": [],
   "source": []
  }
 ],
 "metadata": {
  "kernelspec": {
   "display_name": "Python 3",
   "language": "python",
   "name": "python3"
  },
  "language_info": {
   "codemirror_mode": {
    "name": "ipython",
    "version": 3
   },
   "file_extension": ".py",
   "mimetype": "text/x-python",
   "name": "python",
   "nbconvert_exporter": "python",
   "pygments_lexer": "ipython3",
   "version": "3.8.3"
  }
 },
 "nbformat": 4,
 "nbformat_minor": 2
}
