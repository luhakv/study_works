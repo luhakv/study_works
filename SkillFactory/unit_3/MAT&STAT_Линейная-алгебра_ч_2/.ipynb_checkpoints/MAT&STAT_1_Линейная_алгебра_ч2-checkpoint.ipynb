{
 "cells": [
  {
   "cell_type": "markdown",
   "metadata": {},
   "source": [
    "# *MATH&STAT-2. Линейная алгебра. Часть 2\n",
    "## Юнит 3. Введение в машинное обучение \n",
    "### Skillfactory: DSPR-19\n",
    "\n",
    "### 2.2. Неоднородные СЛАУ\n",
    "\n",
    "### 2.3. Случай «Идеальная пара»\n",
    "\n",
    "### Задание 2.3.1\n",
    "Запишите систему уравнений, если ее расширенная матрица имеет вид  \n",
    "***Ответ:***  \n",
    "4w1+7w2-w3=7  \n",
    "2w1+w2+w3=2  \n",
    "-4w1+2w2+5w3=3  \n",
    "\n"
   ]
  },
  {
   "cell_type": "markdown",
   "metadata": {},
   "source": [
    "### Задание 2.3.2\n",
    "Продолжите предложение, выбрав верное утверждение. \n",
    "\n",
    "Системы уравнений имеют одинаковые решения, потому что их расширенные матрицы пропорциональны"
   ]
  },
  {
   "cell_type": "markdown",
   "metadata": {},
   "source": [
    "### Задание 2.3.3\n",
    "Запишите расширенную матрицу системы A|b"
   ]
  },
  {
   "cell_type": "code",
   "execution_count": 1,
   "metadata": {},
   "outputs": [
    {
     "data": {
      "text/plain": [
       "array([[ 4,  7, 20],\n",
       "       [ 5, 10, 30]])"
      ]
     },
     "execution_count": 1,
     "metadata": {},
     "output_type": "execute_result"
    }
   ],
   "source": [
    "import numpy as np\n",
    "\n",
    "A = np.array([[4,7,20],\n",
    "            [5,10,30]])\n",
    "A"
   ]
  },
  {
   "cell_type": "markdown",
   "metadata": {},
   "source": [
    "### Задание 2.3.4\n",
    "\n",
    "Решите систему линейных уравнений\n"
   ]
  },
  {
   "cell_type": "markdown",
   "metadata": {},
   "source": [
    "4x + 7y = 20  \n",
    "5x + 10y = 30  \n",
    "\n",
    "10y = 30 - 5x  \n",
    "y = (30 - 5x)x 0.1 = 3 - 0.5x  \n",
    "\n",
    "4x + 7(3 - 0.5x) = 20  \n",
    "4x + 21 - 3.5x = 20  \n",
    "4x - 3.5x = -1  \n",
    "0.5x = -1  \n",
    "**x = -2**\n",
    "\n",
    "y = 3 - 0.5x  \n",
    "y = 3 - (-2 x 0.5)  \n",
    "**y = 4**"
   ]
  },
  {
   "cell_type": "code",
   "execution_count": null,
   "metadata": {},
   "outputs": [],
   "source": []
  }
 ],
 "metadata": {
  "kernelspec": {
   "display_name": "Python 3",
   "language": "python",
   "name": "python3"
  },
  "language_info": {
   "codemirror_mode": {
    "name": "ipython",
    "version": 3
   },
   "file_extension": ".py",
   "mimetype": "text/x-python",
   "name": "python",
   "nbconvert_exporter": "python",
   "pygments_lexer": "ipython3",
   "version": "3.8.3"
  }
 },
 "nbformat": 4,
 "nbformat_minor": 4
}
