{
 "cells": [
  {
   "cell_type": "markdown",
   "metadata": {},
   "source": [
    "# *MATH&STAT-2. Линейная алгебра. Часть 2\n",
    "## Юнит 3. Введение в машинное обучение \n",
    "### Skillfactory: DSPR-19\n",
    "\n",
    "### 2.2. Неоднородные СЛАУ\n",
    "\n",
    "### 2.3. Случай «Идеальная пара»\n",
    "\n",
    "### Задание 2.3.1\n",
    "Запишите систему уравнений, если ее расширенная матрица имеет вид  \n",
    "\n",
    "Ответ:  \n",
    "4w1+7w2-w3=7  \n",
    "2w1+w2+w3=2  \n",
    "-4w1+2w2+5w3=3  \n",
    "\n"
   ]
  },
  {
   "cell_type": "markdown",
   "metadata": {},
   "source": [
    "### Задание 2.3.2\n",
    "Продолжите предложение, выбрав верное утверждение. \n",
    "\n",
    "Системы уравнений имеют одинаковые решения, потому что их расширенные матрицы пропорциональны"
   ]
  },
  {
   "cell_type": "markdown",
   "metadata": {},
   "source": [
    "### Задание 2.3.3\n",
    "Запишите расширенную матрицу системы A|b"
   ]
  },
  {
   "cell_type": "code",
   "execution_count": 1,
   "metadata": {},
   "outputs": [
    {
     "data": {
      "text/plain": [
       "array([[ 4,  7, 20],\n",
       "       [ 5, 10, 30]])"
      ]
     },
     "execution_count": 1,
     "metadata": {},
     "output_type": "execute_result"
    }
   ],
   "source": [
    "import numpy as np\n",
    "\n",
    "A = np.array([[4,7,20],\n",
    "            [5,10,30]])\n",
    "A"
   ]
  },
  {
   "cell_type": "markdown",
   "metadata": {},
   "source": [
    "### 2.4. Случай «В активном поиске»\n",
    "\n",
    "### Задание 2.3.4\n",
    "\n",
    "Решите систему линейных уравнений\n"
   ]
  },
  {
   "cell_type": "markdown",
   "metadata": {},
   "source": [
    "4x + 7y = 20  \n",
    "5x + 10y = 30  \n",
    "\n",
    "10y = 30 - 5x  \n",
    "y = (30 - 5x)x 0.1 = 3 - 0.5x  \n",
    "\n",
    "4x + 7(3 - 0.5x) = 20  \n",
    "4x + 21 - 3.5x = 20  \n",
    "4x - 3.5x = -1  \n",
    "0.5x = -1  \n",
    "**x = -2**\n",
    "\n",
    "y = 3 - 0.5x  \n",
    "y = 3 - (-2 x 0.5)  \n",
    "**y = 4**"
   ]
  },
  {
   "cell_type": "markdown",
   "metadata": {},
   "source": [
    "### Задание 2.4.1\n",
    "Сколько решений имеет система уравнений  \n",
    "Ответ: Бесконечно много, так как в ней 2 непротиворечивых уравнения на 3 неизвестных"
   ]
  },
  {
   "cell_type": "markdown",
   "metadata": {},
   "source": [
    "### Задание 2.4.2\n",
    "Сколько решений имеет система уравнений  \n",
    "Ответ: Бесконечно много верно"
   ]
  },
  {
   "cell_type": "markdown",
   "metadata": {},
   "source": [
    "### Задание 2.4.3\n",
    "Система линейных алгебраических уравнений НЕ может иметь  \n",
    "Ответ: Ровно 5 решений"
   ]
  },
  {
   "cell_type": "markdown",
   "metadata": {},
   "source": [
    "### Задание 2.4.4\n",
    "В каком/каких из следующих случаев система будет иметь бесконечно много решений?  \n",
    "Ответ: \n",
    " - 4 неизвестных, 3 уравнения, rk(A) = 2, rk(A|b) = 2\n",
    " - 4 неизвестных, 3 уравнения, rk(A) = 3, rk(A|b) = 3"
   ]
  },
  {
   "cell_type": "markdown",
   "metadata": {},
   "source": [
    "### 2.5 Случай «Всё сложно» ч.1\n",
    "\n",
    "### Задание 2.5.1\n",
    "Какие ситуации в СЛАУ невозможны?\n",
    " - 8 неизвестных, 12 уравнений, rk(A) = 10, rk(A|b) =  10\n",
    " - 8 неизвестных, 12 уравнений, rk(A) = 2, rk(A|b) =  1\n",
    "\n"
   ]
  },
  {
   "cell_type": "markdown",
   "metadata": {},
   "source": [
    "### Задание 2.5.2\n",
    "В переопределенной системе Aw = b обязательно\n",
    "\n",
    "Ответ:\n",
    "- Ранг расширенной матрицы больше ранга A\n",
    "- Нет точных решений\n",
    "- Столбец свободных коэффициентов независим со столбцами матрицы A"
   ]
  },
  {
   "cell_type": "markdown",
   "metadata": {},
   "source": [
    "### Задание 2.5.3\n",
    "\n",
    "Согласно OLS, из нескольких приближённых решений переопределенной СЛАУ лучше то\n",
    "\n",
    "Ответ: У которого вектор ошибок имеет меньшую длину"
   ]
  },
  {
   "cell_type": "markdown",
   "metadata": {},
   "source": [
    "### Задание 2.6.1\n",
    "Вычислите вектор ошибок для приближённого решения системы w, если"
   ]
  },
  {
   "cell_type": "code",
   "execution_count": 7,
   "metadata": {},
   "outputs": [
    {
     "name": "stdout",
     "output_type": "stream",
     "text": [
      "Матрица A\n",
      "[[ 1 -5]\n",
      " [ 2  1]\n",
      " [ 1  1]]\n",
      " \n",
      "вектор b\n",
      "[[1]\n",
      " [2]\n",
      " [2]]\n",
      " \n",
      "вектор w\n",
      "[[1]\n",
      " [1]]\n",
      " \n"
     ]
    },
    {
     "data": {
      "text/plain": [
       "array([[ 5],\n",
       "       [-1],\n",
       "       [ 0]])"
      ]
     },
     "execution_count": 7,
     "metadata": {},
     "output_type": "execute_result"
    }
   ],
   "source": [
    "import numpy as np\n",
    "\n",
    "A = np.array([[1 , -5],[2 , 1],[1 , 1]])\n",
    "print(\"Матрица A\")\n",
    "print(A)\n",
    "print(\" \")\n",
    "\n",
    "b = np.array([1, 2, 2])\n",
    "b = np.reshape(b,(len(b),1))\n",
    "print(\"вектор b\")\n",
    "print(b)\n",
    "print(\" \")\n",
    "\n",
    "w = np.array([1, 1])\n",
    "w = np.reshape(w,(len(w),1))\n",
    "print(\"вектор w\")\n",
    "print(w)\n",
    "print(\" \")\n",
    "\n",
    "temp = b-A@w\n",
    "temp"
   ]
  },
  {
   "cell_type": "markdown",
   "metadata": {},
   "source": [
    "### Задание 2.6.2\n",
    "В OLS оценке коэффициентов переопределенной СЛАУ\n",
    "\n",
    "Ответ:\n",
    "- Вектор ошибок ортогонален столбцам А\n",
    "- Вектор ошибок имеет минимальную длину из всех возможных\n",
    "- Вектор ошибок e = b-A*w  "
   ]
  },
  {
   "cell_type": "markdown",
   "metadata": {},
   "source": [
    "### Задание 2.6.3\n",
    "Найдите OLS оценку для коэффициентов w1, w2 СЛАУ"
   ]
  },
  {
   "cell_type": "code",
   "execution_count": 8,
   "metadata": {},
   "outputs": [
    {
     "name": "stdout",
     "output_type": "stream",
     "text": [
      "Матрица A\n",
      "[[ 1  2]\n",
      " [-3  1]\n",
      " [ 1  2]\n",
      " [ 1 -1]]\n",
      " \n",
      "вектор b\n",
      "[[1]\n",
      " [4]\n",
      " [5]\n",
      " [0]]\n"
     ]
    }
   ],
   "source": [
    "A = np.array([[1 , 2],[-3 , 1],[1 , 2],[1, -1]])\n",
    "print(\"Матрица A\")\n",
    "print(A)\n",
    "print(\" \")\n",
    "\n",
    "b = np.array([1, 4, 5, 0])\n",
    "b = np.reshape(b,(4,1))\n",
    "print(\"вектор b\")\n",
    "print(b)"
   ]
  },
  {
   "cell_type": "markdown",
   "metadata": {},
   "source": [
    "### Задание 2.6.3_1\n",
    "a) Вычислите матрицу Грама столбцов А: A_T*A"
   ]
  },
  {
   "cell_type": "code",
   "execution_count": 12,
   "metadata": {},
   "outputs": [
    {
     "name": "stdout",
     "output_type": "stream",
     "text": [
      "матрица Грама\n",
      "[[12  0]\n",
      " [ 0 10]]\n"
     ]
    }
   ],
   "source": [
    "temp = A.T @ A\n",
    "\n",
    "print(f\"матрица Грама\")\n",
    "print(temp)"
   ]
  },
  {
   "cell_type": "markdown",
   "metadata": {},
   "source": [
    "### Задание 2.6.3_2\n",
    "(A_T*A)-1 имеет вид:\n",
    "\n",
    "Ответ:\n",
    "diag (1/12, 1/10)"
   ]
  },
  {
   "cell_type": "markdown",
   "metadata": {},
   "source": [
    "### Задание 2.6.3_3\n",
    "A.T@b = ?"
   ]
  },
  {
   "cell_type": "code",
   "execution_count": 10,
   "metadata": {},
   "outputs": [
    {
     "data": {
      "text/plain": [
       "array([[-6],\n",
       "       [16]])"
      ]
     },
     "execution_count": 10,
     "metadata": {},
     "output_type": "execute_result"
    }
   ],
   "source": [
    "temp = A.T @ b\n",
    "temp"
   ]
  },
  {
   "cell_type": "markdown",
   "metadata": {},
   "source": [
    "### Задание 2.6.3_4\n",
    "w_ = ?  \n",
    "***Примечание: для корректого ответа НЕ округляйте (A.T@A)^-1***  \n",
    "Введите координаты полученного вектора через запятую (без пробела):"
   ]
  },
  {
   "cell_type": "code",
   "execution_count": 13,
   "metadata": {},
   "outputs": [
    {
     "data": {
      "text/plain": [
       "array([[-0.5],\n",
       "       [ 1.6]])"
      ]
     },
     "execution_count": 13,
     "metadata": {},
     "output_type": "execute_result"
    }
   ],
   "source": [
    "G_inv = np.linalg.inv(A.T @ A)\n",
    "temp = G_inv @ (A.T @ b)\n",
    "temp"
   ]
  },
  {
   "cell_type": "markdown",
   "metadata": {},
   "source": [
    "### Задание 2.6.3_5\n",
    "e) Вид матрицы Грама в данной конкретной задаче говорит  \n",
    "\n",
    "***Ответ:***\n",
    "- Об ортогональности столбцов матрицы А\n",
    "- О линейной независимости столбцов матрицы А"
   ]
  },
  {
   "cell_type": "code",
   "execution_count": null,
   "metadata": {},
   "outputs": [],
   "source": []
  }
 ],
 "metadata": {
  "kernelspec": {
   "display_name": "Python 3",
   "language": "python",
   "name": "python3"
  },
  "language_info": {
   "codemirror_mode": {
    "name": "ipython",
    "version": 3
   },
   "file_extension": ".py",
   "mimetype": "text/x-python",
   "name": "python",
   "nbconvert_exporter": "python",
   "pygments_lexer": "ipython3",
   "version": "3.8.3"
  }
 },
 "nbformat": 4,
 "nbformat_minor": 4
}
