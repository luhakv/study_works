{
 "cells": [
  {
   "cell_type": "markdown",
   "metadata": {},
   "source": [
    "# *MATH&STAT-2. Линейная алгебра. Часть 2\n",
    "## Юнит 3. Введение в машинное обучение \n",
    "### Skillfactory: DSPR-19\n",
    "\n",
    "### 2.2. Неоднородные СЛАУ\n",
    "\n",
    "### 2.3. Случай «Идеальная пара»\n",
    "\n",
    "### Задание 2.3.1\n",
    "Запишите систему уравнений, если ее расширенная матрица имеет вид  \n",
    "\n",
    "Ответ:  \n",
    "4w1+7w2-w3=7  \n",
    "2w1+w2+w3=2  \n",
    "-4w1+2w2+5w3=3  \n",
    "\n"
   ]
  },
  {
   "cell_type": "markdown",
   "metadata": {},
   "source": [
    "### Задание 2.3.2\n",
    "Продолжите предложение, выбрав верное утверждение. \n",
    "\n",
    "Системы уравнений имеют одинаковые решения, потому что их расширенные матрицы пропорциональны"
   ]
  },
  {
   "cell_type": "markdown",
   "metadata": {},
   "source": [
    "### Задание 2.3.3\n",
    "Запишите расширенную матрицу системы A|b"
   ]
  },
  {
   "cell_type": "code",
   "execution_count": 1,
   "metadata": {},
   "outputs": [
    {
     "data": {
      "text/plain": [
       "array([[ 4,  7, 20],\n",
       "       [ 5, 10, 30]])"
      ]
     },
     "execution_count": 1,
     "metadata": {},
     "output_type": "execute_result"
    }
   ],
   "source": [
    "import numpy as np\n",
    "\n",
    "A = np.array([[4,7,20],\n",
    "            [5,10,30]])\n",
    "A"
   ]
  },
  {
   "cell_type": "markdown",
   "metadata": {},
   "source": [
    "### 2.4. Случай «В активном поиске»\n",
    "\n",
    "### Задание 2.3.4\n",
    "\n",
    "Решите систему линейных уравнений\n"
   ]
  },
  {
   "cell_type": "markdown",
   "metadata": {},
   "source": [
    "4x + 7y = 20  \n",
    "5x + 10y = 30  \n",
    "\n",
    "10y = 30 - 5x  \n",
    "y = (30 - 5x)x 0.1 = 3 - 0.5x  \n",
    "\n",
    "4x + 7(3 - 0.5x) = 20  \n",
    "4x + 21 - 3.5x = 20  \n",
    "4x - 3.5x = -1  \n",
    "0.5x = -1  \n",
    "**x = -2**\n",
    "\n",
    "y = 3 - 0.5x  \n",
    "y = 3 - (-2 x 0.5)  \n",
    "**y = 4**"
   ]
  },
  {
   "cell_type": "markdown",
   "metadata": {},
   "source": [
    "### Задание 2.4.1\n",
    "Сколько решений имеет система уравнений  \n",
    "Ответ: Бесконечно много, так как в ней 2 непротиворечивых уравнения на 3 неизвестных"
   ]
  },
  {
   "cell_type": "markdown",
   "metadata": {},
   "source": [
    "### Задание 2.4.2\n",
    "Сколько решений имеет система уравнений  \n",
    "Ответ: Бесконечно много верно"
   ]
  },
  {
   "cell_type": "markdown",
   "metadata": {},
   "source": [
    "### Задание 2.4.3\n",
    "Система линейных алгебраических уравнений НЕ может иметь  \n",
    "Ответ: Ровно 5 решений"
   ]
  },
  {
   "cell_type": "markdown",
   "metadata": {},
   "source": [
    "### Задание 2.4.4\n",
    "В каком/каких из следующих случаев система будет иметь бесконечно много решений?  \n",
    "Ответ: \n",
    " - 4 неизвестных, 3 уравнения, rk(A) = 2, rk(A|b) = 2\n",
    " - 4 неизвестных, 3 уравнения, rk(A) = 3, rk(A|b) = 3"
   ]
  },
  {
   "cell_type": "markdown",
   "metadata": {},
   "source": [
    "### 2.5 Случай «Всё сложно» ч.1\n",
    "\n",
    "### Задание 2.5.1\n",
    "Какие ситуации в СЛАУ невозможны?\n",
    " - 8 неизвестных, 12 уравнений, rk(A) = 10, rk(A|b) =  10\n",
    " - 8 неизвестных, 12 уравнений, rk(A) = 2, rk(A|b) =  1\n",
    "\n"
   ]
  },
  {
   "cell_type": "markdown",
   "metadata": {},
   "source": [
    "### Задание 2.5.2\n",
    "В переопределенной системе Aw = b обязательно\n",
    "\n",
    "Ответ:\n",
    "- Ранг расширенной матрицы больше ранга A\n",
    "- Нет точных решений\n",
    "- Столбец свободных коэффициентов независим со столбцами матрицы A"
   ]
  },
  {
   "cell_type": "markdown",
   "metadata": {},
   "source": [
    "### Задание 2.5.3\n",
    "\n",
    "Согласно OLS, из нескольких приближённых решений переопределенной СЛАУ лучше то\n",
    "\n",
    "Ответ: У которого вектор ошибок имеет меньшую длину"
   ]
  },
  {
   "cell_type": "markdown",
   "metadata": {},
   "source": [
    "### Задание 2.6.1\n",
    "Вычислите вектор ошибок для приближённого решения системы w, если"
   ]
  },
  {
   "cell_type": "code",
   "execution_count": 7,
   "metadata": {},
   "outputs": [
    {
     "name": "stdout",
     "output_type": "stream",
     "text": [
      "Матрица A\n",
      "[[ 1 -5]\n",
      " [ 2  1]\n",
      " [ 1  1]]\n",
      " \n",
      "вектор b\n",
      "[[1]\n",
      " [2]\n",
      " [2]]\n",
      " \n",
      "вектор w\n",
      "[[1]\n",
      " [1]]\n",
      " \n"
     ]
    },
    {
     "data": {
      "text/plain": [
       "array([[ 5],\n",
       "       [-1],\n",
       "       [ 0]])"
      ]
     },
     "execution_count": 7,
     "metadata": {},
     "output_type": "execute_result"
    }
   ],
   "source": [
    "import numpy as np\n",
    "\n",
    "A = np.array([[1 , -5],[2 , 1],[1 , 1]])\n",
    "print(\"Матрица A\")\n",
    "print(A)\n",
    "print(\" \")\n",
    "\n",
    "b = np.array([1, 2, 2])\n",
    "b = np.reshape(b,(len(b),1))\n",
    "print(\"вектор b\")\n",
    "print(b)\n",
    "print(\" \")\n",
    "\n",
    "w = np.array([1, 1])\n",
    "w = np.reshape(w,(len(w),1))\n",
    "print(\"вектор w\")\n",
    "print(w)\n",
    "print(\" \")\n",
    "\n",
    "temp = b-A@w\n",
    "temp"
   ]
  },
  {
   "cell_type": "markdown",
   "metadata": {},
   "source": [
    "### Задание 2.6.2\n",
    "В OLS оценке коэффициентов переопределенной СЛАУ\n",
    "\n",
    "Ответ:\n",
    "- Вектор ошибок ортогонален столбцам А\n",
    "- Вектор ошибок имеет минимальную длину из всех возможных\n",
    "- Вектор ошибок e = b-A*w  "
   ]
  },
  {
   "cell_type": "markdown",
   "metadata": {},
   "source": [
    "### Задание 2.6.3\n",
    "Найдите OLS оценку для коэффициентов w1, w2 СЛАУ"
   ]
  },
  {
   "cell_type": "code",
   "execution_count": 8,
   "metadata": {},
   "outputs": [
    {
     "name": "stdout",
     "output_type": "stream",
     "text": [
      "Матрица A\n",
      "[[ 1  2]\n",
      " [-3  1]\n",
      " [ 1  2]\n",
      " [ 1 -1]]\n",
      " \n",
      "вектор b\n",
      "[[1]\n",
      " [4]\n",
      " [5]\n",
      " [0]]\n"
     ]
    }
   ],
   "source": [
    "A = np.array([[1 , 2],[-3 , 1],[1 , 2],[1, -1]])\n",
    "print(\"Матрица A\")\n",
    "print(A)\n",
    "print(\" \")\n",
    "\n",
    "b = np.array([1, 4, 5, 0])\n",
    "b = np.reshape(b,(4,1))\n",
    "print(\"вектор b\")\n",
    "print(b)"
   ]
  },
  {
   "cell_type": "markdown",
   "metadata": {},
   "source": [
    "### Задание 2.6.3_1\n",
    "a) Вычислите матрицу Грама столбцов А: A_T*A"
   ]
  },
  {
   "cell_type": "code",
   "execution_count": 12,
   "metadata": {},
   "outputs": [
    {
     "name": "stdout",
     "output_type": "stream",
     "text": [
      "матрица Грама\n",
      "[[12  0]\n",
      " [ 0 10]]\n"
     ]
    }
   ],
   "source": [
    "temp = A.T @ A\n",
    "\n",
    "print(f\"матрица Грама\")\n",
    "print(temp)"
   ]
  },
  {
   "cell_type": "markdown",
   "metadata": {},
   "source": [
    "### Задание 2.6.3_2\n",
    "(A_T*A)-1 имеет вид:\n",
    "\n",
    "Ответ:\n",
    "diag (1/12, 1/10)"
   ]
  },
  {
   "cell_type": "markdown",
   "metadata": {},
   "source": [
    "### Задание 2.6.3_3\n",
    "A.T@b = ?"
   ]
  },
  {
   "cell_type": "code",
   "execution_count": 10,
   "metadata": {},
   "outputs": [
    {
     "data": {
      "text/plain": [
       "array([[-6],\n",
       "       [16]])"
      ]
     },
     "execution_count": 10,
     "metadata": {},
     "output_type": "execute_result"
    }
   ],
   "source": [
    "temp = A.T @ b\n",
    "temp"
   ]
  },
  {
   "cell_type": "markdown",
   "metadata": {},
   "source": [
    "### Задание 2.6.3_4\n",
    "w_ = ?  \n",
    "***Примечание: для корректого ответа НЕ округляйте (A.T@A)^-1***  \n",
    "Введите координаты полученного вектора через запятую (без пробела):"
   ]
  },
  {
   "cell_type": "code",
   "execution_count": 13,
   "metadata": {},
   "outputs": [
    {
     "data": {
      "text/plain": [
       "array([[-0.5],\n",
       "       [ 1.6]])"
      ]
     },
     "execution_count": 13,
     "metadata": {},
     "output_type": "execute_result"
    }
   ],
   "source": [
    "G_inv = np.linalg.inv(A.T @ A)\n",
    "temp = G_inv @ (A.T @ b)\n",
    "temp"
   ]
  },
  {
   "cell_type": "markdown",
   "metadata": {},
   "source": [
    "### Задание 2.6.3_5\n",
    "e) Вид матрицы Грама в данной конкретной задаче говорит  \n",
    "\n",
    "***Ответ:***\n",
    "- Об ортогональности столбцов матрицы А\n",
    "- О линейной независимости столбцов матрицы А"
   ]
  },
  {
   "cell_type": "markdown",
   "metadata": {},
   "source": [
    "### 2.7. Классическая OLS линейная регрессия\n",
    "\n",
    "### Задание 2.7.1\n",
    "\n",
    "В постановке задачи линейной регрессии запись\n",
    "y, x1, x2, ... x8 R117\n",
    "означает, что\n",
    "\n",
    "Ответ: \n",
    "в модели 8 факторов и 117 наблюдений \n",
    "\n",
    "### Задание 2.7.2\n",
    "\n",
    "Продолжите утверждение:\n",
    "\n",
    "Система уравнений для поиска коэффициентов линейной регрессии\n",
    "\n",
    "Ответ:\n",
    "\n",
    "- Как правило, переопределенная\n",
    "- Как правило, «высокая» (строк >> столбцов)\n",
    "\n",
    "### Задание 2.7.3\n",
    "\n",
    "В системе y = Aw для поиска коэффициентов линейной регрессии:\n",
    "\n",
    "Ответ:\n",
    "- w — вектор неизвестных коэффициентов\n",
    "- А — матрица значений признаков, записанных в столбцы\n",
    "\n",
    "### Задание 2.7.4\n",
    "\n",
    "В задаче прогнозирования PRICE = w0 + w1*CRIM + w2*RM\n",
    "\n",
    "Ответ:\n",
    "- PRICE — целевая переменная\n",
    "- Есть intercept"
   ]
  },
  {
   "cell_type": "markdown",
   "metadata": {},
   "source": [
    "### Задание 2.7.5\n",
    "Используя данные, полученные нами в модуле ранее (см. таблицу и результат применения OLS к ней) сделайте прогноз типичной стоимости (в тыс. долларов) дома в городке с уровнем преступности CRIM==0.2 и средним количеством комнат в доме RM==6.  \n",
    "Ответ округлите до тысячных"
   ]
  },
  {
   "cell_type": "code",
   "execution_count": 14,
   "metadata": {},
   "outputs": [
    {
     "name": "stdout",
     "output_type": "stream",
     "text": [
      "вектор w\n",
      " [[-29.3 ]\n",
      " [ -0.26]\n",
      " [  8.4 ]]\n",
      "21.048\n"
     ]
    }
   ],
   "source": [
    "w = np.array([-29.3, -0.26, 8.4])\n",
    "w = np.reshape(w,(len(w),1))\n",
    "print(\"вектор w\\n\", w)\n",
    "\n",
    "CRIM = 0.2\n",
    "RM = 6\n",
    "x = np.array([1, CRIM, RM])\n",
    "\n",
    "temp = (x@w)[0]\n",
    "print(round(temp,3))"
   ]
  },
  {
   "cell_type": "code",
   "execution_count": 15,
   "metadata": {},
   "outputs": [
    {
     "name": "stdout",
     "output_type": "stream",
     "text": [
      "21.048\n"
     ]
    }
   ],
   "source": [
    "y = -29.3-0.26*0.2+8.4*6\n",
    "print(round(y, 3))"
   ]
  },
  {
   "cell_type": "markdown",
   "metadata": {},
   "source": [
    "### 2.8. Проблемы в классической OLS модели\n",
    "\n",
    "### Задание 2.8.1\n",
    "Классическая OLS оценка коэффициентов линейной регрессии не получится, если \n",
    "\n",
    "Ответ:  \n",
    "- В модели 3 признака и один является суммой двух других\n",
    "- В модели 2 признака пропорциональны\n",
    "\n",
    "### Задание 2.8.2\n",
    "Можно ли найти классическую OLS оценку в модели целевой переменной y и регрессорами x1, x2, x3"
   ]
  },
  {
   "cell_type": "code",
   "execution_count": 16,
   "metadata": {},
   "outputs": [
    {
     "name": "stdout",
     "output_type": "stream",
     "text": [
      "вектор y\n",
      " [[1]\n",
      " [2]\n",
      " [1]\n",
      " [2]]\n",
      " \n",
      "вектор x1\n",
      " [[1]\n",
      " [1]\n",
      " [0]\n",
      " [2]]\n",
      " \n",
      "вектор x2\n",
      " [[-1]\n",
      " [ 1]\n",
      " [ 0]\n",
      " [ 0]]\n",
      " \n",
      "вектор x3\n",
      " [[0]\n",
      " [2]\n",
      " [0]\n",
      " [2]]\n"
     ]
    }
   ],
   "source": [
    "y = np.array([ 1, 2, 1, 2])\n",
    "y = np.reshape(y,(len(y),1))\n",
    "print(\"вектор y\\n\", y)\n",
    "print(\" \")\n",
    "\n",
    "x1 = np.array([ 1, 1, 0, 2])\n",
    "x1 = np.reshape(x1,(len(x1),1))\n",
    "print(\"вектор x1\\n\", x1)\n",
    "print(\" \")\n",
    "\n",
    "x2 = np.array([ -1, 1, 0, 0])\n",
    "x2 = np.reshape(x2,(len(x2),1))\n",
    "print(\"вектор x2\\n\", x2)\n",
    "print(\" \")\n",
    "\n",
    "x3 = np.array([ 0, 2, 0, 2])\n",
    "x3 = np.reshape(x3,(len(x3),1))\n",
    "print(\"вектор x3\\n\", x3)"
   ]
  },
  {
   "cell_type": "code",
   "execution_count": 17,
   "metadata": {},
   "outputs": [
    {
     "data": {
      "text/plain": [
       "0.0"
      ]
     },
     "execution_count": 17,
     "metadata": {},
     "output_type": "execute_result"
    }
   ],
   "source": [
    "A=np.concatenate((x1, x2, x3), axis=1)\n",
    "\n",
    "temp = np.linalg.det(A.T@A)\n",
    "temp"
   ]
  },
  {
   "cell_type": "markdown",
   "metadata": {},
   "source": [
    "Матрица Грамма вырождена. Ответ: НЕТ"
   ]
  },
  {
   "cell_type": "markdown",
   "metadata": {},
   "source": [
    "### 2.9. Стандартизация признаков\n",
    "\n"
   ]
  },
  {
   "cell_type": "markdown",
   "metadata": {},
   "source": [
    "### Задание 2.9.1\n",
    "Стандартизация поможет улучшить обусловленность модели, если\n",
    "\n",
    "Ответ:   \n",
    "y = 1, 2, 1, 2   \n",
    "x1 = 0.1, 0.01, 0, 0.02   \n",
    "x2 = -1000, 1000, 8000, 7000"
   ]
  },
  {
   "cell_type": "markdown",
   "metadata": {},
   "source": [
    "### Задание 2.9.2\n",
    "Стандартизируйте признак  \n",
    "$x = {11 \\choose 8}$"
   ]
  },
  {
   "cell_type": "code",
   "execution_count": 19,
   "metadata": {},
   "outputs": [
    {
     "name": "stdout",
     "output_type": "stream",
     "text": [
      "Стандартизированный признак x\n",
      " 0.71 -0.71\n"
     ]
    }
   ],
   "source": [
    "x = np.array([11,8])\n",
    "x_center = x - np.mean([x])\n",
    "\n",
    "temp = x_center/(np.dot(x_center,x_center)**0.5)\n",
    "\n",
    "\n",
    "print(f\"Стандартизированный признак x\\n\", round(temp[0],2), round(temp[1],2))"
   ]
  },
  {
   "cell_type": "markdown",
   "metadata": {},
   "source": [
    "### 2.10. Корреляционная матрица  \n",
    "\n",
    "### Задание 2.10.1\n",
    "Если корреляция между факторами x1 и x2 равна -0.81, это значит:  \n",
    "\n",
    "Ответ:  \n",
    "Чем больше x2, тем меньше x1\n",
    "\n",
    "### Задание 2.10.2\n",
    "Найдите все НЕверные утверждения.  \n",
    "\n",
    "Ответ:  \n",
    "- Корреляционная матрица всегда невырождена \n",
    "- Если ранг корреляционной матрицы максимален, то мультиколлинеарности нет "
   ]
  },
  {
   "cell_type": "code",
   "execution_count": null,
   "metadata": {},
   "outputs": [],
   "source": []
  }
 ],
 "metadata": {
  "kernelspec": {
   "display_name": "Python 3",
   "language": "python",
   "name": "python3"
  },
  "language_info": {
   "codemirror_mode": {
    "name": "ipython",
    "version": 3
   },
   "file_extension": ".py",
   "mimetype": "text/x-python",
   "name": "python",
   "nbconvert_exporter": "python",
   "pygments_lexer": "ipython3",
   "version": "3.8.3"
  }
 },
 "nbformat": 4,
 "nbformat_minor": 4
}
