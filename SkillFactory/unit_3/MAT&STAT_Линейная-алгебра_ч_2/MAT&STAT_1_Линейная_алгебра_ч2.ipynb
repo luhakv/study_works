{
 "cells": [
  {
   "cell_type": "markdown",
   "metadata": {},
   "source": [
    "# *MATH&STAT-2. Линейная алгебра. Часть II \n",
    "## Юнит 3. Введение в машинное обучение \n",
    "### Skillfactory: DSPR-19\n",
    "\n",
    "### 2.2. Неоднородные СЛАУ\n",
    "\n",
    "### 2.3. Случай «Идеальная пара»\n",
    "\n",
    "### Задание 2.3.1\n",
    "Запишите систему уравнений, если ее расширенная матрица имеет вид  \n",
    "***Ответ:***  \n",
    "4w1+7w2-w3=7  \n",
    "2w1+w2+w3=2  \n",
    "-4w1+2w2+5w3=3  \n",
    "\n"
   ]
  },
  {
   "cell_type": "code",
   "execution_count": null,
   "metadata": {},
   "outputs": [],
   "source": []
  }
 ],
 "metadata": {
  "kernelspec": {
   "display_name": "Python 3",
   "language": "python",
   "name": "python3"
  },
  "language_info": {
   "codemirror_mode": {
    "name": "ipython",
    "version": 3
   },
   "file_extension": ".py",
   "mimetype": "text/x-python",
   "name": "python",
   "nbconvert_exporter": "python",
   "pygments_lexer": "ipython3",
   "version": "3.8.3"
  }
 },
 "nbformat": 4,
 "nbformat_minor": 4
}
