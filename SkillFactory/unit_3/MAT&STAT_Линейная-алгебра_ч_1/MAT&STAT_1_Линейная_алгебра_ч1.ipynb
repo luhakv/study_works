{
 "cells": [
  {
   "cell_type": "markdown",
   "metadata": {},
   "source": [
    "# MATH&STAT-1. Линейная алгебра. Часть 1 \n",
    "## Юнит 3. Введение в машинное обучение \n",
    "### Skillfactory: DSPR-19\n",
    "\n",
    "### 1.2. Векторы. Основные понятия"
   ]
  },
  {
   "cell_type": "code",
   "execution_count": 1,
   "metadata": {},
   "outputs": [
    {
     "name": "stdout",
     "output_type": "stream",
     "text": [
      "[33 65 50 45]\n",
      "размерность 4\n",
      "третий элемент массива 50\n"
     ]
    }
   ],
   "source": [
    "import numpy as np\n",
    "s = np.array([33,65,50,45])\n",
    "print(s)\n",
    "print(f\"размерность {len(s)}\")\n",
    "print(f\"третий элемент массива {s[2]}\")"
   ]
  },
  {
   "cell_type": "code",
   "execution_count": 2,
   "metadata": {},
   "outputs": [
    {
     "name": "stdout",
     "output_type": "stream",
     "text": [
      "ndim: 1\n",
      "shape: (6,)\n"
     ]
    }
   ],
   "source": [
    "apartment = np.array([59.50, 31.40, 19, 2, 60550, 2])\n",
    "\n",
    "# В NumPy вектор и массив - одно и то же. \n",
    "# Исключение - понятие вектор-столбец и вектор-строка - фактически двумерные массивы, \n",
    "# где один из атрибутов shape равен 1.\n",
    "\n",
    "print(\"ndim:\", apartment.ndim) # число осей (измерений) массива - n.dim: 1\n",
    "print(\"shape:\", apartment.shape) # размеры массива, для вектора определена только длина - shape: (6, )"
   ]
  },
  {
   "cell_type": "code",
   "execution_count": 3,
   "metadata": {},
   "outputs": [
    {
     "name": "stdout",
     "output_type": "stream",
     "text": [
      "19.0 2.0 60550.0 2.0 0.53\n"
     ]
    }
   ],
   "source": [
    "import numpy as np\n",
    "apartment = np.array([59.50, 31.40, 19, 2, 60550, 2])\n",
    "\n",
    "# вычислим долю жилой площади в квартире\n",
    "share_living_space = round(apartment[1]/apartment[0], 2) # запишем с двумя знаками после запятой\n",
    "\n",
    "# Избавимся от старых признаков, посредством функции delete(), которую предоставляет библиотека numpy. \n",
    "# Передадим в значение функции индексы признаков, которые необходимо удалить из нашего массива apartment:\n",
    "apartment = np.delete(apartment, [0, 1])\n",
    "\n",
    "# добавим в конец нашего массива новый признак share_living_space, \n",
    "# который сочетает в себе смысл двух старых признаков\n",
    "apartment = np.append(apartment, share_living_space)\n",
    "print(*apartment) # !внимание! тут поставлена * перед массивом, чтобы вывести значения в обычном формате, а не е+01"
   ]
  },
  {
   "cell_type": "markdown",
   "metadata": {},
   "source": [
    "### Задание 1.2.1\n",
    "Введите значение получившегося нового признака share_living_space. Используйте код и ссылки на документацию из описания квартиры."
   ]
  },
  {
   "cell_type": "code",
   "execution_count": 4,
   "metadata": {},
   "outputs": [
    {
     "data": {
      "text/plain": [
       "0.53"
      ]
     },
     "execution_count": 4,
     "metadata": {},
     "output_type": "execute_result"
    }
   ],
   "source": [
    "temp = apartment[4]\n",
    "temp"
   ]
  },
  {
   "cell_type": "markdown",
   "metadata": {},
   "source": [
    "### Задание 1.2.2\n",
    "Укажите размерность конечного массива apartment после преобразования (ввода новой переменной и удаления старых)."
   ]
  },
  {
   "cell_type": "code",
   "execution_count": 5,
   "metadata": {},
   "outputs": [
    {
     "data": {
      "text/plain": [
       "5"
      ]
     },
     "execution_count": 5,
     "metadata": {},
     "output_type": "execute_result"
    }
   ],
   "source": [
    "temp = len(apartment)\n",
    "temp"
   ]
  },
  {
   "cell_type": "markdown",
   "metadata": {},
   "source": [
    "### Задание 1.2.3\n",
    "Пусть дан вектор в python вида t = np.array(\\[12, 14, 17, 19, 24, 28, 31, 31, 27, 22, 17, 13\\]), содержащий информацию о средней температуре воздуха (в градусах Цельсия) в Риме с января по декабрь включительно.\n",
    "Выберите неверное утверждение:"
   ]
  },
  {
   "cell_type": "markdown",
   "metadata": {},
   "source": [
    "Ответ: Неверный пункт - t2 = 17 градусов C - средняя температура воздуха в феврале "
   ]
  },
  {
   "cell_type": "markdown",
   "metadata": {},
   "source": [
    "### 1.3. Базовые операции над векторами\n",
    "\n",
    "### Задание 1.3.2\n",
    "Найдите сумму и разность вектров x=(\\[5,2\\]) и y=(\\[-5,-11\\])"
   ]
  },
  {
   "cell_type": "code",
   "execution_count": 6,
   "metadata": {},
   "outputs": [
    {
     "name": "stdout",
     "output_type": "stream",
     "text": [
      "[ 0 -9]\n",
      "[10 13]\n"
     ]
    }
   ],
   "source": [
    "x = np.array([5, 2])\n",
    "y = np.array([-5, -11])\n",
    "temp = x+y\n",
    "temp2 = x-y\n",
    "\n",
    "print(temp)\n",
    "print(temp2)"
   ]
  },
  {
   "cell_type": "markdown",
   "metadata": {},
   "source": [
    "### Задание 1.3.3  \n",
    "Доходы Алексея за три месяца составили 120, 150 и 90 тысяч рублей, его жены: 130, 130 и 130 тысяч рублей, а тёщи: 2, 3 и 2.5 тысячи евро.  \n",
    "1. Найдите вектор доходов тёщи в тыс. рублей, если курс евро составляет 72 рубля.  \n",
    "2. Найдите вектор суммарного дохода семьи в тыс. рублей по месяцам."
   ]
  },
  {
   "cell_type": "code",
   "execution_count": 7,
   "metadata": {},
   "outputs": [
    {
     "name": "stdout",
     "output_type": "stream",
     "text": [
      "[144. 216. 180.]\n",
      "[394. 496. 400.]\n"
     ]
    }
   ],
   "source": [
    "husband_RUB = np.array([120, 150, 90])\n",
    "wife_RUB = np.array([130, 130, 130])\n",
    "mother_in_law_EUR = np.array([2, 3, 2.5])\n",
    "\n",
    "temp = mother_in_law_EUR*72\n",
    "temp2 = husband_RUB + wife_RUB + temp\n",
    "\n",
    "print(temp)\n",
    "print(temp2)"
   ]
  },
  {
   "cell_type": "markdown",
   "metadata": {},
   "source": [
    "### Инструкция по формулам в Markdown\n",
    "---\n",
    "$ L(x_{1}, x_{2}, ..., x_{n}  \n",
    " \\mu) =  \\mu * (1-\\mu) $\n",
    "\n",
    "$log (\\ L(x_{1}, x_{2}, ..., x_{n}| \\mu)) = h * log(\\mu) + (m-h) * log(1-\\mu) $\n",
    "\n",
    "$\\frac{\\partial  log(\\ L(x_{1}, x_{2}, ..., x_{n}| \\mu)}{\\partial(\\mu)}  = \\frac{h}{\\  u} + \\frac{h-m}{1-\\mu} $\n",
    "\n",
    "#### We set this to zero to find the value that  aximizes the likelihood \n",
    "\n",
    "$\\frac{h}{\\mu}    \\frac{h-m}{1-\\  u} = 0 $\n",
    "\n",
    "$h = m * \\mu $\n",
    "\n",
    "$\\mu = \\frac{h}{m} $"
   ]
  },
  {
   "cell_type": "markdown",
   "metadata": {},
   "source": [
    "### 1.4. Линейная комбинация векторов\n",
    "\n",
    "### Задание 1.4.1\n",
    "Найдите линейную комбинацию векторов  \n",
    "$x = {4 \\choose 5} , y = {2 \\choose 1}, u = {0 \\choose 1}$  \n",
    "с коэффициентами 2, -3, 5"
   ]
  },
  {
   "cell_type": "code",
   "execution_count": 8,
   "metadata": {},
   "outputs": [
    {
     "data": {
      "text/plain": [
       "array([7, 7])"
      ]
     },
     "execution_count": 8,
     "metadata": {},
     "output_type": "execute_result"
    }
   ],
   "source": [
    "x = np.array([4,5])\n",
    "y = np.array([2,1])\n",
    "u = np.array([1,0])\n",
    "a, b, c = 2, -3, 5\n",
    "\n",
    "temp = a*x + b*y + c*u\n",
    "temp"
   ]
  },
  {
   "cell_type": "markdown",
   "metadata": {},
   "source": [
    "### Задание 1.4.2  \n",
    "Юный предприниматель Вовочка мастерит ракеты на водном топливе и продает их. За 4 недели он смастерил 3, 4, 5 и 9 ракет, а продал 1, 5, 3 и 6 ракет соответственно.  \n",
    "На изготовление одной ракеты он тратит 200 рублей, а продаёт их по 400 рублей за штуку.  \n",
    "Найдите вектор прибыли Вовочки за эти 4 недели."
   ]
  },
  {
   "cell_type": "code",
   "execution_count": 9,
   "metadata": {},
   "outputs": [
    {
     "data": {
      "text/plain": [
       "array([-200, 1200,  200,  600])"
      ]
     },
     "execution_count": 9,
     "metadata": {},
     "output_type": "execute_result"
    }
   ],
   "source": [
    "weekProduction = np.array([3,4,5,9])\n",
    "weekSales = np.array([1,5,3,6])\n",
    "unitProductionСost = 200\n",
    "unitSalesPrice = 400\n",
    "result = unitSalesPrice - unitProductionСost\n",
    "\n",
    "temp = unitSalesPrice*weekSales - unitProductionСost*weekProduction\n",
    "temp\n"
   ]
  },
  {
   "cell_type": "markdown",
   "metadata": {},
   "source": [
    "### Задание 1.4.3\n",
    "Какие системы векторов являются линейно зависимыми?  \n",
    "***Ответ:***  \n",
    "$x = {-1 \\choose -2} , y = {1 \\choose 2}$    \n",
    "$x = {-3 \\choose -2} , y = {1 \\choose 1}, u = {4 \\choose 3}$  "
   ]
  },
  {
   "cell_type": "markdown",
   "metadata": {},
   "source": [
    "### 1.5. Скалярное произведение векторов\n",
    "\n",
    "### Задание 1.5.1\n",
    "Результатом скалярного произведения векторов является  \n",
    "\n",
    "***Ответ:*** Число  "
   ]
  },
  {
   "cell_type": "markdown",
   "metadata": {},
   "source": [
    "### Задание 1.5.2\n",
    "Найдите скалярное произведение векторов  \n",
    "```python\n",
    "x = np.array([4,5,-1])\n",
    "y = np.array([2,0,1])\n",
    "```"
   ]
  },
  {
   "cell_type": "code",
   "execution_count": 10,
   "metadata": {},
   "outputs": [
    {
     "data": {
      "text/plain": [
       "7"
      ]
     },
     "execution_count": 10,
     "metadata": {},
     "output_type": "execute_result"
    }
   ],
   "source": [
    "import numpy as np\n",
    "\n",
    "x = np.array([4,5,-1])\n",
    "y = np.array([2,0,1])\n",
    "\n",
    "temp = np.dot(x,y)\n",
    "temp"
   ]
  },
  {
   "cell_type": "markdown",
   "metadata": {},
   "source": [
    "### Задание 1.5.3\n",
    "Выберите верные утверждения о длине вектора  \n",
    "***Ответ:*** \n",
    "- Длина вектора равна нулю, только если сам вектор нулевой  \n",
    "- Квадрат длины вектора равен его скалярному произведению с самим собой  "
   ]
  },
  {
   "cell_type": "markdown",
   "metadata": {},
   "source": [
    "### Задание 1.5.4\n",
    "Вычислите длину вектора x = np.array([4,6,1]). Ответ округлите до сотых."
   ]
  },
  {
   "cell_type": "code",
   "execution_count": 11,
   "metadata": {},
   "outputs": [
    {
     "data": {
      "text/plain": [
       "7.28"
      ]
     },
     "execution_count": 11,
     "metadata": {},
     "output_type": "execute_result"
    }
   ],
   "source": [
    "x = np.array([4,6,1])\n",
    "\n",
    "temp = np.dot(x,x)**0.5\n",
    "round(temp, 2)"
   ]
  },
  {
   "cell_type": "markdown",
   "metadata": {},
   "source": [
    "### Задание 1.5.5\n",
    "Какие пары векторов являются ортогональными? Ответ: 2 и 4"
   ]
  },
  {
   "cell_type": "code",
   "execution_count": 12,
   "metadata": {},
   "outputs": [
    {
     "data": {
      "text/plain": [
       "7"
      ]
     },
     "execution_count": 12,
     "metadata": {},
     "output_type": "execute_result"
    }
   ],
   "source": [
    "import numpy as np\n",
    "\n",
    "x = np.array([4,2,-1])\n",
    "y = np.array([2,0,1])\n",
    "\n",
    "temp = np.dot(x,y)\n",
    "temp"
   ]
  },
  {
   "cell_type": "code",
   "execution_count": 13,
   "metadata": {},
   "outputs": [
    {
     "data": {
      "text/plain": [
       "0"
      ]
     },
     "execution_count": 13,
     "metadata": {},
     "output_type": "execute_result"
    }
   ],
   "source": [
    "import numpy as np\n",
    "\n",
    "x = np.array([4,5,-1])\n",
    "y = np.array([0,0,0])\n",
    "\n",
    "temp = np.dot(x,y)\n",
    "temp"
   ]
  },
  {
   "cell_type": "code",
   "execution_count": 14,
   "metadata": {},
   "outputs": [
    {
     "data": {
      "text/plain": [
       "-8"
      ]
     },
     "execution_count": 14,
     "metadata": {},
     "output_type": "execute_result"
    }
   ],
   "source": [
    "x = np.array([4,-1])\n",
    "y = np.array([-1,4])\n",
    "\n",
    "temp = np.dot(x,y)\n",
    "temp"
   ]
  },
  {
   "cell_type": "code",
   "execution_count": 15,
   "metadata": {},
   "outputs": [
    {
     "data": {
      "text/plain": [
       "0"
      ]
     },
     "execution_count": 15,
     "metadata": {},
     "output_type": "execute_result"
    }
   ],
   "source": [
    "x = np.array([4,-1])\n",
    "y = np.array([1,4])\n",
    "\n",
    "temp = np.dot(x,y)\n",
    "temp"
   ]
  },
  {
   "cell_type": "markdown",
   "metadata": {},
   "source": [
    "### 1.6. Векторы. Практическая задача\n",
    "\n",
    "### Задание 1.6.1\n",
    "Прогноз оптимальной арендной платы для новой квартиры не изменился после добавления информации о нежилой площади, так как:  \n",
    "***Ответ:*** Новый фактор линейно зависим со старыми\n",
    "\n",
    "### Задание 1.6.2\n",
    "Комментарий к заданию 1.6.2. Длина вектора - число, которое ставится в соответствие каждому элементу векторного пространства. Оно у разных векторов может совпадать или различаться. При этом векторы имеют равное количество координат, потому что они из одного пространства определенной размерности. И операция сложения, заданная на пространстве, предполагает, что слагаемые имеют равное количество координат. Но они могут иметь как одну длину, так и различную.  \n",
    "Выберите верные утверждения:  \n",
    "***Ответ:***  \n",
    "- Угол между ортогональными векторами составляет 90 градусов\n",
    "- если a||b и b||c, то a||c"
   ]
  },
  {
   "cell_type": "markdown",
   "metadata": {},
   "source": [
    "### 1.7. Практика. Векторы"
   ]
  },
  {
   "cell_type": "code",
   "execution_count": 16,
   "metadata": {},
   "outputs": [],
   "source": [
    "import numpy as np\n",
    "# как создать вектор?"
   ]
  },
  {
   "cell_type": "code",
   "execution_count": 17,
   "metadata": {},
   "outputs": [
    {
     "name": "stdout",
     "output_type": "stream",
     "text": [
      "[1 2 3] <class 'numpy.ndarray'>\n"
     ]
    }
   ],
   "source": [
    "# как одномерный массив numpy\n",
    "a=np.array([1,2,3])\n",
    "print(a, type(a))"
   ]
  },
  {
   "cell_type": "code",
   "execution_count": 18,
   "metadata": {},
   "outputs": [
    {
     "data": {
      "text/plain": [
       "array([1., 2., 3.])"
      ]
     },
     "execution_count": 18,
     "metadata": {},
     "output_type": "execute_result"
    }
   ],
   "source": [
    "np.array([1,2,3], dtype='float')"
   ]
  },
  {
   "cell_type": "code",
   "execution_count": 19,
   "metadata": {},
   "outputs": [
    {
     "name": "stdout",
     "output_type": "stream",
     "text": [
      "[1, 2, 3] <class 'list'>\n",
      "[1 2 3] <class 'numpy.ndarray'>\n"
     ]
    }
   ],
   "source": [
    "# преобразовать из списка (list)\n",
    "x=[1,2,3]\n",
    "x_arr=np.array(x)\n",
    "print(x, type(x))\n",
    "print(x_arr, type(x_arr))"
   ]
  },
  {
   "cell_type": "code",
   "execution_count": 20,
   "metadata": {},
   "outputs": [
    {
     "data": {
      "text/plain": [
       "array([0., 0., 0., 0., 0.])"
      ]
     },
     "execution_count": 20,
     "metadata": {},
     "output_type": "execute_result"
    }
   ],
   "source": [
    "# нулевой вектор\n",
    "np.zeros(5) "
   ]
  },
  {
   "cell_type": "code",
   "execution_count": 21,
   "metadata": {},
   "outputs": [
    {
     "data": {
      "text/plain": [
       "array([1., 1., 1., 1., 1., 1., 1., 1.])"
      ]
     },
     "execution_count": 21,
     "metadata": {},
     "output_type": "execute_result"
    }
   ],
   "source": [
    "# вектор из единиц\n",
    "np.ones(8)"
   ]
  },
  {
   "cell_type": "code",
   "execution_count": 22,
   "metadata": {},
   "outputs": [
    {
     "data": {
      "text/plain": [
       "array([10, 15, 20, 25, 30, 35, 40, 45])"
      ]
     },
     "execution_count": 22,
     "metadata": {},
     "output_type": "execute_result"
    }
   ],
   "source": [
    "# массив чисел по порядку\n",
    "np.arange(10,50, 5)"
   ]
  },
  {
   "cell_type": "code",
   "execution_count": 23,
   "metadata": {},
   "outputs": [
    {
     "data": {
      "text/plain": [
       "array([-2, -3, -1,  1,  0, -1, -1,  0, -3, -2])"
      ]
     },
     "execution_count": 23,
     "metadata": {},
     "output_type": "execute_result"
    }
   ],
   "source": [
    "# случайный вектор\n",
    "np.random.randint(-4, 2, 10) # dim=10, случаные целые числа от -4 до 2"
   ]
  },
  {
   "cell_type": "code",
   "execution_count": 24,
   "metadata": {},
   "outputs": [
    {
     "name": "stdout",
     "output_type": "stream",
     "text": [
      "Series:\n",
      " 0     65\n",
      "1     70\n",
      "2    120\n",
      "3     35\n",
      "dtype: int64\n"
     ]
    }
   ],
   "source": [
    "# преобразовать из Pandas Series\n",
    "import pandas as pd\n",
    "data = [65, 70, 120, 35]\n",
    "s = pd.Series(data)\n",
    "print('Series:\\n',s)"
   ]
  },
  {
   "cell_type": "code",
   "execution_count": 25,
   "metadata": {},
   "outputs": [
    {
     "name": "stdout",
     "output_type": "stream",
     "text": [
      "vector:\n",
      " [ 65  70 120  35]\n",
      "type of x: <class 'numpy.ndarray'>\n"
     ]
    }
   ],
   "source": [
    "x = s.values # возвращает значения s\n",
    "print('vector:\\n',x)\n",
    "print('type of x:',type(x))"
   ]
  },
  {
   "cell_type": "code",
   "execution_count": 26,
   "metadata": {},
   "outputs": [
    {
     "name": "stdout",
     "output_type": "stream",
     "text": [
      "Data Frame:\n",
      "     $$  2.Area  3.Rooms  4.Floor  5.Demo\n",
      "0   65      50        3        5       8\n",
      "1   70      52        2       12       4\n",
      "2  120      80        1       10       5\n",
      "3   35      33        1        3      10\n"
     ]
    }
   ],
   "source": [
    "# преобразовать из Pandas DataFrame\n",
    "d = {'$$': [65, 70, 120, 35], '2.Area': [50, 52, 80, 33],'3.Rooms':[3,2,1,1], \n",
    "     '4.Floor':[5,12,10,3], '5.Demo':[8,4,5,10]}\n",
    "df = pd.DataFrame(d)\n",
    "print('Data Frame:\\n',df)"
   ]
  },
  {
   "cell_type": "code",
   "execution_count": 27,
   "metadata": {},
   "outputs": [
    {
     "name": "stdout",
     "output_type": "stream",
     "text": [
      "Matrix:\n",
      " [[ 65  50   3   5   8]\n",
      " [ 70  52   2  12   4]\n",
      " [120  80   1  10   5]\n",
      " [ 35  33   1   3  10]]\n"
     ]
    }
   ],
   "source": [
    "A = df.values # возвращает значения df\n",
    "print('Matrix:\\n',A)"
   ]
  },
  {
   "cell_type": "code",
   "execution_count": 28,
   "metadata": {},
   "outputs": [
    {
     "name": "stdout",
     "output_type": "stream",
     "text": [
      "Second apartment vector:\n",
      " [70 52  2 12  4]\n",
      "type of x: <class 'numpy.ndarray'>\n"
     ]
    }
   ],
   "source": [
    "x=A[1] # вторая строка матрицы А\n",
    "print('Second apartment vector:\\n',x)\n",
    "print('type of x:',type(x))"
   ]
  },
  {
   "cell_type": "code",
   "execution_count": 29,
   "metadata": {},
   "outputs": [
    {
     "name": "stdout",
     "output_type": "stream",
     "text": [
      "$$ vector:\n",
      " [ 65  70 120  35]\n"
     ]
    }
   ],
   "source": [
    "y=A[:,0] # первый столбец матрицы А\n",
    "print('$$ vector:\\n',y)"
   ]
  },
  {
   "cell_type": "code",
   "execution_count": 30,
   "metadata": {},
   "outputs": [
    {
     "name": "stdout",
     "output_type": "stream",
     "text": [
      "$$ of 3 apartment: 120\n"
     ]
    }
   ],
   "source": [
    "# индексация векторов - поиск нужной координаты\n",
    "print('$$ of 3 apartment:',y[2]) # третья координата"
   ]
  },
  {
   "cell_type": "code",
   "execution_count": 31,
   "metadata": {},
   "outputs": [
    {
     "name": "stdout",
     "output_type": "stream",
     "text": [
      "Number of apartments = dim(y): 4\n"
     ]
    }
   ],
   "source": [
    "# размерность вектора\n",
    "print('Number of apartments = dim(y):', len(y))"
   ]
  },
  {
   "cell_type": "code",
   "execution_count": 32,
   "metadata": {},
   "outputs": [
    {
     "name": "stdout",
     "output_type": "stream",
     "text": [
      "a+b: [ 7  9 11]\n",
      "2a: [2 4 6]\n"
     ]
    }
   ],
   "source": [
    "# сумма векторов и умножение на число\n",
    "a=np.array([1,2,3])\n",
    "b=np.array([6,7,8])\n",
    "print('a+b:',a+b)\n",
    "print('2a:',2*a)"
   ]
  },
  {
   "cell_type": "code",
   "execution_count": 33,
   "metadata": {},
   "outputs": [
    {
     "name": "stdout",
     "output_type": "stream",
     "text": [
      "a+b: [1, 2, 3, 6, 7, 8]\n",
      "2a: [1, 2, 3, 1, 2, 3]\n"
     ]
    }
   ],
   "source": [
    "# сумма списков и умножение на число не является векторной операцией!\n",
    "a_list=[1,2,3]\n",
    "b_list=[6,7,8]\n",
    "print('a+b:',a_list+b_list)\n",
    "print('2a:',2*a_list)"
   ]
  },
  {
   "cell_type": "code",
   "execution_count": 34,
   "metadata": {},
   "outputs": [
    {
     "name": "stdout",
     "output_type": "stream",
     "text": [
      "linear combination: [17 18 25]\n"
     ]
    }
   ],
   "source": [
    "# линейная комбинация с коэффициентами 2, 2, 3\n",
    "a=np.array([1,2,3])\n",
    "b=np.array([6,7,8])\n",
    "c=np.array([1,0,1])\n",
    "\n",
    "d=2*a+2*b+3*c\n",
    "print('linear combination:',d)"
   ]
  },
  {
   "cell_type": "code",
   "execution_count": 35,
   "metadata": {},
   "outputs": [
    {
     "name": "stdout",
     "output_type": "stream",
     "text": [
      "scalar product: 44\n",
      "coordinate product: [ 6 14 24]\n"
     ]
    }
   ],
   "source": [
    "# скалярное произведение\n",
    "\n",
    "s=np.dot(a,b)\n",
    "print('scalar product:',s)\n",
    "\n",
    "# покоординатное умножение\n",
    "print('coordinate product:',a*b)"
   ]
  },
  {
   "cell_type": "code",
   "execution_count": 36,
   "metadata": {},
   "outputs": [
    {
     "name": "stdout",
     "output_type": "stream",
     "text": [
      "scalar product: 44\n"
     ]
    }
   ],
   "source": [
    "# скалярное произведение - еще один способ\n",
    "s1=a@b\n",
    "print('scalar product:',s1)"
   ]
  },
  {
   "cell_type": "code",
   "execution_count": 37,
   "metadata": {},
   "outputs": [
    {
     "name": "stdout",
     "output_type": "stream",
     "text": [
      "length of a: 3.7416573867739413\n"
     ]
    }
   ],
   "source": [
    "# длина вектора\n",
    "l=np.linalg.norm(a)\n",
    "print('length of a:',l)"
   ]
  },
  {
   "cell_type": "code",
   "execution_count": 38,
   "metadata": {},
   "outputs": [
    {
     "name": "stdout",
     "output_type": "stream",
     "text": [
      "a_norm: [0.26726124 0.53452248 0.80178373]\n",
      "length of a_norm: 1.0\n"
     ]
    }
   ],
   "source": [
    "# нормировка\n",
    "a_norm=a/np.linalg.norm(a)\n",
    "print('a_norm:',a_norm)\n",
    "print('length of a_norm:',np.linalg.norm(a_norm))"
   ]
  },
  {
   "cell_type": "code",
   "execution_count": 39,
   "metadata": {},
   "outputs": [
    {
     "name": "stdout",
     "output_type": "stream",
     "text": [
      "a: [1 2 1]\n",
      "b: [2 4 2]\n",
      "c: [-1  1 -1]\n"
     ]
    }
   ],
   "source": [
    "#пропорциональность и ортогональность\n",
    "a=np.array([1,2,1])\n",
    "b=a*2\n",
    "c=np.array([-1,1,-1])\n",
    "print('a:',a)\n",
    "print('b:',b)\n",
    "print('c:',c)"
   ]
  },
  {
   "cell_type": "code",
   "execution_count": 40,
   "metadata": {},
   "outputs": [
    {
     "name": "stdout",
     "output_type": "stream",
     "text": [
      "(a,b): 12\n",
      "(a,c): 0\n",
      "(b,c): 0\n"
     ]
    }
   ],
   "source": [
    "#пропорциональность и ортогональность\n",
    "print(\"(a,b):\",np.dot(a,b))\n",
    "print(\"(a,c):\",np.dot(a,c))\n",
    "print(\"(b,c):\",np.dot(b,c))"
   ]
  },
  {
   "cell_type": "code",
   "execution_count": 41,
   "metadata": {},
   "outputs": [
    {
     "name": "stdout",
     "output_type": "stream",
     "text": [
      "a: [1 0 1]\n",
      "b: [0 1 0]\n",
      "c: [ 1  0 -1]\n"
     ]
    }
   ],
   "source": [
    "# попарная ортогональность - да\n",
    "a=np.array([1,0,1])\n",
    "b=np.array([0,1,0])\n",
    "c=np.array([1,0,-1])\n",
    "print('a:',a)\n",
    "print('b:',b)\n",
    "print('c:',c)"
   ]
  },
  {
   "cell_type": "code",
   "execution_count": 42,
   "metadata": {},
   "outputs": [
    {
     "name": "stdout",
     "output_type": "stream",
     "text": [
      "(a,b): 0\n",
      "(b,c): 0\n",
      "(a,c): 0\n"
     ]
    }
   ],
   "source": [
    "# попарная ортогональность - да\n",
    "print('(a,b):',np.dot(a,b))\n",
    "print('(b,c):',np.dot(b,c))\n",
    "print('(a,c):',np.dot(a,c))"
   ]
  },
  {
   "cell_type": "code",
   "execution_count": 43,
   "metadata": {},
   "outputs": [
    {
     "name": "stdout",
     "output_type": "stream",
     "text": [
      "a: [1 0 1]\n",
      "b: [0 1 0]\n",
      "с1: [1 0 4]\n"
     ]
    }
   ],
   "source": [
    "# попарная ортогональность - нет\n",
    "c1=np.array([1,0,4])\n",
    "print('a:',a)\n",
    "print('b:',b)\n",
    "print('с1:',c1)"
   ]
  },
  {
   "cell_type": "code",
   "execution_count": 44,
   "metadata": {},
   "outputs": [
    {
     "name": "stdout",
     "output_type": "stream",
     "text": [
      "(a,b): 0\n",
      "(b,c1): 0\n",
      "(a,c1): 5\n"
     ]
    }
   ],
   "source": [
    "# попарная ортогональность - нет\n",
    "print('(a,b):',a@b)\n",
    "print('(b,c1):',b@c1)\n",
    "print('(a,c1):',a@c1)"
   ]
  },
  {
   "cell_type": "markdown",
   "metadata": {},
   "source": [
    "### Задача 1\n",
    "Условие\n",
    "В Hut_Paradise_DF представлен фрагмент базы данных агенства «Рай в Шалаше». По строкам расположены квартиры, по столбцам — параметры: арендная плата, общая площадь, количество комнат, этаж, количество показов на две недели и жилая площадь:"
   ]
  },
  {
   "cell_type": "code",
   "execution_count": 45,
   "metadata": {},
   "outputs": [],
   "source": [
    "Hut_Paradise_DF = pd.DataFrame({'1.Rent': [65, 70, 120, 35, 40, 50, 100, 90, 85], \n",
    "                                '2.Area': [50, 52, 80, 33, 33, 44, 80, 65, 65], \n",
    "                                '3.Rooms':[3, 2, 1, 1, 1, 2, 4, 3, 2],\n",
    "                                '4.Floor':[5, 12, 10, 3, 6, 13, 8, 21, 5], \n",
    "                                '5.Demo two weeks':[8, 4, 5, 10, 20, 12, 5, 1, 10], \n",
    "                                '6.Liv.Area': [37, 40, 65, 20, 16, 35, 60, 50, 40]})"
   ]
  },
  {
   "cell_type": "markdown",
   "metadata": {},
   "source": [
    "### Задание 1.7.1\n",
    "Найдите вектор параметров квартиры номер 5"
   ]
  },
  {
   "cell_type": "code",
   "execution_count": 46,
   "metadata": {},
   "outputs": [
    {
     "name": "stdout",
     "output_type": "stream",
     "text": [
      "Data Frame:\n",
      "    1.Rent  2.Area  3.Rooms  4.Floor  5.Demo two weeks  6.Liv.Area\n",
      "0      65      50        3        5                 8          37\n",
      "1      70      52        2       12                 4          40\n",
      "2     120      80        1       10                 5          65\n",
      "3      35      33        1        3                10          20\n",
      "4      40      33        1        6                20          16\n",
      "5      50      44        2       13                12          35\n",
      "6     100      80        4        8                 5          60\n",
      "7      90      65        3       21                 1          50\n",
      "8      85      65        2        5                10          40\n"
     ]
    }
   ],
   "source": [
    "df = pd.DataFrame(Hut_Paradise_DF)\n",
    "print('Data Frame:\\n',df)"
   ]
  },
  {
   "cell_type": "code",
   "execution_count": 47,
   "metadata": {},
   "outputs": [
    {
     "name": "stdout",
     "output_type": "stream",
     "text": [
      "Matrix:\n",
      " [[ 65  50   3   5   8  37]\n",
      " [ 70  52   2  12   4  40]\n",
      " [120  80   1  10   5  65]\n",
      " [ 35  33   1   3  10  20]\n",
      " [ 40  33   1   6  20  16]\n",
      " [ 50  44   2  13  12  35]\n",
      " [100  80   4   8   5  60]\n",
      " [ 90  65   3  21   1  50]\n",
      " [ 85  65   2   5  10  40]]\n"
     ]
    }
   ],
   "source": [
    "A = df.values # возвращает значения df\n",
    "print('Matrix:\\n',A)"
   ]
  },
  {
   "cell_type": "code",
   "execution_count": 48,
   "metadata": {},
   "outputs": [
    {
     "data": {
      "text/plain": [
       "array([40, 33,  1,  6, 20, 16])"
      ]
     },
     "execution_count": 48,
     "metadata": {},
     "output_type": "execute_result"
    }
   ],
   "source": [
    "temp = x=A[4] # пятая строка матрицы А\n",
    "temp"
   ]
  },
  {
   "cell_type": "markdown",
   "metadata": {},
   "source": [
    "### Задание 1.7.2\n",
    "Найдите вектор этажей всех квартир:"
   ]
  },
  {
   "cell_type": "code",
   "execution_count": 49,
   "metadata": {},
   "outputs": [
    {
     "name": "stdout",
     "output_type": "stream",
     "text": [
      "5,12,10,3,6,13,8,21,5\n"
     ]
    }
   ],
   "source": [
    "temp = A[:,3] # четвертый столбец матрицы А\n",
    "# Выведем красиво сразу для копирования в ответ: без скобок и с запятой без пробелов\n",
    "print(*temp, sep=',')"
   ]
  },
  {
   "cell_type": "markdown",
   "metadata": {},
   "source": [
    "### Задание 1.7.3\n",
    "На каком этаже расположена квартира номер 3?"
   ]
  },
  {
   "cell_type": "code",
   "execution_count": 50,
   "metadata": {},
   "outputs": [
    {
     "data": {
      "text/plain": [
       "10"
      ]
     },
     "execution_count": 50,
     "metadata": {},
     "output_type": "execute_result"
    }
   ],
   "source": [
    "temp = A[:,3]\n",
    "temp2 = temp[2]\n",
    "temp2"
   ]
  },
  {
   "cell_type": "markdown",
   "metadata": {},
   "source": [
    "### Задание 1.7.4\n",
    "Найдите количество квартир"
   ]
  },
  {
   "cell_type": "code",
   "execution_count": 51,
   "metadata": {},
   "outputs": [
    {
     "data": {
      "text/plain": [
       "9"
      ]
     },
     "execution_count": 51,
     "metadata": {},
     "output_type": "execute_result"
    }
   ],
   "source": [
    "temp = len(A)\n",
    "temp"
   ]
  },
  {
   "cell_type": "markdown",
   "metadata": {},
   "source": [
    "### Задание 1.7.4\n",
    "Вычислите вектор нежилой площади:"
   ]
  },
  {
   "cell_type": "code",
   "execution_count": 52,
   "metadata": {},
   "outputs": [
    {
     "name": "stdout",
     "output_type": "stream",
     "text": [
      "13,12,15,13,17,9,20,15,25\n"
     ]
    }
   ],
   "source": [
    "y2 = A[:,1] # второй столбец матрицы А - Area\n",
    "y6 = A[:,5] # шестой столбец матрицы А - Liv.Area\n",
    "temp = y2-y6\n",
    "print(*temp, sep=',')"
   ]
  },
  {
   "cell_type": "markdown",
   "metadata": {},
   "source": [
    "### Задание 1.7.6\n",
    "Арендная плата измеряется в тысячах рублей. Пересчитайте стоимость аренды каждой квартиры в тысячах гривен, если курс 10 руб = 4 гривны"
   ]
  },
  {
   "cell_type": "code",
   "execution_count": 53,
   "metadata": {},
   "outputs": [
    {
     "name": "stdout",
     "output_type": "stream",
     "text": [
      "[26. 28. 48. 14. 16. 20. 40. 36. 34.]\n"
     ]
    }
   ],
   "source": [
    "print(A[:,0]*0.4)"
   ]
  },
  {
   "cell_type": "markdown",
   "metadata": {},
   "source": [
    "### Задание 1.7.7\n",
    "Пусть в первой квартире один просмотр занимает 10 минут, во второй — 20 минут, в третьей — полчаса, в четверой — 15 минут, в пятой — 5 минут, в шестой — 40 минут, в седьмой — 20 минут, в восьмой — 8 минут и в девятой — 20 минут. Найдите продолжительность просмотров в минутах во всех квартирах за 2 недели:"
   ]
  },
  {
   "cell_type": "code",
   "execution_count": 54,
   "metadata": {},
   "outputs": [
    {
     "data": {
      "text/plain": [
       "1348"
      ]
     },
     "execution_count": 54,
     "metadata": {},
     "output_type": "execute_result"
    }
   ],
   "source": [
    "x = np.array([10,20,30,15,5,40,20,8,20])\n",
    "y_demo = A[:,4] # пятый столбец матрицы А - Demo two weeks\n",
    "\n",
    "temp = np.dot(x, y_demo)\n",
    "temp"
   ]
  },
  {
   "cell_type": "code",
   "execution_count": 55,
   "metadata": {},
   "outputs": [
    {
     "name": "stdout",
     "output_type": "stream",
     "text": [
      "1348\n"
     ]
    }
   ],
   "source": [
    "# Второй вариант\n",
    "time = np.array([10,20,30,15,5,40,20,8,20])\n",
    "\n",
    "print(Hut_Paradise_DF.iloc[:,4]@time)"
   ]
  },
  {
   "cell_type": "markdown",
   "metadata": {},
   "source": [
    "### Задача 2. \n",
    "***Условие:***\n",
    "Даны три вектора:  \n",
    "u=np.array(\\[3,0,1,1,1\\])  \n",
    "v=np.array(\\[0,1,0,2,-2\\])  \n",
    "w=np.array(\\[1,-4,-1,0,-2\\])  \n",
    "Проверьте, являются ли векторы попарно ортогональными.  \n",
    "\n",
    "### Задание 1.7.8  \n",
    "Составьте линейную комбинацию векторов v и w с коэффициентами 2 и -3:"
   ]
  },
  {
   "cell_type": "code",
   "execution_count": 56,
   "metadata": {},
   "outputs": [
    {
     "data": {
      "text/plain": [
       "array([-3, 14,  3,  4,  2])"
      ]
     },
     "execution_count": 56,
     "metadata": {},
     "output_type": "execute_result"
    }
   ],
   "source": [
    "u=np.array([3,0,1,1,1])\n",
    "v=np.array([0,1,0,2,-2])\n",
    "w=np.array([1,-4,-1,0,-2])\n",
    "a, b = 2, -3\n",
    "\n",
    "temp= 2*v +(- 3*w)\n",
    "temp"
   ]
  },
  {
   "cell_type": "code",
   "execution_count": 57,
   "metadata": {},
   "outputs": [
    {
     "name": "stdout",
     "output_type": "stream",
     "text": [
      "-3,14,3,4,2\n"
     ]
    }
   ],
   "source": [
    "u=np.array([3,0,1,1,1])\n",
    "v=np.array([0,1,0,2,-2])\n",
    "w=np.array([1,-4,-1,0,-2])\n",
    "a, b = 2, -3\n",
    "\n",
    "temp= 2*v - 3*w # Второй вариант записи\n",
    "print(*temp, sep=',')  # И запишем ответ красиво"
   ]
  },
  {
   "cell_type": "markdown",
   "metadata": {},
   "source": [
    "### Задание 1.7.9\n",
    "Будет ли эта комбинация ортогональна вектору u?"
   ]
  },
  {
   "cell_type": "code",
   "execution_count": 58,
   "metadata": {},
   "outputs": [
    {
     "data": {
      "text/plain": [
       "0"
      ]
     },
     "execution_count": 58,
     "metadata": {},
     "output_type": "execute_result"
    }
   ],
   "source": [
    "temp2 = np.dot(u,temp)  # скалярное произведение\n",
    "temp2"
   ]
  },
  {
   "cell_type": "markdown",
   "metadata": {},
   "source": [
    "Ответ: Да"
   ]
  },
  {
   "cell_type": "markdown",
   "metadata": {},
   "source": [
    "### Задание 1.7.10\n",
    "Нормируйте векторы u,v,w. \n",
    "В ответ запишите, округлив до трёх знаков после точки:  \n",
    "1. третью координату u_norm   \n",
    "2. четвертую координату v_norm  \n",
    "3. первую координату w_norm"
   ]
  },
  {
   "cell_type": "code",
   "execution_count": 59,
   "metadata": {},
   "outputs": [
    {
     "name": "stdout",
     "output_type": "stream",
     "text": [
      "0.289\n",
      "0.667\n",
      "0.213\n"
     ]
    }
   ],
   "source": [
    "u_norm = (u/np.linalg.norm(u))[2]\n",
    "v_norm = (v/np.linalg.norm(v))[3]\n",
    "w_norm = (w/np.linalg.norm(w))[0]\n",
    "\n",
    "print(round(u_norm, 3))\n",
    "print(round(v_norm, 3))\n",
    "print(round(w_norm, 3))"
   ]
  },
  {
   "cell_type": "markdown",
   "metadata": {},
   "source": [
    "### 1.8. Матрицы. Основные понятия"
   ]
  },
  {
   "cell_type": "code",
   "execution_count": 60,
   "metadata": {},
   "outputs": [
    {
     "name": "stdout",
     "output_type": "stream",
     "text": [
      "Матрица А:\n",
      "[[ 1 -5  3]\n",
      " [ 2  2  1]\n",
      " [ 0  3  1]\n",
      " [ 2  4 12]]\n",
      "A.shape:= (4, 3)\n",
      "A[1,2]:= 1\n",
      "A[2,1]:= 3\n",
      "A[2,2]:= 1\n"
     ]
    },
    {
     "data": {
      "text/plain": [
       "matrix([[1, 0, 0],\n",
       "        [0, 1, 0],\n",
       "        [0, 0, 1]])"
      ]
     },
     "execution_count": 60,
     "metadata": {},
     "output_type": "execute_result"
    }
   ],
   "source": [
    "# Пример\n",
    "\n",
    "A = np.array([[1,-5,3],[2,2,1],[0,3,1],[2,4,12]])\n",
    "print(f'Матрица А:')\n",
    "print(A)\n",
    "print(f'A.shape:= {A.shape}')\n",
    "print(f'A[1,2]:= {A[1,2]}')\n",
    "print(f'A[2,1]:= {A[2,1]}')\n",
    "print(f'A[2,2]:= {A[2,2]}')\n",
    "B = np.matrix([[1,0,0],[0,1,0],[0,0,1]])\n",
    "B"
   ]
  },
  {
   "cell_type": "markdown",
   "metadata": {},
   "source": [
    "### Задание 1.8.1\n",
    "\n",
    "1. Определите размер матрицы: 3х5\n",
    "2. Элемент матрицы a24 = 5\n",
    "3. Матрица A является Прямоугольной \"длинной\"\n",
    "4. Сколько элементов на главной диагонали матрицы А? Ответ 3\n"
   ]
  },
  {
   "cell_type": "markdown",
   "metadata": {},
   "source": [
    "### Задание 1.8.2\n",
    "\n",
    "Матрица М является: квадратной, диагональной, симметричной"
   ]
  },
  {
   "cell_type": "markdown",
   "metadata": {},
   "source": [
    "### Задание 1.8.3\n",
    "\n",
    "Матрица является: единичной матрицей"
   ]
  },
  {
   "cell_type": "markdown",
   "metadata": {},
   "source": [
    "### 1.9. Базовые действия над матрицами"
   ]
  },
  {
   "cell_type": "code",
   "execution_count": 61,
   "metadata": {},
   "outputs": [
    {
     "data": {
      "text/plain": [
       "array([[1, 5, 4],\n",
       "       [1, 0, 1]])"
      ]
     },
     "execution_count": 61,
     "metadata": {},
     "output_type": "execute_result"
    }
   ],
   "source": [
    "A = np.array([[1,5,4],[1,0,1]])\n",
    "A"
   ]
  },
  {
   "cell_type": "code",
   "execution_count": 62,
   "metadata": {},
   "outputs": [
    {
     "data": {
      "text/plain": [
       "array([[1, 1],\n",
       "       [5, 0],\n",
       "       [4, 1]])"
      ]
     },
     "execution_count": 62,
     "metadata": {},
     "output_type": "execute_result"
    }
   ],
   "source": [
    "A.T"
   ]
  },
  {
   "cell_type": "markdown",
   "metadata": {},
   "source": [
    "### Задание 1.9.1\n",
    "\n",
    "Найдите сумму матриц"
   ]
  },
  {
   "cell_type": "code",
   "execution_count": 63,
   "metadata": {},
   "outputs": [
    {
     "data": {
      "text/plain": [
       "array([[ 7,  2],\n",
       "       [ 0, 12]])"
      ]
     },
     "execution_count": 63,
     "metadata": {},
     "output_type": "execute_result"
    }
   ],
   "source": [
    "A = np.array([[1,1],[5,7]])\n",
    "B = np.array([[6,1],[-5,5]])\n",
    "temp = A+B\n",
    "temp"
   ]
  },
  {
   "cell_type": "markdown",
   "metadata": {},
   "source": [
    "### Задание 1.9.2\n",
    "\n",
    "Вынесите множитель из матрицы\n"
   ]
  },
  {
   "cell_type": "code",
   "execution_count": 64,
   "metadata": {},
   "outputs": [
    {
     "data": {
      "text/plain": [
       "array([[1., 3.],\n",
       "       [2., 9.]])"
      ]
     },
     "execution_count": 64,
     "metadata": {},
     "output_type": "execute_result"
    }
   ],
   "source": [
    "A = np.array([[3,9],[6,27]])\n",
    "B = A/3\n",
    "B"
   ]
  },
  {
   "cell_type": "markdown",
   "metadata": {},
   "source": [
    "### Задание 1.9.3\n",
    "\n",
    "Транспонируйте матрицу R"
   ]
  },
  {
   "cell_type": "code",
   "execution_count": 65,
   "metadata": {},
   "outputs": [
    {
     "data": {
      "text/plain": [
       "array([[1, 0],\n",
       "       [5, 1],\n",
       "       [4, 0]])"
      ]
     },
     "execution_count": 65,
     "metadata": {},
     "output_type": "execute_result"
    }
   ],
   "source": [
    "R = np.array([[1,5,4],[0,1,0]])\n",
    "R.T"
   ]
  },
  {
   "cell_type": "markdown",
   "metadata": {},
   "source": [
    "### Задание 1.9.3\n",
    "\n",
    "Выберите верные утверждения:"
   ]
  },
  {
   "cell_type": "markdown",
   "metadata": {},
   "source": [
    "1. Диагональная матрица является инвариантом транспонирования\n",
    "2. Если вычесть из квадратной матрицы единичную, поменяется только главная диагональ\n",
    "3. Все столбцы диагональной матрицы ортогональны друг другу"
   ]
  },
  {
   "cell_type": "markdown",
   "metadata": {},
   "source": [
    "### 1.10. Практика. Базовые действия над матрицами"
   ]
  },
  {
   "cell_type": "code",
   "execution_count": 66,
   "metadata": {},
   "outputs": [],
   "source": [
    "import numpy as np"
   ]
  },
  {
   "cell_type": "code",
   "execution_count": 67,
   "metadata": {},
   "outputs": [],
   "source": [
    "# как создать матрицу?"
   ]
  },
  {
   "cell_type": "code",
   "execution_count": 68,
   "metadata": {},
   "outputs": [
    {
     "data": {
      "text/plain": [
       "array([[1, 1],\n",
       "       [2, 3],\n",
       "       [4, 5]])"
      ]
     },
     "execution_count": 68,
     "metadata": {},
     "output_type": "execute_result"
    }
   ],
   "source": [
    "# как двумерный массив Numpy\n",
    "np.array( [ [1,1] , [2,3] , [4,5] ] )"
   ]
  },
  {
   "cell_type": "code",
   "execution_count": 69,
   "metadata": {},
   "outputs": [
    {
     "name": "stdout",
     "output_type": "stream",
     "text": [
      "Data Frame:\n",
      "    0   1   2\n",
      "0   1   2   3\n",
      "1   4   5   6\n",
      "2   7   8   9\n",
      "3  10  11  12\n",
      "Matrix:\n",
      "[[ 1  2  3]\n",
      " [ 4  5  6]\n",
      " [ 7  8  9]\n",
      " [10 11 12]]\n"
     ]
    }
   ],
   "source": [
    "# преобразовать из Pandas DataFrame\n",
    "import pandas as pd\n",
    "\n",
    "data=[[1,2,3],[4,5,6],[7,8,9],[10,11,12]]\n",
    "df = pd.DataFrame(data)\n",
    "\n",
    "A = df.values\n",
    "\n",
    "print('Data Frame:')\n",
    "print(df)\n",
    "print('Matrix:')\n",
    "print(A)"
   ]
  },
  {
   "cell_type": "code",
   "execution_count": 70,
   "metadata": {},
   "outputs": [
    {
     "data": {
      "text/plain": [
       "(4, 3)"
      ]
     },
     "execution_count": 70,
     "metadata": {},
     "output_type": "execute_result"
    }
   ],
   "source": [
    "# размер матрицы\n",
    "np.shape(A)"
   ]
  },
  {
   "cell_type": "code",
   "execution_count": 71,
   "metadata": {},
   "outputs": [
    {
     "data": {
      "text/plain": [
       "array([[1],\n",
       "       [2],\n",
       "       [3]])"
      ]
     },
     "execution_count": 71,
     "metadata": {},
     "output_type": "execute_result"
    }
   ],
   "source": [
    "# вектор-столбец\n",
    "x=np.array([1,2,3])\n",
    "np.reshape(x,(3,1))"
   ]
  },
  {
   "cell_type": "code",
   "execution_count": 72,
   "metadata": {},
   "outputs": [
    {
     "data": {
      "text/plain": [
       "array([[1, 2, 3]])"
      ]
     },
     "execution_count": 72,
     "metadata": {},
     "output_type": "execute_result"
    }
   ],
   "source": [
    "# вектор-строка\n",
    "np.reshape(x,(1,3))"
   ]
  },
  {
   "cell_type": "code",
   "execution_count": 73,
   "metadata": {},
   "outputs": [
    {
     "name": "stdout",
     "output_type": "stream",
     "text": [
      "[[1 2 3]] (1, 3)\n"
     ]
    }
   ],
   "source": [
    "# вектор-строка\n",
    "x_row=np.array([1, 2, 3], ndmin=2)\n",
    "print(x_row,np.shape(x_row))"
   ]
  },
  {
   "cell_type": "code",
   "execution_count": 74,
   "metadata": {},
   "outputs": [
    {
     "name": "stdout",
     "output_type": "stream",
     "text": [
      "матрица А:\n",
      "[[ 1  2  3]\n",
      " [ 4  5  6]\n",
      " [ 7  8  9]\n",
      " [10 11 12]]\n",
      "Первая строка матрицы А:\n",
      "[1 2 3]\n",
      "Третий столбец матрицы А:\n",
      "[ 3  6  9 12]\n",
      "Элемент а_43:\n",
      "12\n"
     ]
    }
   ],
   "source": [
    "# индексация матриц (двумерных массивов numpy)\n",
    "print('матрица А:')\n",
    "print(A)\n",
    "print('Первая строка матрицы А:')\n",
    "print(A[0])\n",
    "print('Третий столбец матрицы А:')\n",
    "print(A[:,2])\n",
    "print('Элемент а_43:')\n",
    "print(A[3,2])"
   ]
  },
  {
   "cell_type": "code",
   "execution_count": 75,
   "metadata": {},
   "outputs": [],
   "source": [
    "# создание специальных матриц"
   ]
  },
  {
   "cell_type": "code",
   "execution_count": 76,
   "metadata": {},
   "outputs": [
    {
     "data": {
      "text/plain": [
       "array([[0., 0., 0.],\n",
       "       [0., 0., 0.]])"
      ]
     },
     "execution_count": 76,
     "metadata": {},
     "output_type": "execute_result"
    }
   ],
   "source": [
    "# нулевая\n",
    "np.zeros((2,3))"
   ]
  },
  {
   "cell_type": "code",
   "execution_count": 77,
   "metadata": {},
   "outputs": [
    {
     "data": {
      "text/plain": [
       "array([[1., 0., 0.],\n",
       "       [0., 1., 0.],\n",
       "       [0., 0., 1.]])"
      ]
     },
     "execution_count": 77,
     "metadata": {},
     "output_type": "execute_result"
    }
   ],
   "source": [
    "# единичная\n",
    "np.eye(3)"
   ]
  },
  {
   "cell_type": "code",
   "execution_count": 78,
   "metadata": {},
   "outputs": [
    {
     "data": {
      "text/plain": [
       "array([[1., 1., 1., 1., 1.],\n",
       "       [1., 1., 1., 1., 1.],\n",
       "       [1., 1., 1., 1., 1.]])"
      ]
     },
     "execution_count": 78,
     "metadata": {},
     "output_type": "execute_result"
    }
   ],
   "source": [
    "# матрица единиц\n",
    "np.ones((3,5))"
   ]
  },
  {
   "cell_type": "code",
   "execution_count": 79,
   "metadata": {},
   "outputs": [
    {
     "data": {
      "text/plain": [
       "array([[1, 0, 0],\n",
       "       [0, 2, 0],\n",
       "       [0, 0, 3]])"
      ]
     },
     "execution_count": 79,
     "metadata": {},
     "output_type": "execute_result"
    }
   ],
   "source": [
    "# Диагональная\n",
    "diagonal=[1,2,3]\n",
    "np.diag(diagonal)"
   ]
  },
  {
   "cell_type": "code",
   "execution_count": 80,
   "metadata": {},
   "outputs": [
    {
     "data": {
      "text/plain": [
       "array([[5., 0., 0.],\n",
       "       [0., 5., 0.],\n",
       "       [0., 0., 5.]])"
      ]
     },
     "execution_count": 80,
     "metadata": {},
     "output_type": "execute_result"
    }
   ],
   "source": [
    "# Шаровая\n",
    "5*np.eye(3)"
   ]
  },
  {
   "cell_type": "code",
   "execution_count": 81,
   "metadata": {},
   "outputs": [],
   "source": [
    "A=np.array([[1,1],[2,3],[4,5]])\n",
    "B=np.array([[1,-1],[-2,3],[4,-5]])"
   ]
  },
  {
   "cell_type": "code",
   "execution_count": 82,
   "metadata": {},
   "outputs": [
    {
     "data": {
      "text/plain": [
       "array([[1, 1],\n",
       "       [2, 3],\n",
       "       [4, 5]])"
      ]
     },
     "execution_count": 82,
     "metadata": {},
     "output_type": "execute_result"
    }
   ],
   "source": [
    "A"
   ]
  },
  {
   "cell_type": "code",
   "execution_count": 83,
   "metadata": {},
   "outputs": [
    {
     "data": {
      "text/plain": [
       "array([[ 1, -1],\n",
       "       [-2,  3],\n",
       "       [ 4, -5]])"
      ]
     },
     "execution_count": 83,
     "metadata": {},
     "output_type": "execute_result"
    }
   ],
   "source": [
    "B"
   ]
  },
  {
   "cell_type": "code",
   "execution_count": 84,
   "metadata": {},
   "outputs": [
    {
     "data": {
      "text/plain": [
       "array([[2, 0],\n",
       "       [0, 6],\n",
       "       [8, 0]])"
      ]
     },
     "execution_count": 84,
     "metadata": {},
     "output_type": "execute_result"
    }
   ],
   "source": [
    "A+B"
   ]
  },
  {
   "cell_type": "code",
   "execution_count": 85,
   "metadata": {},
   "outputs": [
    {
     "data": {
      "text/plain": [
       "array([[2, 0],\n",
       "       [0, 6],\n",
       "       [8, 0]])"
      ]
     },
     "execution_count": 85,
     "metadata": {},
     "output_type": "execute_result"
    }
   ],
   "source": [
    "B+A"
   ]
  },
  {
   "cell_type": "code",
   "execution_count": 86,
   "metadata": {},
   "outputs": [
    {
     "data": {
      "text/plain": [
       "array([[ 0,  2],\n",
       "       [ 4,  0],\n",
       "       [ 0, 10]])"
      ]
     },
     "execution_count": 86,
     "metadata": {},
     "output_type": "execute_result"
    }
   ],
   "source": [
    "A-B"
   ]
  },
  {
   "cell_type": "code",
   "execution_count": 87,
   "metadata": {},
   "outputs": [
    {
     "data": {
      "text/plain": [
       "array([[ 2,  2],\n",
       "       [ 4,  6],\n",
       "       [ 8, 10]])"
      ]
     },
     "execution_count": 87,
     "metadata": {},
     "output_type": "execute_result"
    }
   ],
   "source": [
    "2*A"
   ]
  },
  {
   "cell_type": "code",
   "execution_count": 88,
   "metadata": {},
   "outputs": [
    {
     "data": {
      "text/plain": [
       "array([[1, 2, 4],\n",
       "       [1, 3, 5]])"
      ]
     },
     "execution_count": 88,
     "metadata": {},
     "output_type": "execute_result"
    }
   ],
   "source": [
    "A.T"
   ]
  },
  {
   "cell_type": "code",
   "execution_count": 89,
   "metadata": {},
   "outputs": [
    {
     "data": {
      "text/plain": [
       "array([1, 2, 3])"
      ]
     },
     "execution_count": 89,
     "metadata": {},
     "output_type": "execute_result"
    }
   ],
   "source": [
    "# как транспонировать вектор?\n",
    "x=np.array([1,2,3])\n",
    "x.T"
   ]
  },
  {
   "cell_type": "code",
   "execution_count": 90,
   "metadata": {},
   "outputs": [
    {
     "name": "stdout",
     "output_type": "stream",
     "text": [
      "[[1]\n",
      " [2]\n",
      " [3]]\n",
      "(3, 1)\n"
     ]
    }
   ],
   "source": [
    "x_col=np.reshape(x,(3,1))\n",
    "print(x_col)\n",
    "print(np.shape(x_col))"
   ]
  },
  {
   "cell_type": "code",
   "execution_count": 91,
   "metadata": {},
   "outputs": [
    {
     "data": {
      "text/plain": [
       "array([[1, 2, 3]])"
      ]
     },
     "execution_count": 91,
     "metadata": {},
     "output_type": "execute_result"
    }
   ],
   "source": [
    "x_col.T"
   ]
  },
  {
   "cell_type": "code",
   "execution_count": 92,
   "metadata": {},
   "outputs": [
    {
     "name": "stdout",
     "output_type": "stream",
     "text": [
      "(3,)\n",
      "(3, 1)\n",
      "(1, 3)\n"
     ]
    }
   ],
   "source": [
    "print(np.shape(x))\n",
    "print(np.shape(x_col))\n",
    "print(np.shape(x_col.T))"
   ]
  },
  {
   "cell_type": "markdown",
   "metadata": {},
   "source": [
    "### Задача 1.10.1 \n",
    "***Условие:*** Данные по доходам и расходам каждого члена семьи Ивановых записаны в одномерные массивы NumPy"
   ]
  },
  {
   "cell_type": "code",
   "execution_count": 93,
   "metadata": {},
   "outputs": [],
   "source": [
    "import numpy as np\n",
    "\n",
    "Husband_Income = np.array([100,220,140])\n",
    "Wife_Income = np.array([150,200,130])\n",
    "Mother_In_Law_Income = np.array([90,80,100])\n",
    "\n",
    "Husband_Сonsumption = np.array([50,50,60])\n",
    "Wife_Сonsumption = np.array([100,80,140])\n",
    "Mother_In_Law_Сonsumption = np.array([100,20,140])"
   ]
  },
  {
   "cell_type": "markdown",
   "metadata": {},
   "source": [
    "### Задание 1.10.1\n",
    "Составьте матрицу Inc доходов семьи, расположив доходы мужа, жены и тещи в первый, второй и третий столбцы:  \n",
    "В ответ запишите диагональные элементы (по главной диагонали) этой матрицы через запятую (без пробела):"
   ]
  },
  {
   "cell_type": "code",
   "execution_count": 94,
   "metadata": {},
   "outputs": [
    {
     "name": "stdout",
     "output_type": "stream",
     "text": [
      "100,200,100\n"
     ]
    }
   ],
   "source": [
    "Inc=np.array([Husband_Income,Wife_Income,Mother_In_Law_Income]).T\n",
    "\n",
    "print(Inc[0,0], Inc[1,1], Inc[2,2],sep=',') \n",
    "# Сделаем красивый вывод для ответа (через запятую без пробелов) с помощью sep=','"
   ]
  },
  {
   "cell_type": "markdown",
   "metadata": {},
   "source": [
    "### Задание 1.10.2\n",
    "Составьте матрицу Cons расходов семьи, расположив расходы мужа, жены и тещи в первый, второй и третий столбцы.  \n",
    "В ответ запишите диагональные элементы (по побочной диагонали) этой матрицы через запятую (без пробела)"
   ]
  },
  {
   "cell_type": "code",
   "execution_count": 95,
   "metadata": {
    "scrolled": true
   },
   "outputs": [
    {
     "name": "stdout",
     "output_type": "stream",
     "text": [
      "100,80,60\n"
     ]
    }
   ],
   "source": [
    "Cons=np.array([Husband_Сonsumption,Wife_Сonsumption,Mother_In_Law_Сonsumption]).T\n",
    "\n",
    "print(Cons[0,2], Cons[1,1], Cons[2,0],sep=',') \n",
    "# Сделаем красивый вывод для ответа (через запятую без пробелов) с помощью sep=','"
   ]
  },
  {
   "cell_type": "markdown",
   "metadata": {},
   "source": [
    "### Задание 1.10.3\n",
    "Доходы представлены до уплаты налогов. Налоговая ставка — 13%. Вычислите матрицу доходов семьи Ивановых после уплаты налогов.  \n",
    "В ответ запишите элементы из 1 строки этой матрицы через запятую (без пробелов)"
   ]
  },
  {
   "cell_type": "code",
   "execution_count": 96,
   "metadata": {},
   "outputs": [
    {
     "name": "stdout",
     "output_type": "stream",
     "text": [
      "87.0,130.5,78.3\n"
     ]
    }
   ],
   "source": [
    "Inc_Tax=Inc*(1-0.13)\n",
    "\n",
    "print(*Inc_Tax[0],sep=',')\n",
    "# Сделаем красивый вывод для ответа (без скобок - *, через запятую без пробелов - с помощью sep=',')"
   ]
  },
  {
   "cell_type": "markdown",
   "metadata": {},
   "source": [
    "### Задание 1.10.4  \n",
    "Вычислите матрицу P, которая покажет баланс семьи Ивановых за один месяц (то есть разницу между доходами и расходами).  \n",
    "В ответ запишите элементы из 3 строки этой матрицы через запятую (без пробела)"
   ]
  },
  {
   "cell_type": "code",
   "execution_count": 97,
   "metadata": {},
   "outputs": [
    {
     "name": "stdout",
     "output_type": "stream",
     "text": [
      "61.8,-26.900000000000006,-53.0\n"
     ]
    }
   ],
   "source": [
    "Р=Inc_Tax-Cons\n",
    "\n",
    "print(*Р[2],sep=',')\n",
    "# Сделаем вывод без скобок - *, через запятую без пробелов - с помощью sep=','"
   ]
  },
  {
   "cell_type": "markdown",
   "metadata": {},
   "source": [
    "### 1.11. Умножение матриц\n",
    "\n",
    "### Задание 1.11.1\n",
    "1. Когда можно найти произведение двух матриц A • B?  \n",
    "\n",
    "***Ответ:***\n",
    "- $A = {1\\ 2\\ 1\\choose 4 \\ 4\\ 4} , B = {1\\ 0\\ 6\\choose 0 \\ 1\\ 0}$  \n",
    "- А размера 8 на 3 и B размера 3 на 5\n",
    "\n",
    "2. Для корректного умножения матриц должны совпадать:  \n",
    "\n",
    "***Ответ:***\n",
    "- Число столбцов левой матрицы и число строк правой верно\n",
    "\n",
    "### Задание 1.11.2\n",
    "В произведении C = AB матриц  \n",
    "1. c~1~2  \n",
    "2. с~3~4"
   ]
  },
  {
   "cell_type": "code",
   "execution_count": 98,
   "metadata": {},
   "outputs": [
    {
     "name": "stdout",
     "output_type": "stream",
     "text": [
      "[[ 3  4  5  7]\n",
      " [11  8 17  0]\n",
      " [ 4  3  5  0]]\n",
      "Ответ к заданию 1.11.2\n",
      "c 12 4\n",
      "c 34 0\n"
     ]
    }
   ],
   "source": [
    "A = np.array( [ [1,-1, 2, 4, 0] , [8, 2, 0, 5, 3] , [0, 1, 2, 1, 2] ] )\n",
    "B = np.array( [ [1, 0, 1, 0] , [0, 0, 2, -1] , [1, 0, 1, 1], [0, 1, 1, 1], [1, 1, 0, -1] ] )\n",
    "C = np.dot(A,B)\n",
    "print(C)\n",
    "temp1 = C[0,1]\n",
    "temp2 = C[2,3]\n",
    "\n",
    "task = '1.11.2'\n",
    "\n",
    "print(f\"Ответ к заданию {task}\")\n",
    "print(f\"c 12 {temp1}\")\n",
    "print(f\"c 34 {temp2}\")"
   ]
  },
  {
   "cell_type": "markdown",
   "metadata": {},
   "source": [
    "### Задание 1.11.3\n",
    "\n",
    "Матрица какого размера получится, если умножить"
   ]
  },
  {
   "cell_type": "code",
   "execution_count": 105,
   "metadata": {},
   "outputs": [
    {
     "name": "stdout",
     "output_type": "stream",
     "text": [
      "(2, 4)\n",
      "[[ 7  2  7  4]\n",
      " [28  4 28 12]]\n"
     ]
    }
   ],
   "source": [
    "A = np.array( [ [1, 2, 1] , [4, 4, 4] ] )\n",
    "B = np.array( [ [1, 0, 6, 1] , [0, 1, 0, 1] , [6, 0, 1, 1] ] )\n",
    "C = np.dot(A,B)\n",
    "print(C.shape)\n",
    "print(C)"
   ]
  },
  {
   "cell_type": "markdown",
   "metadata": {},
   "source": [
    "### Задание 1.11.3\n",
    "\n",
    "Найдите тензорное произведение векторов"
   ]
  },
  {
   "cell_type": "code",
   "execution_count": 110,
   "metadata": {},
   "outputs": [
    {
     "data": {
      "text/plain": [
       "array([[-3,  1],\n",
       "       [-9,  3]])"
      ]
     },
     "execution_count": 110,
     "metadata": {},
     "output_type": "execute_result"
    }
   ],
   "source": [
    "a = np.array( [ 1,3 ] )\n",
    "b = np.array( [ -3,1 ] )\n",
    "c = np.outer(a,b) # outer для вычисления тензорного произведения\n",
    "c"
   ]
  },
  {
   "cell_type": "markdown",
   "metadata": {},
   "source": [
    "### 1.12. Умножение на специальные матрицы\n",
    "\n",
    "### Задание 1.12.1\n",
    "АВ = ВА, если\n",
    "\n",
    "Хотя бы одна из матриц шаровая  \n",
    "Обе матрицы диагональные"
   ]
  },
  {
   "cell_type": "markdown",
   "metadata": {},
   "source": [
    "### Задание 1.12.2\n",
    "Найдите АВ и ВА"
   ]
  },
  {
   "cell_type": "code",
   "execution_count": 111,
   "metadata": {},
   "outputs": [
    {
     "name": "stdout",
     "output_type": "stream",
     "text": [
      "AB\n",
      "[[ 2  2]\n",
      " [12 15]]\n",
      "BA\n",
      "[[ 2  3]\n",
      " [ 8 15]]\n"
     ]
    }
   ],
   "source": [
    "A = np.array([[2, 0], [0, 3]])\n",
    "B = np.array([[1, 1], [4, 5]])\n",
    "print(\"AB\")\n",
    "print(с)\n",
    "print(\"BA\")\n",
    "print(np.dot(B,A))"
   ]
  },
  {
   "cell_type": "markdown",
   "metadata": {},
   "source": [
    "### Задание 1.13.1\n",
    "Подберите элемент a22, чтобы матрицы A и B были делителями нуля"
   ]
  },
  {
   "cell_type": "code",
   "execution_count": 116,
   "metadata": {},
   "outputs": [
    {
     "data": {
      "text/plain": [
       "array([[0, 0],\n",
       "       [0, 0]])"
      ]
     },
     "execution_count": 116,
     "metadata": {},
     "output_type": "execute_result"
    }
   ],
   "source": [
    "A = np.array([[2, -1], [-6, 3]])\n",
    "B = np.array([[2, 5], [4, 10]])\n",
    "np.dot(A,B)"
   ]
  },
  {
   "cell_type": "markdown",
   "metadata": {},
   "source": [
    "### Задание 1.14.1\n",
    "Выберите утверждение(-я), которое(-ые) всегда верно(-ы), если матрицы можно умножить в данном порядке:\n",
    "\n",
    "Ответ: только второй пункт всегда верный"
   ]
  },
  {
   "cell_type": "code",
   "execution_count": 124,
   "metadata": {},
   "outputs": [
    {
     "data": {
      "text/plain": [
       "array([[  4,  -5],\n",
       "       [-24,  10]])"
      ]
     },
     "execution_count": 124,
     "metadata": {},
     "output_type": "execute_result"
    }
   ],
   "source": [
    "# Проверка версий\n",
    "# п.1\n",
    "A = np.array([[2, -1], [-6, 1]])\n",
    "B = np.array([[2, 5], [4, 10]])\n",
    "C = A*B\n",
    "C\n"
   ]
  },
  {
   "cell_type": "code",
   "execution_count": 125,
   "metadata": {},
   "outputs": [
    {
     "data": {
      "text/plain": [
       "array([[  4, -24],\n",
       "       [ -5,  10]])"
      ]
     },
     "execution_count": 125,
     "metadata": {},
     "output_type": "execute_result"
    }
   ],
   "source": [
    "A = np.array([[2, -1], [-6, 1]])\n",
    "B = np.array([[2, 5], [4, 10]])\n",
    "C = (A*B).T\n",
    "C"
   ]
  },
  {
   "cell_type": "code",
   "execution_count": 126,
   "metadata": {},
   "outputs": [
    {
     "data": {
      "text/plain": [
       "array([[  4, -24],\n",
       "       [ -5,  10]])"
      ]
     },
     "execution_count": 126,
     "metadata": {},
     "output_type": "execute_result"
    }
   ],
   "source": [
    "A = np.array([[2, -1], [-6, 1]])\n",
    "B = np.array([[2, 5], [4, 10]])\n",
    "C = A.T*B.T\n",
    "C"
   ]
  },
  {
   "cell_type": "markdown",
   "metadata": {},
   "source": [
    "A.T * B.T не равно (A * B).T"
   ]
  },
  {
   "cell_type": "code",
   "execution_count": 132,
   "metadata": {},
   "outputs": [
    {
     "data": {
      "text/plain": [
       "array([[ 4,  9, -3],\n",
       "       [ 9, 25,  4],\n",
       "       [-3,  4,  1]])"
      ]
     },
     "execution_count": 132,
     "metadata": {},
     "output_type": "execute_result"
    }
   ],
   "source": [
    "# Проверка версий\n",
    "# п.2\n",
    "A = np.array([[2, 3, 3], [-3, 5, -2], [-1, -2, 1]])\n",
    "B = np.array([[2, 3, -1], [-3, 5, -2], [3, -2, 1]])\n",
    "C = (A*B).T\n",
    "C"
   ]
  },
  {
   "cell_type": "code",
   "execution_count": 133,
   "metadata": {},
   "outputs": [
    {
     "data": {
      "text/plain": [
       "array([[ 4,  9, -3],\n",
       "       [ 9, 25,  4],\n",
       "       [-3,  4,  1]])"
      ]
     },
     "execution_count": 133,
     "metadata": {},
     "output_type": "execute_result"
    }
   ],
   "source": [
    "A = np.array([[2, 3, 3], [-3, 5, -2], [-1, -2, 1]])\n",
    "B = np.array([[2, 3, -1], [-3, 5, -2], [3, -2, 1]])\n",
    "C = B*A\n",
    "C"
   ]
  },
  {
   "cell_type": "code",
   "execution_count": 138,
   "metadata": {},
   "outputs": [
    {
     "data": {
      "text/plain": [
       "array([[  4,   3,  -4],\n",
       "       [ -3,  15, -30],\n",
       "       [ 12, -30,   4]])"
      ]
     },
     "execution_count": 138,
     "metadata": {},
     "output_type": "execute_result"
    }
   ],
   "source": [
    "A = np.array([[2, 3, 3], [-3, 5, -2], [-1, -2, 1]])\n",
    "B = np.array([[2, -1, 4], [-1, 3, 15], [4, 15, 4]])\n",
    "C = (A*B).T\n",
    "C"
   ]
  },
  {
   "cell_type": "code",
   "execution_count": 137,
   "metadata": {},
   "outputs": [
    {
     "data": {
      "text/plain": [
       "array([[  4,  -3,  12],\n",
       "       [  3,  15, -30],\n",
       "       [ -4, -30,   4]])"
      ]
     },
     "execution_count": 137,
     "metadata": {},
     "output_type": "execute_result"
    }
   ],
   "source": [
    "A = np.array([[2, 3, 3], [-3, 5, -2], [-1, -2, 1]])\n",
    "B = np.array([[2, -1, 4], [-1, 3, 15], [4, 15, 4]])\n",
    "C = B * A\n",
    "C"
   ]
  },
  {
   "cell_type": "markdown",
   "metadata": {},
   "source": [
    "Делаем вывод: если А и В симметричные матрицы, то АВ.T = BA только если эти матрицы одинаковые по форме"
   ]
  },
  {
   "cell_type": "code",
   "execution_count": 129,
   "metadata": {},
   "outputs": [
    {
     "data": {
      "text/plain": [
       "array([[4, 6],\n",
       "       [6, 1]])"
      ]
     },
     "execution_count": 129,
     "metadata": {},
     "output_type": "execute_result"
    }
   ],
   "source": [
    "# Проверка версий\n",
    "# п.3\n",
    "A = np.array([[2, -1], [-6, 1]])\n",
    "C = A.T*A\n",
    "C"
   ]
  },
  {
   "cell_type": "code",
   "execution_count": 128,
   "metadata": {},
   "outputs": [
    {
     "data": {
      "text/plain": [
       "array([[ 4, 36],\n",
       "       [ 1,  1]])"
      ]
     },
     "execution_count": 128,
     "metadata": {},
     "output_type": "execute_result"
    }
   ],
   "source": [
    "A = np.array([[2, -1], [-6, 1]])\n",
    "C = A*A\n",
    "C.T"
   ]
  },
  {
   "cell_type": "markdown",
   "metadata": {},
   "source": [
    "A.T * A не равно A * A.T"
   ]
  },
  {
   "cell_type": "markdown",
   "metadata": {},
   "source": [
    "### Задание 1.14.2  \n",
    "Найдите матрицу Грама G системы векторов:  \n",
    "$a = {1\\choose 1} , b = {2\\choose -1}, c = {1\\choose 2}$"
   ]
  },
  {
   "cell_type": "code",
   "execution_count": null,
   "metadata": {},
   "outputs": [],
   "source": []
  },
  {
   "cell_type": "code",
   "execution_count": 117,
   "metadata": {},
   "outputs": [
    {
     "data": {
      "text/plain": [
       "array([[2, 1, 3],\n",
       "       [1, 5, 0],\n",
       "       [3, 0, 5]])"
      ]
     },
     "execution_count": 117,
     "metadata": {},
     "output_type": "execute_result"
    }
   ],
   "source": [
    "X = np.array( [ [1,2,1] , [1,-1,2] ] )\n",
    "np.dot(X.T,X)"
   ]
  },
  {
   "cell_type": "markdown",
   "metadata": {},
   "source": [
    "### Задание 1.14.3\n",
    "Укажите все верные утверждения^\n",
    "\n",
    "На главной диагонали матрицы Грама G стоят квадраты длин векторов a, b, c\n",
    "Нули в 3 строке и 3 столбце матрицы G означают, что векторы b и c ортогональны\n",
    "Столбцы матрицы G линейно зависимы"
   ]
  },
  {
   "cell_type": "markdown",
   "metadata": {},
   "source": [
    "### 1.15 Практика. Умножение матриц"
   ]
  },
  {
   "cell_type": "code",
   "execution_count": 139,
   "metadata": {},
   "outputs": [],
   "source": [
    "# произведение матриц\n",
    "A=np.random.randint(5, 12, (3,3))\n",
    "B=np.random.randint(-2, 4, (3,3))"
   ]
  },
  {
   "cell_type": "code",
   "execution_count": 140,
   "metadata": {},
   "outputs": [
    {
     "data": {
      "text/plain": [
       "array([[10,  6,  8],\n",
       "       [11, 10,  8],\n",
       "       [11,  9, 10]])"
      ]
     },
     "execution_count": 140,
     "metadata": {},
     "output_type": "execute_result"
    }
   ],
   "source": [
    "A"
   ]
  },
  {
   "cell_type": "code",
   "execution_count": 141,
   "metadata": {},
   "outputs": [
    {
     "data": {
      "text/plain": [
       "array([[-1,  2,  0],\n",
       "       [ 0,  0, -2],\n",
       "       [-2,  2,  2]])"
      ]
     },
     "execution_count": 141,
     "metadata": {},
     "output_type": "execute_result"
    }
   ],
   "source": [
    "B"
   ]
  },
  {
   "cell_type": "code",
   "execution_count": 142,
   "metadata": {},
   "outputs": [
    {
     "data": {
      "text/plain": [
       "array([[-10,  12,   0],\n",
       "       [  0,   0, -16],\n",
       "       [-22,  18,  20]])"
      ]
     },
     "execution_count": 142,
     "metadata": {},
     "output_type": "execute_result"
    }
   ],
   "source": [
    "# Поэлементное умножение\n",
    "A*B"
   ]
  },
  {
   "cell_type": "code",
   "execution_count": 143,
   "metadata": {},
   "outputs": [
    {
     "name": "stdout",
     "output_type": "stream",
     "text": [
      "[[-26  36   4]\n",
      " [-27  38  -4]\n",
      " [-31  42   2]]\n"
     ]
    }
   ],
   "source": [
    "# тип np.matrix\n",
    "A_m=np.matrix(A)\n",
    "B_m=np.matrix(B)\n",
    "print(A_m*B_m)"
   ]
  },
  {
   "cell_type": "code",
   "execution_count": 144,
   "metadata": {},
   "outputs": [
    {
     "data": {
      "text/plain": [
       "array([[-26,  36,   4],\n",
       "       [-27,  38,  -4],\n",
       "       [-31,  42,   2]])"
      ]
     },
     "execution_count": 144,
     "metadata": {},
     "output_type": "execute_result"
    }
   ],
   "source": [
    "# Матричное умножение (скалярное произведение)\n",
    "np.dot(A,B)"
   ]
  },
  {
   "cell_type": "code",
   "execution_count": 146,
   "metadata": {},
   "outputs": [
    {
     "data": {
      "text/plain": [
       "array([[-26,  36,   4],\n",
       "       [-27,  38,  -4],\n",
       "       [-31,  42,   2]])"
      ]
     },
     "execution_count": 146,
     "metadata": {},
     "output_type": "execute_result"
    }
   ],
   "source": [
    "# Матричное умножение (скалярное произведение)\n",
    "A@B"
   ]
  },
  {
   "cell_type": "code",
   "execution_count": 147,
   "metadata": {},
   "outputs": [
    {
     "data": {
      "text/plain": [
       "array([[ 12,  14,   8],\n",
       "       [-22, -18, -20],\n",
       "       [ 24,  26,  20]])"
      ]
     },
     "execution_count": 147,
     "metadata": {},
     "output_type": "execute_result"
    }
   ],
   "source": [
    "# Порядок умножения AB != BA\n",
    "B@A"
   ]
  },
  {
   "cell_type": "code",
   "execution_count": 148,
   "metadata": {},
   "outputs": [
    {
     "name": "stdout",
     "output_type": "stream",
     "text": [
      "A:\n",
      " [[ 8  6  9  5  6]\n",
      " [10 11 10  7  7]\n",
      " [ 9  8  9  7  6]]\n",
      "B:\n",
      " [[ 0  0]\n",
      " [ 0  0]\n",
      " [ 3  0]\n",
      " [ 2 -2]\n",
      " [-1 -1]]\n"
     ]
    }
   ],
   "source": [
    "# Умножение прямоугольных матриц возможно не в любом порядке\n",
    "A=np.random.randint(5, 12, (3,5))\n",
    "B=np.random.randint(-2, 4, (5,2))\n",
    "print('A:\\n',A)\n",
    "print('B:\\n',B)"
   ]
  },
  {
   "cell_type": "code",
   "execution_count": 149,
   "metadata": {},
   "outputs": [
    {
     "data": {
      "text/plain": [
       "array([[ 31, -16],\n",
       "       [ 37, -21],\n",
       "       [ 35, -20]])"
      ]
     },
     "execution_count": 149,
     "metadata": {},
     "output_type": "execute_result"
    }
   ],
   "source": [
    "# Умножение прямоугольных матриц возможно не в любом порядке\n",
    "A@B"
   ]
  },
  {
   "cell_type": "code",
   "execution_count": 150,
   "metadata": {},
   "outputs": [
    {
     "ename": "ValueError",
     "evalue": "matmul: Input operand 1 has a mismatch in its core dimension 0, with gufunc signature (n?,k),(k,m?)->(n?,m?) (size 3 is different from 2)",
     "output_type": "error",
     "traceback": [
      "\u001b[0;31m---------------------------------------------------------------------------\u001b[0m",
      "\u001b[0;31mValueError\u001b[0m                                Traceback (most recent call last)",
      "\u001b[0;32m<ipython-input-150-776a30abbcf0>\u001b[0m in \u001b[0;36m<module>\u001b[0;34m\u001b[0m\n\u001b[1;32m      1\u001b[0m \u001b[0;31m# Умножение прямоугольных матриц возможно не в любом порядке\u001b[0m\u001b[0;34m\u001b[0m\u001b[0;34m\u001b[0m\u001b[0;34m\u001b[0m\u001b[0m\n\u001b[0;32m----> 2\u001b[0;31m \u001b[0mB\u001b[0m\u001b[0;34m@\u001b[0m\u001b[0mA\u001b[0m\u001b[0;34m\u001b[0m\u001b[0;34m\u001b[0m\u001b[0m\n\u001b[0m",
      "\u001b[0;31mValueError\u001b[0m: matmul: Input operand 1 has a mismatch in its core dimension 0, with gufunc signature (n?,k),(k,m?)->(n?,m?) (size 3 is different from 2)"
     ]
    }
   ],
   "source": [
    "# Умножение прямоугольных матриц возможно не в любом порядке\n",
    "B@A"
   ]
  },
  {
   "cell_type": "code",
   "execution_count": 151,
   "metadata": {},
   "outputs": [
    {
     "name": "stdout",
     "output_type": "stream",
     "text": [
      "shape of A: (3, 5)\n",
      "shape of B: (5, 2)\n",
      "shape of AB: (3, 2)\n"
     ]
    }
   ],
   "source": [
    "# размер произведения матриц\n",
    "print('shape of A:', np.shape(A))\n",
    "print('shape of B:', np.shape(B))\n",
    "print('shape of AB:', np.shape(A@B))"
   ]
  },
  {
   "cell_type": "code",
   "execution_count": 152,
   "metadata": {},
   "outputs": [
    {
     "name": "stdout",
     "output_type": "stream",
     "text": [
      "A:\n",
      " [[-4 -1  1 -1]\n",
      " [ 2  3  0  3]\n",
      " [-3 -3 -1  1]\n",
      " [-3  0 -1 -3]]\n",
      "D:\n",
      " [[ 1  0  0  0]\n",
      " [ 0  2  0  0]\n",
      " [ 0  0  0  0]\n",
      " [ 0  0  0 -1]]\n",
      "AD:\n",
      " [[-4 -2  0  1]\n",
      " [ 2  6  0 -3]\n",
      " [-3 -6  0 -1]\n",
      " [-3  0  0  3]]\n",
      "DA:\n",
      " [[-4 -1  1 -1]\n",
      " [ 4  6  0  6]\n",
      " [ 0  0  0  0]\n",
      " [ 3  0  1  3]]\n"
     ]
    }
   ],
   "source": [
    "# умножение на специальные матрицы\n",
    "A=np.random.randint(-4, 4, (4,4))\n",
    "D=np.diag([1,2,0,-1])\n",
    "print('A:\\n',A)\n",
    "print('D:\\n',D)\n",
    "print('AD:\\n',A@D)\n",
    "print('DA:\\n',D@A)"
   ]
  },
  {
   "cell_type": "code",
   "execution_count": 153,
   "metadata": {},
   "outputs": [
    {
     "data": {
      "text/plain": [
       "array([2, 6])"
      ]
     },
     "execution_count": 153,
     "metadata": {},
     "output_type": "execute_result"
    }
   ],
   "source": [
    "# умножение на одномерный массив numpy\n",
    "A=np.array([[1,0,1],[1,1,1]])\n",
    "b=np.array([-3,4,5])\n",
    "A@b"
   ]
  },
  {
   "cell_type": "code",
   "execution_count": 154,
   "metadata": {},
   "outputs": [
    {
     "ename": "ValueError",
     "evalue": "matmul: Input operand 1 has a mismatch in its core dimension 0, with gufunc signature (n?,k),(k,m?)->(n?,m?) (size 2 is different from 3)",
     "output_type": "error",
     "traceback": [
      "\u001b[0;31m---------------------------------------------------------------------------\u001b[0m",
      "\u001b[0;31mValueError\u001b[0m                                Traceback (most recent call last)",
      "\u001b[0;32m<ipython-input-154-147a26b1db13>\u001b[0m in \u001b[0;36m<module>\u001b[0;34m\u001b[0m\n\u001b[0;32m----> 1\u001b[0;31m \u001b[0mb\u001b[0m\u001b[0;34m@\u001b[0m\u001b[0mA\u001b[0m\u001b[0;34m\u001b[0m\u001b[0;34m\u001b[0m\u001b[0m\n\u001b[0m",
      "\u001b[0;31mValueError\u001b[0m: matmul: Input operand 1 has a mismatch in its core dimension 0, with gufunc signature (n?,k),(k,m?)->(n?,m?) (size 2 is different from 3)"
     ]
    }
   ],
   "source": [
    "b@A"
   ]
  },
  {
   "cell_type": "code",
   "execution_count": 155,
   "metadata": {},
   "outputs": [
    {
     "name": "stdout",
     "output_type": "stream",
     "text": [
      "[[ 1  1  1]\n",
      " [ 1  0 -1]\n",
      " [-1  2 -1]] <class 'numpy.ndarray'>\n"
     ]
    }
   ],
   "source": [
    "# матрица Грама ортогональной системы векторов\n",
    "x=np.array([1,1,1])\n",
    "y=np.array([1,0,-1])\n",
    "z=np.array([-1,2,-1])\n",
    "A=np.array([x,y,z])\n",
    "print (A, type(A))"
   ]
  },
  {
   "cell_type": "code",
   "execution_count": 156,
   "metadata": {},
   "outputs": [
    {
     "data": {
      "text/plain": [
       "array([[3, 0, 0],\n",
       "       [0, 2, 0],\n",
       "       [0, 0, 6]])"
      ]
     },
     "execution_count": 156,
     "metadata": {},
     "output_type": "execute_result"
    }
   ],
   "source": [
    "# матрица Грама ортогональной системы векторов\n",
    "A@A.T"
   ]
  },
  {
   "cell_type": "code",
   "execution_count": 157,
   "metadata": {},
   "outputs": [
    {
     "name": "stdout",
     "output_type": "stream",
     "text": [
      "[[ 0.57735027  0.57735027  0.57735027]\n",
      " [ 0.70710678  0.         -0.70710678]\n",
      " [-0.40824829  0.81649658 -0.40824829]] <class 'numpy.ndarray'>\n"
     ]
    }
   ],
   "source": [
    "# матрица Грама ортонормированной системы векторов\n",
    "x_norm=x/np.linalg.norm(x)\n",
    "y_norm=y/np.linalg.norm(y)\n",
    "z_norm=z/np.linalg.norm(z)\n",
    "A_norm=np.array([x_norm,y_norm,z_norm])\n",
    "print (A_norm, type(A_norm))"
   ]
  },
  {
   "cell_type": "code",
   "execution_count": 158,
   "metadata": {},
   "outputs": [
    {
     "data": {
      "text/plain": [
       "array([[ 1.00000000e+00, -1.77961928e-17,  1.66584120e-17],\n",
       "       [-1.77961928e-17,  1.00000000e+00, -2.45142679e-17],\n",
       "       [ 1.66584120e-17, -2.45142679e-17,  1.00000000e+00]])"
      ]
     },
     "execution_count": 158,
     "metadata": {},
     "output_type": "execute_result"
    }
   ],
   "source": [
    "# матрица Грама ортонормированной системы векторов\n",
    "A_norm@A_norm.T"
   ]
  },
  {
   "cell_type": "code",
   "execution_count": 159,
   "metadata": {},
   "outputs": [
    {
     "data": {
      "text/plain": [
       "array([[ 1., -0.,  0.],\n",
       "       [-0.,  1., -0.],\n",
       "       [ 0., -0.,  1.]])"
      ]
     },
     "execution_count": 159,
     "metadata": {},
     "output_type": "execute_result"
    }
   ],
   "source": [
    "# ортонормированные системы рулят! :)\n",
    "np.round(A_norm@A_norm.T,1)"
   ]
  },
  {
   "cell_type": "markdown",
   "metadata": {},
   "source": [
    "### Задача 1.15.1. \n",
    "Условие\n",
    "```python \n",
    "A=np.array([[5, -1, 3, 1, 2],[-2, 8, 5, -1, 1]])\n",
    "x=np.array([1, 2, 3, 4, 5])\n",
    "```\n",
    "Найдите произведение матрицы A и вектора x в том порядке, в котором их можно умножить."
   ]
  },
  {
   "cell_type": "code",
   "execution_count": 160,
   "metadata": {},
   "outputs": [
    {
     "name": "stdout",
     "output_type": "stream",
     "text": [
      "[26 30]\n"
     ]
    }
   ],
   "source": [
    "A=np.array( [ [5,-1,3,1,2] , [-2,8,5,-1,1] ] )\n",
    "x=np.array( [1,2,3,4,5] )\n",
    "print(A@x)"
   ]
  },
  {
   "cell_type": "markdown",
   "metadata": {},
   "source": [
    "### Задание 1.15.2 \n",
    "***Условие:*** Даны две матрицы:\n",
    "```python\n",
    "A = np.array([[1,9,8,5], [3,6,3,2], [3,3,3,3], [0,2,5,9], [4,4,1,2]])\n",
    "B = np.array([[1,-1,0,1,1], [-2,0,2,-1,1]])\n",
    "```\n",
    "Найдите произведение матриц A и B в том порядке, в котором их можно умножить.\n",
    "В ответ запишите элемент из 1 строки и 4 столбца"
   ]
  },
  {
   "cell_type": "code",
   "execution_count": 161,
   "metadata": {},
   "outputs": [
    {
     "data": {
      "text/plain": [
       "14"
      ]
     },
     "execution_count": 161,
     "metadata": {},
     "output_type": "execute_result"
    }
   ],
   "source": [
    "A=np.array([[1, 9, 8, 5], [3, 6, 3, 2], [3, 3, 3, 3], [0, 2, 5, 9], [4, 4, 1, 2]])\n",
    "B=np.array([[1, -1, 0, 1, 1], [-2, 0, 2, -1, 1]])\n",
    "C = np.dot(B,A)\n",
    "\n",
    "temp= C[0,3]\n",
    "temp"
   ]
  },
  {
   "cell_type": "code",
   "execution_count": 164,
   "metadata": {},
   "outputs": [
    {
     "data": {
      "text/plain": [
       "14"
      ]
     },
     "execution_count": 164,
     "metadata": {},
     "output_type": "execute_result"
    }
   ],
   "source": [
    "# Второй вариант записи скалярного произведения\n",
    "A=np.array([[1, 9, 8, 5], [3, 6, 3, 2], [3, 3, 3, 3], [0, 2, 5, 9], [4, 4, 1, 2]])\n",
    "B=np.array([[1, -1, 0, 1, 1], [-2, 0, 2, -1, 1]])\n",
    "C = B@A\n",
    "C[0,3]\n"
   ]
  },
  {
   "cell_type": "markdown",
   "metadata": {},
   "source": [
    "### Задание 1.15.3. \n",
    "***Условие:*** Дана система векторов:\n",
    "```python\n",
    "x = np.array([1,2,1,0,4])  \n",
    "y = np.array([2,1,-1,1,0])  \n",
    "z = np.array([-1,1,-1,0,0])  \n",
    "```\n",
    "Найдите матрицу Грама системы векторов x, y, z  \n",
    "Введите все элементы этой матрицы через запятую (без пробела), перечисляя построчно:"
   ]
  },
  {
   "cell_type": "code",
   "execution_count": 165,
   "metadata": {},
   "outputs": [
    {
     "data": {
      "text/plain": [
       "array([[22,  3,  0],\n",
       "       [ 3,  7,  0],\n",
       "       [ 0,  0,  3]])"
      ]
     },
     "execution_count": 165,
     "metadata": {},
     "output_type": "execute_result"
    }
   ],
   "source": [
    "x=np.array([1,2,1,0,4])\n",
    "y=np.array([2,1,-1,1,0])\n",
    "z=np.array([-1,1,-1,0,0])\n",
    "A = np.array([x,y,z])\n",
    "\n",
    "A@A.T"
   ]
  },
  {
   "cell_type": "markdown",
   "metadata": {},
   "source": [
    "### Задание 1.15.4. \n",
    "В салоне красоты «Феи ножниц» работает 8 стилистов: Аня, Борис, Вика, Галя, Дима, Егор, Женя и Юра.  \n",
    "В dataframe Count_DF содержится информация по количеству услуг, оказанных каждым стилистом за апрель.  \n",
    "В dataframe Price_DF содержится информация по стоимости услуг у каждого стилиста в тысячах рублей.  \n",
    "Найдите вектор выручки Бориса"
   ]
  },
  {
   "cell_type": "code",
   "execution_count": 166,
   "metadata": {},
   "outputs": [],
   "source": [
    "Count_DF = pd.DataFrame({'Женские стрижки': [10, 2, 12, 4, 6, 10, 22, 7], \n",
    "                                'Мужские стрижки': [5, 21, 12, 8, 25, 3, 1, 0], \n",
    "                                'Окрашивания':[12, 3, 0, 18, 27, 2, 4, 31],\n",
    "                              'Укладка':[15, 25, 30, 14, 25, 17, 25, 31],\n",
    "                                'Уход':[10, 6, 4, 5, 18, 12, 20, 28]\n",
    "                                }, \n",
    "                               index=['Аня', 'Борис', 'Вика', 'Галя', 'Дима', 'Егор', 'Женя','Юра'])\n",
    "Price_DF = pd.DataFrame({'Женские стрижки': [2, 1.8, 2, 1.8, 2.5, 5, 1.1, 4.5], \n",
    "                                'Мужские стрижки': [1.5, 2.5, 2, 1.2, 3.5, 5, 1, 4], \n",
    "                                'Окрашивания':[1, 1, 0, 2.8, 2, 3, 1.5, 2.5],\n",
    "                              'Укладка':[0.8, 1, 0.5, 0.8, 1, 2, 0.5, 1],\n",
    "                                'Уход':[1, 1, 2, 2, 1.5, 2.5, 1.7, 2] \n",
    "                                }, \n",
    "                               index=['Аня', 'Борис', 'Вика', 'Галя', 'Дима', 'Егор', 'Женя','Юра'])"
   ]
  },
  {
   "cell_type": "code",
   "execution_count": 168,
   "metadata": {},
   "outputs": [
    {
     "data": {
      "text/plain": [
       "array([ 3.6, 52.5,  3. , 25. ,  6. ])"
      ]
     },
     "execution_count": 168,
     "metadata": {},
     "output_type": "execute_result"
    }
   ],
   "source": [
    "Count_DF.values[1]*Price_DF.values[1]"
   ]
  },
  {
   "cell_type": "markdown",
   "metadata": {},
   "source": [
    "### Задание 1.15.5. \n",
    "Найдите вектор прибыли салона по стилистам.  \n",
    "Если за каждую услугу стилисты платят определенную комиссию салону.  \n",
    "Вектор комиссий com=\\[0.2, 0.2, 0.3, 0.1, 0.1\\]  \n",
    "Введите координаты вектора через запятую (без пробела):"
   ]
  },
  {
   "cell_type": "code",
   "execution_count": 178,
   "metadata": {},
   "outputs": [
    {
     "name": "stdout",
     "output_type": "stream",
     "text": [
      "[11.3  15.22 11.9  20.6  41.9  21.2  11.49 38.25]\n"
     ]
    }
   ],
   "source": [
    "C = Count_DF.values\n",
    "P = Price_DF.values\n",
    "com = np.array([0.2, 0.2, 0.3, 0.1, 0.1])\n",
    "\n",
    "profit = (P*C)@(com)\n",
    "print(profit)\n"
   ]
  },
  {
   "cell_type": "markdown",
   "metadata": {},
   "source": [
    "### Задание 1.15.6. \n",
    "Найдите вектор прибыли стилистов"
   ]
  },
  {
   "cell_type": "code",
   "execution_count": 179,
   "metadata": {},
   "outputs": [
    {
     "name": "stdout",
     "output_type": "stream",
     "text": [
      "[ 50.2   74.88  59.1   67.8  166.6  113.8   66.21 157.75]\n"
     ]
    }
   ],
   "source": [
    "styl_inc = (P*C)@(np.ones(5)-com)\n",
    "\n",
    "print(styl_inc)"
   ]
  },
  {
   "cell_type": "markdown",
   "metadata": {},
   "source": [
    "### Задание 1.16.1"
   ]
  },
  {
   "cell_type": "code",
   "execution_count": 186,
   "metadata": {},
   "outputs": [
    {
     "name": "stdout",
     "output_type": "stream",
     "text": [
      "[[1 2]\n",
      " [2 4]]\n",
      "0\n",
      "Разница = 0, обратная матрица не существует\n"
     ]
    }
   ],
   "source": [
    "D = np.array([[a,b],[c,d]])\n",
    "a = 1\n",
    "b = 2\n",
    "c = 2 \n",
    "d = 4\n",
    "\n",
    "print(D)\n",
    "\n",
    "print(a*d - b*c)\n",
    "\n",
    "print('Разница = 0, обратная матрица не существует')"
   ]
  },
  {
   "cell_type": "markdown",
   "metadata": {},
   "source": [
    "### Задание 1.16.2\n",
    "Какое число должно стоять на месте знака вопроса в равенстве\n",
    "\n",
    "Ответ: -2\n"
   ]
  },
  {
   "cell_type": "markdown",
   "metadata": {},
   "source": [
    "### Задания 1.16.3 - 1.16.4\n"
   ]
  },
  {
   "cell_type": "code",
   "execution_count": 189,
   "metadata": {},
   "outputs": [
    {
     "name": "stdout",
     "output_type": "stream",
     "text": [
      "матрица В\n",
      "[[1 2]\n",
      " [2 5]]\n",
      "матрица обратная к B\n",
      "[[ 5. -2.]\n",
      " [-2.  1.]]\n",
      "Обратная матрица Целочисленна и Симметрична\n"
     ]
    }
   ],
   "source": [
    "B = np.array([[1,2],[2,5]])\n",
    "print('матрица В')\n",
    "print(B)\n",
    "\n",
    "\n",
    "print('матрица обратная к B')\n",
    "print(np.linalg.inv(B))\n",
    "print('Обратная матрица Целочисленна и Симметрична')"
   ]
  },
  {
   "cell_type": "markdown",
   "metadata": {},
   "source": [
    "### Задание 1.16.5\n"
   ]
  },
  {
   "cell_type": "code",
   "execution_count": 196,
   "metadata": {},
   "outputs": [
    {
     "data": {
      "text/plain": [
       "array([[1., 0., 0.],\n",
       "       [0., 1., 0.],\n",
       "       [0., 0., 1.]])"
      ]
     },
     "execution_count": 196,
     "metadata": {},
     "output_type": "execute_result"
    }
   ],
   "source": [
    "A = np.array([[2,0,0], [0,4,0], [0,0,5]])\n",
    "B = np.array([[1/2,0,0], [0,1/4,0], [0,0,1/5]])\n",
    "np.dot(A,B)"
   ]
  },
  {
   "cell_type": "markdown",
   "metadata": {},
   "source": [
    "### 1.17. Определитель матрицы"
   ]
  },
  {
   "cell_type": "markdown",
   "metadata": {},
   "source": [
    "### Задание 1.17.1\n",
    "Найдите det(A), det(B), det(A+B), если\n",
    "```python\n",
    "A = np.array([[1,2],[1,1]])\n",
    "B = np.array([[5,-2],[-1,4]])\n",
    "```"
   ]
  },
  {
   "cell_type": "code",
   "execution_count": 203,
   "metadata": {},
   "outputs": [
    {
     "name": "stdout",
     "output_type": "stream",
     "text": [
      "-1.0\n",
      "18.0\n",
      "30.0\n"
     ]
    }
   ],
   "source": [
    "A = np.array([[1,2],[1,1]])\n",
    "B = np.array([[5,-2],[-1,4]])\n",
    "\n",
    "temp = np.linalg.det(A)\n",
    "temp2 = np.linalg.det(B)\n",
    "temp3 = np.linalg.det(A+B)\n",
    "\n",
    "print(round(temp, 0))\n",
    "print(round(temp2, 0))\n",
    "print(round(temp3, 0))"
   ]
  },
  {
   "cell_type": "markdown",
   "metadata": {},
   "source": [
    "### Задание 1.17.2\n",
    "Какое утверждение неверно?\n",
    "\n",
    "Ответ: det(A + B) = det(A) + det(B)"
   ]
  },
  {
   "cell_type": "markdown",
   "metadata": {},
   "source": [
    "### Задание 1.17.3"
   ]
  },
  {
   "cell_type": "code",
   "execution_count": 215,
   "metadata": {},
   "outputs": [
    {
     "name": "stdout",
     "output_type": "stream",
     "text": [
      "8.0\n"
     ]
    }
   ],
   "source": [
    "A = np.array([[2,0,0],[0,1,0],[0,0,4]])\n",
    "result = np.linalg.det(A)\n",
    "print(round(result,3))\n"
   ]
  },
  {
   "cell_type": "code",
   "execution_count": 217,
   "metadata": {},
   "outputs": [
    {
     "name": "stdout",
     "output_type": "stream",
     "text": [
      "0.125\n"
     ]
    }
   ],
   "source": [
    "A_1 = 1/result\n",
    "print(round(A_1, 3))"
   ]
  },
  {
   "cell_type": "markdown",
   "metadata": {},
   "source": [
    "### Задание 1.17.4\n",
    "\n",
    "Квадратная матрица обязательно обратима, если:\n",
    " - Её столбцы линейно независимы\n",
    " - Её определитель не равен нулю\n"
   ]
  },
  {
   "cell_type": "markdown",
   "metadata": {},
   "source": [
    "### 1.18. Линейная (не)зависимость ч.1\n",
    "\n",
    "### 1.19. Линейная (не)зависимость ч.2\n",
    "\n",
    "### Задание 1.19.1\n",
    "\n",
    "Пропорциональные векторы называются коллинеарными. Найдите неверное утверждение:\n",
    "- Коллинеарные векторы всегда линейно зависимы\n",
    "- Коллинеарные векторы всегда ортогональны\n",
    "- Нулевой вектор коллинеарен любому вектору\n",
    "\n",
    "Ответ: Коллинеарные векторы всегда ортогональны"
   ]
  },
  {
   "cell_type": "markdown",
   "metadata": {},
   "source": [
    "### Задание 1.19.2\n",
    "\n",
    "Выберите верное утрверждение для векторов: \n",
    "- Линейно независимы в целом\n",
    "- Попарно линейно независимы (то есть каждая пара линейно независима)"
   ]
  },
  {
   "cell_type": "code",
   "execution_count": 218,
   "metadata": {},
   "outputs": [
    {
     "data": {
      "text/plain": [
       "2"
      ]
     },
     "execution_count": 218,
     "metadata": {},
     "output_type": "execute_result"
    }
   ],
   "source": [
    "import numpy as np\n",
    "\n",
    "a = ([4,0])\n",
    "b = ([1,1])\n",
    "c = ([6,4])\n",
    "A = np.array([a,b,c])\n",
    "\n",
    "np.linalg.matrix_rank(A)"
   ]
  },
  {
   "cell_type": "markdown",
   "metadata": {},
   "source": [
    "Ранг = 2, а векторов 3. Значит, каждая пара линейно независима"
   ]
  },
  {
   "cell_type": "markdown",
   "metadata": {},
   "source": [
    "### Задание 1.19.3\n",
    "Если в квадратной матрице A есть нулевой столбец, то"
   ]
  },
  {
   "cell_type": "code",
   "execution_count": 225,
   "metadata": {},
   "outputs": [
    {
     "data": {
      "text/plain": [
       "array([[0, 2],\n",
       "       [0, 5]])"
      ]
     },
     "execution_count": 225,
     "metadata": {},
     "output_type": "execute_result"
    }
   ],
   "source": [
    "# Посмотрим на примере\n",
    "B = np.array([[0,2], [0,5]])\n",
    "B"
   ]
  },
  {
   "cell_type": "code",
   "execution_count": 224,
   "metadata": {},
   "outputs": [
    {
     "data": {
      "text/plain": [
       "0.0"
      ]
     },
     "execution_count": 224,
     "metadata": {},
     "output_type": "execute_result"
    }
   ],
   "source": [
    "np.linalg.det(B)"
   ]
  },
  {
   "cell_type": "markdown",
   "metadata": {},
   "source": [
    "Ответ:\n",
    "\n",
    "- Столбцы A линейно зависимы\n",
    "- Определитель A равен нулю\n",
    "- A не обратима"
   ]
  },
  {
   "cell_type": "markdown",
   "metadata": {},
   "source": [
    "### Задание 1.19.4\n",
    "Выберите верные утверждения для векторов"
   ]
  },
  {
   "cell_type": "code",
   "execution_count": 227,
   "metadata": {},
   "outputs": [
    {
     "data": {
      "text/plain": [
       "0"
      ]
     },
     "execution_count": 227,
     "metadata": {},
     "output_type": "execute_result"
    }
   ],
   "source": [
    "a = ([4,1,0])\n",
    "b = ([-1,4,0])\n",
    "c = ([0,0,1])\n",
    "\n",
    "np.dot(a,b)"
   ]
  },
  {
   "cell_type": "code",
   "execution_count": 228,
   "metadata": {},
   "outputs": [
    {
     "data": {
      "text/plain": [
       "0"
      ]
     },
     "execution_count": 228,
     "metadata": {},
     "output_type": "execute_result"
    }
   ],
   "source": [
    "np.dot(b,c)"
   ]
  },
  {
   "cell_type": "code",
   "execution_count": 229,
   "metadata": {},
   "outputs": [
    {
     "data": {
      "text/plain": [
       "3"
      ]
     },
     "execution_count": 229,
     "metadata": {},
     "output_type": "execute_result"
    }
   ],
   "source": [
    "a = ([4,1,0])\n",
    "b = ([-1,4,0])\n",
    "c = ([0,0,1])\n",
    "A = np.array([a,b,c])\n",
    "\n",
    "np.linalg.matrix_rank(A)"
   ]
  },
  {
   "cell_type": "markdown",
   "metadata": {},
   "source": [
    "Ответ:\n",
    "- Попарно ортогональны (то есть каждая пара ортогональна)\n",
    "- Попарно линейно независимы (то есть каждая пара неколлинеарна)\n",
    "- Линейно независимы в целом"
   ]
  },
  {
   "cell_type": "markdown",
   "metadata": {},
   "source": [
    "### Задание 1.19.5\n",
    "Найдите ранги матриц А и В"
   ]
  },
  {
   "cell_type": "code",
   "execution_count": 230,
   "metadata": {},
   "outputs": [
    {
     "name": "stdout",
     "output_type": "stream",
     "text": [
      "2\n",
      "3\n"
     ]
    }
   ],
   "source": [
    "A = np.array([[1,0,3,5],\n",
    "             [0,4,5,5],\n",
    "             [0,0,0,0],\n",
    "             [0,0,0,0]])\n",
    "B = np.array([[1,0,3,5],\n",
    "             [0,4,5,5],\n",
    "             [0,0,0,4],\n",
    "             [0,0,0,0]])\n",
    "print(np.linalg.matrix_rank(A))\n",
    "print(np.linalg.matrix_rank(B))"
   ]
  },
  {
   "cell_type": "markdown",
   "metadata": {},
   "source": [
    "### 1.20. Практика. Обратная матрица, ранг, определитель"
   ]
  },
  {
   "cell_type": "code",
   "execution_count": 231,
   "metadata": {},
   "outputs": [
    {
     "name": "stdout",
     "output_type": "stream",
     "text": [
      "A1:\n",
      " [[ 1  2  3]\n",
      " [ 4  5  6]\n",
      " [ 7  8 10]]\n"
     ]
    }
   ],
   "source": [
    "# обратная матрица - все ок\n",
    "A1=np.array([[1,2,3],[4,5,6],[7,8,10]])\n",
    "print('A1:\\n',A1)"
   ]
  },
  {
   "cell_type": "code",
   "execution_count": 232,
   "metadata": {},
   "outputs": [
    {
     "name": "stdout",
     "output_type": "stream",
     "text": [
      "rk(A3):\n",
      " 3\n"
     ]
    }
   ],
   "source": [
    "print('rk(A3):\\n',np.linalg.matrix_rank(A1))"
   ]
  },
  {
   "cell_type": "code",
   "execution_count": 233,
   "metadata": {},
   "outputs": [
    {
     "name": "stdout",
     "output_type": "stream",
     "text": [
      "A1 inversed:\n",
      " [[-0.66666667 -1.33333333  1.        ]\n",
      " [-0.66666667  3.66666667 -2.        ]\n",
      " [ 1.         -2.          1.        ]]\n"
     ]
    }
   ],
   "source": [
    "# обратная матрица - все ок\n",
    "A1_inv=np.linalg.inv(A1)\n",
    "print('A1 inversed:\\n',A1_inv)\n"
   ]
  },
  {
   "cell_type": "code",
   "execution_count": 234,
   "metadata": {},
   "outputs": [
    {
     "name": "stdout",
     "output_type": "stream",
     "text": [
      "A1 @ A1 inversed=E check:\n",
      " [[ 1.00000000e+00 -4.44089210e-16 -1.11022302e-16]\n",
      " [ 4.44089210e-16  1.00000000e+00 -2.22044605e-16]\n",
      " [ 4.44089210e-16  8.88178420e-16  1.00000000e+00]] 1\n",
      "[[ 1. -0. -0.]\n",
      " [ 0.  1. -0.]\n",
      " [ 0.  0.  1.]]\n",
      "check OK\n"
     ]
    }
   ],
   "source": [
    "# обратная матрица - все ок\n",
    "print('A1 @ A1 inversed=E check:\\n',A1@A1_inv,1)\n",
    "print(np.round(A1@A1_inv,1))\n",
    "print('check OK')"
   ]
  },
  {
   "cell_type": "code",
   "execution_count": 235,
   "metadata": {},
   "outputs": [
    {
     "name": "stdout",
     "output_type": "stream",
     "text": [
      "A2:\n",
      " [[1 2 3]\n",
      " [4 5 6]\n",
      " [1 2 3]]\n"
     ]
    }
   ],
   "source": [
    "# обратная матрица - вырожденный случай\n",
    "A2=np.array([[1,2,3],[4,5,6],[1,2,3]])\n",
    "print('A2:\\n',A2)"
   ]
  },
  {
   "cell_type": "code",
   "execution_count": 236,
   "metadata": {},
   "outputs": [
    {
     "name": "stdout",
     "output_type": "stream",
     "text": [
      "rk(A3):\n",
      " 2\n"
     ]
    }
   ],
   "source": [
    "# обратная матрица - вырожденный случай\n",
    "print('rk(A3):\\n',np.linalg.matrix_rank(A2))"
   ]
  },
  {
   "cell_type": "code",
   "execution_count": 237,
   "metadata": {},
   "outputs": [
    {
     "ename": "LinAlgError",
     "evalue": "Singular matrix",
     "output_type": "error",
     "traceback": [
      "\u001b[0;31m---------------------------------------------------------------------------\u001b[0m",
      "\u001b[0;31mLinAlgError\u001b[0m                               Traceback (most recent call last)",
      "\u001b[0;32m<ipython-input-237-c542f79171a4>\u001b[0m in \u001b[0;36m<module>\u001b[0;34m\u001b[0m\n\u001b[1;32m      1\u001b[0m \u001b[0;31m# обратная матрица - вырожденный случай\u001b[0m\u001b[0;34m\u001b[0m\u001b[0;34m\u001b[0m\u001b[0;34m\u001b[0m\u001b[0m\n\u001b[0;32m----> 2\u001b[0;31m \u001b[0mnp\u001b[0m\u001b[0;34m.\u001b[0m\u001b[0mlinalg\u001b[0m\u001b[0;34m.\u001b[0m\u001b[0minv\u001b[0m\u001b[0;34m(\u001b[0m\u001b[0mA2\u001b[0m\u001b[0;34m)\u001b[0m\u001b[0;34m\u001b[0m\u001b[0;34m\u001b[0m\u001b[0m\n\u001b[0m",
      "\u001b[0;32m<__array_function__ internals>\u001b[0m in \u001b[0;36minv\u001b[0;34m(*args, **kwargs)\u001b[0m\n",
      "\u001b[0;32m~/anaconda3/lib/python3.8/site-packages/numpy/linalg/linalg.py\u001b[0m in \u001b[0;36minv\u001b[0;34m(a)\u001b[0m\n\u001b[1;32m    545\u001b[0m     \u001b[0msignature\u001b[0m \u001b[0;34m=\u001b[0m \u001b[0;34m'D->D'\u001b[0m \u001b[0;32mif\u001b[0m \u001b[0misComplexType\u001b[0m\u001b[0;34m(\u001b[0m\u001b[0mt\u001b[0m\u001b[0;34m)\u001b[0m \u001b[0;32melse\u001b[0m \u001b[0;34m'd->d'\u001b[0m\u001b[0;34m\u001b[0m\u001b[0;34m\u001b[0m\u001b[0m\n\u001b[1;32m    546\u001b[0m     \u001b[0mextobj\u001b[0m \u001b[0;34m=\u001b[0m \u001b[0mget_linalg_error_extobj\u001b[0m\u001b[0;34m(\u001b[0m\u001b[0m_raise_linalgerror_singular\u001b[0m\u001b[0;34m)\u001b[0m\u001b[0;34m\u001b[0m\u001b[0;34m\u001b[0m\u001b[0m\n\u001b[0;32m--> 547\u001b[0;31m     \u001b[0mainv\u001b[0m \u001b[0;34m=\u001b[0m \u001b[0m_umath_linalg\u001b[0m\u001b[0;34m.\u001b[0m\u001b[0minv\u001b[0m\u001b[0;34m(\u001b[0m\u001b[0ma\u001b[0m\u001b[0;34m,\u001b[0m \u001b[0msignature\u001b[0m\u001b[0;34m=\u001b[0m\u001b[0msignature\u001b[0m\u001b[0;34m,\u001b[0m \u001b[0mextobj\u001b[0m\u001b[0;34m=\u001b[0m\u001b[0mextobj\u001b[0m\u001b[0;34m)\u001b[0m\u001b[0;34m\u001b[0m\u001b[0;34m\u001b[0m\u001b[0m\n\u001b[0m\u001b[1;32m    548\u001b[0m     \u001b[0;32mreturn\u001b[0m \u001b[0mwrap\u001b[0m\u001b[0;34m(\u001b[0m\u001b[0mainv\u001b[0m\u001b[0;34m.\u001b[0m\u001b[0mastype\u001b[0m\u001b[0;34m(\u001b[0m\u001b[0mresult_t\u001b[0m\u001b[0;34m,\u001b[0m \u001b[0mcopy\u001b[0m\u001b[0;34m=\u001b[0m\u001b[0;32mFalse\u001b[0m\u001b[0;34m)\u001b[0m\u001b[0;34m)\u001b[0m\u001b[0;34m\u001b[0m\u001b[0;34m\u001b[0m\u001b[0m\n\u001b[1;32m    549\u001b[0m \u001b[0;34m\u001b[0m\u001b[0m\n",
      "\u001b[0;32m~/anaconda3/lib/python3.8/site-packages/numpy/linalg/linalg.py\u001b[0m in \u001b[0;36m_raise_linalgerror_singular\u001b[0;34m(err, flag)\u001b[0m\n\u001b[1;32m     95\u001b[0m \u001b[0;34m\u001b[0m\u001b[0m\n\u001b[1;32m     96\u001b[0m \u001b[0;32mdef\u001b[0m \u001b[0m_raise_linalgerror_singular\u001b[0m\u001b[0;34m(\u001b[0m\u001b[0merr\u001b[0m\u001b[0;34m,\u001b[0m \u001b[0mflag\u001b[0m\u001b[0;34m)\u001b[0m\u001b[0;34m:\u001b[0m\u001b[0;34m\u001b[0m\u001b[0;34m\u001b[0m\u001b[0m\n\u001b[0;32m---> 97\u001b[0;31m     \u001b[0;32mraise\u001b[0m \u001b[0mLinAlgError\u001b[0m\u001b[0;34m(\u001b[0m\u001b[0;34m\"Singular matrix\"\u001b[0m\u001b[0;34m)\u001b[0m\u001b[0;34m\u001b[0m\u001b[0;34m\u001b[0m\u001b[0m\n\u001b[0m\u001b[1;32m     98\u001b[0m \u001b[0;34m\u001b[0m\u001b[0m\n\u001b[1;32m     99\u001b[0m \u001b[0;32mdef\u001b[0m \u001b[0m_raise_linalgerror_nonposdef\u001b[0m\u001b[0;34m(\u001b[0m\u001b[0merr\u001b[0m\u001b[0;34m,\u001b[0m \u001b[0mflag\u001b[0m\u001b[0;34m)\u001b[0m\u001b[0;34m:\u001b[0m\u001b[0;34m\u001b[0m\u001b[0;34m\u001b[0m\u001b[0m\n",
      "\u001b[0;31mLinAlgError\u001b[0m: Singular matrix"
     ]
    }
   ],
   "source": [
    "# обратная матрица - вырожденный случай\n",
    "np.linalg.inv(A2)"
   ]
  },
  {
   "cell_type": "code",
   "execution_count": 238,
   "metadata": {},
   "outputs": [
    {
     "name": "stdout",
     "output_type": "stream",
     "text": [
      "A3:\n",
      " [[1 2 3]\n",
      " [4 5 6]\n",
      " [7 8 9]]\n"
     ]
    }
   ],
   "source": [
    "# обратная матрица - magic\n",
    "A3=np.array([[1,2,3],[4,5,6],[7,8,9]])\n",
    "print('A3:\\n',A3)"
   ]
  },
  {
   "cell_type": "code",
   "execution_count": 239,
   "metadata": {},
   "outputs": [
    {
     "name": "stdout",
     "output_type": "stream",
     "text": [
      "rk(A3):\n",
      " 2\n"
     ]
    }
   ],
   "source": [
    "# обратная матрица - magic\n",
    "print('rk(A3):\\n',np.linalg.matrix_rank(A3))"
   ]
  },
  {
   "cell_type": "code",
   "execution_count": 240,
   "metadata": {},
   "outputs": [
    {
     "name": "stdout",
     "output_type": "stream",
     "text": [
      "A3 inversed:\n",
      " [[ 3.15251974e+15 -6.30503948e+15  3.15251974e+15]\n",
      " [-6.30503948e+15  1.26100790e+16 -6.30503948e+15]\n",
      " [ 3.15251974e+15 -6.30503948e+15  3.15251974e+15]]\n"
     ]
    }
   ],
   "source": [
    "# обратная матрица - magic\n",
    "print('A3 inversed:\\n',np.linalg.inv(A3))"
   ]
  },
  {
   "cell_type": "code",
   "execution_count": 241,
   "metadata": {},
   "outputs": [
    {
     "name": "stdout",
     "output_type": "stream",
     "text": [
      "A3 @ A3 inversed = E check:\n",
      " [[ 0.   1.  -0.5]\n",
      " [ 0.   2.  -1. ]\n",
      " [ 0.   3.   2.5]]\n",
      "check failed\n"
     ]
    }
   ],
   "source": [
    "# обратная матрица - magic\n",
    "print('A3 @ A3 inversed = E check:\\n',A3@np.linalg.inv(A3))\n",
    "print('check failed')"
   ]
  },
  {
   "cell_type": "code",
   "execution_count": 242,
   "metadata": {},
   "outputs": [
    {
     "name": "stdout",
     "output_type": "stream",
     "text": [
      "det(A1)):\n",
      " -3.000000000000001\n"
     ]
    }
   ],
   "source": [
    "print('det(A1)):\\n',np.linalg.det(A1))"
   ]
  },
  {
   "cell_type": "code",
   "execution_count": 243,
   "metadata": {},
   "outputs": [
    {
     "name": "stdout",
     "output_type": "stream",
     "text": [
      "det(A2)):\n",
      " 0.0\n"
     ]
    }
   ],
   "source": [
    "print('det(A2)):\\n',np.linalg.det(A2))"
   ]
  },
  {
   "cell_type": "code",
   "execution_count": 244,
   "metadata": {},
   "outputs": [
    {
     "name": "stdout",
     "output_type": "stream",
     "text": [
      "det(A3)):\n",
      " -9.51619735392994e-16\n"
     ]
    }
   ],
   "source": [
    "print('det(A3)):\\n',np.linalg.det(A3))"
   ]
  },
  {
   "cell_type": "code",
   "execution_count": 245,
   "metadata": {},
   "outputs": [
    {
     "name": "stdout",
     "output_type": "stream",
     "text": [
      "A4:\n",
      " [[1.      2.      3.     ]\n",
      " [4.      5.      6.     ]\n",
      " [1.      2.      3.00005]]\n",
      "rk(A4):\n",
      " 3\n",
      "det(A4):\n",
      " -0.00014999999999965044\n",
      "A4 inverse:\n",
      " [[-2.00016667e+04  6.66666667e-01  2.00000000e+04]\n",
      " [ 4.00013333e+04 -3.33333333e-01 -4.00000000e+04]\n",
      " [-2.00000000e+04  0.00000000e+00  2.00000000e+04]]\n"
     ]
    }
   ],
   "source": [
    "# обратная матрица - нестойчивость\n",
    "A4=np.array([[1,2,3],[4,5,6],[1,2,3.00005]])\n",
    "print('A4:\\n',A4)\n",
    "print('rk(A4):\\n',np.linalg.matrix_rank(A4))\n",
    "print('det(A4):\\n',np.linalg.det(A4))\n",
    "print('A4 inverse:\\n',np.linalg.inv(A4))"
   ]
  },
  {
   "cell_type": "code",
   "execution_count": 246,
   "metadata": {},
   "outputs": [
    {
     "name": "stdout",
     "output_type": "stream",
     "text": [
      "A5:\n",
      " [[1.         2.         3.        ]\n",
      " [4.         5.         6.        ]\n",
      " [1.         2.         3.00000005]]\n",
      "rk(A5):\n",
      " 3\n",
      "det(A5):\n",
      " -1.5000000042064706e-07\n",
      "A5 inverse:\n",
      " [[-2.00000016e+07  6.66666667e-01  1.99999999e+07]\n",
      " [ 4.00000012e+07 -3.33333333e-01 -3.99999999e+07]\n",
      " [-1.99999999e+07  0.00000000e+00  1.99999999e+07]]\n"
     ]
    }
   ],
   "source": [
    "# обратная матрица - нестойчивость вблизи нулевого определителя\n",
    "A5=np.array([[1,2,3],[4,5,6],[1,2,3.00000005]])\n",
    "print('A5:\\n',A5)\n",
    "print('rk(A5):\\n',np.linalg.matrix_rank(A5))\n",
    "print('det(A5):\\n',np.linalg.det(A5))\n",
    "print('A5 inverse:\\n',np.linalg.inv(A5))"
   ]
  },
  {
   "cell_type": "code",
   "execution_count": 247,
   "metadata": {},
   "outputs": [
    {
     "name": "stdout",
     "output_type": "stream",
     "text": [
      "A:\n",
      " [[1 1]\n",
      " [2 1]\n",
      " [1 1]]\n",
      "Матрица Грама:\n",
      " [[6 4]\n",
      " [4 3]]\n"
     ]
    }
   ],
   "source": [
    "# обратимость матрицы Грама линейно независимой системы векторов\n",
    "v1=np.array([1,2,1])\n",
    "v2=np.array([1,1,1])\n",
    "A=np.array([v1,v2]).T\n",
    "print('A:\\n',A)\n",
    "print('Матрица Грама:\\n',A.T@A)"
   ]
  },
  {
   "cell_type": "code",
   "execution_count": 248,
   "metadata": {},
   "outputs": [
    {
     "name": "stdout",
     "output_type": "stream",
     "text": [
      "Ранг матрицы Грама:\n",
      " 2\n"
     ]
    }
   ],
   "source": [
    "print('Ранг матрицы Грама:\\n',np.linalg.matrix_rank(A.T@A))"
   ]
  },
  {
   "cell_type": "code",
   "execution_count": 249,
   "metadata": {},
   "outputs": [
    {
     "name": "stdout",
     "output_type": "stream",
     "text": [
      "Определитель матрицы Грама:\n",
      " 2.0000000000000004\n"
     ]
    }
   ],
   "source": [
    "print('Определитель матрицы Грама:\\n',np.linalg.det(A.T@A))"
   ]
  },
  {
   "cell_type": "code",
   "execution_count": 250,
   "metadata": {},
   "outputs": [
    {
     "name": "stdout",
     "output_type": "stream",
     "text": [
      "Обратная к матрице Грама:\n",
      " [[ 1.5 -2. ]\n",
      " [-2.   3. ]]\n"
     ]
    }
   ],
   "source": [
    "print('Обратная к матрице Грама:\\n',np.linalg.inv(A.T@A))"
   ]
  },
  {
   "cell_type": "markdown",
   "metadata": {},
   "source": [
    "### Задание 1.20.1\n",
    "Найдите обратную матрицу к матрице А  \n",
    "В ответ запишите элемент из 2 строки и 1 столбца"
   ]
  },
  {
   "cell_type": "code",
   "execution_count": 251,
   "metadata": {},
   "outputs": [
    {
     "name": "stdout",
     "output_type": "stream",
     "text": [
      "0.375\n"
     ]
    }
   ],
   "source": [
    "A = np.array( [[ 8 , 6 ,11],[ 7 , 5 , 9],[ 6 ,10,  6]])\n",
    "\n",
    "A_inv = np.linalg.inv(A)\n",
    "\n",
    "print(A_inv[1,0])\n"
   ]
  },
  {
   "cell_type": "markdown",
   "metadata": {},
   "source": [
    "### Задание 1.20.2\n",
    "Найдите ранг системы векторов v1, v2, v3, v4"
   ]
  },
  {
   "cell_type": "code",
   "execution_count": 252,
   "metadata": {},
   "outputs": [
    {
     "data": {
      "text/plain": [
       "4"
      ]
     },
     "execution_count": 252,
     "metadata": {},
     "output_type": "execute_result"
    }
   ],
   "source": [
    "v1 = np.array([9, 10, 7, 7, 9])\n",
    "v2 = np.array([2, 0, 5, 1, 4])\n",
    "v3 = np.array([4, 0, 0, 4, 1])\n",
    "v4 = np.array([3, -4, 3, -1, -4])\n",
    "\n",
    "A = np.array([v1,v2,v3,v4]).T\n",
    "np.linalg.matrix_rank(A)"
   ]
  },
  {
   "cell_type": "markdown",
   "metadata": {},
   "source": [
    "### Задание 1.20.3\n",
    "Является ли система векторов v1, v2, v3, v4 линейно зависимой?\n",
    "\n",
    "Ответ: Нет"
   ]
  },
  {
   "cell_type": "markdown",
   "metadata": {},
   "source": [
    "### Задание 1.20.4 \n",
    "Найдите матрицу Грама системы векторов v1, v2, v3, v4  \n",
    "В ответ запишите элемент из 1 строки и 4 столбца"
   ]
  },
  {
   "cell_type": "code",
   "execution_count": 255,
   "metadata": {},
   "outputs": [
    {
     "data": {
      "text/plain": [
       "-35"
      ]
     },
     "execution_count": 255,
     "metadata": {},
     "output_type": "execute_result"
    }
   ],
   "source": [
    "B = A.T\n",
    "Gram = B@B.T\n",
    "Gram[0,3]"
   ]
  },
  {
   "cell_type": "markdown",
   "metadata": {},
   "source": [
    "### Задание. 1.20.5\n",
    "Найдите определитель матрицы Грама системы v1, v2, v3, v4  \n",
    "***Ответ округлите до целой части:***"
   ]
  },
  {
   "cell_type": "code",
   "execution_count": 256,
   "metadata": {},
   "outputs": [
    {
     "name": "stdout",
     "output_type": "stream",
     "text": [
      "3716648.0\n"
     ]
    }
   ],
   "source": [
    "result = np.linalg.det(Gram)\n",
    "print(round(result,0))"
   ]
  },
  {
   "cell_type": "markdown",
   "metadata": {},
   "source": [
    "### Задание 1.20.6\n",
    "Является ли матрица Грама системы v1, v2, v3, v4 вырожденной?  \n",
    "Ответ: Нет"
   ]
  },
  {
   "cell_type": "code",
   "execution_count": 259,
   "metadata": {},
   "outputs": [
    {
     "data": {
      "text/plain": [
       "4"
      ]
     },
     "execution_count": 259,
     "metadata": {},
     "output_type": "execute_result"
    }
   ],
   "source": [
    "# Проверим по рангу и количеству векторов\n",
    "np.linalg.matrix_rank(Gram)"
   ]
  },
  {
   "cell_type": "markdown",
   "metadata": {},
   "source": [
    "### Задание 1.20.7 \n",
    "Найдите обратную матрицу к матрице Грама системы v1, v2, v3, v4  \n",
    "В ответ запишите элемент из 3 строки и 1 столбца, округлив его до трёх знаков после запятой"
   ]
  },
  {
   "cell_type": "code",
   "execution_count": 261,
   "metadata": {},
   "outputs": [
    {
     "name": "stdout",
     "output_type": "stream",
     "text": [
      "-0.026\n"
     ]
    }
   ],
   "source": [
    "result = np.linalg.inv(Gram)[2,0]\n",
    "print(round(result,3))"
   ]
  },
  {
   "cell_type": "code",
   "execution_count": null,
   "metadata": {},
   "outputs": [],
   "source": []
  }
 ],
 "metadata": {
  "kernelspec": {
   "display_name": "Python 3",
   "language": "python",
   "name": "python3"
  },
  "language_info": {
   "codemirror_mode": {
    "name": "ipython",
    "version": 3
   },
   "file_extension": ".py",
   "mimetype": "text/x-python",
   "name": "python",
   "nbconvert_exporter": "python",
   "pygments_lexer": "ipython3",
   "version": "3.8.3"
  }
 },
 "nbformat": 4,
 "nbformat_minor": 4
}
