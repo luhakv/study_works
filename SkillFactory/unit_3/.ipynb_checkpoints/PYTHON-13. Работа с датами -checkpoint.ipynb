{
 "cells": [
  {
   "cell_type": "markdown",
   "metadata": {},
   "source": [
    "## Юнит 3. Введение в машинное обучение \n",
    "### Skillfactory: DSPR-19\n",
    "###  13. Работа с датами"
   ]
  },
  {
   "cell_type": "code",
   "execution_count": 1,
   "metadata": {},
   "outputs": [],
   "source": [
    "date_string = '2019-03-01'"
   ]
  },
  {
   "cell_type": "markdown",
   "metadata": {},
   "source": [
    "### 13.7 Формат unixtime"
   ]
  },
  {
   "cell_type": "markdown",
   "metadata": {},
   "source": [
    "### Задание\n",
    "Переведите дату 31 декабря 2018 года (полночь по UTC) в формат unixtime. Дайте ответ в виде целого числа:  \n",
    "Ответ:  \n",
    "1546214400\n",
    "\n",
    "Перевод с помощью онлайн-сервиса https://www.onlineconversion.com/unix_time.htm"
   ]
  },
  {
   "cell_type": "markdown",
   "metadata": {},
   "source": [
    "### 13.8 Задания"
   ]
  },
  {
   "cell_type": "markdown",
   "metadata": {},
   "source": [
    "### Задание 1\n",
    "12.23.2018 (23 декабря 2018 года)  \n",
    "Ответ:  \n",
    "%m.%d.%Y\n",
    "\n",
    "### Задание 2\n",
    "01.13.2019Z15:39:01 (13 января 2019 года, 15 часов 39 минут 1 секунда)  \n",
    "Ответ:  \n",
    "%m.%d.%YZ%H:%M:%S\n",
    "\n",
    "### Задание 3\n",
    "23:45 (23 часа 45 минут)  \n",
    "Ответ:  \n",
    "%H:%M\n",
    "\n",
    "### Задание 4\n",
    "19.04.2019 08:00 (19 апреля 2019 года, 8 утра)  \n",
    "Ответ:  \n",
    "%d.%m.%Y %H:%M\n",
    "\n",
    "### Задание 5\n",
    "01-04-2019, mon, 06:30 (понедельник 1 апреля 2019 года, 6 часов 30 минут)   \n",
    "Ответ:  \n",
    "%d-%m-%Y, %a, %H:%M\n",
    "\n",
    "### Задание 6\n",
    "01-01-2019 Sunday (воскресенье 1 января 2019 года)  \n",
    "Ответ:  \n",
    "%m-%d-%Y %A\n",
    "\n",
    "### Задание 7\n",
    "1 May 2019 23:59 (1 мая 2019 года, 23 часа 59 минут)  \n",
    "Ответ:  \n",
    "%d %B %Y %H:%M\n",
    "\n",
    "### Задание 8\n",
    "14.06.2019 08:00 AM (14 июня 2019 года, 8 утра) будьте внимательны к формату часа  \n",
    "Ответ:  \n",
    "%d.%m.%Y %I:%M %p\n",
    "\n",
    "### Задание 9\n",
    "10:40 AM (10 часов 40 минут утра)  \n",
    "Ответ:  \n",
    "%I:%M %p\n",
    "\n",
    "### Задание 10\n",
    "15:23 (15 часов 23 минуты)  \n",
    "Ответ:  \n",
    "%H:%M\n",
    "\n",
    "### Задание 11\n",
    "Mar 08, 2019 (8 марта 2019 года)  \n",
    "Ответ:  \n",
    "%b %d, %Y\n",
    "\n",
    "### Задание 12\n",
    "Переведите дату 1 января 2019 года (полночь по UTC) в формат unixtime  \n",
    "Ответ:  \n",
    "1546300800\n",
    "\n",
    "### Задание 13\n",
    "Переведите 31 января 2019 года (по UTC) в формат unixtime и посчитайте разницу в секундах между 1 и 31 января 2019 года.\n"
   ]
  },
  {
   "cell_type": "code",
   "execution_count": 2,
   "metadata": {},
   "outputs": [
    {
     "data": {
      "text/plain": [
       "2592000"
      ]
     },
     "execution_count": 2,
     "metadata": {},
     "output_type": "execute_result"
    }
   ],
   "source": [
    "a= 1548892800 - 1546300800\n",
    "a"
   ]
  },
  {
   "cell_type": "markdown",
   "metadata": {},
   "source": [
    "### Задание 14\n",
    "Посчитайте количество секунд в сутках. Формат ответа — целое число:  \n",
    "Ответ:  \n",
    "86400\n",
    "\n",
    "### Задание 15\n",
    "Между двумя событиями прошло 7200 секунд. Выразите этот период в минутах:  \n",
    "Ответ:  \n",
    "120\n",
    "\n",
    "### Задание 16\n",
    "Какой из указанных годов был високосным? 2014, 2016 или 2018"
   ]
  },
  {
   "cell_type": "code",
   "execution_count": 4,
   "metadata": {},
   "outputs": [],
   "source": [
    "import calendar"
   ]
  },
  {
   "cell_type": "code",
   "execution_count": 10,
   "metadata": {},
   "outputs": [
    {
     "name": "stdout",
     "output_type": "stream",
     "text": [
      "2014\n",
      "Обычный\n"
     ]
    }
   ],
   "source": [
    "year = int(input())\n",
    "if (year % 4 == 0 and year%100 != 0) or (year%400 == 0): \n",
    "    print(\"Высокосный\")\n",
    "else:\n",
    "    print(\"Обычный\")"
   ]
  },
  {
   "cell_type": "code",
   "execution_count": 11,
   "metadata": {},
   "outputs": [
    {
     "name": "stdout",
     "output_type": "stream",
     "text": [
      "2016\n",
      "Высокосный\n"
     ]
    }
   ],
   "source": [
    "year = int(input())\n",
    "if (year % 4 == 0 and year%100 != 0) or (year%400 == 0): \n",
    "    print(\"Высокосный\")\n",
    "else:\n",
    "    print(\"Обычный\")"
   ]
  },
  {
   "cell_type": "code",
   "execution_count": 12,
   "metadata": {},
   "outputs": [
    {
     "name": "stdout",
     "output_type": "stream",
     "text": [
      "2018\n",
      "Обычный\n"
     ]
    }
   ],
   "source": [
    "year = int(input())\n",
    "if (year % 4 == 0 and year%100 != 0) or (year%400 == 0): \n",
    "    print(\"Высокосный\")\n",
    "else:\n",
    "    print(\"Обычный\")"
   ]
  },
  {
   "cell_type": "markdown",
   "metadata": {},
   "source": [
    "### 13.9 Библиотека datetime"
   ]
  },
  {
   "cell_type": "code",
   "execution_count": 13,
   "metadata": {},
   "outputs": [],
   "source": [
    "import datetime\n",
    "from datetime import datetime, timedelta"
   ]
  },
  {
   "cell_type": "code",
   "execution_count": 14,
   "metadata": {},
   "outputs": [],
   "source": [
    "date_string = '05.05.2019 21:00'\n",
    "dt = datetime.strptime(date_string, '%d.%m.%Y %H:%M')"
   ]
  },
  {
   "cell_type": "code",
   "execution_count": 15,
   "metadata": {},
   "outputs": [
    {
     "data": {
      "text/plain": [
       "datetime.datetime(2019, 5, 5, 21, 0)"
      ]
     },
     "execution_count": 15,
     "metadata": {},
     "output_type": "execute_result"
    }
   ],
   "source": [
    "dt"
   ]
  },
  {
   "cell_type": "code",
   "execution_count": 16,
   "metadata": {},
   "outputs": [
    {
     "data": {
      "text/plain": [
       "21"
      ]
     },
     "execution_count": 16,
     "metadata": {},
     "output_type": "execute_result"
    }
   ],
   "source": [
    "dt.hour"
   ]
  },
  {
   "cell_type": "code",
   "execution_count": 17,
   "metadata": {},
   "outputs": [
    {
     "data": {
      "text/plain": [
       "5"
      ]
     },
     "execution_count": 17,
     "metadata": {},
     "output_type": "execute_result"
    }
   ],
   "source": [
    "dt.month"
   ]
  },
  {
   "cell_type": "code",
   "execution_count": 18,
   "metadata": {},
   "outputs": [
    {
     "data": {
      "text/plain": [
       "'2019-05-05'"
      ]
     },
     "execution_count": 18,
     "metadata": {},
     "output_type": "execute_result"
    }
   ],
   "source": [
    "# Переведем дату обратно в строку\n",
    "dt.strftime('%Y-%m-%d')"
   ]
  },
  {
   "cell_type": "code",
   "execution_count": 19,
   "metadata": {},
   "outputs": [],
   "source": [
    "dt = datetime(2019, 4, 1, 18, 59, 44)"
   ]
  },
  {
   "cell_type": "code",
   "execution_count": 20,
   "metadata": {},
   "outputs": [
    {
     "data": {
      "text/plain": [
       "'2019-04-01'"
      ]
     },
     "execution_count": 20,
     "metadata": {},
     "output_type": "execute_result"
    }
   ],
   "source": [
    "dt.strftime('%Y-%m-%d')"
   ]
  },
  {
   "cell_type": "markdown",
   "metadata": {},
   "source": [
    "### 13.12 Задания на преобразования дат"
   ]
  },
  {
   "cell_type": "markdown",
   "metadata": {},
   "source": [
    "### Задание 1\n",
    "Дана строка с датой date_string = '2019-07-07T18:59:33'.\n",
    "\n",
    "Преобразуйте её в строку с форматом %d.%m.%Y. Результат запишите в переменную date_format:"
   ]
  },
  {
   "cell_type": "code",
   "execution_count": 27,
   "metadata": {},
   "outputs": [],
   "source": [
    "from datetime import datetime\n",
    "date_string = '2019-07-07T18:59:33'\n",
    "dt = datetime.strptime(date_string, '%Y-%m-%dT%H:%M:%S')\n",
    "date_format = dt.strftime('%d.%m.%Y')"
   ]
  },
  {
   "cell_type": "code",
   "execution_count": 28,
   "metadata": {},
   "outputs": [
    {
     "data": {
      "text/plain": [
       "'07.07.2019'"
      ]
     },
     "execution_count": 28,
     "metadata": {},
     "output_type": "execute_result"
    }
   ],
   "source": [
    "date_format"
   ]
  },
  {
   "cell_type": "markdown",
   "metadata": {},
   "source": [
    "### Задание 2\n",
    "У вас есть список запуска отчёта по расписанию:\n",
    "\n",
    "dt_list = ['2019-07-07T18:59:06', '2019-07-07T19:00:02', '2019-07-07T19:01:04']\n",
    "\n",
    "Переведите эти значения из строк в формат datetime и запишите результат в переменную datetime_list. В переменной datetime_list должен быть список элементов вида datetime(2019, 7, 7, 18, 59, 6)"
   ]
  },
  {
   "cell_type": "code",
   "execution_count": 29,
   "metadata": {},
   "outputs": [],
   "source": [
    "from datetime import datetime\n",
    "dt_list = ['2019-07-07T18:59:06', '2019-07-07T19:00:02', '2019-07-07T19:01:04']"
   ]
  },
  {
   "cell_type": "code",
   "execution_count": 30,
   "metadata": {},
   "outputs": [
    {
     "data": {
      "text/plain": [
       "[datetime.datetime(2019, 7, 7, 18, 59, 6),\n",
       " datetime.datetime(2019, 7, 7, 19, 0, 2),\n",
       " datetime.datetime(2019, 7, 7, 19, 1, 4)]"
      ]
     },
     "execution_count": 30,
     "metadata": {},
     "output_type": "execute_result"
    }
   ],
   "source": [
    "datetime_list = [datetime.strptime(datetime_str, '%Y-%m-%dT%H:%M:%S') for datetime_str in dt_list]\n",
    "datetime_list"
   ]
  },
  {
   "cell_type": "markdown",
   "metadata": {},
   "source": [
    "### Задание 3\n",
    "В прошлом задании у вас получился список datetime_list с элементами типа datetime.\n",
    "\n",
    "Наш отчёт запускался каждую минуту в 18:59:00, 19:00:00 и 19:01:00. Посчитайте для каждого элемента количество секунд, которое работал скрипт. Результат запишите в список report_seconds (каждый элемент, соответственно, целое число)."
   ]
  },
  {
   "cell_type": "code",
   "execution_count": 31,
   "metadata": {},
   "outputs": [
    {
     "data": {
      "text/plain": [
       "[6, 2, 4]"
      ]
     },
     "execution_count": 31,
     "metadata": {},
     "output_type": "execute_result"
    }
   ],
   "source": [
    "from datetime import datetime\n",
    "datetime_list = [\n",
    "    datetime(2019, 7, 7, 18, 59, 6),\n",
    "    datetime(2019, 7, 7, 19, 0, 2),\n",
    "    datetime(2019, 7, 7, 19, 1, 4)\n",
    "]\n",
    "start_datetimes = [\n",
    "    datetime(2019, 7, 7, 18, 59, 0),\n",
    "    datetime(2019, 7, 7, 19, 0, 0),\n",
    "    datetime(2019, 7, 7, 19, 1, 0)\n",
    "]\n",
    "\n",
    "report_seconds = [int((datetime_list[i] - start_datetimes[i]).total_seconds()) for i in range(len(datetime_list))]\n",
    "report_seconds"
   ]
  },
  {
   "cell_type": "markdown",
   "metadata": {},
   "source": [
    "### Задание 4\n",
    "Посчитайте суммарное время выполнения скрипта в секундах из списка report_seconds прошлого задания.\n",
    "\n",
    "Результат запишите в переменную total_time (целое число секунд):"
   ]
  },
  {
   "cell_type": "code",
   "execution_count": 32,
   "metadata": {},
   "outputs": [
    {
     "data": {
      "text/plain": [
       "12"
      ]
     },
     "execution_count": 32,
     "metadata": {},
     "output_type": "execute_result"
    }
   ],
   "source": [
    "from datetime import datetime\n",
    "report_seconds = [6, 2, 4]\n",
    "total_time = sum(report_seconds)\n",
    "total_time"
   ]
  },
  {
   "cell_type": "markdown",
   "metadata": {},
   "source": [
    "### 13.13 Синтаксис и принцип работы timedelta"
   ]
  },
  {
   "cell_type": "code",
   "execution_count": 33,
   "metadata": {},
   "outputs": [
    {
     "data": {
      "text/plain": [
       "datetime.datetime(2019, 1, 2, 0, 0)"
      ]
     },
     "execution_count": 33,
     "metadata": {},
     "output_type": "execute_result"
    }
   ],
   "source": [
    "# у нас есть дата начала выгрузки start_date\n",
    "start_date = '2019-01-01'\n",
    "\n",
    "# Переводим строковую переменную start_date в формат datetime:\n",
    "start_date_datetime = datetime.strptime(start_date, '%Y-%m-%d')\n",
    "\n",
    "# Теперь можем прибавлять к ней нужные временные интервалы с помощью timedelta:\n",
    "start_date_datetime + timedelta(days = 1)\n"
   ]
  },
  {
   "cell_type": "code",
   "execution_count": 34,
   "metadata": {},
   "outputs": [
    {
     "data": {
      "text/plain": [
       "datetime.datetime(2018, 12, 25, 0, 0)"
      ]
     },
     "execution_count": 34,
     "metadata": {},
     "output_type": "execute_result"
    }
   ],
   "source": [
    "# Посмотрим, что получится, если отнять от start_date_datetime (от 1 января) 7 дней:\n",
    "start_date_datetime + timedelta(days = -7)\n"
   ]
  },
  {
   "cell_type": "code",
   "execution_count": 35,
   "metadata": {},
   "outputs": [
    {
     "data": {
      "text/plain": [
       "datetime.datetime(2019, 1, 1, 1, 0)"
      ]
     },
     "execution_count": 35,
     "metadata": {},
     "output_type": "execute_result"
    }
   ],
   "source": [
    "# Если к дате выгрузки нужно прибавить час, то просто изменяем параметр функции timedelta:\n",
    "start_date_datetime += timedelta(hours = 1)\n",
    "start_date_datetime"
   ]
  },
  {
   "cell_type": "markdown",
   "metadata": {},
   "source": [
    "### 13.14 Перебор дат в цикле\n",
    "Нам необходимо из огромной таблицы с данными за год выбрать (или узнать) показатели за новогодние праздники с 1 по 7 января.  \n",
    "Начальную и конечную дату будем задавать в удобном для человека строковом виде:\n",
    "\n"
   ]
  },
  {
   "cell_type": "code",
   "execution_count": 36,
   "metadata": {},
   "outputs": [],
   "source": [
    "start_date = '2019-01-01'\n",
    "end_date = '2019-01-07'"
   ]
  },
  {
   "cell_type": "code",
   "execution_count": 37,
   "metadata": {},
   "outputs": [
    {
     "name": "stdout",
     "output_type": "stream",
     "text": [
      "2019-01-01 00:00:00 2019-01-07 00:00:00\n"
     ]
    }
   ],
   "source": [
    "# переведем строковые переменные в формат datetime\n",
    "start_date_datetime = datetime.strptime(start_date, '%Y-%m-%d')\n",
    "end_date_datetime = datetime.strptime(end_date, '%Y-%m-%d')\n",
    "print(start_date_datetime, end_date_datetime) "
   ]
  },
  {
   "cell_type": "code",
   "execution_count": 38,
   "metadata": {},
   "outputs": [],
   "source": [
    "# Заведём переменную current_day, которая в цикле будет изменяться от 1 до 7 января и иметь тип datetime\n",
    "# В первом шаге цикла эта переменная будет равна 1 января\n",
    "current_day = start_date_datetime"
   ]
  },
  {
   "cell_type": "code",
   "execution_count": 39,
   "metadata": {},
   "outputs": [
    {
     "name": "stdout",
     "output_type": "stream",
     "text": [
      "2019-01-01 00:00:00\n",
      "2019-01-02 00:00:00\n",
      "2019-01-03 00:00:00\n",
      "2019-01-04 00:00:00\n",
      "2019-01-05 00:00:00\n",
      "2019-01-06 00:00:00\n",
      "2019-01-07 00:00:00\n"
     ]
    }
   ],
   "source": [
    "# в цикле будем увеличивать значение current_day на 1 день, пока её значение не превысит дату конца выгрузки\n",
    "current_day = start_date_datetime\n",
    "while current_day <= end_date_datetime:\n",
    "    print(current_day)\n",
    "    current_day += timedelta(days=1)"
   ]
  },
  {
   "cell_type": "code",
   "execution_count": 40,
   "metadata": {},
   "outputs": [
    {
     "name": "stdout",
     "output_type": "stream",
     "text": [
      "2019-01-01\n",
      "2019-01-02\n",
      "2019-01-03\n",
      "2019-01-04\n",
      "2019-01-05\n",
      "2019-01-06\n",
      "2019-01-07\n"
     ]
    }
   ],
   "source": [
    "# Для удобства вывода заменим вывод current_day на более наглядный строковый эквивалент в формате даты\n",
    "current_day = start_date_datetime\n",
    "while current_day <= end_date_datetime:\n",
    "    print(current_day.strftime('%Y-%m-%d'))\n",
    "    current_day += timedelta(days=1)"
   ]
  },
  {
   "cell_type": "markdown",
   "metadata": {},
   "source": [
    "Конец модуля"
   ]
  },
  {
   "cell_type": "code",
   "execution_count": null,
   "metadata": {},
   "outputs": [],
   "source": []
  }
 ],
 "metadata": {
  "kernelspec": {
   "display_name": "Python 3",
   "language": "python",
   "name": "python3"
  },
  "language_info": {
   "codemirror_mode": {
    "name": "ipython",
    "version": 3
   },
   "file_extension": ".py",
   "mimetype": "text/x-python",
   "name": "python",
   "nbconvert_exporter": "python",
   "pygments_lexer": "ipython3",
   "version": "3.8.3"
  }
 },
 "nbformat": 4,
 "nbformat_minor": 4
}
