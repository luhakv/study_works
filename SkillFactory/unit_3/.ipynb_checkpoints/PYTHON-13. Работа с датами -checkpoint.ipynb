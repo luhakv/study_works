{
 "cells": [
  {
   "cell_type": "markdown",
   "metadata": {},
   "source": [
    "## Юнит 3. Введение в машинное обучение \n",
    "### Skillfactory: DSPR-19\n",
    "###  13. Работа с датами"
   ]
  },
  {
   "cell_type": "code",
   "execution_count": 1,
   "metadata": {},
   "outputs": [],
   "source": [
    "date_string = '2019-03-01'"
   ]
  },
  {
   "cell_type": "markdown",
   "metadata": {},
   "source": [
    "### 13.7 Формат unixtime"
   ]
  },
  {
   "cell_type": "markdown",
   "metadata": {},
   "source": [
    "### Задание\n",
    "Переведите дату 31 декабря 2018 года (полночь по UTC) в формат unixtime. Дайте ответ в виде целого числа:  \n",
    "Ответ:  \n",
    "1546214400\n",
    "\n",
    "Перевод с помощью онлайн-сервиса https://www.onlineconversion.com/unix_time.htm"
   ]
  },
  {
   "cell_type": "markdown",
   "metadata": {},
   "source": [
    "### 13.8 Задания"
   ]
  },
  {
   "cell_type": "markdown",
   "metadata": {},
   "source": [
    "### Задание 1\n",
    "12.23.2018 (23 декабря 2018 года)  \n",
    "Ответ:  \n",
    "%m.%d.%Y\n",
    "\n",
    "### Задание 2\n",
    "01.13.2019Z15:39:01 (13 января 2019 года, 15 часов 39 минут 1 секунда)  \n",
    "Ответ:  \n",
    "%m.%d.%YZ%H:%M:%S\n",
    "\n",
    "### Задание 3\n",
    "23:45 (23 часа 45 минут)  \n",
    "Ответ:  \n",
    "%H:%M\n",
    "\n",
    "### Задание 4\n",
    "19.04.2019 08:00 (19 апреля 2019 года, 8 утра)  \n",
    "Ответ:  \n",
    "%d.%m.%Y %H:%M\n",
    "\n",
    "### Задание 5\n",
    "01-04-2019, mon, 06:30 (понедельник 1 апреля 2019 года, 6 часов 30 минут)   \n",
    "Ответ:  \n",
    "%d-%m-%Y, %a, %H:%M\n",
    "\n",
    "### Задание 6\n",
    "01-01-2019 Sunday (воскресенье 1 января 2019 года)  \n",
    "Ответ:  \n",
    "%m-%d-%Y %A\n",
    "\n",
    "### Задание 7\n",
    "1 May 2019 23:59 (1 мая 2019 года, 23 часа 59 минут)  \n",
    "Ответ:  \n",
    "%d %B %Y %H:%M\n",
    "\n",
    "### Задание 8\n",
    "14.06.2019 08:00 AM (14 июня 2019 года, 8 утра) будьте внимательны к формату часа  \n",
    "Ответ:  \n",
    "%d.%m.%Y %I:%M %p\n",
    "\n",
    "### Задание 9\n",
    "10:40 AM (10 часов 40 минут утра)  \n",
    "Ответ:  \n",
    "%I:%M %p\n",
    "\n",
    "### Задание 10\n",
    "15:23 (15 часов 23 минуты)  \n",
    "Ответ:  \n",
    "%H:%M\n",
    "\n",
    "### Задание 11\n",
    "Mar 08, 2019 (8 марта 2019 года)  \n",
    "Ответ:  \n",
    "%b %d, %Y\n",
    "\n",
    "### Задание 12\n",
    "Переведите дату 1 января 2019 года (полночь по UTC) в формат unixtime  \n",
    "Ответ:  \n",
    "1546300800\n",
    "\n",
    "### Задание 13\n",
    "Переведите 31 января 2019 года (по UTC) в формат unixtime и посчитайте разницу в секундах между 1 и 31 января 2019 года.\n"
   ]
  },
  {
   "cell_type": "code",
   "execution_count": 2,
   "metadata": {},
   "outputs": [
    {
     "data": {
      "text/plain": [
       "2592000"
      ]
     },
     "execution_count": 2,
     "metadata": {},
     "output_type": "execute_result"
    }
   ],
   "source": [
    "a= 1548892800 - 1546300800\n",
    "a"
   ]
  },
  {
   "cell_type": "markdown",
   "metadata": {},
   "source": [
    "### Задание 14\n",
    "Посчитайте количество секунд в сутках. Формат ответа — целое число:  \n",
    "Ответ:  \n",
    "86400\n",
    "\n",
    "### Задание 15\n",
    "Между двумя событиями прошло 7200 секунд. Выразите этот период в минутах:  \n",
    "Ответ:  \n",
    "120\n",
    "\n",
    "### Задание 16\n",
    "Какой из указанных годов был високосным? 2014, 2016 или 2018"
   ]
  },
  {
   "cell_type": "code",
   "execution_count": 4,
   "metadata": {},
   "outputs": [],
   "source": [
    "import calendar"
   ]
  },
  {
   "cell_type": "code",
   "execution_count": 10,
   "metadata": {},
   "outputs": [
    {
     "name": "stdout",
     "output_type": "stream",
     "text": [
      "2014\n",
      "Обычный\n"
     ]
    }
   ],
   "source": [
    "year = int(input())\n",
    "if (year % 4 == 0 and year%100 != 0) or (year%400 == 0): \n",
    "    print(\"Высокосный\")\n",
    "else:\n",
    "    print(\"Обычный\")"
   ]
  },
  {
   "cell_type": "code",
   "execution_count": 11,
   "metadata": {},
   "outputs": [
    {
     "name": "stdout",
     "output_type": "stream",
     "text": [
      "2016\n",
      "Высокосный\n"
     ]
    }
   ],
   "source": [
    "year = int(input())\n",
    "if (year % 4 == 0 and year%100 != 0) or (year%400 == 0): \n",
    "    print(\"Высокосный\")\n",
    "else:\n",
    "    print(\"Обычный\")"
   ]
  },
  {
   "cell_type": "code",
   "execution_count": 12,
   "metadata": {},
   "outputs": [
    {
     "name": "stdout",
     "output_type": "stream",
     "text": [
      "2018\n",
      "Обычный\n"
     ]
    }
   ],
   "source": [
    "year = int(input())\n",
    "if (year % 4 == 0 and year%100 != 0) or (year%400 == 0): \n",
    "    print(\"Высокосный\")\n",
    "else:\n",
    "    print(\"Обычный\")"
   ]
  },
  {
   "cell_type": "code",
   "execution_count": null,
   "metadata": {},
   "outputs": [],
   "source": []
  }
 ],
 "metadata": {
  "kernelspec": {
   "display_name": "Python 3",
   "language": "python",
   "name": "python3"
  },
  "language_info": {
   "codemirror_mode": {
    "name": "ipython",
    "version": 3
   },
   "file_extension": ".py",
   "mimetype": "text/x-python",
   "name": "python",
   "nbconvert_exporter": "python",
   "pygments_lexer": "ipython3",
   "version": "3.8.3"
  }
 },
 "nbformat": 4,
 "nbformat_minor": 4
}
