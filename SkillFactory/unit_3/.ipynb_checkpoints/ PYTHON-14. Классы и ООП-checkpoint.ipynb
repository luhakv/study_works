{
 "cells": [
  {
   "cell_type": "markdown",
   "metadata": {},
   "source": [
    "## Юнит 3. Введение в машинное обучение \n",
    "### Skillfactory: DSPR-19\n",
    "###  14. PYTHON-14. Классы и ООП"
   ]
  },
  {
   "cell_type": "code",
   "execution_count": 1,
   "metadata": {},
   "outputs": [
    {
     "name": "stdout",
     "output_type": "stream",
     "text": [
      "False\n",
      "(5, 2)\n"
     ]
    }
   ],
   "source": [
    "number = 2.5   \n",
    "# Вызовем метод is_integer. Он скажет нам, является ли number целым числом  \n",
    "print(number.is_integer())  \n",
    "# => False  \n",
    "  \n",
    "# Давайте попробуем представить number как обыкновенную дробь  \n",
    "print(number.as_integer_ratio())  \n",
    "# => (5, 2)  \n",
    "# Действительно 2.5 = 5/2   "
   ]
  },
  {
   "cell_type": "code",
   "execution_count": 3,
   "metadata": {},
   "outputs": [
    {
     "name": "stdout",
     "output_type": "stream",
     "text": [
      "2\n",
      "['Alexandra', 'Stanislav', 'Vasiliy', 'Vasiliy']\n"
     ]
    }
   ],
   "source": [
    "people = [\"Vasiliy\", \"Stanislav\", \"Alexandra\", \"Vasiliy\"]  \n",
    "  \n",
    "# Посчитаем число Василиев с помощью метода count  \n",
    "print(people.count(\"Vasiliy\"))  \n",
    "# => 2  \n",
    "  \n",
    "# Теперь отсортируем   \n",
    "people.sort()  \n",
    "print(people)  \n",
    "# => ['Alexandra', 'Stanislav', 'Vasiliy', 'Vasiliy']  "
   ]
  },
  {
   "cell_type": "markdown",
   "metadata": {},
   "source": [
    "### Задание 14.2\n",
    "Какие из следующих переменных мы можем рассматривать как объекты?  \n",
    "\n",
    "Ответ:  \n",
    "- i = 4  \n",
    "- email = \"pony91@mail.ru\"  \n",
    "- tasks = [\"Wash dishes\", \"Clean floor\", \"Watch GoT season finale\"]"
   ]
  },
  {
   "cell_type": "markdown",
   "metadata": {},
   "source": [
    "#### Классы\n",
    "У всех встроенных объектов есть свой класс. В примере для числа 2.5 мы видим класс действительных чисел (float), для списка — класс списка (list). Класс — это некая заготовка или чертёж, которая описывает общую структуру, свойства и действия для объектов. "
   ]
  },
  {
   "cell_type": "code",
   "execution_count": 4,
   "metadata": {},
   "outputs": [
    {
     "name": "stdout",
     "output_type": "stream",
     "text": [
      "<class 'float'>\n",
      "<class 'list'>\n"
     ]
    }
   ],
   "source": [
    "number = 2.5  \n",
    "print(number.__class__)  \n",
    "# => <class 'float'>  \n",
    "  \n",
    "people = [\"Vasiliy\", \"Stanislav\", \"Alexandra\", \"Vasiliy\"]  \n",
    "print(people.__class__)  \n",
    "# => <class 'list'>  "
   ]
  },
  {
   "cell_type": "markdown",
   "metadata": {},
   "source": [
    "Определим пустой класс, он не делает ничего, но позволит нам посмотреть на синтаксис.\n",
    "\n"
   ]
  },
  {
   "cell_type": "code",
   "execution_count": 6,
   "metadata": {},
   "outputs": [],
   "source": [
    "# Используем ключевое слово class, за которым идёт название класса, в примере это SalesReport  \n",
    "class SalesReport():  \n",
    "    pass  \n",
    "  \n",
    "# Сравните это с определением пустой функции  \n",
    "# Команда pass не делает ничего; на её месте могли быть другие инструкции  \n",
    "# Мы используем её только потому, что синтаксически python требует, чтобы там было хоть что-то  \n",
    "def build_report():  \n",
    "    pass  \n",
    "  \n",
    "  \n",
    "# И давайте определим ещё один класс  \n",
    "# Для имён классов традиционно используются имена в формате CamelCase, \n",
    "#где начала слов отмечаются большими буквами  \n",
    "# Это позволяет легко отличать их от функций, которые пишутся в формате snake_case  \n",
    "class SkillfactoryStudent():  \n",
    "    pass  "
   ]
  },
  {
   "cell_type": "markdown",
   "metadata": {},
   "source": [
    "### Задание 14.3\n",
    "Определите пустой класс DepartmentReport"
   ]
  },
  {
   "cell_type": "code",
   "execution_count": 7,
   "metadata": {},
   "outputs": [],
   "source": [
    "class DepartmentReport():  \n",
    "    pass"
   ]
  },
  {
   "cell_type": "markdown",
   "metadata": {},
   "source": [
    "### 14.4. Объекты из классов\n",
    "Мы написали свой первый класс, давайте создадим по нему объект. Вызываем класс, и получаем новый объект, аналогично тому, как вызывается функция и получается результат."
   ]
  },
  {
   "cell_type": "code",
   "execution_count": 8,
   "metadata": {},
   "outputs": [
    {
     "name": "stdout",
     "output_type": "stream",
     "text": [
      "False\n"
     ]
    }
   ],
   "source": [
    "class SalesReport():  \n",
    "    pass  \n",
    "  \n",
    "# создаём объект по классу  \n",
    "report = SalesReport()  \n",
    "  \n",
    "# мы можем создавать множество объектов по одному классу  \n",
    "report_2 = SalesReport()  \n",
    "  \n",
    "# Это будут разные объекты.   \n",
    "print(report == report_2)  \n",
    "# => False  "
   ]
  },
  {
   "cell_type": "markdown",
   "metadata": {},
   "source": [
    "Созданный таким образом объект часто называют экземпляром класса (instance). Подобное название часто встречается в статьях и книгах."
   ]
  },
  {
   "cell_type": "markdown",
   "metadata": {},
   "source": [
    "### Задание 14.4\n",
    "Скопируйте определение DepartmentReport из предыдущего задания и создайте объект department_report по нему."
   ]
  },
  {
   "cell_type": "code",
   "execution_count": 9,
   "metadata": {},
   "outputs": [],
   "source": [
    "class DepartmentReport():  \n",
    "    pass \n",
    "department_report = DepartmentReport()"
   ]
  },
  {
   "cell_type": "markdown",
   "metadata": {},
   "source": [
    "### 14.5. Атрибуты и методы\n",
    "Мы создали объект по пустому классу. Давайте добавим ему данные. Сделаем класс для отчётов по продажам SalesReport. Пусть у нас есть в компании менеджеры по продажам, они заключают сделки, и мы хотим посчитать для них метрики общего объёма продаж."
   ]
  },
  {
   "cell_type": "code",
   "execution_count": 10,
   "metadata": {},
   "outputs": [
    {
     "name": "stdout",
     "output_type": "stream",
     "text": [
      "Total amount: 10\n",
      "Total amount: 20\n"
     ]
    }
   ],
   "source": [
    "# По-прежнему пока создаём пустой класс  \n",
    "class SalesReport():  \n",
    "    pass  \n",
    "  \n",
    "# Создаём первый отчёт по продажам   \n",
    "report = SalesReport()  \n",
    "  \n",
    "# Мы добавим новый атрибут объекту.  \n",
    "# Для этого через точку напишем имя атрибута и дальше как с обычной переменной  \n",
    "report.amount = 10  \n",
    "  \n",
    "# То же самое делаем для второго отчёта.  \n",
    "report_2 = SalesReport()  \n",
    "report_2.amount = 20  \n",
    "  \n",
    "# Создадим вспомогательную функцию, она будет печатать общую сумму из отчёта  \n",
    "def print_report(report):  \n",
    "    print(\"Total amount:\", report.amount)  \n",
    "      \n",
    "print_report(report) # => Total amount: 10  \n",
    "print_report(report_2) # => Total amount: 20  "
   ]
  },
  {
   "cell_type": "markdown",
   "metadata": {},
   "source": [
    "Для разных отчётов вывелись разные значения, хотя объекты создавались из одного класса. Функция print_report делает операцию над отчётом, так как классы увязывают данные и действия над ними, положим print_report внутрь класса."
   ]
  },
  {
   "cell_type": "code",
   "execution_count": 12,
   "metadata": {},
   "outputs": [
    {
     "name": "stdout",
     "output_type": "stream",
     "text": [
      "Total amount: 10\n",
      "Total amount: 20\n"
     ]
    }
   ],
   "source": [
    "class SalesReport():  \n",
    "    # Наш новый метод внутри класса.  \n",
    "    # Мы определяем его похожим образом с обычными функциями,  \n",
    "    # но только помещаем внутрь класса и первым аргументом передаём self  \n",
    "    def print_report(self):  \n",
    "        print(\"Total amount:\", self.amount)  \n",
    "          \n",
    "          \n",
    "# Дальше мы применяем report так же, как и в примере выше   \n",
    "report = SalesReport()  \n",
    "report.amount = 10  \n",
    "  \n",
    "report_2 = SalesReport()  \n",
    "report_2.amount = 20  \n",
    "  \n",
    "# Используем наши новые методы  \n",
    "report.print_report() # => Total amount: 10  \n",
    "report_2.print_report() # => Total amount: 20  \n"
   ]
  },
  {
   "cell_type": "markdown",
   "metadata": {},
   "source": [
    "Мы определили метод внутри класса, и он стал доступен у всех экземпляров этого класса. Методы в целом похожи на обычные функции, но их ключевое отличие —  доступ к самому объекту. В методе мы первым аргументом получаем self — в нашем случае это отчёт, что позволяет использовать атрибуты объекта внутри метода, как мы сделали с amount. Self передаётся автоматически. При вызове метода мы не передавали никакие аргументы.\n",
    "\n",
    "Давайте для примера определим ещё пару методов:"
   ]
  },
  {
   "cell_type": "code",
   "execution_count": 13,
   "metadata": {},
   "outputs": [
    {
     "name": "stdout",
     "output_type": "stream",
     "text": [
      "Total sales: 40000\n"
     ]
    }
   ],
   "source": [
    "class SalesReport():  \n",
    "    # Позволим добавлять много разных сделок   \n",
    "    def add_deal(self, amount):   \n",
    "        # На первой сделке создадим список для хранения всех сделок   \n",
    "        if not hasattr(self, 'deals'):  \n",
    "            self.deals = []  \n",
    "        # Добавим текущую сделку  \n",
    "        self.deals.append(amount)  \n",
    "          \n",
    "    # Посчитаем сумму всех сделок      \n",
    "    def total_amount(self):  \n",
    "        return sum(self.deals)  \n",
    "      \n",
    "    def print_report(self):  \n",
    "        print(\"Total sales:\", self.total_amount())  \n",
    "          \n",
    "# Используем наши новые возможности  \n",
    "# Добавим две сделки и распечатаем отчёт  \n",
    "report = SalesReport()  \n",
    "report.add_deal(10_000)  \n",
    "report.add_deal(30_000)  \n",
    "report.print_report() # => Total sales: 40000  \n"
   ]
  },
  {
   "cell_type": "markdown",
   "metadata": {},
   "source": [
    "Атрибут deals, определённый в одном методе, становится доступен сразу во всех методах класса. Через self становятся доступны и остальные методы, например, print_report использует метод total_amount. Это позволяет компактно упаковывать логику внутри класса: внешнее использование становится гораздо лаконичнее."
   ]
  },
  {
   "cell_type": "markdown",
   "metadata": {},
   "source": [
    "### Задание\n",
    "Создайте класс DepartmentReport, который выводит отчёт по отделам компании. У него должны быть определены:\n",
    "\n",
    "атрибут revenues - список, где мы храним значения выручки отделов;\n",
    "метод add_revenue, который добавляет выручку одного отдела;\n",
    "метод average_revenue, который возвращает среднюю выручку по всем отделам.\n",
    "В случае правильного описания класса код, приведённый ниже, должен выдать следующий результат:  \n",
    "\n",
    "_report = DepartmentReport()  \n",
    "report.add_revenue(1_000_000)  \n",
    "report.add_revenue(400_000)  \n",
    "print(report.revenues)  \n",
    "=> [1000000, 400000]  \n",
    "print(report.average_revenue())  \n",
    "=> 700000.0_\n",
    "      "
   ]
  },
  {
   "cell_type": "code",
   "execution_count": 14,
   "metadata": {},
   "outputs": [
    {
     "name": "stdout",
     "output_type": "stream",
     "text": [
      "[1000000, 400000]\n",
      "700000.0\n"
     ]
    }
   ],
   "source": [
    "class DepartmentReport():\n",
    "    def __init__(self):\n",
    "        self.revenues = []\n",
    "    def add_revenue(self,revenue):\n",
    "        self.revenues.append(revenue)\n",
    "    def average_revenue(self):\n",
    "        return sum(self.revenues) / len(self.revenues)\n",
    "    \n",
    "report = DepartmentReport()\n",
    "report.add_revenue(1_000_000)\n",
    "report.add_revenue(400_000)\n",
    "print(report.revenues)\n",
    "print(report.average_revenue())"
   ]
  },
  {
   "cell_type": "markdown",
   "metadata": {},
   "source": [
    "### 14.6. Метод __init__\n",
    "На прошлом шаге мы определили несколько методов в классе SalesReport. С ним есть пара проблем. Если мы вызовем total_amount до add_deal, то список сделок ещё не будет создан, и мы получим ошибку. Также проверка на наличие списка в методе add_deal не кажется оптимальным решением, потому что создать список нужно один раз, а в итоге проверяем мы его наличие на каждой сделке."
   ]
  },
  {
   "cell_type": "code",
   "execution_count": null,
   "metadata": {},
   "outputs": [],
   "source": [
    "class SalesReport():  \n",
    "    def add_deal(self, amount):   \n",
    "        if not hasattr(self, 'deals'):  \n",
    "            self.deals = []  \n",
    "        self.deals.append(amount)  \n",
    "          \n",
    "    def total_amount(self):  \n",
    "        return sum(self.deals)  \n",
    "      \n",
    "    def print_report(self):  \n",
    "        print(\"Total sales:\", self.total_amount())  \n",
    "          \n",
    "report = SalesReport()  \n",
    "report.total_amount()  \n",
    "# => AttributeError   "
   ]
  },
  {
   "cell_type": "markdown",
   "metadata": {},
   "source": [
    "Обе проблемы решились бы, если задавать атрибутам исходное значение, для этого у классов есть метод инициализации __init__. Если мы определим метод с таким именем, код в нём вызовется при создании объекта."
   ]
  },
  {
   "cell_type": "code",
   "execution_count": 19,
   "metadata": {},
   "outputs": [
    {
     "name": "stdout",
     "output_type": "stream",
     "text": [
      "[]\n"
     ]
    },
    {
     "data": {
      "text/plain": [
       "0"
      ]
     },
     "execution_count": 19,
     "metadata": {},
     "output_type": "execute_result"
    }
   ],
   "source": [
    "class SalesReport():  \n",
    "    def __init__(self):  \n",
    "        self.deals = []  \n",
    "          \n",
    "    def add_deal(self, amount):   \n",
    "        self.deals.append(amount)  \n",
    "          \n",
    "    def total_amount(self):  \n",
    "        return sum(self.deals)  \n",
    "      \n",
    "    def print_report(self):  \n",
    "        print(\"Total sales:\", self.total_amount())  \n",
    "   \n",
    "report = SalesReport()  \n",
    "print(report.deals)  \n",
    " \n",
    "report.total_amount()  \n"
   ]
  },
  {
   "cell_type": "markdown",
   "metadata": {},
   "source": [
    "При создании отчёта вызвался __ init __, deals определился в нём пустым списком, и проблемы ушли. __ init __ — это технический метод, поэтому его имя начинается и заканчивается двумя подчёркиваниями. Он получает первым аргументом сам объект, в нём могут выполняться любые операции. Оставшиеся аргументы он получает из вызова при создании: если мы напишем report = SalesReport(\"Info\", 20), то вторым и третьим аргументом в __ init __ передадутся \"Info\" и 20.\n",
    "\n",
    "Добавим в отчёт имя менеджера по продажам, которое будет использоваться при распечатке опроса:"
   ]
  },
  {
   "cell_type": "code",
   "execution_count": 18,
   "metadata": {},
   "outputs": [
    {
     "name": "stdout",
     "output_type": "stream",
     "text": [
      "Manager: Ivan Taranov\n",
      "Total sales: 40000\n"
     ]
    }
   ],
   "source": [
    "class SalesReport():  \n",
    "    # Будем принимать в __init__ ещё и имя менеджера  \n",
    "    def __init__(self, manager_name):  \n",
    "        self.deals = []  \n",
    "        self.manager_name = manager_name  \n",
    "          \n",
    "    def add_deal(self, amount):   \n",
    "        self.deals.append(amount)  \n",
    "          \n",
    "    def total_amount(self):  \n",
    "        return sum(self.deals)  \n",
    "      \n",
    "    def print_report(self):  \n",
    "        # И добавлять это имя в отчёт  \n",
    "        print(\"Manager:\", self.manager_name)  \n",
    "        print(\"Total sales:\", self.total_amount())  \n",
    "          \n",
    "   \n",
    "report = SalesReport(\"Ivan Taranov\")  \n",
    "report.add_deal(10_000)  \n",
    "report.add_deal(30_000)  \n",
    "report.print_report()  \n"
   ]
  },
  {
   "cell_type": "markdown",
   "metadata": {},
   "source": [
    "Кроме __ init __ у классов можно определить ряд технических методов, их также называют магическими, потому что они не вызываются напрямую, но позволяют реализовать операции сложения object_1 + object_2 или сравнения object_1 > object_2. Они используются реже __ init __, так что мы оставим их за скобками модуля. При желании полный список можно найти в документации."
   ]
  },
  {
   "cell_type": "markdown",
   "metadata": {},
   "source": [
    "### Задание 14.6\n",
    "Определите улучшенный класс DepartmentReport из задания в главе 14.3. Класс при инициализации должен принимать переменную company_name.\n",
    "\n",
    "Метод average_revenue должен возвращать строку \"Average department revenue for (company_name): (average_revenue)\".\n",
    "\n",
    "В случае правильного описания класса код, приведённый ниже, должен выдать следующий результат:  \n",
    "\n",
    "_report = DepartmentReport(\"Danon\")  \n",
    "report.add_revenue(1_000_000)  \n",
    "report.add_revenue(400_000)  \n",
    "print(report.average_revenue())  \n",
    " => Average department revenue for Danon: 700000_\n",
    "      "
   ]
  },
  {
   "cell_type": "code",
   "execution_count": 22,
   "metadata": {},
   "outputs": [
    {
     "name": "stdout",
     "output_type": "stream",
     "text": [
      "Average department revenue for Danon: 700000\n"
     ]
    }
   ],
   "source": [
    "class DepartmentReport():\n",
    "    \n",
    "    def __init__(self,company_name):\n",
    "        self.revenues = []\n",
    "        self.company_name = company_name\n",
    "    \n",
    "    # creating method\n",
    "    def add_revenue(self,amount):\n",
    "        self.revenues.append(amount)\n",
    "    \n",
    "    def average_revenue(self):\n",
    "        average_revenue = round(sum(self.revenues) / len(self.revenues))\n",
    "        return (f'Average department revenue for {str(self.company_name)}: {str(average_revenue)}')\n",
    "        \n",
    "report = DepartmentReport(\"Danon\")\n",
    "report.add_revenue(1_000_000)\n",
    "report.add_revenue(400_000)\n",
    "print(report.average_revenue())"
   ]
  },
  {
   "cell_type": "markdown",
   "metadata": {},
   "source": [
    "### 14.7. Обобщение\n",
    "Мы рассмотрели базовый синтаксис классов и синтаксис создания объектов. Давайте вспомним некоторые важные моменты:\n",
    "\n",
    "- атрибут объекта — это просто его переменная;\n",
    "- метод объекта — это его функция;\n",
    "- метод объекта автоматически получает первым аргументом сам объект под именем self;\n",
    "- класс описывает объект через его атрибуты и методы;\n",
    "- мы можем создавать множество экземпляров одного класса, и значения их атрибутов независимы друг от друга;\n",
    "- если определить метод __ init __, то он будет выполняться при создании объекта;\n",
    "- всё это позволяет компактно увязывать данные и логику внутри объекта.  \n",
    "\n",
    "Для того чтобы продемонстрировать, что мы имеем в виду под компактностью, давайте добавим ещё метрик в отчёт. Пусть теперь мы хотим получать средний размер сделки и список клиентов, из которого исключены повторения (в случае, если компания заключала несколько сделок с одним и тем же клиентом)."
   ]
  },
  {
   "cell_type": "code",
   "execution_count": 23,
   "metadata": {},
   "outputs": [
    {
     "name": "stdout",
     "output_type": "stream",
     "text": [
      "Employee:  Ivan Semenov\n",
      "Total sales: 390000\n",
      "Average sales: 130000.0\n",
      "Companies: ['PepsiCo', 'SkyEng']\n"
     ]
    }
   ],
   "source": [
    "class SalesReport():  \n",
    "    def __init__(self, employee_name):  \n",
    "        self.deals = []  \n",
    "        self.employee_name = employee_name  \n",
    "      \n",
    "    def add_deal(self, company, amount):   \n",
    "        self.deals.append({'company': company, 'amount': amount})  \n",
    "          \n",
    "    def total_amount(self):  \n",
    "        return sum([deal['amount'] for deal in self.deals])  \n",
    "      \n",
    "    def average_deal(self):  \n",
    "        return self.total_amount()/len(self.deals)  \n",
    "      \n",
    "    def all_companies(self):  \n",
    "        return list(set([deal['company'] for deal in self.deals]))  \n",
    "      \n",
    "    def print_report(self):  \n",
    "        print(\"Employee: \", self.employee_name)  \n",
    "        print(\"Total sales:\", self.total_amount())  \n",
    "        print(\"Average sales:\", self.average_deal())  \n",
    "        print(\"Companies:\", self.all_companies())  \n",
    "      \n",
    "      \n",
    "report = SalesReport(\"Ivan Semenov\")  \n",
    "  \n",
    "report.add_deal(\"PepsiCo\", 120_000)  \n",
    "report.add_deal(\"SkyEng\", 250_000)  \n",
    "report.add_deal(\"PepsiCo\", 20_000)  \n",
    "  \n",
    "report.print_report()  "
   ]
  },
  {
   "cell_type": "markdown",
   "metadata": {},
   "source": [
    "Мы расширили отчёт, но внешний код использования классов не увеличился. Отчёт, который мы вывели, достаточно простой, но можно автоматически генерировать презентацию с данными и графиками в pdf, при этом внешний интерфейс не менялся бы. Мы просто передаём данные на вход и на выходе получаем отчёт."
   ]
  },
  {
   "cell_type": "markdown",
   "metadata": {},
   "source": [
    "### Задание 14.7.1\n",
    "Выберите корректные утверждения:  \n",
    "\n",
    "Ответ:  \n",
    "- Атрибут - это переменная для объекта\n",
    "- Метод определяется внутри определения класса\n",
    "\n",
    "\n"
   ]
  },
  {
   "cell_type": "markdown",
   "metadata": {},
   "source": [
    "### Задание 14.7.2\n",
    "Выберите корректное определение класса и его методов:  \n",
    "\n",
    "Ответ: #3"
   ]
  },
  {
   "cell_type": "code",
   "execution_count": 1,
   "metadata": {},
   "outputs": [],
   "source": [
    "class Album():\n",
    "    def __init__(self, artist, name):\n",
    "        self.artist = artist\n",
    "        self.name = name\n",
    "  "
   ]
  },
  {
   "cell_type": "markdown",
   "metadata": {},
   "source": [
    "### 14.9. Отслеживание состояния\n",
    "Одно из классических предписаний для классов: когда у нас много объектов, у каждого из них есть некоторые меняющиеся состояния. Вернёмся к примеру: у нас есть база клиентов с основной информацией; в реальном времени нам приходит информация о покупках. Запустим промокампанию, чтобы поощрить старых клиентов, которые сделали у нас много заказов, и выдать им скидку:"
   ]
  },
  {
   "cell_type": "code",
   "execution_count": 1,
   "metadata": {},
   "outputs": [
    {
     "name": "stdout",
     "output_type": "stream",
     "text": [
      "Order price for max@gmail.com is 100\n",
      "Order price for lova@yandex.ru is 180.0\n",
      "Order price for german@sberbank.ru is 500\n",
      "Order price for german@sberbank.ru is 450.0\n"
     ]
    }
   ],
   "source": [
    "class Client():  \n",
    "    # Базовые данные  \n",
    "    def __init__(self, email, order_num, registration_year):  \n",
    "        self.email = email  \n",
    "        self.order_num = order_num  \n",
    "        self.registration_year = registration_year  \n",
    "        self.discount = 0  \n",
    "          \n",
    "    # Оформление заказа  \n",
    "    def make_order(self, price):  \n",
    "        self.update_discount()  \n",
    "        self.order_num += 1  \n",
    "        # Здесь было бы оформления заказа, но мы просто выведем его цену  \n",
    "        discounted_price = price * (1 - self.discount)   \n",
    "        print(f\"Order price for {self.email} is {discounted_price}\")  \n",
    "              \n",
    "    # Назначение скидки  \n",
    "    def update_discount(self):   \n",
    "        if self.registration_year < 2018 and self.order_num >= 5:  \n",
    "            self.discount = 0.1   \n",
    "              \n",
    "  \n",
    "# Применение  \n",
    "          \n",
    "# Сделаем подобие базы  \n",
    "client_db = [   \n",
    "    Client(\"max@gmail.com\", 2, 2019),  \n",
    "    Client(\"lova@yandex.ru\", 10, 2015),  \n",
    "    Client(\"german@sberbank.ru\", 4, 2017)  \n",
    "]  \n",
    "  \n",
    "  \n",
    "# Сгенерируем заказы  \n",
    "client_db[0].make_order(100)  \n",
    "# => Order price for max@gmail.com is 100  \n",
    "  \n",
    "client_db[1].make_order(200)  \n",
    "# => Order price for lova@yandex.ru is 180.0  \n",
    "  \n",
    "client_db[2].make_order(500)  \n",
    "# => Order price for german@sberbank.ru is 500  \n",
    "  \n",
    "client_db[2].make_order(500)  \n",
    "# => Order price for german@sberbank.ru is 450.0  "
   ]
  },
  {
   "cell_type": "markdown",
   "metadata": {},
   "source": [
    "**Два важных момента:**\n",
    "\n",
    "- у нас получился простой интерфейс, с функциями нам пришлось бы передавать много параметров или делать вложенный словарь;  \n",
    "- в классах хорошо реализуется скрытая логика и естественное сохранение состояний; в примере на 2-ом и 4-ом заказах автоматически появилась скидка."
   ]
  },
  {
   "cell_type": "markdown",
   "metadata": {},
   "source": [
    "### Задание 14.9\n",
    "Определите класс для пользователей User:  \n",
    "\n",
    "у него должны быть атрибуты email, password и balance, которые устанавливаются при инициализии;  \n",
    "у него должен быть метод login, который принимает емейл и пароль, если они совпадают с атрибутами объекта, он возвращает True, а иначе False;  \n",
    "должен быть метод update_balance(amount), который изменяет баланс счёта на величину amount.  \n",
    "В случае правильного описания класса код, приведённый ниже, должен выдать следующий результат:  \n",
    "\n",
    "_user = User(\"gosha@roskino.org\", \"qwerty\", 20_000)   \n",
    "user.login(\"gosha@roskino.org\", \"qwerty123\")  \n",
    "=> False  \n",
    "user.login(\"gosha@roskino.org\", \"qwerty\")  \n",
    "=> True  \n",
    "user.update_balance(200)  \n",
    "user.update_balance(-500)  \n",
    "print(user.balance) \n",
    "=> 19700_"
   ]
  },
  {
   "cell_type": "code",
   "execution_count": 4,
   "metadata": {},
   "outputs": [],
   "source": [
    "class User():\n",
    "    def __init__(self,email,password,balance):\n",
    "        self.email = email\n",
    "        self.password = password\n",
    "        self.balance = balance\n",
    "        \n",
    "    def login(self,email,password):\n",
    "        return self.password == password and self.email == email\n",
    "    \n",
    "    def update_balance(self,amount):\n",
    "        self.balance += amount"
   ]
  },
  {
   "cell_type": "code",
   "execution_count": 7,
   "metadata": {},
   "outputs": [
    {
     "data": {
      "text/plain": [
       "False"
      ]
     },
     "execution_count": 7,
     "metadata": {},
     "output_type": "execute_result"
    }
   ],
   "source": [
    "user = User(\"gosha@roskino.org\", \"qwerty\", 20_000)\n",
    "user.login(\"gosha@roskino.org\", \"qwerty123\")"
   ]
  },
  {
   "cell_type": "code",
   "execution_count": 8,
   "metadata": {},
   "outputs": [
    {
     "data": {
      "text/plain": [
       "True"
      ]
     },
     "execution_count": 8,
     "metadata": {},
     "output_type": "execute_result"
    }
   ],
   "source": [
    "user.login(\"gosha@roskino.org\", \"qwerty\")"
   ]
  },
  {
   "cell_type": "code",
   "execution_count": 9,
   "metadata": {},
   "outputs": [
    {
     "name": "stdout",
     "output_type": "stream",
     "text": [
      "19700\n"
     ]
    }
   ],
   "source": [
    "user.update_balance(200)\n",
    "user.update_balance(-500)\n",
    "print(user.balance)"
   ]
  },
  {
   "cell_type": "markdown",
   "metadata": {},
   "source": [
    "### 14.10. Комбинация операций\n",
    "Классы могут пригодиться, если вы регулярно делаете над данными одну и ту же последовательность разноплановых функций. Вы можете упаковать их в класс и в дальнейшем сразу получать результат по загруженным данным.\n",
    "\n",
    "У нас есть численные данные из разных источников, если они в виде строк, то нужно привести их к числам, а пропуски — заполнить значениями. Сделаем доступ к медиане, среднему значению и стандартному отклонению:"
   ]
  },
  {
   "cell_type": "code",
   "execution_count": 10,
   "metadata": {},
   "outputs": [
    {
     "name": "stdout",
     "output_type": "stream",
     "text": [
      "[1.0, 17.0, 4.0, 0.0, 8.0]\n",
      "6.892024376045111\n",
      "4.0\n"
     ]
    }
   ],
   "source": [
    "import statistics  \n",
    "  \n",
    "class DataFrame():  \n",
    "    def __init__(self, column, fill_value=0):  \n",
    "        # Инициализируем атрибуты  \n",
    "        self.column = column  \n",
    "        self.fill_value = fill_value  \n",
    "        # Заполним пропуски  \n",
    "        self.fill_missed()  \n",
    "        # Конвертируем все элементы в числа  \n",
    "        self.to_float()  \n",
    "          \n",
    "    def fill_missed(self):  \n",
    "        for i, value in enumerate(self.column):  \n",
    "            if value is None or value == '':  \n",
    "                self.column[i] = self.fill_value  \n",
    "                  \n",
    "    def to_float(self):  \n",
    "        self.column = [float(value) for value in self.column]  \n",
    "      \n",
    "    def median(self):  \n",
    "        return statistics.median(self.column)  \n",
    "      \n",
    "    def mean(self):  \n",
    "        return statistics.mean(self.column)  \n",
    "      \n",
    "    def deviation(self):  \n",
    "        return statistics.stdev(self.column)  \n",
    "      \n",
    "  \n",
    "      \n",
    "# Воспользуемся классом  \n",
    "df = DataFrame([\"1\", 17, 4, None, 8])  \n",
    "  \n",
    "print(df.column)  \n",
    "# => [1.0, 17.0, 4.0, 0.0, 8.0]  \n",
    "print(df.deviation())  \n",
    "# => 6.89  \n",
    "print(df.median())  \n",
    "# => 4.0  \n",
    " "
   ]
  },
  {
   "cell_type": "markdown",
   "metadata": {},
   "source": [
    "Мы получили очень лаконичный интерфейс для использования класса. В __init__ мы использовали значение по умолчанию для fill_value, методы позволяют нам определять необязательные параметры."
   ]
  },
  {
   "cell_type": "markdown",
   "metadata": {},
   "source": [
    "### Задание 14.10\n",
    "Определите класс IntDataFrame, который принимает список и все числа в этом списке приводит к целым значениям. После этого у него доступен метод count, который считает количество ненулевых элементов; и метод unique, который возвращает число уникальных элементов.\n",
    "\n",
    "В случае правильного описания класса код, приведённый ниже, должен выдать следующий результат:  \n",
    "\n",
    "_df = IntDataFrame([4.7, 4, 3, 0, 2.4, 0.3, 4])  \n",
    "df.count()  \n",
    "=> 5  \n",
    "df.unique()  \n",
    "=> 4_"
   ]
  },
  {
   "cell_type": "code",
   "execution_count": 11,
   "metadata": {},
   "outputs": [],
   "source": [
    "class IntDataFrame():\n",
    "    def __init__(self, row):\n",
    "        self.row = [int(x) for x in row]\n",
    "        \n",
    "    def count(self):\n",
    "        return len([x  for x in self.row if x !=0])\n",
    "    \n",
    "    def unique(self):\n",
    "        return len(set(self.row))"
   ]
  },
  {
   "cell_type": "code",
   "execution_count": 13,
   "metadata": {},
   "outputs": [
    {
     "data": {
      "text/plain": [
       "(5, 4)"
      ]
     },
     "execution_count": 13,
     "metadata": {},
     "output_type": "execute_result"
    }
   ],
   "source": [
    "df = IntDataFrame([4.7, 4, 3, 0, 2.4, 0.3, 4])  \n",
    "df.count(), df.unique()  \n"
   ]
  },
  {
   "cell_type": "code",
   "execution_count": null,
   "metadata": {},
   "outputs": [],
   "source": []
  }
 ],
 "metadata": {
  "kernelspec": {
   "display_name": "Python 3",
   "language": "python",
   "name": "python3"
  },
  "language_info": {
   "codemirror_mode": {
    "name": "ipython",
    "version": 3
   },
   "file_extension": ".py",
   "mimetype": "text/x-python",
   "name": "python",
   "nbconvert_exporter": "python",
   "pygments_lexer": "ipython3",
   "version": "3.8.3"
  }
 },
 "nbformat": 4,
 "nbformat_minor": 4
}
