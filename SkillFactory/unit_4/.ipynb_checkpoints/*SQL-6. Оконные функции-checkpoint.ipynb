{
 "cells": [
  {
   "cell_type": "markdown",
   "metadata": {},
   "source": [
    "# Оконные функции\n",
    "## Юнит 5. РАБОТА С БАЗАМИ ДАННЫХ. SQL\n",
    "### Skillfactory: DSPR-19"
   ]
  },
  {
   "cell_type": "markdown",
   "metadata": {},
   "source": [
    "### 6.1. Что такое оконные функции?"
   ]
  },
  {
   "cell_type": "markdown",
   "metadata": {},
   "source": [
    "Оконная функция выполняет вычисления для набора строк, некоторым образом связанных с текущей строкой. Можно сравнить её с агрегатной функцией, но у них есть различия: при использовании оконной функции несколько строк не группируются в одну, а продолжают существовать раздельно. А внутри оконная функция, как и агрегатная, может обращаться не только к текущей строке результата запроса.\n",
    "\n",
    "Пример  \n",
    "Давайте на простом примере посмотрим, как это работает. Следующий запрос вам уже знаком: он считает общую массу грузов доставленных по городам. Для вычисления используется агрегатная функция sum."
   ]
  },
  {
   "cell_type": "code",
   "execution_count": null,
   "metadata": {},
   "outputs": [],
   "source": [
    "select \n",
    "        c.city_name,\n",
    "        sum(s.weight) city_weight\n",
    "from \n",
    "        shipping.shipment s\n",
    "        join shipping.city c on s.city_id = c.city_id\n",
    "group by 1\n",
    "order by 2 desc"
   ]
  },
  {
   "cell_type": "markdown",
   "metadata": {},
   "source": [
    "Предположим, нам захотелось посчитать, каков вклад каждой доставки в общую массу доставок в город, то есть отношение массы конкретной доставки к массе всех доставок в городе.\n",
    "\n",
    "Решим эту задачу с использованием уже знакомых нам функций."
   ]
  },
  {
   "cell_type": "code",
   "execution_count": null,
   "metadata": {},
   "outputs": [],
   "source": [
    "with city_weight as \n",
    "(\n",
    "        select \n",
    "            c.city_id,\n",
    "            sum(s.weight) city_weight\n",
    "        from shipping.shipment s\n",
    "        join shipping.city c on s.city_id = c.city_id\n",
    "        group by 1\n",
    ")\n",
    "select s.ship_id,s.weight/w.city_weight ratio\n",
    "from shipping.shipment  s\n",
    "join city_weight  w on s.city_id = w.city_id\n",
    "order by 2 desc"
   ]
  },
  {
   "cell_type": "markdown",
   "metadata": {},
   "source": [
    "Что мы сделали? Сначала агрегатной функцией в подзапросе мы посчитали общую массу доставок в городе, затем посчитали отношение для каждой строки.\n",
    "\n",
    "Но задачу можно решить в один запрос, используя оконные функции."
   ]
  },
  {
   "cell_type": "code",
   "execution_count": null,
   "metadata": {},
   "outputs": [],
   "source": [
    "select \n",
    "        s.ship_id,\n",
    "        s.weight/sum(s.weight) over(partition by s.city_id) ratio\n",
    "from shipping.shipment  s\n",
    "order by 2 desc"
   ]
  },
  {
   "cell_type": "markdown",
   "metadata": {},
   "source": [
    "Чтобы посчитать массу всех доставок в городе, мы использовали выражение"
   ]
  },
  {
   "cell_type": "code",
   "execution_count": null,
   "metadata": {},
   "outputs": [],
   "source": [
    "sum(s.weight) over(partition by s.city_id)"
   ]
  },
  {
   "cell_type": "markdown",
   "metadata": {},
   "source": [
    "Синтаксис\n",
    "Разберемся с  синтаксисом. Сначала идет оконная функция sum, далее в скобках — значение, к которому она применяется, далее в выражении over указывается то, к каким строкам и по каким правилам она будет применяться. В нашем случае оконная функция применяется ко всем строкам, в разбивке по s.city_id, т. е. по каждому городу. Разделив массу каждой доставки на сумму масс в городе, мы и получим нужную нам величину.\n",
    "\n",
    "В общем виде синтаксис можно описать следующим образом.\n",
    "\n",
    "имя_функции (выражение) [ FILTER ( WHERE условие_фильтра ) ] OVER ( определение_окна ).\n",
    "\n",
    "FILTER ( WHERE условие_фильтра ) работает так же, как и where в обычном запросе, но фильтрация происходит только для вычисления оконной функции, т. е. количество выведенных строк не изменится, а поменяется лишь значение вычисляемой функции.\n",
    "\n",
    "Вызов оконной функции всегда содержит предложение OVER, следующее за названием и аргументами оконной функции. Это синтаксически отличает её от обычной или агрегатной функции. Предложение OVER определяет, как именно нужно разделить строки запроса для обработки оконной функцией.\n",
    "\n",
    "Предложение PARTITION BY, дополняющее OVER, указывает, что строки нужно разделить по группам или разделам, объединяя одинаковые значения выражений PARTITION BY. Оконная функция вычисляется по строкам, попадающим в один раздел с текущей строкой.  \n",
    "\n",
    "### 6.2. Функции row_number, rank, dense_rank\n",
    "Функции row_number, rank, dense_rank созданы для нумерации и ранжирования данных в таблицах.\n",
    "\n",
    "Давайте решим задачу нумерации названий городов. Предположим, у нас нет идентификатора city_id и мы хотим его завести. Как мы уже знаем, в справочнике есть одноименные города, и функции row_number, rank и dense_rank ведут себя по-разному.\n",
    "\n",
    "Выполните запрос в Metabase и посмотрите на результат.\n",
    "\n"
   ]
  },
  {
   "cell_type": "code",
   "execution_count": null,
   "metadata": {},
   "outputs": [],
   "source": [
    "select \n",
    "        c.city_name,\n",
    "        c.state,\n",
    "        row_number()over (),\n",
    "        rank()over (),\n",
    "        dense_rank() over()\n",
    "from shipping.city c\n",
    "order by 1"
   ]
  },
  {
   "cell_type": "markdown",
   "metadata": {},
   "source": [
    "В данном запросе не указано предложение OVER, то есть мы не разбиваем строки на группы и никак их не сортируем. В таком случае row_number вернет нам какие-то случайные неповторяющиеся значения, причем от выполнения к выполнению у нас могут отличаться значения функции для конкретного города. rank и dense_rank в таком случае вернут 1, т. к. в запросе не указано, по какому полю ранжировать.\n",
    "\n",
    "Давайте добавим поле, по которому ранжировать. Для этого в предложении OVER нам нужно указать ORDER BY <набор значений, по которому будем фильтровать>.\n",
    "\n"
   ]
  },
  {
   "cell_type": "code",
   "execution_count": null,
   "metadata": {},
   "outputs": [],
   "source": [
    "select \n",
    "        c.city_name,\n",
    "        c.state,\n",
    "        row_number()over (order by c.city_name),\n",
    "        rank()over (order by c.city_name),\n",
    "        dense_rank() over(order by c.city_name)\n",
    "from shipping.city c\n",
    "order by 1"
   ]
  },
  {
   "cell_type": "markdown",
   "metadata": {},
   "source": [
    "Выполнив такой запрос в Metabase, мы увидим, что row_number начинается с 1 и соответствует номеру строки в запросе, то есть возрастает с шагом 1 в сортировке по имени. Но и тут мы можем получить разные значения для разных вызовов одного и того же запроса, поскольку у нас нет сортировки по штату.\n",
    "\n",
    "Давайте ее добавим, указав через запятую в конструкции OVER (order by) название штата. Также можно добавлять ключевые слова asc/desc для указания порядка сортировки."
   ]
  },
  {
   "cell_type": "code",
   "execution_count": null,
   "metadata": {},
   "outputs": [],
   "source": [
    "select \n",
    "        c.city_name,\n",
    "        c.state,\n",
    "        row_number()over (order by c.city_name, c.state)\n",
    "from shipping.city c\n",
    "order by 1"
   ]
  },
  {
   "cell_type": "markdown",
   "metadata": {},
   "source": [
    "Значение функции dense_rank тоже возрастает с шагом 1, но для одинаковых значений имени города он совпадает и результат будет одинаковым при каждом вызове. Rank также возрастает с шагом 1, если значения уникальны, но в случае повторяющихся значений шаг увеличивается на количество совпадающих значений. Для обоих городов Albany мы видим одинаковое значение \"4\", но для следующего Albuquerque уже значение \"6\", так как Albany встретилось 2 раза.  Если повторений больше, то и шаг становится больше. Промотайте результат выполнения до городов Lakewood и увидите прирост в значении на 4, потому что в справочнике целых четыре города с названием Lakewood.\n",
    "\n",
    "Теперь попробуем разбить нашу алфавитную нумерацию по группам — для каждого штата по отдельности. Для этого в предложение OVER необходимо добавить partition by <набор полей>. По механике это похоже на работу с group by, то есть выделенный набор полей определяет группу строк с одинаковыми значениями этих полей, и все вычисления выполняются в каждой группе отдельно."
   ]
  },
  {
   "cell_type": "code",
   "execution_count": null,
   "metadata": {},
   "outputs": [],
   "source": [
    "select \n",
    "        c.city_name,\n",
    "        c.state,\n",
    "        row_number() over (partition by c.state order by c.city_name),\n",
    "        rank() over (partition by c.state order by c.city_name),\n",
    "        dense_rank() over (partition by c.state order by c.city_name)\n",
    "from shipping.city c\n",
    "order by c.state,c.city_name"
   ]
  },
  {
   "cell_type": "markdown",
   "metadata": {},
   "source": [
    "Так как у нас внутри одного штата нет одноименных городов, то и значения rank,dense_rank и row_number совпадают. \n",
    "\n",
    "Оконные функции можно писать только в разделах SELECT и ORDER BY, при этом нельзя вызвать оконную функцию от оконной функции. При необходимости более сложной логики используйте подзапросы. Оконные функции сочетаются с известными нам подзапросами, математическими, строковыми и другими функциями, кроме агрегатных."
   ]
  },
  {
   "cell_type": "markdown",
   "metadata": {},
   "source": [
    "### Задание 6.2.1\n",
    "Проранжируйте уникальными числами имена клиентов в порядке обратном алфавитному, а затем отсортируйте запрос по столбцу с номером по возрастанию. Столбцы в выдаче:\n",
    "\n",
    "cust_id — id клиента  \n",
    "cust_name — имя клиента  \n",
    "num — порядковый номер  \n",
    "\n",
    "(Не забывайте перед отправкой кода проверять его работоспособность и соответствие условиям в Metabase!)"
   ]
  },
  {
   "cell_type": "code",
   "execution_count": null,
   "metadata": {},
   "outputs": [],
   "source": [
    "select\n",
    "    c.cust_id,\n",
    "    c.cust_name,\n",
    "    row_number() over( order by c.cust_name desc) num\n",
    "from\n",
    "    shipping.customer c"
   ]
  },
  {
   "cell_type": "markdown",
   "metadata": {},
   "source": [
    "### Задание 6.2.2\n",
    "Предположим, вы хотите устроить акцию и вернуть бонусами деньги за доставку трех самых тяжелых грузов для каждого клиента. Напишите запрос, который отранжирует все заказы для каждого клиента по массе груза по убыванию, и выберите 3 самых тяжелых из них. Сортировка по cust_id, а затем по столбцу с номером по возрастанию. Столбцы в выдаче:\n",
    "\n",
    "cust_id  \n",
    "ship_id  \n",
    "weight  \n",
    "weight_number (row_number для заказа по массе по клиенту)  \n",
    "\n",
    "(Не забывайте перед отправкой кода проверять его работоспособность и соответствие условиям в Metabase!)"
   ]
  },
  {
   "cell_type": "code",
   "execution_count": null,
   "metadata": {},
   "outputs": [],
   "source": [
    "select\n",
    "    *\n",
    "from\n",
    "    (select\n",
    "        s.cust_id,\n",
    "        s.ship_id,\n",
    "        s.weight,\n",
    "        row_number() over ( partition by s.cust_id  order by s.weight desc ) r\n",
    "    from\n",
    "        shipping.shipment s\n",
    "    ) x\n",
    "where\n",
    "    x.r <=3"
   ]
  },
  {
   "cell_type": "markdown",
   "metadata": {},
   "source": [
    "### 6.3. Конструкция window\n",
    "Давайте вернемся к нашему запросу:\n",
    "\n"
   ]
  },
  {
   "cell_type": "code",
   "execution_count": null,
   "metadata": {},
   "outputs": [],
   "source": [
    "select \n",
    "        c.city_name,\n",
    "        c.state,\n",
    "        row_number() over ( partition by c.state order by c.city_name),\n",
    "        rank() over ( partition by c.state order by c.city_name),\n",
    "        dense_rank() over ( partition by c.state order by c.city_name)\n",
    "from shipping.city c\n",
    "order by c.state,c.city_name\n"
   ]
  },
  {
   "cell_type": "markdown",
   "metadata": {},
   "source": [
    "Как мы видим, предложение OVER одинаковое для всех функций, но мы можем менять их, и они не будут влиять на результаты других функций. "
   ]
  },
  {
   "cell_type": "code",
   "execution_count": null,
   "metadata": {},
   "outputs": [],
   "source": [
    "select \n",
    "    c.city_name,\n",
    "        c.state,\n",
    "        row_number() over ( order by c.city_name),\n",
    "        rank() over ( partition by c.state ),\n",
    "        dense_rank() over ( partition by c.state order by c.city_name desc)\n",
    "from shipping.city c\n",
    "order by c.state,c.city_name"
   ]
  },
  {
   "cell_type": "markdown",
   "metadata": {},
   "source": [
    "Запрос выше содержит совсем разное определение «окон»: это очень удобно, если вы хотите посчитать несколько значений по различной логике. Например, следующий запрос выводит первый и последний по алфавиту город:"
   ]
  },
  {
   "cell_type": "code",
   "execution_count": null,
   "metadata": {},
   "outputs": [],
   "source": [
    "with rownums as \n",
    "(\n",
    "select \n",
    "        c.city_name,\n",
    "        row_number()over ( order by c.city_name) ascending,\n",
    "        row_number()over ( order by c.city_name desc) descending\n",
    "from shipping.city c\n",
    "order by c.city_name\n",
    ")\n",
    "select \n",
    "        r.city_name\n",
    "from \n",
    "        rownums r \n",
    "where \n",
    "        r.ascending = 1 or r.descending = 1"
   ]
  },
  {
   "cell_type": "markdown",
   "metadata": {},
   "source": [
    "Если у нас повторяется определение окна, при внесении изменений совсем не хочется менять каждую строчку запроса. Для этого существует конструкция, позволяющая задать описание окна один раз и использовать его в нескольких оконных функциях:"
   ]
  },
  {
   "cell_type": "code",
   "execution_count": null,
   "metadata": {},
   "outputs": [],
   "source": [
    "select \n",
    "        c.city_name,\n",
    "        c.state,\n",
    "        row_number() over my_window,\n",
    "        rank()over my_window,\n",
    "        dense_rank() over my_window\n",
    "from shipping.city c\n",
    "window my_window as ( partition by c.state order by c.city_name)\n",
    "order by c.state,c.city_name"
   ]
  },
  {
   "cell_type": "markdown",
   "metadata": {},
   "source": [
    "Конструкция window <имя окна> as <определение окна> серьезно упрощает работу с большим числом оконных функций. Окна, как и подзапросы в конструкции перечисляются через запятую, например:"
   ]
  },
  {
   "cell_type": "code",
   "execution_count": null,
   "metadata": {},
   "outputs": [],
   "source": [
    "select \n",
    "        c.city_name,\n",
    "        c.state,\n",
    "        row_number() over my_window,\n",
    "        rank()over my_window,\n",
    "        dense_rank() over my_window1\n",
    "from shipping.city c\n",
    "window my_window as ( partition by c.state order by c.city_name),\n",
    " my_window1 as ( partition by c.state order by c.city_name desc)\n",
    "order by c.state,c.city_name"
   ]
  },
  {
   "cell_type": "markdown",
   "metadata": {},
   "source": [
    "### Задание 6.3.1\n",
    "Давайте попрактикуемся в использовании общего окна для нескольких функций. Выведите результат ранжирования клиентов по годовой выручке по убыванию функциями row_number, rank, dense_rank, используя общее окно. Столбцы в выдаче:\n",
    "\n",
    "cust_name  \n",
    "row_number  \n",
    "rank  \n",
    "dense_rank  \n",
    "annual_revenue  \n",
    "\n",
    "Сортировка по annual_revenue по убыванию.\n",
    "\n",
    "(Не забывайте перед отправкой кода проверять его работоспособность и соответствие условиям в Metabase!)"
   ]
  },
  {
   "cell_type": "code",
   "execution_count": null,
   "metadata": {},
   "outputs": [],
   "source": [
    "select\n",
    "    c.cust_name,\n",
    "    row_number() over wind,\n",
    "    rank() over wind,\n",
    "    dense_rank() over wind,\n",
    "    c.annual_revenue\n",
    "from\n",
    "    shipping.customer c\n",
    "window wind as (order by c.annual_revenue desc)"
   ]
  },
  {
   "cell_type": "markdown",
   "metadata": {},
   "source": [
    "### 6.4. Агрегаты в оконных функциях\n",
    "Функции min, max, avg, sum, count, которые мы изучали в предыдущих разделах, могут быть реализованы в оконной интерпретации: поле группировки нужно указать не в group by, а в partition by. \n",
    "\n",
    "Главное отличие — они будут считаться для каждой строки, а поле, по которму идет группировка, не будет уникальным, если не использовать distinct.\n",
    "\n",
    "Вот так выглядит запрос с агрегатной функцией:"
   ]
  },
  {
   "cell_type": "code",
   "execution_count": null,
   "metadata": {},
   "outputs": [],
   "source": [
    "select \n",
    "    date_trunc('month', s.ship_date) mn,\n",
    "    count(*) qty\n",
    "from shipping.shipment s\n",
    "group by 1\n",
    "order by 1"
   ]
  },
  {
   "cell_type": "markdown",
   "metadata": {},
   "source": [
    "А вот ровно тот же запрос, написанный с использованием оконной функции count. Попробуйте выполнить его в Metabase, уберите distinct и убедитесь, что данные не «схлопнуты»."
   ]
  },
  {
   "cell_type": "code",
   "execution_count": null,
   "metadata": {},
   "outputs": [],
   "source": [
    "select distinct \n",
    "    date_trunc('month', s.ship_date) mn,\n",
    "    count(*) over (partition by date_trunc('month', s.ship_date))qty\n",
    "from shipping.shipment s\n",
    "order by 1"
   ]
  },
  {
   "cell_type": "markdown",
   "metadata": {},
   "source": [
    "Сама по себе функция distinct достаточно тяжеловесная, поэтому используйте оконные функции вместо агрегатных только в том случае, если у вас помимо агрегата используются другие оконные функции. \n",
    "\n",
    "Например, вам нужно взять первый и последний месяц и сравнить их. Можно написать два подзапроса и использовать UNION, а можно посчитать два dense_rank по убыванию и возрастанию и посчитать количество доставок:"
   ]
  },
  {
   "cell_type": "code",
   "execution_count": null,
   "metadata": {},
   "outputs": [],
   "source": [
    "select \n",
    "t.mn,\n",
    "t.qty\n",
    "from \n",
    "(\n",
    "select distinct \n",
    "date_trunc('month', s.ship_date) mn,\n",
    "count(s.ship_id) over (partition by date_trunc('month', s.ship_date))qty,\n",
    "    dense_rank() over (order by date_trunc('month', s.ship_date)) ascend,\n",
    "        dense_rank() over (order by date_trunc('month', s.ship_date) desc) descend\n",
    "    from shipping.shipment s\n",
    "    order by 1\n",
    "    ) t \n",
    "where t.ascend = 1 or t.descend = 1"
   ]
  },
  {
   "cell_type": "markdown",
   "metadata": {},
   "source": [
    "### Задание 6.4.1\n",
    "Представим, что мы хотим оценить и сравнить самых «богатых» и самых «бедных» клиентов по выручке. Напишите запрос, который выведет трех лидеров и трех аутсайдеров по выручке, их количество доставок и средний вес доставки. Столбцы в выдаче:\n",
    "\n",
    "cust_name — имя клиента  \n",
    "annual_revenue — годовая выручка  \n",
    "ship_qty — количество доставок на клиента  \n",
    "avg_weight — средний вес доставки  \n",
    "\n",
    "Сортировка по annual_revenue по убыванию.\n",
    "\n",
    "(Не забывайте перед отправкой кода проверять его работоспособность и соответствие условиям в Metabase!)"
   ]
  },
  {
   "cell_type": "code",
   "execution_count": null,
   "metadata": {},
   "outputs": [],
   "source": [
    "# не приняло платформой\n",
    "\n",
    "with a as (select\n",
    "    c.cust_id,\n",
    "    c.cust_name,\n",
    "    c.annual_revenue,\n",
    "    row_number()over(order by c.annual_revenue desc) desceding\n",
    "from\n",
    "    shipping.customer c\n",
    "order by annual_revenue),\n",
    "\n",
    "maxx as (\n",
    "    select\n",
    "    a.cust_id,\n",
    "    a.cust_name,\n",
    "    a.annual_revenue,\n",
    "    count(s.cust_id),\n",
    "    avg(s.weight)\n",
    "from\n",
    "    a left join shipping.shipment s on a.cust_id = s.cust_id\n",
    "group by 1,2,3,a.asceding\n",
    "order by a.asceding \n",
    "limit 3),\n",
    "\n",
    "minn as (\n",
    "select\n",
    "    a.cust_id,\n",
    "    a.cust_name,\n",
    "    a.annual_revenue,\n",
    "    count(s.cust_id),\n",
    "    avg(s.weight)\n",
    "from\n",
    "    a left join shipping.shipment s on a.cust_id = s.cust_id\n",
    "group by 1,2,3,a.desceding\n",
    "order by a.desceding  \n",
    "limit 3)\n",
    "\n",
    "select\n",
    "    *\n",
    "from\n",
    "    maxx\n",
    "union all\n",
    "select\n",
    "    *\n",
    "from\n",
    "    minn\n"
   ]
  },
  {
   "cell_type": "markdown",
   "metadata": {},
   "source": [
    "**Накопленные значения**  \n",
    "Помимо удобства сочетания разных функций и сложной логики, оконные агрегатные функции позволяют просто считать накопительные и плавающие метрики, так как в предложении OVER есть возможность сортировки. Давайте посмотрим, как это работает. Выполните запрос в Metabase и посмотрите на результат. Как мы видим, результатом стало кумулятивное число доставок по месяцам. Попробуйте убрать order by из over, и вы получите одинаковое общее число доставок за все месяцы в каждой строке."
   ]
  },
  {
   "cell_type": "code",
   "execution_count": null,
   "metadata": {},
   "outputs": [],
   "source": [
    "select \n",
    "    distinct \n",
    "        date_trunc('month',ship_date) mn,\n",
    "        count(*) over (order by date_trunc('month',ship_date) ) shipments_cumulative\n",
    "from shipping.shipment\n",
    "order by 1"
   ]
  },
  {
   "cell_type": "markdown",
   "metadata": {},
   "source": [
    "### 6.5. Работа с событийными логами\n",
    "\n",
    "Частый кейс применения оконных функций — работа с событийными логами. Давайте поработаем с такими данными. В схеме webevents есть таблица event_log, в которой лежат события с сайта интернет-магазина со следующими столбцами:"
   ]
  },
  {
   "cell_type": "markdown",
   "metadata": {},
   "source": [
    "Столбец         Описание  \n",
    "client_id\t    Идентификатор клиента  \n",
    "event_name\t    Тип события (view - просмотр товара, addtocart - добавление товара в корзину, transaction - заказ)  \n",
    "item_id\t        Идентификатор товара  \n",
    "order_id\t    Идентификатор заказа  \n",
    "event_datetime\tВремя события   \n",
    "\n",
    "_Посмотрите ее содержимое в Metabase._\n",
    "\n",
    " Давайте выполним простое упражнение по вычислению конверсии из события view в событие addtocart. Для этого вспомним агрегатные функции и поделим число клиентов, которые добавили товар в корзину, на число клиентов, просматривавших любой товар.\n"
   ]
  },
  {
   "cell_type": "code",
   "execution_count": null,
   "metadata": {},
   "outputs": [],
   "source": [
    "select\n",
    "    date_trunc('month',el.event_datetime) mn,\n",
    "    count(distinct case when el.event_name = 'addtocart' then el.client_id end)*1.0/\n",
    "        count(distinct case when el.event_name = 'view' then el.client_id end) conv\n",
    "from webevents.event_log el\n",
    "group by 1"
   ]
  },
  {
   "cell_type": "markdown",
   "metadata": {},
   "source": [
    "### Задание 6.5.1\n",
    "Давайте оценим конверсию из добавления в корзину в покупку. Напишите запрос, который выведет коверсию из события addtocart в transaction по дням, а также выведите общее число заказов. Столбцы в выдаче:\n",
    "\n",
    "dt — дата события  \n",
    "conv — конверсия из корзины в покупку  \n",
    "orders_cnt — количество заказов  \n",
    "\n",
    "Сортировка по дате по возрастанию. Столбец с датой необходимо привести к типу date.\n",
    "\n",
    "(Не забывайте перед отправкой кода проверять его работоспособность и соответствие условиям в Metabase!)"
   ]
  },
  {
   "cell_type": "code",
   "execution_count": null,
   "metadata": {},
   "outputs": [],
   "source": [
    "select\n",
    "date_trunc('day',el.event_datetime)::date dt,\n",
    "count(distinct case when el.event_name = 'transaction' then el.client_id end)*1.0/\n",
    "nullif(count(distinct case when el.event_name = 'addtocart' then el.client_id end),0) conv,\n",
    "count(distinct case when el.event_name = 'transaction' then el.order_id end) orders_cnt \n",
    "from webevents.event_log el\n",
    "group by 1\n",
    "order by 1"
   ]
  },
  {
   "cell_type": "markdown",
   "metadata": {},
   "source": [
    "### Задание 6.5.2\n",
    "Давайте посмотрим в динамике на соотношение событий каждого типа — обычное и накопленное. Напишите запрос, который выведет количество открытий товаров, добавлений в корзину, оформлений заказов в разбивке по месяцам, а также кумулятивно эти метрики. Столбцы в выдаче:\n",
    "\n",
    "dt — дата первого дня месяца события  \n",
    "views, carts, orders — 3 столбца, которые содержат количество событий view, addtocart, transaction соответственно в этот месяц  \n",
    "столбцы views_cumulative, carts_cumulative, orders_cumulative, в которых будут те же значения, но с накоплением  \n",
    "\n",
    "Сортировка по месяцу по убыванию. Столбец с датой необходимо привести к типу date.\n",
    "\n",
    "(Не забывайте перед отправкой кода проверять его работоспособность и соответствие условиям в Metabase!)"
   ]
  },
  {
   "cell_type": "code",
   "execution_count": null,
   "metadata": {},
   "outputs": [],
   "source": [
    "# не принимает платформой\n",
    "select\n",
    "    date_trunc('day',el.event_datetime)::date dt,\n",
    "    count(case when el.event_name = 'view' then  el.event_name end) over (wind) as view,\n",
    "    count(case when el.event_name = 'view' then  el.event_name end) over (wind_c) as view_c,\n",
    "    count(case when el.event_name = 'addtocart' then  el.event_name end) over (wind) as atc,\n",
    "    count(case when el.event_name = 'addtocart' then  el.event_name end) over (wind_c) as atc_c,\n",
    "    count(case when el.event_name = 'transaction' then  el.event_name end) over (wind) as tst,\n",
    "    count(case when el.event_name = 'transaction' then  el.event_name end) over (wind_c) as tst_c\n",
    "from \n",
    "    webevents.event_log el\n",
    "window wind as ( partition by date_trunc('day',el.event_datetime) ),\n",
    "wind_c as ( order by date_trunc('day',el.event_datetime) )\n",
    "order by 1 desc"
   ]
  },
  {
   "cell_type": "code",
   "execution_count": null,
   "metadata": {},
   "outputs": [],
   "source": [
    "# и такой не принимает\n",
    "\n",
    "select\n",
    "date_trunc('day',el.event_datetime)::date dt,\n",
    "count(case when el.event_name = 'view' then  el.event_name end) over (wind) as views,\n",
    "count(case when el.event_name = 'view' then  el.event_name end) over (wind_c) as views_cumulative,\n",
    "count(case when el.event_name = 'addtocart' then  el.event_name end) over (wind) as carts,    \n",
    "count(case when el.event_name = 'addtocart' then  el.event_name end) over (wind_c) as carts_cumulative,\n",
    "count(case when el.event_name = 'transaction' then  el.event_name end) over (wind) as orders,\n",
    "count(case when el.event_name = 'transaction' then  el.event_name end) over (wind_c) as orders_cumulative\n",
    "\n",
    "from \n",
    "    webevents.event_log el\n",
    "window wind as ( partition by date_trunc('day',el.event_datetime) ),\n",
    "wind_c as ( order by date_trunc('day',el.event_datetime) )\n",
    "order by 1 desc"
   ]
  },
  {
   "cell_type": "code",
   "execution_count": null,
   "metadata": {},
   "outputs": [],
   "source": [
    "# принимает\n",
    "select distinct\n",
    " date_trunc('month',el.event_datetime)::date dt,\n",
    "count( case when el.event_name = 'view' then el.client_id end) over pr as views,\n",
    "    count( case when el.event_name = 'addtocart' then el.client_id end) over pr carts,\n",
    "    count( case when el.event_name = 'transaction' then el.client_id end) over pr orders,\n",
    "    count((case when el.event_name = 'view' then el.client_id end)) over mn  views_cumulative,\n",
    "    count((case when el.event_name = 'addtocart' then el.client_id end)) over mn carts_cumulative,\n",
    "    count((case when el.event_name = 'transaction' then el.client_id end)) over mn orders_cumulative\n",
    "from webevents.event_log el\n",
    "window \n",
    "    mn as (order by date_trunc('month',el.event_datetime)),\n",
    "    pr as (partition by date_trunc('month',el.event_datetime))\n",
    "order by 1 desc"
   ]
  },
  {
   "cell_type": "markdown",
   "metadata": {},
   "source": [
    "### 6.6. Функции lead/lag\n",
    "Функции lead/ lag нужны для получения следующих и предыдущих значений выражения в таблице.\n",
    "\n",
    "Давайте решим задачу: найдем среднее время между заказами клиента в нашем сервисе доставок."
   ]
  },
  {
   "cell_type": "code",
   "execution_count": null,
   "metadata": {},
   "outputs": [],
   "source": [
    "with gaps as \n",
    "(\n",
    "select \n",
    "    s.cust_id,\n",
    "    lead(s.ship_date) over (partition by s.cust_id order by s.ship_date) - s.ship_date diff\n",
    "from \n",
    "    shipping.shipment s\n",
    ")\n",
    "select \n",
    "    c.cust_name,\n",
    "    avg(g.diff)\n",
    "from gaps g \n",
    "left join shipping.customer c on g.cust_id = c.cust_id\n",
    "group by 1"
   ]
  },
  {
   "cell_type": "markdown",
   "metadata": {},
   "source": [
    "Перевести это на человеческий язык можно так:\n",
    "\n",
    "(partition by s.cust_id order by s.ship_date) — в группировке по пользователю и сортировке по дате\n",
    "lead(s.ship_date) — берем следующую дату доставки\n",
    "Далее из следующей вычитается текущая, чтобы найти разницу между двумя доставками, далее полученные значения обычной агрегатной функцией усредняются и получается результат. Для последней доставки пользователя lead(s.ship_date) будет null, так как следующей не существует.\n",
    "Функция lag работает аналогично, только берет предыдущее значение. Этот же запрос можно переписать следующим образом, используя lag."
   ]
  },
  {
   "cell_type": "code",
   "execution_count": null,
   "metadata": {},
   "outputs": [],
   "source": [
    "with gaps as \n",
    "(\n",
    "select \n",
    "    s.cust_id,\n",
    "    s.ship_date - lag (s.ship_date) over (partition by s.cust_id order by s.ship_date) diff\n",
    "from \n",
    "    shipping.shipment s\n",
    ")\n",
    "select \n",
    "    c.cust_name,\n",
    "    avg(g.diff)\n",
    "from gaps g \n",
    "left join shipping.customer c on g.cust_id = c.cust_id\n",
    "group by 1"
   ]
  },
  {
   "cell_type": "markdown",
   "metadata": {},
   "source": [
    "Если есть необходимость делать шаг не в одну, а в другое число записей, можно передать целым числом параметр шага, с которым будет браться следующее/предыдущее значение."
   ]
  },
  {
   "cell_type": "markdown",
   "metadata": {},
   "source": [
    "### 6.7. Плавающие окна\n",
    "Любая из оконных функций может быть ограничена числом строк, на которых будет идти вычисление. По умолчанию ограничение стоит от первой строки сортировки до текущей, поэтому count на каждой новой строке вырастает на значение конкретного месяца. \n",
    "\n",
    "Этими параметрами можно управлять, используя такой параметр, как рамки. После описания оконной функции и раздела over можно описать рамки двумя способами: через строки или через интервал.  \n",
    "\n",
    "**Синтаксис**\n",
    "Давайте разберем синтаксис.\n",
    "\n",
    "- имя_функции (выражение) [ FILTER ( WHERE условие_фильтра ) ] OVER ( определение_окна ) { RANGE | ROWS } начало_рамки\n",
    "- имя_функции (выражение) [ FILTER ( WHERE условие_фильтра ) ] OVER ( определение_окна ) { RANGE | ROWS } { RANGE | ROWS } BETWEEN начало_рамки AND конец_рамки.  \n",
    "\n",
    "Возможные значения для начала и конца рамки:\n",
    "\n",
    "- UNBOUNDED PRECEDING\n",
    "- значение PRECEDING\n",
    "- CURRENT ROW\n",
    "- значение FOLLOWING\n",
    "- UNBOUNDED FOLLOWING  \n",
    "\n",
    "Определение рамки задаёт набор строк, образующих рамку окна. Рамка окна представляет собой подмножество строк текущего раздела и используется для оконных функций, работающих с рамкой, а не со всем разделом. Рамку можно указать в режимах **RANGE** или **ROWS**; в любом случае она начинается с положения начало_рамки и заканчивается положением конец_рамки. Если конец_рамки опущен, подразумевается CURRENT ROW (текущая строка).\n",
    "\n",
    "По умолчанию рамка определяется как **RANGE UNBOUNDED PRECEDING**, что равносильно расширенному определению RANGE BETWEEN UNBOUNDED PRECEDING AND CURRENT ROW. С указанием ORDER BY это означает, что рамка будет включать все строки от начала раздела до последней строки, родственной текущей (для ORDER BY). Без ORDER BY в рамку включаются все строки раздела, так как все они считаются родственными текущей.\n",
    "\n",
    "Если начало_рамки задано как **UNBOUNDED PRECEDING**, рамка начинается с первой строки раздела, а если конец_рамки определён как **UNBOUNDED FOLLOWING**, рамка заканчивается последней строкой раздела.\n",
    "\n",
    "В режиме **RANGE** начало_рамки, заданное как CURRENT ROW, определяет в качестве начала первую родственную строку (строку, которую ORDER BY считает равной текущей), тогда как конец_рамки, заданный как CURRENT ROW, определяет концом рамки последнюю родственную (для ORDER BY) строку.\n",
    "\n",
    "В режиме **ROWS** вариант CURRENT ROW просто обозначает текущую строку.\n",
    "\n",
    "Варианты значение **PRECEDING** и значение **FOLLOWING** допускаются только в режиме ROWS. Они указывают, что рамка начинается или заканчивается со сдвигом на заданное число строк перед или после заданной строки. Здесь значение должно быть целочисленным выражением, не содержащим переменные, агрегатные или оконные функции, и может быть нулевым, что будет означать выбор текущей строки.\n",
    "\n",
    "**Ограничения**  \n",
    "\n",
    "Действуют также ограничения: начало_рамки не может определяться как UNBOUNDED FOLLOWING, а конец_рамки — UNBOUNDED PRECEDING, и конец_рамки не может определяться раньше, чем начало_рамки — например, запись RANGE BETWEEN CURRENT ROW AND значение PRECEDING недопустима."
   ]
  },
  {
   "cell_type": "code",
   "execution_count": null,
   "metadata": {},
   "outputs": [],
   "source": []
  }
 ],
 "metadata": {
  "kernelspec": {
   "display_name": "Python 3",
   "language": "python",
   "name": "python3"
  },
  "language_info": {
   "codemirror_mode": {
    "name": "ipython",
    "version": 3
   },
   "file_extension": ".py",
   "mimetype": "text/x-python",
   "name": "python",
   "nbconvert_exporter": "python",
   "pygments_lexer": "ipython3",
   "version": "3.8.3"
  }
 },
 "nbformat": 4,
 "nbformat_minor": 4
}
