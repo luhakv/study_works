{
 "cells": [
  {
   "cell_type": "markdown",
   "metadata": {},
   "source": [
    "# Основы SQL \n",
    "## Юнит 5. РАБОТА С БАЗАМИ ДАННЫХ. SQL\n",
    "### Skillfactory: DSPR-19"
   ]
  },
  {
   "cell_type": "markdown",
   "metadata": {},
   "source": [
    "_Работа с Metabase_"
   ]
  },
  {
   "cell_type": "markdown",
   "metadata": {},
   "source": [
    "### 1.6. Таблицы\n",
    "\n",
    "### Задание 1.6.2\n",
    "Напишите запрос, который получает столбцы book_id, book_name, book_average_rating (именно в такой последовательности) из таблицы books.\n",
    "_(Не забывайте перед отправкой кода проверять его работоспособность и соответствие условиям в Metabase!)_"
   ]
  },
  {
   "cell_type": "markdown",
   "metadata": {},
   "source": [
    "### Как с помощью SQL получить данные из таблицы?  \n",
    "Чтобы получить данные из определённой таблицы, в SQL используется ключевое слово FROM. Например, чтобы получить данные из столбцов author, book_name, book_id из таблицы books, нужно написать:"
   ]
  },
  {
   "cell_type": "code",
   "execution_count": null,
   "metadata": {},
   "outputs": [],
   "source": [
    "select author, book_name, book_id\n",
    "from books"
   ]
  },
  {
   "cell_type": "markdown",
   "metadata": {},
   "source": [
    "SELECT + FROM\n",
    "Синтаксис select + from достаточно прост:\n",
    "\n",
    "select (названия столбцов через запятую) from (название таблицы)\n",
    "\n",
    "Если же мы хотим получить данные сразу из всех столбцов, нет смысла перечислять их все. Вместо названий столбцов мы просто введем знак *:"
   ]
  },
  {
   "cell_type": "code",
   "execution_count": null,
   "metadata": {},
   "outputs": [],
   "source": [
    "select *\n",
    "from books"
   ]
  },
  {
   "cell_type": "markdown",
   "metadata": {},
   "source": [
    "По умолчанию при выводе столбцы называются так же, как в исходной таблице. Для переименования нужно в SELECT после названия столбца из таблицы написать as:"
   ]
  },
  {
   "cell_type": "code",
   "execution_count": null,
   "metadata": {},
   "outputs": [],
   "source": [
    "select author as author_name \n",
    "from books"
   ]
  },
  {
   "cell_type": "markdown",
   "metadata": {},
   "source": [
    "С колонками можно проводить математические операции. Например, если мы хотим к рейтингу каждой книги добавить 3, нужно сделать следующее:"
   ]
  },
  {
   "cell_type": "code",
   "execution_count": null,
   "metadata": {},
   "outputs": [],
   "source": [
    "select book_average_rating, book_average_rating + 3 as rating_plus_three\n",
    "from books"
   ]
  },
  {
   "cell_type": "markdown",
   "metadata": {},
   "source": [
    "С числовыми столбцами мы тоже можем проводить математические операции:"
   ]
  },
  {
   "cell_type": "code",
   "execution_count": null,
   "metadata": {},
   "outputs": [],
   "source": [
    "select book_average_rating*book_ratings_count/(book_id + 20.)\n",
    "from books"
   ]
  },
  {
   "cell_type": "markdown",
   "metadata": {},
   "source": [
    "#### Что делать в ситуации деления на ноль?\n",
    "Чтобы СУБД не возвращала ошибку, а просто на место деления на 0 ставила NULL (отсутствие значения), существует функция NULLIF(expr1, expr2). Эта функция при равенстве expr1 и expr2 возвращает NULL, а иначе — expr1. Пример использования:\n"
   ]
  },
  {
   "cell_type": "code",
   "execution_count": null,
   "metadata": {},
   "outputs": [],
   "source": [
    "select book_id, book_average_rating/NULLIF((book_id - 20.), 0)\n",
    "from books"
   ]
  },
  {
   "cell_type": "markdown",
   "metadata": {},
   "source": [
    "### Задание 1.6.2\n",
    "Напишите запрос, который получает столбцы book_id, book_name, book_average_rating (именно в такой последовательности) из таблицы books.\n",
    "\n",
    "(Не забывайте перед отправкой кода проверять его работоспособность и соответствие условиям в Metabase!)"
   ]
  },
  {
   "cell_type": "code",
   "execution_count": null,
   "metadata": {},
   "outputs": [],
   "source": [
    "select book_id, book_name, book_average_rating\n",
    "from books"
   ]
  },
  {
   "cell_type": "markdown",
   "metadata": {},
   "source": [
    "### Задание 1.6.3\n",
    "Напишите запрос, который получает все столбцы из таблицы books."
   ]
  },
  {
   "cell_type": "code",
   "execution_count": null,
   "metadata": {},
   "outputs": [],
   "source": [
    "select *\n",
    "from books"
   ]
  },
  {
   "cell_type": "markdown",
   "metadata": {},
   "source": [
    "### Задание 1.7.1\n",
    "Какие столбцы таблицы books имеют целочисленный тип?\n",
    "\n",
    "Ответ:  \n",
    "- book_id\n",
    "- publishing_year\n",
    "- book_ratings_count"
   ]
  },
  {
   "cell_type": "markdown",
   "metadata": {},
   "source": [
    "Для обозначения символьных типов данных используют одинарные кавычки, например, так: SELECT 'Hello, world!' . Двойные кавычки же используют, когда используют название колонок, в котором есть пробелы, либо символы из другого языка, либо когда они конфликтуют с ключевыми словами СУБД. Например: "
   ]
  },
  {
   "cell_type": "code",
   "execution_count": null,
   "metadata": {},
   "outputs": [],
   "source": [
    "select 1 as \"SELECT\", 'hi' as \"Название с пробелом\";"
   ]
  },
  {
   "cell_type": "markdown",
   "metadata": {},
   "source": [
    "### Задание 1.7.2\n",
    "Сколько столбцов с символьными типами данных (не являющихся числом) содержится в таблице books?  \n",
    "\n",
    "Ответ: 6"
   ]
  },
  {
   "cell_type": "markdown",
   "metadata": {},
   "source": [
    "### Задание 1.7.3\n",
    "Содержатся ли в таблице books столбцы в формате даты и/или времени или в формате bool?\n",
    "\n",
    "Ответ: нет"
   ]
  },
  {
   "cell_type": "markdown",
   "metadata": {},
   "source": [
    "#### Различные типы данных можно переводить друг в друга с помощью оператора :\n",
    "\n"
   ]
  },
  {
   "cell_type": "code",
   "execution_count": null,
   "metadata": {},
   "outputs": [],
   "source": [
    "select 2.13::int; --Перевод real в int\n",
    "select '2018-3-1'::date; --Перевод строки в дату\n",
    "select true::int::numeric; --Перевод bool в int, а потом в numeric \n",
    "                \n",
    "select 2 = 3; #false\n",
    "select 3 < 5; #true\n",
    "select 'hi' != 'hello'; #true\n",
    "select 3 >= -23;  #true\n",
    "\n",
    "select author = book_name as author_book\n",
    "from books;\n",
    "\n",
    "#false\n",
    "#false\n",
    "#false\n",
    "#false\n",
    "..."
   ]
  },
  {
   "cell_type": "markdown",
   "metadata": {},
   "source": [
    "### 1.8. Кортеж"
   ]
  },
  {
   "cell_type": "markdown",
   "metadata": {},
   "source": [
    "Для поиска по строкам (кортежам) используется ключевое слово WHERE, после которого перечисляются условия на кортежи данных. Where идёт после ключевого слова FROM. Например:"
   ]
  },
  {
   "cell_type": "code",
   "execution_count": null,
   "metadata": {},
   "outputs": [],
   "source": [
    "select book_name, author\n",
    "from books \n",
    "where author = 'Charlaine Harris';"
   ]
  },
  {
   "cell_type": "markdown",
   "metadata": {},
   "source": [
    "Условия можно комбинировать друг с другом с помощью скобок, and и or. Например, если мы хотим получить только книги Charlaine Harris с рейтингом выше 3 или количеством оценок больше 1000, мы напишем:"
   ]
  },
  {
   "cell_type": "code",
   "execution_count": null,
   "metadata": {},
   "outputs": [],
   "source": [
    "select * \n",
    "from books \n",
    "where author = 'Charlaine Harris' \n",
    "    and (book_average_rating > 3 or book_ratings_count > 1000);"
   ]
  },
  {
   "cell_type": "markdown",
   "metadata": {},
   "source": [
    "### Задание 1.8.1\n",
    "Что произойдет, если мы уберём скобки из описания условия?\n",
    "\n",
    "Ответ: \n",
    "- выведутся все книги автора Charlaine Harris со средним рейтингом больше 3\n",
    "- выведутся любые книги любых авторов с количеством оценок больше 1000\n"
   ]
  },
  {
   "cell_type": "markdown",
   "metadata": {},
   "source": [
    "### Отрицание условия\n",
    "Кстати, отрицать можно любое условие. Например, чтобы вывести книги с рейтингом меньше 4, можно написать условие where book_average_rating < 4 или where not book_average_rating >= 4.\n",
    "\n",
    "**Оператор BETWEEN**\n",
    "Для облегчения написания условий существует оператор BETWEEN. Он указывает интервал, внутри которого должны быть элементы:\n",
    "\n",
    "**book_average_rating between 3 and 4**\n",
    "\n",
    "— это то же самое, что и\n",
    "\n",
    "**book_average_rating >= 3 and book_average_rating <= 4**\n",
    "\n",
    "Согласитесь, оператор BETWEEN выглядит гораздо понятнее. Здесь стоит обратить внимание на то, что between использует именно >= и  <=, а не > и <!"
   ]
  },
  {
   "cell_type": "code",
   "execution_count": null,
   "metadata": {},
   "outputs": [],
   "source": [
    "select book_id\n",
    "from books\n",
    "where book_id between 100 and 500 and book_average_rating between 3.2 and 3.4;"
   ]
  },
  {
   "cell_type": "markdown",
   "metadata": {},
   "source": [
    "### Задание 1.8.2\n",
    "Сколько строк выведет запрос выше?  \n",
    "\n",
    "Ответ: 3\n"
   ]
  },
  {
   "cell_type": "markdown",
   "metadata": {},
   "source": [
    "### Оператор NULL\n",
    "Для проверки на пустые строки существует специальный оператор **NULL**.\n",
    "\n",
    "С его помощью можно выводить непустые данные с помощью is not null, либо пустые с помощью is null. Например, мы хотим узнать, для каких книг не указан язык в нашей базе данных. Для этого зададим запрос:"
   ]
  },
  {
   "cell_type": "code",
   "execution_count": null,
   "metadata": {},
   "outputs": [],
   "source": [
    "select * \n",
    "from books \n",
    "where language_code is null;"
   ]
  },
  {
   "cell_type": "markdown",
   "metadata": {},
   "source": [
    "### Задание 1.8.3\n",
    "Выведите столбцы book_name и publishing_year для всех книг, у которых рейтинг больше 4.5.\n",
    "\n",
    "Напомним, что все запросы перед отправкой лучше проверить в Metabase на работоспособность и корректный вывод."
   ]
  },
  {
   "cell_type": "code",
   "execution_count": null,
   "metadata": {},
   "outputs": [],
   "source": [
    "select book_name, publishing_year \n",
    "from books \n",
    "where book_average_rating > 4.5"
   ]
  },
  {
   "cell_type": "markdown",
   "metadata": {},
   "source": [
    "### Задание 1.8.4\n",
    "Выведите столбцы book_name, publishing_year, author для всех книг, у которых рейтинг больше 4.5 и количество оценок меньше 100000."
   ]
  },
  {
   "cell_type": "code",
   "execution_count": null,
   "metadata": {},
   "outputs": [],
   "source": [
    "select book_name, publishing_year, author \n",
    "from books \n",
    "where book_average_rating > 4.5 and book_ratings_count < 100000"
   ]
  },
  {
   "cell_type": "markdown",
   "metadata": {},
   "source": [
    "### Задание 1.8.5\n",
    "Выведите все столбцы для книг, у которых значения года публикации не лежат в промежутке от 1950 до 1965 года или у которых пустой год публикации (используйте операторы BETWEEN и IS NULL)."
   ]
  },
  {
   "cell_type": "code",
   "execution_count": null,
   "metadata": {},
   "outputs": [],
   "source": [
    "select *\n",
    "from books \n",
    "where publishing_year is null or (not publishing_year between 1950 and 1965) "
   ]
  },
  {
   "cell_type": "markdown",
   "metadata": {},
   "source": [
    "### Задание 1.8.6\n",
    "Выведите все столбцы для книг, у которых (language_code = 'eng' или language_code = 'en-US' и больше 10000 оценок), либо у которых (жанр 'fiction' или год публикации 1957). Скобки в условии указывают порядок действий."
   ]
  },
  {
   "cell_type": "code",
   "execution_count": null,
   "metadata": {},
   "outputs": [],
   "source": [
    "select *\n",
    "from books \n",
    "where ((language_code = 'eng' or language_code = 'en-US' ) and book_ratings_count > 10000) or (genre = 'fiction' or publishing_year = 1957)"
   ]
  },
  {
   "cell_type": "markdown",
   "metadata": {},
   "source": [
    "### Задание 1.8.7\n",
    "Выведите столбцы author и book_id для всех строк, у которых либо ((author_rating Intermediate или Novice) и рейтинг книги >= 4), либо (рейтинг книги > 4.5 и год публикации меньше 1955), либо количество оценок книги больше 3000000."
   ]
  },
  {
   "cell_type": "code",
   "execution_count": null,
   "metadata": {},
   "outputs": [],
   "source": [
    "select author, book_id\n",
    "from books \n",
    "where ((author_rating = 'Intermediate' or author_rating = 'Novice') and book_average_rating >= 4) or (book_average_rating > 4.5 and publishing_year < 1955) or (book_ratings_count > 3000000)"
   ]
  },
  {
   "cell_type": "markdown",
   "metadata": {},
   "source": [
    "### 1.9. ORDER BY\n",
    "По умолчанию сортировка происходит по возрастанию asc, однако можно передать после названия колонки параметр desc, чтобы сортировка происходила по убыванию.\n",
    "\n"
   ]
  },
  {
   "cell_type": "code",
   "execution_count": null,
   "metadata": {},
   "outputs": [],
   "source": [
    "select author, book_name, publishing_year \n",
    "from books \n",
    "where publishing_year > 1980 \n",
    "order by author desc, book_name;"
   ]
  },
  {
   "cell_type": "markdown",
   "metadata": {},
   "source": [
    "### Задание 1.9.1\n",
    "Укажите год публикации 10-й книги, полученной последним запросом.\n",
    "\n",
    "Ответ: 2011\n",
    "\n",
    "### Упрощение работы с ORDER BY\n",
    "Для упрощения работы с ORDER BY можно использовать не названия столбцов, а номер столбца в выгружаемых данных. Например:"
   ]
  },
  {
   "cell_type": "code",
   "execution_count": null,
   "metadata": {},
   "outputs": [],
   "source": [
    "select author, book_id\n",
    "from books\n",
    "order by 2;"
   ]
  },
  {
   "cell_type": "markdown",
   "metadata": {},
   "source": [
    "Также в ORDER BY помимо параметра desc/asc можно передавать параметр NULLS FIRST / NULLS LAST, который показывает, в начало списка или в конец ставить пустые значения сортируемой колонки."
   ]
  },
  {
   "cell_type": "code",
   "execution_count": null,
   "metadata": {},
   "outputs": [],
   "source": [
    "select author, language_code, book_id\n",
    "from books\n",
    "where author = 'Ally Condie'\n",
    "order by author, language_code asc nulls first;"
   ]
  },
  {
   "cell_type": "markdown",
   "metadata": {},
   "source": [
    "Также можно сортировать данные по тем столбцам, которые не попадают в итоговый запрос. Например, если нам не нужны book_id, но нужен порядок book_id, мы можем написать:"
   ]
  },
  {
   "cell_type": "code",
   "execution_count": null,
   "metadata": {},
   "outputs": [],
   "source": [
    "select author, publishing_year, book_name\n",
    "from books\n",
    "order by book_id desc;"
   ]
  },
  {
   "cell_type": "markdown",
   "metadata": {},
   "source": [
    "Внимание! Сортировку по номеру столбца стоит использовать с осторожностью, поскольку при изменении вывода в SELECT всё может сбиться. При добавлении новых столбцов в SELECT нужно проверить и при необходимости поправить номера столбцов в ORDER BY."
   ]
  },
  {
   "cell_type": "markdown",
   "metadata": {},
   "source": [
    "### Задание 1.9.2\n",
    "Вам нужно вывести все столбцы таблицы books, где publishing_year = 1960, и отсортировать их в порядке убывания по названию книги. Какой запрос вы зададите?"
   ]
  },
  {
   "cell_type": "code",
   "execution_count": null,
   "metadata": {},
   "outputs": [],
   "source": [
    "select *\n",
    "from books\n",
    "where publishing_year = 1960\n",
    "order by book_name desc"
   ]
  },
  {
   "cell_type": "markdown",
   "metadata": {},
   "source": [
    "### Задание 1.9.3\n",
    "Теперь выведите столбцы author, book_name для всех строк, где средний рейтинг книги больше 4 и language_code = 'eng', отсортированные по рейтингу книги и по количеству оценок книги."
   ]
  },
  {
   "cell_type": "code",
   "execution_count": null,
   "metadata": {},
   "outputs": [],
   "source": [
    "select author, book_name\n",
    "from books\n",
    "where book_average_rating > 4 and  language_code = 'eng'\n",
    "order by book_average_rating, book_ratings_count"
   ]
  },
  {
   "cell_type": "markdown",
   "metadata": {},
   "source": [
    "### 1.10. LIMIT и OFFSET"
   ]
  },
  {
   "cell_type": "markdown",
   "metadata": {},
   "source": [
    "### Задание 1.10.1\n",
    "Предположим, вам нужно вывести рейтинг топ-3 книги по оценкам читателей. Какие два ключевых слова вы будете использовать?\n",
    "\n",
    "Ответ:   \n",
    "- LIMIT\n",
    "- ORDER BY"
   ]
  },
  {
   "cell_type": "code",
   "execution_count": null,
   "metadata": {},
   "outputs": [],
   "source": [
    "select book_name, book_average_rating \n",
    "from books \n",
    "order by book_average_rating desc \n",
    "limit 3;"
   ]
  },
  {
   "cell_type": "markdown",
   "metadata": {},
   "source": [
    "### Задание 1.10.2\n",
    "Найдите в базе данных название и год издания топ-20 самых старых по году издания книг. Какой запрос вы использовали ? Если года совпадают, сортировка идёт по имени книги."
   ]
  },
  {
   "cell_type": "code",
   "execution_count": null,
   "metadata": {},
   "outputs": [],
   "source": [
    "select book_name, publishing_year\n",
    "from books\n",
    "order by publishing_year, book_name \n",
    "limit 20\n"
   ]
  },
  {
   "cell_type": "markdown",
   "metadata": {},
   "source": [
    "### Задание 1.10.3\n",
    "Среди книг с author_rating = 'Intermediate' найдите названия тех, которые занимают в рейтинге книг с 20 по 47 место, и отсортируйте книги по убыванию рейтинга. Укажите запрос ниже."
   ]
  },
  {
   "cell_type": "code",
   "execution_count": null,
   "metadata": {},
   "outputs": [],
   "source": [
    "select book_name\n",
    "from books\n",
    "where author_rating = 'Intermediate' \n",
    "order by book_average_rating desc\n",
    "offset 19 limit 28"
   ]
  },
  {
   "cell_type": "markdown",
   "metadata": {},
   "source": [
    "### 1.11. Подводим итоги"
   ]
  },
  {
   "cell_type": "markdown",
   "metadata": {},
   "source": [
    "### Задание 1.11.1\n",
    "1. Антон Павлович назначил плановую инвентаризацию книг. Было решено начать ее с проверки самых новых книг по году издания. Упорядочив имена авторов этих книг в алфавитном порядке, вы обнаруживаете, что на первом месте значится…  \n",
    "\n",
    "Ответ: B. A. Paris"
   ]
  },
  {
   "cell_type": "code",
   "execution_count": null,
   "metadata": {},
   "outputs": [],
   "source": [
    "select author, publishing_year\n",
    "from books\n",
    "order by publishing_year desc"
   ]
  },
  {
   "cell_type": "markdown",
   "metadata": {},
   "source": [
    "2. Антон Павлович считает, что покупатели более высоко оценивают классические книги, чем современную литературу. На основании этого предположения он задумал устроить сразу несколько мероприятий. Вам небезразлична судьба магазина, и поэтому вы решаете проверить гипотезу Антона Павловича. Узнайте, в каких годах были выпущены книги с рейтингом выше 4.7?\n",
    "\n",
    "Ответ: 2014 и 2016"
   ]
  },
  {
   "cell_type": "code",
   "execution_count": null,
   "metadata": {},
   "outputs": [],
   "source": [
    "select publishing_year\n",
    "from books\n",
    "where book_average_rating  > 4.7"
   ]
  },
  {
   "cell_type": "markdown",
   "metadata": {},
   "source": [
    "3. Антон Павлович утверждает, что книги, занимающие 5 последних мест в топ-100 книг по количеству оценок, написаны на английском языке. Неужели он прав?\n",
    "\n",
    "Ответ: Да"
   ]
  },
  {
   "cell_type": "code",
   "execution_count": null,
   "metadata": {},
   "outputs": [],
   "source": [
    "select book_name, language_code\n",
    "from books\n",
    "order by book_ratings_count desc\n",
    "limit 100"
   ]
  },
  {
   "cell_type": "markdown",
   "metadata": {},
   "source": [
    "### Задание 1.11.2\n",
    "Требования увеличиваются с каждым днем. Сегодня с утра пораньше Антон Павлович запросил у вас список авторов и их книг, вышедших в интервале с 1950 по 2000 гг. При этом список не должен включать топ 10 книг по количеству оценок.\n",
    "\n",
    "Напишите свой запрос к базе данных."
   ]
  },
  {
   "cell_type": "code",
   "execution_count": null,
   "metadata": {},
   "outputs": [],
   "source": [
    "select author, book_name\n",
    "from books\n",
    "where publishing_year between 1950 and 2000\n",
    "order by book_ratings_count desc\n",
    "offset 10"
   ]
  },
  {
   "cell_type": "markdown",
   "metadata": {},
   "source": [
    "Конец модуля"
   ]
  },
  {
   "cell_type": "code",
   "execution_count": null,
   "metadata": {},
   "outputs": [],
   "source": []
  }
 ],
 "metadata": {
  "kernelspec": {
   "display_name": "Python 3",
   "language": "python",
   "name": "python3"
  },
  "language_info": {
   "codemirror_mode": {
    "name": "ipython",
    "version": 3
   },
   "file_extension": ".py",
   "mimetype": "text/x-python",
   "name": "python",
   "nbconvert_exporter": "python",
   "pygments_lexer": "ipython3",
   "version": "3.8.3"
  }
 },
 "nbformat": 4,
 "nbformat_minor": 4
}
